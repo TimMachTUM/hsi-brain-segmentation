{
 "cells": [
  {
   "cell_type": "markdown",
   "metadata": {},
   "source": [
    "# Domain Adaptation"
   ]
  },
  {
   "cell_type": "code",
   "execution_count": 1,
   "metadata": {},
   "outputs": [
    {
     "name": "stdout",
     "output_type": "stream",
     "text": [
      "Number of samples in the training set: 640, validation set: 60\n",
      "Number of samples in the test set: 200\n",
      "4 5\n"
     ]
    }
   ],
   "source": [
    "from dataset import Dataset, build_FIVES_dataloaders, build_hsi_dataloader, HSIDataset\n",
    "from torch.utils.data import DataLoader\n",
    "import torch\n",
    "\n",
    "trainloader_source, validationloader_source, testloader_source = (\n",
    "    build_FIVES_dataloaders(batch_size=8, width=224, height=224)\n",
    ")\n",
    "\n",
    "\n",
    "trainloader_target = build_hsi_dataloader(\n",
    "    batch_size=8,\n",
    "    train_split=1,\n",
    "    val_split=0,\n",
    "    test_split=0,\n",
    "    window=(400, 1100),\n",
    "    exclude_labeled_data=True,\n",
    ")[0]\n",
    "\n",
    "path = \"./data/helicoid_with_labels\"\n",
    "testset = HSIDataset(path, with_gt=True, window=(400, 1100))\n",
    "testset.normalize_dataset()\n",
    "testloader_target = DataLoader(testset, batch_size=1, shuffle=False)\n",
    "print(len(trainloader_target), len(testloader_target))"
   ]
  },
  {
   "cell_type": "code",
   "execution_count": null,
   "metadata": {},
   "outputs": [
    {
     "name": "stderr",
     "output_type": "stream",
     "text": [
      "Failed to detect the name of this notebook, you can set it manually with the WANDB_NOTEBOOK_NAME environment variable to enable code saving.\n",
      "\u001b[34m\u001b[1mwandb\u001b[0m: Currently logged in as: \u001b[33mtim-mach\u001b[0m (\u001b[33midp2024\u001b[0m). Use \u001b[1m`wandb login --relogin`\u001b[0m to force relogin\n"
     ]
    },
    {
     "data": {
      "text/html": [
       "wandb version 0.18.5 is available!  To upgrade, please run:\n",
       " $ pip install wandb --upgrade"
      ],
      "text/plain": [
       "<IPython.core.display.HTML object>"
      ]
     },
     "metadata": {},
     "output_type": "display_data"
    },
    {
     "data": {
      "text/html": [
       "Tracking run with wandb version 0.16.6"
      ],
      "text/plain": [
       "<IPython.core.display.HTML object>"
      ]
     },
     "metadata": {},
     "output_type": "display_data"
    },
    {
     "data": {
      "text/html": [
       "Run data is saved locally in <code>/home/home/tim_ivan/idp/wandb/run-20241021_143051-ejchnzjb</code>"
      ],
      "text/plain": [
       "<IPython.core.display.HTML object>"
      ]
     },
     "metadata": {},
     "output_type": "display_data"
    },
    {
     "data": {
      "text/html": [
       "Syncing run <strong><a href='https://wandb.ai/idp2024/domain-adaptation/runs/ejchnzjb' target=\"_blank\">Unet-resnet34</a></strong> to <a href='https://wandb.ai/idp2024/domain-adaptation' target=\"_blank\">Weights & Biases</a> (<a href='https://wandb.me/run' target=\"_blank\">docs</a>)<br/>"
      ],
      "text/plain": [
       "<IPython.core.display.HTML object>"
      ]
     },
     "metadata": {},
     "output_type": "display_data"
    },
    {
     "data": {
      "text/html": [
       " View project at <a href='https://wandb.ai/idp2024/domain-adaptation' target=\"_blank\">https://wandb.ai/idp2024/domain-adaptation</a>"
      ],
      "text/plain": [
       "<IPython.core.display.HTML object>"
      ]
     },
     "metadata": {},
     "output_type": "display_data"
    },
    {
     "data": {
      "text/html": [
       " View run at <a href='https://wandb.ai/idp2024/domain-adaptation/runs/ejchnzjb' target=\"_blank\">https://wandb.ai/idp2024/domain-adaptation/runs/ejchnzjb</a>"
      ],
      "text/plain": [
       "<IPython.core.display.HTML object>"
      ]
     },
     "metadata": {},
     "output_type": "display_data"
    },
    {
     "name": "stdout",
     "output_type": "stream",
     "text": [
      "Epoch 1, Train Loss: 0.0000\n",
      "Evaluating model performance on source data\n"
     ]
    },
    {
     "name": "stderr",
     "output_type": "stream",
     "text": [
      "/home/home/tim_ivan/idp/.venv/lib/python3.8/site-packages/torch/nn/modules/conv.py:456: UserWarning: Plan failed with a cudnnException: CUDNN_BACKEND_EXECUTION_PLAN_DESCRIPTOR: cudnnFinalize Descriptor Failed cudnn_status: CUDNN_STATUS_NOT_SUPPORTED (Triggered internally at ../aten/src/ATen/native/cudnn/Conv_v8.cpp:919.)\n",
      "  return F.conv2d(input, weight, bias, self.stride,\n"
     ]
    },
    {
     "name": "stdout",
     "output_type": "stream",
     "text": [
      "Precision: 0.0055, Recall: 0.4290, F1 Score: 0.0109, Dice Score: 0.0109, Accuracy: 0.5277\n",
      "Evaluating model performance on target data\n",
      "Precision: 0.2103, Recall: 0.2039, F1 Score: 0.1962, Dice Score: 0.1962, Accuracy: 0.6845\n",
      "Epoch 1, Validation Loss Source: 0.8765, Validation Loss Target: 0.6997\n",
      "Epoch 2, Train Loss: 0.0000\n",
      "Evaluating model performance on source data\n",
      "Precision: 0.0055, Recall: 0.4290, F1 Score: 0.0109, Dice Score: 0.0109, Accuracy: 0.5277\n",
      "Evaluating model performance on target data\n",
      "Precision: 0.2103, Recall: 0.2039, F1 Score: 0.1962, Dice Score: 0.1962, Accuracy: 0.6845\n",
      "Epoch 2, Validation Loss Source: 0.8765, Validation Loss Target: 0.6997\n",
      "Epoch 3, Train Loss: 0.0000\n"
     ]
    }
   ],
   "source": [
    "from segmentation_util import build_segmentation_model, build_criterion, build_optimizer\n",
    "import matplotlib.pyplot as plt\n",
    "from torch.autograd import Function\n",
    "from torchvision import models\n",
    "import torch.nn as nn\n",
    "import torch\n",
    "from domain_adaptation_training import model_pipeline\n",
    "from HSI_Net import ModelWithDomainAdaptation, DomainClassifierFC\n",
    "\n",
    "encoder = \"resnet34\"\n",
    "architecture = \"Unet\"\n",
    "device = torch.device(\"cuda:2\" if torch.cuda.is_available() else \"cpu\")\n",
    "lambda_param = 0.5\n",
    "learning_rate = 0.0157\n",
    "epochs = 10\n",
    "\n",
    "segmentation_model = build_segmentation_model(encoder, architecture, device)\n",
    "domain_classifier = DomainClassifierFC(num_domains=2).to(device)\n",
    "model = ModelWithDomainAdaptation(\n",
    "    segmentation_model, lambda_param=lambda_param, domain_classifier=domain_classifier\n",
    ").to(device)\n",
    "\n",
    "criterion = build_criterion(\"Dice\")\n",
    "optimizer = build_optimizer(model, learning_rate=learning_rate, optimizer=\"Adam\")\n",
    "\n",
    "config = {\n",
    "    \"model\": \"{architecture}-{encoder}\".format(\n",
    "        architecture=architecture, encoder=encoder\n",
    "    ),\n",
    "    \"encoder\": encoder,\n",
    "    \"architecture\": architecture,\n",
    "    \"learning_rate\": learning_rate,\n",
    "    \"optimizer\": \"Adam\",\n",
    "    \"lambda_param\": lambda_param,\n",
    "    \"batch_size_source\": trainloader_source.batch_size,\n",
    "    \"batch_size_target\": trainloader_target.batch_size,\n",
    "    \"epochs\": epochs,\n",
    "}\n",
    "\n",
    "model, train_losses, val_losses_source, val_losses_target = model_pipeline(\n",
    "    model,\n",
    "    trainloader_source,\n",
    "    validationloader_source,\n",
    "    testloader_source,\n",
    "    trainloader_target,\n",
    "    testloader_target,\n",
    "    criterion,\n",
    "    optimizer,\n",
    "    config,\n",
    "    project=\"domain-adaptation\",\n",
    "    epochs=epochs,\n",
    "    model_name=config[\"model\"],\n",
    "    device=device,\n",
    "    batch_print=1,\n",
    "    evaluate=True,\n",
    "    with_overlays=True,\n",
    ")\n",
    "\n",
    "# Plotting the training and validation loss curves\n",
    "plt.figure(figsize=(10, 6))\n",
    "plt.plot(train_losses, label=\"Combined Training Loss\")\n",
    "plt.plot(val_losses_source, label=\"Validation Loss Source\")\n",
    "plt.plot(val_losses_target, label=\"Validation Loss Target\")\n",
    "plt.xlabel(\"Epochs\")\n",
    "plt.ylabel(\"Loss\")\n",
    "plt.title(\"Training and Validation Loss Curves\")\n",
    "plt.legend()\n",
    "plt.show()"
   ]
  }
 ],
 "metadata": {
  "kernelspec": {
   "display_name": ".venv",
   "language": "python",
   "name": "python3"
  },
  "language_info": {
   "codemirror_mode": {
    "name": "ipython",
    "version": 3
   },
   "file_extension": ".py",
   "mimetype": "text/x-python",
   "name": "python",
   "nbconvert_exporter": "python",
   "pygments_lexer": "ipython3",
   "version": "3.8.10"
  }
 },
 "nbformat": 4,
 "nbformat_minor": 2
}
