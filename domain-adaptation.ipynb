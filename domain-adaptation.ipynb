{
 "cells": [
  {
   "cell_type": "markdown",
   "metadata": {},
   "source": [
    "# Domain Adaptation"
   ]
  },
  {
   "cell_type": "code",
   "execution_count": 1,
   "metadata": {},
   "outputs": [
    {
     "name": "stdout",
     "output_type": "stream",
     "text": [
      "Number of samples in the training set: 534, validation set: 60\n",
      "Number of samples in the test set: 200\n",
      "62 5\n"
     ]
    }
   ],
   "source": [
    "from dataset import (\n",
    "    build_hsi_testloader,\n",
    "    build_hsi_dataloader,\n",
    "    HSIDataset,\n",
    "    build_FIVES_random_crops_dataloaders,\n",
    ")\n",
    "from torch.utils.data import DataLoader\n",
    "\n",
    "trainloader_source, validationloader_source, testloader_source = (\n",
    "    build_FIVES_random_crops_dataloaders(\n",
    "        batch_size=16,\n",
    "        num_channels=1,\n",
    "        load_from_path='data/FIVES_random_crops_threshold01'\n",
    "    )\n",
    ")\n",
    "\n",
    "window = (500, 600)\n",
    "target_augmented= True\n",
    "trainloader_target = build_hsi_dataloader(\n",
    "    batch_size=8,\n",
    "    train_split=1,\n",
    "    val_split=0,\n",
    "    test_split=0,\n",
    "    window=window,\n",
    "    exclude_labeled_data=True,\n",
    "    augmented=target_augmented,\n",
    "    ring_label_dir='data/helicoid_ring_labels',\n",
    ")[0]\n",
    "\n",
    "testloader_target = build_hsi_testloader(\n",
    "    batch_size=1,\n",
    "    window=window,\n",
    ")\n",
    "\n",
    "print(len(trainloader_target.dataset), len(testloader_target.dataset))"
   ]
  },
  {
   "cell_type": "markdown",
   "metadata": {},
   "source": [
    "## Evaluation of Model without Domain Adaptation on Target Testset"
   ]
  },
  {
   "cell_type": "markdown",
   "metadata": {},
   "source": [
    "### Transfer Learning"
   ]
  },
  {
   "cell_type": "code",
   "execution_count": 3,
   "metadata": {},
   "outputs": [
    {
     "name": "stdout",
     "output_type": "stream",
     "text": [
      "Precision: nan, Recall: 0.0239, F1 Score: 0.0410, Dice Score: 0.0410, Accuracy: 0.7850\n"
     ]
    },
    {
     "data": {
      "text/plain": [
       "(tensor(nan, device='cuda:3'),\n",
       " tensor(0.0239, device='cuda:3'),\n",
       " tensor(0.0410, device='cuda:3'),\n",
       " tensor(0.7850, device='cuda:3'),\n",
       " tensor(0.0410, device='cuda:3'))"
      ]
     },
     "execution_count": 3,
     "metadata": {},
     "output_type": "execute_result"
    }
   ],
   "source": [
    "from segmentation_util import evaluate_model, build_segmentation_model\n",
    "import torch\n",
    "device = torch.device(\"cuda:3\" if torch.cuda.is_available() else \"cpu\")\n",
    "model = build_segmentation_model('resnet50', 'Unet', device, in_channels=1)\n",
    "\n",
    "evaluate_model(\n",
    "    model, testloader_target, device, with_wandb=False\n",
    ")"
   ]
  },
  {
   "cell_type": "markdown",
   "metadata": {},
   "source": [
    "### Ensemble Model"
   ]
  },
  {
   "cell_type": "code",
   "execution_count": null,
   "metadata": {},
   "outputs": [
    {
     "name": "stdout",
     "output_type": "stream",
     "text": [
      "Precision: 0.5368, Recall: 0.2351, F1 Score: 0.3072, Dice Score: 0.3072, Accuracy: 0.8104\n"
     ]
    },
    {
     "data": {
      "text/plain": [
       "(tensor(0.5368, device='cuda:3'),\n",
       " tensor(0.2351, device='cuda:3'),\n",
       " tensor(0.3072, device='cuda:3'),\n",
       " tensor(0.8104, device='cuda:3'),\n",
       " tensor(0.3072, device='cuda:3'))"
      ]
     },
     "execution_count": 3,
     "metadata": {},
     "output_type": "execute_result"
    }
   ],
   "source": [
    "from HSI_Net import SegmentationModelWithWindowing\n",
    "from segmentation_util import build_segmentation_model, evaluate_model\n",
    "from ensemble_model import EnsembleModelAverage\n",
    "import segmentation_models_pytorch as smp\n",
    "import torch\n",
    "\n",
    "path = \"./data/helicoid_with_labels\"\n",
    "testset = HSIDataset(path, with_gt=True)\n",
    "testset.crop_dataset()\n",
    "testloader_target = DataLoader(testset, batch_size=1, shuffle=False)\n",
    "\n",
    "encoder = 'timm-regnetx_320'\n",
    "architecture = 'Linknet'\n",
    "device = ('cuda:5' if torch.cuda.is_available() else 'cpu')\n",
    "\n",
    "segmenter_single_channel = build_segmentation_model(encoder, architecture, device)\n",
    "segmenter_single_channel.load_state_dict(torch.load('./models/{architecture}-{encoder}-512x512-augmented-with-random-crops-single-channel-focal.pth'.format(architecture=architecture, encoder=encoder)))\n",
    "segmenter_single_channel.eval()\n",
    "\n",
    "window1 = (400, 500)\n",
    "window2 = (500, 600)\n",
    "window3 = (600, 700)\n",
    "window4 = (700, 800)\n",
    "window5 = (800, 900)\n",
    "window6 = (900, 1000)\n",
    "window_full = (400, 1100)\n",
    "\n",
    "\n",
    "model_windowing_400to500 = SegmentationModelWithWindowing(segmenter_single_channel, window=testset.get_window_from_wavelengths(window1))\n",
    "model_with_windowing_500to600 = SegmentationModelWithWindowing(segmenter_single_channel, window=testset.get_window_from_wavelengths(window2))\n",
    "model_windowing_600to700 = SegmentationModelWithWindowing(segmenter_single_channel, window=testset.get_window_from_wavelengths(window3))\n",
    "model_windowing_700to800 = SegmentationModelWithWindowing(segmenter_single_channel, window=testset.get_window_from_wavelengths(window4))\n",
    "model_windowing_800to900 = SegmentationModelWithWindowing(segmenter_single_channel, window=testset.get_window_from_wavelengths(window5))\n",
    "model_windowing_900to1000 = SegmentationModelWithWindowing(segmenter_single_channel, window=testset.get_window_from_wavelengths(window6))\n",
    "model_window_full = SegmentationModelWithWindowing(segmenter_single_channel, window=testset.get_window_from_wavelengths(window_full))\n",
    "\n",
    "model = EnsembleModelAverage([model_windowing_400to500, model_with_windowing_500to600, model_windowing_600to700, model_windowing_700to800, model_windowing_900to1000, model_window_full])\n",
    "evaluate_model(model, testloader_target, device, with_wandb=False)"
   ]
  },
  {
   "cell_type": "markdown",
   "metadata": {},
   "source": [
    "## Domain Adaptation Approaches:\n",
    "### GRL domain adaptation"
   ]
  },
  {
   "cell_type": "code",
   "execution_count": null,
   "metadata": {},
   "outputs": [
    {
     "name": "stderr",
     "output_type": "stream",
     "text": [
      "Failed to detect the name of this notebook, you can set it manually with the WANDB_NOTEBOOK_NAME environment variable to enable code saving.\n",
      "\u001b[34m\u001b[1mwandb\u001b[0m: Currently logged in as: \u001b[33mtim-mach\u001b[0m (\u001b[33midp2024\u001b[0m). Use \u001b[1m`wandb login --relogin`\u001b[0m to force relogin\n"
     ]
    },
    {
     "data": {
      "text/html": [
       "wandb version 0.18.6 is available!  To upgrade, please run:\n",
       " $ pip install wandb --upgrade"
      ],
      "text/plain": [
       "<IPython.core.display.HTML object>"
      ]
     },
     "metadata": {},
     "output_type": "display_data"
    },
    {
     "data": {
      "text/html": [
       "Tracking run with wandb version 0.16.6"
      ],
      "text/plain": [
       "<IPython.core.display.HTML object>"
      ]
     },
     "metadata": {},
     "output_type": "display_data"
    },
    {
     "data": {
      "text/html": [
       "Run data is saved locally in <code>/home/home/tim_ivan/idp/wandb/run-20241113_212614-c8spo9w6</code>"
      ],
      "text/plain": [
       "<IPython.core.display.HTML object>"
      ]
     },
     "metadata": {},
     "output_type": "display_data"
    },
    {
     "data": {
      "text/html": [
       "Syncing run <strong><a href='https://wandb.ai/idp2024/domain-adaptation/runs/c8spo9w6' target=\"_blank\">GRL-Linknet-timm-regnetx_320-window_500-600-pretrained-random_crops-bloodvessel_ratio01</a></strong> to <a href='https://wandb.ai/idp2024/domain-adaptation' target=\"_blank\">Weights & Biases</a> (<a href='https://wandb.me/run' target=\"_blank\">docs</a>)<br/>"
      ],
      "text/plain": [
       "<IPython.core.display.HTML object>"
      ]
     },
     "metadata": {},
     "output_type": "display_data"
    },
    {
     "data": {
      "text/html": [
       " View project at <a href='https://wandb.ai/idp2024/domain-adaptation' target=\"_blank\">https://wandb.ai/idp2024/domain-adaptation</a>"
      ],
      "text/plain": [
       "<IPython.core.display.HTML object>"
      ]
     },
     "metadata": {},
     "output_type": "display_data"
    },
    {
     "data": {
      "text/html": [
       " View run at <a href='https://wandb.ai/idp2024/domain-adaptation/runs/c8spo9w6' target=\"_blank\">https://wandb.ai/idp2024/domain-adaptation/runs/c8spo9w6</a>"
      ],
      "text/plain": [
       "<IPython.core.display.HTML object>"
      ]
     },
     "metadata": {},
     "output_type": "display_data"
    },
    {
     "name": "stdout",
     "output_type": "stream",
     "text": [
      "Loading pretrained model from ./models/Linknet-timm-regnetx_320-512x512-augmented-with-random-crops-single-channel-focal.pth\n"
     ]
    },
    {
     "name": "stderr",
     "output_type": "stream",
     "text": [
      "/home/home/tim_ivan/idp/.venv/lib/python3.8/site-packages/torch/nn/modules/conv.py:456: UserWarning: Plan failed with a cudnnException: CUDNN_BACKEND_EXECUTION_PLAN_DESCRIPTOR: cudnnFinalize Descriptor Failed cudnn_status: CUDNN_STATUS_NOT_SUPPORTED (Triggered internally at ../aten/src/ATen/native/cudnn/Conv_v8.cpp:919.)\n",
      "  return F.conv2d(input, weight, bias, self.stride,\n",
      "/home/home/tim_ivan/idp/.venv/lib/python3.8/site-packages/torch/autograd/graph.py:744: UserWarning: Plan failed with a cudnnException: CUDNN_BACKEND_EXECUTION_PLAN_DESCRIPTOR: cudnnFinalize Descriptor Failed cudnn_status: CUDNN_STATUS_NOT_SUPPORTED (Triggered internally at ../aten/src/ATen/native/cudnn/Conv_v8.cpp:919.)\n",
      "  return Variable._execution_engine.run_backward(  # Calls into the C++ engine to run the backward pass\n",
      "/home/home/tim_ivan/idp/.venv/lib/python3.8/site-packages/torch/nn/modules/conv.py:456: UserWarning: Plan failed with a cudnnException: CUDNN_BACKEND_EXECUTION_PLAN_DESCRIPTOR: cudnnFinalize Descriptor Failed cudnn_status: CUDNN_STATUS_NOT_SUPPORTED (Triggered internally at ../aten/src/ATen/native/cudnn/Conv_v8.cpp:919.)\n",
      "  return F.conv2d(input, weight, bias, self.stride,\n"
     ]
    },
    {
     "name": "stdout",
     "output_type": "stream",
     "text": [
      "Epoch 1, Batch 10/34, Total Loss: 1.8441, Segmentation Loss: 0.4249, Domain Loss Source: 0.6113, Domain Loss Target: 0.6371\n",
      "Epoch 1, Batch 20/34, Total Loss: 1.7106, Segmentation Loss: 0.3447, Domain Loss Source: 0.5976, Domain Loss Target: 0.9083\n",
      "Epoch 1, Batch 30/34, Total Loss: 1.7214, Segmentation Loss: 0.3221, Domain Loss Source: 0.7402, Domain Loss Target: 0.8175\n",
      "Epoch 1, Train Loss: 1.7574\n",
      "Evaluating model performance on source data\n",
      "Precision: 0.9107, Recall: 0.3290, F1 Score: 0.4825, Dice Score: 0.4825, Accuracy: 0.8770\n",
      "Evaluating model performance on target data\n",
      "Precision: nan, Recall: 0.0748, F1 Score: 0.1181, Dice Score: 0.1181, Accuracy: 0.7753\n",
      "Epoch 1, Validation Loss Source: 0.2613, Validation Loss Target: 1.4982\n",
      "Epoch 2, Batch 10/34, Total Loss: 1.8595, Segmentation Loss: 0.2791, Domain Loss Source: 0.7408, Domain Loss Target: 0.9152\n",
      "Epoch 2, Batch 20/34, Total Loss: 1.7727, Segmentation Loss: 0.2733, Domain Loss Source: 0.6027, Domain Loss Target: 0.9855\n",
      "Epoch 2, Batch 30/34, Total Loss: 1.6891, Segmentation Loss: 0.2467, Domain Loss Source: 0.6409, Domain Loss Target: 0.7521\n",
      "Epoch 2, Train Loss: 1.7611\n",
      "Evaluating model performance on source data\n",
      "Precision: 0.9257, Recall: 0.4496, F1 Score: 0.6040, Dice Score: 0.6040, Accuracy: 0.8974\n",
      "Evaluating model performance on target data\n",
      "Precision: nan, Recall: 0.2346, F1 Score: 0.2797, Dice Score: 0.2797, Accuracy: 0.7875\n",
      "Epoch 2, Validation Loss Source: 0.2264, Validation Loss Target: 0.8648\n",
      "Epoch 3, Batch 10/34, Total Loss: 1.6198, Segmentation Loss: 0.2116, Domain Loss Source: 0.6014, Domain Loss Target: 0.7754\n"
     ]
    }
   ],
   "source": [
    "import matplotlib.pyplot as plt\n",
    "import torch\n",
    "from domain_adaptation_training import model_pipeline\n",
    "\n",
    "encoder = \"timm-regnetx_320\"\n",
    "architecture = \"Linknet\"\n",
    "device = torch.device(\"cuda:4\" if torch.cuda.is_available() else \"cpu\")\n",
    "lambda_param = 0.5\n",
    "learning_rate = 0.001\n",
    "loss = \"BCE\"\n",
    "epochs = 10\n",
    "in_channels = 1\n",
    "hidden_dim = 256\n",
    "\n",
    "config = {\n",
    "    \"model\": \"GRL-{architecture}-{encoder}-window_{window[0]}-{window[1]}-pretrained-random_crops-bloodvessel_ratio01\".format(\n",
    "        architecture=architecture, encoder=encoder, window=window\n",
    "    ),\n",
    "    \"encoder\": encoder,\n",
    "    \"architecture\": architecture,\n",
    "    \"learning_rate\": learning_rate,\n",
    "    \"optimizer\": \"Adam\",\n",
    "    \"lambda_param\": lambda_param,\n",
    "    \"batch_size_source\": trainloader_source.batch_size,\n",
    "    \"batch_size_target\": trainloader_target.batch_size,\n",
    "    \"hidden_dim\": hidden_dim,\n",
    "    \"epochs\": epochs,\n",
    "    \"loss\": loss,\n",
    "    \"in_channels\": in_channels,\n",
    "    \"pretrained\": './models/Linknet-timm-regnetx_320-512x512-augmented-with-random-crops-single-channel-focal.pth'\n",
    "}\n",
    "\n",
    "model, train_losses, domain_losses, val_losses_source, val_losses_target = model_pipeline(\n",
    "    trainloader_source,\n",
    "    validationloader_source,\n",
    "    testloader_source,\n",
    "    trainloader_target,\n",
    "    testloader_target,\n",
    "    config,\n",
    "    project=\"domain-adaptation\",\n",
    "    device=device,\n",
    "    batch_print=10,\n",
    "    evaluate=True,\n",
    "    with_overlays=True,\n",
    ")\n",
    "\n",
    "# Plotting the training and validation loss curves\n",
    "plt.figure(figsize=(10, 6))\n",
    "plt.plot(train_losses, label=\"Combined Training Loss\")\n",
    "plt.plot(domain_losses, label=\"Domain Loss\")\n",
    "plt.plot(val_losses_source, label=\"Validation Loss Source\")\n",
    "plt.plot(val_losses_target, label=\"Validation Loss Target\")\n",
    "plt.xlabel(\"Epochs\")\n",
    "plt.ylabel(\"Loss\")\n",
    "plt.title(\"Training and Validation Loss Curves\")\n",
    "plt.legend()\n",
    "plt.show()"
   ]
  },
  {
   "cell_type": "markdown",
   "metadata": {},
   "source": [
    "### FADA:"
   ]
  },
  {
   "cell_type": "code",
   "execution_count": 2,
   "metadata": {},
   "outputs": [
    {
     "name": "stderr",
     "output_type": "stream",
     "text": [
      "Failed to detect the name of this notebook, you can set it manually with the WANDB_NOTEBOOK_NAME environment variable to enable code saving.\n",
      "\u001b[34m\u001b[1mwandb\u001b[0m: Currently logged in as: \u001b[33mtim-mach\u001b[0m (\u001b[33midp2024\u001b[0m). Use \u001b[1m`wandb login --relogin`\u001b[0m to force relogin\n"
     ]
    },
    {
     "data": {
      "text/html": [
       "wandb version 0.19.1 is available!  To upgrade, please run:\n",
       " $ pip install wandb --upgrade"
      ],
      "text/plain": [
       "<IPython.core.display.HTML object>"
      ]
     },
     "metadata": {},
     "output_type": "display_data"
    },
    {
     "data": {
      "text/html": [
       "Tracking run with wandb version 0.16.6"
      ],
      "text/plain": [
       "<IPython.core.display.HTML object>"
      ]
     },
     "metadata": {},
     "output_type": "display_data"
    },
    {
     "data": {
      "text/html": [
       "Run data is saved locally in <code>/home/home/tim_ivan/idp/wandb/run-20250106_001952-jc8gc495</code>"
      ],
      "text/plain": [
       "<IPython.core.display.HTML object>"
      ]
     },
     "metadata": {},
     "output_type": "display_data"
    },
    {
     "data": {
      "text/html": [
       "Syncing run <strong><a href='https://wandb.ai/idp2024/domain-adaptation/runs/jc8gc495' target=\"_blank\">FADA-penalizeRings-mean-pretrained-random_crops-bloodvessel_ratio01-window_500-600</a></strong> to <a href='https://wandb.ai/idp2024/domain-adaptation' target=\"_blank\">Weights & Biases</a> (<a href='https://wandb.me/run' target=\"_blank\">docs</a>)<br/>"
      ],
      "text/plain": [
       "<IPython.core.display.HTML object>"
      ]
     },
     "metadata": {},
     "output_type": "display_data"
    },
    {
     "data": {
      "text/html": [
       " View project at <a href='https://wandb.ai/idp2024/domain-adaptation' target=\"_blank\">https://wandb.ai/idp2024/domain-adaptation</a>"
      ],
      "text/plain": [
       "<IPython.core.display.HTML object>"
      ]
     },
     "metadata": {},
     "output_type": "display_data"
    },
    {
     "data": {
      "text/html": [
       " View run at <a href='https://wandb.ai/idp2024/domain-adaptation/runs/jc8gc495' target=\"_blank\">https://wandb.ai/idp2024/domain-adaptation/runs/jc8gc495</a>"
      ],
      "text/plain": [
       "<IPython.core.display.HTML object>"
      ]
     },
     "metadata": {},
     "output_type": "display_data"
    },
    {
     "name": "stdout",
     "output_type": "stream",
     "text": [
      "Loading pretrained model from ./models/Linknet-timm-regnetx_320-512x512-augmented-with-random-crops-single-channel-focal.pth\n"
     ]
    },
    {
     "name": "stderr",
     "output_type": "stream",
     "text": [
      "/home/home/tim_ivan/idp/.venv/lib/python3.8/site-packages/torch/nn/modules/conv.py:456: UserWarning: Plan failed with a cudnnException: CUDNN_BACKEND_EXECUTION_PLAN_DESCRIPTOR: cudnnFinalize Descriptor Failed cudnn_status: CUDNN_STATUS_NOT_SUPPORTED (Triggered internally at ../aten/src/ATen/native/cudnn/Conv_v8.cpp:919.)\n",
      "  return F.conv2d(input, weight, bias, self.stride,\n",
      "/home/home/tim_ivan/idp/.venv/lib/python3.8/site-packages/torch/autograd/graph.py:744: UserWarning: Plan failed with a cudnnException: CUDNN_BACKEND_EXECUTION_PLAN_DESCRIPTOR: cudnnFinalize Descriptor Failed cudnn_status: CUDNN_STATUS_NOT_SUPPORTED (Triggered internally at ../aten/src/ATen/native/cudnn/Conv_v8.cpp:919.)\n",
      "  return Variable._execution_engine.run_backward(  # Calls into the C++ engine to run the backward pass\n"
     ]
    },
    {
     "name": "stdout",
     "output_type": "stream",
     "text": [
      "Epoch 1, Batch 1/34, Contrastive Loss: 0.0253\n",
      "Epoch 1, Batch 2/34, Contrastive Loss: 0.0176\n",
      "Epoch 1, Batch 3/34, Contrastive Loss: 0.0281\n",
      "Epoch 1, Batch 4/34, Contrastive Loss: 0.0294\n",
      "Epoch 1, Batch 5/34, Contrastive Loss: 0.0136\n",
      "Epoch 1, Batch 6/34, Contrastive Loss: 0.0396\n",
      "Epoch 1, Batch 7/34, Contrastive Loss: 0.0200\n",
      "Epoch 1, Batch 8/34, Contrastive Loss: 0.0213\n",
      "Epoch 1, Batch 9/34, Contrastive Loss: 0.0234\n",
      "Epoch 1, Batch 10/34, Contrastive Loss: 0.0131\n",
      "Epoch 1, Batch 10/34, Total Loss: 1.0748, Segmentation Loss: 0.3063, Domain Loss Source: 0.3407, Domain Loss Target: 0.2715, Adversarial Loss Target: 0.0007\n",
      "Epoch 1, Batch 11/34, Contrastive Loss: 0.0229\n",
      "Epoch 1, Batch 12/34, Contrastive Loss: 0.0278\n",
      "Epoch 1, Batch 13/34, Contrastive Loss: 0.0145\n",
      "Epoch 1, Batch 14/34, Contrastive Loss: 0.0406\n",
      "Epoch 1, Batch 15/34, Contrastive Loss: 0.0185\n",
      "Epoch 1, Batch 16/34, Contrastive Loss: 0.0226\n",
      "Epoch 1, Batch 17/34, Contrastive Loss: 0.0241\n",
      "Epoch 1, Batch 18/34, Contrastive Loss: 0.0124\n",
      "Epoch 1, Batch 19/34, Contrastive Loss: 0.0215\n",
      "Epoch 1, Batch 20/34, Contrastive Loss: 0.0291\n",
      "Epoch 1, Batch 20/34, Total Loss: 0.8832, Segmentation Loss: 0.2645, Domain Loss Source: 0.3609, Domain Loss Target: 0.2334, Adversarial Loss Target: 0.0009\n",
      "Epoch 1, Batch 21/34, Contrastive Loss: 0.0147\n",
      "Epoch 1, Batch 22/34, Contrastive Loss: 0.0409\n",
      "Epoch 1, Batch 23/34, Contrastive Loss: 0.0168\n",
      "Epoch 1, Batch 24/34, Contrastive Loss: 0.0233\n",
      "Epoch 1, Batch 25/34, Contrastive Loss: 0.0243\n",
      "Epoch 1, Batch 26/34, Contrastive Loss: 0.0118\n",
      "Epoch 1, Batch 27/34, Contrastive Loss: 0.0191\n",
      "Epoch 1, Batch 28/34, Contrastive Loss: 0.0309\n",
      "Epoch 1, Batch 29/34, Contrastive Loss: 0.0135\n",
      "Epoch 1, Batch 30/34, Contrastive Loss: 0.0399\n",
      "Epoch 1, Batch 30/34, Total Loss: 0.8039, Segmentation Loss: 0.2274, Domain Loss Source: 0.1966, Domain Loss Target: 0.2094, Adversarial Loss Target: 0.0011\n",
      "Epoch 1, Batch 31/34, Contrastive Loss: 0.0169\n",
      "Epoch 1, Batch 32/34, Contrastive Loss: 0.0212\n",
      "Epoch 1, Batch 33/34, Contrastive Loss: 0.0218\n",
      "Epoch 1, Batch 34/34, Contrastive Loss: 0.0109\n",
      "Epoch 1, Train Loss: 4.8481\n"
     ]
    },
    {
     "name": "stderr",
     "output_type": "stream",
     "text": [
      "/home/home/tim_ivan/idp/.venv/lib/python3.8/site-packages/torch/nn/modules/conv.py:456: UserWarning: Plan failed with a cudnnException: CUDNN_BACKEND_EXECUTION_PLAN_DESCRIPTOR: cudnnFinalize Descriptor Failed cudnn_status: CUDNN_STATUS_NOT_SUPPORTED (Triggered internally at ../aten/src/ATen/native/cudnn/Conv_v8.cpp:919.)\n",
      "  return F.conv2d(input, weight, bias, self.stride,\n"
     ]
    },
    {
     "name": "stdout",
     "output_type": "stream",
     "text": [
      "Evaluating model performance on source data\n",
      "Precision: 0.9045, Recall: 0.4293, F1 Score: 0.5805, Dice Score: 0.5805, Accuracy: 0.8922\n",
      "Evaluating model performance on target data\n",
      "Precision: 0.3723, Recall: 0.5002, F1 Score: 0.4245, Dice Score: 0.4245, Accuracy: 0.7320\n",
      "Epoch 1, Validation Loss Source: 0.3668, Validation Loss Target: 0.8372\n",
      "Epoch 2, Batch 1/34, Contrastive Loss: 0.0157\n",
      "Epoch 2, Batch 2/34, Contrastive Loss: 0.0304\n",
      "Epoch 2, Batch 3/34, Contrastive Loss: 0.0117\n",
      "Epoch 2, Batch 4/34, Contrastive Loss: 0.0374\n",
      "Epoch 2, Batch 5/34, Contrastive Loss: 0.0164\n",
      "Epoch 2, Batch 6/34, Contrastive Loss: 0.0197\n",
      "Epoch 2, Batch 7/34, Contrastive Loss: 0.0168\n",
      "Epoch 2, Batch 8/34, Contrastive Loss: 0.0083\n",
      "Epoch 2, Batch 9/34, Contrastive Loss: 0.0089\n",
      "Epoch 2, Batch 10/34, Contrastive Loss: 0.0281\n",
      "Epoch 2, Batch 10/34, Total Loss: 0.6947, Segmentation Loss: 0.2046, Domain Loss Source: 0.1882, Domain Loss Target: 0.2224, Adversarial Loss Target: 0.0011\n",
      "Epoch 2, Batch 11/34, Contrastive Loss: 0.0086\n",
      "Epoch 2, Batch 12/34, Contrastive Loss: 0.0344\n",
      "Epoch 2, Batch 13/34, Contrastive Loss: 0.0143\n",
      "Epoch 2, Batch 14/34, Contrastive Loss: 0.0181\n",
      "Epoch 2, Batch 15/34, Contrastive Loss: 0.0174\n",
      "Epoch 2, Batch 16/34, Contrastive Loss: 0.0077\n",
      "Epoch 2, Batch 17/34, Contrastive Loss: 0.0095\n",
      "Epoch 2, Batch 18/34, Contrastive Loss: 0.0281\n",
      "Epoch 2, Batch 19/34, Contrastive Loss: 0.0070\n",
      "Epoch 2, Batch 20/34, Contrastive Loss: 0.0350\n",
      "Epoch 2, Batch 20/34, Total Loss: 0.6710, Segmentation Loss: 0.1831, Domain Loss Source: 0.2069, Domain Loss Target: 0.3104, Adversarial Loss Target: 0.0011\n",
      "Epoch 2, Batch 21/34, Contrastive Loss: 0.0137\n",
      "Epoch 2, Batch 22/34, Contrastive Loss: 0.0172\n",
      "Epoch 2, Batch 23/34, Contrastive Loss: 0.0160\n",
      "Epoch 2, Batch 24/34, Contrastive Loss: 0.0072\n",
      "Epoch 2, Batch 25/34, Contrastive Loss: 0.0092\n",
      "Epoch 2, Batch 26/34, Contrastive Loss: 0.0271\n",
      "Epoch 2, Batch 27/34, Contrastive Loss: 0.0046\n",
      "Epoch 2, Batch 28/34, Contrastive Loss: 0.0336\n",
      "Epoch 2, Batch 29/34, Contrastive Loss: 0.0130\n",
      "Epoch 2, Batch 30/34, Contrastive Loss: 0.0151\n",
      "Epoch 2, Batch 30/34, Total Loss: 0.6685, Segmentation Loss: 0.1813, Domain Loss Source: 0.1274, Domain Loss Target: 0.3882, Adversarial Loss Target: 0.0008\n",
      "Epoch 2, Batch 31/34, Contrastive Loss: 0.0129\n",
      "Epoch 2, Batch 32/34, Contrastive Loss: 0.0061\n",
      "Epoch 2, Batch 33/34, Contrastive Loss: 0.0086\n",
      "Epoch 2, Batch 34/34, Contrastive Loss: 0.0249\n",
      "Epoch 2, Train Loss: 3.4882\n",
      "Evaluating model performance on source data\n",
      "Precision: 0.9276, Recall: 0.4387, F1 Score: 0.5932, Dice Score: 0.5932, Accuracy: 0.8957\n",
      "Evaluating model performance on target data\n",
      "Precision: 0.4462, Recall: 0.5884, F1 Score: 0.4874, Dice Score: 0.4874, Accuracy: 0.7925\n",
      "Epoch 2, Validation Loss Source: 0.3579, Validation Loss Target: 0.8129\n",
      "Epoch 3, Batch 1/34, Contrastive Loss: 0.0031\n",
      "Epoch 3, Batch 2/34, Contrastive Loss: 0.0308\n",
      "Epoch 3, Batch 3/34, Contrastive Loss: 0.0118\n",
      "Epoch 3, Batch 4/34, Contrastive Loss: 0.0138\n",
      "Epoch 3, Batch 5/34, Contrastive Loss: 0.0111\n",
      "Epoch 3, Batch 6/34, Contrastive Loss: 0.0059\n",
      "Epoch 3, Batch 7/34, Contrastive Loss: 0.0068\n",
      "Epoch 3, Batch 8/34, Contrastive Loss: 0.0239\n",
      "Epoch 3, Batch 9/34, Contrastive Loss: 0.0024\n",
      "Epoch 3, Batch 10/34, Contrastive Loss: 0.0277\n",
      "Epoch 3, Batch 10/34, Total Loss: 0.6505, Segmentation Loss: 0.1738, Domain Loss Source: 0.3269, Domain Loss Target: 0.1017, Adversarial Loss Target: 0.0021\n",
      "Epoch 3, Batch 11/34, Contrastive Loss: 0.0100\n",
      "Epoch 3, Batch 12/34, Contrastive Loss: 0.0124\n",
      "Epoch 3, Batch 13/34, Contrastive Loss: 0.0083\n",
      "Epoch 3, Batch 14/34, Contrastive Loss: 0.0042\n",
      "Epoch 3, Batch 15/34, Contrastive Loss: 0.0062\n",
      "Epoch 3, Batch 16/34, Contrastive Loss: 0.0246\n",
      "Epoch 3, Batch 17/34, Contrastive Loss: 0.0021\n",
      "Epoch 3, Batch 18/34, Contrastive Loss: 0.0284\n",
      "Epoch 3, Batch 19/34, Contrastive Loss: 0.0089\n",
      "Epoch 3, Batch 20/34, Contrastive Loss: 0.0117\n",
      "Epoch 3, Batch 20/34, Total Loss: 0.6569, Segmentation Loss: 0.1536, Domain Loss Source: 0.3365, Domain Loss Target: 0.2158, Adversarial Loss Target: 0.0013\n",
      "Epoch 3, Batch 21/34, Contrastive Loss: 0.0082\n",
      "Epoch 3, Batch 22/34, Contrastive Loss: 0.0047\n",
      "Epoch 3, Batch 23/34, Contrastive Loss: 0.0065\n",
      "Epoch 3, Batch 24/34, Contrastive Loss: 0.0236\n",
      "Epoch 3, Batch 25/34, Contrastive Loss: 0.0023\n",
      "Epoch 3, Batch 26/34, Contrastive Loss: 0.0267\n",
      "Epoch 3, Batch 27/34, Contrastive Loss: 0.0081\n",
      "Epoch 3, Batch 28/34, Contrastive Loss: 0.0094\n",
      "Epoch 3, Batch 29/34, Contrastive Loss: 0.0067\n",
      "Epoch 3, Batch 30/34, Contrastive Loss: 0.0032\n",
      "Epoch 3, Batch 30/34, Total Loss: 0.6541, Segmentation Loss: 0.1517, Domain Loss Source: 0.2258, Domain Loss Target: 0.2618, Adversarial Loss Target: 0.0010\n",
      "Epoch 3, Batch 31/34, Contrastive Loss: 0.0058\n",
      "Epoch 3, Batch 32/34, Contrastive Loss: 0.0199\n",
      "Epoch 3, Batch 33/34, Contrastive Loss: 0.0012\n",
      "Epoch 3, Batch 34/34, Contrastive Loss: 0.0222\n",
      "Epoch 3, Train Loss: 3.3632\n",
      "Evaluating model performance on source data\n",
      "Precision: 0.8721, Recall: 0.4250, F1 Score: 0.5680, Dice Score: 0.5680, Accuracy: 0.8877\n",
      "Evaluating model performance on target data\n",
      "Precision: 0.5113, Recall: 0.6765, F1 Score: 0.5707, Dice Score: 0.5707, Accuracy: 0.7985\n",
      "Epoch 3, Validation Loss Source: 0.3724, Validation Loss Target: 0.8476\n",
      "Epoch 4, Batch 1/34, Contrastive Loss: 0.0058\n",
      "Epoch 4, Batch 2/34, Contrastive Loss: 0.0066\n",
      "Epoch 4, Batch 3/34, Contrastive Loss: 0.0069\n",
      "Epoch 4, Batch 4/34, Contrastive Loss: 0.0033\n",
      "Epoch 4, Batch 5/34, Contrastive Loss: 0.0052\n",
      "Epoch 4, Batch 6/34, Contrastive Loss: 0.0191\n",
      "Epoch 4, Batch 7/34, Contrastive Loss: 0.0011\n",
      "Epoch 4, Batch 8/34, Contrastive Loss: 0.0207\n",
      "Epoch 4, Batch 9/34, Contrastive Loss: 0.0038\n",
      "Epoch 4, Batch 10/34, Contrastive Loss: 0.0051\n",
      "Epoch 4, Batch 10/34, Total Loss: 0.6589, Segmentation Loss: 0.1584, Domain Loss Source: 0.0787, Domain Loss Target: 0.5654, Adversarial Loss Target: 0.0005\n",
      "Epoch 4, Batch 11/34, Contrastive Loss: 0.0075\n",
      "Epoch 4, Batch 12/34, Contrastive Loss: 0.0019\n",
      "Epoch 4, Batch 13/34, Contrastive Loss: 0.0044\n",
      "Epoch 4, Batch 14/34, Contrastive Loss: 0.0152\n",
      "Epoch 4, Batch 15/34, Contrastive Loss: 0.0009\n",
      "Epoch 4, Batch 16/34, Contrastive Loss: 0.0159\n",
      "Epoch 4, Batch 17/34, Contrastive Loss: 0.0031\n",
      "Epoch 4, Batch 18/34, Contrastive Loss: 0.0049\n",
      "Epoch 4, Batch 19/34, Contrastive Loss: 0.0059\n",
      "Epoch 4, Batch 20/34, Contrastive Loss: 0.0022\n",
      "Epoch 4, Batch 20/34, Total Loss: 0.6386, Segmentation Loss: 0.1470, Domain Loss Source: 0.2721, Domain Loss Target: 0.2298, Adversarial Loss Target: 0.0010\n",
      "Epoch 4, Batch 21/34, Contrastive Loss: 0.0048\n",
      "Epoch 4, Batch 22/34, Contrastive Loss: 0.0112\n",
      "Epoch 4, Batch 23/34, Contrastive Loss: 0.0010\n",
      "Epoch 4, Batch 24/34, Contrastive Loss: 0.0110\n",
      "Epoch 4, Batch 25/34, Contrastive Loss: 0.0021\n",
      "Epoch 4, Batch 26/34, Contrastive Loss: 0.0034\n",
      "Epoch 4, Batch 27/34, Contrastive Loss: 0.0041\n",
      "Epoch 4, Batch 28/34, Contrastive Loss: 0.0018\n",
      "Epoch 4, Batch 29/34, Contrastive Loss: 0.0051\n",
      "Epoch 4, Batch 30/34, Contrastive Loss: 0.0031\n",
      "Epoch 4, Batch 30/34, Total Loss: 0.6076, Segmentation Loss: 0.1367, Domain Loss Source: 0.2258, Domain Loss Target: 0.1455, Adversarial Loss Target: 0.0015\n",
      "Epoch 4, Batch 31/34, Contrastive Loss: 0.0007\n",
      "Epoch 4, Batch 32/34, Contrastive Loss: 0.0035\n",
      "Epoch 4, Batch 33/34, Contrastive Loss: 0.0015\n",
      "Epoch 4, Batch 34/34, Contrastive Loss: 0.0030\n",
      "Epoch 4, Train Loss: 3.2668\n",
      "Evaluating model performance on source data\n",
      "Precision: 0.8639, Recall: 0.5276, F1 Score: 0.6527, Dice Score: 0.6527, Accuracy: 0.9025\n",
      "Evaluating model performance on target data\n",
      "Precision: 0.4956, Recall: 0.6710, F1 Score: 0.5615, Dice Score: 0.5615, Accuracy: 0.7922\n",
      "Epoch 4, Validation Loss Source: 0.3036, Validation Loss Target: 0.9410\n",
      "Epoch 5, Batch 1/34, Contrastive Loss: 0.0037\n",
      "Epoch 5, Batch 2/34, Contrastive Loss: 0.0020\n",
      "Epoch 5, Batch 3/34, Contrastive Loss: 0.0051\n",
      "Epoch 5, Batch 4/34, Contrastive Loss: 0.0052\n",
      "Epoch 5, Batch 5/34, Contrastive Loss: 0.0006\n",
      "Epoch 5, Batch 6/34, Contrastive Loss: 0.0093\n",
      "Epoch 5, Batch 7/34, Contrastive Loss: 0.0017\n",
      "Epoch 5, Batch 8/34, Contrastive Loss: 0.0034\n",
      "Epoch 5, Batch 9/34, Contrastive Loss: 0.0035\n",
      "Epoch 5, Batch 10/34, Contrastive Loss: 0.0011\n",
      "Epoch 5, Batch 10/34, Total Loss: 0.6450, Segmentation Loss: 0.1452, Domain Loss Source: 0.0990, Domain Loss Target: 0.5814, Adversarial Loss Target: 0.0006\n",
      "Epoch 5, Batch 11/34, Contrastive Loss: 0.0036\n",
      "Epoch 5, Batch 12/34, Contrastive Loss: 0.0021\n",
      "Epoch 5, Batch 13/34, Contrastive Loss: 0.0004\n",
      "Epoch 5, Batch 14/34, Contrastive Loss: 0.0034\n",
      "Epoch 5, Batch 15/34, Contrastive Loss: 0.0011\n",
      "Epoch 5, Batch 16/34, Contrastive Loss: 0.0029\n",
      "Epoch 5, Batch 17/34, Contrastive Loss: 0.0038\n",
      "Epoch 5, Batch 18/34, Contrastive Loss: 0.0012\n",
      "Epoch 5, Batch 19/34, Contrastive Loss: 0.0036\n",
      "Epoch 5, Batch 20/34, Contrastive Loss: 0.0020\n",
      "Epoch 5, Batch 20/34, Total Loss: 0.6172, Segmentation Loss: 0.1271, Domain Loss Source: 0.4005, Domain Loss Target: 0.1079, Adversarial Loss Target: 0.0017\n",
      "Epoch 5, Batch 21/34, Contrastive Loss: 0.0005\n",
      "Epoch 5, Batch 22/34, Contrastive Loss: 0.0032\n",
      "Epoch 5, Batch 23/34, Contrastive Loss: 0.0011\n",
      "Epoch 5, Batch 24/34, Contrastive Loss: 0.0024\n",
      "Epoch 5, Batch 25/34, Contrastive Loss: 0.0023\n",
      "Epoch 5, Batch 26/34, Contrastive Loss: 0.0009\n",
      "Epoch 5, Batch 27/34, Contrastive Loss: 0.0034\n",
      "Epoch 5, Batch 28/34, Contrastive Loss: 0.0010\n",
      "Epoch 5, Batch 29/34, Contrastive Loss: 0.0004\n",
      "Epoch 5, Batch 30/34, Contrastive Loss: 0.0026\n",
      "Epoch 5, Batch 30/34, Total Loss: 0.6202, Segmentation Loss: 0.1214, Domain Loss Source: 0.1693, Domain Loss Target: 0.2069, Adversarial Loss Target: 0.0014\n",
      "Epoch 5, Batch 31/34, Contrastive Loss: 0.0008\n",
      "Epoch 5, Batch 32/34, Contrastive Loss: 0.0019\n",
      "Epoch 5, Batch 33/34, Contrastive Loss: 0.0014\n",
      "Epoch 5, Batch 34/34, Contrastive Loss: 0.0008\n",
      "Epoch 5, Train Loss: 3.2051\n",
      "Evaluating model performance on source data\n",
      "Precision: 0.8663, Recall: 0.5398, F1 Score: 0.6627, Dice Score: 0.6627, Accuracy: 0.9047\n",
      "Evaluating model performance on target data\n",
      "Precision: 0.4845, Recall: 0.6659, F1 Score: 0.5507, Dice Score: 0.5507, Accuracy: 0.7836\n",
      "Epoch 5, Validation Loss Source: 0.3039, Validation Loss Target: 1.0354\n",
      "Epoch 6, Batch 1/34, Contrastive Loss: 0.0030\n",
      "Epoch 6, Batch 2/34, Contrastive Loss: 0.0008\n",
      "Epoch 6, Batch 3/34, Contrastive Loss: 0.0005\n",
      "Epoch 6, Batch 4/34, Contrastive Loss: 0.0018\n",
      "Epoch 6, Batch 5/34, Contrastive Loss: 0.0012\n",
      "Epoch 6, Batch 6/34, Contrastive Loss: 0.0022\n",
      "Epoch 6, Batch 7/34, Contrastive Loss: 0.0018\n",
      "Epoch 6, Batch 8/34, Contrastive Loss: 0.0008\n",
      "Epoch 6, Batch 9/34, Contrastive Loss: 0.0026\n",
      "Epoch 6, Batch 10/34, Contrastive Loss: 0.0016\n",
      "Epoch 6, Batch 10/34, Total Loss: 0.5245, Segmentation Loss: 0.1380, Domain Loss Source: 0.1775, Domain Loss Target: 0.2018, Adversarial Loss Target: 0.0013\n",
      "Epoch 6, Batch 11/34, Contrastive Loss: 0.0004\n",
      "Epoch 6, Batch 12/34, Contrastive Loss: 0.0022\n",
      "Epoch 6, Batch 13/34, Contrastive Loss: 0.0007\n",
      "Epoch 6, Batch 14/34, Contrastive Loss: 0.0019\n",
      "Epoch 6, Batch 15/34, Contrastive Loss: 0.0026\n",
      "Epoch 6, Batch 16/34, Contrastive Loss: 0.0006\n",
      "Epoch 6, Batch 17/34, Contrastive Loss: 0.0022\n",
      "Epoch 6, Batch 18/34, Contrastive Loss: 0.0020\n",
      "Epoch 6, Batch 19/34, Contrastive Loss: 0.0004\n",
      "Epoch 6, Batch 20/34, Contrastive Loss: 0.0028\n",
      "Epoch 6, Batch 20/34, Total Loss: 0.6173, Segmentation Loss: 0.1175, Domain Loss Source: 0.1141, Domain Loss Target: 0.5082, Adversarial Loss Target: 0.0005\n",
      "Epoch 6, Batch 21/34, Contrastive Loss: 0.0008\n",
      "Epoch 6, Batch 22/34, Contrastive Loss: 0.0019\n",
      "Epoch 6, Batch 23/34, Contrastive Loss: 0.0019\n",
      "Epoch 6, Batch 24/34, Contrastive Loss: 0.0006\n",
      "Epoch 6, Batch 25/34, Contrastive Loss: 0.0012\n",
      "Epoch 6, Batch 26/34, Contrastive Loss: 0.0008\n",
      "Epoch 6, Batch 27/34, Contrastive Loss: 0.0003\n",
      "Epoch 6, Batch 28/34, Contrastive Loss: 0.0012\n",
      "Epoch 6, Batch 29/34, Contrastive Loss: 0.0004\n",
      "Epoch 6, Batch 30/34, Contrastive Loss: 0.0016\n",
      "Epoch 6, Batch 30/34, Total Loss: 0.5978, Segmentation Loss: 0.1108, Domain Loss Source: 0.2028, Domain Loss Target: 0.2633, Adversarial Loss Target: 0.0014\n",
      "Epoch 6, Batch 31/34, Contrastive Loss: 0.0010\n",
      "Epoch 6, Batch 32/34, Contrastive Loss: 0.0004\n",
      "Epoch 6, Batch 33/34, Contrastive Loss: 0.0008\n",
      "Epoch 6, Batch 34/34, Contrastive Loss: 0.0004\n",
      "Epoch 6, Train Loss: 2.9388\n",
      "Evaluating model performance on source data\n",
      "Precision: 0.8819, Recall: 0.5516, F1 Score: 0.6761, Dice Score: 0.6761, Accuracy: 0.9085\n",
      "Evaluating model performance on target data\n",
      "Precision: 0.5000, Recall: 0.6313, F1 Score: 0.5539, Dice Score: 0.5539, Accuracy: 0.7988\n",
      "Epoch 6, Validation Loss Source: 0.3215, Validation Loss Target: 1.0096\n",
      "Epoch 7, Batch 1/34, Contrastive Loss: 0.0002\n",
      "Epoch 7, Batch 2/34, Contrastive Loss: 0.0007\n",
      "Epoch 7, Batch 3/34, Contrastive Loss: 0.0007\n",
      "Epoch 7, Batch 4/34, Contrastive Loss: 0.0016\n",
      "Epoch 7, Batch 5/34, Contrastive Loss: 0.0012\n",
      "Epoch 7, Batch 6/34, Contrastive Loss: 0.0005\n",
      "Epoch 7, Batch 7/34, Contrastive Loss: 0.0010\n",
      "Epoch 7, Batch 8/34, Contrastive Loss: 0.0006\n",
      "Epoch 7, Batch 9/34, Contrastive Loss: 0.0003\n",
      "Epoch 7, Batch 10/34, Contrastive Loss: 0.0010\n",
      "Epoch 7, Batch 10/34, Total Loss: 0.5039, Segmentation Loss: 0.1256, Domain Loss Source: 0.1715, Domain Loss Target: 0.2745, Adversarial Loss Target: 0.0009\n",
      "Epoch 7, Batch 11/34, Contrastive Loss: 0.0004\n",
      "Epoch 7, Batch 12/34, Contrastive Loss: 0.0015\n",
      "Epoch 7, Batch 13/34, Contrastive Loss: 0.0012\n",
      "Epoch 7, Batch 14/34, Contrastive Loss: 0.0004\n",
      "Epoch 7, Batch 15/34, Contrastive Loss: 0.0008\n",
      "Epoch 7, Batch 16/34, Contrastive Loss: 0.0011\n",
      "Epoch 7, Batch 17/34, Contrastive Loss: 0.0003\n",
      "Epoch 7, Batch 18/34, Contrastive Loss: 0.0015\n",
      "Epoch 7, Batch 19/34, Contrastive Loss: 0.0005\n",
      "Epoch 7, Batch 20/34, Contrastive Loss: 0.0015\n",
      "Epoch 7, Batch 20/34, Total Loss: 0.4971, Segmentation Loss: 0.1103, Domain Loss Source: 0.2041, Domain Loss Target: 0.1934, Adversarial Loss Target: 0.0017\n",
      "Epoch 7, Batch 21/34, Contrastive Loss: 0.0021\n",
      "Epoch 7, Batch 22/34, Contrastive Loss: 0.0004\n",
      "Epoch 7, Batch 23/34, Contrastive Loss: 0.0006\n",
      "Epoch 7, Batch 24/34, Contrastive Loss: 0.0007\n",
      "Epoch 7, Batch 25/34, Contrastive Loss: 0.0003\n",
      "Epoch 7, Batch 26/34, Contrastive Loss: 0.0009\n",
      "Epoch 7, Batch 27/34, Contrastive Loss: 0.0003\n",
      "Epoch 7, Batch 28/34, Contrastive Loss: 0.0013\n",
      "Epoch 7, Batch 29/34, Contrastive Loss: 0.0007\n",
      "Epoch 7, Batch 30/34, Contrastive Loss: 0.0003\n",
      "Epoch 7, Batch 30/34, Total Loss: 0.5818, Segmentation Loss: 0.1122, Domain Loss Source: 0.1778, Domain Loss Target: 0.3129, Adversarial Loss Target: 0.0010\n",
      "Epoch 7, Batch 31/34, Contrastive Loss: 0.0007\n",
      "Epoch 7, Batch 32/34, Contrastive Loss: 0.0005\n",
      "Epoch 7, Batch 33/34, Contrastive Loss: 0.0002\n",
      "Epoch 7, Batch 34/34, Contrastive Loss: 0.0009\n",
      "Epoch 7, Train Loss: 2.7222\n",
      "Evaluating model performance on source data\n",
      "Precision: 0.8178, Recall: 0.4238, F1 Score: 0.5552, Dice Score: 0.5552, Accuracy: 0.8825\n",
      "Evaluating model performance on target data\n",
      "Precision: 0.4940, Recall: 0.6511, F1 Score: 0.5524, Dice Score: 0.5524, Accuracy: 0.7901\n",
      "Epoch 7, Validation Loss Source: 0.4981, Validation Loss Target: 1.1052\n",
      "Epoch 8, Batch 1/34, Contrastive Loss: 0.0009\n",
      "Epoch 8, Batch 2/34, Contrastive Loss: 0.0013\n",
      "Epoch 8, Batch 3/34, Contrastive Loss: 0.0009\n",
      "Epoch 8, Batch 4/34, Contrastive Loss: 0.0011\n",
      "Epoch 8, Batch 5/34, Contrastive Loss: 0.0006\n",
      "Epoch 8, Batch 6/34, Contrastive Loss: 0.0003\n",
      "Epoch 8, Batch 7/34, Contrastive Loss: 0.0002\n",
      "Epoch 8, Batch 8/34, Contrastive Loss: 0.0009\n",
      "Epoch 8, Batch 9/34, Contrastive Loss: 0.0004\n",
      "Epoch 8, Batch 10/34, Contrastive Loss: 0.0013\n",
      "Epoch 8, Batch 10/34, Total Loss: 0.5645, Segmentation Loss: 0.1193, Domain Loss Source: 0.1022, Domain Loss Target: 0.4250, Adversarial Loss Target: 0.0008\n",
      "Epoch 8, Batch 11/34, Contrastive Loss: 0.0016\n",
      "Epoch 8, Batch 12/34, Contrastive Loss: 0.0006\n",
      "Epoch 8, Batch 13/34, Contrastive Loss: 0.0013\n",
      "Epoch 8, Batch 14/34, Contrastive Loss: 0.0008\n",
      "Epoch 8, Batch 15/34, Contrastive Loss: 0.0003\n",
      "Epoch 8, Batch 16/34, Contrastive Loss: 0.0012\n",
      "Epoch 8, Batch 17/34, Contrastive Loss: 0.0004\n",
      "Epoch 8, Batch 18/34, Contrastive Loss: 0.0014\n",
      "Epoch 8, Batch 19/34, Contrastive Loss: 0.0011\n",
      "Epoch 8, Batch 20/34, Contrastive Loss: 0.0003\n",
      "Epoch 8, Batch 20/34, Total Loss: 0.5434, Segmentation Loss: 0.1071, Domain Loss Source: 0.2933, Domain Loss Target: 0.1489, Adversarial Loss Target: 0.0014\n",
      "Epoch 8, Batch 21/34, Contrastive Loss: 0.0005\n",
      "Epoch 8, Batch 22/34, Contrastive Loss: 0.0006\n",
      "Epoch 8, Batch 23/34, Contrastive Loss: 0.0003\n",
      "Epoch 8, Batch 24/34, Contrastive Loss: 0.0009\n",
      "Epoch 8, Batch 25/34, Contrastive Loss: 0.0002\n",
      "Epoch 8, Batch 26/34, Contrastive Loss: 0.0012\n",
      "Epoch 8, Batch 27/34, Contrastive Loss: 0.0006\n",
      "Epoch 8, Batch 28/34, Contrastive Loss: 0.0002\n",
      "Epoch 8, Batch 29/34, Contrastive Loss: 0.0004\n",
      "Epoch 8, Batch 30/34, Contrastive Loss: 0.0003\n",
      "Epoch 8, Batch 30/34, Total Loss: 0.5941, Segmentation Loss: 0.0974, Domain Loss Source: 0.2551, Domain Loss Target: 0.1719, Adversarial Loss Target: 0.0016\n",
      "Epoch 8, Batch 31/34, Contrastive Loss: 0.0002\n",
      "Epoch 8, Batch 32/34, Contrastive Loss: 0.0005\n",
      "Epoch 8, Batch 33/34, Contrastive Loss: 0.0002\n",
      "Epoch 8, Batch 34/34, Contrastive Loss: 0.0012\n",
      "Epoch 8, Train Loss: 2.9179\n",
      "Evaluating model performance on source data\n",
      "Precision: 0.8980, Recall: 0.5621, F1 Score: 0.6887, Dice Score: 0.6887, Accuracy: 0.9120\n",
      "Evaluating model performance on target data\n",
      "Precision: 0.4833, Recall: 0.7395, F1 Score: 0.5751, Dice Score: 0.5751, Accuracy: 0.7832\n",
      "Epoch 8, Validation Loss Source: 0.3235, Validation Loss Target: 1.1286\n",
      "Epoch 9, Batch 1/34, Contrastive Loss: 0.0006\n",
      "Epoch 9, Batch 2/34, Contrastive Loss: 0.0003\n",
      "Epoch 9, Batch 3/34, Contrastive Loss: 0.0003\n",
      "Epoch 9, Batch 4/34, Contrastive Loss: 0.0002\n",
      "Epoch 9, Batch 5/34, Contrastive Loss: 0.0002\n",
      "Epoch 9, Batch 6/34, Contrastive Loss: 0.0003\n",
      "Epoch 9, Batch 7/34, Contrastive Loss: 0.0002\n",
      "Epoch 9, Batch 8/34, Contrastive Loss: 0.0012\n",
      "Epoch 9, Batch 9/34, Contrastive Loss: 0.0006\n",
      "Epoch 9, Batch 10/34, Contrastive Loss: 0.0002\n",
      "Epoch 9, Batch 10/34, Total Loss: 0.5070, Segmentation Loss: 0.1109, Domain Loss Source: 0.2452, Domain Loss Target: 0.2327, Adversarial Loss Target: 0.0010\n",
      "Epoch 9, Batch 11/34, Contrastive Loss: 0.0003\n",
      "Epoch 9, Batch 12/34, Contrastive Loss: 0.0003\n",
      "Epoch 9, Batch 13/34, Contrastive Loss: 0.0001\n",
      "Epoch 9, Batch 14/34, Contrastive Loss: 0.0004\n",
      "Epoch 9, Batch 15/34, Contrastive Loss: 0.0009\n",
      "Epoch 9, Batch 16/34, Contrastive Loss: 0.0010\n",
      "Epoch 9, Batch 17/34, Contrastive Loss: 0.0010\n",
      "Epoch 9, Batch 18/34, Contrastive Loss: 0.0002\n",
      "Epoch 9, Batch 19/34, Contrastive Loss: 0.0004\n",
      "Epoch 9, Batch 20/34, Contrastive Loss: 0.0003\n",
      "Epoch 9, Batch 20/34, Total Loss: 0.5141, Segmentation Loss: 0.1029, Domain Loss Source: 0.2311, Domain Loss Target: 0.1504, Adversarial Loss Target: 0.0017\n",
      "Epoch 9, Batch 21/34, Contrastive Loss: 0.0002\n",
      "Epoch 9, Batch 22/34, Contrastive Loss: 0.0010\n",
      "Epoch 9, Batch 23/34, Contrastive Loss: 0.0002\n",
      "Epoch 9, Batch 24/34, Contrastive Loss: 0.0012\n",
      "Epoch 9, Batch 25/34, Contrastive Loss: 0.0010\n",
      "Epoch 9, Batch 26/34, Contrastive Loss: 0.0003\n",
      "Epoch 9, Batch 27/34, Contrastive Loss: 0.0004\n",
      "Epoch 9, Batch 28/34, Contrastive Loss: 0.0009\n",
      "Epoch 9, Batch 29/34, Contrastive Loss: 0.0001\n",
      "Epoch 9, Batch 30/34, Contrastive Loss: 0.0006\n",
      "Epoch 9, Batch 30/34, Total Loss: 0.6563, Segmentation Loss: 0.1054, Domain Loss Source: 0.1355, Domain Loss Target: 0.4440, Adversarial Loss Target: 0.0006\n",
      "Epoch 9, Batch 31/34, Contrastive Loss: 0.0002\n",
      "Epoch 9, Batch 32/34, Contrastive Loss: 0.0010\n",
      "Epoch 9, Batch 33/34, Contrastive Loss: 0.0005\n",
      "Epoch 9, Batch 34/34, Contrastive Loss: 0.0002\n",
      "Epoch 9, Train Loss: 2.8592\n",
      "Evaluating model performance on source data\n",
      "Precision: 0.9042, Recall: 0.5573, F1 Score: 0.6869, Dice Score: 0.6869, Accuracy: 0.9121\n",
      "Evaluating model performance on target data\n",
      "Precision: 0.4569, Recall: 0.7179, F1 Score: 0.5527, Dice Score: 0.5527, Accuracy: 0.7704\n",
      "Epoch 9, Validation Loss Source: 0.3568, Validation Loss Target: 1.2843\n",
      "Epoch 10, Batch 1/34, Contrastive Loss: 0.0003\n",
      "Epoch 10, Batch 2/34, Contrastive Loss: 0.0002\n",
      "Epoch 10, Batch 3/34, Contrastive Loss: 0.0002\n",
      "Epoch 10, Batch 4/34, Contrastive Loss: 0.0004\n",
      "Epoch 10, Batch 5/34, Contrastive Loss: 0.0002\n",
      "Epoch 10, Batch 6/34, Contrastive Loss: 0.0011\n",
      "Epoch 10, Batch 7/34, Contrastive Loss: 0.0007\n",
      "Epoch 10, Batch 8/34, Contrastive Loss: 0.0002\n",
      "Epoch 10, Batch 9/34, Contrastive Loss: 0.0005\n",
      "Epoch 10, Batch 10/34, Contrastive Loss: 0.0002\n",
      "Epoch 10, Batch 10/34, Total Loss: 0.5857, Segmentation Loss: 0.1062, Domain Loss Source: 0.4144, Domain Loss Target: 0.1070, Adversarial Loss Target: 0.0017\n",
      "Epoch 10, Batch 11/34, Contrastive Loss: 0.0001\n",
      "Epoch 10, Batch 12/34, Contrastive Loss: 0.0003\n",
      "Epoch 10, Batch 13/34, Contrastive Loss: 0.0001\n",
      "Epoch 10, Batch 14/34, Contrastive Loss: 0.0007\n",
      "Epoch 10, Batch 15/34, Contrastive Loss: 0.0009\n",
      "Epoch 10, Batch 16/34, Contrastive Loss: 0.0002\n",
      "Epoch 10, Batch 17/34, Contrastive Loss: 0.0002\n",
      "Epoch 10, Batch 18/34, Contrastive Loss: 0.0002\n",
      "Epoch 10, Batch 19/34, Contrastive Loss: 0.0002\n",
      "Epoch 10, Batch 20/34, Contrastive Loss: 0.0003\n",
      "Epoch 10, Batch 20/34, Total Loss: 0.5622, Segmentation Loss: 0.0966, Domain Loss Source: 0.3102, Domain Loss Target: 0.1782, Adversarial Loss Target: 0.0012\n",
      "Epoch 10, Batch 21/34, Contrastive Loss: 0.0002\n",
      "Epoch 10, Batch 22/34, Contrastive Loss: 0.0007\n",
      "Epoch 10, Batch 23/34, Contrastive Loss: 0.0005\n",
      "Epoch 10, Batch 24/34, Contrastive Loss: 0.0002\n",
      "Epoch 10, Batch 25/34, Contrastive Loss: 0.0003\n",
      "Epoch 10, Batch 26/34, Contrastive Loss: 0.0002\n",
      "Epoch 10, Batch 27/34, Contrastive Loss: 0.0001\n",
      "Epoch 10, Batch 28/34, Contrastive Loss: 0.0003\n",
      "Epoch 10, Batch 29/34, Contrastive Loss: 0.0001\n",
      "Epoch 10, Batch 30/34, Contrastive Loss: 0.0007\n",
      "Epoch 10, Batch 30/34, Total Loss: 0.5691, Segmentation Loss: 0.0876, Domain Loss Source: 0.1994, Domain Loss Target: 0.2033, Adversarial Loss Target: 0.0012\n",
      "Epoch 10, Batch 31/34, Contrastive Loss: 0.0004\n",
      "Epoch 10, Batch 32/34, Contrastive Loss: 0.0002\n",
      "Epoch 10, Batch 33/34, Contrastive Loss: 0.0002\n",
      "Epoch 10, Batch 34/34, Contrastive Loss: 0.0002\n",
      "Epoch 10, Train Loss: 2.9509\n",
      "Evaluating model performance on source data\n",
      "Precision: 0.8975, Recall: 0.5672, F1 Score: 0.6923, Dice Score: 0.6923, Accuracy: 0.9128\n",
      "Evaluating model performance on target data\n",
      "Precision: 0.4488, Recall: 0.7769, F1 Score: 0.5589, Dice Score: 0.5589, Accuracy: 0.7556\n",
      "Epoch 10, Validation Loss Source: 0.3634, Validation Loss Target: 1.4401\n",
      "Precision: 0.4833, Recall: 0.7395, F1 Score: 0.5751, Dice Score: 0.5751, Accuracy: 0.7832\n"
     ]
    },
    {
     "data": {
      "application/vnd.jupyter.widget-view+json": {
       "model_id": "0f27e37edb104e09ad7dba4c9924587b",
       "version_major": 2,
       "version_minor": 0
      },
      "text/plain": [
       "VBox(children=(Label(value='1795.388 MB of 1795.388 MB uploaded\\r'), FloatProgress(value=1.0, max=1.0)))"
      ]
     },
     "metadata": {},
     "output_type": "display_data"
    },
    {
     "data": {
      "text/html": [
       "<style>\n",
       "    table.wandb td:nth-child(1) { padding: 0 10px; text-align: left ; width: auto;} td:nth-child(2) {text-align: left ; width: 100%}\n",
       "    .wandb-row { display: flex; flex-direction: row; flex-wrap: wrap; justify-content: flex-start; width: 100% }\n",
       "    .wandb-col { display: flex; flex-direction: column; flex-basis: 100%; flex: 1; padding: 10px; }\n",
       "    </style>\n",
       "<div class=\"wandb-row\"><div class=\"wandb-col\"><h3>Run history:</h3><br/><table class=\"wandb\"><tr><td>dice_score/source</td><td>▂▃▂▆▆▇▁███</td></tr><tr><td>dice_score/target</td><td>▁▄█▇▇▇▇█▇▇</td></tr><tr><td>epoch</td><td>▁▂▃▃▄▅▆▆▇█</td></tr><tr><td>precision/source</td><td>▇█▄▄▄▅▁▆▇▆</td></tr><tr><td>precision/target</td><td>▁▅█▇▇▇▇▇▅▅</td></tr><tr><td>test/accuracy</td><td>▁</td></tr><tr><td>test/dice_score</td><td>▁</td></tr><tr><td>test/f1_score</td><td>▁</td></tr><tr><td>test/precision</td><td>▁</td></tr><tr><td>test/recall</td><td>▁</td></tr><tr><td>train/domain_loss</td><td>█▄▄▄▄▃▁▃▃▃</td></tr><tr><td>train/loss</td><td>█▄▃▃▃▂▁▂▁▂</td></tr><tr><td>val/loss_source</td><td>▃▃▃▁▁▂█▂▃▃</td></tr><tr><td>val/loss_target</td><td>▁▁▁▂▃▃▄▅▆█</td></tr></table><br/></div><div class=\"wandb-col\"><h3>Run summary:</h3><br/><table class=\"wandb\"><tr><td>dice_score/source</td><td>0.69232</td></tr><tr><td>dice_score/target</td><td>0.55893</td></tr><tr><td>epoch</td><td>10</td></tr><tr><td>precision/source</td><td>0.89752</td></tr><tr><td>precision/target</td><td>0.44877</td></tr><tr><td>test/accuracy</td><td>0.78323</td></tr><tr><td>test/dice_score</td><td>0.57505</td></tr><tr><td>test/f1_score</td><td>0.57505</td></tr><tr><td>test/precision</td><td>0.4833</td></tr><tr><td>test/recall</td><td>0.73952</td></tr><tr><td>train/domain_loss</td><td>0.46304</td></tr><tr><td>train/loss</td><td>2.95092</td></tr><tr><td>val/loss_source</td><td>0.36343</td></tr><tr><td>val/loss_target</td><td>1.44009</td></tr></table><br/></div></div>"
      ],
      "text/plain": [
       "<IPython.core.display.HTML object>"
      ]
     },
     "metadata": {},
     "output_type": "display_data"
    },
    {
     "data": {
      "text/html": [
       " View run <strong style=\"color:#cdcd00\">FADA-penalizeRings-mean-pretrained-random_crops-bloodvessel_ratio01-window_500-600</strong> at: <a href='https://wandb.ai/idp2024/domain-adaptation/runs/jc8gc495' target=\"_blank\">https://wandb.ai/idp2024/domain-adaptation/runs/jc8gc495</a><br/> View project at: <a href='https://wandb.ai/idp2024/domain-adaptation' target=\"_blank\">https://wandb.ai/idp2024/domain-adaptation</a><br/>Synced 5 W&B file(s), 180 media file(s), 4 artifact file(s) and 0 other file(s)"
      ],
      "text/plain": [
       "<IPython.core.display.HTML object>"
      ]
     },
     "metadata": {},
     "output_type": "display_data"
    },
    {
     "data": {
      "text/html": [
       "Find logs at: <code>./wandb/run-20250106_001952-jc8gc495/logs</code>"
      ],
      "text/plain": [
       "<IPython.core.display.HTML object>"
      ]
     },
     "metadata": {},
     "output_type": "display_data"
    },
    {
     "data": {
      "image/png": "[encoded data removed]",
      "text/plain": [
       "<Figure size 1000x600 with 1 Axes>"
      ]
     },
     "metadata": {},
     "output_type": "display_data"
    }
   ],
   "source": [
    "import matplotlib.pyplot as plt\n",
    "from FADA.train_FADA_unsupervised import model_pipeline\n",
    "import torch\n",
    "\n",
    "encoder = \"timm-regnetx_320\"\n",
    "architecture = \"Linknet\"\n",
    "device = torch.device(\"cuda:3\" if torch.cuda.is_available() else \"cpu\")\n",
    "epochs = 10\n",
    "loss = \"BCE\"\n",
    "in_channels = 1\n",
    "ndf = 512\n",
    "learning_rate_fea = 0.001862602441467392\n",
    "learning_rate_cls = 0.007213533657259828\n",
    "learning_rate_dis = 0.00014998936792878458\n",
    "\n",
    "config = {\n",
    "    \"model\": \"FADA-penalizeRings-mean-pretrained-random_crops-bloodvessel_ratio01-window_{window[0]}-{window[1]}\".format(\n",
    "        window=window\n",
    "    ),\n",
    "    \"encoder\": encoder,\n",
    "    \"architecture\": architecture,\n",
    "    \"in_channels\": in_channels,\n",
    "    \"optimizer\": \"Adam\",\n",
    "    \"batch_size_source\": trainloader_source.batch_size,\n",
    "    \"batch_size_target\": trainloader_target.batch_size,\n",
    "    \"learning_rate_fea\": learning_rate_fea,\n",
    "    \"learning_rate_cls\": learning_rate_cls,\n",
    "    \"learning_rate_dis\": learning_rate_dis,\n",
    "    \"ndf\": ndf,\n",
    "    \"epochs\": epochs,\n",
    "    \"seg_loss\": loss,\n",
    "    \"pretrained\": \"./models/Linknet-timm-regnetx_320-512x512-augmented-with-random-crops-single-channel-focal.pth\",\n",
    "    \"augmented\": target_augmented,\n",
    "    \"contrastive_loss\": True,\n",
    "    \"penalize_rings_weight\": 2.0,\n",
    "}\n",
    "\n",
    "\n",
    "model, train_losses, domain_losses, val_losses_source, val_losses_target = (\n",
    "    model_pipeline(\n",
    "        trainloader_source,\n",
    "        validationloader_source,\n",
    "        testloader_source,\n",
    "        trainloader_target,\n",
    "        testloader_target,\n",
    "        config,\n",
    "        project=\"domain-adaptation\",\n",
    "        device=device,\n",
    "        batch_print=10,\n",
    "        evaluate=True,\n",
    "        with_overlays=True,\n",
    "    )\n",
    ")\n",
    "\n",
    "plt.figure(figsize=(10, 6))\n",
    "plt.plot(train_losses, label=\"Combined Training Loss\")\n",
    "plt.plot(domain_losses, label=\"Domain Loss\")\n",
    "plt.plot(val_losses_source, label=\"Validation Loss Source\")\n",
    "plt.plot(val_losses_target, label=\"Validation Loss Target\")\n",
    "plt.xlabel(\"Epochs\")\n",
    "plt.ylabel(\"Loss\")\n",
    "plt.title(\"Training and Validation Loss Curves\")\n",
    "plt.legend()\n",
    "plt.show()"
   ]
  },
  {
   "cell_type": "markdown",
   "metadata": {},
   "source": [
    "### Supervised Domain Adapatation"
   ]
  },
  {
   "cell_type": "markdown",
   "metadata": {},
   "source": [
    "#### GRL"
   ]
  },
  {
   "cell_type": "code",
   "execution_count": null,
   "metadata": {},
   "outputs": [
    {
     "name": "stderr",
     "output_type": "stream",
     "text": [
      "Failed to detect the name of this notebook, you can set it manually with the WANDB_NOTEBOOK_NAME environment variable to enable code saving.\n",
      "\u001b[34m\u001b[1mwandb\u001b[0m: Currently logged in as: \u001b[33mtim-mach\u001b[0m (\u001b[33midp2024\u001b[0m). Use \u001b[1m`wandb login --relogin`\u001b[0m to force relogin\n"
     ]
    },
    {
     "data": {
      "text/html": [
       "wandb version 0.18.6 is available!  To upgrade, please run:\n",
       " $ pip install wandb --upgrade"
      ],
      "text/plain": [
       "<IPython.core.display.HTML object>"
      ]
     },
     "metadata": {},
     "output_type": "display_data"
    },
    {
     "data": {
      "text/html": [
       "Tracking run with wandb version 0.16.6"
      ],
      "text/plain": [
       "<IPython.core.display.HTML object>"
      ]
     },
     "metadata": {},
     "output_type": "display_data"
    },
    {
     "data": {
      "text/html": [
       "Run data is saved locally in <code>/home/home/tim_ivan/idp/wandb/run-20241113_231515-g7k8n98v</code>"
      ],
      "text/plain": [
       "<IPython.core.display.HTML object>"
      ]
     },
     "metadata": {},
     "output_type": "display_data"
    },
    {
     "data": {
      "text/html": [
       "Syncing run <strong><a href='https://wandb.ai/idp2024/supervised-domain-adaptation/runs/g7k8n98v' target=\"_blank\">GRL-Linknet-timm-regnetx_320-window_500-600-pretrained-random_crops-bloodvessel_ratio01-supervised</a></strong> to <a href='https://wandb.ai/idp2024/supervised-domain-adaptation' target=\"_blank\">Weights & Biases</a> (<a href='https://wandb.me/run' target=\"_blank\">docs</a>)<br/>"
      ],
      "text/plain": [
       "<IPython.core.display.HTML object>"
      ]
     },
     "metadata": {},
     "output_type": "display_data"
    },
    {
     "data": {
      "text/html": [
       " View project at <a href='https://wandb.ai/idp2024/supervised-domain-adaptation' target=\"_blank\">https://wandb.ai/idp2024/supervised-domain-adaptation</a>"
      ],
      "text/plain": [
       "<IPython.core.display.HTML object>"
      ]
     },
     "metadata": {},
     "output_type": "display_data"
    },
    {
     "data": {
      "text/html": [
       " View run at <a href='https://wandb.ai/idp2024/supervised-domain-adaptation/runs/g7k8n98v' target=\"_blank\">https://wandb.ai/idp2024/supervised-domain-adaptation/runs/g7k8n98v</a>"
      ],
      "text/plain": [
       "<IPython.core.display.HTML object>"
      ]
     },
     "metadata": {},
     "output_type": "display_data"
    },
    {
     "name": "stdout",
     "output_type": "stream",
     "text": [
      "Loading pretrained model from ./models/Linknet-timm-regnetx_320-512x512-augmented-with-random-crops-single-channel-focal.pth\n"
     ]
    },
    {
     "name": "stderr",
     "output_type": "stream",
     "text": [
      "/home/home/tim_ivan/idp/.venv/lib/python3.8/site-packages/torch/nn/modules/conv.py:456: UserWarning: Plan failed with a cudnnException: CUDNN_BACKEND_EXECUTION_PLAN_DESCRIPTOR: cudnnFinalize Descriptor Failed cudnn_status: CUDNN_STATUS_NOT_SUPPORTED (Triggered internally at ../aten/src/ATen/native/cudnn/Conv_v8.cpp:919.)\n",
      "  return F.conv2d(input, weight, bias, self.stride,\n",
      "/home/home/tim_ivan/idp/.venv/lib/python3.8/site-packages/torch/autograd/graph.py:744: UserWarning: Plan failed with a cudnnException: CUDNN_BACKEND_EXECUTION_PLAN_DESCRIPTOR: cudnnFinalize Descriptor Failed cudnn_status: CUDNN_STATUS_NOT_SUPPORTED (Triggered internally at ../aten/src/ATen/native/cudnn/Conv_v8.cpp:919.)\n",
      "  return Variable._execution_engine.run_backward(  # Calls into the C++ engine to run the backward pass\n"
     ]
    },
    {
     "name": "stdout",
     "output_type": "stream",
     "text": [
      "Epoch 1, Batch 1/34, Total Loss: 2.1479, Segmentation Loss: 0.7283, Domain Loss Source: 0.7582, Domain Loss Target: 0.6614\n",
      "Epoch 1, Batch 2/34, Total Loss: 30.4464, Segmentation Loss: 0.6874, Domain Loss Source: 0.0000, Domain Loss Target: 29.7590\n",
      "Epoch 1, Batch 3/34, Total Loss: 45.6899, Segmentation Loss: 0.6732, Domain Loss Source: 43.6820, Domain Loss Target: 1.3348\n",
      "Epoch 1, Batch 4/34, Total Loss: 60.7336, Segmentation Loss: 0.6997, Domain Loss Source: 58.5175, Domain Loss Target: 1.5164\n",
      "Epoch 1, Batch 5/34, Total Loss: 19.6700, Segmentation Loss: 0.6691, Domain Loss Source: 15.5772, Domain Loss Target: 3.4236\n",
      "Epoch 1, Batch 6/34, Total Loss: 23.4743, Segmentation Loss: 0.7398, Domain Loss Source: 16.1773, Domain Loss Target: 6.5572\n",
      "Epoch 1, Batch 7/34, Total Loss: 39.3069, Segmentation Loss: 0.6454, Domain Loss Source: 0.7192, Domain Loss Target: 37.9422\n"
     ]
    },
    {
     "name": "stderr",
     "output_type": "stream",
     "text": [
      "/home/home/tim_ivan/idp/.venv/lib/python3.8/site-packages/torch/nn/modules/conv.py:456: UserWarning: Plan failed with a cudnnException: CUDNN_BACKEND_EXECUTION_PLAN_DESCRIPTOR: cudnnFinalize Descriptor Failed cudnn_status: CUDNN_STATUS_NOT_SUPPORTED (Triggered internally at ../aten/src/ATen/native/cudnn/Conv_v8.cpp:919.)\n",
      "  return F.conv2d(input, weight, bias, self.stride,\n"
     ]
    },
    {
     "name": "stdout",
     "output_type": "stream",
     "text": [
      "Epoch 1, Batch 8/34, Total Loss: 31.2116, Segmentation Loss: 0.7010, Domain Loss Source: 11.5278, Domain Loss Target: 18.9828\n",
      "Epoch 1, Batch 9/34, Total Loss: 6.9516, Segmentation Loss: 0.6254, Domain Loss Source: 5.3976, Domain Loss Target: 0.9286\n",
      "Epoch 1, Batch 10/34, Total Loss: 3.5846, Segmentation Loss: 0.6483, Domain Loss Source: 0.1458, Domain Loss Target: 2.7905\n",
      "Epoch 1, Batch 11/34, Total Loss: 10.3006, Segmentation Loss: 0.6348, Domain Loss Source: 2.2692, Domain Loss Target: 7.3966\n",
      "Epoch 1, Batch 12/34, Total Loss: 9.2024, Segmentation Loss: 0.6809, Domain Loss Source: 1.9968, Domain Loss Target: 6.5247\n",
      "Epoch 1, Batch 13/34, Total Loss: 4.0135, Segmentation Loss: 0.6346, Domain Loss Source: 3.1238, Domain Loss Target: 0.2550\n",
      "Epoch 1, Batch 14/34, Total Loss: 19.5268, Segmentation Loss: 0.6613, Domain Loss Source: 6.5280, Domain Loss Target: 12.3374\n",
      "Epoch 1, Batch 15/34, Total Loss: 2.5017, Segmentation Loss: 0.6154, Domain Loss Source: 1.8577, Domain Loss Target: 0.0286\n",
      "Epoch 1, Batch 16/34, Total Loss: 6.2783, Segmentation Loss: 0.7047, Domain Loss Source: 5.0740, Domain Loss Target: 0.4996\n",
      "Epoch 1, Batch 17/34, Total Loss: 1.7260, Segmentation Loss: 0.5996, Domain Loss Source: 0.6674, Domain Loss Target: 0.4590\n",
      "Epoch 1, Batch 18/34, Total Loss: 5.5996, Segmentation Loss: 0.5644, Domain Loss Source: 0.0086, Domain Loss Target: 5.0266\n",
      "Epoch 1, Batch 19/34, Total Loss: 10.5274, Segmentation Loss: 0.6068, Domain Loss Source: 6.8193, Domain Loss Target: 3.1014\n",
      "Epoch 1, Batch 20/34, Total Loss: 10.7684, Segmentation Loss: 0.6359, Domain Loss Source: 0.4011, Domain Loss Target: 9.7314\n",
      "Epoch 1, Batch 21/34, Total Loss: 1.3909, Segmentation Loss: 0.5996, Domain Loss Source: 0.7165, Domain Loss Target: 0.0748\n",
      "Epoch 1, Batch 22/34, Total Loss: 11.5365, Segmentation Loss: 0.6705, Domain Loss Source: 8.4255, Domain Loss Target: 2.4406\n",
      "Epoch 1, Batch 23/34, Total Loss: 3.7295, Segmentation Loss: 0.6413, Domain Loss Source: 3.0493, Domain Loss Target: 0.0388\n",
      "Epoch 1, Batch 24/34, Total Loss: 5.4131, Segmentation Loss: 0.6529, Domain Loss Source: 4.6816, Domain Loss Target: 0.0786\n",
      "Epoch 1, Batch 25/34, Total Loss: 2.5026, Segmentation Loss: 0.6071, Domain Loss Source: 1.8850, Domain Loss Target: 0.0105\n",
      "Epoch 1, Batch 26/34, Total Loss: 3.0495, Segmentation Loss: 0.5626, Domain Loss Source: 0.2849, Domain Loss Target: 2.2021\n",
      "Epoch 1, Batch 27/34, Total Loss: 4.2334, Segmentation Loss: 0.6126, Domain Loss Source: 1.0855, Domain Loss Target: 2.5353\n",
      "Epoch 1, Batch 28/34, Total Loss: 5.0916, Segmentation Loss: 0.5697, Domain Loss Source: 0.0062, Domain Loss Target: 4.5157\n",
      "Epoch 1, Batch 29/34, Total Loss: 1.8426, Segmentation Loss: 0.5427, Domain Loss Source: 0.0003, Domain Loss Target: 1.2996\n",
      "Epoch 1, Batch 30/34, Total Loss: 3.1234, Segmentation Loss: 0.5734, Domain Loss Source: 1.2844, Domain Loss Target: 1.2656\n",
      "Epoch 1, Batch 31/34, Total Loss: 2.0092, Segmentation Loss: 0.5704, Domain Loss Source: 0.1472, Domain Loss Target: 1.2916\n",
      "Epoch 1, Batch 32/34, Total Loss: 4.5006, Segmentation Loss: 0.5560, Domain Loss Source: 0.3734, Domain Loss Target: 3.5712\n",
      "Epoch 1, Batch 33/34, Total Loss: 4.0462, Segmentation Loss: 0.5730, Domain Loss Source: 3.4730, Domain Loss Target: 0.0002\n",
      "Epoch 1, Batch 34/34, Total Loss: 4.0458, Segmentation Loss: 0.5671, Domain Loss Source: 3.4323, Domain Loss Target: 0.0463\n",
      "Epoch 1, Train Loss: 11.7699\n",
      "Evaluating model performance on source data\n",
      "Precision: 0.7823, Recall: 0.4425, F1 Score: 0.5616, Dice Score: 0.5616, Accuracy: 0.8803\n",
      "Evaluating model performance on target data\n",
      "Precision: nan, Recall: 0.1608, F1 Score: 0.1985, Dice Score: 0.1985, Accuracy: 0.7622\n",
      "Epoch 1, Validation Loss Source: 0.4782, Validation Loss Target: 0.8067\n",
      "Epoch 2, Batch 1/34, Total Loss: 2.9017, Segmentation Loss: 0.5977, Domain Loss Source: 2.2515, Domain Loss Target: 0.0524\n",
      "Epoch 2, Batch 2/34, Total Loss: 4.8484, Segmentation Loss: 0.5466, Domain Loss Source: 3.2542, Domain Loss Target: 1.0476\n",
      "Epoch 2, Batch 3/34, Total Loss: 0.5970, Segmentation Loss: 0.5481, Domain Loss Source: 0.0028, Domain Loss Target: 0.0461\n",
      "Epoch 2, Batch 4/34, Total Loss: 2.6450, Segmentation Loss: 0.5633, Domain Loss Source: 0.0003, Domain Loss Target: 2.0815\n",
      "Epoch 2, Batch 5/34, Total Loss: 4.1850, Segmentation Loss: 0.5813, Domain Loss Source: 0.0355, Domain Loss Target: 3.5682\n",
      "Epoch 2, Batch 6/34, Total Loss: 3.6665, Segmentation Loss: 0.5624, Domain Loss Source: 0.4885, Domain Loss Target: 2.6156\n",
      "Epoch 2, Batch 7/34, Total Loss: 0.9493, Segmentation Loss: 0.5857, Domain Loss Source: 0.0459, Domain Loss Target: 0.3177\n",
      "Epoch 2, Batch 8/34, Total Loss: 1.8488, Segmentation Loss: 0.5683, Domain Loss Source: 0.7101, Domain Loss Target: 0.5705\n",
      "Epoch 2, Batch 9/34, Total Loss: 1.1248, Segmentation Loss: 0.5281, Domain Loss Source: 0.5456, Domain Loss Target: 0.0512\n",
      "Epoch 2, Batch 10/34, Total Loss: 2.2108, Segmentation Loss: 0.5632, Domain Loss Source: 1.5653, Domain Loss Target: 0.0823\n",
      "Epoch 2, Batch 11/34, Total Loss: 3.0093, Segmentation Loss: 0.5071, Domain Loss Source: 2.5005, Domain Loss Target: 0.0016\n",
      "Epoch 2, Batch 12/34, Total Loss: 1.4516, Segmentation Loss: 0.5773, Domain Loss Source: 0.8741, Domain Loss Target: 0.0001\n",
      "Epoch 2, Batch 13/34, Total Loss: 0.8983, Segmentation Loss: 0.5071, Domain Loss Source: 0.3265, Domain Loss Target: 0.0646\n",
      "Epoch 2, Batch 14/34, Total Loss: 0.8333, Segmentation Loss: 0.5565, Domain Loss Source: 0.0016, Domain Loss Target: 0.2752\n",
      "Epoch 2, Batch 15/34, Total Loss: 0.6979, Segmentation Loss: 0.5208, Domain Loss Source: 0.0072, Domain Loss Target: 0.1699\n",
      "Epoch 2, Batch 16/34, Total Loss: 2.1657, Segmentation Loss: 0.5887, Domain Loss Source: 0.0449, Domain Loss Target: 1.5321\n",
      "Epoch 2, Batch 17/34, Total Loss: 1.7429, Segmentation Loss: 0.4979, Domain Loss Source: 0.0018, Domain Loss Target: 1.2432\n",
      "Epoch 2, Batch 18/34, Total Loss: 1.9530, Segmentation Loss: 0.4572, Domain Loss Source: 0.2773, Domain Loss Target: 1.2186\n",
      "Epoch 2, Batch 19/34, Total Loss: 0.9406, Segmentation Loss: 0.4863, Domain Loss Source: 0.4377, Domain Loss Target: 0.0166\n",
      "Epoch 2, Batch 20/34, Total Loss: 1.6731, Segmentation Loss: 0.4916, Domain Loss Source: 1.1809, Domain Loss Target: 0.0006\n",
      "Epoch 2, Batch 21/34, Total Loss: 1.0084, Segmentation Loss: 0.5002, Domain Loss Source: 0.4919, Domain Loss Target: 0.0163\n",
      "Epoch 2, Batch 22/34, Total Loss: 2.8156, Segmentation Loss: 0.6112, Domain Loss Source: 1.9937, Domain Loss Target: 0.2107\n",
      "Epoch 2, Batch 23/34, Total Loss: 0.6283, Segmentation Loss: 0.5690, Domain Loss Source: 0.0467, Domain Loss Target: 0.0126\n",
      "Epoch 2, Batch 24/34, Total Loss: 1.6291, Segmentation Loss: 0.5829, Domain Loss Source: 0.9306, Domain Loss Target: 0.1156\n",
      "Epoch 2, Batch 25/34, Total Loss: 0.7569, Segmentation Loss: 0.4917, Domain Loss Source: 0.0356, Domain Loss Target: 0.2296\n",
      "Epoch 2, Batch 26/34, Total Loss: 1.4479, Segmentation Loss: 0.4954, Domain Loss Source: 0.0498, Domain Loss Target: 0.9027\n",
      "Epoch 2, Batch 27/34, Total Loss: 1.9658, Segmentation Loss: 0.5060, Domain Loss Source: 1.3640, Domain Loss Target: 0.0958\n",
      "Epoch 2, Batch 28/34, Total Loss: 1.0930, Segmentation Loss: 0.4625, Domain Loss Source: 0.1319, Domain Loss Target: 0.4986\n",
      "Epoch 2, Batch 29/34, Total Loss: 1.4581, Segmentation Loss: 0.4607, Domain Loss Source: 0.0120, Domain Loss Target: 0.9854\n",
      "Epoch 2, Batch 30/34, Total Loss: 1.0058, Segmentation Loss: 0.4967, Domain Loss Source: 0.0293, Domain Loss Target: 0.4798\n",
      "Epoch 2, Batch 31/34, Total Loss: 0.9356, Segmentation Loss: 0.4562, Domain Loss Source: 0.4568, Domain Loss Target: 0.0227\n",
      "Epoch 2, Batch 32/34, Total Loss: 0.7004, Segmentation Loss: 0.4840, Domain Loss Source: 0.1978, Domain Loss Target: 0.0186\n",
      "Epoch 2, Batch 33/34, Total Loss: 1.2428, Segmentation Loss: 0.4708, Domain Loss Source: 0.7382, Domain Loss Target: 0.0338\n",
      "Epoch 2, Batch 34/34, Total Loss: 0.8910, Segmentation Loss: 0.4652, Domain Loss Source: 0.2035, Domain Loss Target: 0.2223\n",
      "Epoch 2, Train Loss: 1.7036\n"
     ]
    }
   ],
   "source": [
    "from torch.utils.data import DataLoader, Subset\n",
    "import torch\n",
    "from supervised_domain_adaptation import model_pipeline\n",
    "\n",
    "trainloader_target_labeled = DataLoader(\n",
    "    Subset(testset, [0]),\n",
    "    batch_size=1,\n",
    "    shuffle=True,\n",
    ")\n",
    "testloader_target = DataLoader(\n",
    "    Subset(testset, [1, 2, 3, 4]), batch_size=1, shuffle=False\n",
    ")\n",
    "\n",
    "encoder = \"timm-regnetx_320\"\n",
    "architecture = \"Linknet\"\n",
    "device = torch.device(\"cuda:4\" if torch.cuda.is_available() else \"cpu\")\n",
    "lambda_param = 0.5\n",
    "learning_rate = 0.001\n",
    "loss = \"Dice\"\n",
    "epochs = 10\n",
    "in_channels = 1\n",
    "hidden_dim = 256\n",
    "\n",
    "config = {\n",
    "    \"model\": \"GRL-{architecture}-{encoder}-window_{window[0]}-{window[1]}-pretrained-random_crops-bloodvessel_ratio01-supervised\".format(\n",
    "        architecture=architecture, encoder=encoder, window=window\n",
    "    ),\n",
    "    \"encoder\": encoder,\n",
    "    \"architecture\": architecture,\n",
    "    \"learning_rate\": learning_rate,\n",
    "    \"optimizer\": \"Adam\",\n",
    "    \"lambda_param\": lambda_param,\n",
    "    \"batch_size_source\": trainloader_source.batch_size,\n",
    "    \"batch_size_target\": trainloader_target.batch_size,\n",
    "    \"hidden_dim\": hidden_dim,\n",
    "    \"epochs\": epochs,\n",
    "    \"loss\": loss,\n",
    "    \"in_channels\": in_channels,\n",
    "    \"pretrained\": './models/Linknet-timm-regnetx_320-512x512-augmented-with-random-crops-single-channel-focal.pth',\n",
    "    \"supervised\": True,\n",
    "}\n",
    "\n",
    "model, train_losses, domain_losses, val_losses_source, val_losses_target = model_pipeline(\n",
    "    trainloader_source,\n",
    "    validationloader_source,\n",
    "    testloader_source,\n",
    "    trainloader_target_labeled,\n",
    "    trainloader_target,\n",
    "    testloader_target,\n",
    "    config,\n",
    "    project=\"supervised-domain-adaptation\",\n",
    "    device=device,\n",
    "    batch_print=1,\n",
    "    evaluate=True,\n",
    "    with_overlays=True,\n",
    ")"
   ]
  },
  {
   "cell_type": "markdown",
   "metadata": {},
   "source": [
    "#### FADA"
   ]
  },
  {
   "cell_type": "code",
   "execution_count": null,
   "metadata": {},
   "outputs": [
    {
     "name": "stderr",
     "output_type": "stream",
     "text": [
      "Failed to detect the name of this notebook, you can set it manually with the WANDB_NOTEBOOK_NAME environment variable to enable code saving.\n",
      "\u001b[34m\u001b[1mwandb\u001b[0m: Currently logged in as: \u001b[33mtim-mach\u001b[0m (\u001b[33midp2024\u001b[0m). Use \u001b[1m`wandb login --relogin`\u001b[0m to force relogin\n"
     ]
    },
    {
     "data": {
      "text/html": [
       "wandb version 0.18.6 is available!  To upgrade, please run:\n",
       " $ pip install wandb --upgrade"
      ],
      "text/plain": [
       "<IPython.core.display.HTML object>"
      ]
     },
     "metadata": {},
     "output_type": "display_data"
    },
    {
     "data": {
      "text/html": [
       "Tracking run with wandb version 0.16.6"
      ],
      "text/plain": [
       "<IPython.core.display.HTML object>"
      ]
     },
     "metadata": {},
     "output_type": "display_data"
    },
    {
     "data": {
      "text/html": [
       "Run data is saved locally in <code>/home/home/tim_ivan/idp/wandb/run-20241113_215941-qd45bcaj</code>"
      ],
      "text/plain": [
       "<IPython.core.display.HTML object>"
      ]
     },
     "metadata": {},
     "output_type": "display_data"
    },
    {
     "data": {
      "text/html": [
       "Syncing run <strong><a href='https://wandb.ai/idp2024/supervised-domain-adaptation/runs/qd45bcaj' target=\"_blank\">FADA-Linknet-timm-regnetx_320-window_500-600_pretrained-augmented_target-random_crops_bloodvessel_ratio01</a></strong> to <a href='https://wandb.ai/idp2024/supervised-domain-adaptation' target=\"_blank\">Weights & Biases</a> (<a href='https://wandb.me/run' target=\"_blank\">docs</a>)<br/>"
      ],
      "text/plain": [
       "<IPython.core.display.HTML object>"
      ]
     },
     "metadata": {},
     "output_type": "display_data"
    },
    {
     "data": {
      "text/html": [
       " View project at <a href='https://wandb.ai/idp2024/supervised-domain-adaptation' target=\"_blank\">https://wandb.ai/idp2024/supervised-domain-adaptation</a>"
      ],
      "text/plain": [
       "<IPython.core.display.HTML object>"
      ]
     },
     "metadata": {},
     "output_type": "display_data"
    },
    {
     "data": {
      "text/html": [
       " View run at <a href='https://wandb.ai/idp2024/supervised-domain-adaptation/runs/qd45bcaj' target=\"_blank\">https://wandb.ai/idp2024/supervised-domain-adaptation/runs/qd45bcaj</a>"
      ],
      "text/plain": [
       "<IPython.core.display.HTML object>"
      ]
     },
     "metadata": {},
     "output_type": "display_data"
    },
    {
     "name": "stdout",
     "output_type": "stream",
     "text": [
      "Loading pretrained model from ./models/Linknet-timm-regnetx_320-512x512-augmented-with-random-crops-single-channel-focal.pth\n"
     ]
    },
    {
     "name": "stderr",
     "output_type": "stream",
     "text": [
      "/home/home/tim_ivan/idp/.venv/lib/python3.8/site-packages/torch/nn/modules/conv.py:456: UserWarning: Plan failed with a cudnnException: CUDNN_BACKEND_EXECUTION_PLAN_DESCRIPTOR: cudnnFinalize Descriptor Failed cudnn_status: CUDNN_STATUS_NOT_SUPPORTED (Triggered internally at ../aten/src/ATen/native/cudnn/Conv_v8.cpp:919.)\n",
      "  return F.conv2d(input, weight, bias, self.stride,\n",
      "/home/home/tim_ivan/idp/.venv/lib/python3.8/site-packages/torch/autograd/graph.py:744: UserWarning: Plan failed with a cudnnException: CUDNN_BACKEND_EXECUTION_PLAN_DESCRIPTOR: cudnnFinalize Descriptor Failed cudnn_status: CUDNN_STATUS_NOT_SUPPORTED (Triggered internally at ../aten/src/ATen/native/cudnn/Conv_v8.cpp:919.)\n",
      "  return Variable._execution_engine.run_backward(  # Calls into the C++ engine to run the backward pass\n"
     ]
    },
    {
     "name": "stdout",
     "output_type": "stream",
     "text": [
      "Epoch 1, Batch 10/34, Total Loss: 1.0578, Segmentation Loss: 0.4373, Domain Loss Source: 0.3387, Domain Loss Target: 0.2318, Adversarial Loss Target: 0.0009\n",
      "Epoch 1, Batch 20/34, Total Loss: 0.9842, Segmentation Loss: 0.3694, Domain Loss Source: 0.3450, Domain Loss Target: 0.2909, Adversarial Loss Target: 0.0012\n",
      "Epoch 1, Batch 30/34, Total Loss: 0.8321, Segmentation Loss: 0.3126, Domain Loss Source: 0.2059, Domain Loss Target: 0.2563, Adversarial Loss Target: 0.0010\n",
      "Epoch 1, Train Loss: 4.9357\n"
     ]
    },
    {
     "name": "stderr",
     "output_type": "stream",
     "text": [
      "/home/home/tim_ivan/idp/.venv/lib/python3.8/site-packages/torch/nn/modules/conv.py:456: UserWarning: Plan failed with a cudnnException: CUDNN_BACKEND_EXECUTION_PLAN_DESCRIPTOR: cudnnFinalize Descriptor Failed cudnn_status: CUDNN_STATUS_NOT_SUPPORTED (Triggered internally at ../aten/src/ATen/native/cudnn/Conv_v8.cpp:919.)\n",
      "  return F.conv2d(input, weight, bias, self.stride,\n"
     ]
    },
    {
     "name": "stdout",
     "output_type": "stream",
     "text": [
      "Evaluating model performance on source data\n",
      "Precision: 0.9679, Recall: 0.2987, F1 Score: 0.4549, Dice Score: 0.4549, Accuracy: 0.8754\n",
      "Evaluating model performance on target data\n",
      "Precision: nan, Recall: 0.1847, F1 Score: 0.2401, Dice Score: 0.2401, Accuracy: 0.7989\n",
      "Epoch 1, Validation Loss Source: 0.2642, Validation Loss Target: 0.6929\n",
      "Epoch 2, Batch 10/34, Total Loss: 0.7133, Segmentation Loss: 0.2836, Domain Loss Source: 0.2742, Domain Loss Target: 0.1458, Adversarial Loss Target: 0.0018\n",
      "Epoch 2, Batch 20/34, Total Loss: 0.7254, Segmentation Loss: 0.2543, Domain Loss Source: 0.2818, Domain Loss Target: 0.1544, Adversarial Loss Target: 0.0020\n",
      "Epoch 2, Batch 30/34, Total Loss: 0.6715, Segmentation Loss: 0.2273, Domain Loss Source: 0.3369, Domain Loss Target: 0.1476, Adversarial Loss Target: 0.0018\n",
      "Epoch 2, Train Loss: 3.5858\n",
      "Evaluating model performance on source data\n",
      "Precision: 0.9597, Recall: 0.4010, F1 Score: 0.5633, Dice Score: 0.5633, Accuracy: 0.8920\n",
      "Evaluating model performance on target data\n",
      "Precision: 0.4168, Recall: 0.2992, F1 Score: 0.3436, Dice Score: 0.3436, Accuracy: 0.8037\n",
      "Epoch 2, Validation Loss Source: 0.2848, Validation Loss Target: 0.5648\n",
      "Epoch 3, Batch 10/34, Total Loss: 0.6636, Segmentation Loss: 0.2251, Domain Loss Source: 0.4584, Domain Loss Target: 0.0825, Adversarial Loss Target: 0.0027\n",
      "Epoch 3, Batch 20/34, Total Loss: 0.7144, Segmentation Loss: 0.2106, Domain Loss Source: 0.2956, Domain Loss Target: 0.1851, Adversarial Loss Target: 0.0014\n",
      "Epoch 3, Batch 30/34, Total Loss: 0.6797, Segmentation Loss: 0.1863, Domain Loss Source: 0.2117, Domain Loss Target: 0.2501, Adversarial Loss Target: 0.0012\n",
      "Epoch 3, Train Loss: 3.5167\n",
      "Evaluating model performance on source data\n",
      "Precision: 0.9353, Recall: 0.4632, F1 Score: 0.6165, Dice Score: 0.6165, Accuracy: 0.9003\n",
      "Evaluating model performance on target data\n",
      "Precision: 0.5283, Recall: 0.6093, F1 Score: 0.5611, Dice Score: 0.5611, Accuracy: 0.8273\n",
      "Epoch 3, Validation Loss Source: 0.2840, Validation Loss Target: 0.4886\n",
      "Epoch 4, Batch 10/34, Total Loss: 0.6459, Segmentation Loss: 0.1984, Domain Loss Source: 0.4003, Domain Loss Target: 0.1105, Adversarial Loss Target: 0.0021\n",
      "Epoch 4, Batch 20/34, Total Loss: 0.6293, Segmentation Loss: 0.1863, Domain Loss Source: 0.2560, Domain Loss Target: 0.1736, Adversarial Loss Target: 0.0015\n",
      "Epoch 4, Batch 30/34, Total Loss: 0.6457, Segmentation Loss: 0.1615, Domain Loss Source: 0.1470, Domain Loss Target: 0.3052, Adversarial Loss Target: 0.0007\n",
      "Epoch 4, Train Loss: 3.2743\n",
      "Evaluating model performance on source data\n",
      "Precision: 0.9285, Recall: 0.4940, F1 Score: 0.6417, Dice Score: 0.6417, Accuracy: 0.9046\n",
      "Evaluating model performance on target data\n",
      "Precision: 0.5303, Recall: 0.6397, F1 Score: 0.5764, Dice Score: 0.5764, Accuracy: 0.8227\n",
      "Epoch 4, Validation Loss Source: 0.2813, Validation Loss Target: 0.5494\n",
      "Epoch 5, Batch 10/34, Total Loss: 0.6443, Segmentation Loss: 0.1813, Domain Loss Source: 0.4674, Domain Loss Target: 0.0726, Adversarial Loss Target: 0.0023\n",
      "Epoch 5, Batch 20/34, Total Loss: 0.6633, Segmentation Loss: 0.1701, Domain Loss Source: 0.2598, Domain Loss Target: 0.2123, Adversarial Loss Target: 0.0011\n",
      "Epoch 5, Batch 30/34, Total Loss: 0.6203, Segmentation Loss: 0.1447, Domain Loss Source: 0.2218, Domain Loss Target: 0.1649, Adversarial Loss Target: 0.0015\n",
      "Epoch 5, Train Loss: 3.2961\n",
      "Evaluating model performance on source data\n",
      "Precision: 0.9116, Recall: 0.5073, F1 Score: 0.6480, Dice Score: 0.6480, Accuracy: 0.9048\n",
      "Evaluating model performance on target data\n",
      "Precision: 0.5202, Recall: 0.7135, F1 Score: 0.5937, Dice Score: 0.5937, Accuracy: 0.8105\n",
      "Epoch 5, Validation Loss Source: 0.2856, Validation Loss Target: 0.6232\n",
      "Epoch 6, Batch 10/34, Total Loss: 0.5921, Segmentation Loss: 0.1666, Domain Loss Source: 0.1738, Domain Loss Target: 0.2082, Adversarial Loss Target: 0.0011\n",
      "Epoch 6, Batch 20/34, Total Loss: 0.5750, Segmentation Loss: 0.1585, Domain Loss Source: 0.1904, Domain Loss Target: 0.2018, Adversarial Loss Target: 0.0021\n",
      "Epoch 6, Batch 30/34, Total Loss: 0.5659, Segmentation Loss: 0.1321, Domain Loss Source: 0.2841, Domain Loss Target: 0.1192, Adversarial Loss Target: 0.0017\n",
      "Epoch 6, Train Loss: 3.0074\n",
      "Evaluating model performance on source data\n",
      "Precision: 0.9043, Recall: 0.5117, F1 Score: 0.6495, Dice Score: 0.6495, Accuracy: 0.9046\n",
      "Evaluating model performance on target data\n",
      "Precision: 0.5185, Recall: 0.7163, F1 Score: 0.5894, Dice Score: 0.5894, Accuracy: 0.8060\n",
      "Epoch 6, Validation Loss Source: 0.2891, Validation Loss Target: 0.6797\n",
      "Epoch 7, Batch 10/34, Total Loss: 0.5899, Segmentation Loss: 0.1550, Domain Loss Source: 0.3937, Domain Loss Target: 0.0481, Adversarial Loss Target: 0.0030\n",
      "Epoch 7, Batch 20/34, Total Loss: 0.5841, Segmentation Loss: 0.1495, Domain Loss Source: 0.1619, Domain Loss Target: 0.3052, Adversarial Loss Target: 0.0009\n",
      "Epoch 7, Batch 30/34, Total Loss: 0.5380, Segmentation Loss: 0.1232, Domain Loss Source: 0.2105, Domain Loss Target: 0.1323, Adversarial Loss Target: 0.0015\n",
      "Epoch 7, Train Loss: 2.9213\n",
      "Evaluating model performance on source data\n",
      "Precision: 0.8992, Recall: 0.5114, F1 Score: 0.6480, Dice Score: 0.6480, Accuracy: 0.9040\n",
      "Evaluating model performance on target data\n",
      "Precision: 0.5263, Recall: 0.7074, F1 Score: 0.5926, Dice Score: 0.5926, Accuracy: 0.8112\n",
      "Epoch 7, Validation Loss Source: 0.2919, Validation Loss Target: 0.6996\n",
      "Epoch 8, Batch 10/34, Total Loss: 0.5777, Segmentation Loss: 0.1456, Domain Loss Source: 0.0848, Domain Loss Target: 0.3307, Adversarial Loss Target: 0.0009\n",
      "Epoch 8, Batch 20/34, Total Loss: 0.5789, Segmentation Loss: 0.1421, Domain Loss Source: 0.1292, Domain Loss Target: 0.3300, Adversarial Loss Target: 0.0008\n",
      "Epoch 8, Batch 30/34, Total Loss: 0.5645, Segmentation Loss: 0.1154, Domain Loss Source: 0.1321, Domain Loss Target: 0.3084, Adversarial Loss Target: 0.0007\n",
      "Epoch 8, Train Loss: 2.9250\n",
      "Evaluating model performance on source data\n",
      "Precision: 0.8936, Recall: 0.5267, F1 Score: 0.6590, Dice Score: 0.6590, Accuracy: 0.9058\n",
      "Evaluating model performance on target data\n",
      "Precision: 0.5186, Recall: 0.7212, F1 Score: 0.5923, Dice Score: 0.5923, Accuracy: 0.8069\n",
      "Epoch 8, Validation Loss Source: 0.2874, Validation Loss Target: 0.7534\n",
      "Epoch 9, Batch 10/34, Total Loss: 0.5261, Segmentation Loss: 0.1383, Domain Loss Source: 0.2960, Domain Loss Target: 0.1081, Adversarial Loss Target: 0.0019\n",
      "Epoch 9, Batch 20/34, Total Loss: 0.5470, Segmentation Loss: 0.1352, Domain Loss Source: 0.3232, Domain Loss Target: 0.1489, Adversarial Loss Target: 0.0014\n",
      "Epoch 9, Batch 30/34, Total Loss: 0.5350, Segmentation Loss: 0.1087, Domain Loss Source: 0.2148, Domain Loss Target: 0.1058, Adversarial Loss Target: 0.0020\n",
      "Epoch 9, Train Loss: 2.7853\n",
      "Evaluating model performance on source data\n",
      "Precision: 0.8990, Recall: 0.5147, F1 Score: 0.6508, Dice Score: 0.6508, Accuracy: 0.9046\n",
      "Evaluating model performance on target data\n",
      "Precision: 0.5213, Recall: 0.7221, F1 Score: 0.5944, Dice Score: 0.5944, Accuracy: 0.8086\n",
      "Epoch 9, Validation Loss Source: 0.3082, Validation Loss Target: 0.7848\n",
      "Epoch 10, Batch 10/34, Total Loss: 0.5035, Segmentation Loss: 0.1316, Domain Loss Source: 0.1043, Domain Loss Target: 0.3395, Adversarial Loss Target: 0.0008\n",
      "Epoch 10, Batch 20/34, Total Loss: 0.5019, Segmentation Loss: 0.1286, Domain Loss Source: 0.1589, Domain Loss Target: 0.1747, Adversarial Loss Target: 0.0017\n",
      "Epoch 10, Batch 30/34, Total Loss: 0.4754, Segmentation Loss: 0.1025, Domain Loss Source: 0.1172, Domain Loss Target: 0.1213, Adversarial Loss Target: 0.0017\n",
      "Epoch 10, Train Loss: 2.5654\n",
      "Evaluating model performance on source data\n",
      "Precision: 0.9045, Recall: 0.4944, F1 Score: 0.6354, Dice Score: 0.6354, Accuracy: 0.9020\n",
      "Evaluating model performance on target data\n",
      "Precision: 0.5325, Recall: 0.7076, F1 Score: 0.6006, Dice Score: 0.6006, Accuracy: 0.8177\n",
      "Epoch 10, Validation Loss Source: 0.3358, Validation Loss Target: 0.7824\n",
      "Precision: 0.5325, Recall: 0.7076, F1 Score: 0.6006, Dice Score: 0.6006, Accuracy: 0.8177\n"
     ]
    },
    {
     "data": {
      "application/vnd.jupyter.widget-view+json": {
       "model_id": "c61410b8ffce45de8c1d2df2a4a1376f",
       "version_major": 2,
       "version_minor": 0
      },
      "text/plain": [
       "VBox(children=(Label(value='3140.881 MB of 3140.881 MB uploaded\\r'), FloatProgress(value=1.0, max=1.0)))"
      ]
     },
     "metadata": {},
     "output_type": "display_data"
    },
    {
     "data": {
      "text/html": [
       "<style>\n",
       "    table.wandb td:nth-child(1) { padding: 0 10px; text-align: left ; width: auto;} td:nth-child(2) {text-align: left ; width: 100%}\n",
       "    .wandb-row { display: flex; flex-direction: row; flex-wrap: wrap; justify-content: flex-start; width: 100% }\n",
       "    .wandb-col { display: flex; flex-direction: column; flex-basis: 100%; flex: 1; padding: 10px; }\n",
       "    </style>\n",
       "<div class=\"wandb-row\"><div class=\"wandb-col\"><h3>Run history:</h3><br/><table class=\"wandb\"><tr><td>dice_score/source</td><td>▁▅▇▇█████▇</td></tr><tr><td>dice_score/target</td><td>▁▃▇███████</td></tr><tr><td>epoch</td><td>▁▂▃▃▄▅▆▆▇█</td></tr><tr><td>precision/source</td><td>█▇▅▄▃▂▂▁▂▂</td></tr><tr><td>precision/target</td><td> ▁██▇▇█▇▇█</td></tr><tr><td>test/accuracy</td><td>▁</td></tr><tr><td>test/dice_score</td><td>▁</td></tr><tr><td>test/f1_score</td><td>▁</td></tr><tr><td>test/precision</td><td>▁</td></tr><tr><td>test/recall</td><td>▁</td></tr><tr><td>train/domain_loss</td><td>█▃▅▄▅▃▃▄▃▁</td></tr><tr><td>train/loss</td><td>█▄▄▃▃▂▂▂▂▁</td></tr><tr><td>val/loss_source</td><td>▁▃▃▃▃▃▄▃▅█</td></tr><tr><td>val/loss_target</td><td>▆▃▁▂▄▆▆▇██</td></tr></table><br/></div><div class=\"wandb-col\"><h3>Run summary:</h3><br/><table class=\"wandb\"><tr><td>dice_score/source</td><td>0.63538</td></tr><tr><td>dice_score/target</td><td>0.60058</td></tr><tr><td>epoch</td><td>10</td></tr><tr><td>precision/source</td><td>0.90452</td></tr><tr><td>precision/target</td><td>0.53252</td></tr><tr><td>test/accuracy</td><td>0.81768</td></tr><tr><td>test/dice_score</td><td>0.60058</td></tr><tr><td>test/f1_score</td><td>0.60058</td></tr><tr><td>test/precision</td><td>0.53252</td></tr><tr><td>test/recall</td><td>0.7076</td></tr><tr><td>train/domain_loss</td><td>0.36723</td></tr><tr><td>train/loss</td><td>2.56542</td></tr><tr><td>val/loss_source</td><td>0.33583</td></tr><tr><td>val/loss_target</td><td>0.78236</td></tr></table><br/></div></div>"
      ],
      "text/plain": [
       "<IPython.core.display.HTML object>"
      ]
     },
     "metadata": {},
     "output_type": "display_data"
    },
    {
     "data": {
      "text/html": [
       " View run <strong style=\"color:#cdcd00\">FADA-Linknet-timm-regnetx_320-window_500-600_pretrained-augmented_target-random_crops_bloodvessel_ratio01</strong> at: <a href='https://wandb.ai/idp2024/supervised-domain-adaptation/runs/qd45bcaj' target=\"_blank\">https://wandb.ai/idp2024/supervised-domain-adaptation/runs/qd45bcaj</a><br/> View project at: <a href='https://wandb.ai/idp2024/supervised-domain-adaptation' target=\"_blank\">https://wandb.ai/idp2024/supervised-domain-adaptation</a><br/>Synced 5 W&B file(s), 150 media file(s), 7 artifact file(s) and 0 other file(s)"
      ],
      "text/plain": [
       "<IPython.core.display.HTML object>"
      ]
     },
     "metadata": {},
     "output_type": "display_data"
    },
    {
     "data": {
      "text/html": [
       "Find logs at: <code>./wandb/run-20241113_215941-qd45bcaj/logs</code>"
      ],
      "text/plain": [
       "<IPython.core.display.HTML object>"
      ]
     },
     "metadata": {},
     "output_type": "display_data"
    },
    {
     "data": {
      "image/png": "[encoded data removed]",
      "text/plain": [
       "<Figure size 1000x600 with 1 Axes>"
      ]
     },
     "metadata": {},
     "output_type": "display_data"
    }
   ],
   "source": [
    "import matplotlib.pyplot as plt\n",
    "import torch\n",
    "from torch.utils.data import DataLoader, Subset\n",
    "from FADA.train_FADA_supervised import model_pipeline\n",
    "\n",
    "train_indices = [0]\n",
    "trainloader_target_labeled = DataLoader(\n",
    "    Subset(testset, train_indices),\n",
    "    batch_size=1,\n",
    "    shuffle=True,\n",
    ")\n",
    "testloader_target = DataLoader(\n",
    "    Subset(testset, list({0, 1, 2, 3, 4} - set(train_indices))),\n",
    "    batch_size=1,\n",
    "    shuffle=False,\n",
    ")\n",
    "\n",
    "encoder = \"timm-regnetx_320\"\n",
    "architecture = \"Linknet\"\n",
    "device = torch.device(\"cuda:4\" if torch.cuda.is_available() else \"cpu\")\n",
    "epochs = 10\n",
    "loss = \"BCE\"\n",
    "in_channels = 1\n",
    "ndf = 512\n",
    "learning_rate_fea = 0.001\n",
    "learning_rate_cls = 0.001\n",
    "learning_rate_dis = 0.0001\n",
    "\n",
    "config = {\n",
    "    \"model\": \"FADA-{architecture}-{encoder}-window_{window[0]}-{window[1]}_pretrained-augmented_target-random_crops_bloodvessel_ratio01\".format(\n",
    "        architecture=architecture, encoder=encoder, window=window\n",
    "    ),\n",
    "    \"encoder\": encoder,\n",
    "    \"architecture\": architecture,\n",
    "    \"in_channels\": in_channels,\n",
    "    \"optimizer\": \"Adam\",\n",
    "    \"batch_size_source\": trainloader_source.batch_size,\n",
    "    \"batch_size_target\": trainloader_target.batch_size,\n",
    "    \"learning_rate_fea\": learning_rate_fea,\n",
    "    \"learning_rate_cls\": learning_rate_cls,\n",
    "    \"learning_rate_dis\": learning_rate_dis,\n",
    "    \"ndf\": ndf,\n",
    "    \"epochs\": epochs,\n",
    "    \"seg_loss\": loss,\n",
    "    \"pretrained\": \"./models/Linknet-timm-regnetx_320-512x512-augmented-with-random-crops-single-channel-focal.pth\",\n",
    "    \"target_augmented\": target_augmented,\n",
    "    \"train_indices\": train_indices,\n",
    "}\n",
    "\n",
    "\n",
    "model, train_losses, domain_losses, val_losses_source, val_losses_target = (\n",
    "    model_pipeline(\n",
    "        trainloader_source,\n",
    "        validationloader_source,\n",
    "        testloader_source,\n",
    "        trainloader_target_labeled,\n",
    "        trainloader_target,\n",
    "        testloader_target,\n",
    "        config,\n",
    "        project=\"supervised-domain-adaptation\",\n",
    "        device=device,\n",
    "        batch_print=10,\n",
    "        evaluate=True,\n",
    "        with_overlays=True,\n",
    "    )\n",
    ")\n",
    "\n",
    "plt.figure(figsize=(10, 6))\n",
    "plt.plot(train_losses, label=\"Combined Training Loss\")\n",
    "plt.plot(domain_losses, label=\"Domain Loss\")\n",
    "plt.plot(val_losses_source, label=\"Validation Loss Source\")\n",
    "plt.plot(val_losses_target, label=\"Validation Loss Target\")\n",
    "plt.xlabel(\"Epochs\")\n",
    "plt.ylabel(\"Loss\")\n",
    "plt.title(\"Training and Validation Loss Curves\")\n",
    "plt.legend()\n",
    "plt.show()"
   ]
  },
  {
   "cell_type": "markdown",
   "metadata": {},
   "source": [
    "### Gaussian Autoencoder"
   ]
  },
  {
   "cell_type": "markdown",
   "metadata": {},
   "source": [
    "#### Training"
   ]
  },
  {
   "cell_type": "code",
   "execution_count": 1,
   "metadata": {},
   "outputs": [
    {
     "name": "stderr",
     "output_type": "stream",
     "text": [
      "Failed to detect the name of this notebook, you can set it manually with the WANDB_NOTEBOOK_NAME environment variable to enable code saving.\n",
      "\u001b[34m\u001b[1mwandb\u001b[0m: Currently logged in as: \u001b[33mtim-mach\u001b[0m (\u001b[33midp2024\u001b[0m). Use \u001b[1m`wandb login --relogin`\u001b[0m to force relogin\n"
     ]
    },
    {
     "data": {
      "text/html": [
       "wandb version 0.19.1 is available!  To upgrade, please run:\n",
       " $ pip install wandb --upgrade"
      ],
      "text/plain": [
       "<IPython.core.display.HTML object>"
      ]
     },
     "metadata": {},
     "output_type": "display_data"
    },
    {
     "data": {
      "text/html": [
       "Tracking run with wandb version 0.16.6"
      ],
      "text/plain": [
       "<IPython.core.display.HTML object>"
      ]
     },
     "metadata": {},
     "output_type": "display_data"
    },
    {
     "data": {
      "text/html": [
       "Run data is saved locally in <code>/home/home/tim_ivan/idp/wandb/run-20250105_163447-thaxx7m0</code>"
      ],
      "text/plain": [
       "<IPython.core.display.HTML object>"
      ]
     },
     "metadata": {},
     "output_type": "display_data"
    },
    {
     "data": {
      "text/html": [
       "Syncing run <strong><a href='https://wandb.ai/idp2024/hsi-autoencoder/runs/thaxx7m0' target=\"_blank\">gaussianEncoder_with_synthetic_rgb_priors</a></strong> to <a href='https://wandb.ai/idp2024/hsi-autoencoder' target=\"_blank\">Weights & Biases</a> (<a href='https://wandb.me/run' target=\"_blank\">docs</a>)<br/>"
      ],
      "text/plain": [
       "<IPython.core.display.HTML object>"
      ]
     },
     "metadata": {},
     "output_type": "display_data"
    },
    {
     "data": {
      "text/html": [
       " View project at <a href='https://wandb.ai/idp2024/hsi-autoencoder' target=\"_blank\">https://wandb.ai/idp2024/hsi-autoencoder</a>"
      ],
      "text/plain": [
       "<IPython.core.display.HTML object>"
      ]
     },
     "metadata": {},
     "output_type": "display_data"
    },
    {
     "data": {
      "text/html": [
       " View run at <a href='https://wandb.ai/idp2024/hsi-autoencoder/runs/thaxx7m0' target=\"_blank\">https://wandb.ai/idp2024/hsi-autoencoder/runs/thaxx7m0</a>"
      ],
      "text/plain": [
       "<IPython.core.display.HTML object>"
      ]
     },
     "metadata": {},
     "output_type": "display_data"
    },
    {
     "name": "stdout",
     "output_type": "stream",
     "text": [
      "Epoch 1, Batch 5, Loss: 0.3393\n",
      "Epoch 1, Train Loss: 0.3325\n",
      "Epoch 1, mu: [424.99213 192.0078  109.00404], log_sigma: [ 0.00809563  0.00729931 -0.00224328]\n",
      "Epoch 1, Validation Loss: 0.6025\n",
      "Epoch 2, Batch 5, Loss: 0.3062\n",
      "Epoch 2, Train Loss: 0.3164\n",
      "Epoch 2, mu: [424.98657 192.01428 109.00916], log_sigma: [0.015165   0.01437267 0.00162141]\n",
      "Epoch 2, Validation Loss: 0.5810\n",
      "Epoch 3, Batch 5, Loss: 0.3313\n",
      "Epoch 3, Train Loss: 0.3041\n",
      "Epoch 3, mu: [424.97974 192.02116 109.01505], log_sigma: [0.0225905  0.02156062 0.0031839 ]\n",
      "Epoch 3, Validation Loss: 0.5594\n",
      "Epoch 4, Batch 5, Loss: 0.3140\n",
      "Epoch 4, Train Loss: 0.2900\n",
      "Epoch 4, mu: [424.9734  192.0272  109.02075], log_sigma: [0.02973883 0.02782036 0.00551512]\n",
      "Epoch 4, Validation Loss: 0.5387\n",
      "Epoch 5, Batch 5, Loss: 0.2821\n",
      "Epoch 5, Train Loss: 0.3358\n",
      "Epoch 5, mu: [424.9674  192.03291 109.02716], log_sigma: [0.03636532 0.03370262 0.00643579]\n",
      "Epoch 5, Validation Loss: 0.5187\n",
      "Epoch 6, Batch 5, Loss: 0.2697\n",
      "Epoch 6, Train Loss: 0.2670\n",
      "Epoch 6, mu: [424.96143  192.03735  109.033356], log_sigma: [0.04152533 0.03853185 0.00352708]\n",
      "Epoch 6, Validation Loss: 0.4997\n",
      "Epoch 7, Batch 5, Loss: 0.2547\n",
      "Epoch 7, Train Loss: 0.2593\n",
      "Epoch 7, mu: [424.95694 192.03986 109.03839], log_sigma: [0.04507176 0.04127766 0.00248623]\n",
      "Epoch 7, Validation Loss: 0.4814\n",
      "Epoch 8, Batch 5, Loss: 0.2554\n",
      "Epoch 8, Train Loss: 0.2526\n",
      "Epoch 8, mu: [424.95218 192.04135 109.04316], log_sigma: [0.0477237  0.04255855 0.00232744]\n",
      "Epoch 8, Validation Loss: 0.4636\n",
      "Epoch 9, Batch 5, Loss: 0.2192\n",
      "Epoch 9, Train Loss: 0.2383\n",
      "Epoch 9, mu: [424.9484   192.0421   109.048256], log_sigma: [0.05009801 0.04281336 0.00256171]\n",
      "Epoch 9, Validation Loss: 0.4468\n",
      "Epoch 10, Batch 5, Loss: 0.2347\n",
      "Epoch 10, Train Loss: 0.2315\n",
      "Epoch 10, mu: [424.94476 192.042   109.05333], log_sigma: [0.05228969 0.04176789 0.00298094]\n",
      "Epoch 10, Validation Loss: 0.4303\n"
     ]
    },
    {
     "data": {
      "application/vnd.jupyter.widget-view+json": {
       "model_id": "36a3d415128f42ea82171bd4e23b36d3",
       "version_major": 2,
       "version_minor": 0
      },
      "text/plain": [
       "VBox(children=(Label(value='0.742 MB of 0.742 MB uploaded\\r'), FloatProgress(value=1.0, max=1.0)))"
      ]
     },
     "metadata": {},
     "output_type": "display_data"
    },
    {
     "data": {
      "text/html": [
       "<style>\n",
       "    table.wandb td:nth-child(1) { padding: 0 10px; text-align: left ; width: auto;} td:nth-child(2) {text-align: left ; width: 100%}\n",
       "    .wandb-row { display: flex; flex-direction: row; flex-wrap: wrap; justify-content: flex-start; width: 100% }\n",
       "    .wandb-col { display: flex; flex-direction: column; flex-basis: 100%; flex: 1; padding: 10px; }\n",
       "    </style>\n",
       "<div class=\"wandb-row\"><div class=\"wandb-col\"><h3>Run history:</h3><br/><table class=\"wandb\"><tr><td>epoch</td><td>▁▂▃▃▄▅▆▆▇█</td></tr><tr><td>train/loss</td><td>█▇▆▅█▃▃▂▁▁</td></tr><tr><td>validation/loss</td><td>█▇▆▅▅▄▃▂▂▁</td></tr></table><br/></div><div class=\"wandb-col\"><h3>Run summary:</h3><br/><table class=\"wandb\"><tr><td>epoch</td><td>10</td></tr><tr><td>train/loss</td><td>0.23146</td></tr><tr><td>validation/loss</td><td>0.43031</td></tr></table><br/></div></div>"
      ],
      "text/plain": [
       "<IPython.core.display.HTML object>"
      ]
     },
     "metadata": {},
     "output_type": "display_data"
    },
    {
     "data": {
      "text/html": [
       " View run <strong style=\"color:#cdcd00\">gaussianEncoder_with_synthetic_rgb_priors</strong> at: <a href='https://wandb.ai/idp2024/hsi-autoencoder/runs/thaxx7m0' target=\"_blank\">https://wandb.ai/idp2024/hsi-autoencoder/runs/thaxx7m0</a><br/> View project at: <a href='https://wandb.ai/idp2024/hsi-autoencoder' target=\"_blank\">https://wandb.ai/idp2024/hsi-autoencoder</a><br/>Synced 5 W&B file(s), 10 media file(s), 10 artifact file(s) and 0 other file(s)"
      ],
      "text/plain": [
       "<IPython.core.display.HTML object>"
      ]
     },
     "metadata": {},
     "output_type": "display_data"
    },
    {
     "data": {
      "text/html": [
       "Find logs at: <code>./wandb/run-20250105_163447-thaxx7m0/logs</code>"
      ],
      "text/plain": [
       "<IPython.core.display.HTML object>"
      ]
     },
     "metadata": {},
     "output_type": "display_data"
    },
    {
     "data": {
      "text/plain": [
       "(GaussianAutoEncoder(\n",
       "   (encoder): GaussianChannelReduction()\n",
       "   (decoder): Sequential(\n",
       "     (0): Conv2d(3, 826, kernel_size=(1, 1), stride=(1, 1))\n",
       "   )\n",
       " ),\n",
       " [0.3325322949224048,\n",
       "  0.31639160381423104,\n",
       "  0.3040788753165139,\n",
       "  0.2899569885598289,\n",
       "  0.3357855545149909,\n",
       "  0.2669762290186352,\n",
       "  0.25927676426039803,\n",
       "  0.2525876396232181,\n",
       "  0.23827454282177818,\n",
       "  0.23145667049619886],\n",
       " [0.6025278478860855,\n",
       "  0.5809959173202515,\n",
       "  0.5594035565853119,\n",
       "  0.538650906085968,\n",
       "  0.518731689453125,\n",
       "  0.49973514676094055,\n",
       "  0.4814270347356796,\n",
       "  0.4636301815509796,\n",
       "  0.44684483110904694,\n",
       "  0.4303139716386795])"
      ]
     },
     "execution_count": 1,
     "metadata": {},
     "output_type": "execute_result"
    }
   ],
   "source": [
    "from dataset import build_hsi_dataloader, HSIDataset, build_hsi_testloader\n",
    "from dimensionality_reduction.autoencoder import (\n",
    "    GaussianAutoEncoder,\n",
    "    model_pipeline_autoencoder,\n",
    ")\n",
    "import torch\n",
    "from torch.utils.data import DataLoader\n",
    "\n",
    "trainloader_hsi = build_hsi_dataloader(\n",
    "    batch_size=8,\n",
    "    train_split=1,\n",
    "    val_split=0,\n",
    "    test_split=0,\n",
    "    exclude_labeled_data=False,\n",
    "    augmented=True,\n",
    ")[0]\n",
    "\n",
    "testloader_hsi = build_hsi_testloader()\n",
    "\n",
    "lr = 0.001\n",
    "priors = [425, 192, 109]\n",
    "priors_tensor = torch.tensor(priors, dtype=torch.float)\n",
    "gaussian = GaussianAutoEncoder(priors=priors_tensor)\n",
    "device = torch.device(\"cuda:2\" if torch.cuda.is_available() else \"cpu\")\n",
    "criterion = torch.nn.MSELoss()\n",
    "optimizer = torch.optim.Adam(gaussian.parameters(), lr=lr)\n",
    "\n",
    "\n",
    "config = {\n",
    "    \"model\": \"gaussianEncoder_with_synthetic_rgb_priors\",\n",
    "    \"optimizer\": \"Adam\",\n",
    "    \"learning_rate\": lr,\n",
    "    \"batch_size\": trainloader_hsi.batch_size,\n",
    "    \"epochs\": 10,\n",
    "    \"prior\": priors,\n",
    "}\n",
    "\n",
    "model_pipeline_autoencoder(\n",
    "    gaussian,\n",
    "    trainloader_hsi,\n",
    "    testloader_hsi,\n",
    "    criterion,\n",
    "    optimizer,\n",
    "    config,\n",
    "    project=\"hsi-autoencoder\",\n",
    "    device=device,\n",
    "    model_name=\"gaussianEncoder_with_synthetic_rgb_priors\",\n",
    "    batch_print=5,\n",
    ")"
   ]
  },
  {
   "cell_type": "markdown",
   "metadata": {},
   "source": [
    "#### Gaussian reduction + DA"
   ]
  },
  {
   "cell_type": "code",
   "execution_count": null,
   "metadata": {},
   "outputs": [
    {
     "name": "stderr",
     "output_type": "stream",
     "text": [
      "Failed to detect the name of this notebook, you can set it manually with the WANDB_NOTEBOOK_NAME environment variable to enable code saving.\n"
     ]
    },
    {
     "name": "stdout",
     "output_type": "stream",
     "text": [
      "Number of samples in the training set: 534, validation set: 60\n",
      "Number of samples in the test set: 200\n"
     ]
    },
    {
     "name": "stderr",
     "output_type": "stream",
     "text": [
      "\u001b[34m\u001b[1mwandb\u001b[0m: Currently logged in as: \u001b[33mtim-mach\u001b[0m (\u001b[33midp2024\u001b[0m). Use \u001b[1m`wandb login --relogin`\u001b[0m to force relogin\n"
     ]
    },
    {
     "data": {
      "text/html": [
       "wandb version 0.18.7 is available!  To upgrade, please run:\n",
       " $ pip install wandb --upgrade"
      ],
      "text/plain": [
       "<IPython.core.display.HTML object>"
      ]
     },
     "metadata": {},
     "output_type": "display_data"
    },
    {
     "data": {
      "text/html": [
       "Tracking run with wandb version 0.16.6"
      ],
      "text/plain": [
       "<IPython.core.display.HTML object>"
      ]
     },
     "metadata": {},
     "output_type": "display_data"
    },
    {
     "data": {
      "text/html": [
       "Run data is saved locally in <code>/home/home/tim_ivan/idp/wandb/run-20241120_231047-1bltl0t9</code>"
      ],
      "text/plain": [
       "<IPython.core.display.HTML object>"
      ]
     },
     "metadata": {},
     "output_type": "display_data"
    },
    {
     "data": {
      "text/html": [
       "Syncing run <strong><a href='https://wandb.ai/idp2024/domain-adaptation/runs/1bltl0t9' target=\"_blank\">FADA-Linknet-timm-regnetx_320-gaussian_reduction_pretrained-augmented_target-random_crops_bloodvessel_ratio01-unsupervised</a></strong> to <a href='https://wandb.ai/idp2024/domain-adaptation' target=\"_blank\">Weights & Biases</a> (<a href='https://wandb.me/run' target=\"_blank\">docs</a>)<br/>"
      ],
      "text/plain": [
       "<IPython.core.display.HTML object>"
      ]
     },
     "metadata": {},
     "output_type": "display_data"
    },
    {
     "data": {
      "text/html": [
       " View project at <a href='https://wandb.ai/idp2024/domain-adaptation' target=\"_blank\">https://wandb.ai/idp2024/domain-adaptation</a>"
      ],
      "text/plain": [
       "<IPython.core.display.HTML object>"
      ]
     },
     "metadata": {},
     "output_type": "display_data"
    },
    {
     "data": {
      "text/html": [
       " View run at <a href='https://wandb.ai/idp2024/domain-adaptation/runs/1bltl0t9' target=\"_blank\">https://wandb.ai/idp2024/domain-adaptation/runs/1bltl0t9</a>"
      ],
      "text/plain": [
       "<IPython.core.display.HTML object>"
      ]
     },
     "metadata": {},
     "output_type": "display_data"
    },
    {
     "name": "stdout",
     "output_type": "stream",
     "text": [
      "Loading pretrained model from ./models/serene-sweep-9.pth\n",
      "Using Gaussian Channel Reduction\n"
     ]
    },
    {
     "name": "stderr",
     "output_type": "stream",
     "text": [
      "/home/home/tim_ivan/idp/.venv/lib/python3.8/site-packages/torch/nn/modules/conv.py:456: UserWarning: Plan failed with a cudnnException: CUDNN_BACKEND_EXECUTION_PLAN_DESCRIPTOR: cudnnFinalize Descriptor Failed cudnn_status: CUDNN_STATUS_NOT_SUPPORTED (Triggered internally at ../aten/src/ATen/native/cudnn/Conv_v8.cpp:919.)\n",
      "  return F.conv2d(input, weight, bias, self.stride,\n",
      "/home/home/tim_ivan/idp/.venv/lib/python3.8/site-packages/torch/autograd/graph.py:744: UserWarning: Plan failed with a cudnnException: CUDNN_BACKEND_EXECUTION_PLAN_DESCRIPTOR: cudnnFinalize Descriptor Failed cudnn_status: CUDNN_STATUS_NOT_SUPPORTED (Triggered internally at ../aten/src/ATen/native/cudnn/Conv_v8.cpp:919.)\n",
      "  return Variable._execution_engine.run_backward(  # Calls into the C++ engine to run the backward pass\n"
     ]
    },
    {
     "name": "stdout",
     "output_type": "stream",
     "text": [
      "Epoch 1, Batch 5/34, Total Loss: 1.1699, Segmentation Loss: 0.3311, Domain Loss Source: 0.4397, Domain Loss Target: 0.2116, Adversarial Loss Target: 0.0009\n",
      "Epoch 1, Batch 10/34, Total Loss: 0.9620, Segmentation Loss: 0.2209, Domain Loss Source: 0.4229, Domain Loss Target: 0.2228, Adversarial Loss Target: 0.0009\n",
      "Epoch 1, Batch 15/34, Total Loss: 0.9181, Segmentation Loss: 0.3021, Domain Loss Source: 0.2606, Domain Loss Target: 0.3590, Adversarial Loss Target: 0.0005\n",
      "Epoch 1, Batch 20/34, Total Loss: 0.9204, Segmentation Loss: 0.3076, Domain Loss Source: 0.3039, Domain Loss Target: 0.3111, Adversarial Loss Target: 0.0006\n",
      "Epoch 1, Batch 25/34, Total Loss: 0.8610, Segmentation Loss: 0.2523, Domain Loss Source: 0.3235, Domain Loss Target: 0.2869, Adversarial Loss Target: 0.0007\n",
      "Epoch 1, Batch 30/34, Total Loss: 0.8575, Segmentation Loss: 0.2319, Domain Loss Source: 0.2785, Domain Loss Target: 0.2985, Adversarial Loss Target: 0.0007\n",
      "Epoch 1, Train Loss: 2.7789\n"
     ]
    },
    {
     "name": "stderr",
     "output_type": "stream",
     "text": [
      "/home/home/tim_ivan/idp/.venv/lib/python3.8/site-packages/torch/nn/modules/conv.py:456: UserWarning: Plan failed with a cudnnException: CUDNN_BACKEND_EXECUTION_PLAN_DESCRIPTOR: cudnnFinalize Descriptor Failed cudnn_status: CUDNN_STATUS_NOT_SUPPORTED (Triggered internally at ../aten/src/ATen/native/cudnn/Conv_v8.cpp:919.)\n",
      "  return F.conv2d(input, weight, bias, self.stride,\n"
     ]
    },
    {
     "name": "stdout",
     "output_type": "stream",
     "text": [
      "Evaluating model performance on source data\n",
      "Precision: 0.8994, Recall: 0.3781, F1 Score: 0.5296, Dice Score: 0.5296, Accuracy: 0.8838\n",
      "Evaluating model performance on target data\n",
      "Precision: 0.4693, Recall: 0.3541, F1 Score: 0.3976, Dice Score: 0.3976, Accuracy: 0.8082\n",
      "Epoch 1, Validation Loss Source: 0.4600, Validation Loss Target: 0.7980\n",
      "Epoch 2, Batch 5/34, Total Loss: 0.8199, Segmentation Loss: 0.2252, Domain Loss Source: 0.2959, Domain Loss Target: 0.2590, Adversarial Loss Target: 0.0008\n",
      "Epoch 2, Batch 10/34, Total Loss: 0.8239, Segmentation Loss: 0.1674, Domain Loss Source: 0.3252, Domain Loss Target: 0.2990, Adversarial Loss Target: 0.0007\n",
      "Epoch 2, Batch 15/34, Total Loss: 0.7801, Segmentation Loss: 0.2107, Domain Loss Source: 0.2524, Domain Loss Target: 0.3352, Adversarial Loss Target: 0.0006\n",
      "Epoch 2, Batch 20/34, Total Loss: 0.7914, Segmentation Loss: 0.2326, Domain Loss Source: 0.3211, Domain Loss Target: 0.2519, Adversarial Loss Target: 0.0008\n",
      "Epoch 2, Batch 25/34, Total Loss: 0.7483, Segmentation Loss: 0.1640, Domain Loss Source: 0.3122, Domain Loss Target: 0.2371, Adversarial Loss Target: 0.0009\n",
      "Epoch 2, Batch 30/34, Total Loss: 0.7414, Segmentation Loss: 0.1739, Domain Loss Source: 0.2853, Domain Loss Target: 0.2510, Adversarial Loss Target: 0.0009\n",
      "Epoch 2, Train Loss: 2.2839\n",
      "Evaluating model performance on source data\n",
      "Precision: 0.9079, Recall: 0.3548, F1 Score: 0.5076, Dice Score: 0.5076, Accuracy: 0.8809\n",
      "Evaluating model performance on target data\n",
      "Precision: 0.4701, Recall: 0.3493, F1 Score: 0.3943, Dice Score: 0.3943, Accuracy: 0.8083\n",
      "Epoch 2, Validation Loss Source: 0.5403, Validation Loss Target: 0.8687\n",
      "Epoch 3, Batch 5/34, Total Loss: 0.7194, Segmentation Loss: 0.1749, Domain Loss Source: 0.2351, Domain Loss Target: 0.2881, Adversarial Loss Target: 0.0008\n",
      "Epoch 3, Batch 10/34, Total Loss: 0.7145, Segmentation Loss: 0.1511, Domain Loss Source: 0.3303, Domain Loss Target: 0.2152, Adversarial Loss Target: 0.0010\n",
      "Epoch 3, Batch 15/34, Total Loss: 0.7039, Segmentation Loss: 0.1474, Domain Loss Source: 0.1764, Domain Loss Target: 0.3640, Adversarial Loss Target: 0.0006\n",
      "Epoch 3, Batch 20/34, Total Loss: 0.6546, Segmentation Loss: 0.1869, Domain Loss Source: 0.2449, Domain Loss Target: 0.2300, Adversarial Loss Target: 0.0009\n",
      "Epoch 3, Batch 25/34, Total Loss: 0.6590, Segmentation Loss: 0.1387, Domain Loss Source: 0.2254, Domain Loss Target: 0.1719, Adversarial Loss Target: 0.0013\n",
      "Epoch 3, Batch 30/34, Total Loss: 0.6451, Segmentation Loss: 0.1509, Domain Loss Source: 0.2173, Domain Loss Target: 0.2651, Adversarial Loss Target: 0.0009\n",
      "Epoch 3, Train Loss: 2.0125\n",
      "Evaluating model performance on source data\n",
      "Precision: 0.9078, Recall: 0.3310, F1 Score: 0.4824, Dice Score: 0.4824, Accuracy: 0.8771\n",
      "Evaluating model performance on target data\n",
      "Precision: 0.4697, Recall: 0.3521, F1 Score: 0.3958, Dice Score: 0.3958, Accuracy: 0.8087\n",
      "Epoch 3, Validation Loss Source: 0.6382, Validation Loss Target: 0.9357\n",
      "Epoch 4, Batch 5/34, Total Loss: 0.6676, Segmentation Loss: 0.1426, Domain Loss Source: 0.1664, Domain Loss Target: 0.3698, Adversarial Loss Target: 0.0007\n",
      "Epoch 4, Batch 10/34, Total Loss: 0.6683, Segmentation Loss: 0.1421, Domain Loss Source: 0.1623, Domain Loss Target: 0.4046, Adversarial Loss Target: 0.0006\n",
      "Epoch 4, Batch 15/34, Total Loss: 0.6541, Segmentation Loss: 0.1274, Domain Loss Source: 0.1696, Domain Loss Target: 0.3694, Adversarial Loss Target: 0.0006\n",
      "Epoch 4, Batch 20/34, Total Loss: 0.6081, Segmentation Loss: 0.1568, Domain Loss Source: 0.1496, Domain Loss Target: 0.3124, Adversarial Loss Target: 0.0008\n",
      "Epoch 4, Batch 25/34, Total Loss: 0.6118, Segmentation Loss: 0.1283, Domain Loss Source: 0.1532, Domain Loss Target: 0.2798, Adversarial Loss Target: 0.0009\n",
      "Epoch 4, Batch 30/34, Total Loss: 0.5672, Segmentation Loss: 0.1417, Domain Loss Source: 0.2473, Domain Loss Target: 0.1652, Adversarial Loss Target: 0.0012\n",
      "Epoch 4, Train Loss: 1.8433\n",
      "Evaluating model performance on source data\n",
      "Precision: 0.9034, Recall: 0.4836, F1 Score: 0.6279, Dice Score: 0.6279, Accuracy: 0.9007\n",
      "Evaluating model performance on target data\n",
      "Precision: 0.4766, Recall: 0.3864, F1 Score: 0.4209, Dice Score: 0.4209, Accuracy: 0.8068\n",
      "Epoch 4, Validation Loss Source: 0.4620, Validation Loss Target: 0.9663\n",
      "Epoch 5, Batch 5/34, Total Loss: 0.5952, Segmentation Loss: 0.1261, Domain Loss Source: 0.2936, Domain Loss Target: 0.1553, Adversarial Loss Target: 0.0013\n",
      "Epoch 5, Batch 10/34, Total Loss: 0.6303, Segmentation Loss: 0.1361, Domain Loss Source: 0.3514, Domain Loss Target: 0.1329, Adversarial Loss Target: 0.0014\n",
      "Epoch 5, Batch 15/34, Total Loss: 0.5786, Segmentation Loss: 0.1212, Domain Loss Source: 0.3092, Domain Loss Target: 0.1311, Adversarial Loss Target: 0.0014\n",
      "Epoch 5, Batch 20/34, Total Loss: 0.5776, Segmentation Loss: 0.1336, Domain Loss Source: 0.2162, Domain Loss Target: 0.1058, Adversarial Loss Target: 0.0016\n",
      "Epoch 5, Batch 25/34, Total Loss: 0.5873, Segmentation Loss: 0.1202, Domain Loss Source: 0.2057, Domain Loss Target: 0.2088, Adversarial Loss Target: 0.0011\n",
      "Epoch 5, Batch 30/34, Total Loss: 0.5425, Segmentation Loss: 0.1362, Domain Loss Source: 0.1388, Domain Loss Target: 0.2525, Adversarial Loss Target: 0.0009\n",
      "Epoch 5, Train Loss: 1.7249\n",
      "Evaluating model performance on source data\n",
      "Precision: 0.9031, Recall: 0.4645, F1 Score: 0.6114, Dice Score: 0.6114, Accuracy: 0.8977\n",
      "Evaluating model performance on target data\n",
      "Precision: 0.4743, Recall: 0.3927, F1 Score: 0.4236, Dice Score: 0.4236, Accuracy: 0.8076\n",
      "Epoch 5, Validation Loss Source: 0.5133, Validation Loss Target: 0.9922\n",
      "Epoch 6, Batch 5/34, Total Loss: 0.5551, Segmentation Loss: 0.1215, Domain Loss Source: 0.0903, Domain Loss Target: 0.4491, Adversarial Loss Target: 0.0006\n",
      "Epoch 6, Batch 10/34, Total Loss: 0.6056, Segmentation Loss: 0.1320, Domain Loss Source: 0.1693, Domain Loss Target: 0.3135, Adversarial Loss Target: 0.0007\n",
      "Epoch 6, Batch 15/34, Total Loss: 0.5641, Segmentation Loss: 0.1160, Domain Loss Source: 0.1162, Domain Loss Target: 0.3194, Adversarial Loss Target: 0.0007\n",
      "Epoch 6, Batch 20/34, Total Loss: 0.5895, Segmentation Loss: 0.1265, Domain Loss Source: 0.1304, Domain Loss Target: 0.2986, Adversarial Loss Target: 0.0010\n",
      "Epoch 6, Batch 25/34, Total Loss: 0.5566, Segmentation Loss: 0.1137, Domain Loss Source: 0.1718, Domain Loss Target: 0.2829, Adversarial Loss Target: 0.0009\n",
      "Epoch 6, Batch 30/34, Total Loss: 0.5792, Segmentation Loss: 0.1319, Domain Loss Source: 0.1283, Domain Loss Target: 0.2567, Adversarial Loss Target: 0.0009\n",
      "Epoch 6, Train Loss: 1.6624\n",
      "Evaluating model performance on source data\n",
      "Precision: 0.9018, Recall: 0.4568, F1 Score: 0.6044, Dice Score: 0.6044, Accuracy: 0.8964\n",
      "Evaluating model performance on target data\n",
      "Precision: 0.4724, Recall: 0.3956, F1 Score: 0.4247, Dice Score: 0.4247, Accuracy: 0.8081\n",
      "Epoch 6, Validation Loss Source: 0.5501, Validation Loss Target: 1.0192\n",
      "Epoch 7, Batch 5/34, Total Loss: 0.5293, Segmentation Loss: 0.1183, Domain Loss Source: 0.1643, Domain Loss Target: 0.2081, Adversarial Loss Target: 0.0011\n",
      "Epoch 7, Batch 10/34, Total Loss: 0.5176, Segmentation Loss: 0.1286, Domain Loss Source: 0.1850, Domain Loss Target: 0.2170, Adversarial Loss Target: 0.0011\n",
      "Epoch 7, Batch 15/34, Total Loss: 0.5508, Segmentation Loss: 0.1116, Domain Loss Source: 0.0840, Domain Loss Target: 0.2529, Adversarial Loss Target: 0.0010\n",
      "Epoch 7, Batch 20/34, Total Loss: 0.5298, Segmentation Loss: 0.1216, Domain Loss Source: 0.1092, Domain Loss Target: 0.3564, Adversarial Loss Target: 0.0008\n",
      "Epoch 7, Batch 25/34, Total Loss: 0.5367, Segmentation Loss: 0.1084, Domain Loss Source: 0.1262, Domain Loss Target: 0.3194, Adversarial Loss Target: 0.0008\n",
      "Epoch 7, Batch 30/34, Total Loss: 0.5888, Segmentation Loss: 0.1282, Domain Loss Source: 0.1206, Domain Loss Target: 0.3276, Adversarial Loss Target: 0.0007\n",
      "Epoch 7, Train Loss: 1.6159\n",
      "Evaluating model performance on source data\n",
      "Precision: 0.9019, Recall: 0.4183, F1 Score: 0.5694, Dice Score: 0.5694, Accuracy: 0.8904\n",
      "Evaluating model performance on target data\n",
      "Precision: 0.4699, Recall: 0.3873, F1 Score: 0.4183, Dice Score: 0.4183, Accuracy: 0.8083\n",
      "Epoch 7, Validation Loss Source: 0.6193, Validation Loss Target: 1.0473\n",
      "Epoch 8, Batch 5/34, Total Loss: 0.6042, Segmentation Loss: 0.1151, Domain Loss Source: 0.1964, Domain Loss Target: 0.2401, Adversarial Loss Target: 0.0009\n",
      "Epoch 8, Batch 10/34, Total Loss: 0.5523, Segmentation Loss: 0.1256, Domain Loss Source: 0.2964, Domain Loss Target: 0.1334, Adversarial Loss Target: 0.0014\n",
      "Epoch 8, Batch 15/34, Total Loss: 0.5303, Segmentation Loss: 0.1079, Domain Loss Source: 0.2061, Domain Loss Target: 0.1932, Adversarial Loss Target: 0.0014\n",
      "Epoch 8, Batch 20/34, Total Loss: 0.4734, Segmentation Loss: 0.1177, Domain Loss Source: 0.2205, Domain Loss Target: 0.1373, Adversarial Loss Target: 0.0014\n",
      "Epoch 8, Batch 25/34, Total Loss: 0.5220, Segmentation Loss: 0.1040, Domain Loss Source: 0.2388, Domain Loss Target: 0.1001, Adversarial Loss Target: 0.0017\n",
      "Epoch 8, Batch 30/34, Total Loss: 0.4928, Segmentation Loss: 0.1249, Domain Loss Source: 0.2766, Domain Loss Target: 0.1048, Adversarial Loss Target: 0.0018\n",
      "Epoch 8, Train Loss: 1.5701\n",
      "Evaluating model performance on source data\n",
      "Precision: 0.8941, Recall: 0.5361, F1 Score: 0.6680, Dice Score: 0.6680, Accuracy: 0.9078\n",
      "Evaluating model performance on target data\n",
      "Precision: 0.4745, Recall: 0.4135, F1 Score: 0.4356, Dice Score: 0.4356, Accuracy: 0.8057\n",
      "Epoch 8, Validation Loss Source: 0.4495, Validation Loss Target: 1.0611\n",
      "Epoch 9, Batch 5/34, Total Loss: 0.5861, Segmentation Loss: 0.1123, Domain Loss Source: 0.4564, Domain Loss Target: 0.0814, Adversarial Loss Target: 0.0021\n",
      "Epoch 9, Batch 10/34, Total Loss: 0.5677, Segmentation Loss: 0.1229, Domain Loss Source: 0.2535, Domain Loss Target: 0.0968, Adversarial Loss Target: 0.0018\n",
      "Epoch 9, Batch 15/34, Total Loss: 0.5160, Segmentation Loss: 0.1048, Domain Loss Source: 0.1904, Domain Loss Target: 0.2183, Adversarial Loss Target: 0.0010\n",
      "Epoch 9, Batch 20/34, Total Loss: 0.4709, Segmentation Loss: 0.1147, Domain Loss Source: 0.0986, Domain Loss Target: 0.2709, Adversarial Loss Target: 0.0009\n",
      "Epoch 9, Batch 25/34, Total Loss: 0.5110, Segmentation Loss: 0.1002, Domain Loss Source: 0.1035, Domain Loss Target: 0.2866, Adversarial Loss Target: 0.0008\n",
      "Epoch 9, Batch 30/34, Total Loss: 0.4962, Segmentation Loss: 0.1219, Domain Loss Source: 0.1217, Domain Loss Target: 0.2459, Adversarial Loss Target: 0.0010\n",
      "Epoch 9, Train Loss: 1.5458\n",
      "Evaluating model performance on source data\n",
      "Precision: 0.8985, Recall: 0.5132, F1 Score: 0.6509, Dice Score: 0.6509, Accuracy: 0.9048\n",
      "Evaluating model performance on target data\n",
      "Precision: 0.4725, Recall: 0.4061, F1 Score: 0.4306, Dice Score: 0.4306, Accuracy: 0.8064\n",
      "Epoch 9, Validation Loss Source: 0.4915, Validation Loss Target: 1.0834\n",
      "Epoch 10, Batch 5/34, Total Loss: 0.4734, Segmentation Loss: 0.1094, Domain Loss Source: 0.1238, Domain Loss Target: 0.3017, Adversarial Loss Target: 0.0008\n",
      "Epoch 10, Batch 10/34, Total Loss: 0.5735, Segmentation Loss: 0.1203, Domain Loss Source: 0.1225, Domain Loss Target: 0.3794, Adversarial Loss Target: 0.0009\n",
      "Epoch 10, Batch 15/34, Total Loss: 0.4883, Segmentation Loss: 0.1021, Domain Loss Source: 0.1012, Domain Loss Target: 0.3319, Adversarial Loss Target: 0.0008\n",
      "Epoch 10, Batch 20/34, Total Loss: 0.4809, Segmentation Loss: 0.1119, Domain Loss Source: 0.0942, Domain Loss Target: 0.2228, Adversarial Loss Target: 0.0012\n",
      "Epoch 10, Batch 25/34, Total Loss: 0.4584, Segmentation Loss: 0.0968, Domain Loss Source: 0.1534, Domain Loss Target: 0.1566, Adversarial Loss Target: 0.0013\n",
      "Epoch 10, Batch 30/34, Total Loss: 0.4551, Segmentation Loss: 0.1192, Domain Loss Source: 0.1186, Domain Loss Target: 0.1403, Adversarial Loss Target: 0.0016\n",
      "Epoch 10, Train Loss: 1.4322\n",
      "Evaluating model performance on source data\n",
      "Precision: 0.8981, Recall: 0.4891, F1 Score: 0.6310, Dice Score: 0.6310, Accuracy: 0.9010\n",
      "Evaluating model performance on target data\n",
      "Precision: 0.4727, Recall: 0.4120, F1 Score: 0.4335, Dice Score: 0.4335, Accuracy: 0.8078\n",
      "Epoch 10, Validation Loss Source: 0.5420, Validation Loss Target: 1.0979\n",
      "Precision: 0.4745, Recall: 0.4135, F1 Score: 0.4356, Dice Score: 0.4356, Accuracy: 0.8057\n"
     ]
    },
    {
     "data": {
      "application/vnd.jupyter.widget-view+json": {
       "model_id": "4c2939b3d20943468658f15416c621db",
       "version_major": 2,
       "version_minor": 0
      },
      "text/plain": [
       "VBox(children=(Label(value='2247.111 MB of 2247.111 MB uploaded\\r'), FloatProgress(value=1.0, max=1.0)))"
      ]
     },
     "metadata": {},
     "output_type": "display_data"
    },
    {
     "data": {
      "text/html": [
       "<style>\n",
       "    table.wandb td:nth-child(1) { padding: 0 10px; text-align: left ; width: auto;} td:nth-child(2) {text-align: left ; width: 100%}\n",
       "    .wandb-row { display: flex; flex-direction: row; flex-wrap: wrap; justify-content: flex-start; width: 100% }\n",
       "    .wandb-col { display: flex; flex-direction: column; flex-basis: 100%; flex: 1; padding: 10px; }\n",
       "    </style>\n",
       "<div class=\"wandb-row\"><div class=\"wandb-col\"><h3>Run history:</h3><br/><table class=\"wandb\"><tr><td>dice_score/source</td><td>▃▂▁▆▆▆▄█▇▇</td></tr><tr><td>dice_score/target</td><td>▂▁▁▆▆▆▅█▇█</td></tr><tr><td>epoch</td><td>▁▂▃▃▄▅▆▆▇█</td></tr><tr><td>precision/source</td><td>▄██▆▆▅▅▁▃▃</td></tr><tr><td>precision/target</td><td>▁▂▁█▆▄▂▆▄▄</td></tr><tr><td>test/accuracy</td><td>▁</td></tr><tr><td>test/dice_score</td><td>▁</td></tr><tr><td>test/f1_score</td><td>▁</td></tr><tr><td>test/precision</td><td>▁</td></tr><tr><td>test/recall</td><td>▁</td></tr><tr><td>train/domain_loss</td><td>█▆▅▄▃▃▂▂▂▁</td></tr><tr><td>train/loss</td><td>█▅▄▃▃▂▂▂▂▁</td></tr><tr><td>val/loss_source</td><td>▁▄█▁▃▅▇▁▃▄</td></tr><tr><td>val/loss_target</td><td>▁▃▄▅▆▆▇▇██</td></tr></table><br/></div><div class=\"wandb-col\"><h3>Run summary:</h3><br/><table class=\"wandb\"><tr><td>dice_score/source</td><td>0.63102</td></tr><tr><td>dice_score/target</td><td>0.43347</td></tr><tr><td>epoch</td><td>10</td></tr><tr><td>precision/source</td><td>0.89814</td></tr><tr><td>precision/target</td><td>0.47275</td></tr><tr><td>test/accuracy</td><td>0.80565</td></tr><tr><td>test/dice_score</td><td>0.43565</td></tr><tr><td>test/f1_score</td><td>0.43565</td></tr><tr><td>test/precision</td><td>0.47454</td></tr><tr><td>test/recall</td><td>0.41351</td></tr><tr><td>train/domain_loss</td><td>0.37866</td></tr><tr><td>train/loss</td><td>1.43218</td></tr><tr><td>val/loss_source</td><td>0.54201</td></tr><tr><td>val/loss_target</td><td>1.09787</td></tr></table><br/></div></div>"
      ],
      "text/plain": [
       "<IPython.core.display.HTML object>"
      ]
     },
     "metadata": {},
     "output_type": "display_data"
    },
    {
     "data": {
      "text/html": [
       " View run <strong style=\"color:#cdcd00\">FADA-Linknet-timm-regnetx_320-gaussian_reduction_pretrained-augmented_target-random_crops_bloodvessel_ratio01-unsupervised</strong> at: <a href='https://wandb.ai/idp2024/domain-adaptation/runs/1bltl0t9' target=\"_blank\">https://wandb.ai/idp2024/domain-adaptation/runs/1bltl0t9</a><br/> View project at: <a href='https://wandb.ai/idp2024/domain-adaptation' target=\"_blank\">https://wandb.ai/idp2024/domain-adaptation</a><br/>Synced 5 W&B file(s), 180 media file(s), 5 artifact file(s) and 0 other file(s)"
      ],
      "text/plain": [
       "<IPython.core.display.HTML object>"
      ]
     },
     "metadata": {},
     "output_type": "display_data"
    },
    {
     "data": {
      "text/html": [
       "Find logs at: <code>./wandb/run-20241120_231047-1bltl0t9/logs</code>"
      ],
      "text/plain": [
       "<IPython.core.display.HTML object>"
      ]
     },
     "metadata": {},
     "output_type": "display_data"
    },
    {
     "data": {
      "image/png": "[encoded data removed]",
      "text/plain": [
       "<Figure size 1000x600 with 1 Axes>"
      ]
     },
     "metadata": {},
     "output_type": "display_data"
    }
   ],
   "source": [
    "import matplotlib.pyplot as plt\n",
    "from FADA.train_FADA_unsupervised import model_pipeline\n",
    "import torch\n",
    "from dataset import build_hsi_dataloader, build_hsi_testloader, build_FIVES_random_crops_dataloaders\n",
    "\n",
    "trainloader_source, validationloader_source, testloader_source = (\n",
    "    build_FIVES_random_crops_dataloaders(\n",
    "        batch_size=16,\n",
    "        num_channels=3,\n",
    "        load_from_path='data/FIVES_random_crops_threshold01'\n",
    "    )\n",
    ")\n",
    "\n",
    "trainloader_hsi = build_hsi_dataloader(\n",
    "    batch_size=8,\n",
    "    train_split=1,\n",
    "    val_split=0,\n",
    "    test_split=0,\n",
    "    exclude_labeled_data=True,\n",
    "    augmented=True,\n",
    ")[0]\n",
    "\n",
    "testloader_hsi = build_hsi_testloader()\n",
    "\n",
    "encoder = \"timm-regnetx_320\"\n",
    "architecture = \"Linknet\"\n",
    "device = torch.device(\"cuda:2\" if torch.cuda.is_available() else \"cpu\")\n",
    "epochs = 10\n",
    "loss = \"BCE\"\n",
    "in_channels = 3\n",
    "ndf = 512\n",
    "learning_rate_fea = 0.001\n",
    "learning_rate_cls = 0.001\n",
    "learning_rate_dis = 0.0001\n",
    "\n",
    "config = {\n",
    "    \"model\": \"FADA-{architecture}-{encoder}-gaussian_reduction_pretrained-augmented_target-random_crops_bloodvessel_ratio01-unsupervised\".format(\n",
    "        architecture=architecture, encoder=encoder\n",
    "    ),\n",
    "    \"encoder\": encoder,\n",
    "    \"architecture\": architecture,\n",
    "    \"in_channels\": in_channels,\n",
    "    \"optimizer\": \"Adam\",\n",
    "    \"batch_size_source\": trainloader_source.batch_size,\n",
    "    \"batch_size_target\": trainloader_hsi.batch_size,\n",
    "    \"learning_rate_fea\": learning_rate_fea,\n",
    "    \"learning_rate_cls\": learning_rate_cls,\n",
    "    \"learning_rate_dis\": learning_rate_dis,\n",
    "    \"ndf\": ndf,\n",
    "    \"epochs\": epochs,\n",
    "    \"seg_loss\": loss,\n",
    "    \"pretrained\": \"./models/serene-sweep-9.pth\",\n",
    "    \"target_augmented\": True,\n",
    "    \"gaussian\": 'models/gaussianEncoder.pth',\n",
    "}\n",
    "\n",
    "model, train_losses, domain_losses, val_losses_source, val_losses_target = (\n",
    "    model_pipeline(\n",
    "        trainloader_source,\n",
    "        validationloader_source,\n",
    "        testloader_source,\n",
    "        trainloader_hsi,\n",
    "        testloader_hsi,\n",
    "        config,\n",
    "        project=\"domain-adaptation\",\n",
    "        device=device,\n",
    "        batch_print=5,\n",
    "        evaluate=True,\n",
    "        with_overlays=True,\n",
    "    )\n",
    ")\n",
    "\n",
    "plt.figure(figsize=(10, 6))\n",
    "plt.plot(train_losses, label=\"Combined Training Loss\")\n",
    "plt.plot(domain_losses, label=\"Domain Loss\")\n",
    "plt.plot(val_losses_source, label=\"Validation Loss Source\")\n",
    "plt.plot(val_losses_target, label=\"Validation Loss Target\")\n",
    "plt.xlabel(\"Epochs\")\n",
    "plt.ylabel(\"Loss\")\n",
    "plt.title(\"Training and Validation Loss Curves\")\n",
    "plt.legend()\n",
    "plt.show()"
   ]
  },
  {
   "cell_type": "markdown",
   "metadata": {},
   "source": [
    "### Conv Autoencoder"
   ]
  },
  {
   "cell_type": "markdown",
   "metadata": {},
   "source": [
    "#### Training"
   ]
  },
  {
   "cell_type": "code",
   "execution_count": 1,
   "metadata": {},
   "outputs": [
    {
     "name": "stderr",
     "output_type": "stream",
     "text": [
      "Failed to detect the name of this notebook, you can set it manually with the WANDB_NOTEBOOK_NAME environment variable to enable code saving.\n",
      "\u001b[34m\u001b[1mwandb\u001b[0m: Currently logged in as: \u001b[33mtim-mach\u001b[0m (\u001b[33midp2024\u001b[0m). Use \u001b[1m`wandb login --relogin`\u001b[0m to force relogin\n"
     ]
    },
    {
     "data": {
      "text/html": [
       "wandb version 0.19.1 is available!  To upgrade, please run:\n",
       " $ pip install wandb --upgrade"
      ],
      "text/plain": [
       "<IPython.core.display.HTML object>"
      ]
     },
     "metadata": {},
     "output_type": "display_data"
    },
    {
     "data": {
      "text/html": [
       "Tracking run with wandb version 0.16.6"
      ],
      "text/plain": [
       "<IPython.core.display.HTML object>"
      ]
     },
     "metadata": {},
     "output_type": "display_data"
    },
    {
     "data": {
      "text/html": [
       "Run data is saved locally in <code>/home/home/tim_ivan/idp/wandb/run-20250106_183404-fe2610p1</code>"
      ],
      "text/plain": [
       "<IPython.core.display.HTML object>"
      ]
     },
     "metadata": {},
     "output_type": "display_data"
    },
    {
     "data": {
      "text/html": [
       "Syncing run <strong><a href='https://wandb.ai/idp2024/hsi-autoencoder/runs/fe2610p1' target=\"_blank\">convReducer</a></strong> to <a href='https://wandb.ai/idp2024/hsi-autoencoder' target=\"_blank\">Weights & Biases</a> (<a href='https://wandb.me/run' target=\"_blank\">docs</a>)<br/>"
      ],
      "text/plain": [
       "<IPython.core.display.HTML object>"
      ]
     },
     "metadata": {},
     "output_type": "display_data"
    },
    {
     "data": {
      "text/html": [
       " View project at <a href='https://wandb.ai/idp2024/hsi-autoencoder' target=\"_blank\">https://wandb.ai/idp2024/hsi-autoencoder</a>"
      ],
      "text/plain": [
       "<IPython.core.display.HTML object>"
      ]
     },
     "metadata": {},
     "output_type": "display_data"
    },
    {
     "data": {
      "text/html": [
       " View run at <a href='https://wandb.ai/idp2024/hsi-autoencoder/runs/fe2610p1' target=\"_blank\">https://wandb.ai/idp2024/hsi-autoencoder/runs/fe2610p1</a>"
      ],
      "text/plain": [
       "<IPython.core.display.HTML object>"
      ]
     },
     "metadata": {},
     "output_type": "display_data"
    },
    {
     "name": "stdout",
     "output_type": "stream",
     "text": [
      "Epoch 1, Batch 5, Loss: 0.3534\n",
      "Epoch 1, Train Loss: 0.3321\n",
      "Epoch 1, Validation Loss: 0.5521\n",
      "Epoch 2, Batch 5, Loss: 68.4464\n",
      "Epoch 2, Train Loss: 38.1581\n",
      "Epoch 2, Validation Loss: 0.5897\n",
      "Epoch 3, Batch 5, Loss: 0.2826\n",
      "Epoch 3, Train Loss: 0.3083\n",
      "Epoch 3, Validation Loss: 0.5497\n",
      "Epoch 4, Batch 5, Loss: 9.5290\n",
      "Epoch 4, Train Loss: 5.4296\n",
      "Epoch 4, Validation Loss: 0.5457\n",
      "Epoch 5, Batch 5, Loss: 2.1078\n",
      "Epoch 5, Train Loss: 1.2938\n",
      "Epoch 5, Validation Loss: 0.5238\n",
      "Epoch 6, Batch 5, Loss: 0.2620\n",
      "Epoch 6, Train Loss: 0.2701\n",
      "Epoch 6, Validation Loss: 0.5040\n",
      "Epoch 7, Batch 5, Loss: 0.2863\n",
      "Epoch 7, Train Loss: 0.2679\n",
      "Epoch 7, Validation Loss: 0.4993\n",
      "Epoch 8, Batch 5, Loss: 56.5798\n",
      "Epoch 8, Train Loss: 31.5554\n",
      "Epoch 8, Validation Loss: 0.6629\n",
      "Epoch 9, Batch 5, Loss: 0.3270\n",
      "Epoch 9, Train Loss: 0.3380\n",
      "Epoch 9, Validation Loss: 0.6395\n",
      "Epoch 10, Batch 5, Loss: 0.2751\n",
      "Epoch 10, Train Loss: 0.2847\n",
      "Epoch 10, Validation Loss: 0.5216\n"
     ]
    },
    {
     "data": {
      "application/vnd.jupyter.widget-view+json": {
       "model_id": "45a72ff9aec04e9babc3b936d90d0a44",
       "version_major": 2,
       "version_minor": 0
      },
      "text/plain": [
       "VBox(children=(Label(value='0.864 MB of 0.864 MB uploaded\\r'), FloatProgress(value=1.0, max=1.0)))"
      ]
     },
     "metadata": {},
     "output_type": "display_data"
    },
    {
     "data": {
      "text/html": [
       "<style>\n",
       "    table.wandb td:nth-child(1) { padding: 0 10px; text-align: left ; width: auto;} td:nth-child(2) {text-align: left ; width: 100%}\n",
       "    .wandb-row { display: flex; flex-direction: row; flex-wrap: wrap; justify-content: flex-start; width: 100% }\n",
       "    .wandb-col { display: flex; flex-direction: column; flex-basis: 100%; flex: 1; padding: 10px; }\n",
       "    </style>\n",
       "<div class=\"wandb-row\"><div class=\"wandb-col\"><h3>Run history:</h3><br/><table class=\"wandb\"><tr><td>epoch</td><td>▁▂▃▃▄▅▆▆▇█</td></tr><tr><td>train/loss</td><td>▁█▁▂▁▁▁▇▁▁</td></tr><tr><td>validation/loss</td><td>▃▅▃▃▂▁▁█▇▂</td></tr></table><br/></div><div class=\"wandb-col\"><h3>Run summary:</h3><br/><table class=\"wandb\"><tr><td>epoch</td><td>10</td></tr><tr><td>train/loss</td><td>0.28467</td></tr><tr><td>validation/loss</td><td>0.52159</td></tr></table><br/></div></div>"
      ],
      "text/plain": [
       "<IPython.core.display.HTML object>"
      ]
     },
     "metadata": {},
     "output_type": "display_data"
    },
    {
     "data": {
      "text/html": [
       " View run <strong style=\"color:#cdcd00\">convReducer</strong> at: <a href='https://wandb.ai/idp2024/hsi-autoencoder/runs/fe2610p1' target=\"_blank\">https://wandb.ai/idp2024/hsi-autoencoder/runs/fe2610p1</a><br/> View project at: <a href='https://wandb.ai/idp2024/hsi-autoencoder' target=\"_blank\">https://wandb.ai/idp2024/hsi-autoencoder</a><br/>Synced 5 W&B file(s), 10 media file(s), 6 artifact file(s) and 0 other file(s)"
      ],
      "text/plain": [
       "<IPython.core.display.HTML object>"
      ]
     },
     "metadata": {},
     "output_type": "display_data"
    },
    {
     "data": {
      "text/html": [
       "Find logs at: <code>./wandb/run-20250106_183404-fe2610p1/logs</code>"
      ],
      "text/plain": [
       "<IPython.core.display.HTML object>"
      ]
     },
     "metadata": {},
     "output_type": "display_data"
    },
    {
     "data": {
      "text/plain": [
       "(ConvAutoEncoder(\n",
       "   (encoder): ConvReducer(\n",
       "     (conv1x1): Conv2d(826, 3, kernel_size=(1, 1), stride=(1, 1))\n",
       "   )\n",
       "   (decoder): Sequential(\n",
       "     (0): Conv2d(3, 826, kernel_size=(1, 1), stride=(1, 1))\n",
       "   )\n",
       " ),\n",
       " [0.33212346500820583,\n",
       "  38.15814441608058,\n",
       "  0.3083326352967156,\n",
       "  5.429602690868908,\n",
       "  1.2937968108389113,\n",
       "  0.27008532815509373,\n",
       "  0.26786717110209995,\n",
       "  31.555382001731132,\n",
       "  0.33804674943288165,\n",
       "  0.2846721609433492],\n",
       " [0.5520845353603363,\n",
       "  0.5896639406681061,\n",
       "  0.5497033417224884,\n",
       "  0.5457060217857361,\n",
       "  0.5238021850585938,\n",
       "  0.5040395379066467,\n",
       "  0.49933808743953706,\n",
       "  0.6628828555345535,\n",
       "  0.6394935458898544,\n",
       "  0.5215946286916733])"
      ]
     },
     "execution_count": 1,
     "metadata": {},
     "output_type": "execute_result"
    }
   ],
   "source": [
    "from dataset import build_hsi_dataloader, HSIDataset, build_hsi_testloader\n",
    "from dimensionality_reduction.autoencoder import (\n",
    "    ConvAutoEncoder,\n",
    "    model_pipeline_autoencoder,\n",
    ")\n",
    "import torch\n",
    "from torch.utils.data import DataLoader\n",
    "\n",
    "trainloader_hsi = build_hsi_dataloader(\n",
    "    batch_size=8,\n",
    "    train_split=1,\n",
    "    val_split=0,\n",
    "    test_split=0,\n",
    "    exclude_labeled_data=True,\n",
    "    augmented=True,\n",
    ")[0]\n",
    "\n",
    "testloader_hsi = build_hsi_testloader()\n",
    "\n",
    "lr = 0.001\n",
    "gaussian = ConvAutoEncoder()\n",
    "device = torch.device(\"cuda:2\" if torch.cuda.is_available() else \"cpu\")\n",
    "criterion = torch.nn.MSELoss()\n",
    "optimizer = torch.optim.Adam(gaussian.parameters(), lr=lr)\n",
    "\n",
    "\n",
    "config = {\n",
    "    \"model\": \"convReducer\",\n",
    "    \"optimizer\": \"Adam\",\n",
    "    \"learning_rate\": lr,\n",
    "    \"batch_size\": trainloader_hsi.batch_size,\n",
    "    \"epochs\": 10,\n",
    "}\n",
    "\n",
    "model_pipeline_autoencoder(\n",
    "    gaussian,\n",
    "    trainloader_hsi,\n",
    "    testloader_hsi,\n",
    "    criterion,\n",
    "    optimizer,\n",
    "    config,\n",
    "    project=\"hsi-autoencoder\",\n",
    "    device=device,\n",
    "    model_name=\"convReducer\",\n",
    "    batch_print=5,\n",
    ")"
   ]
  }
 ],
 "metadata": {
  "kernelspec": {
   "display_name": ".venv",
   "language": "python",
   "name": "python3"
  },
  "language_info": {
   "codemirror_mode": {
    "name": "ipython",
    "version": 3
   },
   "file_extension": ".py",
   "mimetype": "text/x-python",
   "name": "python",
   "nbconvert_exporter": "python",
   "pygments_lexer": "ipython3",
   "version": "2.7.18"
  }
 },
 "nbformat": 4,
 "nbformat_minor": 2
}
