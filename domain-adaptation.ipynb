{
 "cells": [
  {
   "cell_type": "markdown",
   "metadata": {},
   "source": [
    "# Domain Adaptation"
   ]
  },
  {
   "cell_type": "code",
   "execution_count": 1,
   "metadata": {},
   "outputs": [
    {
     "name": "stdout",
     "output_type": "stream",
     "text": [
      "Number of samples in the training set: 534, validation set: 60\n",
      "Number of samples in the test set: 200\n",
      "62 5\n"
     ]
    }
   ],
   "source": [
    "from dataset import (\n",
    "    build_hsi_testloader,\n",
    "    build_hsi_dataloader,\n",
    "    HSIDataset,\n",
    "    build_FIVES_random_crops_dataloaders,\n",
    ")\n",
    "from torch.utils.data import DataLoader\n",
    "\n",
    "trainloader_source, validationloader_source, testloader_source = (\n",
    "    build_FIVES_random_crops_dataloaders(\n",
    "        batch_size=16,\n",
    "        num_channels=1,\n",
    "        load_from_path='data/FIVES_random_crops_threshold01'\n",
    "    )\n",
    ")\n",
    "\n",
    "window = (500, 600)\n",
    "target_augmented= True\n",
    "trainloader_target = build_hsi_dataloader(\n",
    "    batch_size=8,\n",
    "    train_split=1,\n",
    "    val_split=0,\n",
    "    test_split=0,\n",
    "    window=window,\n",
    "    exclude_labeled_data=True,\n",
    "    augmented=target_augmented,\n",
    "    ring_label_dir='data/helicoid_ring_labels',\n",
    ")[0]\n",
    "\n",
    "testloader_target = build_hsi_testloader(\n",
    "    batch_size=1,\n",
    "    window=window,\n",
    ")\n",
    "\n",
    "print(len(trainloader_target.dataset), len(testloader_target.dataset))"
   ]
  },
  {
   "cell_type": "markdown",
   "metadata": {},
   "source": [
    "## Evaluation of Model without Domain Adaptation on Target Testset"
   ]
  },
  {
   "cell_type": "markdown",
   "metadata": {},
   "source": [
    "### Transfer Learning"
   ]
  },
  {
   "cell_type": "code",
   "execution_count": 3,
   "metadata": {},
   "outputs": [
    {
     "name": "stdout",
     "output_type": "stream",
     "text": [
      "Precision: nan, Recall: 0.0239, F1 Score: 0.0410, Dice Score: 0.0410, Accuracy: 0.7850\n"
     ]
    },
    {
     "data": {
      "text/plain": [
       "(tensor(nan, device='cuda:3'),\n",
       " tensor(0.0239, device='cuda:3'),\n",
       " tensor(0.0410, device='cuda:3'),\n",
       " tensor(0.7850, device='cuda:3'),\n",
       " tensor(0.0410, device='cuda:3'))"
      ]
     },
     "execution_count": 3,
     "metadata": {},
     "output_type": "execute_result"
    }
   ],
   "source": [
    "from segmentation_util import evaluate_model, build_segmentation_model\n",
    "import torch\n",
    "device = torch.device(\"cuda:3\" if torch.cuda.is_available() else \"cpu\")\n",
    "model = build_segmentation_model('resnet50', 'Unet', device, in_channels=1)\n",
    "\n",
    "evaluate_model(\n",
    "    model, testloader_target, device, with_wandb=False\n",
    ")"
   ]
  },
  {
   "cell_type": "markdown",
   "metadata": {},
   "source": [
    "### Ensemble Model"
   ]
  },
  {
   "cell_type": "code",
   "execution_count": null,
   "metadata": {},
   "outputs": [
    {
     "name": "stdout",
     "output_type": "stream",
     "text": [
      "Precision: 0.5368, Recall: 0.2351, F1 Score: 0.3072, Dice Score: 0.3072, Accuracy: 0.8104\n"
     ]
    },
    {
     "data": {
      "text/plain": [
       "(tensor(0.5368, device='cuda:3'),\n",
       " tensor(0.2351, device='cuda:3'),\n",
       " tensor(0.3072, device='cuda:3'),\n",
       " tensor(0.8104, device='cuda:3'),\n",
       " tensor(0.3072, device='cuda:3'))"
      ]
     },
     "execution_count": 3,
     "metadata": {},
     "output_type": "execute_result"
    }
   ],
   "source": [
    "from HSI_Net import SegmentationModelWithWindowing\n",
    "from segmentation_util import build_segmentation_model, evaluate_model\n",
    "from ensemble_model import EnsembleModelAverage\n",
    "import segmentation_models_pytorch as smp\n",
    "import torch\n",
    "\n",
    "path = \"./data/helicoid_with_labels\"\n",
    "testset = HSIDataset(path, with_gt=True)\n",
    "testset.crop_dataset()\n",
    "testloader_target = DataLoader(testset, batch_size=1, shuffle=False)\n",
    "\n",
    "encoder = 'timm-regnetx_320'\n",
    "architecture = 'Linknet'\n",
    "device = ('cuda:5' if torch.cuda.is_available() else 'cpu')\n",
    "\n",
    "segmenter_single_channel = build_segmentation_model(encoder, architecture, device)\n",
    "segmenter_single_channel.load_state_dict(torch.load('./models/{architecture}-{encoder}-512x512-augmented-with-random-crops-single-channel-focal.pth'.format(architecture=architecture, encoder=encoder)))\n",
    "segmenter_single_channel.eval()\n",
    "\n",
    "window1 = (400, 500)\n",
    "window2 = (500, 600)\n",
    "window3 = (600, 700)\n",
    "window4 = (700, 800)\n",
    "window5 = (800, 900)\n",
    "window6 = (900, 1000)\n",
    "window_full = (400, 1100)\n",
    "\n",
    "\n",
    "model_windowing_400to500 = SegmentationModelWithWindowing(segmenter_single_channel, window=testset.get_window_from_wavelengths(window1))\n",
    "model_with_windowing_500to600 = SegmentationModelWithWindowing(segmenter_single_channel, window=testset.get_window_from_wavelengths(window2))\n",
    "model_windowing_600to700 = SegmentationModelWithWindowing(segmenter_single_channel, window=testset.get_window_from_wavelengths(window3))\n",
    "model_windowing_700to800 = SegmentationModelWithWindowing(segmenter_single_channel, window=testset.get_window_from_wavelengths(window4))\n",
    "model_windowing_800to900 = SegmentationModelWithWindowing(segmenter_single_channel, window=testset.get_window_from_wavelengths(window5))\n",
    "model_windowing_900to1000 = SegmentationModelWithWindowing(segmenter_single_channel, window=testset.get_window_from_wavelengths(window6))\n",
    "model_window_full = SegmentationModelWithWindowing(segmenter_single_channel, window=testset.get_window_from_wavelengths(window_full))\n",
    "\n",
    "model = EnsembleModelAverage([model_windowing_400to500, model_with_windowing_500to600, model_windowing_600to700, model_windowing_700to800, model_windowing_900to1000, model_window_full])\n",
    "evaluate_model(model, testloader_target, device, with_wandb=False)"
   ]
  },
  {
   "cell_type": "markdown",
   "metadata": {},
   "source": [
    "## Domain Adaptation Approaches:\n",
    "### GRL domain adaptation"
   ]
  },
  {
   "cell_type": "code",
   "execution_count": null,
   "metadata": {},
   "outputs": [
    {
     "name": "stderr",
     "output_type": "stream",
     "text": [
      "Failed to detect the name of this notebook, you can set it manually with the WANDB_NOTEBOOK_NAME environment variable to enable code saving.\n",
      "\u001b[34m\u001b[1mwandb\u001b[0m: Currently logged in as: \u001b[33mtim-mach\u001b[0m (\u001b[33midp2024\u001b[0m). Use \u001b[1m`wandb login --relogin`\u001b[0m to force relogin\n"
     ]
    },
    {
     "data": {
      "text/html": [
       "wandb version 0.18.6 is available!  To upgrade, please run:\n",
       " $ pip install wandb --upgrade"
      ],
      "text/plain": [
       "<IPython.core.display.HTML object>"
      ]
     },
     "metadata": {},
     "output_type": "display_data"
    },
    {
     "data": {
      "text/html": [
       "Tracking run with wandb version 0.16.6"
      ],
      "text/plain": [
       "<IPython.core.display.HTML object>"
      ]
     },
     "metadata": {},
     "output_type": "display_data"
    },
    {
     "data": {
      "text/html": [
       "Run data is saved locally in <code>/home/home/tim_ivan/idp/wandb/run-20241113_212614-c8spo9w6</code>"
      ],
      "text/plain": [
       "<IPython.core.display.HTML object>"
      ]
     },
     "metadata": {},
     "output_type": "display_data"
    },
    {
     "data": {
      "text/html": [
       "Syncing run <strong><a href='https://wandb.ai/idp2024/domain-adaptation/runs/c8spo9w6' target=\"_blank\">GRL-Linknet-timm-regnetx_320-window_500-600-pretrained-random_crops-bloodvessel_ratio01</a></strong> to <a href='https://wandb.ai/idp2024/domain-adaptation' target=\"_blank\">Weights & Biases</a> (<a href='https://wandb.me/run' target=\"_blank\">docs</a>)<br/>"
      ],
      "text/plain": [
       "<IPython.core.display.HTML object>"
      ]
     },
     "metadata": {},
     "output_type": "display_data"
    },
    {
     "data": {
      "text/html": [
       " View project at <a href='https://wandb.ai/idp2024/domain-adaptation' target=\"_blank\">https://wandb.ai/idp2024/domain-adaptation</a>"
      ],
      "text/plain": [
       "<IPython.core.display.HTML object>"
      ]
     },
     "metadata": {},
     "output_type": "display_data"
    },
    {
     "data": {
      "text/html": [
       " View run at <a href='https://wandb.ai/idp2024/domain-adaptation/runs/c8spo9w6' target=\"_blank\">https://wandb.ai/idp2024/domain-adaptation/runs/c8spo9w6</a>"
      ],
      "text/plain": [
       "<IPython.core.display.HTML object>"
      ]
     },
     "metadata": {},
     "output_type": "display_data"
    },
    {
     "name": "stdout",
     "output_type": "stream",
     "text": [
      "Loading pretrained model from ./models/Linknet-timm-regnetx_320-512x512-augmented-with-random-crops-single-channel-focal.pth\n"
     ]
    },
    {
     "name": "stderr",
     "output_type": "stream",
     "text": [
      "/home/home/tim_ivan/idp/.venv/lib/python3.8/site-packages/torch/nn/modules/conv.py:456: UserWarning: Plan failed with a cudnnException: CUDNN_BACKEND_EXECUTION_PLAN_DESCRIPTOR: cudnnFinalize Descriptor Failed cudnn_status: CUDNN_STATUS_NOT_SUPPORTED (Triggered internally at ../aten/src/ATen/native/cudnn/Conv_v8.cpp:919.)\n",
      "  return F.conv2d(input, weight, bias, self.stride,\n",
      "/home/home/tim_ivan/idp/.venv/lib/python3.8/site-packages/torch/autograd/graph.py:744: UserWarning: Plan failed with a cudnnException: CUDNN_BACKEND_EXECUTION_PLAN_DESCRIPTOR: cudnnFinalize Descriptor Failed cudnn_status: CUDNN_STATUS_NOT_SUPPORTED (Triggered internally at ../aten/src/ATen/native/cudnn/Conv_v8.cpp:919.)\n",
      "  return Variable._execution_engine.run_backward(  # Calls into the C++ engine to run the backward pass\n",
      "/home/home/tim_ivan/idp/.venv/lib/python3.8/site-packages/torch/nn/modules/conv.py:456: UserWarning: Plan failed with a cudnnException: CUDNN_BACKEND_EXECUTION_PLAN_DESCRIPTOR: cudnnFinalize Descriptor Failed cudnn_status: CUDNN_STATUS_NOT_SUPPORTED (Triggered internally at ../aten/src/ATen/native/cudnn/Conv_v8.cpp:919.)\n",
      "  return F.conv2d(input, weight, bias, self.stride,\n"
     ]
    },
    {
     "name": "stdout",
     "output_type": "stream",
     "text": [
      "Epoch 1, Batch 10/34, Total Loss: 1.8441, Segmentation Loss: 0.4249, Domain Loss Source: 0.6113, Domain Loss Target: 0.6371\n",
      "Epoch 1, Batch 20/34, Total Loss: 1.7106, Segmentation Loss: 0.3447, Domain Loss Source: 0.5976, Domain Loss Target: 0.9083\n",
      "Epoch 1, Batch 30/34, Total Loss: 1.7214, Segmentation Loss: 0.3221, Domain Loss Source: 0.7402, Domain Loss Target: 0.8175\n",
      "Epoch 1, Train Loss: 1.7574\n",
      "Evaluating model performance on source data\n",
      "Precision: 0.9107, Recall: 0.3290, F1 Score: 0.4825, Dice Score: 0.4825, Accuracy: 0.8770\n",
      "Evaluating model performance on target data\n",
      "Precision: nan, Recall: 0.0748, F1 Score: 0.1181, Dice Score: 0.1181, Accuracy: 0.7753\n",
      "Epoch 1, Validation Loss Source: 0.2613, Validation Loss Target: 1.4982\n",
      "Epoch 2, Batch 10/34, Total Loss: 1.8595, Segmentation Loss: 0.2791, Domain Loss Source: 0.7408, Domain Loss Target: 0.9152\n",
      "Epoch 2, Batch 20/34, Total Loss: 1.7727, Segmentation Loss: 0.2733, Domain Loss Source: 0.6027, Domain Loss Target: 0.9855\n",
      "Epoch 2, Batch 30/34, Total Loss: 1.6891, Segmentation Loss: 0.2467, Domain Loss Source: 0.6409, Domain Loss Target: 0.7521\n",
      "Epoch 2, Train Loss: 1.7611\n",
      "Evaluating model performance on source data\n",
      "Precision: 0.9257, Recall: 0.4496, F1 Score: 0.6040, Dice Score: 0.6040, Accuracy: 0.8974\n",
      "Evaluating model performance on target data\n",
      "Precision: nan, Recall: 0.2346, F1 Score: 0.2797, Dice Score: 0.2797, Accuracy: 0.7875\n",
      "Epoch 2, Validation Loss Source: 0.2264, Validation Loss Target: 0.8648\n",
      "Epoch 3, Batch 10/34, Total Loss: 1.6198, Segmentation Loss: 0.2116, Domain Loss Source: 0.6014, Domain Loss Target: 0.7754\n"
     ]
    }
   ],
   "source": [
    "import matplotlib.pyplot as plt\n",
    "import torch\n",
    "from domain_adaptation_training import model_pipeline\n",
    "\n",
    "encoder = \"timm-regnetx_320\"\n",
    "architecture = \"Linknet\"\n",
    "device = torch.device(\"cuda:4\" if torch.cuda.is_available() else \"cpu\")\n",
    "lambda_param = 0.5\n",
    "learning_rate = 0.001\n",
    "loss = \"BCE\"\n",
    "epochs = 10\n",
    "in_channels = 1\n",
    "hidden_dim = 256\n",
    "\n",
    "config = {\n",
    "    \"model\": \"GRL-{architecture}-{encoder}-window_{window[0]}-{window[1]}-pretrained-random_crops-bloodvessel_ratio01\".format(\n",
    "        architecture=architecture, encoder=encoder, window=window\n",
    "    ),\n",
    "    \"encoder\": encoder,\n",
    "    \"architecture\": architecture,\n",
    "    \"learning_rate\": learning_rate,\n",
    "    \"optimizer\": \"Adam\",\n",
    "    \"lambda_param\": lambda_param,\n",
    "    \"batch_size_source\": trainloader_source.batch_size,\n",
    "    \"batch_size_target\": trainloader_target.batch_size,\n",
    "    \"hidden_dim\": hidden_dim,\n",
    "    \"epochs\": epochs,\n",
    "    \"loss\": loss,\n",
    "    \"in_channels\": in_channels,\n",
    "    \"pretrained\": './models/Linknet-timm-regnetx_320-512x512-augmented-with-random-crops-single-channel-focal.pth'\n",
    "}\n",
    "\n",
    "model, train_losses, domain_losses, val_losses_source, val_losses_target = model_pipeline(\n",
    "    trainloader_source,\n",
    "    validationloader_source,\n",
    "    testloader_source,\n",
    "    trainloader_target,\n",
    "    testloader_target,\n",
    "    config,\n",
    "    project=\"domain-adaptation\",\n",
    "    device=device,\n",
    "    batch_print=10,\n",
    "    evaluate=True,\n",
    "    with_overlays=True,\n",
    ")\n",
    "\n",
    "# Plotting the training and validation loss curves\n",
    "plt.figure(figsize=(10, 6))\n",
    "plt.plot(train_losses, label=\"Combined Training Loss\")\n",
    "plt.plot(domain_losses, label=\"Domain Loss\")\n",
    "plt.plot(val_losses_source, label=\"Validation Loss Source\")\n",
    "plt.plot(val_losses_target, label=\"Validation Loss Target\")\n",
    "plt.xlabel(\"Epochs\")\n",
    "plt.ylabel(\"Loss\")\n",
    "plt.title(\"Training and Validation Loss Curves\")\n",
    "plt.legend()\n",
    "plt.show()"
   ]
  },
  {
   "cell_type": "markdown",
   "metadata": {},
   "source": [
    "### FADA:"
   ]
  },
  {
   "cell_type": "code",
   "execution_count": 1,
   "metadata": {},
   "outputs": [
    {
     "name": "stderr",
     "output_type": "stream",
     "text": [
      "Failed to detect the name of this notebook, you can set it manually with the WANDB_NOTEBOOK_NAME environment variable to enable code saving.\n",
      "\u001b[34m\u001b[1mwandb\u001b[0m: Currently logged in as: \u001b[33mtim-mach\u001b[0m (\u001b[33midp2024\u001b[0m). Use \u001b[1m`wandb login --relogin`\u001b[0m to force relogin\n"
     ]
    },
    {
     "data": {
      "text/html": [
       "wandb version 0.19.4 is available!  To upgrade, please run:\n",
       " $ pip install wandb --upgrade"
      ],
      "text/plain": [
       "<IPython.core.display.HTML object>"
      ]
     },
     "metadata": {},
     "output_type": "display_data"
    },
    {
     "data": {
      "text/html": [
       "Tracking run with wandb version 0.16.6"
      ],
      "text/plain": [
       "<IPython.core.display.HTML object>"
      ]
     },
     "metadata": {},
     "output_type": "display_data"
    },
    {
     "data": {
      "text/html": [
       "Run data is saved locally in <code>/home/home/tim_ivan/idp/wandb/run-20250122_152658-b0erqg1e</code>"
      ],
      "text/plain": [
       "<IPython.core.display.HTML object>"
      ]
     },
     "metadata": {},
     "output_type": "display_data"
    },
    {
     "data": {
      "text/html": [
       "Syncing run <strong><a href='https://wandb.ai/idp2024/domain-adaptation/runs/b0erqg1e' target=\"_blank\">FADA-Window-3Channel-Reducer-transpose</a></strong> to <a href='https://wandb.ai/idp2024/domain-adaptation' target=\"_blank\">Weights & Biases</a> (<a href='https://wandb.me/run' target=\"_blank\">docs</a>)<br/>"
      ],
      "text/plain": [
       "<IPython.core.display.HTML object>"
      ]
     },
     "metadata": {},
     "output_type": "display_data"
    },
    {
     "data": {
      "text/html": [
       " View project at <a href='https://wandb.ai/idp2024/domain-adaptation' target=\"_blank\">https://wandb.ai/idp2024/domain-adaptation</a>"
      ],
      "text/plain": [
       "<IPython.core.display.HTML object>"
      ]
     },
     "metadata": {},
     "output_type": "display_data"
    },
    {
     "data": {
      "text/html": [
       " View run at <a href='https://wandb.ai/idp2024/domain-adaptation/runs/b0erqg1e' target=\"_blank\">https://wandb.ai/idp2024/domain-adaptation/runs/b0erqg1e</a>"
      ],
      "text/plain": [
       "<IPython.core.display.HTML object>"
      ]
     },
     "metadata": {},
     "output_type": "display_data"
    },
    {
     "name": "stdout",
     "output_type": "stream",
     "text": [
      "Number of samples in the training set: 534, validation set: 60\n",
      "Number of samples in the test set: 200\n",
      "Loading pretrained model from models/serene-sweep-9.pth\n",
      "Using Window Channel Reduction\n"
     ]
    },
    {
     "name": "stderr",
     "output_type": "stream",
     "text": [
      "/home/home/tim_ivan/idp/.venv/lib/python3.8/site-packages/torch/nn/modules/conv.py:456: UserWarning: Plan failed with a cudnnException: CUDNN_BACKEND_EXECUTION_PLAN_DESCRIPTOR: cudnnFinalize Descriptor Failed cudnn_status: CUDNN_STATUS_NOT_SUPPORTED (Triggered internally at ../aten/src/ATen/native/cudnn/Conv_v8.cpp:919.)\n",
      "  return F.conv2d(input, weight, bias, self.stride,\n",
      "/home/home/tim_ivan/idp/.venv/lib/python3.8/site-packages/torch/autograd/graph.py:744: UserWarning: Plan failed with a cudnnException: CUDNN_BACKEND_EXECUTION_PLAN_DESCRIPTOR: cudnnFinalize Descriptor Failed cudnn_status: CUDNN_STATUS_NOT_SUPPORTED (Triggered internally at ../aten/src/ATen/native/cudnn/Conv_v8.cpp:919.)\n",
      "  return Variable._execution_engine.run_backward(  # Calls into the C++ engine to run the backward pass\n"
     ]
    },
    {
     "name": "stdout",
     "output_type": "stream",
     "text": [
      "Epoch 1, Batch 5/34, Total Loss: 1.1071, Segmentation Loss: 0.2318, Domain Loss Source: 0.2075, Domain Loss Target: 0.4498, Adversarial Loss Target: 0.0004\n",
      "Epoch 1, Batch 10/34, Total Loss: 1.0078, Segmentation Loss: 0.5268, Domain Loss Source: 0.4075, Domain Loss Target: 0.2247, Adversarial Loss Target: 0.0008\n",
      "Epoch 1, Batch 15/34, Total Loss: 0.9108, Segmentation Loss: 0.2911, Domain Loss Source: 0.3161, Domain Loss Target: 0.3002, Adversarial Loss Target: 0.0007\n",
      "Epoch 1, Batch 20/34, Total Loss: 0.8756, Segmentation Loss: 0.2940, Domain Loss Source: 0.2602, Domain Loss Target: 0.3464, Adversarial Loss Target: 0.0006\n",
      "Epoch 1, Batch 25/34, Total Loss: 0.9358, Segmentation Loss: 0.2998, Domain Loss Source: 0.3443, Domain Loss Target: 0.2596, Adversarial Loss Target: 0.0008\n",
      "Epoch 1, Batch 30/34, Total Loss: 0.8327, Segmentation Loss: 0.2469, Domain Loss Source: 0.2856, Domain Loss Target: 0.3020, Adversarial Loss Target: 0.0007\n",
      "Epoch 1, Train Loss: 2.7542\n"
     ]
    },
    {
     "name": "stderr",
     "output_type": "stream",
     "text": [
      "/home/home/tim_ivan/idp/segmentation_util.py:212: UserWarning: Creating a tensor from a list of numpy.ndarrays is extremely slow. Please consider converting the list to a single numpy.ndarray with numpy.array() before converting to a tensor. (Triggered internally at ../torch/csrc/utils/tensor_new.cpp:274.)\n",
      "  return torch.tensor(smoothed_predictions, device=predictions.device)\n",
      "/home/home/tim_ivan/idp/.venv/lib/python3.8/site-packages/torch/nn/modules/conv.py:456: UserWarning: Plan failed with a cudnnException: CUDNN_BACKEND_EXECUTION_PLAN_DESCRIPTOR: cudnnFinalize Descriptor Failed cudnn_status: CUDNN_STATUS_NOT_SUPPORTED (Triggered internally at ../aten/src/ATen/native/cudnn/Conv_v8.cpp:919.)\n",
      "  return F.conv2d(input, weight, bias, self.stride,\n"
     ]
    },
    {
     "name": "stdout",
     "output_type": "stream",
     "text": [
      "Evaluating model performance on source data\n",
      "Precision: 0.9054, Recall: 0.6435, F1 Score: 0.7506, Dice Score: 0.7506, Accuracy: 0.9261\n",
      "Evaluating model performance on target data\n",
      "Precision: 0.3868, Recall: 0.4299, F1 Score: 0.4014, Dice Score: 0.4014, Accuracy: 0.7442\n",
      "Precision: 0.3810, Recall: 0.4105, F1 Score: 0.3884, Dice Score: 0.3884, Accuracy: 0.7429\n",
      "Epoch 1, Validation Loss Source: 0.2331, Validation Loss Target: 0.9076\n",
      "Epoch 2, Batch 5/34, Total Loss: 0.7800, Segmentation Loss: 0.1933, Domain Loss Source: 0.2706, Domain Loss Target: 0.2894, Adversarial Loss Target: 0.0007\n",
      "Epoch 2, Batch 10/34, Total Loss: 0.7981, Segmentation Loss: 0.3818, Domain Loss Source: 0.2811, Domain Loss Target: 0.2613, Adversarial Loss Target: 0.0008\n",
      "Epoch 2, Batch 15/34, Total Loss: 0.7667, Segmentation Loss: 0.2326, Domain Loss Source: 0.1531, Domain Loss Target: 0.4550, Adversarial Loss Target: 0.0005\n",
      "Epoch 2, Batch 20/34, Total Loss: 0.7231, Segmentation Loss: 0.2237, Domain Loss Source: 0.3316, Domain Loss Target: 0.1646, Adversarial Loss Target: 0.0012\n",
      "Epoch 2, Batch 25/34, Total Loss: 0.7317, Segmentation Loss: 0.1775, Domain Loss Source: 0.4178, Domain Loss Target: 0.1162, Adversarial Loss Target: 0.0016\n",
      "Epoch 2, Batch 30/34, Total Loss: 0.6944, Segmentation Loss: 0.1629, Domain Loss Source: 0.3944, Domain Loss Target: 0.1051, Adversarial Loss Target: 0.0016\n",
      "Epoch 2, Train Loss: 2.1808\n",
      "Evaluating model performance on source data\n",
      "Precision: 0.9127, Recall: 0.6450, F1 Score: 0.7546, Dice Score: 0.7546, Accuracy: 0.9275\n",
      "Evaluating model performance on target data\n",
      "Precision: 0.3946, Recall: 0.4280, F1 Score: 0.4057, Dice Score: 0.4057, Accuracy: 0.7523\n",
      "Precision: 0.3874, Recall: 0.4077, F1 Score: 0.3916, Dice Score: 0.3916, Accuracy: 0.7511\n",
      "Epoch 2, Validation Loss Source: 0.2604, Validation Loss Target: 0.8969\n",
      "Epoch 3, Batch 5/34, Total Loss: 0.6672, Segmentation Loss: 0.1718, Domain Loss Source: 0.1556, Domain Loss Target: 0.3483, Adversarial Loss Target: 0.0007\n",
      "Epoch 3, Batch 10/34, Total Loss: 0.6875, Segmentation Loss: 0.2591, Domain Loss Source: 0.1975, Domain Loss Target: 0.2861, Adversarial Loss Target: 0.0008\n",
      "Epoch 3, Batch 15/34, Total Loss: 0.6243, Segmentation Loss: 0.2053, Domain Loss Source: 0.1898, Domain Loss Target: 0.2413, Adversarial Loss Target: 0.0010\n",
      "Epoch 3, Batch 20/34, Total Loss: 0.6229, Segmentation Loss: 0.1929, Domain Loss Source: 0.1326, Domain Loss Target: 0.2226, Adversarial Loss Target: 0.0010\n",
      "Epoch 3, Batch 25/34, Total Loss: 0.6323, Segmentation Loss: 0.1276, Domain Loss Source: 0.2447, Domain Loss Target: 0.2057, Adversarial Loss Target: 0.0011\n",
      "Epoch 3, Batch 30/34, Total Loss: 0.6376, Segmentation Loss: 0.1378, Domain Loss Source: 0.2601, Domain Loss Target: 0.1397, Adversarial Loss Target: 0.0015\n",
      "Epoch 3, Train Loss: 1.9122\n",
      "Evaluating model performance on source data\n",
      "Precision: 0.9041, Recall: 0.6696, F1 Score: 0.7683, Dice Score: 0.7683, Accuracy: 0.9302\n",
      "Evaluating model performance on target data\n",
      "Precision: 0.3763, Recall: 0.4367, F1 Score: 0.4008, Dice Score: 0.4008, Accuracy: 0.7413\n",
      "Precision: 0.3734, Recall: 0.4195, F1 Score: 0.3909, Dice Score: 0.3909, Accuracy: 0.7420\n",
      "Epoch 3, Validation Loss Source: 0.2643, Validation Loss Target: 0.9627\n",
      "Epoch 4, Batch 5/34, Total Loss: 0.5755, Segmentation Loss: 0.1349, Domain Loss Source: 0.1394, Domain Loss Target: 0.2751, Adversarial Loss Target: 0.0008\n",
      "Epoch 4, Batch 10/34, Total Loss: 0.6344, Segmentation Loss: 0.1737, Domain Loss Source: 0.1654, Domain Loss Target: 0.2184, Adversarial Loss Target: 0.0010\n",
      "Epoch 4, Batch 15/34, Total Loss: 0.6076, Segmentation Loss: 0.1764, Domain Loss Source: 0.1878, Domain Loss Target: 0.3410, Adversarial Loss Target: 0.0007\n",
      "Epoch 4, Batch 20/34, Total Loss: 0.5979, Segmentation Loss: 0.1695, Domain Loss Source: 0.0994, Domain Loss Target: 0.3103, Adversarial Loss Target: 0.0009\n",
      "Epoch 4, Batch 25/34, Total Loss: 0.5909, Segmentation Loss: 0.1133, Domain Loss Source: 0.2085, Domain Loss Target: 0.2193, Adversarial Loss Target: 0.0010\n",
      "Epoch 4, Batch 30/34, Total Loss: 0.5642, Segmentation Loss: 0.1297, Domain Loss Source: 0.2618, Domain Loss Target: 0.1663, Adversarial Loss Target: 0.0012\n",
      "Epoch 4, Train Loss: 1.7671\n",
      "Evaluating model performance on source data\n",
      "Precision: 0.8761, Recall: 0.6892, F1 Score: 0.7701, Dice Score: 0.7701, Accuracy: 0.9288\n",
      "Evaluating model performance on target data\n",
      "Precision: 0.3675, Recall: 0.4480, F1 Score: 0.4015, Dice Score: 0.4015, Accuracy: 0.7357\n",
      "Precision: 0.3756, Recall: 0.4339, F1 Score: 0.3991, Dice Score: 0.3991, Accuracy: 0.7419\n",
      "Epoch 4, Validation Loss Source: 0.2705, Validation Loss Target: 1.0090\n",
      "Epoch 5, Batch 5/34, Total Loss: 0.5697, Segmentation Loss: 0.1270, Domain Loss Source: 0.4165, Domain Loss Target: 0.1594, Adversarial Loss Target: 0.0014\n",
      "Epoch 5, Batch 10/34, Total Loss: 0.5986, Segmentation Loss: 0.1409, Domain Loss Source: 0.3044, Domain Loss Target: 0.1514, Adversarial Loss Target: 0.0016\n",
      "Epoch 5, Batch 15/34, Total Loss: 0.6450, Segmentation Loss: 0.1462, Domain Loss Source: 0.1979, Domain Loss Target: 0.2856, Adversarial Loss Target: 0.0008\n",
      "Epoch 5, Batch 20/34, Total Loss: 0.5847, Segmentation Loss: 0.1500, Domain Loss Source: 0.1038, Domain Loss Target: 0.3871, Adversarial Loss Target: 0.0006\n",
      "Epoch 5, Batch 25/34, Total Loss: 0.6462, Segmentation Loss: 0.1066, Domain Loss Source: 0.0928, Domain Loss Target: 0.4016, Adversarial Loss Target: 0.0006\n",
      "Epoch 5, Batch 30/34, Total Loss: 0.5924, Segmentation Loss: 0.1244, Domain Loss Source: 0.2069, Domain Loss Target: 0.2807, Adversarial Loss Target: 0.0009\n",
      "Epoch 5, Train Loss: 1.7610\n",
      "Evaluating model performance on source data\n",
      "Precision: 0.8587, Recall: 0.7046, F1 Score: 0.7725, Dice Score: 0.7725, Accuracy: 0.9282\n",
      "Evaluating model performance on target data\n",
      "Precision: 0.3557, Recall: 0.4789, F1 Score: 0.4059, Dice Score: 0.4059, Accuracy: 0.7220\n",
      "Precision: 0.3706, Recall: 0.4696, F1 Score: 0.4108, Dice Score: 0.4108, Accuracy: 0.7324\n",
      "Epoch 5, Validation Loss Source: 0.2783, Validation Loss Target: 1.0677\n",
      "Epoch 6, Batch 5/34, Total Loss: 0.5662, Segmentation Loss: 0.1246, Domain Loss Source: 0.2973, Domain Loss Target: 0.1698, Adversarial Loss Target: 0.0012\n",
      "Epoch 6, Batch 10/34, Total Loss: 0.5466, Segmentation Loss: 0.1301, Domain Loss Source: 0.2105, Domain Loss Target: 0.2402, Adversarial Loss Target: 0.0010\n",
      "Epoch 6, Batch 15/34, Total Loss: 0.5900, Segmentation Loss: 0.1314, Domain Loss Source: 0.1388, Domain Loss Target: 0.2565, Adversarial Loss Target: 0.0009\n",
      "Epoch 6, Batch 20/34, Total Loss: 0.5963, Segmentation Loss: 0.1321, Domain Loss Source: 0.3981, Domain Loss Target: 0.1320, Adversarial Loss Target: 0.0017\n",
      "Epoch 6, Batch 25/34, Total Loss: 0.5901, Segmentation Loss: 0.1020, Domain Loss Source: 0.4551, Domain Loss Target: 0.0663, Adversarial Loss Target: 0.0022\n",
      "Epoch 6, Batch 30/34, Total Loss: 0.6616, Segmentation Loss: 0.1198, Domain Loss Source: 0.4414, Domain Loss Target: 0.0692, Adversarial Loss Target: 0.0021\n",
      "Epoch 6, Train Loss: 1.7293\n",
      "Evaluating model performance on source data\n",
      "Precision: 0.8566, Recall: 0.7031, F1 Score: 0.7707, Dice Score: 0.7707, Accuracy: 0.9276\n",
      "Evaluating model performance on target data\n",
      "Precision: 0.3636, Recall: 0.4824, F1 Score: 0.4120, Dice Score: 0.4120, Accuracy: 0.7280\n",
      "Precision: 0.3827, Recall: 0.4747, F1 Score: 0.4201, Dice Score: 0.4201, Accuracy: 0.7406\n",
      "Epoch 6, Validation Loss Source: 0.2923, Validation Loss Target: 1.0716\n",
      "Epoch 7, Batch 5/34, Total Loss: 0.5734, Segmentation Loss: 0.1217, Domain Loss Source: 0.1628, Domain Loss Target: 0.2267, Adversarial Loss Target: 0.0010\n",
      "Epoch 7, Batch 10/34, Total Loss: 0.5906, Segmentation Loss: 0.1244, Domain Loss Source: 0.2607, Domain Loss Target: 0.2808, Adversarial Loss Target: 0.0009\n",
      "Epoch 7, Batch 15/34, Total Loss: 0.5068, Segmentation Loss: 0.1250, Domain Loss Source: 0.2155, Domain Loss Target: 0.1390, Adversarial Loss Target: 0.0014\n",
      "Epoch 7, Batch 20/34, Total Loss: 0.5286, Segmentation Loss: 0.1226, Domain Loss Source: 0.1855, Domain Loss Target: 0.1154, Adversarial Loss Target: 0.0015\n",
      "Epoch 7, Batch 25/34, Total Loss: 0.4774, Segmentation Loss: 0.0975, Domain Loss Source: 0.2302, Domain Loss Target: 0.1810, Adversarial Loss Target: 0.0012\n",
      "Epoch 7, Batch 30/34, Total Loss: 0.4881, Segmentation Loss: 0.1156, Domain Loss Source: 0.0727, Domain Loss Target: 0.3019, Adversarial Loss Target: 0.0009\n",
      "Epoch 7, Train Loss: 1.5646\n",
      "Evaluating model performance on source data\n",
      "Precision: 0.8592, Recall: 0.7070, F1 Score: 0.7741, Dice Score: 0.7741, Accuracy: 0.9286\n",
      "Evaluating model performance on target data\n",
      "Precision: 0.3598, Recall: 0.4952, F1 Score: 0.4139, Dice Score: 0.4139, Accuracy: 0.7217\n",
      "Precision: 0.3794, Recall: 0.4884, F1 Score: 0.4231, Dice Score: 0.4231, Accuracy: 0.7348\n",
      "Epoch 7, Validation Loss Source: 0.2897, Validation Loss Target: 1.1044\n",
      "Epoch 8, Batch 5/34, Total Loss: 0.4488, Segmentation Loss: 0.1187, Domain Loss Source: 0.1606, Domain Loss Target: 0.1251, Adversarial Loss Target: 0.0015\n",
      "Epoch 8, Batch 10/34, Total Loss: 0.5475, Segmentation Loss: 0.1202, Domain Loss Source: 0.1440, Domain Loss Target: 0.1782, Adversarial Loss Target: 0.0013\n",
      "Epoch 8, Batch 15/34, Total Loss: 0.4605, Segmentation Loss: 0.1203, Domain Loss Source: 0.1989, Domain Loss Target: 0.2179, Adversarial Loss Target: 0.0011\n",
      "Epoch 8, Batch 20/34, Total Loss: 0.4605, Segmentation Loss: 0.1166, Domain Loss Source: 0.2497, Domain Loss Target: 0.0937, Adversarial Loss Target: 0.0020\n",
      "Epoch 8, Batch 25/34, Total Loss: 0.4805, Segmentation Loss: 0.0939, Domain Loss Source: 0.1368, Domain Loss Target: 0.1713, Adversarial Loss Target: 0.0013\n",
      "Epoch 8, Batch 30/34, Total Loss: 0.4236, Segmentation Loss: 0.1123, Domain Loss Source: 0.0458, Domain Loss Target: 0.3310, Adversarial Loss Target: 0.0008\n",
      "Epoch 8, Train Loss: 1.4269\n",
      "Evaluating model performance on source data\n",
      "Precision: 0.8629, Recall: 0.7079, F1 Score: 0.7762, Dice Score: 0.7762, Accuracy: 0.9294\n",
      "Evaluating model performance on target data\n",
      "Precision: 0.3630, Recall: 0.4977, F1 Score: 0.4166, Dice Score: 0.4166, Accuracy: 0.7232\n",
      "Precision: 0.3831, Recall: 0.4917, F1 Score: 0.4265, Dice Score: 0.4265, Accuracy: 0.7364\n",
      "Epoch 8, Validation Loss Source: 0.2890, Validation Loss Target: 1.1208\n",
      "Epoch 9, Batch 5/34, Total Loss: 0.4335, Segmentation Loss: 0.1156, Domain Loss Source: 0.1138, Domain Loss Target: 0.3003, Adversarial Loss Target: 0.0008\n",
      "Epoch 9, Batch 10/34, Total Loss: 0.5297, Segmentation Loss: 0.1164, Domain Loss Source: 0.3840, Domain Loss Target: 0.0830, Adversarial Loss Target: 0.0020\n",
      "Epoch 9, Batch 15/34, Total Loss: 0.4758, Segmentation Loss: 0.1165, Domain Loss Source: 0.1555, Domain Loss Target: 0.1915, Adversarial Loss Target: 0.0012\n",
      "Epoch 9, Batch 20/34, Total Loss: 0.4090, Segmentation Loss: 0.1115, Domain Loss Source: 0.1777, Domain Loss Target: 0.1231, Adversarial Loss Target: 0.0016\n",
      "Epoch 9, Batch 25/34, Total Loss: 0.4520, Segmentation Loss: 0.0911, Domain Loss Source: 0.1595, Domain Loss Target: 0.0822, Adversarial Loss Target: 0.0020\n",
      "Epoch 9, Batch 30/34, Total Loss: 0.4829, Segmentation Loss: 0.1097, Domain Loss Source: 0.3552, Domain Loss Target: 0.0555, Adversarial Loss Target: 0.0025\n",
      "Epoch 9, Train Loss: 1.3672\n",
      "Evaluating model performance on source data\n",
      "Precision: 0.8590, Recall: 0.7145, F1 Score: 0.7785, Dice Score: 0.7785, Accuracy: 0.9297\n",
      "Evaluating model performance on target data\n",
      "Precision: 0.3575, Recall: 0.5095, F1 Score: 0.4166, Dice Score: 0.4166, Accuracy: 0.7158\n",
      "Precision: 0.3759, Recall: 0.5046, F1 Score: 0.4264, Dice Score: 0.4264, Accuracy: 0.7281\n",
      "Epoch 9, Validation Loss Source: 0.2881, Validation Loss Target: 1.1640\n",
      "Epoch 10, Batch 5/34, Total Loss: 0.4373, Segmentation Loss: 0.1129, Domain Loss Source: 0.2038, Domain Loss Target: 0.1141, Adversarial Loss Target: 0.0017\n",
      "Epoch 10, Batch 10/34, Total Loss: 0.4980, Segmentation Loss: 0.1131, Domain Loss Source: 0.0604, Domain Loss Target: 0.4895, Adversarial Loss Target: 0.0005\n",
      "Epoch 10, Batch 15/34, Total Loss: 0.4992, Segmentation Loss: 0.1133, Domain Loss Source: 0.1034, Domain Loss Target: 0.1987, Adversarial Loss Target: 0.0012\n",
      "Epoch 10, Batch 20/34, Total Loss: 0.5189, Segmentation Loss: 0.1071, Domain Loss Source: 0.2700, Domain Loss Target: 0.1175, Adversarial Loss Target: 0.0017\n",
      "Epoch 10, Batch 25/34, Total Loss: 0.6000, Segmentation Loss: 0.0886, Domain Loss Source: 0.3723, Domain Loss Target: 0.0525, Adversarial Loss Target: 0.0026\n",
      "Epoch 10, Batch 30/34, Total Loss: 0.6198, Segmentation Loss: 0.1076, Domain Loss Source: 0.1942, Domain Loss Target: 0.1008, Adversarial Loss Target: 0.0019\n",
      "Epoch 10, Train Loss: 1.5656\n",
      "Evaluating model performance on source data\n",
      "Precision: 0.8594, Recall: 0.7098, F1 Score: 0.7759, Dice Score: 0.7759, Accuracy: 0.9291\n",
      "Evaluating model performance on target data\n",
      "Precision: 0.3665, Recall: 0.5044, F1 Score: 0.4207, Dice Score: 0.4207, Accuracy: 0.7248\n",
      "Precision: 0.3855, Recall: 0.5000, F1 Score: 0.4308, Dice Score: 0.4308, Accuracy: 0.7369\n",
      "Epoch 10, Validation Loss Source: 0.2992, Validation Loss Target: 1.1504\n",
      "Precision: 0.3665, Recall: 0.5044, F1 Score: 0.4207, Dice Score: 0.4207, Accuracy: 0.7248\n",
      "Precision: 0.3855, Recall: 0.5000, F1 Score: 0.4308, Dice Score: 0.4308, Accuracy: 0.7369\n"
     ]
    },
    {
     "data": {
      "application/vnd.jupyter.widget-view+json": {
       "model_id": "f1d05411ccdd41cab066bbb4cac5fe41",
       "version_major": 2,
       "version_minor": 0
      },
      "text/plain": [
       "VBox(children=(Label(value='5.055 MB of 5.055 MB uploaded\\r'), FloatProgress(value=1.0, max=1.0)))"
      ]
     },
     "metadata": {},
     "output_type": "display_data"
    },
    {
     "data": {
      "text/html": [
       "<style>\n",
       "    table.wandb td:nth-child(1) { padding: 0 10px; text-align: left ; width: auto;} td:nth-child(2) {text-align: left ; width: 100%}\n",
       "    .wandb-row { display: flex; flex-direction: row; flex-wrap: wrap; justify-content: flex-start; width: 100% }\n",
       "    .wandb-col { display: flex; flex-direction: column; flex-basis: 100%; flex: 1; padding: 10px; }\n",
       "    </style>\n",
       "<div class=\"wandb-row\"><div class=\"wandb-col\"><h3>Run history:</h3><br/><table class=\"wandb\"><tr><td>dice_score/source</td><td>▁▂▅▆▆▆▇▇█▇</td></tr><tr><td>dice_score/target</td><td>▁▃▁▁▃▅▆▇▇█</td></tr><tr><td>dice_score/target_postprocessed</td><td>▁▂▁▃▅▆▇▇▇█</td></tr><tr><td>epoch</td><td>▁▂▃▃▄▅▆▆▇█</td></tr><tr><td>precision/source</td><td>▇█▇▃▁▁▁▂▁▁</td></tr><tr><td>precision/target</td><td>▇█▅▃▁▂▂▂▁▃</td></tr><tr><td>precision/target_postprocessed</td><td>▅█▂▃▁▆▅▆▃▇</td></tr><tr><td>test/accuracy</td><td>▁</td></tr><tr><td>test/accuracy_postprocessed</td><td>▁</td></tr><tr><td>test/dice_score</td><td>▁</td></tr><tr><td>test/dice_score_postprocessed</td><td>▁</td></tr><tr><td>test/f1_score</td><td>▁</td></tr><tr><td>test/f1_score_postprocessed</td><td>▁</td></tr><tr><td>test/precision</td><td>▁</td></tr><tr><td>test/precision_postprocessed</td><td>▁</td></tr><tr><td>test/recall</td><td>▁</td></tr><tr><td>test/recall_postprocessed</td><td>▁</td></tr><tr><td>train/domain_loss</td><td>█▅▄▃▄▄▂▁▁▃</td></tr><tr><td>train/loss</td><td>█▅▄▃▃▃▂▁▁▂</td></tr><tr><td>val/loss_source</td><td>▁▄▄▅▆▇▇▇▇█</td></tr><tr><td>val/loss_target</td><td>▁▁▃▄▅▆▆▇██</td></tr></table><br/></div><div class=\"wandb-col\"><h3>Run summary:</h3><br/><table class=\"wandb\"><tr><td>dice_score/source</td><td>0.77589</td></tr><tr><td>dice_score/target</td><td>0.42067</td></tr><tr><td>dice_score/target_postprocessed</td><td>0.43077</td></tr><tr><td>epoch</td><td>10</td></tr><tr><td>precision/source</td><td>0.85935</td></tr><tr><td>precision/target</td><td>0.36651</td></tr><tr><td>precision/target_postprocessed</td><td>0.38552</td></tr><tr><td>test/accuracy</td><td>0.72481</td></tr><tr><td>test/accuracy_postprocessed</td><td>0.73689</td></tr><tr><td>test/dice_score</td><td>0.42067</td></tr><tr><td>test/dice_score_postprocessed</td><td>0.43077</td></tr><tr><td>test/f1_score</td><td>0.42067</td></tr><tr><td>test/f1_score_postprocessed</td><td>0.43077</td></tr><tr><td>test/precision</td><td>0.36651</td></tr><tr><td>test/precision_postprocessed</td><td>0.38552</td></tr><tr><td>test/recall</td><td>0.50442</td></tr><tr><td>test/recall_postprocessed</td><td>0.50004</td></tr><tr><td>train/domain_loss</td><td>0.41538</td></tr><tr><td>train/loss</td><td>1.56564</td></tr><tr><td>val/loss_source</td><td>0.29916</td></tr><tr><td>val/loss_target</td><td>1.15041</td></tr></table><br/></div></div>"
      ],
      "text/plain": [
       "<IPython.core.display.HTML object>"
      ]
     },
     "metadata": {},
     "output_type": "display_data"
    },
    {
     "data": {
      "text/html": [
       " View run <strong style=\"color:#cdcd00\">FADA-Window-3Channel-Reducer-transpose</strong> at: <a href='https://wandb.ai/idp2024/domain-adaptation/runs/b0erqg1e' target=\"_blank\">https://wandb.ai/idp2024/domain-adaptation/runs/b0erqg1e</a><br/> View project at: <a href='https://wandb.ai/idp2024/domain-adaptation' target=\"_blank\">https://wandb.ai/idp2024/domain-adaptation</a><br/>Synced 5 W&B file(s), 330 media file(s), 0 artifact file(s) and 0 other file(s)"
      ],
      "text/plain": [
       "<IPython.core.display.HTML object>"
      ]
     },
     "metadata": {},
     "output_type": "display_data"
    },
    {
     "data": {
      "text/html": [
       "Find logs at: <code>./wandb/run-20250122_152658-b0erqg1e/logs</code>"
      ],
      "text/plain": [
       "<IPython.core.display.HTML object>"
      ]
     },
     "metadata": {},
     "output_type": "display_data"
    },
    {
     "data": {
      "image/png": "[encoded data removed]",
      "text/plain": [
       "<Figure size 1000x600 with 1 Axes>"
      ]
     },
     "metadata": {},
     "output_type": "display_data"
    }
   ],
   "source": [
    "import matplotlib.pyplot as plt\n",
    "from FADA.train_FADA_unsupervised import model_pipeline\n",
    "import torch\n",
    "\n",
    "encoder = \"timm-regnetx_320\"\n",
    "architecture = \"Linknet\"\n",
    "device = torch.device(\"cuda:7\" if torch.cuda.is_available() else \"cpu\")\n",
    "\n",
    "config = {\n",
    "    \"model\": \"FADA-Window-3Channel-Reducer-transpose\",\n",
    "    \"encoder\": encoder,\n",
    "    \"architecture\": architecture,\n",
    "    \"in_channels\": 3,\n",
    "    \"optimizer\": \"Adam\",\n",
    "    \"batch_size_source\": 16,\n",
    "    \"batch_size_target\": 8,\n",
    "    \"learning_rate_fea\": 0.001,\n",
    "    \"learning_rate_cls\": 0.001,\n",
    "    \"learning_rate_dis\": 0.0001,\n",
    "    \"ndf\": 512,\n",
    "    \"epochs\": 10,\n",
    "    \"seg_loss\": \"BCE\",\n",
    "    \"pretrained\": \"models/serene-sweep-9.pth\",\n",
    "    \"augmented\": True,\n",
    "    \"dataset_path\": \"./data/FIVES_random_crops_threshold01\",\n",
    "    \"window_reducer\": [[500, 600], [400, 500], [600, 800]],\n",
    "}\n",
    "\n",
    "\n",
    "model, train_losses, domain_losses, val_losses_source, val_losses_target = (\n",
    "    model_pipeline(\n",
    "        config,\n",
    "        project=\"domain-adaptation\",\n",
    "        device=device,\n",
    "        batch_print=5,\n",
    "        evaluate=True,\n",
    "        with_overlays=True,\n",
    "        save_wandb=False,\n",
    "    )\n",
    ")\n",
    "\n",
    "plt.figure(figsize=(10, 6))\n",
    "plt.plot(train_losses, label=\"Combined Training Loss\")\n",
    "plt.plot(domain_losses, label=\"Domain Loss\")\n",
    "plt.plot(val_losses_source, label=\"Validation Loss Source\")\n",
    "plt.plot(val_losses_target, label=\"Validation Loss Target\")\n",
    "plt.xlabel(\"Epochs\")\n",
    "plt.ylabel(\"Loss\")\n",
    "plt.title(\"Training and Validation Loss Curves\")\n",
    "plt.legend()\n",
    "plt.show()"
   ]
  },
  {
   "cell_type": "markdown",
   "metadata": {},
   "source": [
    "### Supervised Domain Adapatation"
   ]
  },
  {
   "cell_type": "markdown",
   "metadata": {},
   "source": [
    "#### GRL"
   ]
  },
  {
   "cell_type": "code",
   "execution_count": null,
   "metadata": {},
   "outputs": [
    {
     "name": "stderr",
     "output_type": "stream",
     "text": [
      "Failed to detect the name of this notebook, you can set it manually with the WANDB_NOTEBOOK_NAME environment variable to enable code saving.\n",
      "\u001b[34m\u001b[1mwandb\u001b[0m: Currently logged in as: \u001b[33mtim-mach\u001b[0m (\u001b[33midp2024\u001b[0m). Use \u001b[1m`wandb login --relogin`\u001b[0m to force relogin\n"
     ]
    },
    {
     "data": {
      "text/html": [
       "wandb version 0.18.6 is available!  To upgrade, please run:\n",
       " $ pip install wandb --upgrade"
      ],
      "text/plain": [
       "<IPython.core.display.HTML object>"
      ]
     },
     "metadata": {},
     "output_type": "display_data"
    },
    {
     "data": {
      "text/html": [
       "Tracking run with wandb version 0.16.6"
      ],
      "text/plain": [
       "<IPython.core.display.HTML object>"
      ]
     },
     "metadata": {},
     "output_type": "display_data"
    },
    {
     "data": {
      "text/html": [
       "Run data is saved locally in <code>/home/home/tim_ivan/idp/wandb/run-20241113_231515-g7k8n98v</code>"
      ],
      "text/plain": [
       "<IPython.core.display.HTML object>"
      ]
     },
     "metadata": {},
     "output_type": "display_data"
    },
    {
     "data": {
      "text/html": [
       "Syncing run <strong><a href='https://wandb.ai/idp2024/supervised-domain-adaptation/runs/g7k8n98v' target=\"_blank\">GRL-Linknet-timm-regnetx_320-window_500-600-pretrained-random_crops-bloodvessel_ratio01-supervised</a></strong> to <a href='https://wandb.ai/idp2024/supervised-domain-adaptation' target=\"_blank\">Weights & Biases</a> (<a href='https://wandb.me/run' target=\"_blank\">docs</a>)<br/>"
      ],
      "text/plain": [
       "<IPython.core.display.HTML object>"
      ]
     },
     "metadata": {},
     "output_type": "display_data"
    },
    {
     "data": {
      "text/html": [
       " View project at <a href='https://wandb.ai/idp2024/supervised-domain-adaptation' target=\"_blank\">https://wandb.ai/idp2024/supervised-domain-adaptation</a>"
      ],
      "text/plain": [
       "<IPython.core.display.HTML object>"
      ]
     },
     "metadata": {},
     "output_type": "display_data"
    },
    {
     "data": {
      "text/html": [
       " View run at <a href='https://wandb.ai/idp2024/supervised-domain-adaptation/runs/g7k8n98v' target=\"_blank\">https://wandb.ai/idp2024/supervised-domain-adaptation/runs/g7k8n98v</a>"
      ],
      "text/plain": [
       "<IPython.core.display.HTML object>"
      ]
     },
     "metadata": {},
     "output_type": "display_data"
    },
    {
     "name": "stdout",
     "output_type": "stream",
     "text": [
      "Loading pretrained model from ./models/Linknet-timm-regnetx_320-512x512-augmented-with-random-crops-single-channel-focal.pth\n"
     ]
    },
    {
     "name": "stderr",
     "output_type": "stream",
     "text": [
      "/home/home/tim_ivan/idp/.venv/lib/python3.8/site-packages/torch/nn/modules/conv.py:456: UserWarning: Plan failed with a cudnnException: CUDNN_BACKEND_EXECUTION_PLAN_DESCRIPTOR: cudnnFinalize Descriptor Failed cudnn_status: CUDNN_STATUS_NOT_SUPPORTED (Triggered internally at ../aten/src/ATen/native/cudnn/Conv_v8.cpp:919.)\n",
      "  return F.conv2d(input, weight, bias, self.stride,\n",
      "/home/home/tim_ivan/idp/.venv/lib/python3.8/site-packages/torch/autograd/graph.py:744: UserWarning: Plan failed with a cudnnException: CUDNN_BACKEND_EXECUTION_PLAN_DESCRIPTOR: cudnnFinalize Descriptor Failed cudnn_status: CUDNN_STATUS_NOT_SUPPORTED (Triggered internally at ../aten/src/ATen/native/cudnn/Conv_v8.cpp:919.)\n",
      "  return Variable._execution_engine.run_backward(  # Calls into the C++ engine to run the backward pass\n"
     ]
    },
    {
     "name": "stdout",
     "output_type": "stream",
     "text": [
      "Epoch 1, Batch 1/34, Total Loss: 2.1479, Segmentation Loss: 0.7283, Domain Loss Source: 0.7582, Domain Loss Target: 0.6614\n",
      "Epoch 1, Batch 2/34, Total Loss: 30.4464, Segmentation Loss: 0.6874, Domain Loss Source: 0.0000, Domain Loss Target: 29.7590\n",
      "Epoch 1, Batch 3/34, Total Loss: 45.6899, Segmentation Loss: 0.6732, Domain Loss Source: 43.6820, Domain Loss Target: 1.3348\n",
      "Epoch 1, Batch 4/34, Total Loss: 60.7336, Segmentation Loss: 0.6997, Domain Loss Source: 58.5175, Domain Loss Target: 1.5164\n",
      "Epoch 1, Batch 5/34, Total Loss: 19.6700, Segmentation Loss: 0.6691, Domain Loss Source: 15.5772, Domain Loss Target: 3.4236\n",
      "Epoch 1, Batch 6/34, Total Loss: 23.4743, Segmentation Loss: 0.7398, Domain Loss Source: 16.1773, Domain Loss Target: 6.5572\n",
      "Epoch 1, Batch 7/34, Total Loss: 39.3069, Segmentation Loss: 0.6454, Domain Loss Source: 0.7192, Domain Loss Target: 37.9422\n"
     ]
    },
    {
     "name": "stderr",
     "output_type": "stream",
     "text": [
      "/home/home/tim_ivan/idp/.venv/lib/python3.8/site-packages/torch/nn/modules/conv.py:456: UserWarning: Plan failed with a cudnnException: CUDNN_BACKEND_EXECUTION_PLAN_DESCRIPTOR: cudnnFinalize Descriptor Failed cudnn_status: CUDNN_STATUS_NOT_SUPPORTED (Triggered internally at ../aten/src/ATen/native/cudnn/Conv_v8.cpp:919.)\n",
      "  return F.conv2d(input, weight, bias, self.stride,\n"
     ]
    },
    {
     "name": "stdout",
     "output_type": "stream",
     "text": [
      "Epoch 1, Batch 8/34, Total Loss: 31.2116, Segmentation Loss: 0.7010, Domain Loss Source: 11.5278, Domain Loss Target: 18.9828\n",
      "Epoch 1, Batch 9/34, Total Loss: 6.9516, Segmentation Loss: 0.6254, Domain Loss Source: 5.3976, Domain Loss Target: 0.9286\n",
      "Epoch 1, Batch 10/34, Total Loss: 3.5846, Segmentation Loss: 0.6483, Domain Loss Source: 0.1458, Domain Loss Target: 2.7905\n",
      "Epoch 1, Batch 11/34, Total Loss: 10.3006, Segmentation Loss: 0.6348, Domain Loss Source: 2.2692, Domain Loss Target: 7.3966\n",
      "Epoch 1, Batch 12/34, Total Loss: 9.2024, Segmentation Loss: 0.6809, Domain Loss Source: 1.9968, Domain Loss Target: 6.5247\n",
      "Epoch 1, Batch 13/34, Total Loss: 4.0135, Segmentation Loss: 0.6346, Domain Loss Source: 3.1238, Domain Loss Target: 0.2550\n",
      "Epoch 1, Batch 14/34, Total Loss: 19.5268, Segmentation Loss: 0.6613, Domain Loss Source: 6.5280, Domain Loss Target: 12.3374\n",
      "Epoch 1, Batch 15/34, Total Loss: 2.5017, Segmentation Loss: 0.6154, Domain Loss Source: 1.8577, Domain Loss Target: 0.0286\n",
      "Epoch 1, Batch 16/34, Total Loss: 6.2783, Segmentation Loss: 0.7047, Domain Loss Source: 5.0740, Domain Loss Target: 0.4996\n",
      "Epoch 1, Batch 17/34, Total Loss: 1.7260, Segmentation Loss: 0.5996, Domain Loss Source: 0.6674, Domain Loss Target: 0.4590\n",
      "Epoch 1, Batch 18/34, Total Loss: 5.5996, Segmentation Loss: 0.5644, Domain Loss Source: 0.0086, Domain Loss Target: 5.0266\n",
      "Epoch 1, Batch 19/34, Total Loss: 10.5274, Segmentation Loss: 0.6068, Domain Loss Source: 6.8193, Domain Loss Target: 3.1014\n",
      "Epoch 1, Batch 20/34, Total Loss: 10.7684, Segmentation Loss: 0.6359, Domain Loss Source: 0.4011, Domain Loss Target: 9.7314\n",
      "Epoch 1, Batch 21/34, Total Loss: 1.3909, Segmentation Loss: 0.5996, Domain Loss Source: 0.7165, Domain Loss Target: 0.0748\n",
      "Epoch 1, Batch 22/34, Total Loss: 11.5365, Segmentation Loss: 0.6705, Domain Loss Source: 8.4255, Domain Loss Target: 2.4406\n",
      "Epoch 1, Batch 23/34, Total Loss: 3.7295, Segmentation Loss: 0.6413, Domain Loss Source: 3.0493, Domain Loss Target: 0.0388\n",
      "Epoch 1, Batch 24/34, Total Loss: 5.4131, Segmentation Loss: 0.6529, Domain Loss Source: 4.6816, Domain Loss Target: 0.0786\n",
      "Epoch 1, Batch 25/34, Total Loss: 2.5026, Segmentation Loss: 0.6071, Domain Loss Source: 1.8850, Domain Loss Target: 0.0105\n",
      "Epoch 1, Batch 26/34, Total Loss: 3.0495, Segmentation Loss: 0.5626, Domain Loss Source: 0.2849, Domain Loss Target: 2.2021\n",
      "Epoch 1, Batch 27/34, Total Loss: 4.2334, Segmentation Loss: 0.6126, Domain Loss Source: 1.0855, Domain Loss Target: 2.5353\n",
      "Epoch 1, Batch 28/34, Total Loss: 5.0916, Segmentation Loss: 0.5697, Domain Loss Source: 0.0062, Domain Loss Target: 4.5157\n",
      "Epoch 1, Batch 29/34, Total Loss: 1.8426, Segmentation Loss: 0.5427, Domain Loss Source: 0.0003, Domain Loss Target: 1.2996\n",
      "Epoch 1, Batch 30/34, Total Loss: 3.1234, Segmentation Loss: 0.5734, Domain Loss Source: 1.2844, Domain Loss Target: 1.2656\n",
      "Epoch 1, Batch 31/34, Total Loss: 2.0092, Segmentation Loss: 0.5704, Domain Loss Source: 0.1472, Domain Loss Target: 1.2916\n",
      "Epoch 1, Batch 32/34, Total Loss: 4.5006, Segmentation Loss: 0.5560, Domain Loss Source: 0.3734, Domain Loss Target: 3.5712\n",
      "Epoch 1, Batch 33/34, Total Loss: 4.0462, Segmentation Loss: 0.5730, Domain Loss Source: 3.4730, Domain Loss Target: 0.0002\n",
      "Epoch 1, Batch 34/34, Total Loss: 4.0458, Segmentation Loss: 0.5671, Domain Loss Source: 3.4323, Domain Loss Target: 0.0463\n",
      "Epoch 1, Train Loss: 11.7699\n",
      "Evaluating model performance on source data\n",
      "Precision: 0.7823, Recall: 0.4425, F1 Score: 0.5616, Dice Score: 0.5616, Accuracy: 0.8803\n",
      "Evaluating model performance on target data\n",
      "Precision: nan, Recall: 0.1608, F1 Score: 0.1985, Dice Score: 0.1985, Accuracy: 0.7622\n",
      "Epoch 1, Validation Loss Source: 0.4782, Validation Loss Target: 0.8067\n",
      "Epoch 2, Batch 1/34, Total Loss: 2.9017, Segmentation Loss: 0.5977, Domain Loss Source: 2.2515, Domain Loss Target: 0.0524\n",
      "Epoch 2, Batch 2/34, Total Loss: 4.8484, Segmentation Loss: 0.5466, Domain Loss Source: 3.2542, Domain Loss Target: 1.0476\n",
      "Epoch 2, Batch 3/34, Total Loss: 0.5970, Segmentation Loss: 0.5481, Domain Loss Source: 0.0028, Domain Loss Target: 0.0461\n",
      "Epoch 2, Batch 4/34, Total Loss: 2.6450, Segmentation Loss: 0.5633, Domain Loss Source: 0.0003, Domain Loss Target: 2.0815\n",
      "Epoch 2, Batch 5/34, Total Loss: 4.1850, Segmentation Loss: 0.5813, Domain Loss Source: 0.0355, Domain Loss Target: 3.5682\n",
      "Epoch 2, Batch 6/34, Total Loss: 3.6665, Segmentation Loss: 0.5624, Domain Loss Source: 0.4885, Domain Loss Target: 2.6156\n",
      "Epoch 2, Batch 7/34, Total Loss: 0.9493, Segmentation Loss: 0.5857, Domain Loss Source: 0.0459, Domain Loss Target: 0.3177\n",
      "Epoch 2, Batch 8/34, Total Loss: 1.8488, Segmentation Loss: 0.5683, Domain Loss Source: 0.7101, Domain Loss Target: 0.5705\n",
      "Epoch 2, Batch 9/34, Total Loss: 1.1248, Segmentation Loss: 0.5281, Domain Loss Source: 0.5456, Domain Loss Target: 0.0512\n",
      "Epoch 2, Batch 10/34, Total Loss: 2.2108, Segmentation Loss: 0.5632, Domain Loss Source: 1.5653, Domain Loss Target: 0.0823\n",
      "Epoch 2, Batch 11/34, Total Loss: 3.0093, Segmentation Loss: 0.5071, Domain Loss Source: 2.5005, Domain Loss Target: 0.0016\n",
      "Epoch 2, Batch 12/34, Total Loss: 1.4516, Segmentation Loss: 0.5773, Domain Loss Source: 0.8741, Domain Loss Target: 0.0001\n",
      "Epoch 2, Batch 13/34, Total Loss: 0.8983, Segmentation Loss: 0.5071, Domain Loss Source: 0.3265, Domain Loss Target: 0.0646\n",
      "Epoch 2, Batch 14/34, Total Loss: 0.8333, Segmentation Loss: 0.5565, Domain Loss Source: 0.0016, Domain Loss Target: 0.2752\n",
      "Epoch 2, Batch 15/34, Total Loss: 0.6979, Segmentation Loss: 0.5208, Domain Loss Source: 0.0072, Domain Loss Target: 0.1699\n",
      "Epoch 2, Batch 16/34, Total Loss: 2.1657, Segmentation Loss: 0.5887, Domain Loss Source: 0.0449, Domain Loss Target: 1.5321\n",
      "Epoch 2, Batch 17/34, Total Loss: 1.7429, Segmentation Loss: 0.4979, Domain Loss Source: 0.0018, Domain Loss Target: 1.2432\n",
      "Epoch 2, Batch 18/34, Total Loss: 1.9530, Segmentation Loss: 0.4572, Domain Loss Source: 0.2773, Domain Loss Target: 1.2186\n",
      "Epoch 2, Batch 19/34, Total Loss: 0.9406, Segmentation Loss: 0.4863, Domain Loss Source: 0.4377, Domain Loss Target: 0.0166\n",
      "Epoch 2, Batch 20/34, Total Loss: 1.6731, Segmentation Loss: 0.4916, Domain Loss Source: 1.1809, Domain Loss Target: 0.0006\n",
      "Epoch 2, Batch 21/34, Total Loss: 1.0084, Segmentation Loss: 0.5002, Domain Loss Source: 0.4919, Domain Loss Target: 0.0163\n",
      "Epoch 2, Batch 22/34, Total Loss: 2.8156, Segmentation Loss: 0.6112, Domain Loss Source: 1.9937, Domain Loss Target: 0.2107\n",
      "Epoch 2, Batch 23/34, Total Loss: 0.6283, Segmentation Loss: 0.5690, Domain Loss Source: 0.0467, Domain Loss Target: 0.0126\n",
      "Epoch 2, Batch 24/34, Total Loss: 1.6291, Segmentation Loss: 0.5829, Domain Loss Source: 0.9306, Domain Loss Target: 0.1156\n",
      "Epoch 2, Batch 25/34, Total Loss: 0.7569, Segmentation Loss: 0.4917, Domain Loss Source: 0.0356, Domain Loss Target: 0.2296\n",
      "Epoch 2, Batch 26/34, Total Loss: 1.4479, Segmentation Loss: 0.4954, Domain Loss Source: 0.0498, Domain Loss Target: 0.9027\n",
      "Epoch 2, Batch 27/34, Total Loss: 1.9658, Segmentation Loss: 0.5060, Domain Loss Source: 1.3640, Domain Loss Target: 0.0958\n",
      "Epoch 2, Batch 28/34, Total Loss: 1.0930, Segmentation Loss: 0.4625, Domain Loss Source: 0.1319, Domain Loss Target: 0.4986\n",
      "Epoch 2, Batch 29/34, Total Loss: 1.4581, Segmentation Loss: 0.4607, Domain Loss Source: 0.0120, Domain Loss Target: 0.9854\n",
      "Epoch 2, Batch 30/34, Total Loss: 1.0058, Segmentation Loss: 0.4967, Domain Loss Source: 0.0293, Domain Loss Target: 0.4798\n",
      "Epoch 2, Batch 31/34, Total Loss: 0.9356, Segmentation Loss: 0.4562, Domain Loss Source: 0.4568, Domain Loss Target: 0.0227\n",
      "Epoch 2, Batch 32/34, Total Loss: 0.7004, Segmentation Loss: 0.4840, Domain Loss Source: 0.1978, Domain Loss Target: 0.0186\n",
      "Epoch 2, Batch 33/34, Total Loss: 1.2428, Segmentation Loss: 0.4708, Domain Loss Source: 0.7382, Domain Loss Target: 0.0338\n",
      "Epoch 2, Batch 34/34, Total Loss: 0.8910, Segmentation Loss: 0.4652, Domain Loss Source: 0.2035, Domain Loss Target: 0.2223\n",
      "Epoch 2, Train Loss: 1.7036\n"
     ]
    }
   ],
   "source": [
    "from torch.utils.data import DataLoader, Subset\n",
    "import torch\n",
    "from supervised_domain_adaptation import model_pipeline\n",
    "\n",
    "trainloader_target_labeled = DataLoader(\n",
    "    Subset(testset, [0]),\n",
    "    batch_size=1,\n",
    "    shuffle=True,\n",
    ")\n",
    "testloader_target = DataLoader(\n",
    "    Subset(testset, [1, 2, 3, 4]), batch_size=1, shuffle=False\n",
    ")\n",
    "\n",
    "encoder = \"timm-regnetx_320\"\n",
    "architecture = \"Linknet\"\n",
    "device = torch.device(\"cuda:4\" if torch.cuda.is_available() else \"cpu\")\n",
    "lambda_param = 0.5\n",
    "learning_rate = 0.001\n",
    "loss = \"Dice\"\n",
    "epochs = 10\n",
    "in_channels = 1\n",
    "hidden_dim = 256\n",
    "\n",
    "config = {\n",
    "    \"model\": \"GRL-{architecture}-{encoder}-window_{window[0]}-{window[1]}-pretrained-random_crops-bloodvessel_ratio01-supervised\".format(\n",
    "        architecture=architecture, encoder=encoder, window=window\n",
    "    ),\n",
    "    \"encoder\": encoder,\n",
    "    \"architecture\": architecture,\n",
    "    \"learning_rate\": learning_rate,\n",
    "    \"optimizer\": \"Adam\",\n",
    "    \"lambda_param\": lambda_param,\n",
    "    \"batch_size_source\": trainloader_source.batch_size,\n",
    "    \"batch_size_target\": trainloader_target.batch_size,\n",
    "    \"hidden_dim\": hidden_dim,\n",
    "    \"epochs\": epochs,\n",
    "    \"loss\": loss,\n",
    "    \"in_channels\": in_channels,\n",
    "    \"pretrained\": './models/Linknet-timm-regnetx_320-512x512-augmented-with-random-crops-single-channel-focal.pth',\n",
    "    \"supervised\": True,\n",
    "}\n",
    "\n",
    "model, train_losses, domain_losses, val_losses_source, val_losses_target = model_pipeline(\n",
    "    trainloader_source,\n",
    "    validationloader_source,\n",
    "    testloader_source,\n",
    "    trainloader_target_labeled,\n",
    "    trainloader_target,\n",
    "    testloader_target,\n",
    "    config,\n",
    "    project=\"supervised-domain-adaptation\",\n",
    "    device=device,\n",
    "    batch_print=1,\n",
    "    evaluate=True,\n",
    "    with_overlays=True,\n",
    ")"
   ]
  },
  {
   "cell_type": "markdown",
   "metadata": {},
   "source": [
    "#### FADA"
   ]
  },
  {
   "cell_type": "code",
   "execution_count": null,
   "metadata": {},
   "outputs": [
    {
     "name": "stderr",
     "output_type": "stream",
     "text": [
      "Failed to detect the name of this notebook, you can set it manually with the WANDB_NOTEBOOK_NAME environment variable to enable code saving.\n",
      "\u001b[34m\u001b[1mwandb\u001b[0m: Currently logged in as: \u001b[33mtim-mach\u001b[0m (\u001b[33midp2024\u001b[0m). Use \u001b[1m`wandb login --relogin`\u001b[0m to force relogin\n"
     ]
    },
    {
     "data": {
      "text/html": [
       "wandb version 0.18.6 is available!  To upgrade, please run:\n",
       " $ pip install wandb --upgrade"
      ],
      "text/plain": [
       "<IPython.core.display.HTML object>"
      ]
     },
     "metadata": {},
     "output_type": "display_data"
    },
    {
     "data": {
      "text/html": [
       "Tracking run with wandb version 0.16.6"
      ],
      "text/plain": [
       "<IPython.core.display.HTML object>"
      ]
     },
     "metadata": {},
     "output_type": "display_data"
    },
    {
     "data": {
      "text/html": [
       "Run data is saved locally in <code>/home/home/tim_ivan/idp/wandb/run-20241113_215941-qd45bcaj</code>"
      ],
      "text/plain": [
       "<IPython.core.display.HTML object>"
      ]
     },
     "metadata": {},
     "output_type": "display_data"
    },
    {
     "data": {
      "text/html": [
       "Syncing run <strong><a href='https://wandb.ai/idp2024/supervised-domain-adaptation/runs/qd45bcaj' target=\"_blank\">FADA-Linknet-timm-regnetx_320-window_500-600_pretrained-augmented_target-random_crops_bloodvessel_ratio01</a></strong> to <a href='https://wandb.ai/idp2024/supervised-domain-adaptation' target=\"_blank\">Weights & Biases</a> (<a href='https://wandb.me/run' target=\"_blank\">docs</a>)<br/>"
      ],
      "text/plain": [
       "<IPython.core.display.HTML object>"
      ]
     },
     "metadata": {},
     "output_type": "display_data"
    },
    {
     "data": {
      "text/html": [
       " View project at <a href='https://wandb.ai/idp2024/supervised-domain-adaptation' target=\"_blank\">https://wandb.ai/idp2024/supervised-domain-adaptation</a>"
      ],
      "text/plain": [
       "<IPython.core.display.HTML object>"
      ]
     },
     "metadata": {},
     "output_type": "display_data"
    },
    {
     "data": {
      "text/html": [
       " View run at <a href='https://wandb.ai/idp2024/supervised-domain-adaptation/runs/qd45bcaj' target=\"_blank\">https://wandb.ai/idp2024/supervised-domain-adaptation/runs/qd45bcaj</a>"
      ],
      "text/plain": [
       "<IPython.core.display.HTML object>"
      ]
     },
     "metadata": {},
     "output_type": "display_data"
    },
    {
     "name": "stdout",
     "output_type": "stream",
     "text": [
      "Loading pretrained model from ./models/Linknet-timm-regnetx_320-512x512-augmented-with-random-crops-single-channel-focal.pth\n"
     ]
    },
    {
     "name": "stderr",
     "output_type": "stream",
     "text": [
      "/home/home/tim_ivan/idp/.venv/lib/python3.8/site-packages/torch/nn/modules/conv.py:456: UserWarning: Plan failed with a cudnnException: CUDNN_BACKEND_EXECUTION_PLAN_DESCRIPTOR: cudnnFinalize Descriptor Failed cudnn_status: CUDNN_STATUS_NOT_SUPPORTED (Triggered internally at ../aten/src/ATen/native/cudnn/Conv_v8.cpp:919.)\n",
      "  return F.conv2d(input, weight, bias, self.stride,\n",
      "/home/home/tim_ivan/idp/.venv/lib/python3.8/site-packages/torch/autograd/graph.py:744: UserWarning: Plan failed with a cudnnException: CUDNN_BACKEND_EXECUTION_PLAN_DESCRIPTOR: cudnnFinalize Descriptor Failed cudnn_status: CUDNN_STATUS_NOT_SUPPORTED (Triggered internally at ../aten/src/ATen/native/cudnn/Conv_v8.cpp:919.)\n",
      "  return Variable._execution_engine.run_backward(  # Calls into the C++ engine to run the backward pass\n"
     ]
    },
    {
     "name": "stdout",
     "output_type": "stream",
     "text": [
      "Epoch 1, Batch 10/34, Total Loss: 1.0578, Segmentation Loss: 0.4373, Domain Loss Source: 0.3387, Domain Loss Target: 0.2318, Adversarial Loss Target: 0.0009\n",
      "Epoch 1, Batch 20/34, Total Loss: 0.9842, Segmentation Loss: 0.3694, Domain Loss Source: 0.3450, Domain Loss Target: 0.2909, Adversarial Loss Target: 0.0012\n",
      "Epoch 1, Batch 30/34, Total Loss: 0.8321, Segmentation Loss: 0.3126, Domain Loss Source: 0.2059, Domain Loss Target: 0.2563, Adversarial Loss Target: 0.0010\n",
      "Epoch 1, Train Loss: 4.9357\n"
     ]
    },
    {
     "name": "stderr",
     "output_type": "stream",
     "text": [
      "/home/home/tim_ivan/idp/.venv/lib/python3.8/site-packages/torch/nn/modules/conv.py:456: UserWarning: Plan failed with a cudnnException: CUDNN_BACKEND_EXECUTION_PLAN_DESCRIPTOR: cudnnFinalize Descriptor Failed cudnn_status: CUDNN_STATUS_NOT_SUPPORTED (Triggered internally at ../aten/src/ATen/native/cudnn/Conv_v8.cpp:919.)\n",
      "  return F.conv2d(input, weight, bias, self.stride,\n"
     ]
    },
    {
     "name": "stdout",
     "output_type": "stream",
     "text": [
      "Evaluating model performance on source data\n",
      "Precision: 0.9679, Recall: 0.2987, F1 Score: 0.4549, Dice Score: 0.4549, Accuracy: 0.8754\n",
      "Evaluating model performance on target data\n",
      "Precision: nan, Recall: 0.1847, F1 Score: 0.2401, Dice Score: 0.2401, Accuracy: 0.7989\n",
      "Epoch 1, Validation Loss Source: 0.2642, Validation Loss Target: 0.6929\n",
      "Epoch 2, Batch 10/34, Total Loss: 0.7133, Segmentation Loss: 0.2836, Domain Loss Source: 0.2742, Domain Loss Target: 0.1458, Adversarial Loss Target: 0.0018\n",
      "Epoch 2, Batch 20/34, Total Loss: 0.7254, Segmentation Loss: 0.2543, Domain Loss Source: 0.2818, Domain Loss Target: 0.1544, Adversarial Loss Target: 0.0020\n",
      "Epoch 2, Batch 30/34, Total Loss: 0.6715, Segmentation Loss: 0.2273, Domain Loss Source: 0.3369, Domain Loss Target: 0.1476, Adversarial Loss Target: 0.0018\n",
      "Epoch 2, Train Loss: 3.5858\n",
      "Evaluating model performance on source data\n",
      "Precision: 0.9597, Recall: 0.4010, F1 Score: 0.5633, Dice Score: 0.5633, Accuracy: 0.8920\n",
      "Evaluating model performance on target data\n",
      "Precision: 0.4168, Recall: 0.2992, F1 Score: 0.3436, Dice Score: 0.3436, Accuracy: 0.8037\n",
      "Epoch 2, Validation Loss Source: 0.2848, Validation Loss Target: 0.5648\n",
      "Epoch 3, Batch 10/34, Total Loss: 0.6636, Segmentation Loss: 0.2251, Domain Loss Source: 0.4584, Domain Loss Target: 0.0825, Adversarial Loss Target: 0.0027\n",
      "Epoch 3, Batch 20/34, Total Loss: 0.7144, Segmentation Loss: 0.2106, Domain Loss Source: 0.2956, Domain Loss Target: 0.1851, Adversarial Loss Target: 0.0014\n",
      "Epoch 3, Batch 30/34, Total Loss: 0.6797, Segmentation Loss: 0.1863, Domain Loss Source: 0.2117, Domain Loss Target: 0.2501, Adversarial Loss Target: 0.0012\n",
      "Epoch 3, Train Loss: 3.5167\n",
      "Evaluating model performance on source data\n",
      "Precision: 0.9353, Recall: 0.4632, F1 Score: 0.6165, Dice Score: 0.6165, Accuracy: 0.9003\n",
      "Evaluating model performance on target data\n",
      "Precision: 0.5283, Recall: 0.6093, F1 Score: 0.5611, Dice Score: 0.5611, Accuracy: 0.8273\n",
      "Epoch 3, Validation Loss Source: 0.2840, Validation Loss Target: 0.4886\n",
      "Epoch 4, Batch 10/34, Total Loss: 0.6459, Segmentation Loss: 0.1984, Domain Loss Source: 0.4003, Domain Loss Target: 0.1105, Adversarial Loss Target: 0.0021\n",
      "Epoch 4, Batch 20/34, Total Loss: 0.6293, Segmentation Loss: 0.1863, Domain Loss Source: 0.2560, Domain Loss Target: 0.1736, Adversarial Loss Target: 0.0015\n",
      "Epoch 4, Batch 30/34, Total Loss: 0.6457, Segmentation Loss: 0.1615, Domain Loss Source: 0.1470, Domain Loss Target: 0.3052, Adversarial Loss Target: 0.0007\n",
      "Epoch 4, Train Loss: 3.2743\n",
      "Evaluating model performance on source data\n",
      "Precision: 0.9285, Recall: 0.4940, F1 Score: 0.6417, Dice Score: 0.6417, Accuracy: 0.9046\n",
      "Evaluating model performance on target data\n",
      "Precision: 0.5303, Recall: 0.6397, F1 Score: 0.5764, Dice Score: 0.5764, Accuracy: 0.8227\n",
      "Epoch 4, Validation Loss Source: 0.2813, Validation Loss Target: 0.5494\n",
      "Epoch 5, Batch 10/34, Total Loss: 0.6443, Segmentation Loss: 0.1813, Domain Loss Source: 0.4674, Domain Loss Target: 0.0726, Adversarial Loss Target: 0.0023\n",
      "Epoch 5, Batch 20/34, Total Loss: 0.6633, Segmentation Loss: 0.1701, Domain Loss Source: 0.2598, Domain Loss Target: 0.2123, Adversarial Loss Target: 0.0011\n",
      "Epoch 5, Batch 30/34, Total Loss: 0.6203, Segmentation Loss: 0.1447, Domain Loss Source: 0.2218, Domain Loss Target: 0.1649, Adversarial Loss Target: 0.0015\n",
      "Epoch 5, Train Loss: 3.2961\n",
      "Evaluating model performance on source data\n",
      "Precision: 0.9116, Recall: 0.5073, F1 Score: 0.6480, Dice Score: 0.6480, Accuracy: 0.9048\n",
      "Evaluating model performance on target data\n",
      "Precision: 0.5202, Recall: 0.7135, F1 Score: 0.5937, Dice Score: 0.5937, Accuracy: 0.8105\n",
      "Epoch 5, Validation Loss Source: 0.2856, Validation Loss Target: 0.6232\n",
      "Epoch 6, Batch 10/34, Total Loss: 0.5921, Segmentation Loss: 0.1666, Domain Loss Source: 0.1738, Domain Loss Target: 0.2082, Adversarial Loss Target: 0.0011\n",
      "Epoch 6, Batch 20/34, Total Loss: 0.5750, Segmentation Loss: 0.1585, Domain Loss Source: 0.1904, Domain Loss Target: 0.2018, Adversarial Loss Target: 0.0021\n",
      "Epoch 6, Batch 30/34, Total Loss: 0.5659, Segmentation Loss: 0.1321, Domain Loss Source: 0.2841, Domain Loss Target: 0.1192, Adversarial Loss Target: 0.0017\n",
      "Epoch 6, Train Loss: 3.0074\n",
      "Evaluating model performance on source data\n",
      "Precision: 0.9043, Recall: 0.5117, F1 Score: 0.6495, Dice Score: 0.6495, Accuracy: 0.9046\n",
      "Evaluating model performance on target data\n",
      "Precision: 0.5185, Recall: 0.7163, F1 Score: 0.5894, Dice Score: 0.5894, Accuracy: 0.8060\n",
      "Epoch 6, Validation Loss Source: 0.2891, Validation Loss Target: 0.6797\n",
      "Epoch 7, Batch 10/34, Total Loss: 0.5899, Segmentation Loss: 0.1550, Domain Loss Source: 0.3937, Domain Loss Target: 0.0481, Adversarial Loss Target: 0.0030\n",
      "Epoch 7, Batch 20/34, Total Loss: 0.5841, Segmentation Loss: 0.1495, Domain Loss Source: 0.1619, Domain Loss Target: 0.3052, Adversarial Loss Target: 0.0009\n",
      "Epoch 7, Batch 30/34, Total Loss: 0.5380, Segmentation Loss: 0.1232, Domain Loss Source: 0.2105, Domain Loss Target: 0.1323, Adversarial Loss Target: 0.0015\n",
      "Epoch 7, Train Loss: 2.9213\n",
      "Evaluating model performance on source data\n",
      "Precision: 0.8992, Recall: 0.5114, F1 Score: 0.6480, Dice Score: 0.6480, Accuracy: 0.9040\n",
      "Evaluating model performance on target data\n",
      "Precision: 0.5263, Recall: 0.7074, F1 Score: 0.5926, Dice Score: 0.5926, Accuracy: 0.8112\n",
      "Epoch 7, Validation Loss Source: 0.2919, Validation Loss Target: 0.6996\n",
      "Epoch 8, Batch 10/34, Total Loss: 0.5777, Segmentation Loss: 0.1456, Domain Loss Source: 0.0848, Domain Loss Target: 0.3307, Adversarial Loss Target: 0.0009\n",
      "Epoch 8, Batch 20/34, Total Loss: 0.5789, Segmentation Loss: 0.1421, Domain Loss Source: 0.1292, Domain Loss Target: 0.3300, Adversarial Loss Target: 0.0008\n",
      "Epoch 8, Batch 30/34, Total Loss: 0.5645, Segmentation Loss: 0.1154, Domain Loss Source: 0.1321, Domain Loss Target: 0.3084, Adversarial Loss Target: 0.0007\n",
      "Epoch 8, Train Loss: 2.9250\n",
      "Evaluating model performance on source data\n",
      "Precision: 0.8936, Recall: 0.5267, F1 Score: 0.6590, Dice Score: 0.6590, Accuracy: 0.9058\n",
      "Evaluating model performance on target data\n",
      "Precision: 0.5186, Recall: 0.7212, F1 Score: 0.5923, Dice Score: 0.5923, Accuracy: 0.8069\n",
      "Epoch 8, Validation Loss Source: 0.2874, Validation Loss Target: 0.7534\n",
      "Epoch 9, Batch 10/34, Total Loss: 0.5261, Segmentation Loss: 0.1383, Domain Loss Source: 0.2960, Domain Loss Target: 0.1081, Adversarial Loss Target: 0.0019\n",
      "Epoch 9, Batch 20/34, Total Loss: 0.5470, Segmentation Loss: 0.1352, Domain Loss Source: 0.3232, Domain Loss Target: 0.1489, Adversarial Loss Target: 0.0014\n",
      "Epoch 9, Batch 30/34, Total Loss: 0.5350, Segmentation Loss: 0.1087, Domain Loss Source: 0.2148, Domain Loss Target: 0.1058, Adversarial Loss Target: 0.0020\n",
      "Epoch 9, Train Loss: 2.7853\n",
      "Evaluating model performance on source data\n",
      "Precision: 0.8990, Recall: 0.5147, F1 Score: 0.6508, Dice Score: 0.6508, Accuracy: 0.9046\n",
      "Evaluating model performance on target data\n",
      "Precision: 0.5213, Recall: 0.7221, F1 Score: 0.5944, Dice Score: 0.5944, Accuracy: 0.8086\n",
      "Epoch 9, Validation Loss Source: 0.3082, Validation Loss Target: 0.7848\n",
      "Epoch 10, Batch 10/34, Total Loss: 0.5035, Segmentation Loss: 0.1316, Domain Loss Source: 0.1043, Domain Loss Target: 0.3395, Adversarial Loss Target: 0.0008\n",
      "Epoch 10, Batch 20/34, Total Loss: 0.5019, Segmentation Loss: 0.1286, Domain Loss Source: 0.1589, Domain Loss Target: 0.1747, Adversarial Loss Target: 0.0017\n",
      "Epoch 10, Batch 30/34, Total Loss: 0.4754, Segmentation Loss: 0.1025, Domain Loss Source: 0.1172, Domain Loss Target: 0.1213, Adversarial Loss Target: 0.0017\n",
      "Epoch 10, Train Loss: 2.5654\n",
      "Evaluating model performance on source data\n",
      "Precision: 0.9045, Recall: 0.4944, F1 Score: 0.6354, Dice Score: 0.6354, Accuracy: 0.9020\n",
      "Evaluating model performance on target data\n",
      "Precision: 0.5325, Recall: 0.7076, F1 Score: 0.6006, Dice Score: 0.6006, Accuracy: 0.8177\n",
      "Epoch 10, Validation Loss Source: 0.3358, Validation Loss Target: 0.7824\n",
      "Precision: 0.5325, Recall: 0.7076, F1 Score: 0.6006, Dice Score: 0.6006, Accuracy: 0.8177\n"
     ]
    },
    {
     "data": {
      "application/vnd.jupyter.widget-view+json": {
       "model_id": "c61410b8ffce45de8c1d2df2a4a1376f",
       "version_major": 2,
       "version_minor": 0
      },
      "text/plain": [
       "VBox(children=(Label(value='3140.881 MB of 3140.881 MB uploaded\\r'), FloatProgress(value=1.0, max=1.0)))"
      ]
     },
     "metadata": {},
     "output_type": "display_data"
    },
    {
     "data": {
      "text/html": [
       "<style>\n",
       "    table.wandb td:nth-child(1) { padding: 0 10px; text-align: left ; width: auto;} td:nth-child(2) {text-align: left ; width: 100%}\n",
       "    .wandb-row { display: flex; flex-direction: row; flex-wrap: wrap; justify-content: flex-start; width: 100% }\n",
       "    .wandb-col { display: flex; flex-direction: column; flex-basis: 100%; flex: 1; padding: 10px; }\n",
       "    </style>\n",
       "<div class=\"wandb-row\"><div class=\"wandb-col\"><h3>Run history:</h3><br/><table class=\"wandb\"><tr><td>dice_score/source</td><td>▁▅▇▇█████▇</td></tr><tr><td>dice_score/target</td><td>▁▃▇███████</td></tr><tr><td>epoch</td><td>▁▂▃▃▄▅▆▆▇█</td></tr><tr><td>precision/source</td><td>█▇▅▄▃▂▂▁▂▂</td></tr><tr><td>precision/target</td><td> ▁██▇▇█▇▇█</td></tr><tr><td>test/accuracy</td><td>▁</td></tr><tr><td>test/dice_score</td><td>▁</td></tr><tr><td>test/f1_score</td><td>▁</td></tr><tr><td>test/precision</td><td>▁</td></tr><tr><td>test/recall</td><td>▁</td></tr><tr><td>train/domain_loss</td><td>█▃▅▄▅▃▃▄▃▁</td></tr><tr><td>train/loss</td><td>█▄▄▃▃▂▂▂▂▁</td></tr><tr><td>val/loss_source</td><td>▁▃▃▃▃▃▄▃▅█</td></tr><tr><td>val/loss_target</td><td>▆▃▁▂▄▆▆▇██</td></tr></table><br/></div><div class=\"wandb-col\"><h3>Run summary:</h3><br/><table class=\"wandb\"><tr><td>dice_score/source</td><td>0.63538</td></tr><tr><td>dice_score/target</td><td>0.60058</td></tr><tr><td>epoch</td><td>10</td></tr><tr><td>precision/source</td><td>0.90452</td></tr><tr><td>precision/target</td><td>0.53252</td></tr><tr><td>test/accuracy</td><td>0.81768</td></tr><tr><td>test/dice_score</td><td>0.60058</td></tr><tr><td>test/f1_score</td><td>0.60058</td></tr><tr><td>test/precision</td><td>0.53252</td></tr><tr><td>test/recall</td><td>0.7076</td></tr><tr><td>train/domain_loss</td><td>0.36723</td></tr><tr><td>train/loss</td><td>2.56542</td></tr><tr><td>val/loss_source</td><td>0.33583</td></tr><tr><td>val/loss_target</td><td>0.78236</td></tr></table><br/></div></div>"
      ],
      "text/plain": [
       "<IPython.core.display.HTML object>"
      ]
     },
     "metadata": {},
     "output_type": "display_data"
    },
    {
     "data": {
      "text/html": [
       " View run <strong style=\"color:#cdcd00\">FADA-Linknet-timm-regnetx_320-window_500-600_pretrained-augmented_target-random_crops_bloodvessel_ratio01</strong> at: <a href='https://wandb.ai/idp2024/supervised-domain-adaptation/runs/qd45bcaj' target=\"_blank\">https://wandb.ai/idp2024/supervised-domain-adaptation/runs/qd45bcaj</a><br/> View project at: <a href='https://wandb.ai/idp2024/supervised-domain-adaptation' target=\"_blank\">https://wandb.ai/idp2024/supervised-domain-adaptation</a><br/>Synced 5 W&B file(s), 150 media file(s), 7 artifact file(s) and 0 other file(s)"
      ],
      "text/plain": [
       "<IPython.core.display.HTML object>"
      ]
     },
     "metadata": {},
     "output_type": "display_data"
    },
    {
     "data": {
      "text/html": [
       "Find logs at: <code>./wandb/run-20241113_215941-qd45bcaj/logs</code>"
      ],
      "text/plain": [
       "<IPython.core.display.HTML object>"
      ]
     },
     "metadata": {},
     "output_type": "display_data"
    },
    {
     "data": {
      "image/png": "[encoded data removed]",
      "text/plain": [
       "<Figure size 1000x600 with 1 Axes>"
      ]
     },
     "metadata": {},
     "output_type": "display_data"
    }
   ],
   "source": [
    "import matplotlib.pyplot as plt\n",
    "import torch\n",
    "from torch.utils.data import DataLoader, Subset\n",
    "from FADA.train_FADA_supervised import model_pipeline\n",
    "\n",
    "train_indices = [0]\n",
    "trainloader_target_labeled = DataLoader(\n",
    "    Subset(testset, train_indices),\n",
    "    batch_size=1,\n",
    "    shuffle=True,\n",
    ")\n",
    "testloader_target = DataLoader(\n",
    "    Subset(testset, list({0, 1, 2, 3, 4} - set(train_indices))),\n",
    "    batch_size=1,\n",
    "    shuffle=False,\n",
    ")\n",
    "\n",
    "encoder = \"timm-regnetx_320\"\n",
    "architecture = \"Linknet\"\n",
    "device = torch.device(\"cuda:4\" if torch.cuda.is_available() else \"cpu\")\n",
    "epochs = 10\n",
    "loss = \"BCE\"\n",
    "in_channels = 1\n",
    "ndf = 512\n",
    "learning_rate_fea = 0.001\n",
    "learning_rate_cls = 0.001\n",
    "learning_rate_dis = 0.0001\n",
    "\n",
    "config = {\n",
    "    \"model\": \"FADA-{architecture}-{encoder}-window_{window[0]}-{window[1]}_pretrained-augmented_target-random_crops_bloodvessel_ratio01\".format(\n",
    "        architecture=architecture, encoder=encoder, window=window\n",
    "    ),\n",
    "    \"encoder\": encoder,\n",
    "    \"architecture\": architecture,\n",
    "    \"in_channels\": in_channels,\n",
    "    \"optimizer\": \"Adam\",\n",
    "    \"batch_size_source\": trainloader_source.batch_size,\n",
    "    \"batch_size_target\": trainloader_target.batch_size,\n",
    "    \"learning_rate_fea\": learning_rate_fea,\n",
    "    \"learning_rate_cls\": learning_rate_cls,\n",
    "    \"learning_rate_dis\": learning_rate_dis,\n",
    "    \"ndf\": ndf,\n",
    "    \"epochs\": epochs,\n",
    "    \"seg_loss\": loss,\n",
    "    \"pretrained\": \"./models/Linknet-timm-regnetx_320-512x512-augmented-with-random-crops-single-channel-focal.pth\",\n",
    "    \"target_augmented\": target_augmented,\n",
    "    \"train_indices\": train_indices,\n",
    "}\n",
    "\n",
    "\n",
    "model, train_losses, domain_losses, val_losses_source, val_losses_target = (\n",
    "    model_pipeline(\n",
    "        trainloader_source,\n",
    "        validationloader_source,\n",
    "        testloader_source,\n",
    "        trainloader_target_labeled,\n",
    "        trainloader_target,\n",
    "        testloader_target,\n",
    "        config,\n",
    "        project=\"supervised-domain-adaptation\",\n",
    "        device=device,\n",
    "        batch_print=10,\n",
    "        evaluate=True,\n",
    "        with_overlays=True,\n",
    "    )\n",
    ")\n",
    "\n",
    "plt.figure(figsize=(10, 6))\n",
    "plt.plot(train_losses, label=\"Combined Training Loss\")\n",
    "plt.plot(domain_losses, label=\"Domain Loss\")\n",
    "plt.plot(val_losses_source, label=\"Validation Loss Source\")\n",
    "plt.plot(val_losses_target, label=\"Validation Loss Target\")\n",
    "plt.xlabel(\"Epochs\")\n",
    "plt.ylabel(\"Loss\")\n",
    "plt.title(\"Training and Validation Loss Curves\")\n",
    "plt.legend()\n",
    "plt.show()"
   ]
  },
  {
   "cell_type": "markdown",
   "metadata": {},
   "source": [
    "### Gaussian Autoencoder"
   ]
  },
  {
   "cell_type": "markdown",
   "metadata": {},
   "source": [
    "#### Training"
   ]
  },
  {
   "cell_type": "code",
   "execution_count": 1,
   "metadata": {},
   "outputs": [
    {
     "name": "stderr",
     "output_type": "stream",
     "text": [
      "Failed to detect the name of this notebook, you can set it manually with the WANDB_NOTEBOOK_NAME environment variable to enable code saving.\n",
      "\u001b[34m\u001b[1mwandb\u001b[0m: Currently logged in as: \u001b[33mtim-mach\u001b[0m (\u001b[33midp2024\u001b[0m). Use \u001b[1m`wandb login --relogin`\u001b[0m to force relogin\n"
     ]
    },
    {
     "data": {
      "text/html": [
       "wandb version 0.19.3 is available!  To upgrade, please run:\n",
       " $ pip install wandb --upgrade"
      ],
      "text/plain": [
       "<IPython.core.display.HTML object>"
      ]
     },
     "metadata": {},
     "output_type": "display_data"
    },
    {
     "data": {
      "text/html": [
       "Tracking run with wandb version 0.16.6"
      ],
      "text/plain": [
       "<IPython.core.display.HTML object>"
      ]
     },
     "metadata": {},
     "output_type": "display_data"
    },
    {
     "data": {
      "text/html": [
       "Run data is saved locally in <code>/home/home/tim_ivan/idp/wandb/run-20250115_122822-yet20tct</code>"
      ],
      "text/plain": [
       "<IPython.core.display.HTML object>"
      ]
     },
     "metadata": {},
     "output_type": "display_data"
    },
    {
     "data": {
      "text/html": [
       "Syncing run <strong><a href='https://wandb.ai/idp2024/hsi-autoencoder/runs/yet20tct' target=\"_blank\">gcr-comic-sweep-trained-longer</a></strong> to <a href='https://wandb.ai/idp2024/hsi-autoencoder' target=\"_blank\">Weights & Biases</a> (<a href='https://wandb.me/run' target=\"_blank\">docs</a>)<br/>"
      ],
      "text/plain": [
       "<IPython.core.display.HTML object>"
      ]
     },
     "metadata": {},
     "output_type": "display_data"
    },
    {
     "data": {
      "text/html": [
       " View project at <a href='https://wandb.ai/idp2024/hsi-autoencoder' target=\"_blank\">https://wandb.ai/idp2024/hsi-autoencoder</a>"
      ],
      "text/plain": [
       "<IPython.core.display.HTML object>"
      ]
     },
     "metadata": {},
     "output_type": "display_data"
    },
    {
     "data": {
      "text/html": [
       " View run at <a href='https://wandb.ai/idp2024/hsi-autoencoder/runs/yet20tct' target=\"_blank\">https://wandb.ai/idp2024/hsi-autoencoder/runs/yet20tct</a>"
      ],
      "text/plain": [
       "<IPython.core.display.HTML object>"
      ]
     },
     "metadata": {},
     "output_type": "display_data"
    },
    {
     "name": "stdout",
     "output_type": "stream",
     "text": [
      "Epoch 1, Batch 5, Loss: 0.2909\n",
      "Epoch 1, Batch 10, Loss: 0.2733\n",
      "Epoch 1, Batch 15, Loss: 0.2472\n",
      "Epoch 1, Train Loss: 0.2650\n",
      "Precision: 0.4655, Recall: 0.4525, F1 Score: 0.4482, Dice Score: 0.4482, Accuracy: 0.7844\n",
      "Epoch 1, Validation Loss: 0.5848\n",
      "Epoch 2, Batch 5, Loss: 0.2467\n",
      "Epoch 2, Batch 10, Loss: 0.2359\n",
      "Epoch 2, Batch 15, Loss: 0.2991\n",
      "Epoch 2, Train Loss: 0.2607\n",
      "Precision: 0.4654, Recall: 0.4529, F1 Score: 0.4484, Dice Score: 0.4484, Accuracy: 0.7843\n",
      "Epoch 2, Validation Loss: 0.5796\n",
      "Epoch 3, Batch 5, Loss: 0.2650\n",
      "Epoch 3, Batch 10, Loss: 0.2774\n",
      "Epoch 3, Batch 15, Loss: 0.2412\n",
      "Epoch 3, Train Loss: 0.2622\n",
      "Precision: 0.4653, Recall: 0.4533, F1 Score: 0.4486, Dice Score: 0.4486, Accuracy: 0.7843\n",
      "Epoch 3, Validation Loss: 0.5740\n",
      "Epoch 4, Batch 5, Loss: 0.2247\n",
      "Epoch 4, Batch 10, Loss: 0.2669\n",
      "Epoch 4, Batch 15, Loss: 0.2823\n",
      "Epoch 4, Train Loss: 0.2642\n",
      "Precision: 0.4651, Recall: 0.4537, F1 Score: 0.4487, Dice Score: 0.4487, Accuracy: 0.7842\n",
      "Epoch 4, Validation Loss: 0.5687\n",
      "Epoch 5, Batch 5, Loss: 0.2611\n",
      "Epoch 5, Batch 10, Loss: 0.2618\n",
      "Epoch 5, Batch 15, Loss: 0.2594\n",
      "Epoch 5, Train Loss: 0.2532\n",
      "Precision: 0.4647, Recall: 0.4537, F1 Score: 0.4486, Dice Score: 0.4486, Accuracy: 0.7841\n",
      "Epoch 5, Validation Loss: 0.5631\n",
      "Epoch 6, Batch 5, Loss: 0.2551\n",
      "Epoch 6, Batch 10, Loss: 0.2460\n",
      "Epoch 6, Batch 15, Loss: 0.2792\n",
      "Epoch 6, Train Loss: 0.2542\n",
      "Precision: 0.4644, Recall: 0.4538, F1 Score: 0.4485, Dice Score: 0.4485, Accuracy: 0.7840\n",
      "Epoch 6, Validation Loss: 0.5579\n",
      "Epoch 7, Batch 5, Loss: 0.2596\n",
      "Epoch 7, Batch 10, Loss: 0.2508\n",
      "Epoch 7, Batch 15, Loss: 0.2467\n",
      "Epoch 7, Train Loss: 0.2550\n",
      "Precision: 0.4643, Recall: 0.4539, F1 Score: 0.4485, Dice Score: 0.4485, Accuracy: 0.7840\n",
      "Epoch 7, Validation Loss: 0.5527\n",
      "Epoch 8, Batch 5, Loss: 0.2466\n",
      "Epoch 8, Batch 10, Loss: 0.2848\n",
      "Epoch 8, Batch 15, Loss: 0.2230\n",
      "Epoch 8, Train Loss: 0.2508\n",
      "Precision: 0.4641, Recall: 0.4541, F1 Score: 0.4485, Dice Score: 0.4485, Accuracy: 0.7839\n",
      "Epoch 8, Validation Loss: 0.5475\n",
      "Epoch 9, Batch 5, Loss: 0.2385\n",
      "Epoch 9, Batch 10, Loss: 0.2187\n",
      "Epoch 9, Batch 15, Loss: 0.2962\n",
      "Epoch 9, Train Loss: 0.2464\n",
      "Precision: 0.4640, Recall: 0.4544, F1 Score: 0.4486, Dice Score: 0.4486, Accuracy: 0.7838\n",
      "Epoch 9, Validation Loss: 0.5426\n",
      "Epoch 10, Batch 5, Loss: 0.2100\n",
      "Epoch 10, Batch 10, Loss: 0.2520\n",
      "Epoch 10, Batch 15, Loss: 0.2724\n",
      "Epoch 10, Train Loss: 0.2436\n",
      "Precision: 0.4638, Recall: 0.4545, F1 Score: 0.4486, Dice Score: 0.4486, Accuracy: 0.7838\n",
      "Epoch 10, Validation Loss: 0.5376\n",
      "Epoch 11, Batch 5, Loss: 0.2494\n",
      "Epoch 11, Batch 10, Loss: 0.2227\n",
      "Epoch 11, Batch 15, Loss: 0.2504\n",
      "Epoch 11, Train Loss: 0.2461\n",
      "Precision: 0.4636, Recall: 0.4546, F1 Score: 0.4486, Dice Score: 0.4486, Accuracy: 0.7837\n",
      "Epoch 11, Validation Loss: 0.5325\n",
      "Epoch 12, Batch 5, Loss: 0.2328\n",
      "Epoch 12, Batch 10, Loss: 0.2703\n",
      "Epoch 12, Batch 15, Loss: 0.2372\n",
      "Epoch 12, Train Loss: 0.2396\n",
      "Precision: 0.4635, Recall: 0.4546, F1 Score: 0.4485, Dice Score: 0.4485, Accuracy: 0.7836\n",
      "Epoch 12, Validation Loss: 0.5275\n",
      "Epoch 13, Batch 5, Loss: 0.2421\n",
      "Epoch 13, Batch 10, Loss: 0.2131\n",
      "Epoch 13, Batch 15, Loss: 0.2553\n",
      "Epoch 13, Train Loss: 0.2383\n",
      "Precision: 0.4633, Recall: 0.4548, F1 Score: 0.4485, Dice Score: 0.4485, Accuracy: 0.7835\n",
      "Epoch 13, Validation Loss: 0.5227\n",
      "Epoch 14, Batch 5, Loss: 0.2226\n",
      "Epoch 14, Batch 10, Loss: 0.2623\n",
      "Epoch 14, Batch 15, Loss: 0.2304\n",
      "Epoch 14, Train Loss: 0.2350\n",
      "Precision: 0.4633, Recall: 0.4550, F1 Score: 0.4486, Dice Score: 0.4486, Accuracy: 0.7836\n",
      "Epoch 14, Validation Loss: 0.5179\n",
      "Epoch 15, Batch 5, Loss: 0.2548\n",
      "Epoch 15, Batch 10, Loss: 0.2548\n",
      "Epoch 15, Batch 15, Loss: 0.2125\n",
      "Epoch 15, Train Loss: 0.2371\n",
      "Precision: 0.4633, Recall: 0.4551, F1 Score: 0.4487, Dice Score: 0.4487, Accuracy: 0.7836\n",
      "Epoch 15, Validation Loss: 0.5130\n",
      "Epoch 16, Batch 5, Loss: 0.2231\n",
      "Epoch 16, Batch 10, Loss: 0.2863\n",
      "Epoch 16, Batch 15, Loss: 0.1922\n",
      "Epoch 16, Train Loss: 0.2286\n",
      "Precision: 0.4634, Recall: 0.4553, F1 Score: 0.4488, Dice Score: 0.4488, Accuracy: 0.7836\n",
      "Epoch 16, Validation Loss: 0.5082\n",
      "Epoch 17, Batch 5, Loss: 0.2471\n",
      "Epoch 17, Batch 10, Loss: 0.2156\n",
      "Epoch 17, Batch 15, Loss: 0.2230\n",
      "Epoch 17, Train Loss: 0.2339\n",
      "Precision: 0.4633, Recall: 0.4553, F1 Score: 0.4488, Dice Score: 0.4488, Accuracy: 0.7836\n",
      "Epoch 17, Validation Loss: 0.5037\n",
      "Epoch 18, Batch 5, Loss: 0.1872\n",
      "Epoch 18, Batch 10, Loss: 0.2095\n",
      "Epoch 18, Batch 15, Loss: 0.2693\n",
      "Epoch 18, Train Loss: 0.2261\n",
      "Precision: 0.4633, Recall: 0.4551, F1 Score: 0.4487, Dice Score: 0.4487, Accuracy: 0.7836\n",
      "Epoch 18, Validation Loss: 0.4992\n",
      "Epoch 19, Batch 5, Loss: 0.2473\n",
      "Epoch 19, Batch 10, Loss: 0.2200\n",
      "Epoch 19, Batch 15, Loss: 0.2048\n",
      "Epoch 19, Train Loss: 0.2294\n",
      "Precision: 0.4632, Recall: 0.4551, F1 Score: 0.4487, Dice Score: 0.4487, Accuracy: 0.7835\n",
      "Epoch 19, Validation Loss: 0.4945\n",
      "Epoch 20, Batch 5, Loss: 0.2094\n",
      "Epoch 20, Batch 10, Loss: 0.2083\n",
      "Epoch 20, Batch 15, Loss: 0.2405\n",
      "Epoch 20, Train Loss: 0.2180\n",
      "Precision: 0.4629, Recall: 0.4548, F1 Score: 0.4484, Dice Score: 0.4484, Accuracy: 0.7834\n",
      "Epoch 20, Validation Loss: 0.4900\n",
      "Epoch 21, Batch 5, Loss: 0.2271\n",
      "Epoch 21, Batch 10, Loss: 0.2160\n",
      "Epoch 21, Batch 15, Loss: 0.2136\n",
      "Epoch 21, Train Loss: 0.2206\n",
      "Precision: 0.4629, Recall: 0.4545, F1 Score: 0.4482, Dice Score: 0.4482, Accuracy: 0.7834\n",
      "Epoch 21, Validation Loss: 0.4855\n",
      "Epoch 22, Batch 5, Loss: 0.2575\n",
      "Epoch 22, Batch 10, Loss: 0.2072\n",
      "Epoch 22, Batch 15, Loss: 0.1910\n",
      "Epoch 22, Train Loss: 0.2216\n",
      "Precision: 0.4628, Recall: 0.4539, F1 Score: 0.4479, Dice Score: 0.4479, Accuracy: 0.7834\n",
      "Epoch 22, Validation Loss: 0.4810\n",
      "Epoch 23, Batch 5, Loss: 0.1905\n",
      "Epoch 23, Batch 10, Loss: 0.2378\n",
      "Epoch 23, Batch 15, Loss: 0.2174\n",
      "Epoch 23, Train Loss: 0.2168\n",
      "Precision: 0.4625, Recall: 0.4533, F1 Score: 0.4475, Dice Score: 0.4475, Accuracy: 0.7833\n",
      "Epoch 23, Validation Loss: 0.4767\n",
      "Epoch 24, Batch 5, Loss: 0.2465\n",
      "Epoch 24, Batch 10, Loss: 0.2047\n",
      "Epoch 24, Batch 15, Loss: 0.1919\n",
      "Epoch 24, Train Loss: 0.2075\n",
      "Precision: 0.4625, Recall: 0.4525, F1 Score: 0.4471, Dice Score: 0.4471, Accuracy: 0.7833\n",
      "Epoch 24, Validation Loss: 0.4722\n",
      "Epoch 25, Batch 5, Loss: 0.2189\n",
      "Epoch 25, Batch 10, Loss: 0.2125\n",
      "Epoch 25, Batch 15, Loss: 0.2054\n",
      "Epoch 25, Train Loss: 0.2100\n",
      "Precision: 0.4625, Recall: 0.4517, F1 Score: 0.4467, Dice Score: 0.4467, Accuracy: 0.7833\n",
      "Epoch 25, Validation Loss: 0.4681\n"
     ]
    },
    {
     "data": {
      "application/vnd.jupyter.widget-view+json": {
       "model_id": "ca89fd04b61b44729c17a1952b67ab66",
       "version_major": 2,
       "version_minor": 0
      },
      "text/plain": [
       "VBox(children=(Label(value='2.146 MB of 2.146 MB uploaded\\r'), FloatProgress(value=1.0, max=1.0)))"
      ]
     },
     "metadata": {},
     "output_type": "display_data"
    },
    {
     "data": {
      "text/html": [
       "<style>\n",
       "    table.wandb td:nth-child(1) { padding: 0 10px; text-align: left ; width: auto;} td:nth-child(2) {text-align: left ; width: 100%}\n",
       "    .wandb-row { display: flex; flex-direction: row; flex-wrap: wrap; justify-content: flex-start; width: 100% }\n",
       "    .wandb-col { display: flex; flex-direction: column; flex-basis: 100%; flex: 1; padding: 10px; }\n",
       "    </style>\n",
       "<div class=\"wandb-row\"><div class=\"wandb-col\"><h3>Run history:</h3><br/><table class=\"wandb\"><tr><td>dice_score</td><td>▆▆▇█▇▇▇▇▇▇▇▇▇▇████▇▆▆▅▄▂▁</td></tr><tr><td>epoch</td><td>▁▁▂▂▂▂▃▃▃▄▄▄▅▅▅▅▆▆▆▇▇▇▇██</td></tr><tr><td>precision</td><td>██▇▇▆▆▅▅▅▄▄▃▃▃▃▃▃▃▃▂▂▂▁▁▁</td></tr><tr><td>train/loss</td><td>█▇██▇▇▇▆▆▅▆▅▅▄▅▄▄▃▄▂▃▃▂▁▁</td></tr><tr><td>validation/loss</td><td>██▇▇▇▆▆▆▅▅▅▅▄▄▄▃▃▃▃▂▂▂▂▁▁</td></tr></table><br/></div><div class=\"wandb-col\"><h3>Run summary:</h3><br/><table class=\"wandb\"><tr><td>dice_score</td><td>0.44666</td></tr><tr><td>epoch</td><td>25</td></tr><tr><td>precision</td><td>0.46247</td></tr><tr><td>train/loss</td><td>0.20998</td></tr><tr><td>validation/loss</td><td>0.46807</td></tr></table><br/></div></div>"
      ],
      "text/plain": [
       "<IPython.core.display.HTML object>"
      ]
     },
     "metadata": {},
     "output_type": "display_data"
    },
    {
     "data": {
      "text/html": [
       " View run <strong style=\"color:#cdcd00\">gcr-comic-sweep-trained-longer</strong> at: <a href='https://wandb.ai/idp2024/hsi-autoencoder/runs/yet20tct' target=\"_blank\">https://wandb.ai/idp2024/hsi-autoencoder/runs/yet20tct</a><br/> View project at: <a href='https://wandb.ai/idp2024/hsi-autoencoder' target=\"_blank\">https://wandb.ai/idp2024/hsi-autoencoder</a><br/>Synced 5 W&B file(s), 50 media file(s), 0 artifact file(s) and 0 other file(s)"
      ],
      "text/plain": [
       "<IPython.core.display.HTML object>"
      ]
     },
     "metadata": {},
     "output_type": "display_data"
    },
    {
     "data": {
      "text/html": [
       "Find logs at: <code>./wandb/run-20250115_122822-yet20tct/logs</code>"
      ],
      "text/plain": [
       "<IPython.core.display.HTML object>"
      ]
     },
     "metadata": {},
     "output_type": "display_data"
    },
    {
     "data": {
      "text/plain": [
       "(GaussianAutoEncoder(\n",
       "   (encoder): GaussianChannelReduction()\n",
       "   (decoder): Sequential(\n",
       "     (0): Conv2d(3, 826, kernel_size=(1, 1), stride=(1, 1))\n",
       "   )\n",
       " ),\n",
       " [0.26498704589903355,\n",
       "  0.26065779477357864,\n",
       "  0.26216429099440575,\n",
       "  0.2642474053427577,\n",
       "  0.25316854286938906,\n",
       "  0.2541518956422806,\n",
       "  0.25495866034179926,\n",
       "  0.25081960670650005,\n",
       "  0.24636503402143717,\n",
       "  0.24360113125294447,\n",
       "  0.24611327424645424,\n",
       "  0.23962208162993193,\n",
       "  0.23826881125569344,\n",
       "  0.2349787252023816,\n",
       "  0.2370747309178114,\n",
       "  0.22864695638418198,\n",
       "  0.23393349163234234,\n",
       "  0.22605776879936457,\n",
       "  0.22936534835025668,\n",
       "  0.2180381240323186,\n",
       "  0.22055898141115904,\n",
       "  0.2216031150892377,\n",
       "  0.21681103017181158,\n",
       "  0.20754558499902487,\n",
       "  0.2099823895841837],\n",
       " [0.584813916683197,\n",
       "  0.5795517534017562,\n",
       "  0.5740000367164612,\n",
       "  0.5687262386083602,\n",
       "  0.56311194896698,\n",
       "  0.5579179108142853,\n",
       "  0.5527239143848419,\n",
       "  0.5474654883146286,\n",
       "  0.5425585150718689,\n",
       "  0.5375813484191895,\n",
       "  0.5325294882059097,\n",
       "  0.5274864673614502,\n",
       "  0.5226892530918121,\n",
       "  0.5178719848394394,\n",
       "  0.5129738032817841,\n",
       "  0.5081985890865326,\n",
       "  0.5036927103996277,\n",
       "  0.4992492079734802,\n",
       "  0.49451372027397156,\n",
       "  0.4899649441242218,\n",
       "  0.4855357617139816,\n",
       "  0.48095378577709197,\n",
       "  0.4766536295413971,\n",
       "  0.4721909373998642,\n",
       "  0.4680668652057648])"
      ]
     },
     "execution_count": 1,
     "metadata": {},
     "output_type": "execute_result"
    }
   ],
   "source": [
    "from dataset import build_hsi_dataloader, HSIDataset, build_hsi_testloader\n",
    "from dimensionality_reduction.train_autoencoder import model_pipeline_autoencoder\n",
    "import torch\n",
    "\n",
    "device = torch.device(\"cuda:2\" if torch.cuda.is_available() else \"cpu\")\n",
    "config = {\n",
    "    \"model\": \"gcr-comic-sweep-trained-longer\",\n",
    "    \"optimizer\": \"Adam\",\n",
    "    \"lr_encoder\": 0.003991856255637263,\n",
    "    \"lr_decoder\": 0.0001405199848490131,\n",
    "    \"batch_size\": 4,\n",
    "    \"epochs\": 25,\n",
    "    \"mu\": [335, 267, 131],\n",
    "    \"sigma\": [1, 1, 1],\n",
    "}\n",
    "\n",
    "model_pipeline_autoencoder(\n",
    "    config,\n",
    "    project=\"hsi-autoencoder\",\n",
    "    epochs=25,\n",
    "    device=device,\n",
    "    batch_print=5,\n",
    "    save_wandb=False\n",
    ")"
   ]
  },
  {
   "cell_type": "markdown",
   "metadata": {},
   "source": [
    "#### Gaussian reduction + DA"
   ]
  },
  {
   "cell_type": "code",
   "execution_count": 1,
   "metadata": {},
   "outputs": [
    {
     "name": "stderr",
     "output_type": "stream",
     "text": [
      "Failed to detect the name of this notebook, you can set it manually with the WANDB_NOTEBOOK_NAME environment variable to enable code saving.\n"
     ]
    },
    {
     "name": "stdout",
     "output_type": "stream",
     "text": [
      "Number of samples in the training set: 534, validation set: 60\n",
      "Number of samples in the test set: 200\n"
     ]
    },
    {
     "name": "stderr",
     "output_type": "stream",
     "text": [
      "\u001b[34m\u001b[1mwandb\u001b[0m: Currently logged in as: \u001b[33mtim-mach\u001b[0m (\u001b[33midp2024\u001b[0m). Use \u001b[1m`wandb login --relogin`\u001b[0m to force relogin\n"
     ]
    },
    {
     "data": {
      "text/html": [
       "wandb version 0.19.3 is available!  To upgrade, please run:\n",
       " $ pip install wandb --upgrade"
      ],
      "text/plain": [
       "<IPython.core.display.HTML object>"
      ]
     },
     "metadata": {},
     "output_type": "display_data"
    },
    {
     "data": {
      "text/html": [
       "Tracking run with wandb version 0.16.6"
      ],
      "text/plain": [
       "<IPython.core.display.HTML object>"
      ]
     },
     "metadata": {},
     "output_type": "display_data"
    },
    {
     "data": {
      "text/html": [
       "Run data is saved locally in <code>/home/home/tim_ivan/idp/wandb/run-20250115_115413-9ebzcxi7</code>"
      ],
      "text/plain": [
       "<IPython.core.display.HTML object>"
      ]
     },
     "metadata": {},
     "output_type": "display_data"
    },
    {
     "data": {
      "text/html": [
       "Syncing run <strong><a href='https://wandb.ai/idp2024/domain-adaptation/runs/9ebzcxi7' target=\"_blank\">FADA-Linknet-timm-regnetx_320-gcr_comic-sweep_pretrained-augmented_target-random_crops_bloodvessel_ratio01-unsupervised</a></strong> to <a href='https://wandb.ai/idp2024/domain-adaptation' target=\"_blank\">Weights & Biases</a> (<a href='https://wandb.me/run' target=\"_blank\">docs</a>)<br/>"
      ],
      "text/plain": [
       "<IPython.core.display.HTML object>"
      ]
     },
     "metadata": {},
     "output_type": "display_data"
    },
    {
     "data": {
      "text/html": [
       " View project at <a href='https://wandb.ai/idp2024/domain-adaptation' target=\"_blank\">https://wandb.ai/idp2024/domain-adaptation</a>"
      ],
      "text/plain": [
       "<IPython.core.display.HTML object>"
      ]
     },
     "metadata": {},
     "output_type": "display_data"
    },
    {
     "data": {
      "text/html": [
       " View run at <a href='https://wandb.ai/idp2024/domain-adaptation/runs/9ebzcxi7' target=\"_blank\">https://wandb.ai/idp2024/domain-adaptation/runs/9ebzcxi7</a>"
      ],
      "text/plain": [
       "<IPython.core.display.HTML object>"
      ]
     },
     "metadata": {},
     "output_type": "display_data"
    },
    {
     "name": "stdout",
     "output_type": "stream",
     "text": [
      "Loading pretrained model from ./models/serene-sweep-9.pth\n",
      "Using Gaussian Channel Reduction\n"
     ]
    },
    {
     "name": "stderr",
     "output_type": "stream",
     "text": [
      "/home/home/tim_ivan/idp/.venv/lib/python3.8/site-packages/torch/nn/modules/conv.py:456: UserWarning: Plan failed with a cudnnException: CUDNN_BACKEND_EXECUTION_PLAN_DESCRIPTOR: cudnnFinalize Descriptor Failed cudnn_status: CUDNN_STATUS_NOT_SUPPORTED (Triggered internally at ../aten/src/ATen/native/cudnn/Conv_v8.cpp:919.)\n",
      "  return F.conv2d(input, weight, bias, self.stride,\n",
      "/home/home/tim_ivan/idp/.venv/lib/python3.8/site-packages/torch/autograd/graph.py:744: UserWarning: Plan failed with a cudnnException: CUDNN_BACKEND_EXECUTION_PLAN_DESCRIPTOR: cudnnFinalize Descriptor Failed cudnn_status: CUDNN_STATUS_NOT_SUPPORTED (Triggered internally at ../aten/src/ATen/native/cudnn/Conv_v8.cpp:919.)\n",
      "  return Variable._execution_engine.run_backward(  # Calls into the C++ engine to run the backward pass\n"
     ]
    },
    {
     "name": "stdout",
     "output_type": "stream",
     "text": [
      "Epoch 1, Batch 5/34, Total Loss: 4.9166, Segmentation Loss: 0.2590, Domain Loss Source: 0.0000, Domain Loss Target: 9.0312, Adversarial Loss Target: 0.0000\n",
      "Epoch 1, Batch 10/34, Total Loss: 1.7854, Segmentation Loss: 0.2620, Domain Loss Source: 0.2797, Domain Loss Target: 0.3624, Adversarial Loss Target: 0.0006\n",
      "Epoch 1, Batch 15/34, Total Loss: 1.1583, Segmentation Loss: 0.2092, Domain Loss Source: 0.7618, Domain Loss Target: 0.1001, Adversarial Loss Target: 0.0016\n",
      "Epoch 1, Batch 20/34, Total Loss: 0.9656, Segmentation Loss: 0.2295, Domain Loss Source: 0.1748, Domain Loss Target: 0.5135, Adversarial Loss Target: 0.0004\n",
      "Epoch 1, Batch 25/34, Total Loss: 0.8674, Segmentation Loss: 0.1388, Domain Loss Source: 0.1911, Domain Loss Target: 0.4740, Adversarial Loss Target: 0.0004\n",
      "Epoch 1, Batch 30/34, Total Loss: 0.8252, Segmentation Loss: 0.1460, Domain Loss Source: 0.4454, Domain Loss Target: 0.2020, Adversarial Loss Target: 0.0009\n",
      "Epoch 1, Train Loss: 4.7005\n"
     ]
    },
    {
     "name": "stderr",
     "output_type": "stream",
     "text": [
      "/home/home/tim_ivan/idp/.venv/lib/python3.8/site-packages/torch/nn/modules/conv.py:456: UserWarning: Plan failed with a cudnnException: CUDNN_BACKEND_EXECUTION_PLAN_DESCRIPTOR: cudnnFinalize Descriptor Failed cudnn_status: CUDNN_STATUS_NOT_SUPPORTED (Triggered internally at ../aten/src/ATen/native/cudnn/Conv_v8.cpp:919.)\n",
      "  return F.conv2d(input, weight, bias, self.stride,\n"
     ]
    },
    {
     "name": "stdout",
     "output_type": "stream",
     "text": [
      "Evaluating model performance on source data\n",
      "Precision: 0.9181, Recall: 0.5615, F1 Score: 0.6948, Dice Score: 0.6948, Accuracy: 0.9147\n",
      "Evaluating model performance on target data\n",
      "Precision: 0.5151, Recall: 0.5436, F1 Score: 0.5246, Dice Score: 0.5246, Accuracy: 0.8072\n",
      "Epoch 1, Validation Loss Source: 0.2797, Validation Loss Target: 0.8326\n",
      "Epoch 2, Batch 5/34, Total Loss: 0.7925, Segmentation Loss: 0.2047, Domain Loss Source: 0.2247, Domain Loss Target: 0.3877, Adversarial Loss Target: 0.0005\n",
      "Epoch 2, Batch 10/34, Total Loss: 0.7661, Segmentation Loss: 0.1439, Domain Loss Source: 0.3419, Domain Loss Target: 0.2884, Adversarial Loss Target: 0.0007\n",
      "Epoch 2, Batch 15/34, Total Loss: 0.7512, Segmentation Loss: 0.1254, Domain Loss Source: 0.3471, Domain Loss Target: 0.2665, Adversarial Loss Target: 0.0007\n",
      "Epoch 2, Batch 20/34, Total Loss: 0.7387, Segmentation Loss: 0.1365, Domain Loss Source: 0.3221, Domain Loss Target: 0.2717, Adversarial Loss Target: 0.0007\n",
      "Epoch 2, Batch 25/34, Total Loss: 0.7085, Segmentation Loss: 0.0939, Domain Loss Source: 0.3186, Domain Loss Target: 0.2585, Adversarial Loss Target: 0.0008\n",
      "Epoch 2, Batch 30/34, Total Loss: 0.7002, Segmentation Loss: 0.1168, Domain Loss Source: 0.2381, Domain Loss Target: 0.3108, Adversarial Loss Target: 0.0007\n",
      "Epoch 2, Train Loss: 2.1763\n",
      "Evaluating model performance on source data\n",
      "Precision: 0.8811, Recall: 0.6730, F1 Score: 0.7617, Dice Score: 0.7617, Accuracy: 0.9271\n",
      "Evaluating model performance on target data\n",
      "Precision: 0.4871, Recall: 0.6093, F1 Score: 0.5336, Dice Score: 0.5336, Accuracy: 0.7912\n",
      "Epoch 2, Validation Loss Source: 0.2478, Validation Loss Target: 1.0133\n",
      "Epoch 3, Batch 5/34, Total Loss: 0.7161, Segmentation Loss: 0.1902, Domain Loss Source: 0.2002, Domain Loss Target: 0.4075, Adversarial Loss Target: 0.0005\n",
      "Epoch 3, Batch 10/34, Total Loss: 0.7257, Segmentation Loss: 0.1328, Domain Loss Source: 0.2546, Domain Loss Target: 0.3355, Adversarial Loss Target: 0.0006\n",
      "Epoch 3, Batch 15/34, Total Loss: 0.6963, Segmentation Loss: 0.1133, Domain Loss Source: 0.2591, Domain Loss Target: 0.3079, Adversarial Loss Target: 0.0007\n",
      "Epoch 3, Batch 20/34, Total Loss: 0.6831, Segmentation Loss: 0.1181, Domain Loss Source: 0.1850, Domain Loss Target: 0.3804, Adversarial Loss Target: 0.0006\n",
      "Epoch 3, Batch 25/34, Total Loss: 0.6801, Segmentation Loss: 0.0837, Domain Loss Source: 0.2349, Domain Loss Target: 0.2802, Adversarial Loss Target: 0.0007\n",
      "Epoch 3, Batch 30/34, Total Loss: 0.6708, Segmentation Loss: 0.1048, Domain Loss Source: 0.2718, Domain Loss Target: 0.2372, Adversarial Loss Target: 0.0009\n",
      "Epoch 3, Train Loss: 2.0331\n",
      "Evaluating model performance on source data\n",
      "Precision: 0.8845, Recall: 0.6778, F1 Score: 0.7660, Dice Score: 0.7660, Accuracy: 0.9283\n",
      "Evaluating model performance on target data\n",
      "Precision: 0.4830, Recall: 0.6323, F1 Score: 0.5425, Dice Score: 0.5425, Accuracy: 0.7911\n",
      "Epoch 3, Validation Loss Source: 0.2627, Validation Loss Target: 0.9941\n",
      "Epoch 4, Batch 5/34, Total Loss: 0.6564, Segmentation Loss: 0.1811, Domain Loss Source: 0.2166, Domain Loss Target: 0.3094, Adversarial Loss Target: 0.0008\n",
      "Epoch 4, Batch 10/34, Total Loss: 0.6701, Segmentation Loss: 0.1168, Domain Loss Source: 0.2680, Domain Loss Target: 0.2639, Adversarial Loss Target: 0.0008\n",
      "Epoch 4, Batch 15/34, Total Loss: 0.6695, Segmentation Loss: 0.1051, Domain Loss Source: 0.3614, Domain Loss Target: 0.1729, Adversarial Loss Target: 0.0011\n",
      "Epoch 4, Batch 20/34, Total Loss: 0.6389, Segmentation Loss: 0.0988, Domain Loss Source: 0.2988, Domain Loss Target: 0.2088, Adversarial Loss Target: 0.0011\n",
      "Epoch 4, Batch 25/34, Total Loss: 0.6265, Segmentation Loss: 0.0745, Domain Loss Source: 0.1813, Domain Loss Target: 0.3039, Adversarial Loss Target: 0.0007\n",
      "Epoch 4, Batch 30/34, Total Loss: 0.6656, Segmentation Loss: 0.0976, Domain Loss Source: 0.1454, Domain Loss Target: 0.5026, Adversarial Loss Target: 0.0004\n",
      "Epoch 4, Train Loss: 1.9180\n",
      "Evaluating model performance on source data\n",
      "Precision: 0.8861, Recall: 0.6968, F1 Score: 0.7787, Dice Score: 0.7787, Accuracy: 0.9315\n",
      "Evaluating model performance on target data\n",
      "Precision: 0.4747, Recall: 0.6694, F1 Score: 0.5479, Dice Score: 0.5479, Accuracy: 0.7825\n",
      "Epoch 4, Validation Loss Source: 0.2506, Validation Loss Target: 1.0308\n",
      "Epoch 5, Batch 5/34, Total Loss: 0.6880, Segmentation Loss: 0.1709, Domain Loss Source: 0.1718, Domain Loss Target: 0.3618, Adversarial Loss Target: 0.0006\n",
      "Epoch 5, Batch 10/34, Total Loss: 0.6626, Segmentation Loss: 0.1075, Domain Loss Source: 0.2853, Domain Loss Target: 0.2304, Adversarial Loss Target: 0.0009\n",
      "Epoch 5, Batch 15/34, Total Loss: 0.6417, Segmentation Loss: 0.0980, Domain Loss Source: 0.2724, Domain Loss Target: 0.2464, Adversarial Loss Target: 0.0009\n",
      "Epoch 5, Batch 20/34, Total Loss: 0.6587, Segmentation Loss: 0.0908, Domain Loss Source: 0.1659, Domain Loss Target: 0.4953, Adversarial Loss Target: 0.0004\n",
      "Epoch 5, Batch 25/34, Total Loss: 0.6304, Segmentation Loss: 0.0683, Domain Loss Source: 0.2530, Domain Loss Target: 0.3145, Adversarial Loss Target: 0.0007\n",
      "Epoch 5, Batch 30/34, Total Loss: 0.6607, Segmentation Loss: 0.0889, Domain Loss Source: 0.3747, Domain Loss Target: 0.1586, Adversarial Loss Target: 0.0012\n",
      "Epoch 5, Train Loss: 1.9191\n",
      "Evaluating model performance on source data\n",
      "Precision: 0.8880, Recall: 0.6918, F1 Score: 0.7763, Dice Score: 0.7763, Accuracy: 0.9311\n",
      "Evaluating model performance on target data\n",
      "Precision: 0.4831, Recall: 0.6623, F1 Score: 0.5519, Dice Score: 0.5519, Accuracy: 0.7885\n",
      "Epoch 5, Validation Loss Source: 0.2695, Validation Loss Target: 1.0361\n",
      "Epoch 6, Batch 5/34, Total Loss: 0.6295, Segmentation Loss: 0.1648, Domain Loss Source: 0.2762, Domain Loss Target: 0.2107, Adversarial Loss Target: 0.0011\n",
      "Epoch 6, Batch 10/34, Total Loss: 0.6384, Segmentation Loss: 0.0996, Domain Loss Source: 0.2193, Domain Loss Target: 0.3786, Adversarial Loss Target: 0.0006\n",
      "Epoch 6, Batch 15/34, Total Loss: 0.6441, Segmentation Loss: 0.0903, Domain Loss Source: 0.2671, Domain Loss Target: 0.3363, Adversarial Loss Target: 0.0007\n",
      "Epoch 6, Batch 20/34, Total Loss: 0.6363, Segmentation Loss: 0.0837, Domain Loss Source: 0.1336, Domain Loss Target: 0.4264, Adversarial Loss Target: 0.0005\n",
      "Epoch 6, Batch 25/34, Total Loss: 0.5937, Segmentation Loss: 0.0627, Domain Loss Source: 0.3027, Domain Loss Target: 0.1843, Adversarial Loss Target: 0.0011\n",
      "Epoch 6, Batch 30/34, Total Loss: 0.5810, Segmentation Loss: 0.0835, Domain Loss Source: 0.2773, Domain Loss Target: 0.2028, Adversarial Loss Target: 0.0011\n",
      "Epoch 6, Train Loss: 1.8111\n",
      "Evaluating model performance on source data\n",
      "Precision: 0.8885, Recall: 0.7067, F1 Score: 0.7858, Dice Score: 0.7858, Accuracy: 0.9335\n",
      "Evaluating model performance on target data\n",
      "Precision: 0.4742, Recall: 0.6804, F1 Score: 0.5518, Dice Score: 0.5518, Accuracy: 0.7820\n",
      "Epoch 6, Validation Loss Source: 0.2695, Validation Loss Target: 1.1120\n",
      "Epoch 7, Batch 5/34, Total Loss: 0.6945, Segmentation Loss: 0.1600, Domain Loss Source: 0.4663, Domain Loss Target: 0.1347, Adversarial Loss Target: 0.0014\n",
      "Epoch 7, Batch 10/34, Total Loss: 0.6278, Segmentation Loss: 0.0893, Domain Loss Source: 0.3857, Domain Loss Target: 0.1469, Adversarial Loss Target: 0.0013\n",
      "Epoch 7, Batch 15/34, Total Loss: 0.6415, Segmentation Loss: 0.0836, Domain Loss Source: 0.3329, Domain Loss Target: 0.1691, Adversarial Loss Target: 0.0012\n",
      "Epoch 7, Batch 20/34, Total Loss: 0.6178, Segmentation Loss: 0.0768, Domain Loss Source: 0.2314, Domain Loss Target: 0.2417, Adversarial Loss Target: 0.0009\n",
      "Epoch 7, Batch 25/34, Total Loss: 0.5680, Segmentation Loss: 0.0578, Domain Loss Source: 0.2548, Domain Loss Target: 0.1918, Adversarial Loss Target: 0.0011\n",
      "Epoch 7, Batch 30/34, Total Loss: 0.5553, Segmentation Loss: 0.0779, Domain Loss Source: 0.2827, Domain Loss Target: 0.1884, Adversarial Loss Target: 0.0012\n",
      "Epoch 7, Train Loss: 1.8124\n",
      "Evaluating model performance on source data\n",
      "Precision: 0.8858, Recall: 0.7139, F1 Score: 0.7892, Dice Score: 0.7892, Accuracy: 0.9341\n",
      "Evaluating model performance on target data\n",
      "Precision: 0.4705, Recall: 0.6863, F1 Score: 0.5511, Dice Score: 0.5511, Accuracy: 0.7794\n",
      "Epoch 7, Validation Loss Source: 0.2773, Validation Loss Target: 1.1727\n",
      "Epoch 8, Batch 5/34, Total Loss: 0.6144, Segmentation Loss: 0.1558, Domain Loss Source: 0.4087, Domain Loss Target: 0.1096, Adversarial Loss Target: 0.0015\n",
      "Epoch 8, Batch 10/34, Total Loss: 0.5753, Segmentation Loss: 0.0828, Domain Loss Source: 0.3803, Domain Loss Target: 0.1383, Adversarial Loss Target: 0.0014\n",
      "Epoch 8, Batch 15/34, Total Loss: 0.5930, Segmentation Loss: 0.0777, Domain Loss Source: 0.1945, Domain Loss Target: 0.2881, Adversarial Loss Target: 0.0009\n",
      "Epoch 8, Batch 20/34, Total Loss: 0.6225, Segmentation Loss: 0.0723, Domain Loss Source: 0.1336, Domain Loss Target: 0.3538, Adversarial Loss Target: 0.0007\n",
      "Epoch 8, Batch 25/34, Total Loss: 0.5782, Segmentation Loss: 0.0545, Domain Loss Source: 0.1679, Domain Loss Target: 0.3700, Adversarial Loss Target: 0.0007\n",
      "Epoch 8, Batch 30/34, Total Loss: 0.6419, Segmentation Loss: 0.0742, Domain Loss Source: 0.2130, Domain Loss Target: 0.3208, Adversarial Loss Target: 0.0008\n",
      "Epoch 8, Train Loss: 1.7870\n",
      "Evaluating model performance on source data\n",
      "Precision: 0.8856, Recall: 0.7170, F1 Score: 0.7909, Dice Score: 0.7909, Accuracy: 0.9346\n",
      "Evaluating model performance on target data\n",
      "Precision: 0.4686, Recall: 0.6956, F1 Score: 0.5524, Dice Score: 0.5524, Accuracy: 0.7770\n",
      "Epoch 8, Validation Loss Source: 0.2868, Validation Loss Target: 1.2194\n",
      "Epoch 9, Batch 5/34, Total Loss: 0.6757, Segmentation Loss: 0.1497, Domain Loss Source: 0.1566, Domain Loss Target: 0.3867, Adversarial Loss Target: 0.0005\n",
      "Epoch 9, Batch 10/34, Total Loss: 0.6312, Segmentation Loss: 0.0782, Domain Loss Source: 0.2405, Domain Loss Target: 0.2605, Adversarial Loss Target: 0.0008\n",
      "Epoch 9, Batch 15/34, Total Loss: 0.6360, Segmentation Loss: 0.0723, Domain Loss Source: 0.3070, Domain Loss Target: 0.2473, Adversarial Loss Target: 0.0010\n",
      "Epoch 9, Batch 20/34, Total Loss: 0.6113, Segmentation Loss: 0.0698, Domain Loss Source: 0.2140, Domain Loss Target: 0.3264, Adversarial Loss Target: 0.0007\n",
      "Epoch 9, Batch 25/34, Total Loss: 0.5576, Segmentation Loss: 0.0516, Domain Loss Source: 0.3048, Domain Loss Target: 0.1858, Adversarial Loss Target: 0.0011\n",
      "Epoch 9, Batch 30/34, Total Loss: 0.5571, Segmentation Loss: 0.0695, Domain Loss Source: 0.2765, Domain Loss Target: 0.1914, Adversarial Loss Target: 0.0012\n",
      "Epoch 9, Train Loss: 1.7938\n",
      "Evaluating model performance on source data\n",
      "Precision: 0.8746, Recall: 0.7315, F1 Score: 0.7953, Dice Score: 0.7953, Accuracy: 0.9349\n",
      "Evaluating model performance on target data\n",
      "Precision: 0.4636, Recall: 0.7127, F1 Score: 0.5551, Dice Score: 0.5551, Accuracy: 0.7733\n",
      "Epoch 9, Validation Loss Source: 0.2934, Validation Loss Target: 1.2606\n",
      "Epoch 10, Batch 5/34, Total Loss: 0.5639, Segmentation Loss: 0.1441, Domain Loss Source: 0.3979, Domain Loss Target: 0.1512, Adversarial Loss Target: 0.0013\n",
      "Epoch 10, Batch 10/34, Total Loss: 0.5923, Segmentation Loss: 0.0762, Domain Loss Source: 0.1243, Domain Loss Target: 0.5616, Adversarial Loss Target: 0.0004\n",
      "Epoch 10, Batch 15/34, Total Loss: 0.6097, Segmentation Loss: 0.0684, Domain Loss Source: 0.4138, Domain Loss Target: 0.1804, Adversarial Loss Target: 0.0012\n",
      "Epoch 10, Batch 20/34, Total Loss: 0.5662, Segmentation Loss: 0.0652, Domain Loss Source: 0.1753, Domain Loss Target: 0.2856, Adversarial Loss Target: 0.0008\n",
      "Epoch 10, Batch 25/34, Total Loss: 0.5776, Segmentation Loss: 0.0495, Domain Loss Source: 0.3864, Domain Loss Target: 0.1082, Adversarial Loss Target: 0.0017\n",
      "Epoch 10, Batch 30/34, Total Loss: 0.5642, Segmentation Loss: 0.0674, Domain Loss Source: 0.2586, Domain Loss Target: 0.2290, Adversarial Loss Target: 0.0010\n",
      "Epoch 10, Train Loss: 1.6771\n",
      "Evaluating model performance on source data\n",
      "Precision: 0.8729, Recall: 0.7408, F1 Score: 0.8001, Dice Score: 0.8001, Accuracy: 0.9360\n",
      "Evaluating model performance on target data\n",
      "Precision: 0.4745, Recall: 0.6805, F1 Score: 0.5523, Dice Score: 0.5523, Accuracy: 0.7825\n",
      "Epoch 10, Validation Loss Source: 0.2972, Validation Loss Target: 1.2639\n",
      "Precision: 0.4636, Recall: 0.7127, F1 Score: 0.5551, Dice Score: 0.5551, Accuracy: 0.7733\n"
     ]
    },
    {
     "data": {
      "application/vnd.jupyter.widget-view+json": {
       "model_id": "33641f2164d743f7b4c1a37a5124e624",
       "version_major": 2,
       "version_minor": 0
      },
      "text/plain": [
       "VBox(children=(Label(value='3142.925 MB of 3142.925 MB uploaded\\r'), FloatProgress(value=1.0, max=1.0)))"
      ]
     },
     "metadata": {},
     "output_type": "display_data"
    },
    {
     "data": {
      "text/html": [
       "<style>\n",
       "    table.wandb td:nth-child(1) { padding: 0 10px; text-align: left ; width: auto;} td:nth-child(2) {text-align: left ; width: 100%}\n",
       "    .wandb-row { display: flex; flex-direction: row; flex-wrap: wrap; justify-content: flex-start; width: 100% }\n",
       "    .wandb-col { display: flex; flex-direction: column; flex-basis: 100%; flex: 1; padding: 10px; }\n",
       "    </style>\n",
       "<div class=\"wandb-row\"><div class=\"wandb-col\"><h3>Run history:</h3><br/><table class=\"wandb\"><tr><td>dice_score/source</td><td>▁▅▆▇▆▇▇▇██</td></tr><tr><td>dice_score/target</td><td>▁▃▅▆▇▇▇▇█▇</td></tr><tr><td>epoch</td><td>▁▂▃▃▄▅▆▆▇█</td></tr><tr><td>precision/source</td><td>█▂▃▃▃▃▃▃▁▁</td></tr><tr><td>precision/target</td><td>█▄▄▃▄▂▂▂▁▂</td></tr><tr><td>test/accuracy</td><td>▁</td></tr><tr><td>test/dice_score</td><td>▁</td></tr><tr><td>test/f1_score</td><td>▁</td></tr><tr><td>test/precision</td><td>▁</td></tr><tr><td>test/recall</td><td>▁</td></tr><tr><td>train/domain_loss</td><td>█▂▁▁▁▁▁▁▁▁</td></tr><tr><td>train/loss</td><td>█▂▂▂▂▁▁▁▁▁</td></tr><tr><td>val/loss_source</td><td>▆▁▃▁▄▄▅▇▇█</td></tr><tr><td>val/loss_target</td><td>▁▄▄▄▄▆▇▇██</td></tr></table><br/></div><div class=\"wandb-col\"><h3>Run summary:</h3><br/><table class=\"wandb\"><tr><td>dice_score/source</td><td>0.80011</td></tr><tr><td>dice_score/target</td><td>0.55234</td></tr><tr><td>epoch</td><td>10</td></tr><tr><td>precision/source</td><td>0.87293</td></tr><tr><td>precision/target</td><td>0.47449</td></tr><tr><td>test/accuracy</td><td>0.77335</td></tr><tr><td>test/dice_score</td><td>0.55514</td></tr><tr><td>test/f1_score</td><td>0.55514</td></tr><tr><td>test/precision</td><td>0.46362</td></tr><tr><td>test/recall</td><td>0.71265</td></tr><tr><td>train/domain_loss</td><td>0.51002</td></tr><tr><td>train/loss</td><td>1.67708</td></tr><tr><td>val/loss_source</td><td>0.2972</td></tr><tr><td>val/loss_target</td><td>1.26391</td></tr></table><br/></div></div>"
      ],
      "text/plain": [
       "<IPython.core.display.HTML object>"
      ]
     },
     "metadata": {},
     "output_type": "display_data"
    },
    {
     "data": {
      "text/html": [
       " View run <strong style=\"color:#cdcd00\">FADA-Linknet-timm-regnetx_320-gcr_comic-sweep_pretrained-augmented_target-random_crops_bloodvessel_ratio01-unsupervised</strong> at: <a href='https://wandb.ai/idp2024/domain-adaptation/runs/9ebzcxi7' target=\"_blank\">https://wandb.ai/idp2024/domain-adaptation/runs/9ebzcxi7</a><br/> View project at: <a href='https://wandb.ai/idp2024/domain-adaptation' target=\"_blank\">https://wandb.ai/idp2024/domain-adaptation</a><br/>Synced 5 W&B file(s), 180 media file(s), 7 artifact file(s) and 0 other file(s)"
      ],
      "text/plain": [
       "<IPython.core.display.HTML object>"
      ]
     },
     "metadata": {},
     "output_type": "display_data"
    },
    {
     "data": {
      "text/html": [
       "Find logs at: <code>./wandb/run-20250115_115413-9ebzcxi7/logs</code>"
      ],
      "text/plain": [
       "<IPython.core.display.HTML object>"
      ]
     },
     "metadata": {},
     "output_type": "display_data"
    },
    {
     "data": {
      "image/png": "[encoded data removed]",
      "text/plain": [
       "<Figure size 1000x600 with 1 Axes>"
      ]
     },
     "metadata": {},
     "output_type": "display_data"
    }
   ],
   "source": [
    "import matplotlib.pyplot as plt\n",
    "from FADA.train_FADA_unsupervised import model_pipeline\n",
    "import torch\n",
    "from dataset import build_hsi_dataloader, build_hsi_testloader, build_FIVES_random_crops_dataloaders\n",
    "\n",
    "trainloader_source, validationloader_source, testloader_source = (\n",
    "    build_FIVES_random_crops_dataloaders(\n",
    "        batch_size=16,\n",
    "        num_channels=3,\n",
    "        load_from_path='data/FIVES_random_crops_threshold01'\n",
    "    )\n",
    ")\n",
    "\n",
    "trainloader_hsi = build_hsi_dataloader(\n",
    "    batch_size=8,\n",
    "    train_split=1,\n",
    "    val_split=0,\n",
    "    test_split=0,\n",
    "    exclude_labeled_data=True,\n",
    "    augmented=True,\n",
    ")[0]\n",
    "\n",
    "testloader_hsi = build_hsi_testloader()\n",
    "\n",
    "encoder = \"timm-regnetx_320\"\n",
    "architecture = \"Linknet\"\n",
    "device = torch.device(\"cuda:2\" if torch.cuda.is_available() else \"cpu\")\n",
    "epochs = 10\n",
    "loss = \"BCE\"\n",
    "in_channels = 3\n",
    "ndf = 512\n",
    "learning_rate_fea = 0.007053148664641283\n",
    "learning_rate_cls = 0.0014884108364363155\n",
    "learning_rate_dis = 0.00043925067706149473\n",
    "\n",
    "config = {\n",
    "    \"model\": \"FADA-{architecture}-{encoder}-gcr_comic-sweep_pretrained-augmented_target-random_crops_bloodvessel_ratio01-unsupervised\".format(\n",
    "        architecture=architecture, encoder=encoder\n",
    "    ),\n",
    "    \"encoder\": encoder,\n",
    "    \"architecture\": architecture,\n",
    "    \"in_channels\": in_channels,\n",
    "    \"optimizer\": \"Adam\",\n",
    "    \"batch_size_source\": trainloader_source.batch_size,\n",
    "    \"batch_size_target\": trainloader_hsi.batch_size,\n",
    "    \"learning_rate_fea\": learning_rate_fea,\n",
    "    \"learning_rate_cls\": learning_rate_cls,\n",
    "    \"learning_rate_dis\": learning_rate_dis,\n",
    "    \"ndf\": ndf,\n",
    "    \"epochs\": epochs,\n",
    "    \"seg_loss\": loss,\n",
    "    \"pretrained\": \"./models/serene-sweep-9.pth\",\n",
    "    \"target_augmented\": True,\n",
    "    \"gaussian\": 'models/gcr_comic-sweep.pth',\n",
    "    \"mu_gaussian\": [334.19, 266.26, 131.40],\n",
    "    \"sigma_gaussian\": [2.92, 2.02, 2.00],\n",
    "}\n",
    "\n",
    "model, train_losses, domain_losses, val_losses_source, val_losses_target = (\n",
    "    model_pipeline(\n",
    "        trainloader_source,\n",
    "        validationloader_source,\n",
    "        testloader_source,\n",
    "        trainloader_hsi,\n",
    "        testloader_hsi,\n",
    "        config,\n",
    "        project=\"domain-adaptation\",\n",
    "        device=device,\n",
    "        batch_print=5,\n",
    "        evaluate=True,\n",
    "        with_overlays=True,\n",
    "    )\n",
    ")\n",
    "\n",
    "plt.figure(figsize=(10, 6))\n",
    "plt.plot(train_losses, label=\"Combined Training Loss\")\n",
    "plt.plot(domain_losses, label=\"Domain Loss\")\n",
    "plt.plot(val_losses_source, label=\"Validation Loss Source\")\n",
    "plt.plot(val_losses_target, label=\"Validation Loss Target\")\n",
    "plt.xlabel(\"Epochs\")\n",
    "plt.ylabel(\"Loss\")\n",
    "plt.title(\"Training and Validation Loss Curves\")\n",
    "plt.legend()\n",
    "plt.show()"
   ]
  },
  {
   "cell_type": "markdown",
   "metadata": {},
   "source": [
    "### Conv Autoencoder"
   ]
  },
  {
   "cell_type": "markdown",
   "metadata": {},
   "source": [
    "#### Training"
   ]
  },
  {
   "cell_type": "code",
   "execution_count": 1,
   "metadata": {},
   "outputs": [
    {
     "name": "stderr",
     "output_type": "stream",
     "text": [
      "Failed to detect the name of this notebook, you can set it manually with the WANDB_NOTEBOOK_NAME environment variable to enable code saving.\n",
      "\u001b[34m\u001b[1mwandb\u001b[0m: Currently logged in as: \u001b[33mtim-mach\u001b[0m (\u001b[33midp2024\u001b[0m). Use \u001b[1m`wandb login --relogin`\u001b[0m to force relogin\n"
     ]
    },
    {
     "data": {
      "text/html": [
       "wandb version 0.19.1 is available!  To upgrade, please run:\n",
       " $ pip install wandb --upgrade"
      ],
      "text/plain": [
       "<IPython.core.display.HTML object>"
      ]
     },
     "metadata": {},
     "output_type": "display_data"
    },
    {
     "data": {
      "text/html": [
       "Tracking run with wandb version 0.16.6"
      ],
      "text/plain": [
       "<IPython.core.display.HTML object>"
      ]
     },
     "metadata": {},
     "output_type": "display_data"
    },
    {
     "data": {
      "text/html": [
       "Run data is saved locally in <code>/home/home/tim_ivan/idp/wandb/run-20250106_183404-fe2610p1</code>"
      ],
      "text/plain": [
       "<IPython.core.display.HTML object>"
      ]
     },
     "metadata": {},
     "output_type": "display_data"
    },
    {
     "data": {
      "text/html": [
       "Syncing run <strong><a href='https://wandb.ai/idp2024/hsi-autoencoder/runs/fe2610p1' target=\"_blank\">convReducer</a></strong> to <a href='https://wandb.ai/idp2024/hsi-autoencoder' target=\"_blank\">Weights & Biases</a> (<a href='https://wandb.me/run' target=\"_blank\">docs</a>)<br/>"
      ],
      "text/plain": [
       "<IPython.core.display.HTML object>"
      ]
     },
     "metadata": {},
     "output_type": "display_data"
    },
    {
     "data": {
      "text/html": [
       " View project at <a href='https://wandb.ai/idp2024/hsi-autoencoder' target=\"_blank\">https://wandb.ai/idp2024/hsi-autoencoder</a>"
      ],
      "text/plain": [
       "<IPython.core.display.HTML object>"
      ]
     },
     "metadata": {},
     "output_type": "display_data"
    },
    {
     "data": {
      "text/html": [
       " View run at <a href='https://wandb.ai/idp2024/hsi-autoencoder/runs/fe2610p1' target=\"_blank\">https://wandb.ai/idp2024/hsi-autoencoder/runs/fe2610p1</a>"
      ],
      "text/plain": [
       "<IPython.core.display.HTML object>"
      ]
     },
     "metadata": {},
     "output_type": "display_data"
    },
    {
     "name": "stdout",
     "output_type": "stream",
     "text": [
      "Epoch 1, Batch 5, Loss: 0.3534\n",
      "Epoch 1, Train Loss: 0.3321\n",
      "Epoch 1, Validation Loss: 0.5521\n",
      "Epoch 2, Batch 5, Loss: 68.4464\n",
      "Epoch 2, Train Loss: 38.1581\n",
      "Epoch 2, Validation Loss: 0.5897\n",
      "Epoch 3, Batch 5, Loss: 0.2826\n",
      "Epoch 3, Train Loss: 0.3083\n",
      "Epoch 3, Validation Loss: 0.5497\n",
      "Epoch 4, Batch 5, Loss: 9.5290\n",
      "Epoch 4, Train Loss: 5.4296\n",
      "Epoch 4, Validation Loss: 0.5457\n",
      "Epoch 5, Batch 5, Loss: 2.1078\n",
      "Epoch 5, Train Loss: 1.2938\n",
      "Epoch 5, Validation Loss: 0.5238\n",
      "Epoch 6, Batch 5, Loss: 0.2620\n",
      "Epoch 6, Train Loss: 0.2701\n",
      "Epoch 6, Validation Loss: 0.5040\n",
      "Epoch 7, Batch 5, Loss: 0.2863\n",
      "Epoch 7, Train Loss: 0.2679\n",
      "Epoch 7, Validation Loss: 0.4993\n",
      "Epoch 8, Batch 5, Loss: 56.5798\n",
      "Epoch 8, Train Loss: 31.5554\n",
      "Epoch 8, Validation Loss: 0.6629\n",
      "Epoch 9, Batch 5, Loss: 0.3270\n",
      "Epoch 9, Train Loss: 0.3380\n",
      "Epoch 9, Validation Loss: 0.6395\n",
      "Epoch 10, Batch 5, Loss: 0.2751\n",
      "Epoch 10, Train Loss: 0.2847\n",
      "Epoch 10, Validation Loss: 0.5216\n"
     ]
    },
    {
     "data": {
      "application/vnd.jupyter.widget-view+json": {
       "model_id": "45a72ff9aec04e9babc3b936d90d0a44",
       "version_major": 2,
       "version_minor": 0
      },
      "text/plain": [
       "VBox(children=(Label(value='0.864 MB of 0.864 MB uploaded\\r'), FloatProgress(value=1.0, max=1.0)))"
      ]
     },
     "metadata": {},
     "output_type": "display_data"
    },
    {
     "data": {
      "text/html": [
       "<style>\n",
       "    table.wandb td:nth-child(1) { padding: 0 10px; text-align: left ; width: auto;} td:nth-child(2) {text-align: left ; width: 100%}\n",
       "    .wandb-row { display: flex; flex-direction: row; flex-wrap: wrap; justify-content: flex-start; width: 100% }\n",
       "    .wandb-col { display: flex; flex-direction: column; flex-basis: 100%; flex: 1; padding: 10px; }\n",
       "    </style>\n",
       "<div class=\"wandb-row\"><div class=\"wandb-col\"><h3>Run history:</h3><br/><table class=\"wandb\"><tr><td>epoch</td><td>▁▂▃▃▄▅▆▆▇█</td></tr><tr><td>train/loss</td><td>▁█▁▂▁▁▁▇▁▁</td></tr><tr><td>validation/loss</td><td>▃▅▃▃▂▁▁█▇▂</td></tr></table><br/></div><div class=\"wandb-col\"><h3>Run summary:</h3><br/><table class=\"wandb\"><tr><td>epoch</td><td>10</td></tr><tr><td>train/loss</td><td>0.28467</td></tr><tr><td>validation/loss</td><td>0.52159</td></tr></table><br/></div></div>"
      ],
      "text/plain": [
       "<IPython.core.display.HTML object>"
      ]
     },
     "metadata": {},
     "output_type": "display_data"
    },
    {
     "data": {
      "text/html": [
       " View run <strong style=\"color:#cdcd00\">convReducer</strong> at: <a href='https://wandb.ai/idp2024/hsi-autoencoder/runs/fe2610p1' target=\"_blank\">https://wandb.ai/idp2024/hsi-autoencoder/runs/fe2610p1</a><br/> View project at: <a href='https://wandb.ai/idp2024/hsi-autoencoder' target=\"_blank\">https://wandb.ai/idp2024/hsi-autoencoder</a><br/>Synced 5 W&B file(s), 10 media file(s), 6 artifact file(s) and 0 other file(s)"
      ],
      "text/plain": [
       "<IPython.core.display.HTML object>"
      ]
     },
     "metadata": {},
     "output_type": "display_data"
    },
    {
     "data": {
      "text/html": [
       "Find logs at: <code>./wandb/run-20250106_183404-fe2610p1/logs</code>"
      ],
      "text/plain": [
       "<IPython.core.display.HTML object>"
      ]
     },
     "metadata": {},
     "output_type": "display_data"
    },
    {
     "data": {
      "text/plain": [
       "(ConvAutoEncoder(\n",
       "   (encoder): ConvReducer(\n",
       "     (conv1x1): Conv2d(826, 3, kernel_size=(1, 1), stride=(1, 1))\n",
       "   )\n",
       "   (decoder): Sequential(\n",
       "     (0): Conv2d(3, 826, kernel_size=(1, 1), stride=(1, 1))\n",
       "   )\n",
       " ),\n",
       " [0.33212346500820583,\n",
       "  38.15814441608058,\n",
       "  0.3083326352967156,\n",
       "  5.429602690868908,\n",
       "  1.2937968108389113,\n",
       "  0.27008532815509373,\n",
       "  0.26786717110209995,\n",
       "  31.555382001731132,\n",
       "  0.33804674943288165,\n",
       "  0.2846721609433492],\n",
       " [0.5520845353603363,\n",
       "  0.5896639406681061,\n",
       "  0.5497033417224884,\n",
       "  0.5457060217857361,\n",
       "  0.5238021850585938,\n",
       "  0.5040395379066467,\n",
       "  0.49933808743953706,\n",
       "  0.6628828555345535,\n",
       "  0.6394935458898544,\n",
       "  0.5215946286916733])"
      ]
     },
     "execution_count": 1,
     "metadata": {},
     "output_type": "execute_result"
    }
   ],
   "source": [
    "from dataset import build_hsi_dataloader, HSIDataset, build_hsi_testloader\n",
    "from dimensionality_reduction.autoencoder import (\n",
    "    ConvAutoEncoder,\n",
    ")\n",
    "from dimensionality_reduction.train_autoencoder import model_pipeline_autoencoder\n",
    "import torch\n",
    "from torch.utils.data import DataLoader\n",
    "\n",
    "trainloader_hsi = build_hsi_dataloader(\n",
    "    batch_size=8,\n",
    "    train_split=1,\n",
    "    val_split=0,\n",
    "    test_split=0,\n",
    "    exclude_labeled_data=True,\n",
    "    augmented=True,\n",
    ")[0]\n",
    "\n",
    "testloader_hsi = build_hsi_testloader()\n",
    "\n",
    "lr = 0.001\n",
    "gaussian = ConvAutoEncoder()\n",
    "device = torch.device(\"cuda:2\" if torch.cuda.is_available() else \"cpu\")\n",
    "criterion = torch.nn.MSELoss()\n",
    "optimizer = torch.optim.Adam(gaussian.parameters(), lr=lr)\n",
    "\n",
    "\n",
    "config = {\n",
    "    \"model\": \"convReducer\",\n",
    "    \"optimizer\": \"Adam\",\n",
    "    \"learning_rate\": lr,\n",
    "    \"batch_size\": trainloader_hsi.batch_size,\n",
    "    \"epochs\": 10,\n",
    "}\n",
    "\n",
    "model_pipeline_autoencoder(\n",
    "    gaussian,\n",
    "    trainloader_hsi,\n",
    "    testloader_hsi,\n",
    "    criterion,\n",
    "    optimizer,\n",
    "    config,\n",
    "    project=\"hsi-autoencoder\",\n",
    "    device=device,\n",
    "    model_name=\"convReducer\",\n",
    "    batch_print=5,\n",
    ")"
   ]
  },
  {
   "cell_type": "markdown",
   "metadata": {},
   "source": [
    "## Evaluation"
   ]
  },
  {
   "cell_type": "code",
   "execution_count": 13,
   "metadata": {},
   "outputs": [
    {
     "data": {
      "application/vnd.jupyter.widget-view+json": {
       "model_id": "e56061c1cce94ddcbbaadb4f37e2373e",
       "version_major": 2,
       "version_minor": 0
      },
      "text/plain": [
       "interactive(children=(FloatSlider(value=0.5, description='Threshold:', max=1.0, step=0.01), Text(value='test',…"
      ]
     },
     "metadata": {},
     "output_type": "display_data"
    }
   ],
   "source": [
    "from dataset import build_hsi_testloader, create_montage\n",
    "from segmentation_util import (\n",
    "    evaluate_model_with_postprocessing,\n",
    "    build_segmentation_model,\n",
    "    load_model,\n",
    "    show_interactive_overlay,\n",
    ")\n",
    "from FADA.segmentation_model import build_FADA_segmentation_model\n",
    "import torch\n",
    "\n",
    "testloader_target, testloader_ring_label = build_hsi_testloader(\n",
    "    window=(500, 600),\n",
    "    batch_size=1,\n",
    "    ring_label_dir=\"data/helicoid_ring_labels\",\n",
    ")\n",
    "\n",
    "device = torch.device(\"cuda:1\" if torch.cuda.is_available() else \"cpu\")\n",
    "\n",
    "model = build_segmentation_model(\"timm-regnetx_320\", \"Linknet\", device, in_channels=1)\n",
    "model = load_model(\n",
    "    model,\n",
    "    checkpoint_path=\"models/Linknet-timm-regnetx_320-512x512-augmented-with-random-crops-single-channel-focal.pth\",\n",
    "    device=device,\n",
    ")\n",
    "# model = build_FADA_segmentation_model(\n",
    "#     architecture=\"Linknet\",\n",
    "#     encoder=\"timm-regnetx_320\",\n",
    "#     device=device,\n",
    "#     in_channels=3,\n",
    "#     path=\"models/FADA-Linknet-timm-regnetx_320-gcr_comic-sweep_pretrained-augmented_target-random_crops_bloodvessel_ratio01-unsupervised.pth\",\n",
    "#     channel_reducer_path=\"models/gcr_comic-sweep.pth\",\n",
    "# )\n",
    "\n",
    "index = 0\n",
    "show_interactive_overlay(\n",
    "    model,\n",
    "    data=testloader_target.dataset[index],\n",
    "    device=device,\n",
    "    title='test',\n",
    "    ring_data=testloader_ring_label.dataset[index][1],\n",
    ")\n",
    "# evaluate_model_with_postprocessing(\n",
    "#     model, testloader_target, testloader_ring_label, device, with_wandb=False\n",
    "# )"
   ]
  },
  {
   "cell_type": "markdown",
   "metadata": {},
   "source": [
    "### Approach 1: FADA-Grayscale-Windowing"
   ]
  },
  {
   "cell_type": "code",
   "execution_count": 1,
   "metadata": {},
   "outputs": [
    {
     "name": "stdout",
     "output_type": "stream",
     "text": [
      "Testing model models/approach1/image0/misty-sweep-3.pth hyperparameter-finetuned on image 0 testing on images [1, 2, 3, 4]\n"
     ]
    },
    {
     "name": "stderr",
     "output_type": "stream",
     "text": [
      "/home/home/tim_ivan/idp/segmentation_util.py:213: UserWarning: Creating a tensor from a list of numpy.ndarrays is extremely slow. Please consider converting the list to a single numpy.ndarray with numpy.array() before converting to a tensor. (Triggered internally at ../torch/csrc/utils/tensor_new.cpp:274.)\n",
      "  return torch.tensor(smoothed_predictions, device=predictions.device)\n"
     ]
    },
    {
     "name": "stdout",
     "output_type": "stream",
     "text": [
      "Precision: 0.5352, Recall: 0.6670, F1 Score: 0.5910, Dice Score: 0.5910, Accuracy: 0.8196\n",
      "Testing model models/approach1/image1/fanciful-sweep-4.pth hyperparameter-finetuned on image 1 testing on images [0, 2, 3, 4]\n",
      "Precision: 0.5303, Recall: 0.7830, F1 Score: 0.6316, Dice Score: 0.6316, Accuracy: 0.7854\n",
      "Testing model models/approach1/image2/golden-sweep-3.pth hyperparameter-finetuned on image 2 testing on images [0, 1, 3, 4]\n",
      "Precision: 0.5292, Recall: 0.6412, F1 Score: 0.5739, Dice Score: 0.5739, Accuracy: 0.8251\n",
      "Testing model models/approach1/image3/fallen-sweep-2.pth hyperparameter-finetuned on image 3 testing on images [0, 1, 2, 4]\n",
      "Precision: 0.5170, Recall: 0.6194, F1 Score: 0.5522, Dice Score: 0.5522, Accuracy: 0.8223\n",
      "Testing model models/approach1/image4/usual-sweep-10.pth hyperparameter-finetuned on image 4 testing on images [0, 1, 2, 3]\n",
      "Precision: 0.5572, Recall: 0.6122, F1 Score: 0.5679, Dice Score: 0.5679, Accuracy: 0.8267\n",
      "Average Precision: 0.5338, Average Recall: 0.6646, Average Accuracy: 0.8158, Average Dice Score: 0.5833\n"
     ]
    },
    {
     "data": {
      "text/plain": [
       "(tensor(0.5338, device='cuda:1'),\n",
       " tensor(0.6646, device='cuda:1'),\n",
       " tensor(0.8158, device='cuda:1'),\n",
       " tensor(0.5833, device='cuda:1'))"
      ]
     },
     "execution_count": 1,
     "metadata": {},
     "output_type": "execute_result"
    }
   ],
   "source": [
    "from segmentation_util import cross_testing\n",
    "from FADA.segmentation_model import build_FADA_segmentation_model\n",
    "\n",
    "model_params = {\n",
    "    \"architecture\": \"Linknet\",\n",
    "    \"encoder\": \"timm-regnetx_320\",\n",
    "    \"in_channels\": 1,\n",
    "}\n",
    "cross_testing(\n",
    "    \"models/approach1\",\n",
    "    window=(500, 600),\n",
    "    device=\"cuda:1\",\n",
    "    build_func=build_FADA_segmentation_model,\n",
    "    model_params=model_params,\n",
    ")"
   ]
  },
  {
   "cell_type": "markdown",
   "metadata": {},
   "source": [
    "### Approach 2: FADA-Grayscale-Windowing-NoPretraining"
   ]
  },
  {
   "cell_type": "code",
   "execution_count": 1,
   "metadata": {},
   "outputs": [
    {
     "name": "stdout",
     "output_type": "stream",
     "text": [
      "Testing model models/approach2/image0/exalted-sweep-1.pth hyperparameter-finetuned on image 0 testing on images [1, 2, 3, 4]\n"
     ]
    },
    {
     "name": "stderr",
     "output_type": "stream",
     "text": [
      "/home/home/tim_ivan/idp/segmentation_util.py:213: UserWarning: Creating a tensor from a list of numpy.ndarrays is extremely slow. Please consider converting the list to a single numpy.ndarray with numpy.array() before converting to a tensor. (Triggered internally at ../torch/csrc/utils/tensor_new.cpp:274.)\n",
      "  return torch.tensor(smoothed_predictions, device=predictions.device)\n"
     ]
    },
    {
     "name": "stdout",
     "output_type": "stream",
     "text": [
      "Precision: 0.5215, Recall: 0.3836, F1 Score: 0.4391, Dice Score: 0.4391, Accuracy: 0.8105\n",
      "Testing model models/approach2/image1/wandering-sweep-6.pth hyperparameter-finetuned on image 1 testing on images [0, 2, 3, 4]\n",
      "Precision: 0.5370, Recall: 0.6201, F1 Score: 0.5739, Dice Score: 0.5739, Accuracy: 0.7871\n",
      "Testing model models/approach2/image2/hearty-sweep-1.pth hyperparameter-finetuned on image 2 testing on images [0, 1, 3, 4]\n",
      "Precision: 0.5145, Recall: 0.4671, F1 Score: 0.4838, Dice Score: 0.4838, Accuracy: 0.8076\n",
      "Testing model models/approach2/image3/easy-sweep-9.pth hyperparameter-finetuned on image 3 testing on images [0, 1, 2, 4]\n",
      "Precision: 0.4186, Recall: 0.6554, F1 Score: 0.5100, Dice Score: 0.5100, Accuracy: 0.7725\n",
      "Testing model models/approach2/image4/eternal-sweep-3.pth hyperparameter-finetuned on image 4 testing on images [0, 1, 2, 3]\n",
      "Precision: 0.4513, Recall: 0.5585, F1 Score: 0.4962, Dice Score: 0.4962, Accuracy: 0.7865\n",
      "Average Precision: 0.4886, Average Recall: 0.5370, Average Accuracy: 0.7928, Average Dice Score: 0.5006\n"
     ]
    },
    {
     "data": {
      "text/plain": [
       "(tensor(0.4886, device='cuda:1'),\n",
       " tensor(0.5370, device='cuda:1'),\n",
       " tensor(0.7928, device='cuda:1'),\n",
       " tensor(0.5006, device='cuda:1'))"
      ]
     },
     "execution_count": 1,
     "metadata": {},
     "output_type": "execute_result"
    }
   ],
   "source": [
    "from segmentation_util import cross_testing\n",
    "from FADA.segmentation_model import build_FADA_segmentation_model\n",
    "\n",
    "model_params = {\n",
    "    \"architecture\": \"Linknet\",\n",
    "    \"encoder\": \"timm-regnetx_320\",\n",
    "    \"in_channels\": 1,\n",
    "}\n",
    "cross_testing(\n",
    "    \"models/approach2\",\n",
    "    window=(500, 600),\n",
    "    device=\"cuda:1\",\n",
    "    build_func=build_FADA_segmentation_model,\n",
    "    model_params=model_params,\n",
    ")"
   ]
  },
  {
   "cell_type": "markdown",
   "metadata": {},
   "source": [
    "### Approach 3: FADA-3ChannelWindowing"
   ]
  },
  {
   "cell_type": "code",
   "execution_count": 1,
   "metadata": {},
   "outputs": [
    {
     "name": "stdout",
     "output_type": "stream",
     "text": [
      "Testing model models/approach3/image0/sandy-sweep-1.pth hyperparameter-finetuned on image 0 testing on images [1, 2, 3, 4]\n"
     ]
    },
    {
     "name": "stderr",
     "output_type": "stream",
     "text": [
      "/home/home/tim_ivan/idp/segmentation_util.py:213: UserWarning: Creating a tensor from a list of numpy.ndarrays is extremely slow. Please consider converting the list to a single numpy.ndarray with numpy.array() before converting to a tensor. (Triggered internally at ../torch/csrc/utils/tensor_new.cpp:274.)\n",
      "  return torch.tensor(smoothed_predictions, device=predictions.device)\n"
     ]
    },
    {
     "name": "stdout",
     "output_type": "stream",
     "text": [
      "Precision: 0.5057, Recall: 0.7008, F1 Score: 0.5851, Dice Score: 0.5851, Accuracy: 0.8076\n",
      "Testing model models/approach3/image1/generous-sweep-2.pth hyperparameter-finetuned on image 1 testing on images [0, 2, 3, 4]\n",
      "Precision: 0.5496, Recall: 0.6445, F1 Score: 0.5901, Dice Score: 0.5901, Accuracy: 0.7969\n",
      "Testing model models/approach3/image2/woven-sweep-8.pth hyperparameter-finetuned on image 2 testing on images [0, 1, 3, 4]\n",
      "Precision: 0.4882, Recall: 0.6959, F1 Score: 0.5640, Dice Score: 0.5640, Accuracy: 0.7975\n",
      "Testing model models/approach3/image3/glad-sweep-3.pth hyperparameter-finetuned on image 3 testing on images [0, 1, 2, 4]\n",
      "Precision: 0.4675, Recall: 0.5350, F1 Score: 0.4882, Dice Score: 0.4882, Accuracy: 0.8040\n",
      "Testing model models/approach3/image4/classic-sweep-5.pth hyperparameter-finetuned on image 4 testing on images [0, 1, 2, 3]\n",
      "Precision: 0.4793, Recall: 0.5797, F1 Score: 0.5174, Dice Score: 0.5174, Accuracy: 0.8007\n",
      "Average Precision: 0.4981, Average Recall: 0.6312, Average Accuracy: 0.8013, Average Dice Score: 0.5489\n"
     ]
    },
    {
     "data": {
      "text/plain": [
       "(tensor(0.4981, device='cuda:1'),\n",
       " tensor(0.6312, device='cuda:1'),\n",
       " tensor(0.8013, device='cuda:1'),\n",
       " tensor(0.5489, device='cuda:1'))"
      ]
     },
     "execution_count": 1,
     "metadata": {},
     "output_type": "execute_result"
    }
   ],
   "source": [
    "from segmentation_util import cross_testing\n",
    "from FADA.segmentation_model import build_FADA_segmentation_model\n",
    "\n",
    "model_params = {\n",
    "    \"architecture\": \"Linknet\",\n",
    "    \"encoder\": \"timm-regnetx_320\",\n",
    "    \"in_channels\": 3,\n",
    "    \"windows_in_nm\": [[600, 1000], [500, 600], [400, 500]],\n",
    "}\n",
    "cross_testing(\n",
    "    \"models/approach3\",\n",
    "    build_func=build_FADA_segmentation_model,\n",
    "    device=\"cuda:1\",\n",
    "    model_params=model_params,\n",
    ")"
   ]
  },
  {
   "cell_type": "markdown",
   "metadata": {},
   "source": [
    "### Baseline: Transfer Learning"
   ]
  },
  {
   "cell_type": "markdown",
   "metadata": {},
   "source": [
    "#### Grayscale"
   ]
  },
  {
   "cell_type": "code",
   "execution_count": 1,
   "metadata": {},
   "outputs": [
    {
     "name": "stdout",
     "output_type": "stream",
     "text": [
      "Testing model models/baseline_grayscale/image0/Linknet-timm-regnetx_320-512x512-augmented-with-random-crops-single-channel-focal.pth hyperparameter-finetuned on image 0 testing on images [1, 2, 3, 4]\n"
     ]
    },
    {
     "name": "stderr",
     "output_type": "stream",
     "text": [
      "/home/home/tim_ivan/idp/segmentation_util.py:213: UserWarning: Creating a tensor from a list of numpy.ndarrays is extremely slow. Please consider converting the list to a single numpy.ndarray with numpy.array() before converting to a tensor. (Triggered internally at ../torch/csrc/utils/tensor_new.cpp:274.)\n",
      "  return torch.tensor(smoothed_predictions, device=predictions.device)\n"
     ]
    },
    {
     "name": "stdout",
     "output_type": "stream",
     "text": [
      "Precision: 0.6847, Recall: 0.3061, F1 Score: 0.3642, Dice Score: 0.3642, Accuracy: 0.8222\n",
      "Testing model models/baseline_grayscale/image1/Linknet-timm-regnetx_320-512x512-augmented-with-random-crops-single-channel-focal.pth hyperparameter-finetuned on image 1 testing on images [0, 2, 3, 4]\n",
      "Precision: 0.5940, Recall: 0.3265, F1 Score: 0.3955, Dice Score: 0.3955, Accuracy: 0.7941\n",
      "Testing model models/baseline_grayscale/image2/Linknet-timm-regnetx_320-512x512-augmented-with-random-crops-single-channel-focal.pth hyperparameter-finetuned on image 2 testing on images [0, 1, 3, 4]\n",
      "Precision: 0.6585, Recall: 0.2905, F1 Score: 0.3422, Dice Score: 0.3422, Accuracy: 0.8192\n",
      "Testing model models/baseline_grayscale/image3/Linknet-timm-regnetx_320-512x512-augmented-with-random-crops-single-channel-focal.pth hyperparameter-finetuned on image 3 testing on images [0, 1, 2, 4]\n",
      "Precision: 0.6354, Recall: 0.2208, F1 Score: 0.2730, Dice Score: 0.2730, Accuracy: 0.8240\n",
      "Testing model models/baseline_grayscale/image4/Linknet-timm-regnetx_320-512x512-augmented-with-random-crops-single-channel-focal.pth hyperparameter-finetuned on image 4 testing on images [0, 1, 2, 3]\n",
      "Precision: 0.6506, Recall: 0.1889, F1 Score: 0.2589, Dice Score: 0.2589, Accuracy: 0.8196\n",
      "Average Precision: 0.6446, Average Recall: 0.2666, Average Accuracy: 0.8158, Average Dice Score: 0.3268\n"
     ]
    },
    {
     "data": {
      "text/plain": [
       "(tensor(0.6446, device='cuda:1'),\n",
       " tensor(0.2666, device='cuda:1'),\n",
       " tensor(0.8158, device='cuda:1'),\n",
       " tensor(0.3268, device='cuda:1'))"
      ]
     },
     "execution_count": 1,
     "metadata": {},
     "output_type": "execute_result"
    }
   ],
   "source": [
    "from segmentation_util import cross_testing, build_segmentation_model\n",
    "\n",
    "model_params = {\n",
    "    \"architecture\": \"Linknet\",\n",
    "    \"encoder\": \"timm-regnetx_320\",\n",
    "    \"in_channels\": 1,\n",
    "}\n",
    "cross_testing(\n",
    "    \"models/baseline_grayscale\",\n",
    "    window=(500, 600),\n",
    "    device=\"cuda:1\",\n",
    "    build_func=build_segmentation_model,\n",
    "    model_params=model_params,\n",
    ")"
   ]
  },
  {
   "cell_type": "markdown",
   "metadata": {},
   "source": [
    "#### 3 Channel Windowing"
   ]
  },
  {
   "cell_type": "code",
   "execution_count": 1,
   "metadata": {},
   "outputs": [
    {
     "name": "stdout",
     "output_type": "stream",
     "text": [
      "Testing model models/baseline_3ChannelWindowing/image0/serene-sweep-9.pth hyperparameter-finetuned on image 0 testing on images [1, 2, 3, 4]\n"
     ]
    },
    {
     "name": "stderr",
     "output_type": "stream",
     "text": [
      "/home/home/tim_ivan/idp/segmentation_util.py:215: UserWarning: Creating a tensor from a list of numpy.ndarrays is extremely slow. Please consider converting the list to a single numpy.ndarray with numpy.array() before converting to a tensor. (Triggered internally at ../torch/csrc/utils/tensor_new.cpp:274.)\n",
      "  return torch.tensor(smoothed_predictions, device=predictions.device)\n"
     ]
    },
    {
     "name": "stdout",
     "output_type": "stream",
     "text": [
      "Precision: 0.4339, Recall: 0.5488, F1 Score: 0.4825, Dice Score: 0.4825, Accuracy: 0.7693\n",
      "Testing model models/baseline_3ChannelWindowing/image1/serene-sweep-9.pth hyperparameter-finetuned on image 1 testing on images [0, 2, 3, 4]\n",
      "Precision: 0.4479, Recall: 0.5558, F1 Score: 0.4948, Dice Score: 0.4948, Accuracy: 0.7320\n",
      "Testing model models/baseline_3ChannelWindowing/image2/serene-sweep-9.pth hyperparameter-finetuned on image 2 testing on images [0, 1, 3, 4]\n",
      "Precision: 0.3999, Recall: 0.5096, F1 Score: 0.4459, Dice Score: 0.4459, Accuracy: 0.7490\n",
      "Testing model models/baseline_3ChannelWindowing/image3/serene-sweep-9.pth hyperparameter-finetuned on image 3 testing on images [0, 1, 2, 4]\n",
      "Precision: 0.3523, Recall: 0.4823, F1 Score: 0.4065, Dice Score: 0.4065, Accuracy: 0.7404\n",
      "Testing model models/baseline_3ChannelWindowing/image4/serene-sweep-9.pth hyperparameter-finetuned on image 4 testing on images [0, 1, 2, 3]\n",
      "Precision: 0.3720, Recall: 0.4754, F1 Score: 0.4152, Dice Score: 0.4152, Accuracy: 0.7452\n",
      "Average Precision: 0.4012, Average Recall: 0.5144, Average Accuracy: 0.7472, Average Dice Score: 0.4490\n"
     ]
    },
    {
     "data": {
      "text/plain": [
       "(tensor(0.4012, device='cuda:1'),\n",
       " tensor(0.5144, device='cuda:1'),\n",
       " tensor(0.7472, device='cuda:1'),\n",
       " tensor(0.4490, device='cuda:1'))"
      ]
     },
     "execution_count": 1,
     "metadata": {},
     "output_type": "execute_result"
    }
   ],
   "source": [
    "from segmentation_util import (\n",
    "    cross_testing\n",
    ")\n",
    "from FADA.segmentation_model import build_baseline_segmentation_model_with_window_reducer\n",
    "\n",
    "model_params = {\n",
    "    \"architecture\": \"Linknet\",\n",
    "    \"encoder\": \"timm-regnetx_320\",\n",
    "    \"in_channels\": 3,\n",
    "    \"windows_in_nm\": [[600, 1000], [500, 600], [400, 500]],\n",
    "}\n",
    "cross_testing(\n",
    "    \"models/baseline_3ChannelWindowing\",\n",
    "    build_func=build_baseline_segmentation_model_with_window_reducer,\n",
    "    device=\"cuda:1\",\n",
    "    model_params=model_params,\n",
    ")"
   ]
  },
  {
   "cell_type": "markdown",
   "metadata": {},
   "source": [
    "### Plot Results"
   ]
  },
  {
   "cell_type": "code",
   "execution_count": 8,
   "metadata": {},
   "outputs": [
    {
     "data": {
      "image/png": "[encoded data removed]",
      "text/plain": [
       "<Figure size 1400x1000 with 4 Axes>"
      ]
     },
     "metadata": {},
     "output_type": "display_data"
    }
   ],
   "source": [
    "import matplotlib.pyplot as plt\n",
    "import numpy as np\n",
    "\n",
    "approach1 = {\n",
    "    0: {\"Precision\": 0.5352, \"Recall\": 0.6670, \"DiceScore\": 0.5910, \"Accuracy\": 0.8196},\n",
    "    1: {\"Precision\": 0.5303, \"Recall\": 0.7830, \"DiceScore\": 0.6316, \"Accuracy\": 0.7854},\n",
    "    2: {\"Precision\": 0.5292, \"Recall\": 0.6412, \"DiceScore\": 0.5739, \"Accuracy\": 0.8251},\n",
    "    3: {\"Precision\": 0.5170, \"Recall\": 0.6194, \"DiceScore\": 0.5522, \"Accuracy\": 0.8223},\n",
    "    4: {\"Precision\": 0.5572, \"Recall\": 0.6122, \"DiceScore\": 0.5679, \"Accuracy\": 0.8267},\n",
    "}\n",
    "\n",
    "approach2 = {\n",
    "    0: {\"Precision\": 0.5215, \"Recall\": 0.3836, \"DiceScore\": 0.4391, \"Accuracy\": 0.8105},\n",
    "    1: {\"Precision\": 0.5370, \"Recall\": 0.6201, \"DiceScore\": 0.5739, \"Accuracy\": 0.7871},\n",
    "    2: {\"Precision\": 0.5145, \"Recall\": 0.4671, \"DiceScore\": 0.4838, \"Accuracy\": 0.8076},\n",
    "    3: {\"Precision\": 0.4186, \"Recall\": 0.6554, \"DiceScore\": 0.5100, \"Accuracy\": 0.7725},\n",
    "    4: {\"Precision\": 0.4513, \"Recall\": 0.5585, \"DiceScore\": 0.4962, \"Accuracy\": 0.7865},\n",
    "}\n",
    "\n",
    "approach3 = {\n",
    "    0: {\"Precision\": 0.5057, \"Recall\": 0.7008, \"DiceScore\": 0.5851, \"Accuracy\": 0.8076},\n",
    "    1: {\"Precision\": 0.5496, \"Recall\": 0.6445, \"DiceScore\": 0.5901, \"Accuracy\": 0.7969},\n",
    "    2: {\"Precision\": 0.4882, \"Recall\": 0.6959, \"DiceScore\": 0.5640, \"Accuracy\": 0.7975},\n",
    "    3: {\"Precision\": 0.4675, \"Recall\": 0.5350, \"DiceScore\": 0.4882, \"Accuracy\": 0.8040},\n",
    "    4: {\"Precision\": 0.4793, \"Recall\": 0.5797, \"DiceScore\": 0.5174, \"Accuracy\": 0.8007},\n",
    "}\n",
    "\n",
    "baseline_grayscale = {\n",
    "    0: {\"Precision\": 0.6847, \"Recall\": 0.3061, \"DiceScore\": 0.3642, \"Accuracy\": 0.8222},\n",
    "    1: {\"Precision\": 0.5940, \"Recall\": 0.3265, \"DiceScore\": 0.3955, \"Accuracy\": 0.7941},\n",
    "    2: {\"Precision\": 0.6585, \"Recall\": 0.2905, \"DiceScore\": 0.3422, \"Accuracy\": 0.8192},\n",
    "    3: {\"Precision\": 0.6354, \"Recall\": 0.2208, \"DiceScore\": 0.2730, \"Accuracy\": 0.8240},\n",
    "    4: {\"Precision\": 0.6506, \"Recall\": 0.1889, \"DiceScore\": 0.2589, \"Accuracy\": 0.8196},\n",
    "}\n",
    "\n",
    "baseline_3ChannelWindowing = {\n",
    "    0: {\"Precision\": 0.4339, \"Recall\": 0.5488, \"DiceScore\": 0.4825, \"Accuracy\": 0.7693},\n",
    "    1: {\"Precision\": 0.4479, \"Recall\": 0.5558, \"DiceScore\": 0.4948, \"Accuracy\": 0.7320},\n",
    "    2: {\"Precision\": 0.3999, \"Recall\": 0.5096, \"DiceScore\": 0.4459, \"Accuracy\": 0.7490},\n",
    "    3: {\"Precision\": 0.3523, \"Recall\": 0.4823, \"DiceScore\": 0.4065, \"Accuracy\": 0.7404},\n",
    "    4: {\"Precision\": 0.3720, \"Recall\": 0.4754, \"DiceScore\": 0.4152, \"Accuracy\": 0.7452},\n",
    "}\n",
    "\n",
    "approaches = {\n",
    "    \"Approach 1: FADA-Grayscale-Windowing:\": approach1,\n",
    "    \"Approach 2: FADA-Grayscale-Windowing-NoPretraining\": approach2,\n",
    "    \"Approach 3: FADA-3ChannelWindowing\": approach3,\n",
    "    \"Baseline Grayscale\": baseline_grayscale,\n",
    "    \"Baseline 3-Channel Windowing\": baseline_3ChannelWindowing,\n",
    "}\n",
    "\n",
    "metrics = [\"Precision\", \"Recall\", \"DiceScore\", \"Accuracy\"]\n",
    "images = range(5)\n",
    "\n",
    "# Plot settings\n",
    "fig, axes = plt.subplots(2, 2, figsize=(14, 10))\n",
    "axes = axes.flatten()\n",
    "handles, labels = [], []\n",
    "\n",
    "for i, metric in enumerate(metrics):\n",
    "    ax = axes[i]\n",
    "    x = np.arange(len(images))  # Image indices\n",
    "    width = 0.15  # Bar width\n",
    "    \n",
    "    for j, (approach_name, approach_data) in enumerate(approaches.items()):\n",
    "        values = [approach_data[img][metric] for img in images]\n",
    "        bars = ax.bar(x + j * width, values, width, label=approach_name)\n",
    "        \n",
    "        if i == 0:  # Only add labels once\n",
    "            handles.append(bars[0])\n",
    "            labels.append(approach_name)\n",
    "    \n",
    "    ax.set_title(f\"{metric} Comparison\", fontsize=14)\n",
    "    ax.set_xticks(x + width * (len(approaches) - 1) / 2)\n",
    "    ax.set_xticklabels([f\"{set(images) - {img}}\" for img in images], fontsize=10)\n",
    "    ax.set_xlabel(\"Testset\", fontsize=12)\n",
    "    ax.set_ylabel(metric, fontsize=12)\n",
    "    # ax.legend(fontsize=10)\n",
    "    ax.grid(axis=\"y\", linestyle=\"--\", alpha=0.7)\n",
    "\n",
    "fig.legend(handles[:len(approaches)], labels[:len(approaches)], loc='upper center', ncol=len(approaches), fontsize=10)\n",
    "plt.tight_layout(rect=[0, 0, 1, 0.95])  # Adjust layout to accommodate the legend\n",
    "plt.show()"
   ]
  },
  {
   "cell_type": "code",
   "execution_count": 9,
   "metadata": {},
   "outputs": [
    {
     "data": {
      "image/png": "[encoded data removed]",
      "text/plain": [
       "<Figure size 1000x600 with 1 Axes>"
      ]
     },
     "metadata": {},
     "output_type": "display_data"
    }
   ],
   "source": [
    "average_metrics = {approach_name: {metric: np.mean([data[image][metric] for image in images]) \n",
    "                                   for metric in metrics} \n",
    "                   for approach_name, data in approaches.items()}\n",
    "\n",
    "# Prepare data for plotting\n",
    "x = np.arange(len(metrics))  # Metrics indices\n",
    "width = 0.15  # Bar width\n",
    "\n",
    "# Plot\n",
    "fig, ax = plt.subplots(figsize=(10, 6))\n",
    "\n",
    "for i, (approach_name, metrics_data) in enumerate(average_metrics.items()):\n",
    "    values = [metrics_data[metric] for metric in metrics]\n",
    "    ax.bar(x + i * width, values, width, label=approach_name)\n",
    "\n",
    "# Formatting\n",
    "ax.set_title(\"Average Metric Comparison Across Approaches\", fontsize=14)\n",
    "ax.set_xticks(x + width * (len(approaches) - 1) / 2)\n",
    "ax.set_xticklabels(metrics, fontsize=12)\n",
    "ax.set_xlabel(\"Metrics\", fontsize=12)\n",
    "ax.set_ylabel(\"Average Value\", fontsize=12)\n",
    "ax.legend(fontsize=10)\n",
    "ax.grid(axis=\"y\", linestyle=\"--\", alpha=0.7)\n",
    "\n",
    "plt.tight_layout()\n",
    "plt.show()"
   ]
  },
  {
   "cell_type": "code",
   "execution_count": 19,
   "metadata": {},
   "outputs": [
    {
     "data": {
      "text/html": [
       "<div>\n",
       "<style scoped>\n",
       "    .dataframe tbody tr th:only-of-type {\n",
       "        vertical-align: middle;\n",
       "    }\n",
       "\n",
       "    .dataframe tbody tr th {\n",
       "        vertical-align: top;\n",
       "    }\n",
       "\n",
       "    .dataframe thead th {\n",
       "        text-align: right;\n",
       "    }\n",
       "</style>\n",
       "<table border=\"1\" class=\"dataframe\">\n",
       "  <thead>\n",
       "    <tr style=\"text-align: right;\">\n",
       "      <th></th>\n",
       "      <th>Approach</th>\n",
       "      <th>{1, 2, 3, 4}</th>\n",
       "      <th>{0, 2, 3, 4}</th>\n",
       "      <th>{0, 1, 3, 4}</th>\n",
       "      <th>{0, 1, 2, 4}</th>\n",
       "      <th>{0, 1, 2, 3}</th>\n",
       "      <th>Averaged</th>\n",
       "    </tr>\n",
       "  </thead>\n",
       "  <tbody>\n",
       "    <tr>\n",
       "      <th>0</th>\n",
       "      <td>Approach 1: FADA-Grayscale-Windowing:</td>\n",
       "      <td>0.5910</td>\n",
       "      <td>0.6316</td>\n",
       "      <td>0.5739</td>\n",
       "      <td>0.5522</td>\n",
       "      <td>0.5679</td>\n",
       "      <td>0.5833</td>\n",
       "    </tr>\n",
       "    <tr>\n",
       "      <th>1</th>\n",
       "      <td>Approach 2: FADA-Grayscale-Windowing-NoPretrai...</td>\n",
       "      <td>0.4391</td>\n",
       "      <td>0.5739</td>\n",
       "      <td>0.4838</td>\n",
       "      <td>0.5100</td>\n",
       "      <td>0.4962</td>\n",
       "      <td>0.5006</td>\n",
       "    </tr>\n",
       "    <tr>\n",
       "      <th>2</th>\n",
       "      <td>Approach 3: FADA-3ChannelWindowing</td>\n",
       "      <td>0.5851</td>\n",
       "      <td>0.5901</td>\n",
       "      <td>0.5640</td>\n",
       "      <td>0.4882</td>\n",
       "      <td>0.5174</td>\n",
       "      <td>0.5490</td>\n",
       "    </tr>\n",
       "    <tr>\n",
       "      <th>3</th>\n",
       "      <td>Baseline Grayscale</td>\n",
       "      <td>0.3642</td>\n",
       "      <td>0.3955</td>\n",
       "      <td>0.3422</td>\n",
       "      <td>0.2730</td>\n",
       "      <td>0.2589</td>\n",
       "      <td>0.3268</td>\n",
       "    </tr>\n",
       "    <tr>\n",
       "      <th>4</th>\n",
       "      <td>Baseline 3-Channel Windowing</td>\n",
       "      <td>0.4825</td>\n",
       "      <td>0.4948</td>\n",
       "      <td>0.4459</td>\n",
       "      <td>0.4065</td>\n",
       "      <td>0.4152</td>\n",
       "      <td>0.4490</td>\n",
       "    </tr>\n",
       "  </tbody>\n",
       "</table>\n",
       "</div>"
      ],
      "text/plain": [
       "                                            Approach  {1, 2, 3, 4}  \\\n",
       "0              Approach 1: FADA-Grayscale-Windowing:        0.5910   \n",
       "1  Approach 2: FADA-Grayscale-Windowing-NoPretrai...        0.4391   \n",
       "2                 Approach 3: FADA-3ChannelWindowing        0.5851   \n",
       "3                                 Baseline Grayscale        0.3642   \n",
       "4                       Baseline 3-Channel Windowing        0.4825   \n",
       "\n",
       "   {0, 2, 3, 4}  {0, 1, 3, 4}  {0, 1, 2, 4}  {0, 1, 2, 3}  Averaged  \n",
       "0        0.6316        0.5739        0.5522        0.5679    0.5833  \n",
       "1        0.5739        0.4838        0.5100        0.4962    0.5006  \n",
       "2        0.5901        0.5640        0.4882        0.5174    0.5490  \n",
       "3        0.3955        0.3422        0.2730        0.2589    0.3268  \n",
       "4        0.4948        0.4459        0.4065        0.4152    0.4490  "
      ]
     },
     "execution_count": 19,
     "metadata": {},
     "output_type": "execute_result"
    }
   ],
   "source": [
    "import pandas as pd\n",
    "import numpy as np\n",
    "from IPython.display import display\n",
    "\n",
    "# Data\n",
    "approach1 = {\n",
    "    0: {\"Precision\": 0.5352, \"Recall\": 0.6670, \"DiceScore\": 0.5910, \"Accuracy\": 0.8196},\n",
    "    1: {\"Precision\": 0.5303, \"Recall\": 0.7830, \"DiceScore\": 0.6316, \"Accuracy\": 0.7854},\n",
    "    2: {\"Precision\": 0.5292, \"Recall\": 0.6412, \"DiceScore\": 0.5739, \"Accuracy\": 0.8251},\n",
    "    3: {\"Precision\": 0.5170, \"Recall\": 0.6194, \"DiceScore\": 0.5522, \"Accuracy\": 0.8223},\n",
    "    4: {\"Precision\": 0.5572, \"Recall\": 0.6122, \"DiceScore\": 0.5679, \"Accuracy\": 0.8267},\n",
    "}\n",
    "\n",
    "approach2 = {\n",
    "    0: {\"Precision\": 0.5215, \"Recall\": 0.3836, \"DiceScore\": 0.4391, \"Accuracy\": 0.8105},\n",
    "    1: {\"Precision\": 0.5370, \"Recall\": 0.6201, \"DiceScore\": 0.5739, \"Accuracy\": 0.7871},\n",
    "    2: {\"Precision\": 0.5145, \"Recall\": 0.4671, \"DiceScore\": 0.4838, \"Accuracy\": 0.8076},\n",
    "    3: {\"Precision\": 0.4186, \"Recall\": 0.6554, \"DiceScore\": 0.5100, \"Accuracy\": 0.7725},\n",
    "    4: {\"Precision\": 0.4513, \"Recall\": 0.5585, \"DiceScore\": 0.4962, \"Accuracy\": 0.7865},\n",
    "}\n",
    "\n",
    "approach3 = {\n",
    "    0: {\"Precision\": 0.5057, \"Recall\": 0.7008, \"DiceScore\": 0.5851, \"Accuracy\": 0.8076},\n",
    "    1: {\"Precision\": 0.5496, \"Recall\": 0.6445, \"DiceScore\": 0.5901, \"Accuracy\": 0.7969},\n",
    "    2: {\"Precision\": 0.4882, \"Recall\": 0.6959, \"DiceScore\": 0.5640, \"Accuracy\": 0.7975},\n",
    "    3: {\"Precision\": 0.4675, \"Recall\": 0.5350, \"DiceScore\": 0.4882, \"Accuracy\": 0.8040},\n",
    "    4: {\"Precision\": 0.4793, \"Recall\": 0.5797, \"DiceScore\": 0.5174, \"Accuracy\": 0.8007},\n",
    "}\n",
    "\n",
    "baseline_grayscale = {\n",
    "    0: {\"Precision\": 0.6847, \"Recall\": 0.3061, \"DiceScore\": 0.3642, \"Accuracy\": 0.8222},\n",
    "    1: {\"Precision\": 0.5940, \"Recall\": 0.3265, \"DiceScore\": 0.3955, \"Accuracy\": 0.7941},\n",
    "    2: {\"Precision\": 0.6585, \"Recall\": 0.2905, \"DiceScore\": 0.3422, \"Accuracy\": 0.8192},\n",
    "    3: {\"Precision\": 0.6354, \"Recall\": 0.2208, \"DiceScore\": 0.2730, \"Accuracy\": 0.8240},\n",
    "    4: {\"Precision\": 0.6506, \"Recall\": 0.1889, \"DiceScore\": 0.2589, \"Accuracy\": 0.8196},\n",
    "}\n",
    "\n",
    "baseline_3ChannelWindowing = {\n",
    "    0: {\"Precision\": 0.4339, \"Recall\": 0.5488, \"DiceScore\": 0.4825, \"Accuracy\": 0.7693},\n",
    "    1: {\"Precision\": 0.4479, \"Recall\": 0.5558, \"DiceScore\": 0.4948, \"Accuracy\": 0.7320},\n",
    "    2: {\"Precision\": 0.3999, \"Recall\": 0.5096, \"DiceScore\": 0.4459, \"Accuracy\": 0.7490},\n",
    "    3: {\"Precision\": 0.3523, \"Recall\": 0.4823, \"DiceScore\": 0.4065, \"Accuracy\": 0.7404},\n",
    "    4: {\"Precision\": 0.3720, \"Recall\": 0.4754, \"DiceScore\": 0.4152, \"Accuracy\": 0.7452},\n",
    "}\n",
    "\n",
    "approaches = {\n",
    "    \"Approach 1: FADA-Grayscale-Windowing:\": approach1,\n",
    "    \"Approach 2: FADA-Grayscale-Windowing-NoPretraining\": approach2,\n",
    "    \"Approach 3: FADA-3ChannelWindowing\": approach3,\n",
    "    \"Baseline Grayscale\": baseline_grayscale,\n",
    "    \"Baseline 3-Channel Windowing\": baseline_3ChannelWindowing,\n",
    "}\n",
    "\n",
    "metrics = [\"Precision\", \"Recall\", \"DiceScore\", \"Accuracy\"]\n",
    "images = range(5)\n",
    "\n",
    "# Prepare data for the DiceScore table with approaches as rows\n",
    "dice_scores = []\n",
    "\n",
    "# Extract DiceScores for each approach and image\n",
    "for approach_name, data in approaches.items():\n",
    "    row = {\"Approach\": approach_name}\n",
    "    for image in images:\n",
    "        test_indices = set(images) - {image}\n",
    "        row[f\"{test_indices}\"] = round(data[image][\"DiceScore\"], 4)\n",
    "    # Add the average DiceScore for the approach\n",
    "    row[\"Averaged\"] = round(np.mean([data[image][\"DiceScore\"] for image in images]), 4)\n",
    "    dice_scores.append(row)\n",
    "\n",
    "# Convert to DataFrame\n",
    "dice_df_transposed = pd.DataFrame(dice_scores)\n",
    "\n",
    "dice_df_transposed.head(n=6)"
   ]
  }
 ],
 "metadata": {
  "kernelspec": {
   "display_name": ".venv",
   "language": "python",
   "name": "python3"
  },
  "language_info": {
   "codemirror_mode": {
    "name": "ipython",
    "version": 3
   },
   "file_extension": ".py",
   "mimetype": "text/x-python",
   "name": "python",
   "nbconvert_exporter": "python",
   "pygments_lexer": "ipython3",
   "version": "2.7.18"
  }
 },
 "nbformat": 4,
 "nbformat_minor": 2
}
