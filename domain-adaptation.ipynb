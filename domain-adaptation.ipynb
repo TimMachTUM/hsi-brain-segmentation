{
 "cells": [
  {
   "cell_type": "markdown",
   "metadata": {},
   "source": [
    "# Domain Adaptation"
   ]
  },
  {
   "cell_type": "code",
   "execution_count": 1,
   "metadata": {},
   "outputs": [
    {
     "name": "stdout",
     "output_type": "stream",
     "text": [
      "Number of samples in the training set: 640, validation set: 60\n",
      "Number of samples in the test set: 200\n",
      "8 5\n"
     ]
    }
   ],
   "source": [
    "from dataset import build_FIVES_dataloaders, build_hsi_dataloader, HSIDataset\n",
    "from torch.utils.data import DataLoader\n",
    "\n",
    "trainloader_source, validationloader_source, testloader_source = (\n",
    "    build_FIVES_dataloaders(batch_size=16, width=224, height=224, cropped=True)\n",
    ")\n",
    "\n",
    "window=(500, 600)\n",
    "trainloader_target = build_hsi_dataloader(\n",
    "    batch_size=8,\n",
    "    train_split=1,\n",
    "    val_split=0,\n",
    "    test_split=0,\n",
    "    window=window,\n",
    "    exclude_labeled_data=True,\n",
    "    augmented=True,\n",
    ")[0]\n",
    "\n",
    "path = \"./data/helicoid_with_labels\"\n",
    "testset = HSIDataset(path, with_gt=True, window=window)\n",
    "testset.crop_dataset()\n",
    "testloader_target = DataLoader(testset, batch_size=1, shuffle=False)\n",
    "print(len(trainloader_target), len(testloader_target))"
   ]
  },
  {
   "cell_type": "markdown",
   "metadata": {},
   "source": [
    "## Evaluation of Model without Domain Adaptation on Target Testset"
   ]
  },
  {
   "cell_type": "markdown",
   "metadata": {},
   "source": [
    "### Transfer Learning"
   ]
  },
  {
   "cell_type": "code",
   "execution_count": 3,
   "metadata": {},
   "outputs": [
    {
     "name": "stdout",
     "output_type": "stream",
     "text": [
      "Precision: nan, Recall: 0.0239, F1 Score: 0.0410, Dice Score: 0.0410, Accuracy: 0.7850\n"
     ]
    },
    {
     "data": {
      "text/plain": [
       "(tensor(nan, device='cuda:3'),\n",
       " tensor(0.0239, device='cuda:3'),\n",
       " tensor(0.0410, device='cuda:3'),\n",
       " tensor(0.7850, device='cuda:3'),\n",
       " tensor(0.0410, device='cuda:3'))"
      ]
     },
     "execution_count": 3,
     "metadata": {},
     "output_type": "execute_result"
    }
   ],
   "source": [
    "from segmentation_util import evaluate_model, build_segmentation_model\n",
    "import torch\n",
    "device = torch.device(\"cuda:3\" if torch.cuda.is_available() else \"cpu\")\n",
    "model = build_segmentation_model('resnet50', 'Unet', device, in_channels=1)\n",
    "\n",
    "evaluate_model(\n",
    "    model, testloader_target, device, with_wandb=False\n",
    ")"
   ]
  },
  {
   "cell_type": "markdown",
   "metadata": {},
   "source": [
    "### Ensemble Model"
   ]
  },
  {
   "cell_type": "code",
   "execution_count": null,
   "metadata": {},
   "outputs": [
    {
     "name": "stdout",
     "output_type": "stream",
     "text": [
      "Precision: 0.5368, Recall: 0.2351, F1 Score: 0.3072, Dice Score: 0.3072, Accuracy: 0.8104\n"
     ]
    },
    {
     "data": {
      "text/plain": [
       "(tensor(0.5368, device='cuda:3'),\n",
       " tensor(0.2351, device='cuda:3'),\n",
       " tensor(0.3072, device='cuda:3'),\n",
       " tensor(0.8104, device='cuda:3'),\n",
       " tensor(0.3072, device='cuda:3'))"
      ]
     },
     "execution_count": 3,
     "metadata": {},
     "output_type": "execute_result"
    }
   ],
   "source": [
    "from HSI_Net import SegmentationModelWithWindowing\n",
    "from segmentation_util import build_segmentation_model, evaluate_model\n",
    "from ensemble_model import EnsembleModelAverage\n",
    "import segmentation_models_pytorch as smp\n",
    "import torch\n",
    "\n",
    "path = \"./data/helicoid_with_labels\"\n",
    "testset = HSIDataset(path, with_gt=True)\n",
    "testset.crop_dataset()\n",
    "testloader_target = DataLoader(testset, batch_size=1, shuffle=False)\n",
    "\n",
    "encoder = 'timm-regnetx_320'\n",
    "architecture = 'Linknet'\n",
    "device = ('cuda:3' if torch.cuda.is_available() else 'cpu')\n",
    "\n",
    "segmenter_single_channel = build_segmentation_model(encoder, architecture, device)\n",
    "segmenter_single_channel.load_state_dict(torch.load('./models/{architecture}-{encoder}-512x512-augmented-with-random-crops-single-channel-focal.pth'.format(architecture=architecture, encoder=encoder)))\n",
    "segmenter_single_channel.eval()\n",
    "\n",
    "window1 = (400, 500)\n",
    "window2 = (500, 600)\n",
    "window3 = (600, 700)\n",
    "window4 = (700, 800)\n",
    "window5 = (800, 900)\n",
    "window6 = (900, 1000)\n",
    "window_full = (400, 1100)\n",
    "\n",
    "\n",
    "model_windowing_400to500 = SegmentationModelWithWindowing(segmenter_single_channel, window=testset.get_window_from_wavelengths(window1))\n",
    "model_with_windowing_500to600 = SegmentationModelWithWindowing(segmenter_single_channel, window=testset.get_window_from_wavelengths(window2))\n",
    "model_windowing_600to700 = SegmentationModelWithWindowing(segmenter_single_channel, window=testset.get_window_from_wavelengths(window3))\n",
    "model_windowing_700to800 = SegmentationModelWithWindowing(segmenter_single_channel, window=testset.get_window_from_wavelengths(window4))\n",
    "model_windowing_800to900 = SegmentationModelWithWindowing(segmenter_single_channel, window=testset.get_window_from_wavelengths(window5))\n",
    "model_windowing_900to1000 = SegmentationModelWithWindowing(segmenter_single_channel, window=testset.get_window_from_wavelengths(window6))\n",
    "model_window_full = SegmentationModelWithWindowing(segmenter_single_channel, window=testset.get_window_from_wavelengths(window_full))\n",
    "\n",
    "model = EnsembleModelAverage([model_windowing_400to500, model_with_windowing_500to600, model_windowing_600to700, model_windowing_700to800, model_windowing_900to1000, model_window_full])\n",
    "evaluate_model(model, testloader_target, device, with_wandb=False)"
   ]
  },
  {
   "cell_type": "markdown",
   "metadata": {},
   "source": [
    "## Domain Adaptation Approaches:\n",
    "### GRL domain adaptation"
   ]
  },
  {
   "cell_type": "code",
   "execution_count": 2,
   "metadata": {},
   "outputs": [
    {
     "name": "stderr",
     "output_type": "stream",
     "text": [
      "Failed to detect the name of this notebook, you can set it manually with the WANDB_NOTEBOOK_NAME environment variable to enable code saving.\n",
      "\u001b[34m\u001b[1mwandb\u001b[0m: Currently logged in as: \u001b[33mtim-mach\u001b[0m (\u001b[33midp2024\u001b[0m). Use \u001b[1m`wandb login --relogin`\u001b[0m to force relogin\n"
     ]
    },
    {
     "data": {
      "text/html": [
       "wandb version 0.18.5 is available!  To upgrade, please run:\n",
       " $ pip install wandb --upgrade"
      ],
      "text/plain": [
       "<IPython.core.display.HTML object>"
      ]
     },
     "metadata": {},
     "output_type": "display_data"
    },
    {
     "data": {
      "text/html": [
       "Tracking run with wandb version 0.16.6"
      ],
      "text/plain": [
       "<IPython.core.display.HTML object>"
      ]
     },
     "metadata": {},
     "output_type": "display_data"
    },
    {
     "data": {
      "text/html": [
       "Run data is saved locally in <code>/home/home/tim_ivan/idp/wandb/run-20241106_173005-imcomz1t</code>"
      ],
      "text/plain": [
       "<IPython.core.display.HTML object>"
      ]
     },
     "metadata": {},
     "output_type": "display_data"
    },
    {
     "data": {
      "text/html": [
       "Syncing run <strong><a href='https://wandb.ai/idp2024/domain-adaptation/runs/imcomz1t' target=\"_blank\">GRL-Linknet-timm-regnetx_320-window_500-600-pretrained-augmented_target</a></strong> to <a href='https://wandb.ai/idp2024/domain-adaptation' target=\"_blank\">Weights & Biases</a> (<a href='https://wandb.me/run' target=\"_blank\">docs</a>)<br/>"
      ],
      "text/plain": [
       "<IPython.core.display.HTML object>"
      ]
     },
     "metadata": {},
     "output_type": "display_data"
    },
    {
     "data": {
      "text/html": [
       " View project at <a href='https://wandb.ai/idp2024/domain-adaptation' target=\"_blank\">https://wandb.ai/idp2024/domain-adaptation</a>"
      ],
      "text/plain": [
       "<IPython.core.display.HTML object>"
      ]
     },
     "metadata": {},
     "output_type": "display_data"
    },
    {
     "data": {
      "text/html": [
       " View run at <a href='https://wandb.ai/idp2024/domain-adaptation/runs/imcomz1t' target=\"_blank\">https://wandb.ai/idp2024/domain-adaptation/runs/imcomz1t</a>"
      ],
      "text/plain": [
       "<IPython.core.display.HTML object>"
      ]
     },
     "metadata": {},
     "output_type": "display_data"
    },
    {
     "name": "stdout",
     "output_type": "stream",
     "text": [
      "Loading pretrained model from ./models/Linknet-timm-regnetx_320-512x512-augmented-with-random-crops-single-channel-focal.pth\n"
     ]
    },
    {
     "name": "stderr",
     "output_type": "stream",
     "text": [
      "/home/home/tim_ivan/idp/.venv/lib/python3.8/site-packages/torch/nn/modules/conv.py:456: UserWarning: Plan failed with a cudnnException: CUDNN_BACKEND_EXECUTION_PLAN_DESCRIPTOR: cudnnFinalize Descriptor Failed cudnn_status: CUDNN_STATUS_NOT_SUPPORTED (Triggered internally at ../aten/src/ATen/native/cudnn/Conv_v8.cpp:919.)\n",
      "  return F.conv2d(input, weight, bias, self.stride,\n",
      "/home/home/tim_ivan/idp/.venv/lib/python3.8/site-packages/torch/autograd/graph.py:744: UserWarning: Plan failed with a cudnnException: CUDNN_BACKEND_EXECUTION_PLAN_DESCRIPTOR: cudnnFinalize Descriptor Failed cudnn_status: CUDNN_STATUS_NOT_SUPPORTED (Triggered internally at ../aten/src/ATen/native/cudnn/Conv_v8.cpp:919.)\n",
      "  return Variable._execution_engine.run_backward(  # Calls into the C++ engine to run the backward pass\n",
      "/home/home/tim_ivan/idp/.venv/lib/python3.8/site-packages/torch/nn/modules/conv.py:456: UserWarning: Plan failed with a cudnnException: CUDNN_BACKEND_EXECUTION_PLAN_DESCRIPTOR: cudnnFinalize Descriptor Failed cudnn_status: CUDNN_STATUS_NOT_SUPPORTED (Triggered internally at ../aten/src/ATen/native/cudnn/Conv_v8.cpp:919.)\n",
      "  return F.conv2d(input, weight, bias, self.stride,\n"
     ]
    },
    {
     "name": "stdout",
     "output_type": "stream",
     "text": [
      "Epoch 1, Batch 10/40, Total Loss: 4.3466, Segmentation Loss: 0.7781, Domain Loss Source: 0.3439, Domain Loss Target: 1.2840\n",
      "Epoch 1, Batch 20/40, Total Loss: 2.3114, Segmentation Loss: 0.8487, Domain Loss Source: 0.4021, Domain Loss Target: 0.9387\n",
      "Epoch 1, Batch 30/40, Total Loss: 2.0392, Segmentation Loss: 0.6678, Domain Loss Source: 0.9815, Domain Loss Target: 0.3280\n",
      "Epoch 1, Batch 40/40, Total Loss: 1.9166, Segmentation Loss: 0.6069, Domain Loss Source: 0.5327, Domain Loss Target: 0.6204\n",
      "Epoch 1, Train Loss: 2.6535\n",
      "Evaluating model performance on source data\n",
      "Precision: 0.4241, Recall: 0.2483, F1 Score: 0.3076, Dice Score: 0.3076, Accuracy: 0.9671\n",
      "Evaluating model performance on target data\n",
      "Precision: 0.4526, Recall: 0.5617, F1 Score: 0.4858, Dice Score: 0.4858, Accuracy: 0.7719\n",
      "Epoch 1, Validation Loss Source: 0.7438, Validation Loss Target: 0.5408\n",
      "Epoch 2, Batch 10/40, Total Loss: 1.9330, Segmentation Loss: 0.6071, Domain Loss Source: 0.7142, Domain Loss Target: 0.4595\n",
      "Epoch 2, Batch 20/40, Total Loss: 1.8759, Segmentation Loss: 0.6908, Domain Loss Source: 0.6151, Domain Loss Target: 0.6595\n",
      "Epoch 2, Batch 30/40, Total Loss: 1.8311, Segmentation Loss: 0.4628, Domain Loss Source: 0.5417, Domain Loss Target: 0.7071\n",
      "Epoch 2, Batch 40/40, Total Loss: 1.7680, Segmentation Loss: 0.4274, Domain Loss Source: 0.8596, Domain Loss Target: 0.3744\n",
      "Epoch 2, Train Loss: 1.8520\n",
      "Evaluating model performance on source data\n",
      "Precision: 0.6411, Recall: 0.2765, F1 Score: 0.3829, Dice Score: 0.3829, Accuracy: 0.9732\n",
      "Evaluating model performance on target data\n",
      "Precision: 0.5094, Recall: 0.5210, F1 Score: 0.5004, Dice Score: 0.5004, Accuracy: 0.8020\n",
      "Epoch 2, Validation Loss Source: 0.6324, Validation Loss Target: 0.5114\n",
      "Epoch 3, Batch 10/40, Total Loss: 1.8060, Segmentation Loss: 0.4749, Domain Loss Source: 0.6513, Domain Loss Target: 0.5693\n",
      "Epoch 3, Batch 20/40, Total Loss: 1.7448, Segmentation Loss: 0.5595, Domain Loss Source: 0.6745, Domain Loss Target: 0.6418\n",
      "Epoch 3, Batch 30/40, Total Loss: 1.6948, Segmentation Loss: 0.3504, Domain Loss Source: 0.3644, Domain Loss Target: 0.8328\n",
      "Epoch 3, Batch 40/40, Total Loss: 1.8651, Segmentation Loss: 0.3473, Domain Loss Source: 0.5371, Domain Loss Target: 0.6927\n",
      "Epoch 3, Train Loss: 1.7777\n",
      "Evaluating model performance on source data\n",
      "Precision: 0.7602, Recall: 0.2677, F1 Score: 0.3909, Dice Score: 0.3909, Accuracy: 0.9750\n",
      "Evaluating model performance on target data\n",
      "Precision: 0.4685, Recall: 0.4913, F1 Score: 0.4658, Dice Score: 0.4658, Accuracy: 0.7864\n",
      "Epoch 3, Validation Loss Source: 0.5891, Validation Loss Target: 0.5338\n",
      "Epoch 4, Batch 10/40, Total Loss: 1.7656, Segmentation Loss: 0.4238, Domain Loss Source: 0.7207, Domain Loss Target: 0.5996\n",
      "Epoch 4, Batch 20/40, Total Loss: 1.8165, Segmentation Loss: 0.4780, Domain Loss Source: 0.6945, Domain Loss Target: 0.7546\n",
      "Epoch 4, Batch 30/40, Total Loss: 1.7397, Segmentation Loss: 0.2847, Domain Loss Source: 0.8627, Domain Loss Target: 0.5150\n",
      "Epoch 4, Batch 40/40, Total Loss: 1.7956, Segmentation Loss: 0.3285, Domain Loss Source: 0.5936, Domain Loss Target: 0.8336\n",
      "Epoch 4, Train Loss: 1.7794\n",
      "Evaluating model performance on source data\n",
      "Precision: 0.7524, Recall: 0.2904, F1 Score: 0.4139, Dice Score: 0.4139, Accuracy: 0.9752\n",
      "Evaluating model performance on target data\n",
      "Precision: 0.4763, Recall: 0.4926, F1 Score: 0.4730, Dice Score: 0.4730, Accuracy: 0.7939\n",
      "Epoch 4, Validation Loss Source: 0.5592, Validation Loss Target: 0.5276\n",
      "Epoch 5, Batch 10/40, Total Loss: 1.7499, Segmentation Loss: 0.3780, Domain Loss Source: 0.7143, Domain Loss Target: 0.6230\n",
      "Epoch 5, Batch 20/40, Total Loss: 1.5607, Segmentation Loss: 0.4277, Domain Loss Source: 0.6244, Domain Loss Target: 0.4570\n",
      "Epoch 5, Batch 30/40, Total Loss: 1.5076, Segmentation Loss: 0.2680, Domain Loss Source: 0.6185, Domain Loss Target: 0.4451\n",
      "Epoch 5, Batch 40/40, Total Loss: 1.9651, Segmentation Loss: 0.3079, Domain Loss Source: 1.1946, Domain Loss Target: 0.6016\n",
      "Epoch 5, Train Loss: 1.6958\n",
      "Evaluating model performance on source data\n",
      "Precision: 0.7152, Recall: 0.3412, F1 Score: 0.4563, Dice Score: 0.4563, Accuracy: 0.9754\n",
      "Evaluating model performance on target data\n",
      "Precision: 0.4883, Recall: 0.5061, F1 Score: 0.4906, Dice Score: 0.4906, Accuracy: 0.8008\n",
      "Epoch 5, Validation Loss Source: 0.5287, Validation Loss Target: 0.5098\n",
      "Epoch 6, Batch 10/40, Total Loss: 2.1098, Segmentation Loss: 0.3942, Domain Loss Source: 0.9357, Domain Loss Target: 0.6393\n",
      "Epoch 6, Batch 20/40, Total Loss: 1.8512, Segmentation Loss: 0.4492, Domain Loss Source: 0.6860, Domain Loss Target: 0.9083\n",
      "Epoch 6, Batch 30/40, Total Loss: 2.0640, Segmentation Loss: 0.2734, Domain Loss Source: 1.0395, Domain Loss Target: 0.6581\n",
      "Epoch 6, Batch 40/40, Total Loss: 2.0066, Segmentation Loss: 0.3031, Domain Loss Source: 0.6155, Domain Loss Target: 0.9146\n",
      "Epoch 6, Train Loss: 2.0079\n",
      "Evaluating model performance on source data\n",
      "Precision: 0.7580, Recall: 0.2824, F1 Score: 0.4059, Dice Score: 0.4059, Accuracy: 0.9751\n",
      "Evaluating model performance on target data\n",
      "Precision: 0.4514, Recall: 0.4829, F1 Score: 0.4539, Dice Score: 0.4539, Accuracy: 0.7862\n",
      "Epoch 6, Validation Loss Source: 0.5502, Validation Loss Target: 0.5452\n",
      "Epoch 7, Batch 10/40, Total Loss: 1.6593, Segmentation Loss: 0.3899, Domain Loss Source: 0.7395, Domain Loss Target: 0.5124\n",
      "Epoch 7, Batch 20/40, Total Loss: 1.7182, Segmentation Loss: 0.4313, Domain Loss Source: 0.6735, Domain Loss Target: 0.8319\n",
      "Epoch 7, Batch 30/40, Total Loss: 1.6503, Segmentation Loss: 0.2494, Domain Loss Source: 0.5065, Domain Loss Target: 0.5597\n",
      "Epoch 7, Batch 40/40, Total Loss: 1.9237, Segmentation Loss: 0.3242, Domain Loss Source: 1.4870, Domain Loss Target: 0.3864\n",
      "Epoch 7, Train Loss: 1.7379\n",
      "Evaluating model performance on source data\n",
      "Precision: 0.7601, Recall: 0.3164, F1 Score: 0.4419, Dice Score: 0.4419, Accuracy: 0.9758\n",
      "Evaluating model performance on target data\n",
      "Precision: 0.4834, Recall: 0.5173, F1 Score: 0.4877, Dice Score: 0.4877, Accuracy: 0.7943\n",
      "Epoch 7, Validation Loss Source: 0.5335, Validation Loss Target: 0.5127\n",
      "Epoch 8, Batch 10/40, Total Loss: 2.6932, Segmentation Loss: 0.3790, Domain Loss Source: 2.8490, Domain Loss Target: 0.3339\n",
      "Epoch 8, Batch 20/40, Total Loss: 3.3149, Segmentation Loss: 0.3952, Domain Loss Source: 1.2579, Domain Loss Target: 1.2301\n",
      "Epoch 8, Batch 30/40, Total Loss: 2.3766, Segmentation Loss: 0.2480, Domain Loss Source: 0.3766, Domain Loss Target: 0.8690\n",
      "Epoch 8, Batch 40/40, Total Loss: 1.9582, Segmentation Loss: 0.3118, Domain Loss Source: 0.9627, Domain Loss Target: 0.5656\n",
      "Epoch 8, Train Loss: 2.5857\n",
      "Evaluating model performance on source data\n",
      "Precision: 0.7313, Recall: 0.3315, F1 Score: 0.4501, Dice Score: 0.4501, Accuracy: 0.9755\n",
      "Evaluating model performance on target data\n",
      "Precision: 0.4649, Recall: 0.4834, F1 Score: 0.4590, Dice Score: 0.4590, Accuracy: 0.7883\n",
      "Epoch 8, Validation Loss Source: 0.5199, Validation Loss Target: 0.5400\n",
      "Epoch 9, Batch 10/40, Total Loss: 1.8919, Segmentation Loss: 0.3677, Domain Loss Source: 0.5665, Domain Loss Target: 0.7796\n",
      "Epoch 9, Batch 20/40, Total Loss: 1.6109, Segmentation Loss: 0.3871, Domain Loss Source: 0.7746, Domain Loss Target: 0.5341\n",
      "Epoch 9, Batch 30/40, Total Loss: 1.6642, Segmentation Loss: 0.2256, Domain Loss Source: 0.5380, Domain Loss Target: 0.8019\n",
      "Epoch 9, Batch 40/40, Total Loss: 1.7817, Segmentation Loss: 0.3010, Domain Loss Source: 0.6485, Domain Loss Target: 0.8580\n",
      "Epoch 9, Train Loss: 1.7372\n",
      "Evaluating model performance on source data\n",
      "Precision: 0.7465, Recall: 0.3360, F1 Score: 0.4573, Dice Score: 0.4573, Accuracy: 0.9758\n",
      "Evaluating model performance on target data\n",
      "Precision: 0.4655, Recall: 0.4488, F1 Score: 0.4358, Dice Score: 0.4358, Accuracy: 0.7928\n",
      "Epoch 9, Validation Loss Source: 0.5044, Validation Loss Target: 0.5640\n",
      "Epoch 10, Batch 10/40, Total Loss: 1.8479, Segmentation Loss: 0.3593, Domain Loss Source: 0.7066, Domain Loss Target: 0.8372\n",
      "Epoch 10, Batch 20/40, Total Loss: 1.9409, Segmentation Loss: 0.3623, Domain Loss Source: 0.8461, Domain Loss Target: 0.9186\n",
      "Epoch 10, Batch 30/40, Total Loss: 1.9378, Segmentation Loss: 0.2356, Domain Loss Source: 0.6200, Domain Loss Target: 0.7598\n",
      "Epoch 10, Batch 40/40, Total Loss: 1.7510, Segmentation Loss: 0.2786, Domain Loss Source: 0.7921, Domain Loss Target: 0.4870\n",
      "Epoch 10, Train Loss: 1.8694\n",
      "Evaluating model performance on source data\n",
      "Precision: 0.6702, Recall: 0.3935, F1 Score: 0.4913, Dice Score: 0.4913, Accuracy: 0.9753\n",
      "Evaluating model performance on target data\n",
      "Precision: 0.4597, Recall: 0.5079, F1 Score: 0.4709, Dice Score: 0.4709, Accuracy: 0.7868\n",
      "Epoch 10, Validation Loss Source: 0.4802, Validation Loss Target: 0.5287\n",
      "Precision: 0.5094, Recall: 0.5210, F1 Score: 0.5004, Dice Score: 0.5004, Accuracy: 0.8020\n"
     ]
    },
    {
     "data": {
      "application/vnd.jupyter.widget-view+json": {
       "model_id": "33c9c17940dc4fc78c652de7d87d8220",
       "version_major": 2,
       "version_minor": 0
      },
      "text/plain": [
       "VBox(children=(Label(value='907.843 MB of 907.843 MB uploaded\\r'), FloatProgress(value=1.0, max=1.0)))"
      ]
     },
     "metadata": {},
     "output_type": "display_data"
    },
    {
     "data": {
      "text/html": [
       "<style>\n",
       "    table.wandb td:nth-child(1) { padding: 0 10px; text-align: left ; width: auto;} td:nth-child(2) {text-align: left ; width: 100%}\n",
       "    .wandb-row { display: flex; flex-direction: row; flex-wrap: wrap; justify-content: flex-start; width: 100% }\n",
       "    .wandb-col { display: flex; flex-direction: column; flex-basis: 100%; flex: 1; padding: 10px; }\n",
       "    </style>\n",
       "<div class=\"wandb-row\"><div class=\"wandb-col\"><h3>Run history:</h3><br/><table class=\"wandb\"><tr><td>dice_score/source</td><td>▁▄▄▅▇▅▆▆▇█</td></tr><tr><td>dice_score/target</td><td>▆█▄▅▇▃▇▄▁▅</td></tr><tr><td>epoch</td><td>▁▂▃▃▄▅▆▆▇█</td></tr><tr><td>precision/source</td><td>▁▆██▇██▇█▆</td></tr><tr><td>precision/target</td><td>▁█▃▄▅▁▅▃▃▂</td></tr><tr><td>test/accuracy</td><td>▁</td></tr><tr><td>test/dice_score</td><td>▁</td></tr><tr><td>test/f1_score</td><td>▁</td></tr><tr><td>test/precision</td><td>▁</td></tr><tr><td>test/recall</td><td>▁</td></tr><tr><td>train/domain_loss</td><td>▆▁▁▂▁▄▂█▂▃</td></tr><tr><td>train/loss</td><td>█▂▂▂▁▃▁█▁▂</td></tr><tr><td>val/loss_source</td><td>█▅▄▃▂▃▂▂▂▁</td></tr><tr><td>val/loss_target</td><td>▅▁▄▃▁▆▁▅█▃</td></tr></table><br/></div><div class=\"wandb-col\"><h3>Run summary:</h3><br/><table class=\"wandb\"><tr><td>dice_score/source</td><td>0.49134</td></tr><tr><td>dice_score/target</td><td>0.47091</td></tr><tr><td>epoch</td><td>10</td></tr><tr><td>precision/source</td><td>0.67017</td></tr><tr><td>precision/target</td><td>0.45972</td></tr><tr><td>test/accuracy</td><td>0.80202</td></tr><tr><td>test/dice_score</td><td>0.50038</td></tr><tr><td>test/f1_score</td><td>0.50038</td></tr><tr><td>test/precision</td><td>0.50937</td></tr><tr><td>test/recall</td><td>0.52104</td></tr><tr><td>train/domain_loss</td><td>1.5455</td></tr><tr><td>train/loss</td><td>1.86937</td></tr><tr><td>val/loss_source</td><td>0.48019</td></tr><tr><td>val/loss_target</td><td>0.52873</td></tr></table><br/></div></div>"
      ],
      "text/plain": [
       "<IPython.core.display.HTML object>"
      ]
     },
     "metadata": {},
     "output_type": "display_data"
    },
    {
     "data": {
      "text/html": [
       " View run <strong style=\"color:#cdcd00\">GRL-Linknet-timm-regnetx_320-window_500-600-pretrained-augmented_target</strong> at: <a href='https://wandb.ai/idp2024/domain-adaptation/runs/imcomz1t' target=\"_blank\">https://wandb.ai/idp2024/domain-adaptation/runs/imcomz1t</a><br/> View project at: <a href='https://wandb.ai/idp2024/domain-adaptation' target=\"_blank\">https://wandb.ai/idp2024/domain-adaptation</a><br/>Synced 5 W&B file(s), 180 media file(s), 2 artifact file(s) and 0 other file(s)"
      ],
      "text/plain": [
       "<IPython.core.display.HTML object>"
      ]
     },
     "metadata": {},
     "output_type": "display_data"
    },
    {
     "data": {
      "text/html": [
       "Find logs at: <code>./wandb/run-20241106_173005-imcomz1t/logs</code>"
      ],
      "text/plain": [
       "<IPython.core.display.HTML object>"
      ]
     },
     "metadata": {},
     "output_type": "display_data"
    },
    {
     "data": {
      "image/png": "[encoded data removed]",
      "text/plain": [
       "<Figure size 1000x600 with 1 Axes>"
      ]
     },
     "metadata": {},
     "output_type": "display_data"
    }
   ],
   "source": [
    "import matplotlib.pyplot as plt\n",
    "import torch\n",
    "from domain_adaptation_training import model_pipeline\n",
    "\n",
    "encoder = \"timm-regnetx_320\"\n",
    "architecture = \"Linknet\"\n",
    "device = torch.device(\"cuda:3\" if torch.cuda.is_available() else \"cpu\")\n",
    "lambda_param = 0.5\n",
    "learning_rate = 0.001\n",
    "loss = \"Dice\"\n",
    "epochs = 10\n",
    "in_channels = 1\n",
    "hidden_dim = 256\n",
    "\n",
    "config = {\n",
    "    \"model\": \"GRL-{architecture}-{encoder}-window_{window[0]}-{window[1]}-pretrained-augmented_target\".format(\n",
    "        architecture=architecture, encoder=encoder, window=window\n",
    "    ),\n",
    "    \"encoder\": encoder,\n",
    "    \"architecture\": architecture,\n",
    "    \"learning_rate\": learning_rate,\n",
    "    \"optimizer\": \"Adam\",\n",
    "    \"lambda_param\": lambda_param,\n",
    "    \"batch_size_source\": trainloader_source.batch_size,\n",
    "    \"batch_size_target\": trainloader_target.batch_size,\n",
    "    \"hidden_dim\": hidden_dim,\n",
    "    \"epochs\": epochs,\n",
    "    \"loss\": loss,\n",
    "    \"in_channels\": in_channels,\n",
    "    \"pretrained\": './models/Linknet-timm-regnetx_320-512x512-augmented-with-random-crops-single-channel-focal.pth'\n",
    "}\n",
    "\n",
    "model, train_losses, domain_losses, val_losses_source, val_losses_target = model_pipeline(\n",
    "    trainloader_source,\n",
    "    validationloader_source,\n",
    "    testloader_source,\n",
    "    trainloader_target,\n",
    "    testloader_target,\n",
    "    config,\n",
    "    project=\"domain-adaptation\",\n",
    "    device=device,\n",
    "    batch_print=10,\n",
    "    evaluate=True,\n",
    "    with_overlays=True,\n",
    ")\n",
    "\n",
    "# Plotting the training and validation loss curves\n",
    "plt.figure(figsize=(10, 6))\n",
    "plt.plot(train_losses, label=\"Combined Training Loss\")\n",
    "plt.plot(domain_losses, label=\"Domain Loss\")\n",
    "plt.plot(val_losses_source, label=\"Validation Loss Source\")\n",
    "plt.plot(val_losses_target, label=\"Validation Loss Target\")\n",
    "plt.xlabel(\"Epochs\")\n",
    "plt.ylabel(\"Loss\")\n",
    "plt.title(\"Training and Validation Loss Curves\")\n",
    "plt.legend()\n",
    "plt.show()"
   ]
  },
  {
   "cell_type": "markdown",
   "metadata": {},
   "source": [
    "### FADA:"
   ]
  },
  {
   "cell_type": "code",
   "execution_count": 2,
   "metadata": {},
   "outputs": [
    {
     "name": "stderr",
     "output_type": "stream",
     "text": [
      "Failed to detect the name of this notebook, you can set it manually with the WANDB_NOTEBOOK_NAME environment variable to enable code saving.\n",
      "\u001b[34m\u001b[1mwandb\u001b[0m: Currently logged in as: \u001b[33mtim-mach\u001b[0m (\u001b[33midp2024\u001b[0m). Use \u001b[1m`wandb login --relogin`\u001b[0m to force relogin\n"
     ]
    },
    {
     "data": {
      "text/html": [
       "wandb version 0.18.5 is available!  To upgrade, please run:\n",
       " $ pip install wandb --upgrade"
      ],
      "text/plain": [
       "<IPython.core.display.HTML object>"
      ]
     },
     "metadata": {},
     "output_type": "display_data"
    },
    {
     "data": {
      "text/html": [
       "Tracking run with wandb version 0.16.6"
      ],
      "text/plain": [
       "<IPython.core.display.HTML object>"
      ]
     },
     "metadata": {},
     "output_type": "display_data"
    },
    {
     "data": {
      "text/html": [
       "Run data is saved locally in <code>/home/home/tim_ivan/idp/wandb/run-20241106_175845-twuzawgb</code>"
      ],
      "text/plain": [
       "<IPython.core.display.HTML object>"
      ]
     },
     "metadata": {},
     "output_type": "display_data"
    },
    {
     "data": {
      "text/html": [
       "Syncing run <strong><a href='https://wandb.ai/idp2024/domain-adaptation/runs/twuzawgb' target=\"_blank\">FADA-Linknet-timm-regnetx_320-cropped-window_500-600_pretrained-augmented_target</a></strong> to <a href='https://wandb.ai/idp2024/domain-adaptation' target=\"_blank\">Weights & Biases</a> (<a href='https://wandb.me/run' target=\"_blank\">docs</a>)<br/>"
      ],
      "text/plain": [
       "<IPython.core.display.HTML object>"
      ]
     },
     "metadata": {},
     "output_type": "display_data"
    },
    {
     "data": {
      "text/html": [
       " View project at <a href='https://wandb.ai/idp2024/domain-adaptation' target=\"_blank\">https://wandb.ai/idp2024/domain-adaptation</a>"
      ],
      "text/plain": [
       "<IPython.core.display.HTML object>"
      ]
     },
     "metadata": {},
     "output_type": "display_data"
    },
    {
     "data": {
      "text/html": [
       " View run at <a href='https://wandb.ai/idp2024/domain-adaptation/runs/twuzawgb' target=\"_blank\">https://wandb.ai/idp2024/domain-adaptation/runs/twuzawgb</a>"
      ],
      "text/plain": [
       "<IPython.core.display.HTML object>"
      ]
     },
     "metadata": {},
     "output_type": "display_data"
    },
    {
     "name": "stdout",
     "output_type": "stream",
     "text": [
      "Loading pretrained model from ./models/Linknet-timm-regnetx_320-512x512-augmented-with-random-crops-single-channel-focal.pth\n"
     ]
    },
    {
     "name": "stderr",
     "output_type": "stream",
     "text": [
      "/home/home/tim_ivan/idp/.venv/lib/python3.8/site-packages/torch/nn/modules/conv.py:456: UserWarning: Plan failed with a cudnnException: CUDNN_BACKEND_EXECUTION_PLAN_DESCRIPTOR: cudnnFinalize Descriptor Failed cudnn_status: CUDNN_STATUS_NOT_SUPPORTED (Triggered internally at ../aten/src/ATen/native/cudnn/Conv_v8.cpp:919.)\n",
      "  return F.conv2d(input, weight, bias, self.stride,\n",
      "/home/home/tim_ivan/idp/.venv/lib/python3.8/site-packages/torch/autograd/graph.py:744: UserWarning: Plan failed with a cudnnException: CUDNN_BACKEND_EXECUTION_PLAN_DESCRIPTOR: cudnnFinalize Descriptor Failed cudnn_status: CUDNN_STATUS_NOT_SUPPORTED (Triggered internally at ../aten/src/ATen/native/cudnn/Conv_v8.cpp:919.)\n",
      "  return Variable._execution_engine.run_backward(  # Calls into the C++ engine to run the backward pass\n"
     ]
    },
    {
     "name": "stdout",
     "output_type": "stream",
     "text": [
      "Epoch 1, Batch 10/40, Total Loss: 0.9472, Segmentation Loss: 0.3088, Domain Loss Source: 0.2891, Domain Loss Target: 0.2266, Adversarial Loss Target: 0.0009\n",
      "Epoch 1, Batch 20/40, Total Loss: 0.8102, Segmentation Loss: 0.2770, Domain Loss Source: 0.2884, Domain Loss Target: 0.2098, Adversarial Loss Target: 0.0013\n",
      "Epoch 1, Batch 30/40, Total Loss: 0.7358, Segmentation Loss: 0.2326, Domain Loss Source: 0.1636, Domain Loss Target: 0.3830, Adversarial Loss Target: 0.0016\n",
      "Epoch 1, Batch 40/40, Total Loss: 0.7374, Segmentation Loss: 0.1973, Domain Loss Source: 0.1848, Domain Loss Target: 0.2148, Adversarial Loss Target: 0.0021\n",
      "Epoch 1, Train Loss: 4.4866\n"
     ]
    },
    {
     "name": "stderr",
     "output_type": "stream",
     "text": [
      "/home/home/tim_ivan/idp/.venv/lib/python3.8/site-packages/torch/nn/modules/conv.py:456: UserWarning: Plan failed with a cudnnException: CUDNN_BACKEND_EXECUTION_PLAN_DESCRIPTOR: cudnnFinalize Descriptor Failed cudnn_status: CUDNN_STATUS_NOT_SUPPORTED (Triggered internally at ../aten/src/ATen/native/cudnn/Conv_v8.cpp:919.)\n",
      "  return F.conv2d(input, weight, bias, self.stride,\n"
     ]
    },
    {
     "name": "stdout",
     "output_type": "stream",
     "text": [
      "Evaluating model performance on source data\n",
      "Precision: 0.7405, Recall: 0.0433, F1 Score: 0.0809, Dice Score: 0.0809, Accuracy: 0.9703\n",
      "Evaluating model performance on target data\n",
      "Precision: 0.6147, Recall: 0.1450, F1 Score: 0.2209, Dice Score: 0.2209, Accuracy: 0.8084\n",
      "Epoch 1, Validation Loss Source: 0.1536, Validation Loss Target: 0.5338\n",
      "Epoch 2, Batch 10/40, Total Loss: 0.6690, Segmentation Loss: 0.1886, Domain Loss Source: 0.2084, Domain Loss Target: 0.1735, Adversarial Loss Target: 0.0018\n",
      "Epoch 2, Batch 20/40, Total Loss: 0.6390, Segmentation Loss: 0.1649, Domain Loss Source: 0.2804, Domain Loss Target: 0.1129, Adversarial Loss Target: 0.0016\n",
      "Epoch 2, Batch 30/40, Total Loss: 0.5954, Segmentation Loss: 0.1606, Domain Loss Source: 0.1485, Domain Loss Target: 0.3003, Adversarial Loss Target: 0.0009\n",
      "Epoch 2, Batch 40/40, Total Loss: 0.6678, Segmentation Loss: 0.1391, Domain Loss Source: 0.1411, Domain Loss Target: 0.3800, Adversarial Loss Target: 0.0011\n",
      "Epoch 2, Train Loss: 3.5393\n",
      "Evaluating model performance on source data\n",
      "Precision: 0.9073, Recall: 0.0756, F1 Score: 0.1371, Dice Score: 0.1371, Accuracy: 0.9714\n",
      "Evaluating model performance on target data\n",
      "Precision: 0.6486, Recall: 0.1039, F1 Score: 0.1702, Dice Score: 0.1702, Accuracy: 0.8037\n",
      "Epoch 2, Validation Loss Source: 0.1473, Validation Loss Target: 0.6280\n",
      "Epoch 3, Batch 10/40, Total Loss: 0.6248, Segmentation Loss: 0.1500, Domain Loss Source: 0.1706, Domain Loss Target: 0.1571, Adversarial Loss Target: 0.0017\n",
      "Epoch 3, Batch 20/40, Total Loss: 0.6055, Segmentation Loss: 0.1261, Domain Loss Source: 0.2105, Domain Loss Target: 0.1522, Adversarial Loss Target: 0.0016\n",
      "Epoch 3, Batch 30/40, Total Loss: 0.5831, Segmentation Loss: 0.1302, Domain Loss Source: 0.3162, Domain Loss Target: 0.1674, Adversarial Loss Target: 0.0016\n",
      "Epoch 3, Batch 40/40, Total Loss: 0.6202, Segmentation Loss: 0.1153, Domain Loss Source: 0.2237, Domain Loss Target: 0.2594, Adversarial Loss Target: 0.0013\n",
      "Epoch 3, Train Loss: 3.3726\n",
      "Evaluating model performance on source data\n",
      "Precision: 0.8888, Recall: 0.1200, F1 Score: 0.2086, Dice Score: 0.2086, Accuracy: 0.9725\n",
      "Evaluating model performance on target data\n",
      "Precision: 0.7015, Recall: 0.2534, F1 Score: 0.3265, Dice Score: 0.3265, Accuracy: 0.8187\n",
      "Epoch 3, Validation Loss Source: 0.1506, Validation Loss Target: 0.6865\n",
      "Epoch 4, Batch 10/40, Total Loss: 0.5932, Segmentation Loss: 0.1312, Domain Loss Source: 0.1594, Domain Loss Target: 0.1954, Adversarial Loss Target: 0.0015\n",
      "Epoch 4, Batch 20/40, Total Loss: 0.5885, Segmentation Loss: 0.1056, Domain Loss Source: 0.1851, Domain Loss Target: 0.2114, Adversarial Loss Target: 0.0011\n",
      "Epoch 4, Batch 30/40, Total Loss: 0.6141, Segmentation Loss: 0.1142, Domain Loss Source: 0.3333, Domain Loss Target: 0.1709, Adversarial Loss Target: 0.0012\n",
      "Epoch 4, Batch 40/40, Total Loss: 0.6482, Segmentation Loss: 0.1003, Domain Loss Source: 0.2668, Domain Loss Target: 0.2703, Adversarial Loss Target: 0.0012\n",
      "Epoch 4, Train Loss: 3.3730\n",
      "Evaluating model performance on source data\n",
      "Precision: 0.8695, Recall: 0.1738, F1 Score: 0.2861, Dice Score: 0.2861, Accuracy: 0.9737\n",
      "Evaluating model performance on target data\n",
      "Precision: 0.6297, Recall: 0.2993, F1 Score: 0.3622, Dice Score: 0.3622, Accuracy: 0.8165\n",
      "Epoch 4, Validation Loss Source: 0.1517, Validation Loss Target: 0.7193\n",
      "Epoch 5, Batch 10/40, Total Loss: 0.5889, Segmentation Loss: 0.1202, Domain Loss Source: 0.1785, Domain Loss Target: 0.1867, Adversarial Loss Target: 0.0014\n",
      "Epoch 5, Batch 20/40, Total Loss: 0.5965, Segmentation Loss: 0.0936, Domain Loss Source: 0.0948, Domain Loss Target: 0.4138, Adversarial Loss Target: 0.0006\n",
      "Epoch 5, Batch 30/40, Total Loss: 0.5637, Segmentation Loss: 0.1040, Domain Loss Source: 0.3368, Domain Loss Target: 0.1580, Adversarial Loss Target: 0.0017\n",
      "Epoch 5, Batch 40/40, Total Loss: 0.5718, Segmentation Loss: 0.0885, Domain Loss Source: 0.2433, Domain Loss Target: 0.1697, Adversarial Loss Target: 0.0024\n",
      "Epoch 5, Train Loss: 3.2072\n",
      "Evaluating model performance on source data\n",
      "Precision: 0.8459, Recall: 0.2177, F1 Score: 0.3424, Dice Score: 0.3424, Accuracy: 0.9746\n",
      "Evaluating model performance on target data\n",
      "Precision: 0.5647, Recall: 0.3295, F1 Score: 0.3888, Dice Score: 0.3888, Accuracy: 0.8147\n",
      "Epoch 5, Validation Loss Source: 0.1521, Validation Loss Target: 0.7588\n",
      "Epoch 6, Batch 10/40, Total Loss: 0.5479, Segmentation Loss: 0.1124, Domain Loss Source: 0.1453, Domain Loss Target: 0.1533, Adversarial Loss Target: 0.0019\n",
      "Epoch 6, Batch 20/40, Total Loss: 0.5489, Segmentation Loss: 0.0843, Domain Loss Source: 0.1437, Domain Loss Target: 0.3248, Adversarial Loss Target: 0.0008\n",
      "Epoch 6, Batch 30/40, Total Loss: 0.5892, Segmentation Loss: 0.0976, Domain Loss Source: 0.1953, Domain Loss Target: 0.2864, Adversarial Loss Target: 0.0008\n",
      "Epoch 6, Batch 40/40, Total Loss: 0.6374, Segmentation Loss: 0.0798, Domain Loss Source: 0.1586, Domain Loss Target: 0.3132, Adversarial Loss Target: 0.0016\n",
      "Epoch 6, Train Loss: 3.1753\n",
      "Evaluating model performance on source data\n",
      "Precision: 0.8302, Recall: 0.2618, F1 Score: 0.3936, Dice Score: 0.3936, Accuracy: 0.9755\n",
      "Evaluating model performance on target data\n",
      "Precision: 0.5392, Recall: 0.3401, F1 Score: 0.3909, Dice Score: 0.3909, Accuracy: 0.8121\n",
      "Epoch 6, Validation Loss Source: 0.1510, Validation Loss Target: 0.7911\n",
      "Epoch 7, Batch 10/40, Total Loss: 0.5872, Segmentation Loss: 0.1057, Domain Loss Source: 0.1690, Domain Loss Target: 0.2008, Adversarial Loss Target: 0.0014\n",
      "Epoch 7, Batch 20/40, Total Loss: 0.5673, Segmentation Loss: 0.0765, Domain Loss Source: 0.1341, Domain Loss Target: 0.2948, Adversarial Loss Target: 0.0008\n",
      "Epoch 7, Batch 30/40, Total Loss: 0.5402, Segmentation Loss: 0.0904, Domain Loss Source: 0.2050, Domain Loss Target: 0.2761, Adversarial Loss Target: 0.0013\n",
      "Epoch 7, Batch 40/40, Total Loss: 0.5891, Segmentation Loss: 0.0728, Domain Loss Source: 0.3527, Domain Loss Target: 0.1054, Adversarial Loss Target: 0.0028\n",
      "Epoch 7, Train Loss: 3.1325\n",
      "Evaluating model performance on source data\n",
      "Precision: 0.8195, Recall: 0.2925, F1 Score: 0.4263, Dice Score: 0.4263, Accuracy: 0.9761\n",
      "Evaluating model performance on target data\n",
      "Precision: 0.5267, Recall: 0.3680, F1 Score: 0.4124, Dice Score: 0.4124, Accuracy: 0.8103\n",
      "Epoch 7, Validation Loss Source: 0.1521, Validation Loss Target: 0.7972\n",
      "Epoch 8, Batch 10/40, Total Loss: 0.5902, Segmentation Loss: 0.0993, Domain Loss Source: 0.2156, Domain Loss Target: 0.1616, Adversarial Loss Target: 0.0018\n",
      "Epoch 8, Batch 20/40, Total Loss: 0.5569, Segmentation Loss: 0.0703, Domain Loss Source: 0.1336, Domain Loss Target: 0.3159, Adversarial Loss Target: 0.0008\n",
      "Epoch 8, Batch 30/40, Total Loss: 0.5367, Segmentation Loss: 0.0853, Domain Loss Source: 0.1827, Domain Loss Target: 0.2506, Adversarial Loss Target: 0.0010\n",
      "Epoch 8, Batch 40/40, Total Loss: 0.5681, Segmentation Loss: 0.0672, Domain Loss Source: 0.4702, Domain Loss Target: 0.0824, Adversarial Loss Target: 0.0029\n",
      "Epoch 8, Train Loss: 3.0821\n",
      "Evaluating model performance on source data\n",
      "Precision: 0.8069, Recall: 0.3174, F1 Score: 0.4505, Dice Score: 0.4505, Accuracy: 0.9765\n",
      "Evaluating model performance on target data\n",
      "Precision: 0.5163, Recall: 0.3777, F1 Score: 0.4161, Dice Score: 0.4161, Accuracy: 0.8080\n",
      "Epoch 8, Validation Loss Source: 0.1539, Validation Loss Target: 0.8273\n",
      "Epoch 9, Batch 10/40, Total Loss: 0.5951, Segmentation Loss: 0.0945, Domain Loss Source: 0.2055, Domain Loss Target: 0.1516, Adversarial Loss Target: 0.0017\n",
      "Epoch 9, Batch 20/40, Total Loss: 0.5537, Segmentation Loss: 0.0648, Domain Loss Source: 0.1299, Domain Loss Target: 0.3475, Adversarial Loss Target: 0.0007\n",
      "Epoch 9, Batch 30/40, Total Loss: 0.5283, Segmentation Loss: 0.0797, Domain Loss Source: 0.1866, Domain Loss Target: 0.2190, Adversarial Loss Target: 0.0011\n",
      "Epoch 9, Batch 40/40, Total Loss: 0.5453, Segmentation Loss: 0.0625, Domain Loss Source: 0.4172, Domain Loss Target: 0.0709, Adversarial Loss Target: 0.0026\n",
      "Epoch 9, Train Loss: 3.0478\n",
      "Evaluating model performance on source data\n",
      "Precision: 0.7976, Recall: 0.3359, F1 Score: 0.4675, Dice Score: 0.4675, Accuracy: 0.9768\n",
      "Evaluating model performance on target data\n",
      "Precision: 0.5080, Recall: 0.3921, F1 Score: 0.4235, Dice Score: 0.4235, Accuracy: 0.8061\n",
      "Epoch 9, Validation Loss Source: 0.1565, Validation Loss Target: 0.8486\n",
      "Epoch 10, Batch 10/40, Total Loss: 0.5806, Segmentation Loss: 0.0901, Domain Loss Source: 0.1164, Domain Loss Target: 0.2944, Adversarial Loss Target: 0.0011\n",
      "Epoch 10, Batch 20/40, Total Loss: 0.5625, Segmentation Loss: 0.0605, Domain Loss Source: 0.1556, Domain Loss Target: 0.3957, Adversarial Loss Target: 0.0006\n",
      "Epoch 10, Batch 30/40, Total Loss: 0.5765, Segmentation Loss: 0.0737, Domain Loss Source: 0.3130, Domain Loss Target: 0.1809, Adversarial Loss Target: 0.0012\n",
      "Epoch 10, Batch 40/40, Total Loss: 0.5537, Segmentation Loss: 0.0579, Domain Loss Source: 0.2784, Domain Loss Target: 0.1584, Adversarial Loss Target: 0.0014\n",
      "Epoch 10, Train Loss: 3.1074\n",
      "Evaluating model performance on source data\n",
      "Precision: 0.7928, Recall: 0.3490, F1 Score: 0.4793, Dice Score: 0.4793, Accuracy: 0.9770\n",
      "Evaluating model performance on target data\n",
      "Precision: 0.5082, Recall: 0.3868, F1 Score: 0.4165, Dice Score: 0.4165, Accuracy: 0.8060\n",
      "Epoch 10, Validation Loss Source: 0.1607, Validation Loss Target: 0.8850\n",
      "Epoch 11, Batch 10/40, Total Loss: 0.5699, Segmentation Loss: 0.0873, Domain Loss Source: 0.1983, Domain Loss Target: 0.1834, Adversarial Loss Target: 0.0014\n",
      "Epoch 11, Batch 20/40, Total Loss: 0.5312, Segmentation Loss: 0.0561, Domain Loss Source: 0.1498, Domain Loss Target: 0.3473, Adversarial Loss Target: 0.0007\n",
      "Epoch 11, Batch 30/40, Total Loss: 0.5398, Segmentation Loss: 0.0686, Domain Loss Source: 0.1764, Domain Loss Target: 0.2808, Adversarial Loss Target: 0.0008\n",
      "Epoch 11, Batch 40/40, Total Loss: 0.5570, Segmentation Loss: 0.0524, Domain Loss Source: 0.4136, Domain Loss Target: 0.1057, Adversarial Loss Target: 0.0019\n",
      "Epoch 11, Train Loss: 3.0057\n",
      "Evaluating model performance on source data\n",
      "Precision: 0.7830, Recall: 0.3563, F1 Score: 0.4843, Dice Score: 0.4843, Accuracy: 0.9770\n",
      "Evaluating model performance on target data\n",
      "Precision: 0.4986, Recall: 0.4056, F1 Score: 0.4271, Dice Score: 0.4271, Accuracy: 0.8051\n",
      "Epoch 11, Validation Loss Source: 0.1646, Validation Loss Target: 0.9005\n",
      "Epoch 12, Batch 10/40, Total Loss: 0.6311, Segmentation Loss: 0.0850, Domain Loss Source: 0.1031, Domain Loss Target: 0.3801, Adversarial Loss Target: 0.0006\n",
      "Epoch 12, Batch 20/40, Total Loss: 0.5836, Segmentation Loss: 0.0525, Domain Loss Source: 0.1323, Domain Loss Target: 0.4817, Adversarial Loss Target: 0.0004\n",
      "Epoch 12, Batch 30/40, Total Loss: 0.5525, Segmentation Loss: 0.0635, Domain Loss Source: 0.1690, Domain Loss Target: 0.3407, Adversarial Loss Target: 0.0007\n",
      "Epoch 12, Batch 40/40, Total Loss: 0.5691, Segmentation Loss: 0.0485, Domain Loss Source: 0.2205, Domain Loss Target: 0.2039, Adversarial Loss Target: 0.0011\n",
      "Epoch 12, Train Loss: 3.1904\n",
      "Evaluating model performance on source data\n",
      "Precision: 0.7827, Recall: 0.3624, F1 Score: 0.4902, Dice Score: 0.4902, Accuracy: 0.9771\n",
      "Evaluating model performance on target data\n",
      "Precision: 0.4927, Recall: 0.3896, F1 Score: 0.4126, Dice Score: 0.4126, Accuracy: 0.8042\n",
      "Epoch 12, Validation Loss Source: 0.1664, Validation Loss Target: 0.9627\n",
      "Epoch 13, Batch 10/40, Total Loss: 0.5845, Segmentation Loss: 0.0812, Domain Loss Source: 0.1597, Domain Loss Target: 0.2672, Adversarial Loss Target: 0.0009\n",
      "Epoch 13, Batch 20/40, Total Loss: 0.5641, Segmentation Loss: 0.0486, Domain Loss Source: 0.1533, Domain Loss Target: 0.3846, Adversarial Loss Target: 0.0006\n",
      "Epoch 13, Batch 30/40, Total Loss: 0.5497, Segmentation Loss: 0.0619, Domain Loss Source: 0.1856, Domain Loss Target: 0.3146, Adversarial Loss Target: 0.0007\n",
      "Epoch 13, Batch 40/40, Total Loss: 0.5512, Segmentation Loss: 0.0462, Domain Loss Source: 0.1817, Domain Loss Target: 0.2346, Adversarial Loss Target: 0.0011\n",
      "Epoch 13, Train Loss: 3.0871\n",
      "Evaluating model performance on source data\n",
      "Precision: 0.7652, Recall: 0.3809, F1 Score: 0.5033, Dice Score: 0.5033, Accuracy: 0.9771\n",
      "Evaluating model performance on target data\n",
      "Precision: 0.4907, Recall: 0.3814, F1 Score: 0.4063, Dice Score: 0.4063, Accuracy: 0.8038\n",
      "Epoch 13, Validation Loss Source: 0.1684, Validation Loss Target: 0.9986\n",
      "Epoch 14, Batch 10/40, Total Loss: 0.5747, Segmentation Loss: 0.0774, Domain Loss Source: 0.1868, Domain Loss Target: 0.2392, Adversarial Loss Target: 0.0009\n",
      "Epoch 14, Batch 20/40, Total Loss: 0.5645, Segmentation Loss: 0.0453, Domain Loss Source: 0.1727, Domain Loss Target: 0.3730, Adversarial Loss Target: 0.0006\n",
      "Epoch 14, Batch 30/40, Total Loss: 0.5495, Segmentation Loss: 0.0571, Domain Loss Source: 0.2082, Domain Loss Target: 0.2987, Adversarial Loss Target: 0.0008\n",
      "Epoch 14, Batch 40/40, Total Loss: 0.5527, Segmentation Loss: 0.0444, Domain Loss Source: 0.2221, Domain Loss Target: 0.1993, Adversarial Loss Target: 0.0012\n",
      "Epoch 14, Train Loss: 3.0640\n",
      "Evaluating model performance on source data\n",
      "Precision: 0.7308, Recall: 0.4044, F1 Score: 0.5154, Dice Score: 0.5154, Accuracy: 0.9768\n",
      "Evaluating model performance on target data\n",
      "Precision: 0.4777, Recall: 0.4237, F1 Score: 0.4361, Dice Score: 0.4361, Accuracy: 0.7996\n",
      "Epoch 14, Validation Loss Source: 0.1691, Validation Loss Target: 0.9908\n",
      "Epoch 15, Batch 10/40, Total Loss: 0.5504, Segmentation Loss: 0.0745, Domain Loss Source: 0.1687, Domain Loss Target: 0.2854, Adversarial Loss Target: 0.0009\n",
      "Epoch 15, Batch 20/40, Total Loss: 0.5442, Segmentation Loss: 0.0437, Domain Loss Source: 0.2963, Domain Loss Target: 0.2274, Adversarial Loss Target: 0.0010\n",
      "Epoch 15, Batch 30/40, Total Loss: 0.5431, Segmentation Loss: 0.0528, Domain Loss Source: 0.2197, Domain Loss Target: 0.2504, Adversarial Loss Target: 0.0009\n",
      "Epoch 15, Batch 40/40, Total Loss: 0.5758, Segmentation Loss: 0.0419, Domain Loss Source: 0.1962, Domain Loss Target: 0.2660, Adversarial Loss Target: 0.0012\n",
      "Epoch 15, Train Loss: 3.0182\n",
      "Evaluating model performance on source data\n",
      "Precision: 0.7390, Recall: 0.3962, F1 Score: 0.5109, Dice Score: 0.5109, Accuracy: 0.9770\n",
      "Evaluating model performance on target data\n",
      "Precision: 0.4925, Recall: 0.3849, F1 Score: 0.4149, Dice Score: 0.4149, Accuracy: 0.8029\n",
      "Epoch 15, Validation Loss Source: 0.1733, Validation Loss Target: 1.0372\n",
      "Epoch 16, Batch 10/40, Total Loss: 0.5885, Segmentation Loss: 0.0699, Domain Loss Source: 0.1494, Domain Loss Target: 0.3192, Adversarial Loss Target: 0.0008\n",
      "Epoch 16, Batch 20/40, Total Loss: 0.5658, Segmentation Loss: 0.0419, Domain Loss Source: 0.1335, Domain Loss Target: 0.4670, Adversarial Loss Target: 0.0004\n",
      "Epoch 16, Batch 30/40, Total Loss: 0.5550, Segmentation Loss: 0.0497, Domain Loss Source: 0.2074, Domain Loss Target: 0.3028, Adversarial Loss Target: 0.0007\n",
      "Epoch 16, Batch 40/40, Total Loss: 0.5546, Segmentation Loss: 0.0397, Domain Loss Source: 0.2397, Domain Loss Target: 0.2119, Adversarial Loss Target: 0.0012\n",
      "Epoch 16, Train Loss: 3.0864\n",
      "Evaluating model performance on source data\n",
      "Precision: 0.7184, Recall: 0.4210, F1 Score: 0.5263, Dice Score: 0.5263, Accuracy: 0.9770\n",
      "Evaluating model performance on target data\n",
      "Precision: 0.4878, Recall: 0.3815, F1 Score: 0.4116, Dice Score: 0.4116, Accuracy: 0.8019\n",
      "Epoch 16, Validation Loss Source: 0.1716, Validation Loss Target: 1.0828\n",
      "Epoch 17, Batch 10/40, Total Loss: 0.5572, Segmentation Loss: 0.0702, Domain Loss Source: 0.1609, Domain Loss Target: 0.3158, Adversarial Loss Target: 0.0008\n",
      "Epoch 17, Batch 20/40, Total Loss: 0.5421, Segmentation Loss: 0.0406, Domain Loss Source: 0.1797, Domain Loss Target: 0.3585, Adversarial Loss Target: 0.0006\n",
      "Epoch 17, Batch 30/40, Total Loss: 0.5391, Segmentation Loss: 0.0465, Domain Loss Source: 0.2934, Domain Loss Target: 0.2385, Adversarial Loss Target: 0.0009\n",
      "Epoch 17, Batch 40/40, Total Loss: 0.5541, Segmentation Loss: 0.0365, Domain Loss Source: 0.3524, Domain Loss Target: 0.1196, Adversarial Loss Target: 0.0017\n",
      "Epoch 17, Train Loss: 2.9771\n",
      "Evaluating model performance on source data\n",
      "Precision: 0.6743, Recall: 0.4450, F1 Score: 0.5319, Dice Score: 0.5319, Accuracy: 0.9762\n",
      "Evaluating model performance on target data\n",
      "Precision: 0.4768, Recall: 0.4091, F1 Score: 0.4284, Dice Score: 0.4284, Accuracy: 0.7982\n",
      "Epoch 17, Validation Loss Source: 0.1798, Validation Loss Target: 1.0886\n",
      "Epoch 18, Batch 10/40, Total Loss: 0.5604, Segmentation Loss: 0.0651, Domain Loss Source: 0.2190, Domain Loss Target: 0.1962, Adversarial Loss Target: 0.0011\n",
      "Epoch 18, Batch 20/40, Total Loss: 0.5248, Segmentation Loss: 0.0380, Domain Loss Source: 0.2476, Domain Loss Target: 0.2211, Adversarial Loss Target: 0.0010\n",
      "Epoch 18, Batch 30/40, Total Loss: 0.5230, Segmentation Loss: 0.0455, Domain Loss Source: 0.2305, Domain Loss Target: 0.2659, Adversarial Loss Target: 0.0008\n",
      "Epoch 18, Batch 40/40, Total Loss: 0.5886, Segmentation Loss: 0.0346, Domain Loss Source: 0.5330, Domain Loss Target: 0.0808, Adversarial Loss Target: 0.0023\n",
      "Epoch 18, Train Loss: 2.9657\n",
      "Evaluating model performance on source data\n",
      "Precision: 0.6768, Recall: 0.4249, F1 Score: 0.5181, Dice Score: 0.5181, Accuracy: 0.9759\n",
      "Evaluating model performance on target data\n",
      "Precision: 0.4899, Recall: 0.3956, F1 Score: 0.4233, Dice Score: 0.4233, Accuracy: 0.8034\n",
      "Epoch 18, Validation Loss Source: 0.1890, Validation Loss Target: 1.1287\n",
      "Epoch 19, Batch 10/40, Total Loss: 0.6147, Segmentation Loss: 0.0650, Domain Loss Source: 0.1320, Domain Loss Target: 0.2982, Adversarial Loss Target: 0.0009\n",
      "Epoch 19, Batch 20/40, Total Loss: 0.5728, Segmentation Loss: 0.0387, Domain Loss Source: 0.2207, Domain Loss Target: 0.2876, Adversarial Loss Target: 0.0007\n",
      "Epoch 19, Batch 30/40, Total Loss: 0.5360, Segmentation Loss: 0.0452, Domain Loss Source: 0.3456, Domain Loss Target: 0.1794, Adversarial Loss Target: 0.0011\n",
      "Epoch 19, Batch 40/40, Total Loss: 0.5298, Segmentation Loss: 0.0340, Domain Loss Source: 0.2411, Domain Loss Target: 0.2257, Adversarial Loss Target: 0.0011\n",
      "Epoch 19, Train Loss: 3.0763\n",
      "Evaluating model performance on source data\n",
      "Precision: 0.6381, Recall: 0.4592, F1 Score: 0.5307, Dice Score: 0.5307, Accuracy: 0.9753\n",
      "Evaluating model performance on target data\n",
      "Precision: 0.4816, Recall: 0.4263, F1 Score: 0.4438, Dice Score: 0.4438, Accuracy: 0.7986\n",
      "Epoch 19, Validation Loss Source: 0.1793, Validation Loss Target: 1.1003\n",
      "Epoch 20, Batch 10/40, Total Loss: 0.5685, Segmentation Loss: 0.0635, Domain Loss Source: 0.1789, Domain Loss Target: 0.2683, Adversarial Loss Target: 0.0010\n",
      "Epoch 20, Batch 20/40, Total Loss: 0.5557, Segmentation Loss: 0.0376, Domain Loss Source: 0.2275, Domain Loss Target: 0.2949, Adversarial Loss Target: 0.0009\n",
      "Epoch 20, Batch 30/40, Total Loss: 0.5168, Segmentation Loss: 0.0442, Domain Loss Source: 0.2663, Domain Loss Target: 0.2297, Adversarial Loss Target: 0.0010\n",
      "Epoch 20, Batch 40/40, Total Loss: 0.5284, Segmentation Loss: 0.0350, Domain Loss Source: 0.2194, Domain Loss Target: 0.2141, Adversarial Loss Target: 0.0012\n",
      "Epoch 20, Train Loss: 2.9520\n",
      "Evaluating model performance on source data\n",
      "Precision: 0.6618, Recall: 0.4533, F1 Score: 0.5341, Dice Score: 0.5341, Accuracy: 0.9759\n",
      "Evaluating model performance on target data\n",
      "Precision: 0.4926, Recall: 0.4083, F1 Score: 0.4369, Dice Score: 0.4369, Accuracy: 0.8034\n",
      "Epoch 20, Validation Loss Source: 0.1845, Validation Loss Target: 1.1036\n",
      "Precision: 0.4816, Recall: 0.4263, F1 Score: 0.4438, Dice Score: 0.4438, Accuracy: 0.7986\n"
     ]
    },
    {
     "data": {
      "application/vnd.jupyter.widget-view+json": {
       "model_id": "6ddd7f8a707f4db9abc0b25ce9a9adca",
       "version_major": 2,
       "version_minor": 0
      },
      "text/plain": [
       "VBox(children=(Label(value='4936.302 MB of 4936.302 MB uploaded\\r'), FloatProgress(value=1.0, max=1.0)))"
      ]
     },
     "metadata": {},
     "output_type": "display_data"
    },
    {
     "data": {
      "text/html": [
       "<style>\n",
       "    table.wandb td:nth-child(1) { padding: 0 10px; text-align: left ; width: auto;} td:nth-child(2) {text-align: left ; width: 100%}\n",
       "    .wandb-row { display: flex; flex-direction: row; flex-wrap: wrap; justify-content: flex-start; width: 100% }\n",
       "    .wandb-col { display: flex; flex-direction: column; flex-basis: 100%; flex: 1; padding: 10px; }\n",
       "    </style>\n",
       "<div class=\"wandb-row\"><div class=\"wandb-col\"><h3>Run history:</h3><br/><table class=\"wandb\"><tr><td>dice_score/source</td><td>▁▂▃▄▅▆▆▇▇▇▇▇████████</td></tr><tr><td>dice_score/target</td><td>▂▁▅▆▇▇▇▇▇▇█▇▇█▇▇█▇██</td></tr><tr><td>epoch</td><td>▁▁▂▂▂▃▃▄▄▄▅▅▅▆▆▇▇▇██</td></tr><tr><td>precision/source</td><td>▄██▇▆▆▆▅▅▅▅▅▄▃▄▃▂▂▁▂</td></tr><tr><td>precision/target</td><td>▅▆█▆▄▃▃▂▂▂▂▁▁▁▁▁▁▁▁▁</td></tr><tr><td>test/accuracy</td><td>▁</td></tr><tr><td>test/dice_score</td><td>▁</td></tr><tr><td>test/f1_score</td><td>▁</td></tr><tr><td>test/precision</td><td>▁</td></tr><tr><td>test/recall</td><td>▁</td></tr><tr><td>train/domain_loss</td><td>█▁▁▄▂▃▂▂▂▄▂▆▄▄▄▆▄▄▆▄</td></tr><tr><td>train/loss</td><td>█▄▃▃▂▂▂▂▁▂▁▂▂▂▁▂▁▁▂▁</td></tr><tr><td>val/loss_source</td><td>▂▁▂▂▂▂▂▂▃▃▄▄▅▅▅▅▆█▆▇</td></tr><tr><td>val/loss_target</td><td>▁▂▃▃▄▄▄▄▅▅▅▆▆▆▇▇████</td></tr></table><br/></div><div class=\"wandb-col\"><h3>Run summary:</h3><br/><table class=\"wandb\"><tr><td>dice_score/source</td><td>0.53405</td></tr><tr><td>dice_score/target</td><td>0.43686</td></tr><tr><td>epoch</td><td>20</td></tr><tr><td>precision/source</td><td>0.66176</td></tr><tr><td>precision/target</td><td>0.49258</td></tr><tr><td>test/accuracy</td><td>0.79865</td></tr><tr><td>test/dice_score</td><td>0.4438</td></tr><tr><td>test/f1_score</td><td>0.4438</td></tr><tr><td>test/precision</td><td>0.48157</td></tr><tr><td>test/recall</td><td>0.42627</td></tr><tr><td>train/domain_loss</td><td>0.4952</td></tr><tr><td>train/loss</td><td>2.95195</td></tr><tr><td>val/loss_source</td><td>0.18448</td></tr><tr><td>val/loss_target</td><td>1.10359</td></tr></table><br/></div></div>"
      ],
      "text/plain": [
       "<IPython.core.display.HTML object>"
      ]
     },
     "metadata": {},
     "output_type": "display_data"
    },
    {
     "data": {
      "text/html": [
       " View run <strong style=\"color:#cdcd00\">FADA-Linknet-timm-regnetx_320-cropped-window_500-600_pretrained-augmented_target</strong> at: <a href='https://wandb.ai/idp2024/domain-adaptation/runs/twuzawgb' target=\"_blank\">https://wandb.ai/idp2024/domain-adaptation/runs/twuzawgb</a><br/> View project at: <a href='https://wandb.ai/idp2024/domain-adaptation' target=\"_blank\">https://wandb.ai/idp2024/domain-adaptation</a><br/>Synced 5 W&B file(s), 360 media file(s), 11 artifact file(s) and 0 other file(s)"
      ],
      "text/plain": [
       "<IPython.core.display.HTML object>"
      ]
     },
     "metadata": {},
     "output_type": "display_data"
    },
    {
     "data": {
      "text/html": [
       "Find logs at: <code>./wandb/run-20241106_175845-twuzawgb/logs</code>"
      ],
      "text/plain": [
       "<IPython.core.display.HTML object>"
      ]
     },
     "metadata": {},
     "output_type": "display_data"
    },
    {
     "data": {
      "image/png": "[encoded data removed]",
      "text/plain": [
       "<Figure size 1000x600 with 1 Axes>"
      ]
     },
     "metadata": {},
     "output_type": "display_data"
    }
   ],
   "source": [
    "import matplotlib.pyplot as plt\n",
    "from FADA.train_FADA import model_pipeline\n",
    "import torch\n",
    "\n",
    "encoder = \"timm-regnetx_320\"\n",
    "architecture = \"Linknet\"\n",
    "device = torch.device(\"cuda:3\" if torch.cuda.is_available() else \"cpu\")\n",
    "epochs = 20\n",
    "loss = \"BCE\"\n",
    "in_channels = 1\n",
    "ndf=512\n",
    "learning_rate_fea = 0.001\n",
    "learning_rate_cls = 0.001\n",
    "learning_rate_dis = 0.0001\n",
    "\n",
    "config = {\n",
    "    \"model\": \"FADA-{architecture}-{encoder}-cropped-window_{window[0]}-{window[1]}_pretrained-augmented_target\".format(\n",
    "        architecture=architecture, encoder=encoder, window=window\n",
    "    ),\n",
    "    \"encoder\": encoder,\n",
    "    \"architecture\": architecture,\n",
    "    \"in_channels\": in_channels,\n",
    "    \"optimizer\": \"Adam\",\n",
    "    \"batch_size_source\": trainloader_source.batch_size,\n",
    "    \"batch_size_target\": trainloader_target.batch_size,\n",
    "    \"learning_rate_fea\": learning_rate_fea,\n",
    "    \"learning_rate_cls\": learning_rate_cls,\n",
    "    \"learning_rate_dis\": learning_rate_dis,\n",
    "    \"ndf\": ndf,\n",
    "    \"epochs\": epochs,\n",
    "    \"seg_loss\": loss,\n",
    "    \"pretrained\": \"./models/Linknet-timm-regnetx_320-512x512-augmented-with-random-crops-single-channel-focal.pth\",\n",
    "}\n",
    "\n",
    "\n",
    "model, train_losses, domain_losses, val_losses_source, val_losses_target = model_pipeline(\n",
    "    trainloader_source,\n",
    "    validationloader_source,\n",
    "    testloader_source,\n",
    "    trainloader_target,\n",
    "    testloader_target,\n",
    "    config,\n",
    "    project=\"domain-adaptation\",\n",
    "    device=device,\n",
    "    batch_print=10,\n",
    "    evaluate=True,\n",
    "    with_overlays=True,\n",
    ")\n",
    "\n",
    "plt.figure(figsize=(10, 6))\n",
    "plt.plot(train_losses, label=\"Combined Training Loss\")\n",
    "plt.plot(domain_losses, label=\"Domain Loss\")\n",
    "plt.plot(val_losses_source, label=\"Validation Loss Source\")\n",
    "plt.plot(val_losses_target, label=\"Validation Loss Target\")\n",
    "plt.xlabel(\"Epochs\")\n",
    "plt.ylabel(\"Loss\")\n",
    "plt.title(\"Training and Validation Loss Curves\")\n",
    "plt.legend()\n",
    "plt.show()"
   ]
  }
 ],
 "metadata": {
  "kernelspec": {
   "display_name": ".venv",
   "language": "python",
   "name": "python3"
  },
  "language_info": {
   "codemirror_mode": {
    "name": "ipython",
    "version": 3
   },
   "file_extension": ".py",
   "mimetype": "text/x-python",
   "name": "python",
   "nbconvert_exporter": "python",
   "pygments_lexer": "ipython3",
   "version": "3.8.10"
  }
 },
 "nbformat": 4,
 "nbformat_minor": 2
}
