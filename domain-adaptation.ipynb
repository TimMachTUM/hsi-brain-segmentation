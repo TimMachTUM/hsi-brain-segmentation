{
 "cells": [
  {
   "cell_type": "markdown",
   "metadata": {},
   "source": [
    "# Domain Adaptation"
   ]
  },
  {
   "cell_type": "code",
   "execution_count": 1,
   "metadata": {},
   "outputs": [
    {
     "name": "stdout",
     "output_type": "stream",
     "text": [
      "Number of samples in the training set: 640, validation set: 60\n",
      "Number of samples in the test set: 200\n",
      "4 5\n"
     ]
    }
   ],
   "source": [
    "from dataset import build_FIVES_dataloaders, build_hsi_dataloader, HSIDataset\n",
    "from torch.utils.data import DataLoader\n",
    "\n",
    "trainloader_source, validationloader_source, testloader_source = (\n",
    "    build_FIVES_dataloaders(batch_size=16, width=224, height=224, cropped=True)\n",
    ")\n",
    "\n",
    "window=(500, 600)\n",
    "trainloader_target = build_hsi_dataloader(\n",
    "    batch_size=8,\n",
    "    train_split=1,\n",
    "    val_split=0,\n",
    "    test_split=0,\n",
    "    window=window,\n",
    "    exclude_labeled_data=True,\n",
    ")[0]\n",
    "\n",
    "path = \"./data/helicoid_with_labels\"\n",
    "testset = HSIDataset(path, with_gt=True, window=window)\n",
    "testset.normalize_dataset()\n",
    "testloader_target = DataLoader(testset, batch_size=1, shuffle=False)\n",
    "print(len(trainloader_target), len(testloader_target))"
   ]
  },
  {
   "cell_type": "markdown",
   "metadata": {},
   "source": [
    "## Evaluation of Model without Domain Adaptation on Target Testset"
   ]
  },
  {
   "cell_type": "markdown",
   "metadata": {},
   "source": [
    "### Transfer Learning"
   ]
  },
  {
   "cell_type": "code",
   "execution_count": 3,
   "metadata": {},
   "outputs": [
    {
     "name": "stdout",
     "output_type": "stream",
     "text": [
      "Precision: nan, Recall: 0.0239, F1 Score: 0.0410, Dice Score: 0.0410, Accuracy: 0.7850\n"
     ]
    },
    {
     "data": {
      "text/plain": [
       "(tensor(nan, device='cuda:3'),\n",
       " tensor(0.0239, device='cuda:3'),\n",
       " tensor(0.0410, device='cuda:3'),\n",
       " tensor(0.7850, device='cuda:3'),\n",
       " tensor(0.0410, device='cuda:3'))"
      ]
     },
     "execution_count": 3,
     "metadata": {},
     "output_type": "execute_result"
    }
   ],
   "source": [
    "from segmentation_util import evaluate_model, build_segmentation_model\n",
    "import torch\n",
    "device = torch.device(\"cuda:3\" if torch.cuda.is_available() else \"cpu\")\n",
    "model = build_segmentation_model('resnet50', 'Unet', device, in_channels=1)\n",
    "\n",
    "evaluate_model(\n",
    "    model, testloader_target, device, with_wandb=False\n",
    ")"
   ]
  },
  {
   "cell_type": "markdown",
   "metadata": {},
   "source": [
    "### Ensemble Model"
   ]
  },
  {
   "cell_type": "code",
   "execution_count": 3,
   "metadata": {},
   "outputs": [
    {
     "name": "stdout",
     "output_type": "stream",
     "text": [
      "Precision: 0.5368, Recall: 0.2351, F1 Score: 0.3072, Dice Score: 0.3072, Accuracy: 0.8104\n"
     ]
    },
    {
     "data": {
      "text/plain": [
       "(tensor(0.5368, device='cuda:3'),\n",
       " tensor(0.2351, device='cuda:3'),\n",
       " tensor(0.3072, device='cuda:3'),\n",
       " tensor(0.8104, device='cuda:3'),\n",
       " tensor(0.3072, device='cuda:3'))"
      ]
     },
     "execution_count": 3,
     "metadata": {},
     "output_type": "execute_result"
    }
   ],
   "source": [
    "from HSI_Net import SegmentationModelWithWindowing\n",
    "from segmentation_util import build_segmentation_model, evaluate_model\n",
    "from ensemble_model import EnsembleModelAverage\n",
    "import segmentation_models_pytorch as smp\n",
    "import torch\n",
    "\n",
    "path = \"./data/helicoid_with_labels\"\n",
    "testset = HSIDataset(path, with_gt=True)\n",
    "testset.normalize_dataset()\n",
    "testloader_target = DataLoader(testset, batch_size=1, shuffle=False)\n",
    "\n",
    "encoder = 'timm-regnetx_320'\n",
    "architecture = 'Linknet'\n",
    "device = ('cuda:3' if torch.cuda.is_available() else 'cpu')\n",
    "\n",
    "segmenter_single_channel = build_segmentation_model(encoder, architecture, device)\n",
    "segmenter_single_channel.load_state_dict(torch.load('./models/{architecture}-{encoder}-512x512-augmented-with-random-crops-single-channel-focal.pth'.format(architecture=architecture, encoder=encoder)))\n",
    "segmenter_single_channel.eval()\n",
    "\n",
    "window1 = (400, 500)\n",
    "window2 = (500, 600)\n",
    "window3 = (600, 700)\n",
    "window4 = (700, 800)\n",
    "window5 = (800, 900)\n",
    "window6 = (900, 1000)\n",
    "window_full = (400, 1100)\n",
    "\n",
    "\n",
    "model_windowing_400to500 = SegmentationModelWithWindowing(segmenter_single_channel, window=testset.get_window_from_wavelengths(window1))\n",
    "model_with_windowing_500to600 = SegmentationModelWithWindowing(segmenter_single_channel, window=testset.get_window_from_wavelengths(window2))\n",
    "model_windowing_600to700 = SegmentationModelWithWindowing(segmenter_single_channel, window=testset.get_window_from_wavelengths(window3))\n",
    "model_windowing_700to800 = SegmentationModelWithWindowing(segmenter_single_channel, window=testset.get_window_from_wavelengths(window4))\n",
    "model_windowing_800to900 = SegmentationModelWithWindowing(segmenter_single_channel, window=testset.get_window_from_wavelengths(window5))\n",
    "model_windowing_900to1000 = SegmentationModelWithWindowing(segmenter_single_channel, window=testset.get_window_from_wavelengths(window6))\n",
    "model_window_full = SegmentationModelWithWindowing(segmenter_single_channel, window=testset.get_window_from_wavelengths(window_full))\n",
    "\n",
    "model = EnsembleModelAverage([model_windowing_400to500, model_with_windowing_500to600, model_windowing_600to700, model_windowing_700to800, model_windowing_900to1000, model_window_full])\n",
    "evaluate_model(model, testloader_target, device, with_wandb=False)"
   ]
  },
  {
   "cell_type": "markdown",
   "metadata": {},
   "source": [
    "# Domain Adaptation Approaches:\n",
    "## GRL domain adaptation"
   ]
  },
  {
   "cell_type": "code",
   "execution_count": 2,
   "metadata": {},
   "outputs": [
    {
     "name": "stderr",
     "output_type": "stream",
     "text": [
      "Failed to detect the name of this notebook, you can set it manually with the WANDB_NOTEBOOK_NAME environment variable to enable code saving.\n",
      "\u001b[34m\u001b[1mwandb\u001b[0m: Currently logged in as: \u001b[33mtim-mach\u001b[0m (\u001b[33midp2024\u001b[0m). Use \u001b[1m`wandb login --relogin`\u001b[0m to force relogin\n"
     ]
    },
    {
     "data": {
      "text/html": [
       "wandb version 0.18.5 is available!  To upgrade, please run:\n",
       " $ pip install wandb --upgrade"
      ],
      "text/plain": [
       "<IPython.core.display.HTML object>"
      ]
     },
     "metadata": {},
     "output_type": "display_data"
    },
    {
     "data": {
      "text/html": [
       "Tracking run with wandb version 0.16.6"
      ],
      "text/plain": [
       "<IPython.core.display.HTML object>"
      ]
     },
     "metadata": {},
     "output_type": "display_data"
    },
    {
     "data": {
      "text/html": [
       "Run data is saved locally in <code>/home/home/tim_ivan/idp/wandb/run-20241106_155130-eq0rjkga</code>"
      ],
      "text/plain": [
       "<IPython.core.display.HTML object>"
      ]
     },
     "metadata": {},
     "output_type": "display_data"
    },
    {
     "data": {
      "text/html": [
       "Syncing run <strong><a href='https://wandb.ai/idp2024/domain-adaptation/runs/eq0rjkga' target=\"_blank\">GRL-Linknet-timm-regnetx_320-window_500-600-pretrained</a></strong> to <a href='https://wandb.ai/idp2024/domain-adaptation' target=\"_blank\">Weights & Biases</a> (<a href='https://wandb.me/run' target=\"_blank\">docs</a>)<br/>"
      ],
      "text/plain": [
       "<IPython.core.display.HTML object>"
      ]
     },
     "metadata": {},
     "output_type": "display_data"
    },
    {
     "data": {
      "text/html": [
       " View project at <a href='https://wandb.ai/idp2024/domain-adaptation' target=\"_blank\">https://wandb.ai/idp2024/domain-adaptation</a>"
      ],
      "text/plain": [
       "<IPython.core.display.HTML object>"
      ]
     },
     "metadata": {},
     "output_type": "display_data"
    },
    {
     "data": {
      "text/html": [
       " View run at <a href='https://wandb.ai/idp2024/domain-adaptation/runs/eq0rjkga' target=\"_blank\">https://wandb.ai/idp2024/domain-adaptation/runs/eq0rjkga</a>"
      ],
      "text/plain": [
       "<IPython.core.display.HTML object>"
      ]
     },
     "metadata": {},
     "output_type": "display_data"
    },
    {
     "name": "stdout",
     "output_type": "stream",
     "text": [
      "Loading pretrained model from ./models/Linknet-timm-regnetx_320-512x512-augmented-with-random-crops-single-channel-focal.pth\n"
     ]
    },
    {
     "name": "stderr",
     "output_type": "stream",
     "text": [
      "/home/home/tim_ivan/idp/.venv/lib/python3.8/site-packages/torch/nn/modules/conv.py:456: UserWarning: Plan failed with a cudnnException: CUDNN_BACKEND_EXECUTION_PLAN_DESCRIPTOR: cudnnFinalize Descriptor Failed cudnn_status: CUDNN_STATUS_NOT_SUPPORTED (Triggered internally at ../aten/src/ATen/native/cudnn/Conv_v8.cpp:919.)\n",
      "  return F.conv2d(input, weight, bias, self.stride,\n",
      "/home/home/tim_ivan/idp/.venv/lib/python3.8/site-packages/torch/autograd/graph.py:744: UserWarning: Plan failed with a cudnnException: CUDNN_BACKEND_EXECUTION_PLAN_DESCRIPTOR: cudnnFinalize Descriptor Failed cudnn_status: CUDNN_STATUS_NOT_SUPPORTED (Triggered internally at ../aten/src/ATen/native/cudnn/Conv_v8.cpp:919.)\n",
      "  return Variable._execution_engine.run_backward(  # Calls into the C++ engine to run the backward pass\n"
     ]
    },
    {
     "name": "stdout",
     "output_type": "stream",
     "text": [
      "Epoch 1, Batch 10/40, Total Loss: 3.2987, Segmentation Loss: 0.7732, Domain Loss Source: 0.6737, Domain Loss Target: 0.6707\n",
      "Epoch 1, Batch 20/40, Total Loss: 2.1268, Segmentation Loss: 0.8214, Domain Loss Source: 0.6330, Domain Loss Target: 0.6996\n",
      "Epoch 1, Batch 30/40, Total Loss: 2.0996, Segmentation Loss: 0.8430, Domain Loss Source: 0.7113, Domain Loss Target: 0.6655\n",
      "Epoch 1, Batch 40/40, Total Loss: 2.0178, Segmentation Loss: 0.6131, Domain Loss Source: 0.6114, Domain Loss Target: 0.6932\n",
      "Epoch 1, Train Loss: 2.3857\n"
     ]
    },
    {
     "name": "stderr",
     "output_type": "stream",
     "text": [
      "/home/home/tim_ivan/idp/.venv/lib/python3.8/site-packages/torch/nn/modules/conv.py:456: UserWarning: Plan failed with a cudnnException: CUDNN_BACKEND_EXECUTION_PLAN_DESCRIPTOR: cudnnFinalize Descriptor Failed cudnn_status: CUDNN_STATUS_NOT_SUPPORTED (Triggered internally at ../aten/src/ATen/native/cudnn/Conv_v8.cpp:919.)\n",
      "  return F.conv2d(input, weight, bias, self.stride,\n"
     ]
    },
    {
     "name": "stdout",
     "output_type": "stream",
     "text": [
      "Evaluating model performance on source data\n",
      "Precision: 0.4061, Recall: 0.2573, F1 Score: 0.3078, Dice Score: 0.3078, Accuracy: 0.9656\n",
      "Evaluating model performance on target data\n",
      "Precision: 0.4734, Recall: 0.5051, F1 Score: 0.4692, Dice Score: 0.4692, Accuracy: 0.7818\n",
      "Epoch 1, Validation Loss Source: 0.7382, Validation Loss Target: 0.5522\n",
      "Epoch 2, Batch 10/40, Total Loss: 1.9187, Segmentation Loss: 0.5720, Domain Loss Source: 0.5868, Domain Loss Target: 0.7001\n",
      "Epoch 2, Batch 20/40, Total Loss: 1.9161, Segmentation Loss: 0.6617, Domain Loss Source: 0.5630, Domain Loss Target: 0.7231\n",
      "Epoch 2, Batch 30/40, Total Loss: 1.9364, Segmentation Loss: 0.7305, Domain Loss Source: 0.6710, Domain Loss Target: 0.7081\n",
      "Epoch 2, Batch 40/40, Total Loss: 1.8457, Segmentation Loss: 0.4497, Domain Loss Source: 0.6202, Domain Loss Target: 0.6921\n",
      "Epoch 2, Train Loss: 1.9042\n",
      "Evaluating model performance on source data\n",
      "Precision: 0.6849, Recall: 0.2588, F1 Score: 0.3715, Dice Score: 0.3715, Accuracy: 0.9736\n",
      "Evaluating model performance on target data\n",
      "Precision: 0.5408, Recall: 0.4246, F1 Score: 0.4257, Dice Score: 0.4257, Accuracy: 0.8019\n",
      "Epoch 2, Validation Loss Source: 0.6246, Validation Loss Target: 0.5725\n",
      "Epoch 3, Batch 10/40, Total Loss: 1.8087, Segmentation Loss: 0.4309, Domain Loss Source: 0.6960, Domain Loss Target: 0.6477\n",
      "Epoch 3, Batch 20/40, Total Loss: 1.8301, Segmentation Loss: 0.5459, Domain Loss Source: 0.7032, Domain Loss Target: 0.6467\n",
      "Epoch 3, Batch 30/40, Total Loss: 1.8652, Segmentation Loss: 0.6585, Domain Loss Source: 0.7407, Domain Loss Target: 0.6478\n",
      "Epoch 3, Batch 40/40, Total Loss: 1.7964, Segmentation Loss: 0.3743, Domain Loss Source: 0.7161, Domain Loss Target: 0.6499\n",
      "Epoch 3, Train Loss: 1.8251\n",
      "Evaluating model performance on source data\n",
      "Precision: 0.7312, Recall: 0.2863, F1 Score: 0.4074, Dice Score: 0.4074, Accuracy: 0.9747\n",
      "Evaluating model performance on target data\n",
      "Precision: 0.4877, Recall: 0.4547, F1 Score: 0.4515, Dice Score: 0.4515, Accuracy: 0.7972\n",
      "Epoch 3, Validation Loss Source: 0.5595, Validation Loss Target: 0.5499\n",
      "Epoch 4, Batch 10/40, Total Loss: 1.7441, Segmentation Loss: 0.3524, Domain Loss Source: 0.6957, Domain Loss Target: 0.6523\n",
      "Epoch 4, Batch 20/40, Total Loss: 1.7736, Segmentation Loss: 0.4422, Domain Loss Source: 0.7332, Domain Loss Target: 0.6546\n",
      "Epoch 4, Batch 30/40, Total Loss: 1.8172, Segmentation Loss: 0.6147, Domain Loss Source: 0.7302, Domain Loss Target: 0.6574\n",
      "Epoch 4, Batch 40/40, Total Loss: 1.7604, Segmentation Loss: 0.3399, Domain Loss Source: 0.7271, Domain Loss Target: 0.6603\n",
      "Epoch 4, Train Loss: 1.7738\n",
      "Evaluating model performance on source data\n",
      "Precision: 0.7392, Recall: 0.2923, F1 Score: 0.4154, Dice Score: 0.4154, Accuracy: 0.9750\n",
      "Evaluating model performance on target data\n",
      "Precision: 0.4822, Recall: 0.4468, F1 Score: 0.4551, Dice Score: 0.4551, Accuracy: 0.7985\n",
      "Epoch 4, Validation Loss Source: 0.5395, Validation Loss Target: 0.5463\n",
      "Epoch 5, Batch 10/40, Total Loss: 1.7182, Segmentation Loss: 0.3091, Domain Loss Source: 0.7242, Domain Loss Target: 0.6631\n",
      "Epoch 5, Batch 20/40, Total Loss: 1.7284, Segmentation Loss: 0.3809, Domain Loss Source: 0.7213, Domain Loss Target: 0.6657\n",
      "Epoch 5, Batch 30/40, Total Loss: 1.7873, Segmentation Loss: 0.5884, Domain Loss Source: 0.7187, Domain Loss Target: 0.6682\n",
      "Epoch 5, Batch 40/40, Total Loss: 1.7340, Segmentation Loss: 0.3145, Domain Loss Source: 0.7162, Domain Loss Target: 0.6706\n",
      "Epoch 5, Train Loss: 1.7420\n",
      "Evaluating model performance on source data\n",
      "Precision: 0.7385, Recall: 0.3113, F1 Score: 0.4343, Dice Score: 0.4343, Accuracy: 0.9753\n",
      "Evaluating model performance on target data\n",
      "Precision: 0.4851, Recall: 0.4304, F1 Score: 0.4452, Dice Score: 0.4452, Accuracy: 0.8019\n",
      "Epoch 5, Validation Loss Source: 0.5185, Validation Loss Target: 0.5532\n",
      "Epoch 6, Batch 10/40, Total Loss: 1.6931, Segmentation Loss: 0.2773, Domain Loss Source: 0.7139, Domain Loss Target: 0.6728\n",
      "Epoch 6, Batch 20/40, Total Loss: 1.7001, Segmentation Loss: 0.3452, Domain Loss Source: 0.7118, Domain Loss Target: 0.6748\n",
      "Epoch 6, Batch 30/40, Total Loss: 1.7623, Segmentation Loss: 0.5604, Domain Loss Source: 0.7098, Domain Loss Target: 0.6767\n",
      "Epoch 6, Batch 40/40, Total Loss: 1.7120, Segmentation Loss: 0.2975, Domain Loss Source: 0.7080, Domain Loss Target: 0.6785\n",
      "Epoch 6, Train Loss: 1.7169\n",
      "Evaluating model performance on source data\n",
      "Precision: 0.7227, Recall: 0.3342, F1 Score: 0.4533, Dice Score: 0.4533, Accuracy: 0.9754\n",
      "Evaluating model performance on target data\n",
      "Precision: 0.4834, Recall: 0.4597, F1 Score: 0.4625, Dice Score: 0.4625, Accuracy: 0.7992\n",
      "Epoch 6, Validation Loss Source: 0.5046, Validation Loss Target: 0.5361\n",
      "Epoch 7, Batch 10/40, Total Loss: 1.6756, Segmentation Loss: 0.2560, Domain Loss Source: 0.7064, Domain Loss Target: 0.6801\n",
      "Epoch 7, Batch 20/40, Total Loss: 1.6773, Segmentation Loss: 0.3174, Domain Loss Source: 0.7049, Domain Loss Target: 0.6815\n",
      "Epoch 7, Batch 30/40, Total Loss: 1.7406, Segmentation Loss: 0.5237, Domain Loss Source: 0.7035, Domain Loss Target: 0.6829\n",
      "Epoch 7, Batch 40/40, Total Loss: 1.6943, Segmentation Loss: 0.2829, Domain Loss Source: 0.7023, Domain Loss Target: 0.6841\n",
      "Epoch 7, Train Loss: 1.6969\n",
      "Evaluating model performance on source data\n",
      "Precision: 0.7085, Recall: 0.3509, F1 Score: 0.4655, Dice Score: 0.4655, Accuracy: 0.9754\n",
      "Evaluating model performance on target data\n",
      "Precision: 0.4772, Recall: 0.4784, F1 Score: 0.4706, Dice Score: 0.4706, Accuracy: 0.7956\n",
      "Epoch 7, Validation Loss Source: 0.4948, Validation Loss Target: 0.5285\n",
      "Epoch 8, Batch 10/40, Total Loss: 1.6596, Segmentation Loss: 0.2369, Domain Loss Source: 0.7012, Domain Loss Target: 0.6851\n",
      "Epoch 8, Batch 20/40, Total Loss: 1.6589, Segmentation Loss: 0.2966, Domain Loss Source: 0.7002, Domain Loss Target: 0.6861\n",
      "Epoch 8, Batch 30/40, Total Loss: 1.7239, Segmentation Loss: 0.5003, Domain Loss Source: 0.6993, Domain Loss Target: 0.6870\n",
      "Epoch 8, Batch 40/40, Total Loss: 1.6848, Segmentation Loss: 0.2746, Domain Loss Source: 0.6985, Domain Loss Target: 0.6878\n",
      "Epoch 8, Train Loss: 1.6818\n",
      "Evaluating model performance on source data\n",
      "Precision: 0.7001, Recall: 0.3648, F1 Score: 0.4756, Dice Score: 0.4756, Accuracy: 0.9755\n",
      "Evaluating model performance on target data\n",
      "Precision: 0.4867, Recall: 0.4755, F1 Score: 0.4743, Dice Score: 0.4743, Accuracy: 0.8000\n",
      "Epoch 8, Validation Loss Source: 0.4802, Validation Loss Target: 0.5249\n",
      "Epoch 9, Batch 10/40, Total Loss: 1.6483, Segmentation Loss: 0.2205, Domain Loss Source: 0.6978, Domain Loss Target: 0.6885\n",
      "Epoch 9, Batch 20/40, Total Loss: 1.6422, Segmentation Loss: 0.2727, Domain Loss Source: 0.6972, Domain Loss Target: 0.6891\n",
      "Epoch 9, Batch 30/40, Total Loss: 1.7083, Segmentation Loss: 0.4826, Domain Loss Source: 0.6967, Domain Loss Target: 0.6896\n",
      "Epoch 9, Batch 40/40, Total Loss: 1.6689, Segmentation Loss: 0.2621, Domain Loss Source: 0.6962, Domain Loss Target: 0.6901\n",
      "Epoch 9, Train Loss: 1.6669\n",
      "Evaluating model performance on source data\n",
      "Precision: 0.6980, Recall: 0.3683, F1 Score: 0.4776, Dice Score: 0.4776, Accuracy: 0.9755\n",
      "Evaluating model performance on target data\n",
      "Precision: 0.4774, Recall: 0.5272, F1 Score: 0.4982, Dice Score: 0.4982, Accuracy: 0.7913\n",
      "Epoch 9, Validation Loss Source: 0.4834, Validation Loss Target: 0.5021\n",
      "Epoch 10, Batch 10/40, Total Loss: 1.6402, Segmentation Loss: 0.2149, Domain Loss Source: 0.6957, Domain Loss Target: 0.6906\n",
      "Epoch 10, Batch 20/40, Total Loss: 1.6326, Segmentation Loss: 0.2725, Domain Loss Source: 0.6954, Domain Loss Target: 0.6909\n",
      "Epoch 10, Batch 30/40, Total Loss: 1.6944, Segmentation Loss: 0.4701, Domain Loss Source: 0.6950, Domain Loss Target: 0.6912\n",
      "Epoch 10, Batch 40/40, Total Loss: 1.6592, Segmentation Loss: 0.2490, Domain Loss Source: 0.6948, Domain Loss Target: 0.6915\n",
      "Epoch 10, Train Loss: 1.6566\n",
      "Evaluating model performance on source data\n",
      "Precision: 0.6732, Recall: 0.3829, F1 Score: 0.4836, Dice Score: 0.4836, Accuracy: 0.9750\n",
      "Evaluating model performance on target data\n",
      "Precision: 0.4782, Recall: 0.5304, F1 Score: 0.4969, Dice Score: 0.4969, Accuracy: 0.7944\n",
      "Epoch 10, Validation Loss Source: 0.4785, Validation Loss Target: 0.5032\n",
      "Precision: 0.4774, Recall: 0.5272, F1 Score: 0.4982, Dice Score: 0.4982, Accuracy: 0.7913\n"
     ]
    },
    {
     "data": {
      "application/vnd.jupyter.widget-view+json": {
       "model_id": "2cabae90115445dd8197e1d833ad6a33",
       "version_major": 2,
       "version_minor": 0
      },
      "text/plain": [
       "VBox(children=(Label(value='1804.710 MB of 1804.710 MB uploaded\\r'), FloatProgress(value=1.0, max=1.0)))"
      ]
     },
     "metadata": {},
     "output_type": "display_data"
    },
    {
     "data": {
      "text/html": [
       "<style>\n",
       "    table.wandb td:nth-child(1) { padding: 0 10px; text-align: left ; width: auto;} td:nth-child(2) {text-align: left ; width: 100%}\n",
       "    .wandb-row { display: flex; flex-direction: row; flex-wrap: wrap; justify-content: flex-start; width: 100% }\n",
       "    .wandb-col { display: flex; flex-direction: column; flex-basis: 100%; flex: 1; padding: 10px; }\n",
       "    </style>\n",
       "<div class=\"wandb-row\"><div class=\"wandb-col\"><h3>Run history:</h3><br/><table class=\"wandb\"><tr><td>dice_score/source</td><td>▁▄▅▅▆▇▇███</td></tr><tr><td>dice_score/target</td><td>▅▁▃▄▃▅▅▆██</td></tr><tr><td>epoch</td><td>▁▂▃▃▄▅▆▆▇█</td></tr><tr><td>precision/source</td><td>▁▇████▇▇▇▇</td></tr><tr><td>precision/target</td><td>▁█▂▂▂▂▁▂▁▁</td></tr><tr><td>test/accuracy</td><td>▁</td></tr><tr><td>test/dice_score</td><td>▁</td></tr><tr><td>test/f1_score</td><td>▁</td></tr><tr><td>test/precision</td><td>▁</td></tr><tr><td>test/recall</td><td>▁</td></tr><tr><td>train/domain_loss</td><td>█▁▂▂▂▂▂▂▂▂</td></tr><tr><td>train/loss</td><td>█▃▃▂▂▂▁▁▁▁</td></tr><tr><td>val/loss_source</td><td>█▅▃▃▂▂▁▁▁▁</td></tr><tr><td>val/loss_target</td><td>▆█▆▅▆▄▄▃▁▁</td></tr></table><br/></div><div class=\"wandb-col\"><h3>Run summary:</h3><br/><table class=\"wandb\"><tr><td>dice_score/source</td><td>0.48359</td></tr><tr><td>dice_score/target</td><td>0.49686</td></tr><tr><td>epoch</td><td>10</td></tr><tr><td>precision/source</td><td>0.67316</td></tr><tr><td>precision/target</td><td>0.47818</td></tr><tr><td>test/accuracy</td><td>0.7913</td></tr><tr><td>test/dice_score</td><td>0.49816</td></tr><tr><td>test/f1_score</td><td>0.49816</td></tr><tr><td>test/precision</td><td>0.47736</td></tr><tr><td>test/recall</td><td>0.52723</td></tr><tr><td>train/domain_loss</td><td>1.3863</td></tr><tr><td>train/loss</td><td>1.65661</td></tr><tr><td>val/loss_source</td><td>0.47845</td></tr><tr><td>val/loss_target</td><td>0.50324</td></tr></table><br/></div></div>"
      ],
      "text/plain": [
       "<IPython.core.display.HTML object>"
      ]
     },
     "metadata": {},
     "output_type": "display_data"
    },
    {
     "data": {
      "text/html": [
       " View run <strong style=\"color:#cdcd00\">GRL-Linknet-timm-regnetx_320-window_500-600-pretrained</strong> at: <a href='https://wandb.ai/idp2024/domain-adaptation/runs/eq0rjkga' target=\"_blank\">https://wandb.ai/idp2024/domain-adaptation/runs/eq0rjkga</a><br/> View project at: <a href='https://wandb.ai/idp2024/domain-adaptation' target=\"_blank\">https://wandb.ai/idp2024/domain-adaptation</a><br/>Synced 5 W&B file(s), 180 media file(s), 4 artifact file(s) and 0 other file(s)"
      ],
      "text/plain": [
       "<IPython.core.display.HTML object>"
      ]
     },
     "metadata": {},
     "output_type": "display_data"
    },
    {
     "data": {
      "text/html": [
       "Find logs at: <code>./wandb/run-20241106_155130-eq0rjkga/logs</code>"
      ],
      "text/plain": [
       "<IPython.core.display.HTML object>"
      ]
     },
     "metadata": {},
     "output_type": "display_data"
    },
    {
     "data": {
      "image/png": "[encoded data removed]",
      "text/plain": [
       "<Figure size 1000x600 with 1 Axes>"
      ]
     },
     "metadata": {},
     "output_type": "display_data"
    }
   ],
   "source": [
    "import matplotlib.pyplot as plt\n",
    "import torch\n",
    "from domain_adaptation_training import model_pipeline\n",
    "\n",
    "encoder = \"timm-regnetx_320\"\n",
    "architecture = \"Linknet\"\n",
    "device = torch.device(\"cuda:5\" if torch.cuda.is_available() else \"cpu\")\n",
    "lambda_param = 0.5\n",
    "learning_rate = 0.001\n",
    "loss = \"Dice\"\n",
    "epochs = 10\n",
    "in_channels = 1\n",
    "hidden_dim = 128\n",
    "\n",
    "\n",
    "config = {\n",
    "    \"model\": \"GRL-{architecture}-{encoder}-window_{window[0]}-{window[1]}-pretrained\".format(\n",
    "        architecture=architecture, encoder=encoder, window=window\n",
    "    ),\n",
    "    \"encoder\": encoder,\n",
    "    \"architecture\": architecture,\n",
    "    \"learning_rate\": learning_rate,\n",
    "    \"optimizer\": \"Adam\",\n",
    "    \"lambda_param\": lambda_param,\n",
    "    \"batch_size_source\": trainloader_source.batch_size,\n",
    "    \"batch_size_target\": trainloader_target.batch_size,\n",
    "    \"hidden_dim\": hidden_dim,\n",
    "    \"epochs\": epochs,\n",
    "    \"loss\": loss,\n",
    "    \"in_channels\": in_channels,\n",
    "    \"pretrained\": './models/Linknet-timm-regnetx_320-512x512-augmented-with-random-crops-single-channel-focal.pth'\n",
    "}\n",
    "\n",
    "model, train_losses, domain_losses, val_losses_source, val_losses_target = model_pipeline(\n",
    "    trainloader_source,\n",
    "    validationloader_source,\n",
    "    testloader_source,\n",
    "    trainloader_target,\n",
    "    testloader_target,\n",
    "    config,\n",
    "    project=\"domain-adaptation\",\n",
    "    device=device,\n",
    "    batch_print=10,\n",
    "    evaluate=True,\n",
    "    with_overlays=True,\n",
    ")\n",
    "\n",
    "# Plotting the training and validation loss curves\n",
    "plt.figure(figsize=(10, 6))\n",
    "plt.plot(train_losses, label=\"Combined Training Loss\")\n",
    "plt.plot(domain_losses, label=\"Domain Loss\")\n",
    "plt.plot(val_losses_source, label=\"Validation Loss Source\")\n",
    "plt.plot(val_losses_target, label=\"Validation Loss Target\")\n",
    "plt.xlabel(\"Epochs\")\n",
    "plt.ylabel(\"Loss\")\n",
    "plt.title(\"Training and Validation Loss Curves\")\n",
    "plt.legend()\n",
    "plt.show()"
   ]
  },
  {
   "cell_type": "markdown",
   "metadata": {},
   "source": [
    "## FADA:"
   ]
  },
  {
   "cell_type": "code",
   "execution_count": 3,
   "metadata": {},
   "outputs": [
    {
     "name": "stderr",
     "output_type": "stream",
     "text": [
      "Failed to detect the name of this notebook, you can set it manually with the WANDB_NOTEBOOK_NAME environment variable to enable code saving.\n"
     ]
    },
    {
     "name": "stderr",
     "output_type": "stream",
     "text": [
      "\u001b[34m\u001b[1mwandb\u001b[0m: Currently logged in as: \u001b[33mtim-mach\u001b[0m (\u001b[33midp2024\u001b[0m). Use \u001b[1m`wandb login --relogin`\u001b[0m to force relogin\n"
     ]
    },
    {
     "data": {
      "text/html": [
       "wandb version 0.18.5 is available!  To upgrade, please run:\n",
       " $ pip install wandb --upgrade"
      ],
      "text/plain": [
       "<IPython.core.display.HTML object>"
      ]
     },
     "metadata": {},
     "output_type": "display_data"
    },
    {
     "data": {
      "text/html": [
       "Tracking run with wandb version 0.16.6"
      ],
      "text/plain": [
       "<IPython.core.display.HTML object>"
      ]
     },
     "metadata": {},
     "output_type": "display_data"
    },
    {
     "data": {
      "text/html": [
       "Run data is saved locally in <code>/home/home/tim_ivan/idp/wandb/run-20241106_160545-7mlq44ps</code>"
      ],
      "text/plain": [
       "<IPython.core.display.HTML object>"
      ]
     },
     "metadata": {},
     "output_type": "display_data"
    },
    {
     "data": {
      "text/html": [
       "Syncing run <strong><a href='https://wandb.ai/idp2024/domain-adaptation/runs/7mlq44ps' target=\"_blank\">FADA-Linknet-timm-regnetx_320-cropped-window_500-600_pretrained</a></strong> to <a href='https://wandb.ai/idp2024/domain-adaptation' target=\"_blank\">Weights & Biases</a> (<a href='https://wandb.me/run' target=\"_blank\">docs</a>)<br/>"
      ],
      "text/plain": [
       "<IPython.core.display.HTML object>"
      ]
     },
     "metadata": {},
     "output_type": "display_data"
    },
    {
     "data": {
      "text/html": [
       " View project at <a href='https://wandb.ai/idp2024/domain-adaptation' target=\"_blank\">https://wandb.ai/idp2024/domain-adaptation</a>"
      ],
      "text/plain": [
       "<IPython.core.display.HTML object>"
      ]
     },
     "metadata": {},
     "output_type": "display_data"
    },
    {
     "data": {
      "text/html": [
       " View run at <a href='https://wandb.ai/idp2024/domain-adaptation/runs/7mlq44ps' target=\"_blank\">https://wandb.ai/idp2024/domain-adaptation/runs/7mlq44ps</a>"
      ],
      "text/plain": [
       "<IPython.core.display.HTML object>"
      ]
     },
     "metadata": {},
     "output_type": "display_data"
    },
    {
     "name": "stdout",
     "output_type": "stream",
     "text": [
      "Loading pretrained model from ./models/Linknet-timm-regnetx_320-512x512-augmented-with-random-crops-single-channel-focal.pth\n"
     ]
    },
    {
     "name": "stderr",
     "output_type": "stream",
     "text": [
      "/home/home/tim_ivan/idp/.venv/lib/python3.8/site-packages/torch/nn/modules/conv.py:456: UserWarning: Plan failed with a cudnnException: CUDNN_BACKEND_EXECUTION_PLAN_DESCRIPTOR: cudnnFinalize Descriptor Failed cudnn_status: CUDNN_STATUS_NOT_SUPPORTED (Triggered internally at ../aten/src/ATen/native/cudnn/Conv_v8.cpp:919.)\n",
      "  return F.conv2d(input, weight, bias, self.stride,\n",
      "/home/home/tim_ivan/idp/.venv/lib/python3.8/site-packages/torch/autograd/graph.py:744: UserWarning: Plan failed with a cudnnException: CUDNN_BACKEND_EXECUTION_PLAN_DESCRIPTOR: cudnnFinalize Descriptor Failed cudnn_status: CUDNN_STATUS_NOT_SUPPORTED (Triggered internally at ../aten/src/ATen/native/cudnn/Conv_v8.cpp:919.)\n",
      "  return Variable._execution_engine.run_backward(  # Calls into the C++ engine to run the backward pass\n"
     ]
    },
    {
     "name": "stdout",
     "output_type": "stream",
     "text": [
      "Epoch 1, Batch 10/40, Total Loss: 0.9358, Segmentation Loss: 0.3398, Domain Loss Source: 0.2216, Domain Loss Target: 0.2910, Adversarial Loss Target: 0.0007\n",
      "Epoch 1, Batch 20/40, Total Loss: 0.7986, Segmentation Loss: 0.2839, Domain Loss Source: 0.1750, Domain Loss Target: 0.2246, Adversarial Loss Target: 0.0010\n",
      "Epoch 1, Batch 30/40, Total Loss: 0.7005, Segmentation Loss: 0.2325, Domain Loss Source: 0.2390, Domain Loss Target: 0.0959, Adversarial Loss Target: 0.0022\n",
      "Epoch 1, Batch 40/40, Total Loss: 0.7111, Segmentation Loss: 0.2160, Domain Loss Source: 0.1542, Domain Loss Target: 0.2688, Adversarial Loss Target: 0.0015\n",
      "Epoch 1, Train Loss: 4.4348\n"
     ]
    },
    {
     "name": "stderr",
     "output_type": "stream",
     "text": [
      "/home/home/tim_ivan/idp/.venv/lib/python3.8/site-packages/torch/nn/modules/conv.py:456: UserWarning: Plan failed with a cudnnException: CUDNN_BACKEND_EXECUTION_PLAN_DESCRIPTOR: cudnnFinalize Descriptor Failed cudnn_status: CUDNN_STATUS_NOT_SUPPORTED (Triggered internally at ../aten/src/ATen/native/cudnn/Conv_v8.cpp:919.)\n",
      "  return F.conv2d(input, weight, bias, self.stride,\n"
     ]
    },
    {
     "name": "stdout",
     "output_type": "stream",
     "text": [
      "Evaluating model performance on source data\n",
      "Precision: 0.7929, Recall: 0.0403, F1 Score: 0.0758, Dice Score: 0.0758, Accuracy: 0.9703\n",
      "Evaluating model performance on target data\n",
      "Precision: 0.5705, Recall: 0.1970, F1 Score: 0.2769, Dice Score: 0.2769, Accuracy: 0.8105\n",
      "Epoch 1, Validation Loss Source: 0.1541, Validation Loss Target: 0.5054\n",
      "Epoch 2, Batch 10/40, Total Loss: 0.6260, Segmentation Loss: 0.2195, Domain Loss Source: 0.1674, Domain Loss Target: 0.1594, Adversarial Loss Target: 0.0020\n",
      "Epoch 2, Batch 20/40, Total Loss: 0.5895, Segmentation Loss: 0.1751, Domain Loss Source: 0.1007, Domain Loss Target: 0.2523, Adversarial Loss Target: 0.0015\n",
      "Epoch 2, Batch 30/40, Total Loss: 0.5566, Segmentation Loss: 0.1509, Domain Loss Source: 0.1545, Domain Loss Target: 0.1249, Adversarial Loss Target: 0.0023\n",
      "Epoch 2, Batch 40/40, Total Loss: 0.6024, Segmentation Loss: 0.1631, Domain Loss Source: 0.1386, Domain Loss Target: 0.2833, Adversarial Loss Target: 0.0016\n",
      "Epoch 2, Train Loss: 3.3126\n",
      "Evaluating model performance on source data\n",
      "Precision: 0.9168, Recall: 0.0596, F1 Score: 0.1099, Dice Score: 0.1099, Accuracy: 0.9710\n",
      "Evaluating model performance on target data\n",
      "Precision: 0.6548, Recall: 0.1202, F1 Score: 0.1913, Dice Score: 0.1913, Accuracy: 0.8048\n",
      "Epoch 2, Validation Loss Source: 0.1524, Validation Loss Target: 0.5725\n",
      "Epoch 3, Batch 10/40, Total Loss: 0.5769, Segmentation Loss: 0.1784, Domain Loss Source: 0.1965, Domain Loss Target: 0.1477, Adversarial Loss Target: 0.0023\n",
      "Epoch 3, Batch 20/40, Total Loss: 0.6205, Segmentation Loss: 0.1374, Domain Loss Source: 0.0868, Domain Loss Target: 0.4302, Adversarial Loss Target: 0.0008\n",
      "Epoch 3, Batch 30/40, Total Loss: 0.6237, Segmentation Loss: 0.1181, Domain Loss Source: 0.2765, Domain Loss Target: 0.1218, Adversarial Loss Target: 0.0024\n",
      "Epoch 3, Batch 40/40, Total Loss: 0.6329, Segmentation Loss: 0.1388, Domain Loss Source: 0.1837, Domain Loss Target: 0.3281, Adversarial Loss Target: 0.0009\n",
      "Epoch 3, Train Loss: 3.3968\n",
      "Evaluating model performance on source data\n",
      "Precision: 0.9107, Recall: 0.0948, F1 Score: 0.1692, Dice Score: 0.1692, Accuracy: 0.9719\n",
      "Evaluating model performance on target data\n",
      "Precision: 0.6128, Recall: 0.2939, F1 Score: 0.3586, Dice Score: 0.3586, Accuracy: 0.8199\n",
      "Epoch 3, Validation Loss Source: 0.1573, Validation Loss Target: 0.6163\n",
      "Epoch 4, Batch 10/40, Total Loss: 0.6046, Segmentation Loss: 0.1547, Domain Loss Source: 0.2677, Domain Loss Target: 0.1200, Adversarial Loss Target: 0.0022\n",
      "Epoch 4, Batch 20/40, Total Loss: 0.6067, Segmentation Loss: 0.1172, Domain Loss Source: 0.1317, Domain Loss Target: 0.3761, Adversarial Loss Target: 0.0010\n",
      "Epoch 4, Batch 30/40, Total Loss: 0.5969, Segmentation Loss: 0.0994, Domain Loss Source: 0.2799, Domain Loss Target: 0.1189, Adversarial Loss Target: 0.0022\n",
      "Epoch 4, Batch 40/40, Total Loss: 0.6153, Segmentation Loss: 0.1260, Domain Loss Source: 0.1941, Domain Loss Target: 0.3213, Adversarial Loss Target: 0.0007\n",
      "Epoch 4, Train Loss: 3.3626\n",
      "Evaluating model performance on source data\n",
      "Precision: 0.9036, Recall: 0.1385, F1 Score: 0.2370, Dice Score: 0.2370, Accuracy: 0.9730\n",
      "Evaluating model performance on target data\n",
      "Precision: 0.5889, Recall: 0.3344, F1 Score: 0.3886, Dice Score: 0.3886, Accuracy: 0.8171\n",
      "Epoch 4, Validation Loss Source: 0.1585, Validation Loss Target: 0.6581\n",
      "Epoch 5, Batch 10/40, Total Loss: 0.5912, Segmentation Loss: 0.1417, Domain Loss Source: 0.2328, Domain Loss Target: 0.1566, Adversarial Loss Target: 0.0020\n",
      "Epoch 5, Batch 20/40, Total Loss: 0.6285, Segmentation Loss: 0.1055, Domain Loss Source: 0.1284, Domain Loss Target: 0.3856, Adversarial Loss Target: 0.0012\n",
      "Epoch 5, Batch 30/40, Total Loss: 0.6077, Segmentation Loss: 0.0875, Domain Loss Source: 0.2395, Domain Loss Target: 0.1655, Adversarial Loss Target: 0.0017\n",
      "Epoch 5, Batch 40/40, Total Loss: 0.6736, Segmentation Loss: 0.1177, Domain Loss Source: 0.2342, Domain Loss Target: 0.3920, Adversarial Loss Target: 0.0006\n",
      "Epoch 5, Train Loss: 3.4656\n",
      "Evaluating model performance on source data\n",
      "Precision: 0.8937, Recall: 0.1720, F1 Score: 0.2851, Dice Score: 0.2851, Accuracy: 0.9738\n",
      "Evaluating model performance on target data\n",
      "Precision: 0.5785, Recall: 0.3534, F1 Score: 0.4018, Dice Score: 0.4018, Accuracy: 0.8152\n",
      "Epoch 5, Validation Loss Source: 0.1600, Validation Loss Target: 0.6828\n",
      "Epoch 6, Batch 10/40, Total Loss: 0.6041, Segmentation Loss: 0.1323, Domain Loss Source: 0.2466, Domain Loss Target: 0.1980, Adversarial Loss Target: 0.0016\n",
      "Epoch 6, Batch 20/40, Total Loss: 0.6027, Segmentation Loss: 0.0968, Domain Loss Source: 0.1284, Domain Loss Target: 0.4055, Adversarial Loss Target: 0.0006\n",
      "Epoch 6, Batch 30/40, Total Loss: 0.5771, Segmentation Loss: 0.0800, Domain Loss Source: 0.1916, Domain Loss Target: 0.2294, Adversarial Loss Target: 0.0014\n",
      "Epoch 6, Batch 40/40, Total Loss: 0.6236, Segmentation Loss: 0.1111, Domain Loss Source: 0.1949, Domain Loss Target: 0.3628, Adversarial Loss Target: 0.0006\n",
      "Epoch 6, Train Loss: 3.3246\n",
      "Evaluating model performance on source data\n",
      "Precision: 0.8896, Recall: 0.1989, F1 Score: 0.3217, Dice Score: 0.3217, Accuracy: 0.9745\n",
      "Evaluating model performance on target data\n",
      "Precision: 0.5597, Recall: 0.3871, F1 Score: 0.4264, Dice Score: 0.4264, Accuracy: 0.8155\n",
      "Epoch 6, Validation Loss Source: 0.1626, Validation Loss Target: 0.6946\n",
      "Epoch 7, Batch 10/40, Total Loss: 0.5806, Segmentation Loss: 0.1251, Domain Loss Source: 0.2432, Domain Loss Target: 0.1751, Adversarial Loss Target: 0.0017\n",
      "Epoch 7, Batch 20/40, Total Loss: 0.5840, Segmentation Loss: 0.0899, Domain Loss Source: 0.1402, Domain Loss Target: 0.3601, Adversarial Loss Target: 0.0007\n",
      "Epoch 7, Batch 30/40, Total Loss: 0.5718, Segmentation Loss: 0.0744, Domain Loss Source: 0.1768, Domain Loss Target: 0.2219, Adversarial Loss Target: 0.0016\n",
      "Epoch 7, Batch 40/40, Total Loss: 0.6026, Segmentation Loss: 0.1052, Domain Loss Source: 0.1267, Domain Loss Target: 0.3879, Adversarial Loss Target: 0.0007\n",
      "Epoch 7, Train Loss: 3.2391\n",
      "Evaluating model performance on source data\n",
      "Precision: 0.8883, Recall: 0.2197, F1 Score: 0.3487, Dice Score: 0.3487, Accuracy: 0.9751\n",
      "Evaluating model performance on target data\n",
      "Precision: 0.5493, Recall: 0.4262, F1 Score: 0.4538, Dice Score: 0.4538, Accuracy: 0.8164\n",
      "Epoch 7, Validation Loss Source: 0.1659, Validation Loss Target: 0.7064\n",
      "Epoch 8, Batch 10/40, Total Loss: 0.5527, Segmentation Loss: 0.1188, Domain Loss Source: 0.1785, Domain Loss Target: 0.2230, Adversarial Loss Target: 0.0015\n",
      "Epoch 8, Batch 20/40, Total Loss: 0.6084, Segmentation Loss: 0.0838, Domain Loss Source: 0.0888, Domain Loss Target: 0.5609, Adversarial Loss Target: 0.0004\n",
      "Epoch 8, Batch 30/40, Total Loss: 0.5938, Segmentation Loss: 0.0689, Domain Loss Source: 0.1393, Domain Loss Target: 0.2481, Adversarial Loss Target: 0.0014\n",
      "Epoch 8, Batch 40/40, Total Loss: 0.5997, Segmentation Loss: 0.1000, Domain Loss Source: 0.2487, Domain Loss Target: 0.2252, Adversarial Loss Target: 0.0010\n",
      "Epoch 8, Train Loss: 3.2581\n",
      "Evaluating model performance on source data\n",
      "Precision: 0.8740, Recall: 0.2484, F1 Score: 0.3827, Dice Score: 0.3827, Accuracy: 0.9756\n",
      "Evaluating model performance on target data\n",
      "Precision: 0.5484, Recall: 0.4672, F1 Score: 0.4847, Dice Score: 0.4847, Accuracy: 0.8150\n",
      "Epoch 8, Validation Loss Source: 0.1662, Validation Loss Target: 0.7256\n",
      "Epoch 9, Batch 10/40, Total Loss: 0.5470, Segmentation Loss: 0.1128, Domain Loss Source: 0.2078, Domain Loss Target: 0.1782, Adversarial Loss Target: 0.0017\n",
      "Epoch 9, Batch 20/40, Total Loss: 0.5793, Segmentation Loss: 0.0789, Domain Loss Source: 0.1105, Domain Loss Target: 0.4128, Adversarial Loss Target: 0.0007\n",
      "Epoch 9, Batch 30/40, Total Loss: 0.6031, Segmentation Loss: 0.0648, Domain Loss Source: 0.1362, Domain Loss Target: 0.3450, Adversarial Loss Target: 0.0010\n",
      "Epoch 9, Batch 40/40, Total Loss: 0.6471, Segmentation Loss: 0.0952, Domain Loss Source: 0.1683, Domain Loss Target: 0.4642, Adversarial Loss Target: 0.0005\n",
      "Epoch 9, Train Loss: 3.2661\n",
      "Evaluating model performance on source data\n",
      "Precision: 0.8602, Recall: 0.2704, F1 Score: 0.4068, Dice Score: 0.4068, Accuracy: 0.9760\n",
      "Evaluating model performance on target data\n",
      "Precision: 0.5396, Recall: 0.4881, F1 Score: 0.4961, Dice Score: 0.4961, Accuracy: 0.8130\n",
      "Epoch 9, Validation Loss Source: 0.1667, Validation Loss Target: 0.7559\n",
      "Epoch 10, Batch 10/40, Total Loss: 0.5739, Segmentation Loss: 0.1077, Domain Loss Source: 0.2910, Domain Loss Target: 0.1442, Adversarial Loss Target: 0.0018\n",
      "Epoch 10, Batch 20/40, Total Loss: 0.5743, Segmentation Loss: 0.0747, Domain Loss Source: 0.1855, Domain Loss Target: 0.2900, Adversarial Loss Target: 0.0008\n",
      "Epoch 10, Batch 30/40, Total Loss: 0.5664, Segmentation Loss: 0.0616, Domain Loss Source: 0.2154, Domain Loss Target: 0.1862, Adversarial Loss Target: 0.0016\n",
      "Epoch 10, Batch 40/40, Total Loss: 0.5835, Segmentation Loss: 0.0904, Domain Loss Source: 0.1391, Domain Loss Target: 0.4315, Adversarial Loss Target: 0.0005\n",
      "Epoch 10, Train Loss: 3.1642\n",
      "Evaluating model performance on source data\n",
      "Precision: 0.8471, Recall: 0.2948, F1 Score: 0.4326, Dice Score: 0.4326, Accuracy: 0.9765\n",
      "Evaluating model performance on target data\n",
      "Precision: 0.5395, Recall: 0.4985, F1 Score: 0.5025, Dice Score: 0.5025, Accuracy: 0.8129\n",
      "Epoch 10, Validation Loss Source: 0.1651, Validation Loss Target: 0.7790\n",
      "Precision: 0.5395, Recall: 0.4985, F1 Score: 0.5025, Dice Score: 0.5025, Accuracy: 0.8129\n"
     ]
    },
    {
     "data": {
      "application/vnd.jupyter.widget-view+json": {
       "model_id": "eb35898880a046e4af2e1c96c92a6d9b",
       "version_major": 2,
       "version_minor": 0
      },
      "text/plain": [
       "VBox(children=(Label(value='4037.737 MB of 4037.737 MB uploaded\\r'), FloatProgress(value=1.0, max=1.0)))"
      ]
     },
     "metadata": {},
     "output_type": "display_data"
    },
    {
     "data": {
      "text/html": [
       "<style>\n",
       "    table.wandb td:nth-child(1) { padding: 0 10px; text-align: left ; width: auto;} td:nth-child(2) {text-align: left ; width: 100%}\n",
       "    .wandb-row { display: flex; flex-direction: row; flex-wrap: wrap; justify-content: flex-start; width: 100% }\n",
       "    .wandb-col { display: flex; flex-direction: column; flex-basis: 100%; flex: 1; padding: 10px; }\n",
       "    </style>\n",
       "<div class=\"wandb-row\"><div class=\"wandb-col\"><h3>Run history:</h3><br/><table class=\"wandb\"><tr><td>dice_score/source</td><td>▁▂▃▄▅▆▆▇▇█</td></tr><tr><td>dice_score/target</td><td>▃▁▅▅▆▆▇███</td></tr><tr><td>epoch</td><td>▁▂▃▃▄▅▆▆▇█</td></tr><tr><td>precision/source</td><td>▁██▇▇▆▆▆▅▄</td></tr><tr><td>precision/target</td><td>▃█▅▄▃▂▂▂▁▁</td></tr><tr><td>test/accuracy</td><td>▁</td></tr><tr><td>test/dice_score</td><td>▁</td></tr><tr><td>test/f1_score</td><td>▁</td></tr><tr><td>test/precision</td><td>▁</td></tr><tr><td>test/recall</td><td>▁</td></tr><tr><td>train/domain_loss</td><td>▇▁▅▆█▇▆▇█▇</td></tr><tr><td>train/loss</td><td>█▂▂▂▃▂▁▂▂▁</td></tr><tr><td>val/loss_source</td><td>▂▁▃▄▅▆███▇</td></tr><tr><td>val/loss_target</td><td>▁▃▄▅▆▆▆▇▇█</td></tr></table><br/></div><div class=\"wandb-col\"><h3>Run summary:</h3><br/><table class=\"wandb\"><tr><td>dice_score/source</td><td>0.43265</td></tr><tr><td>dice_score/target</td><td>0.5025</td></tr><tr><td>epoch</td><td>10</td></tr><tr><td>precision/source</td><td>0.8471</td></tr><tr><td>precision/target</td><td>0.53952</td></tr><tr><td>test/accuracy</td><td>0.81292</td></tr><tr><td>test/dice_score</td><td>0.5025</td></tr><tr><td>test/f1_score</td><td>0.5025</td></tr><tr><td>test/precision</td><td>0.53952</td></tr><tr><td>test/recall</td><td>0.49848</td></tr><tr><td>train/domain_loss</td><td>0.5017</td></tr><tr><td>train/loss</td><td>3.16416</td></tr><tr><td>val/loss_source</td><td>0.1651</td></tr><tr><td>val/loss_target</td><td>0.77901</td></tr></table><br/></div></div>"
      ],
      "text/plain": [
       "<IPython.core.display.HTML object>"
      ]
     },
     "metadata": {},
     "output_type": "display_data"
    },
    {
     "data": {
      "text/html": [
       " View run <strong style=\"color:#cdcd00\">FADA-Linknet-timm-regnetx_320-cropped-window_500-600_pretrained</strong> at: <a href='https://wandb.ai/idp2024/domain-adaptation/runs/7mlq44ps' target=\"_blank\">https://wandb.ai/idp2024/domain-adaptation/runs/7mlq44ps</a><br/> View project at: <a href='https://wandb.ai/idp2024/domain-adaptation' target=\"_blank\">https://wandb.ai/idp2024/domain-adaptation</a><br/>Synced 5 W&B file(s), 180 media file(s), 9 artifact file(s) and 0 other file(s)"
      ],
      "text/plain": [
       "<IPython.core.display.HTML object>"
      ]
     },
     "metadata": {},
     "output_type": "display_data"
    },
    {
     "data": {
      "text/html": [
       "Find logs at: <code>./wandb/run-20241106_160545-7mlq44ps/logs</code>"
      ],
      "text/plain": [
       "<IPython.core.display.HTML object>"
      ]
     },
     "metadata": {},
     "output_type": "display_data"
    },
    {
     "data": {
      "image/png": "[encoded data removed]",
      "text/plain": [
       "<Figure size 1000x600 with 1 Axes>"
      ]
     },
     "metadata": {},
     "output_type": "display_data"
    }
   ],
   "source": [
    "import matplotlib.pyplot as plt\n",
    "from FADA.train_FADA import model_pipeline\n",
    "import torch\n",
    "\n",
    "encoder = \"timm-regnetx_320\"\n",
    "architecture = \"Linknet\"\n",
    "device = torch.device(\"cuda:5\" if torch.cuda.is_available() else \"cpu\")\n",
    "epochs = 10\n",
    "loss = \"BCE\"\n",
    "in_channels = 1\n",
    "ndf=256\n",
    "learning_rate_fea = 0.001\n",
    "learning_rate_cls = 0.001\n",
    "learning_rate_dis = 0.0001\n",
    "\n",
    "config = {\n",
    "    \"model\": \"FADA-{architecture}-{encoder}-cropped-window_{window[0]}-{window[1]}_pretrained\".format(\n",
    "        architecture=architecture, encoder=encoder, window=window\n",
    "    ),\n",
    "    \"encoder\": encoder,\n",
    "    \"architecture\": architecture,\n",
    "    \"in_channels\": in_channels,\n",
    "    \"optimizer\": \"Adam\",\n",
    "    \"batch_size_source\": trainloader_source.batch_size,\n",
    "    \"batch_size_target\": trainloader_target.batch_size,\n",
    "    \"learning_rate_fea\": learning_rate_fea,\n",
    "    \"learning_rate_cls\": learning_rate_cls,\n",
    "    \"learning_rate_dis\": learning_rate_dis,\n",
    "    \"ndf\": ndf,\n",
    "    \"epochs\": epochs,\n",
    "    \"seg_loss\": loss,\n",
    "    \"pretrained\": \"./models/Linknet-timm-regnetx_320-512x512-augmented-with-random-crops-single-channel-focal.pth\",\n",
    "}\n",
    "\n",
    "\n",
    "model, train_losses, domain_losses, val_losses_source, val_losses_target = model_pipeline(\n",
    "    trainloader_source,\n",
    "    validationloader_source,\n",
    "    testloader_source,\n",
    "    trainloader_target,\n",
    "    testloader_target,\n",
    "    config,\n",
    "    project=\"domain-adaptation\",\n",
    "    device=device,\n",
    "    batch_print=10,\n",
    "    evaluate=True,\n",
    "    with_overlays=True,\n",
    ")\n",
    "\n",
    "plt.figure(figsize=(10, 6))\n",
    "plt.plot(train_losses, label=\"Combined Training Loss\")\n",
    "plt.plot(domain_losses, label=\"Domain Loss\")\n",
    "plt.plot(val_losses_source, label=\"Validation Loss Source\")\n",
    "plt.plot(val_losses_target, label=\"Validation Loss Target\")\n",
    "plt.xlabel(\"Epochs\")\n",
    "plt.ylabel(\"Loss\")\n",
    "plt.title(\"Training and Validation Loss Curves\")\n",
    "plt.legend()\n",
    "plt.show()"
   ]
  }
 ],
 "metadata": {
  "kernelspec": {
   "display_name": ".venv",
   "language": "python",
   "name": "python3"
  },
  "language_info": {
   "codemirror_mode": {
    "name": "ipython",
    "version": 3
   },
   "file_extension": ".py",
   "mimetype": "text/x-python",
   "name": "python",
   "nbconvert_exporter": "python",
   "pygments_lexer": "ipython3",
   "version": "3.8.10"
  }
 },
 "nbformat": 4,
 "nbformat_minor": 2
}
