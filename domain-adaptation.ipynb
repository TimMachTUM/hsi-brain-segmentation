{
 "cells": [
  {
   "cell_type": "markdown",
   "metadata": {},
   "source": [
    "# Domain Adaptation"
   ]
  },
  {
   "cell_type": "code",
   "execution_count": 1,
   "metadata": {},
   "outputs": [
    {
     "name": "stdout",
     "output_type": "stream",
     "text": [
      "Number of samples in the training set: 640, validation set: 60\n",
      "Number of samples in the test set: 200\n",
      "4 5\n"
     ]
    }
   ],
   "source": [
    "from dataset import Dataset, build_FIVES_dataloaders, build_hsi_dataloader, HSIDataset\n",
    "from torch.utils.data import DataLoader\n",
    "import torch\n",
    "\n",
    "trainloader_source, validationloader_source, testloader_source = (\n",
    "    build_FIVES_dataloaders(batch_size=16, width=224, height=224, cropped=True)\n",
    ")\n",
    "\n",
    "window=(500, 600)\n",
    "trainloader_target = build_hsi_dataloader(\n",
    "    batch_size=8,\n",
    "    train_split=1,\n",
    "    val_split=0,\n",
    "    test_split=0,\n",
    "    window=window,\n",
    "    exclude_labeled_data=True,\n",
    ")[0]\n",
    "\n",
    "path = \"./data/helicoid_with_labels\"\n",
    "testset = HSIDataset(path, with_gt=True, window=window)\n",
    "testset.normalize_dataset()\n",
    "testloader_target = DataLoader(testset, batch_size=1, shuffle=False)\n",
    "print(len(trainloader_target), len(testloader_target))"
   ]
  },
  {
   "cell_type": "markdown",
   "metadata": {},
   "source": [
    "## Evaluation of Model without Domain Adaptation on Target Testset"
   ]
  },
  {
   "cell_type": "markdown",
   "metadata": {},
   "source": [
    "### Transfer Learning"
   ]
  },
  {
   "cell_type": "code",
   "execution_count": 3,
   "metadata": {},
   "outputs": [
    {
     "name": "stdout",
     "output_type": "stream",
     "text": [
      "Precision: nan, Recall: 0.0239, F1 Score: 0.0410, Dice Score: 0.0410, Accuracy: 0.7850\n"
     ]
    },
    {
     "data": {
      "text/plain": [
       "(tensor(nan, device='cuda:3'),\n",
       " tensor(0.0239, device='cuda:3'),\n",
       " tensor(0.0410, device='cuda:3'),\n",
       " tensor(0.7850, device='cuda:3'),\n",
       " tensor(0.0410, device='cuda:3'))"
      ]
     },
     "execution_count": 3,
     "metadata": {},
     "output_type": "execute_result"
    }
   ],
   "source": [
    "from segmentation_util import evaluate_model, build_segmentation_model\n",
    "import torch\n",
    "device = torch.device(\"cuda:3\" if torch.cuda.is_available() else \"cpu\")\n",
    "model = build_segmentation_model('resnet50', 'Unet', device, in_channels=1)\n",
    "\n",
    "evaluate_model(\n",
    "    model, testloader_target, device, with_wandb=False\n",
    ")"
   ]
  },
  {
   "cell_type": "markdown",
   "metadata": {},
   "source": [
    "### Ensemble Model"
   ]
  },
  {
   "cell_type": "code",
   "execution_count": 3,
   "metadata": {},
   "outputs": [
    {
     "name": "stdout",
     "output_type": "stream",
     "text": [
      "Precision: 0.5368, Recall: 0.2351, F1 Score: 0.3072, Dice Score: 0.3072, Accuracy: 0.8104\n"
     ]
    },
    {
     "data": {
      "text/plain": [
       "(tensor(0.5368, device='cuda:3'),\n",
       " tensor(0.2351, device='cuda:3'),\n",
       " tensor(0.3072, device='cuda:3'),\n",
       " tensor(0.8104, device='cuda:3'),\n",
       " tensor(0.3072, device='cuda:3'))"
      ]
     },
     "execution_count": 3,
     "metadata": {},
     "output_type": "execute_result"
    }
   ],
   "source": [
    "from HSI_Net import SegmentationModelWithWindowing\n",
    "from segmentation_util import build_segmentation_model, evaluate_model\n",
    "from ensemble_model import EnsembleModelAverage\n",
    "import segmentation_models_pytorch as smp\n",
    "import torch\n",
    "\n",
    "path = \"./data/helicoid_with_labels\"\n",
    "testset = HSIDataset(path, with_gt=True)\n",
    "testset.normalize_dataset()\n",
    "testloader_target = DataLoader(testset, batch_size=1, shuffle=False)\n",
    "\n",
    "encoder = 'timm-regnetx_320'\n",
    "architecture = 'Linknet'\n",
    "device = ('cuda:3' if torch.cuda.is_available() else 'cpu')\n",
    "\n",
    "segmenter_single_channel = build_segmentation_model(encoder, architecture, device)\n",
    "segmenter_single_channel.load_state_dict(torch.load('./models/{architecture}-{encoder}-512x512-augmented-with-random-crops-single-channel-focal.pth'.format(architecture=architecture, encoder=encoder)))\n",
    "segmenter_single_channel.eval()\n",
    "\n",
    "window1 = (400, 500)\n",
    "window2 = (500, 600)\n",
    "window3 = (600, 700)\n",
    "window4 = (700, 800)\n",
    "window5 = (800, 900)\n",
    "window6 = (900, 1000)\n",
    "window_full = (400, 1100)\n",
    "\n",
    "\n",
    "model_windowing_400to500 = SegmentationModelWithWindowing(segmenter_single_channel, window=testset.get_window_from_wavelengths(window1))\n",
    "model_with_windowing_500to600 = SegmentationModelWithWindowing(segmenter_single_channel, window=testset.get_window_from_wavelengths(window2))\n",
    "model_windowing_600to700 = SegmentationModelWithWindowing(segmenter_single_channel, window=testset.get_window_from_wavelengths(window3))\n",
    "model_windowing_700to800 = SegmentationModelWithWindowing(segmenter_single_channel, window=testset.get_window_from_wavelengths(window4))\n",
    "model_windowing_800to900 = SegmentationModelWithWindowing(segmenter_single_channel, window=testset.get_window_from_wavelengths(window5))\n",
    "model_windowing_900to1000 = SegmentationModelWithWindowing(segmenter_single_channel, window=testset.get_window_from_wavelengths(window6))\n",
    "model_window_full = SegmentationModelWithWindowing(segmenter_single_channel, window=testset.get_window_from_wavelengths(window_full))\n",
    "\n",
    "model = EnsembleModelAverage([model_windowing_400to500, model_with_windowing_500to600, model_windowing_600to700, model_windowing_700to800, model_windowing_900to1000, model_window_full])\n",
    "evaluate_model(model, testloader_target, device, with_wandb=False)"
   ]
  },
  {
   "cell_type": "markdown",
   "metadata": {},
   "source": [
    "# Domain Adaptation Approaches:\n",
    "## GRL domain adaptation"
   ]
  },
  {
   "cell_type": "code",
   "execution_count": 3,
   "metadata": {},
   "outputs": [
    {
     "name": "stderr",
     "output_type": "stream",
     "text": [
      "Failed to detect the name of this notebook, you can set it manually with the WANDB_NOTEBOOK_NAME environment variable to enable code saving.\n",
      "\u001b[34m\u001b[1mwandb\u001b[0m: Currently logged in as: \u001b[33mtim-mach\u001b[0m (\u001b[33midp2024\u001b[0m). Use \u001b[1m`wandb login --relogin`\u001b[0m to force relogin\n"
     ]
    },
    {
     "data": {
      "application/vnd.jupyter.widget-view+json": {
       "model_id": "ca3976d1564a45b7b3bc5ddd95043cb7",
       "version_major": 2,
       "version_minor": 0
      },
      "text/plain": [
       "VBox(children=(Label(value='Waiting for wandb.init()...\\r'), FloatProgress(value=0.011127548747592503, max=1.0…"
      ]
     },
     "metadata": {},
     "output_type": "display_data"
    },
    {
     "data": {
      "text/html": [
       "wandb version 0.18.5 is available!  To upgrade, please run:\n",
       " $ pip install wandb --upgrade"
      ],
      "text/plain": [
       "<IPython.core.display.HTML object>"
      ]
     },
     "metadata": {},
     "output_type": "display_data"
    },
    {
     "data": {
      "text/html": [
       "Tracking run with wandb version 0.16.6"
      ],
      "text/plain": [
       "<IPython.core.display.HTML object>"
      ]
     },
     "metadata": {},
     "output_type": "display_data"
    },
    {
     "data": {
      "text/html": [
       "Run data is saved locally in <code>/home/home/tim_ivan/idp/wandb/run-20241103_185322-nfaousd8</code>"
      ],
      "text/plain": [
       "<IPython.core.display.HTML object>"
      ]
     },
     "metadata": {},
     "output_type": "display_data"
    },
    {
     "data": {
      "text/html": [
       "Syncing run <strong><a href='https://wandb.ai/idp2024/domain-adaptation/runs/nfaousd8' target=\"_blank\">GRL-Unet-resnet50-window_500-600</a></strong> to <a href='https://wandb.ai/idp2024/domain-adaptation' target=\"_blank\">Weights & Biases</a> (<a href='https://wandb.me/run' target=\"_blank\">docs</a>)<br/>"
      ],
      "text/plain": [
       "<IPython.core.display.HTML object>"
      ]
     },
     "metadata": {},
     "output_type": "display_data"
    },
    {
     "data": {
      "text/html": [
       " View project at <a href='https://wandb.ai/idp2024/domain-adaptation' target=\"_blank\">https://wandb.ai/idp2024/domain-adaptation</a>"
      ],
      "text/plain": [
       "<IPython.core.display.HTML object>"
      ]
     },
     "metadata": {},
     "output_type": "display_data"
    },
    {
     "data": {
      "text/html": [
       " View run at <a href='https://wandb.ai/idp2024/domain-adaptation/runs/nfaousd8' target=\"_blank\">https://wandb.ai/idp2024/domain-adaptation/runs/nfaousd8</a>"
      ],
      "text/plain": [
       "<IPython.core.display.HTML object>"
      ]
     },
     "metadata": {},
     "output_type": "display_data"
    },
    {
     "name": "stdout",
     "output_type": "stream",
     "text": [
      "Epoch 1, Batch 10/80, Total Loss: 68.4002, Segmentation Loss: 0.8864, Domain Loss Source: 0.0005, Domain Loss Target: 9.4123\n",
      "Epoch 1, Batch 20/80, Total Loss: 4.1346, Segmentation Loss: 0.9007, Domain Loss Source: 0.0548, Domain Loss Target: 2.3684\n",
      "Epoch 1, Batch 30/80, Total Loss: 3.4371, Segmentation Loss: 0.9175, Domain Loss Source: 0.2462, Domain Loss Target: 1.3618\n",
      "Epoch 1, Batch 40/80, Total Loss: 3.6949, Segmentation Loss: 0.9478, Domain Loss Source: 0.6314, Domain Loss Target: 0.6760\n",
      "Epoch 1, Batch 50/80, Total Loss: 2.2615, Segmentation Loss: 0.8755, Domain Loss Source: 0.6994, Domain Loss Target: 0.6914\n",
      "Epoch 1, Batch 60/80, Total Loss: 2.2996, Segmentation Loss: 0.9212, Domain Loss Source: 0.7024, Domain Loss Target: 0.6982\n",
      "Epoch 1, Batch 70/80, Total Loss: 2.2634, Segmentation Loss: 0.9111, Domain Loss Source: 0.6724, Domain Loss Target: 0.7183\n",
      "Epoch 1, Batch 80/80, Total Loss: 2.2924, Segmentation Loss: 0.9217, Domain Loss Source: 0.6732, Domain Loss Target: 0.7135\n",
      "Epoch 1, Train Loss: 11.0980\n",
      "Evaluating model performance on source data\n",
      "Precision: 0.0400, Recall: 0.1380, F1 Score: 0.0591, Dice Score: 0.0591, Accuracy: 0.8689\n",
      "Evaluating model performance on target data\n",
      "Precision: 0.2192, Recall: 0.7695, F1 Score: 0.3385, Dice Score: 0.3385, Accuracy: 0.3765\n",
      "Epoch 1, Validation Loss Source: 0.9288, Validation Loss Target: 0.6583\n",
      "Epoch 2, Batch 10/80, Total Loss: 2.2436, Segmentation Loss: 0.8649, Domain Loss Source: 0.6791, Domain Loss Target: 0.7074\n",
      "Epoch 2, Batch 20/80, Total Loss: 2.2978, Segmentation Loss: 0.9460, Domain Loss Source: 0.6844, Domain Loss Target: 0.7020\n",
      "Epoch 2, Batch 30/80, Total Loss: 2.2628, Segmentation Loss: 0.8689, Domain Loss Source: 0.6884, Domain Loss Target: 0.6979\n",
      "Epoch 2, Batch 40/80, Total Loss: 2.2790, Segmentation Loss: 0.9430, Domain Loss Source: 0.6910, Domain Loss Target: 0.6953\n",
      "Epoch 2, Batch 50/80, Total Loss: 2.2673, Segmentation Loss: 0.8827, Domain Loss Source: 0.6925, Domain Loss Target: 0.6938\n",
      "Epoch 2, Batch 60/80, Total Loss: 2.2996, Segmentation Loss: 0.9392, Domain Loss Source: 0.6932, Domain Loss Target: 0.6931\n",
      "Epoch 2, Batch 70/80, Total Loss: 2.2644, Segmentation Loss: 0.9212, Domain Loss Source: 0.6935, Domain Loss Target: 0.6928\n",
      "Epoch 2, Batch 80/80, Total Loss: 2.2720, Segmentation Loss: 0.9368, Domain Loss Source: 0.6935, Domain Loss Target: 0.6928\n",
      "Epoch 2, Train Loss: 2.2733\n",
      "Evaluating model performance on source data\n",
      "Precision: 0.0363, Recall: 0.1601, F1 Score: 0.0560, Dice Score: 0.0560, Accuracy: 0.8406\n",
      "Evaluating model performance on target data\n",
      "Precision: 0.2200, Recall: 0.9733, F1 Score: 0.3529, Dice Score: 0.3529, Accuracy: 0.2553\n",
      "Epoch 2, Validation Loss Source: 0.9327, Validation Loss Target: 0.6473\n",
      "Epoch 3, Batch 10/80, Total Loss: 2.2510, Segmentation Loss: 0.9047, Domain Loss Source: 0.6934, Domain Loss Target: 0.6929\n",
      "Epoch 3, Batch 20/80, Total Loss: 2.2846, Segmentation Loss: 0.9438, Domain Loss Source: 0.6933, Domain Loss Target: 0.6930\n",
      "Epoch 3, Batch 30/80, Total Loss: 2.2586, Segmentation Loss: 0.8399, Domain Loss Source: 0.6932, Domain Loss Target: 0.6931\n",
      "Epoch 3, Batch 40/80, Total Loss: 2.2763, Segmentation Loss: 0.9231, Domain Loss Source: 0.6932, Domain Loss Target: 0.6931\n",
      "Epoch 3, Batch 50/80, Total Loss: 2.3026, Segmentation Loss: 0.8897, Domain Loss Source: 0.6931, Domain Loss Target: 0.6932\n",
      "Epoch 3, Batch 60/80, Total Loss: 2.2961, Segmentation Loss: 0.9203, Domain Loss Source: 0.6931, Domain Loss Target: 0.6932\n",
      "Epoch 3, Batch 70/80, Total Loss: 2.2727, Segmentation Loss: 0.9412, Domain Loss Source: 0.6931, Domain Loss Target: 0.6932\n",
      "Epoch 3, Batch 80/80, Total Loss: 2.2781, Segmentation Loss: 0.9300, Domain Loss Source: 0.6931, Domain Loss Target: 0.6932\n",
      "Epoch 3, Train Loss: 2.2775\n",
      "Evaluating model performance on source data\n",
      "Precision: 0.0332, Recall: 0.3400, F1 Score: 0.0589, Dice Score: 0.0589, Accuracy: 0.6813\n",
      "Evaluating model performance on target data\n",
      "Precision: 0.2126, Recall: 1.0000, F1 Score: 0.3459, Dice Score: 0.3459, Accuracy: 0.2156\n",
      "Epoch 3, Validation Loss Source: 0.9200, Validation Loss Target: 0.6542\n",
      "Epoch 4, Batch 10/80, Total Loss: 2.2550, Segmentation Loss: 0.9111, Domain Loss Source: 0.6931, Domain Loss Target: 0.6931\n",
      "Epoch 4, Batch 20/80, Total Loss: 2.2911, Segmentation Loss: 0.9406, Domain Loss Source: 0.6931, Domain Loss Target: 0.6931\n",
      "Epoch 4, Batch 30/80, Total Loss: 2.2871, Segmentation Loss: 0.8725, Domain Loss Source: 0.6931, Domain Loss Target: 0.6931\n",
      "Epoch 4, Batch 40/80, Total Loss: 2.2634, Segmentation Loss: 0.9281, Domain Loss Source: 0.6931, Domain Loss Target: 0.6931\n",
      "Epoch 4, Batch 50/80, Total Loss: 2.2707, Segmentation Loss: 0.8676, Domain Loss Source: 0.6931, Domain Loss Target: 0.6931\n",
      "Epoch 4, Batch 60/80, Total Loss: 2.2898, Segmentation Loss: 0.9207, Domain Loss Source: 0.6931, Domain Loss Target: 0.6931\n",
      "Epoch 4, Batch 70/80, Total Loss: 2.2669, Segmentation Loss: 0.9504, Domain Loss Source: 0.6931, Domain Loss Target: 0.6931\n",
      "Epoch 4, Batch 80/80, Total Loss: 2.2830, Segmentation Loss: 0.9265, Domain Loss Source: 0.6931, Domain Loss Target: 0.6931\n",
      "Epoch 4, Train Loss: 2.2759\n",
      "Evaluating model performance on source data\n",
      "Precision: 0.0332, Recall: 0.3974, F1 Score: 0.0597, Dice Score: 0.0597, Accuracy: 0.6392\n",
      "Evaluating model performance on target data\n",
      "Precision: 0.2123, Recall: 1.0000, F1 Score: 0.3456, Dice Score: 0.3456, Accuracy: 0.2146\n",
      "Epoch 4, Validation Loss Source: 0.9211, Validation Loss Target: 0.6544\n",
      "Epoch 5, Batch 10/80, Total Loss: 2.2456, Segmentation Loss: 0.9115, Domain Loss Source: 0.6931, Domain Loss Target: 0.6931\n",
      "Epoch 5, Batch 20/80, Total Loss: 2.2892, Segmentation Loss: 0.9343, Domain Loss Source: 0.6931, Domain Loss Target: 0.6931\n",
      "Epoch 5, Batch 30/80, Total Loss: 2.2755, Segmentation Loss: 0.8675, Domain Loss Source: 0.6931, Domain Loss Target: 0.6931\n",
      "Epoch 5, Batch 40/80, Total Loss: 2.2572, Segmentation Loss: 0.9209, Domain Loss Source: 0.6931, Domain Loss Target: 0.6931\n",
      "Epoch 5, Batch 50/80, Total Loss: 2.2496, Segmentation Loss: 0.8666, Domain Loss Source: 0.6931, Domain Loss Target: 0.6931\n",
      "Epoch 5, Batch 60/80, Total Loss: 2.2702, Segmentation Loss: 0.9010, Domain Loss Source: 0.6931, Domain Loss Target: 0.6931\n",
      "Epoch 5, Batch 70/80, Total Loss: 7.0934, Segmentation Loss: 0.9299, Domain Loss Source: 0.7646, Domain Loss Target: 0.6265\n",
      "Epoch 5, Batch 80/80, Total Loss: 2.2736, Segmentation Loss: 0.9344, Domain Loss Source: 0.7901, Domain Loss Target: 0.6048\n",
      "Epoch 5, Train Loss: 2.8693\n",
      "Evaluating model performance on source data\n",
      "Precision: 0.0383, Recall: 0.2521, F1 Score: 0.0636, Dice Score: 0.0636, Accuracy: 0.7809\n",
      "Evaluating model performance on target data\n",
      "Precision: 0.2138, Recall: 0.9977, F1 Score: 0.3473, Dice Score: 0.3473, Accuracy: 0.2219\n",
      "Epoch 5, Validation Loss Source: 0.9224, Validation Loss Target: 0.6527\n",
      "Epoch 6, Batch 10/80, Total Loss: 2.2518, Segmentation Loss: 0.9123, Domain Loss Source: 0.7543, Domain Loss Target: 0.6355\n",
      "Epoch 6, Batch 20/80, Total Loss: 2.2880, Segmentation Loss: 0.9527, Domain Loss Source: 0.7141, Domain Loss Target: 0.6727\n",
      "Epoch 6, Batch 30/80, Total Loss: 2.2569, Segmentation Loss: 0.8067, Domain Loss Source: 0.6822, Domain Loss Target: 0.6991\n",
      "Epoch 6, Batch 40/80, Total Loss: 2.2598, Segmentation Loss: 0.9305, Domain Loss Source: 0.6148, Domain Loss Target: 0.7464\n",
      "Epoch 6, Batch 50/80, Total Loss: 2.2396, Segmentation Loss: 0.8562, Domain Loss Source: 0.6162, Domain Loss Target: 0.7693\n",
      "Epoch 6, Batch 60/80, Total Loss: 2.2518, Segmentation Loss: 0.9199, Domain Loss Source: 0.6997, Domain Loss Target: 0.6464\n",
      "Epoch 6, Batch 70/80, Total Loss: 2.2412, Segmentation Loss: 0.9463, Domain Loss Source: 0.7416, Domain Loss Target: 0.6469\n",
      "Epoch 6, Batch 80/80, Total Loss: 2.2779, Segmentation Loss: 0.9192, Domain Loss Source: 0.7190, Domain Loss Target: 0.6679\n",
      "Epoch 6, Train Loss: 2.2584\n",
      "Evaluating model performance on source data\n",
      "Precision: 0.0554, Recall: 0.3125, F1 Score: 0.0910, Dice Score: 0.0910, Accuracy: 0.8186\n",
      "Evaluating model performance on target data\n",
      "Precision: 0.1652, Recall: 0.1664, F1 Score: 0.1634, Dice Score: 0.1634, Accuracy: 0.6607\n",
      "Epoch 6, Validation Loss Source: 0.8825, Validation Loss Target: 0.8359\n",
      "Epoch 7, Batch 10/80, Total Loss: 2.2533, Segmentation Loss: 0.9140, Domain Loss Source: 0.6983, Domain Loss Target: 0.6880\n",
      "Epoch 7, Batch 20/80, Total Loss: 2.2580, Segmentation Loss: 0.9197, Domain Loss Source: 0.6886, Domain Loss Target: 0.6978\n",
      "Epoch 7, Batch 30/80, Total Loss: 2.2333, Segmentation Loss: 0.7658, Domain Loss Source: 0.6875, Domain Loss Target: 0.6989\n",
      "Epoch 7, Batch 40/80, Total Loss: 2.2405, Segmentation Loss: 0.9413, Domain Loss Source: 0.6900, Domain Loss Target: 0.6963\n",
      "Epoch 7, Batch 50/80, Total Loss: 2.2898, Segmentation Loss: 0.8751, Domain Loss Source: 0.6925, Domain Loss Target: 0.6938\n",
      "Epoch 7, Batch 60/80, Total Loss: 2.3000, Segmentation Loss: 0.9060, Domain Loss Source: 0.6937, Domain Loss Target: 0.6925\n",
      "Epoch 7, Batch 70/80, Total Loss: 2.2564, Segmentation Loss: 0.9108, Domain Loss Source: 0.6939, Domain Loss Target: 0.6924\n",
      "Epoch 7, Batch 80/80, Total Loss: 2.2531, Segmentation Loss: 0.9288, Domain Loss Source: 0.6935, Domain Loss Target: 0.6928\n",
      "Epoch 7, Train Loss: 2.2606\n",
      "Evaluating model performance on source data\n",
      "Precision: 0.0472, Recall: 0.2381, F1 Score: 0.0747, Dice Score: 0.0747, Accuracy: 0.8292\n",
      "Evaluating model performance on target data\n",
      "Precision: 0.2137, Recall: 0.9991, F1 Score: 0.3472, Dice Score: 0.3472, Accuracy: 0.2207\n",
      "Epoch 7, Validation Loss Source: 0.9121, Validation Loss Target: 0.6528\n",
      "Epoch 8, Batch 10/80, Total Loss: 2.2153, Segmentation Loss: 0.8712, Domain Loss Source: 0.6932, Domain Loss Target: 0.6931\n",
      "Epoch 8, Batch 20/80, Total Loss: 2.2816, Segmentation Loss: 0.9361, Domain Loss Source: 0.6930, Domain Loss Target: 0.6933\n",
      "Epoch 8, Batch 30/80, Total Loss: 2.2473, Segmentation Loss: 0.8294, Domain Loss Source: 0.6930, Domain Loss Target: 0.6933\n",
      "Epoch 8, Batch 40/80, Total Loss: 2.2658, Segmentation Loss: 0.8877, Domain Loss Source: 0.6931, Domain Loss Target: 0.6932\n",
      "Epoch 8, Batch 50/80, Total Loss: 2.2259, Segmentation Loss: 0.8352, Domain Loss Source: 0.6932, Domain Loss Target: 0.6931\n",
      "Epoch 8, Batch 60/80, Total Loss: 2.2442, Segmentation Loss: 0.8905, Domain Loss Source: 0.6932, Domain Loss Target: 0.6931\n",
      "Epoch 8, Batch 70/80, Total Loss: 2.2620, Segmentation Loss: 0.9678, Domain Loss Source: 0.6932, Domain Loss Target: 0.6931\n",
      "Epoch 8, Batch 80/80, Total Loss: 2.2632, Segmentation Loss: 0.8941, Domain Loss Source: 0.6931, Domain Loss Target: 0.6931\n",
      "Epoch 8, Train Loss: 2.2507\n",
      "Evaluating model performance on source data\n",
      "Precision: 0.0638, Recall: 0.2257, F1 Score: 0.0937, Dice Score: 0.0937, Accuracy: 0.8771\n",
      "Evaluating model performance on target data\n",
      "Precision: 0.2569, Recall: 0.8998, F1 Score: 0.3886, Dice Score: 0.3886, Accuracy: 0.3956\n",
      "Epoch 8, Validation Loss Source: 0.8782, Validation Loss Target: 0.6119\n",
      "Epoch 9, Batch 10/80, Total Loss: 2.2409, Segmentation Loss: 0.9055, Domain Loss Source: 0.6931, Domain Loss Target: 0.6932\n",
      "Epoch 9, Batch 20/80, Total Loss: 2.2951, Segmentation Loss: 0.9255, Domain Loss Source: 0.6931, Domain Loss Target: 0.6932\n",
      "Epoch 9, Batch 30/80, Total Loss: 2.2710, Segmentation Loss: 0.8335, Domain Loss Source: 0.6931, Domain Loss Target: 0.6931\n",
      "Epoch 9, Batch 40/80, Total Loss: 3.0063, Segmentation Loss: 0.9348, Domain Loss Source: 0.7148, Domain Loss Target: 0.6719\n",
      "Epoch 9, Batch 50/80, Total Loss: 2.2833, Segmentation Loss: 0.8885, Domain Loss Source: 0.7181, Domain Loss Target: 0.6688\n",
      "Epoch 9, Batch 60/80, Total Loss: 2.2921, Segmentation Loss: 0.9331, Domain Loss Source: 0.7039, Domain Loss Target: 0.6825\n",
      "Epoch 9, Batch 70/80, Total Loss: 2.2464, Segmentation Loss: 0.9144, Domain Loss Source: 0.6923, Domain Loss Target: 0.6940\n",
      "Epoch 9, Batch 80/80, Total Loss: 2.2540, Segmentation Loss: 0.9313, Domain Loss Source: 0.6888, Domain Loss Target: 0.6975\n",
      "Epoch 9, Train Loss: 2.3611\n",
      "Evaluating model performance on source data\n",
      "Precision: 0.0579, Recall: 0.2693, F1 Score: 0.0910, Dice Score: 0.0910, Accuracy: 0.8342\n",
      "Evaluating model performance on target data\n",
      "Precision: 0.2158, Recall: 0.9885, F1 Score: 0.3492, Dice Score: 0.3492, Accuracy: 0.2344\n",
      "Epoch 9, Validation Loss Source: 0.8934, Validation Loss Target: 0.6509\n",
      "Epoch 10, Batch 10/80, Total Loss: 2.2431, Segmentation Loss: 0.9134, Domain Loss Source: 0.6903, Domain Loss Target: 0.6960\n",
      "Epoch 10, Batch 20/80, Total Loss: 2.2786, Segmentation Loss: 0.9233, Domain Loss Source: 0.6926, Domain Loss Target: 0.6937\n",
      "Epoch 10, Batch 30/80, Total Loss: 2.2613, Segmentation Loss: 0.8583, Domain Loss Source: 0.6938, Domain Loss Target: 0.6925\n",
      "Epoch 10, Batch 40/80, Total Loss: 2.2578, Segmentation Loss: 0.8818, Domain Loss Source: 0.6938, Domain Loss Target: 0.6925\n",
      "Epoch 10, Batch 50/80, Total Loss: 2.2613, Segmentation Loss: 0.8335, Domain Loss Source: 0.6934, Domain Loss Target: 0.6929\n",
      "Epoch 10, Batch 60/80, Total Loss: 2.2404, Segmentation Loss: 0.8574, Domain Loss Source: 0.6931, Domain Loss Target: 0.6932\n",
      "Epoch 10, Batch 70/80, Total Loss: 2.2199, Segmentation Loss: 0.9175, Domain Loss Source: 0.6930, Domain Loss Target: 0.6933\n",
      "Epoch 10, Batch 80/80, Total Loss: 2.2347, Segmentation Loss: 0.8938, Domain Loss Source: 0.6931, Domain Loss Target: 0.6932\n",
      "Epoch 10, Train Loss: 2.2496\n",
      "Evaluating model performance on source data\n",
      "Precision: 0.1223, Recall: 0.2276, F1 Score: 0.1510, Dice Score: 0.1510, Accuracy: 0.9252\n",
      "Evaluating model performance on target data\n",
      "Precision: 0.1849, Recall: 0.2138, F1 Score: 0.1951, Dice Score: 0.1951, Accuracy: 0.6642\n",
      "Epoch 10, Validation Loss Source: 0.8214, Validation Loss Target: 0.8033\n",
      "Precision: 0.2569, Recall: 0.8998, F1 Score: 0.3886, Dice Score: 0.3886, Accuracy: 0.3956\n"
     ]
    },
    {
     "data": {
      "application/vnd.jupyter.widget-view+json": {
       "model_id": "f547a8b2798745c0b77e9472a2adfe59",
       "version_major": 2,
       "version_minor": 0
      },
      "text/plain": [
       "VBox(children=(Label(value='385.781 MB of 385.781 MB uploaded\\r'), FloatProgress(value=1.0, max=1.0)))"
      ]
     },
     "metadata": {},
     "output_type": "display_data"
    },
    {
     "data": {
      "text/html": [
       "<style>\n",
       "    table.wandb td:nth-child(1) { padding: 0 10px; text-align: left ; width: auto;} td:nth-child(2) {text-align: left ; width: 100%}\n",
       "    .wandb-row { display: flex; flex-direction: row; flex-wrap: wrap; justify-content: flex-start; width: 100% }\n",
       "    .wandb-col { display: flex; flex-direction: column; flex-basis: 100%; flex: 1; padding: 10px; }\n",
       "    </style>\n",
       "<div class=\"wandb-row\"><div class=\"wandb-col\"><h3>Run history:</h3><br/><table class=\"wandb\"><tr><td>dice_score/source</td><td>▁▁▁▁▂▄▂▄▄█</td></tr><tr><td>dice_score/target</td><td>▆▇▇▇▇▁▇█▇▂</td></tr><tr><td>epoch</td><td>▁▂▃▃▄▅▆▆▇█</td></tr><tr><td>precision/source</td><td>▂▁▁▁▁▃▂▃▃█</td></tr><tr><td>precision/target</td><td>▅▅▅▅▅▁▅█▅▃</td></tr><tr><td>test/accuracy</td><td>▁</td></tr><tr><td>test/dice_score</td><td>▁</td></tr><tr><td>test/f1_score</td><td>▁</td></tr><tr><td>test/precision</td><td>▁</td></tr><tr><td>test/recall</td><td>▁</td></tr><tr><td>train/loss</td><td>█▁▁▁▁▁▁▁▁▁</td></tr></table><br/></div><div class=\"wandb-col\"><h3>Run summary:</h3><br/><table class=\"wandb\"><tr><td>dice_score/source</td><td>0.15095</td></tr><tr><td>dice_score/target</td><td>0.19506</td></tr><tr><td>epoch</td><td>10</td></tr><tr><td>precision/source</td><td>0.12227</td></tr><tr><td>precision/target</td><td>0.18485</td></tr><tr><td>test/accuracy</td><td>0.39565</td></tr><tr><td>test/dice_score</td><td>0.3886</td></tr><tr><td>test/f1_score</td><td>0.3886</td></tr><tr><td>test/precision</td><td>0.25686</td></tr><tr><td>test/recall</td><td>0.89978</td></tr><tr><td>train/loss</td><td>2.24965</td></tr></table><br/></div></div>"
      ],
      "text/plain": [
       "<IPython.core.display.HTML object>"
      ]
     },
     "metadata": {},
     "output_type": "display_data"
    },
    {
     "data": {
      "text/html": [
       " View run <strong style=\"color:#cdcd00\">GRL-Unet-resnet50-window_500-600</strong> at: <a href='https://wandb.ai/idp2024/domain-adaptation/runs/nfaousd8' target=\"_blank\">https://wandb.ai/idp2024/domain-adaptation/runs/nfaousd8</a><br/> View project at: <a href='https://wandb.ai/idp2024/domain-adaptation' target=\"_blank\">https://wandb.ai/idp2024/domain-adaptation</a><br/>Synced 5 W&B file(s), 180 media file(s), 3 artifact file(s) and 0 other file(s)"
      ],
      "text/plain": [
       "<IPython.core.display.HTML object>"
      ]
     },
     "metadata": {},
     "output_type": "display_data"
    },
    {
     "data": {
      "text/html": [
       "Find logs at: <code>./wandb/run-20241103_185322-nfaousd8/logs</code>"
      ],
      "text/plain": [
       "<IPython.core.display.HTML object>"
      ]
     },
     "metadata": {},
     "output_type": "display_data"
    },
    {
     "data": {
      "image/png": "[encoded data removed]",
      "text/plain": [
       "<Figure size 1000x600 with 1 Axes>"
      ]
     },
     "metadata": {},
     "output_type": "display_data"
    }
   ],
   "source": [
    "from segmentation_util import build_segmentation_model, build_criterion, build_optimizer\n",
    "import matplotlib.pyplot as plt\n",
    "import torch.nn as nn\n",
    "import torch\n",
    "from domain_adaptation_training import model_pipeline\n",
    "\n",
    "encoder = \"resnet50\"\n",
    "architecture = \"Unet\"\n",
    "device = torch.device(\"cuda:3\" if torch.cuda.is_available() else \"cpu\")\n",
    "lambda_param = 0.5\n",
    "learning_rate = 0.0157\n",
    "loss = \"Dice\"\n",
    "epochs = 10\n",
    "\n",
    "\n",
    "config = {\n",
    "    \"model\": \"GRL-{architecture}-{encoder}-window_{window[0]}-{window[1]}\".format(\n",
    "        architecture=architecture, encoder=encoder, window=window\n",
    "    ),\n",
    "    \"encoder\": encoder,\n",
    "    \"architecture\": architecture,\n",
    "    \"learning_rate\": learning_rate,\n",
    "    \"optimizer\": \"Adam\",\n",
    "    \"lambda_param\": lambda_param,\n",
    "    \"batch_size_source\": trainloader_source.batch_size,\n",
    "    \"batch_size_target\": trainloader_target.batch_size,\n",
    "    \"epochs\": epochs,\n",
    "    \"loss\": loss,\n",
    "}\n",
    "\n",
    "model, train_losses, val_losses_source, val_losses_target = model_pipeline(\n",
    "    trainloader_source,\n",
    "    validationloader_source,\n",
    "    testloader_source,\n",
    "    trainloader_target,\n",
    "    testloader_target,\n",
    "    config,\n",
    "    project=\"domain-adaptation\",\n",
    "    device=device,\n",
    "    batch_print=10,\n",
    "    evaluate=True,\n",
    "    with_overlays=True,\n",
    ")\n",
    "\n",
    "# Plotting the training and validation loss curves\n",
    "plt.figure(figsize=(10, 6))\n",
    "plt.plot(train_losses, label=\"Combined Training Loss\")\n",
    "plt.plot(val_losses_source, label=\"Validation Loss Source\")\n",
    "plt.plot(val_losses_target, label=\"Validation Loss Target\")\n",
    "plt.xlabel(\"Epochs\")\n",
    "plt.ylabel(\"Loss\")\n",
    "plt.title(\"Training and Validation Loss Curves\")\n",
    "plt.legend()\n",
    "plt.show()"
   ]
  },
  {
   "cell_type": "markdown",
   "metadata": {},
   "source": [
    "## FADA:"
   ]
  },
  {
   "cell_type": "code",
   "execution_count": 2,
   "metadata": {},
   "outputs": [
    {
     "name": "stderr",
     "output_type": "stream",
     "text": [
      "Failed to detect the name of this notebook, you can set it manually with the WANDB_NOTEBOOK_NAME environment variable to enable code saving.\n",
      "\u001b[34m\u001b[1mwandb\u001b[0m: Currently logged in as: \u001b[33mtim-mach\u001b[0m (\u001b[33midp2024\u001b[0m). Use \u001b[1m`wandb login --relogin`\u001b[0m to force relogin\n"
     ]
    },
    {
     "data": {
      "text/html": [
       "wandb version 0.18.5 is available!  To upgrade, please run:\n",
       " $ pip install wandb --upgrade"
      ],
      "text/plain": [
       "<IPython.core.display.HTML object>"
      ]
     },
     "metadata": {},
     "output_type": "display_data"
    },
    {
     "data": {
      "text/html": [
       "Tracking run with wandb version 0.16.6"
      ],
      "text/plain": [
       "<IPython.core.display.HTML object>"
      ]
     },
     "metadata": {},
     "output_type": "display_data"
    },
    {
     "data": {
      "text/html": [
       "Run data is saved locally in <code>/home/home/tim_ivan/idp/wandb/run-20241103_155112-ggxxp9bb</code>"
      ],
      "text/plain": [
       "<IPython.core.display.HTML object>"
      ]
     },
     "metadata": {},
     "output_type": "display_data"
    },
    {
     "data": {
      "text/html": [
       "Syncing run <strong><a href='https://wandb.ai/idp2024/domain-adaptation/runs/ggxxp9bb' target=\"_blank\">FADA-Unet-resnet50-cropped-window_500-600</a></strong> to <a href='https://wandb.ai/idp2024/domain-adaptation' target=\"_blank\">Weights & Biases</a> (<a href='https://wandb.me/run' target=\"_blank\">docs</a>)<br/>"
      ],
      "text/plain": [
       "<IPython.core.display.HTML object>"
      ]
     },
     "metadata": {},
     "output_type": "display_data"
    },
    {
     "data": {
      "text/html": [
       " View project at <a href='https://wandb.ai/idp2024/domain-adaptation' target=\"_blank\">https://wandb.ai/idp2024/domain-adaptation</a>"
      ],
      "text/plain": [
       "<IPython.core.display.HTML object>"
      ]
     },
     "metadata": {},
     "output_type": "display_data"
    },
    {
     "data": {
      "text/html": [
       " View run at <a href='https://wandb.ai/idp2024/domain-adaptation/runs/ggxxp9bb' target=\"_blank\">https://wandb.ai/idp2024/domain-adaptation/runs/ggxxp9bb</a>"
      ],
      "text/plain": [
       "<IPython.core.display.HTML object>"
      ]
     },
     "metadata": {},
     "output_type": "display_data"
    },
    {
     "name": "stdout",
     "output_type": "stream",
     "text": [
      "Epoch 1, Batch 10/80, Total Loss: 6.1333, Segmentation Loss: 0.9407, Domain Loss Source: 1.5963, Domain Loss Target: 0.0662, Adversarial Loss Target: 0.0028\n",
      "Epoch 1, Batch 20/80, Total Loss: 1.8207, Segmentation Loss: 0.8731, Domain Loss Source: 0.2474, Domain Loss Target: 0.5741, Adversarial Loss Target: 0.0004\n",
      "Epoch 1, Batch 30/80, Total Loss: 1.8999, Segmentation Loss: 0.9344, Domain Loss Source: 0.7449, Domain Loss Target: 0.2040, Adversarial Loss Target: 0.0012\n",
      "Epoch 1, Batch 40/80, Total Loss: 1.6958, Segmentation Loss: 0.9436, Domain Loss Source: 0.1587, Domain Loss Target: 0.8699, Adversarial Loss Target: 0.0003\n",
      "Epoch 1, Batch 50/80, Total Loss: 1.6514, Segmentation Loss: 0.9683, Domain Loss Source: 0.5145, Domain Loss Target: 0.2515, Adversarial Loss Target: 0.0009\n",
      "Epoch 1, Batch 60/80, Total Loss: 1.5638, Segmentation Loss: 0.8945, Domain Loss Source: 0.3338, Domain Loss Target: 0.2888, Adversarial Loss Target: 0.0007\n",
      "Epoch 1, Batch 70/80, Total Loss: 1.5110, Segmentation Loss: 0.9491, Domain Loss Source: 0.3148, Domain Loss Target: 0.3185, Adversarial Loss Target: 0.0006\n",
      "Epoch 1, Batch 80/80, Total Loss: 1.5363, Segmentation Loss: 0.9479, Domain Loss Source: 0.2466, Domain Loss Target: 0.3579, Adversarial Loss Target: 0.0005\n",
      "Epoch 1, Train Loss: 13.1859\n",
      "Evaluating model performance on source data\n",
      "Precision: 0.0317, Recall: 0.6483, F1 Score: 0.0596, Dice Score: 0.0596, Accuracy: 0.3979\n",
      "Evaluating model performance on target data\n",
      "Precision: 0.2117, Recall: 1.0000, F1 Score: 0.3447, Dice Score: 0.3447, Accuracy: 0.2117\n",
      "Epoch 1, Validation Loss Source: 0.9195, Validation Loss Target: 0.6553\n",
      "Epoch 2, Batch 10/80, Total Loss: 1.5309, Segmentation Loss: 0.8853, Domain Loss Source: 0.2788, Domain Loss Target: 0.3330, Adversarial Loss Target: 0.0006\n",
      "Epoch 2, Batch 20/80, Total Loss: 1.5350, Segmentation Loss: 0.8911, Domain Loss Source: 0.2650, Domain Loss Target: 0.3661, Adversarial Loss Target: 0.0005\n",
      "Epoch 2, Batch 30/80, Total Loss: 1.5309, Segmentation Loss: 0.9391, Domain Loss Source: 0.3214, Domain Loss Target: 0.3064, Adversarial Loss Target: 0.0006\n",
      "Epoch 2, Batch 40/80, Total Loss: 1.5273, Segmentation Loss: 0.9202, Domain Loss Source: 0.3140, Domain Loss Target: 0.2899, Adversarial Loss Target: 0.0007\n",
      "Epoch 2, Batch 50/80, Total Loss: 1.5473, Segmentation Loss: 0.9623, Domain Loss Source: 0.2869, Domain Loss Target: 0.3128, Adversarial Loss Target: 0.0006\n",
      "Epoch 2, Batch 60/80, Total Loss: 1.5114, Segmentation Loss: 0.8242, Domain Loss Source: 0.2696, Domain Loss Target: 0.3612, Adversarial Loss Target: 0.0005\n",
      "Epoch 2, Batch 70/80, Total Loss: 1.4829, Segmentation Loss: 0.9572, Domain Loss Source: 0.3418, Domain Loss Target: 0.2713, Adversarial Loss Target: 0.0008\n",
      "Epoch 2, Batch 80/80, Total Loss: 1.5160, Segmentation Loss: 0.9472, Domain Loss Source: 0.2581, Domain Loss Target: 0.3643, Adversarial Loss Target: 0.0006\n",
      "Epoch 2, Train Loss: 8.3664\n",
      "Evaluating model performance on source data\n",
      "Precision: 0.0308, Recall: 0.4134, F1 Score: 0.0556, Dice Score: 0.0556, Accuracy: 0.6004\n",
      "Evaluating model performance on target data\n",
      "Precision: 0.2130, Recall: 0.9997, F1 Score: 0.3464, Dice Score: 0.3464, Accuracy: 0.2176\n",
      "Epoch 2, Validation Loss Source: 0.9207, Validation Loss Target: 0.6537\n",
      "Epoch 3, Batch 10/80, Total Loss: 1.5230, Segmentation Loss: 0.8592, Domain Loss Source: 0.3500, Domain Loss Target: 0.2496, Adversarial Loss Target: 0.0008\n",
      "Epoch 3, Batch 20/80, Total Loss: 1.5000, Segmentation Loss: 0.8873, Domain Loss Source: 0.2946, Domain Loss Target: 0.3378, Adversarial Loss Target: 0.0006\n",
      "Epoch 3, Batch 30/80, Total Loss: 1.5150, Segmentation Loss: 0.9434, Domain Loss Source: 0.3215, Domain Loss Target: 0.3028, Adversarial Loss Target: 0.0007\n",
      "Epoch 3, Batch 40/80, Total Loss: 1.5222, Segmentation Loss: 0.9261, Domain Loss Source: 0.2702, Domain Loss Target: 0.3409, Adversarial Loss Target: 0.0006\n",
      "Epoch 3, Batch 50/80, Total Loss: 1.5537, Segmentation Loss: 0.9660, Domain Loss Source: 0.3018, Domain Loss Target: 0.2988, Adversarial Loss Target: 0.0007\n",
      "Epoch 3, Batch 60/80, Total Loss: 1.5215, Segmentation Loss: 0.8436, Domain Loss Source: 0.3411, Domain Loss Target: 0.3026, Adversarial Loss Target: 0.0007\n",
      "Epoch 3, Batch 70/80, Total Loss: 1.4992, Segmentation Loss: 0.9461, Domain Loss Source: 0.3115, Domain Loss Target: 0.3038, Adversarial Loss Target: 0.0006\n",
      "Epoch 3, Batch 80/80, Total Loss: 1.5142, Segmentation Loss: 0.9426, Domain Loss Source: 0.2837, Domain Loss Target: 0.3134, Adversarial Loss Target: 0.0006\n",
      "Epoch 3, Train Loss: 8.3504\n",
      "Evaluating model performance on source data\n",
      "Precision: 0.0306, Recall: 0.4598, F1 Score: 0.0559, Dice Score: 0.0559, Accuracy: 0.5558\n",
      "Evaluating model performance on target data\n",
      "Precision: 0.2127, Recall: 0.9993, F1 Score: 0.3460, Dice Score: 0.3460, Accuracy: 0.2166\n",
      "Epoch 3, Validation Loss Source: 0.9192, Validation Loss Target: 0.6540\n",
      "Epoch 4, Batch 10/80, Total Loss: 1.5184, Segmentation Loss: 0.8802, Domain Loss Source: 0.2813, Domain Loss Target: 0.3094, Adversarial Loss Target: 0.0006\n",
      "Epoch 4, Batch 20/80, Total Loss: 1.5087, Segmentation Loss: 0.8881, Domain Loss Source: 0.3144, Domain Loss Target: 0.2997, Adversarial Loss Target: 0.0007\n",
      "Epoch 4, Batch 30/80, Total Loss: 1.5208, Segmentation Loss: 0.9450, Domain Loss Source: 0.3001, Domain Loss Target: 0.3258, Adversarial Loss Target: 0.0006\n",
      "Epoch 4, Batch 40/80, Total Loss: 1.5291, Segmentation Loss: 0.9241, Domain Loss Source: 0.2826, Domain Loss Target: 0.3367, Adversarial Loss Target: 0.0006\n",
      "Epoch 4, Batch 50/80, Total Loss: 1.5512, Segmentation Loss: 0.9648, Domain Loss Source: 0.2935, Domain Loss Target: 0.3259, Adversarial Loss Target: 0.0006\n",
      "Epoch 4, Batch 60/80, Total Loss: 1.5197, Segmentation Loss: 0.8275, Domain Loss Source: 0.3058, Domain Loss Target: 0.3358, Adversarial Loss Target: 0.0006\n",
      "Epoch 4, Batch 70/80, Total Loss: 1.4968, Segmentation Loss: 0.9519, Domain Loss Source: 0.2813, Domain Loss Target: 0.3386, Adversarial Loss Target: 0.0006\n",
      "Epoch 4, Batch 80/80, Total Loss: 1.5395, Segmentation Loss: 0.9445, Domain Loss Source: 0.2942, Domain Loss Target: 0.3129, Adversarial Loss Target: 0.0006\n",
      "Epoch 4, Train Loss: 8.3647\n",
      "Evaluating model performance on source data\n",
      "Precision: 0.0381, Recall: 0.5533, F1 Score: 0.0693, Dice Score: 0.0693, Accuracy: 0.5367\n",
      "Evaluating model performance on target data\n",
      "Precision: 0.1957, Recall: 0.0632, F1 Score: 0.0892, Dice Score: 0.0892, Accuracy: 0.7508\n",
      "Epoch 4, Validation Loss Source: 0.9085, Validation Loss Target: 0.9086\n",
      "Epoch 5, Batch 10/80, Total Loss: 1.5218, Segmentation Loss: 0.9218, Domain Loss Source: 0.3209, Domain Loss Target: 0.3238, Adversarial Loss Target: 0.0006\n",
      "Epoch 5, Batch 20/80, Total Loss: 1.5100, Segmentation Loss: 0.8921, Domain Loss Source: 0.3945, Domain Loss Target: 0.2557, Adversarial Loss Target: 0.0008\n",
      "Epoch 5, Batch 30/80, Total Loss: 1.5141, Segmentation Loss: 0.9340, Domain Loss Source: 0.2820, Domain Loss Target: 0.3487, Adversarial Loss Target: 0.0006\n",
      "Epoch 5, Batch 40/80, Total Loss: 1.5240, Segmentation Loss: 0.9268, Domain Loss Source: 0.3193, Domain Loss Target: 0.3016, Adversarial Loss Target: 0.0007\n",
      "Epoch 5, Batch 50/80, Total Loss: 1.5469, Segmentation Loss: 0.9636, Domain Loss Source: 0.3082, Domain Loss Target: 0.3148, Adversarial Loss Target: 0.0006\n",
      "Epoch 5, Batch 60/80, Total Loss: 1.5080, Segmentation Loss: 0.8812, Domain Loss Source: 0.3435, Domain Loss Target: 0.2639, Adversarial Loss Target: 0.0008\n",
      "Epoch 5, Batch 70/80, Total Loss: 1.5054, Segmentation Loss: 0.9460, Domain Loss Source: 0.3238, Domain Loss Target: 0.3013, Adversarial Loss Target: 0.0007\n",
      "Epoch 5, Batch 80/80, Total Loss: 1.5235, Segmentation Loss: 0.9504, Domain Loss Source: 0.2851, Domain Loss Target: 0.3318, Adversarial Loss Target: 0.0006\n",
      "Epoch 5, Train Loss: 8.3366\n",
      "Evaluating model performance on source data\n",
      "Precision: 0.0377, Recall: 0.4048, F1 Score: 0.0674, Dice Score: 0.0674, Accuracy: 0.6681\n",
      "Evaluating model performance on target data\n",
      "Precision: 0.2120, Recall: 1.0000, F1 Score: 0.3451, Dice Score: 0.3451, Accuracy: 0.2131\n",
      "Epoch 5, Validation Loss Source: 0.9175, Validation Loss Target: 0.6549\n",
      "Epoch 6, Batch 10/80, Total Loss: 1.5313, Segmentation Loss: 0.9227, Domain Loss Source: 0.3171, Domain Loss Target: 0.3131, Adversarial Loss Target: 0.0006\n",
      "Epoch 6, Batch 20/80, Total Loss: 1.4936, Segmentation Loss: 0.8805, Domain Loss Source: 0.3012, Domain Loss Target: 0.3237, Adversarial Loss Target: 0.0006\n",
      "Epoch 6, Batch 30/80, Total Loss: 1.5137, Segmentation Loss: 0.9378, Domain Loss Source: 0.3174, Domain Loss Target: 0.3089, Adversarial Loss Target: 0.0006\n",
      "Epoch 6, Batch 40/80, Total Loss: 1.5178, Segmentation Loss: 0.9097, Domain Loss Source: 0.2979, Domain Loss Target: 0.3209, Adversarial Loss Target: 0.0006\n",
      "Epoch 6, Batch 50/80, Total Loss: 1.5428, Segmentation Loss: 0.9529, Domain Loss Source: 0.2938, Domain Loss Target: 0.3152, Adversarial Loss Target: 0.0006\n",
      "Epoch 6, Batch 60/80, Total Loss: 1.5191, Segmentation Loss: 0.8265, Domain Loss Source: 0.2763, Domain Loss Target: 0.3476, Adversarial Loss Target: 0.0006\n",
      "Epoch 6, Batch 70/80, Total Loss: 1.4964, Segmentation Loss: 0.9433, Domain Loss Source: 0.3326, Domain Loss Target: 0.2942, Adversarial Loss Target: 0.0007\n",
      "Epoch 6, Batch 80/80, Total Loss: 1.5065, Segmentation Loss: 0.9433, Domain Loss Source: 0.3193, Domain Loss Target: 0.2977, Adversarial Loss Target: 0.0007\n",
      "Epoch 6, Train Loss: 8.3128\n",
      "Evaluating model performance on source data\n",
      "Precision: 0.0417, Recall: 0.5885, F1 Score: 0.0767, Dice Score: 0.0767, Accuracy: 0.5668\n",
      "Evaluating model performance on target data\n",
      "Precision: 0.2124, Recall: 0.9997, F1 Score: 0.3456, Dice Score: 0.3456, Accuracy: 0.2147\n",
      "Epoch 6, Validation Loss Source: 0.9084, Validation Loss Target: 0.6544\n",
      "Epoch 7, Batch 10/80, Total Loss: 1.5098, Segmentation Loss: 0.8770, Domain Loss Source: 0.3203, Domain Loss Target: 0.3224, Adversarial Loss Target: 0.0006\n",
      "Epoch 7, Batch 20/80, Total Loss: 1.5158, Segmentation Loss: 0.8663, Domain Loss Source: 0.3152, Domain Loss Target: 0.3072, Adversarial Loss Target: 0.0006\n",
      "Epoch 7, Batch 30/80, Total Loss: 1.5281, Segmentation Loss: 0.9531, Domain Loss Source: 0.3150, Domain Loss Target: 0.3174, Adversarial Loss Target: 0.0006\n",
      "Epoch 7, Batch 40/80, Total Loss: 1.5357, Segmentation Loss: 0.9261, Domain Loss Source: 0.3283, Domain Loss Target: 0.2917, Adversarial Loss Target: 0.0007\n",
      "Epoch 7, Batch 50/80, Total Loss: 1.5590, Segmentation Loss: 0.9626, Domain Loss Source: 0.2923, Domain Loss Target: 0.3379, Adversarial Loss Target: 0.0006\n",
      "Epoch 7, Batch 60/80, Total Loss: 1.5169, Segmentation Loss: 0.8100, Domain Loss Source: 0.2984, Domain Loss Target: 0.3308, Adversarial Loss Target: 0.0006\n",
      "Epoch 7, Batch 70/80, Total Loss: 1.4997, Segmentation Loss: 0.9533, Domain Loss Source: 0.2897, Domain Loss Target: 0.3360, Adversarial Loss Target: 0.0006\n",
      "Epoch 7, Batch 80/80, Total Loss: 1.5340, Segmentation Loss: 0.9377, Domain Loss Source: 0.2784, Domain Loss Target: 0.3313, Adversarial Loss Target: 0.0006\n",
      "Epoch 7, Train Loss: 8.3812\n",
      "Evaluating model performance on source data\n",
      "Precision: 0.0343, Recall: 0.5236, F1 Score: 0.0630, Dice Score: 0.0630, Accuracy: 0.5417\n",
      "Evaluating model performance on target data\n",
      "Precision: 0.1746, Recall: 0.0530, F1 Score: 0.0799, Dice Score: 0.0799, Accuracy: 0.7474\n",
      "Epoch 7, Validation Loss Source: 0.9096, Validation Loss Target: 0.9198\n",
      "Epoch 8, Batch 10/80, Total Loss: 1.6076, Segmentation Loss: 0.9199, Domain Loss Source: 0.2155, Domain Loss Target: 0.3706, Adversarial Loss Target: 0.0006\n",
      "Epoch 8, Batch 20/80, Total Loss: 4.7074, Segmentation Loss: 0.8596, Domain Loss Source: 5.5878, Domain Loss Target: 0.0008, Adversarial Loss Target: 0.0106\n",
      "Epoch 8, Batch 30/80, Total Loss: 2.5792, Segmentation Loss: 0.9530, Domain Loss Source: 0.1810, Domain Loss Target: 0.5451, Adversarial Loss Target: 0.0004\n",
      "Epoch 8, Batch 40/80, Total Loss: 2.3474, Segmentation Loss: 0.9072, Domain Loss Source: 1.2890, Domain Loss Target: 0.2655, Adversarial Loss Target: 0.0024\n",
      "Epoch 8, Batch 50/80, Total Loss: 4.0545, Segmentation Loss: 0.9477, Domain Loss Source: 0.0443, Domain Loss Target: 1.0236, Adversarial Loss Target: 0.0001\n",
      "Epoch 8, Batch 60/80, Total Loss: 2.0115, Segmentation Loss: 0.8338, Domain Loss Source: 0.0845, Domain Loss Target: 0.8940, Adversarial Loss Target: 0.0002\n",
      "Epoch 8, Batch 70/80, Total Loss: 1.7320, Segmentation Loss: 0.9528, Domain Loss Source: 0.7696, Domain Loss Target: 0.1125, Adversarial Loss Target: 0.0015\n",
      "Epoch 8, Batch 80/80, Total Loss: 1.5856, Segmentation Loss: 0.9485, Domain Loss Source: 0.3123, Domain Loss Target: 0.2917, Adversarial Loss Target: 0.0007\n",
      "Epoch 8, Train Loss: 14.3504\n",
      "Evaluating model performance on source data\n",
      "Precision: 0.0481, Recall: 0.2670, F1 Score: 0.0776, Dice Score: 0.0776, Accuracy: 0.8087\n",
      "Evaluating model performance on target data\n",
      "Precision: 0.2140, Recall: 0.9945, F1 Score: 0.3473, Dice Score: 0.3473, Accuracy: 0.2242\n",
      "Epoch 8, Validation Loss Source: 0.9076, Validation Loss Target: 0.6527\n",
      "Epoch 9, Batch 10/80, Total Loss: 1.6064, Segmentation Loss: 0.9202, Domain Loss Source: 0.3323, Domain Loss Target: 0.2740, Adversarial Loss Target: 0.0008\n",
      "Epoch 9, Batch 20/80, Total Loss: 1.4734, Segmentation Loss: 0.9311, Domain Loss Source: 0.3378, Domain Loss Target: 0.2537, Adversarial Loss Target: 0.0009\n",
      "Epoch 9, Batch 30/80, Total Loss: 1.8590, Segmentation Loss: 0.9387, Domain Loss Source: 0.6700, Domain Loss Target: 0.1523, Adversarial Loss Target: 0.0014\n",
      "Epoch 9, Batch 40/80, Total Loss: 1.7454, Segmentation Loss: 0.8970, Domain Loss Source: 0.6821, Domain Loss Target: 0.1248, Adversarial Loss Target: 0.0014\n",
      "Epoch 9, Batch 50/80, Total Loss: 1.6311, Segmentation Loss: 0.9456, Domain Loss Source: 0.3242, Domain Loss Target: 0.2453, Adversarial Loss Target: 0.0009\n",
      "Epoch 9, Batch 60/80, Total Loss: 1.5206, Segmentation Loss: 0.8101, Domain Loss Source: 0.1531, Domain Loss Target: 0.5898, Adversarial Loss Target: 0.0004\n",
      "Epoch 9, Batch 70/80, Total Loss: 1.4979, Segmentation Loss: 0.9459, Domain Loss Source: 0.4032, Domain Loss Target: 0.1779, Adversarial Loss Target: 0.0011\n",
      "Epoch 9, Batch 80/80, Total Loss: 1.4762, Segmentation Loss: 0.9496, Domain Loss Source: 0.2030, Domain Loss Target: 0.4698, Adversarial Loss Target: 0.0005\n",
      "Epoch 9, Train Loss: 8.8033\n",
      "Evaluating model performance on source data\n",
      "Precision: 0.0460, Recall: 0.3737, F1 Score: 0.0796, Dice Score: 0.0796, Accuracy: 0.7365\n",
      "Evaluating model performance on target data\n",
      "Precision: 0.2128, Recall: 0.9967, F1 Score: 0.3460, Dice Score: 0.3460, Accuracy: 0.2183\n",
      "Epoch 9, Validation Loss Source: 0.9050, Validation Loss Target: 0.6540\n",
      "Epoch 10, Batch 10/80, Total Loss: 1.4944, Segmentation Loss: 0.9202, Domain Loss Source: 0.2669, Domain Loss Target: 0.3092, Adversarial Loss Target: 0.0010\n",
      "Epoch 10, Batch 20/80, Total Loss: 1.5012, Segmentation Loss: 0.8774, Domain Loss Source: 0.3146, Domain Loss Target: 0.4122, Adversarial Loss Target: 0.0010\n",
      "Epoch 10, Batch 30/80, Total Loss: 1.4565, Segmentation Loss: 0.9287, Domain Loss Source: 0.3717, Domain Loss Target: 0.2166, Adversarial Loss Target: 0.0009\n",
      "Epoch 10, Batch 40/80, Total Loss: 1.4368, Segmentation Loss: 0.9200, Domain Loss Source: 0.2205, Domain Loss Target: 0.4030, Adversarial Loss Target: 0.0006\n",
      "Epoch 10, Batch 50/80, Total Loss: 1.4860, Segmentation Loss: 0.9489, Domain Loss Source: 0.2762, Domain Loss Target: 0.3115, Adversarial Loss Target: 0.0007\n",
      "Epoch 10, Batch 60/80, Total Loss: 1.4676, Segmentation Loss: 0.7036, Domain Loss Source: 0.3788, Domain Loss Target: 0.2501, Adversarial Loss Target: 0.0008\n",
      "Epoch 10, Batch 70/80, Total Loss: 1.4474, Segmentation Loss: 0.8984, Domain Loss Source: 0.2677, Domain Loss Target: 0.3388, Adversarial Loss Target: 0.0006\n",
      "Epoch 10, Batch 80/80, Total Loss: 1.4279, Segmentation Loss: 0.8372, Domain Loss Source: 0.2276, Domain Loss Target: 0.3887, Adversarial Loss Target: 0.0005\n",
      "Epoch 10, Train Loss: 8.0140\n",
      "Evaluating model performance on source data\n",
      "Precision: 0.1603, Recall: 0.2476, F1 Score: 0.1870, Dice Score: 0.1870, Accuracy: 0.9375\n",
      "Evaluating model performance on target data\n",
      "Precision: 0.1553, Recall: 0.0224, F1 Score: 0.0375, Dice Score: 0.0375, Accuracy: 0.7787\n",
      "Epoch 10, Validation Loss Source: 0.7613, Validation Loss Target: 0.9609\n",
      "Precision: 0.2140, Recall: 0.9945, F1 Score: 0.3473, Dice Score: 0.3473, Accuracy: 0.2242\n"
     ]
    },
    {
     "data": {
      "application/vnd.jupyter.widget-view+json": {
       "model_id": "4e41be965d7a467aa0f72abe17a3a816",
       "version_major": 2,
       "version_minor": 0
      },
      "text/plain": [
       "VBox(children=(Label(value='374.344 MB of 374.344 MB uploaded\\r'), FloatProgress(value=1.0, max=1.0)))"
      ]
     },
     "metadata": {},
     "output_type": "display_data"
    },
    {
     "data": {
      "text/html": [
       "<style>\n",
       "    table.wandb td:nth-child(1) { padding: 0 10px; text-align: left ; width: auto;} td:nth-child(2) {text-align: left ; width: 100%}\n",
       "    .wandb-row { display: flex; flex-direction: row; flex-wrap: wrap; justify-content: flex-start; width: 100% }\n",
       "    .wandb-col { display: flex; flex-direction: column; flex-basis: 100%; flex: 1; padding: 10px; }\n",
       "    </style>\n",
       "<div class=\"wandb-row\"><div class=\"wandb-col\"><h3>Run history:</h3><br/><table class=\"wandb\"><tr><td>dice_score/source</td><td>▁▁▁▂▂▂▁▂▂█</td></tr><tr><td>dice_score/target</td><td>███▂██▂██▁</td></tr><tr><td>epoch</td><td>▁▂▃▃▄▅▆▆▇█</td></tr><tr><td>precision/source</td><td>▁▁▁▁▁▂▁▂▂█</td></tr><tr><td>precision/target</td><td>███▆██▃██▁</td></tr><tr><td>test/accuracy</td><td>▁</td></tr><tr><td>test/dice_score</td><td>▁</td></tr><tr><td>test/f1_score</td><td>▁</td></tr><tr><td>test/precision</td><td>▁</td></tr><tr><td>test/recall</td><td>▁</td></tr><tr><td>train/loss</td><td>▇▁▁▁▁▁▁█▂▁</td></tr></table><br/></div><div class=\"wandb-col\"><h3>Run summary:</h3><br/><table class=\"wandb\"><tr><td>dice_score/source</td><td>0.18704</td></tr><tr><td>dice_score/target</td><td>0.03745</td></tr><tr><td>epoch</td><td>10</td></tr><tr><td>precision/source</td><td>0.16031</td></tr><tr><td>precision/target</td><td>0.15526</td></tr><tr><td>test/accuracy</td><td>0.22421</td></tr><tr><td>test/dice_score</td><td>0.34732</td></tr><tr><td>test/f1_score</td><td>0.34732</td></tr><tr><td>test/precision</td><td>0.21397</td></tr><tr><td>test/recall</td><td>0.99447</td></tr><tr><td>train/loss</td><td>8.01399</td></tr></table><br/></div></div>"
      ],
      "text/plain": [
       "<IPython.core.display.HTML object>"
      ]
     },
     "metadata": {},
     "output_type": "display_data"
    },
    {
     "data": {
      "text/html": [
       " View run <strong style=\"color:#cdcd00\">FADA-Unet-resnet50-cropped-window_500-600</strong> at: <a href='https://wandb.ai/idp2024/domain-adaptation/runs/ggxxp9bb' target=\"_blank\">https://wandb.ai/idp2024/domain-adaptation/runs/ggxxp9bb</a><br/> View project at: <a href='https://wandb.ai/idp2024/domain-adaptation' target=\"_blank\">https://wandb.ai/idp2024/domain-adaptation</a><br/>Synced 5 W&B file(s), 180 media file(s), 3 artifact file(s) and 0 other file(s)"
      ],
      "text/plain": [
       "<IPython.core.display.HTML object>"
      ]
     },
     "metadata": {},
     "output_type": "display_data"
    },
    {
     "data": {
      "text/html": [
       "Find logs at: <code>./wandb/run-20241103_155112-ggxxp9bb/logs</code>"
      ],
      "text/plain": [
       "<IPython.core.display.HTML object>"
      ]
     },
     "metadata": {},
     "output_type": "display_data"
    },
    {
     "data": {
      "image/png": "[encoded data removed]",
      "text/plain": [
       "<Figure size 1000x600 with 1 Axes>"
      ]
     },
     "metadata": {},
     "output_type": "display_data"
    }
   ],
   "source": [
    "from segmentation_util import build_segmentation_model, build_criterion, build_optimizer\n",
    "import matplotlib.pyplot as plt\n",
    "from FADA.feature_extractor import FeatureExtractor\n",
    "from FADA.classifier import Classifier\n",
    "from FADA.train_FADA import model_pipeline\n",
    "\n",
    "encoder = \"resnet50\"\n",
    "architecture = \"Unet\"\n",
    "device = torch.device(\"cuda:3\" if torch.cuda.is_available() else \"cpu\")\n",
    "learning_rate = 0.01\n",
    "epochs = 10\n",
    "loss = \"Dice\"\n",
    "learning_rate_fea = 0.01\n",
    "learning_rate_cls = 0.01\n",
    "learning_rate_dis = 0.001\n",
    "\n",
    "config = {\n",
    "    \"model\": \"FADA-{architecture}-{encoder}-cropped-window_{window[0]}-{window[1]}\".format(\n",
    "        architecture=architecture, encoder=encoder, window=window\n",
    "    ),\n",
    "    \"encoder\": encoder,\n",
    "    \"architecture\": architecture,\n",
    "    \"input_nc\": 2048,\n",
    "    \"optimizer\": \"Adam\",\n",
    "    \"batch_size_source\": trainloader_source.batch_size,\n",
    "    \"batch_size_target\": trainloader_target.batch_size,\n",
    "    \"learning_rate_fea\": learning_rate_fea,\n",
    "    \"learning_rate_cls\": learning_rate_cls,\n",
    "    \"learning_rate_dis\": learning_rate_dis,\n",
    "    \"epochs\": epochs,\n",
    "    \"seg_loss\": loss,\n",
    "}\n",
    "\n",
    "\n",
    "model, train_losses, val_losses_source, val_losses_target = model_pipeline(\n",
    "    trainloader_source,\n",
    "    validationloader_source,\n",
    "    testloader_source,\n",
    "    trainloader_target,\n",
    "    testloader_target,\n",
    "    config,\n",
    "    project=\"domain-adaptation\",\n",
    "    device=device,\n",
    "    batch_print=10,\n",
    "    evaluate=True,\n",
    "    with_overlays=True,\n",
    ")\n",
    "\n",
    "plt.figure(figsize=(10, 6))\n",
    "plt.plot(train_losses, label=\"Combined Training Loss\")\n",
    "plt.plot(val_losses_source, label=\"Validation Loss Source\")\n",
    "plt.plot(val_losses_target, label=\"Validation Loss Target\")\n",
    "plt.xlabel(\"Epochs\")\n",
    "plt.ylabel(\"Loss\")\n",
    "plt.title(\"Training and Validation Loss Curves\")\n",
    "plt.legend()\n",
    "plt.show()"
   ]
  }
 ],
 "metadata": {
  "kernelspec": {
   "display_name": ".venv",
   "language": "python",
   "name": "python3"
  },
  "language_info": {
   "codemirror_mode": {
    "name": "ipython",
    "version": 3
   },
   "file_extension": ".py",
   "mimetype": "text/x-python",
   "name": "python",
   "nbconvert_exporter": "python",
   "pygments_lexer": "ipython3",
   "version": "3.8.10"
  }
 },
 "nbformat": 4,
 "nbformat_minor": 2
}
