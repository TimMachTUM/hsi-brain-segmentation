{
 "cells": [
  {
   "cell_type": "markdown",
   "metadata": {},
   "source": [
    "# Domain Adaptation"
   ]
  },
  {
   "cell_type": "code",
   "execution_count": 1,
   "metadata": {},
   "outputs": [
    {
     "name": "stdout",
     "output_type": "stream",
     "text": [
      "Number of samples in the training set: 534, validation set: 60\n",
      "Number of samples in the test set: 200\n",
      "62 4\n"
     ]
    }
   ],
   "source": [
    "from dataset import (\n",
    "    build_FIVES_dataloaders,\n",
    "    build_hsi_dataloader,\n",
    "    HSIDataset,\n",
    "    build_FIVES_random_crops_dataloaders,\n",
    ")\n",
    "from torch.utils.data import DataLoader, Subset\n",
    "\n",
    "trainloader_source, validationloader_source, testloader_source = (\n",
    "    build_FIVES_random_crops_dataloaders(\n",
    "        batch_size=16,\n",
    "        num_channels=1,\n",
    "        load_from_path='data/FIVES_random_crops_threshold01'\n",
    "    )\n",
    ")\n",
    "\n",
    "window = (500, 600)\n",
    "target_augmented= True\n",
    "trainloader_target = build_hsi_dataloader(\n",
    "    batch_size=8,\n",
    "    train_split=1,\n",
    "    val_split=0,\n",
    "    test_split=0,\n",
    "    window=window,\n",
    "    exclude_labeled_data=True,\n",
    "    augmented=target_augmented,\n",
    ")[0]\n",
    "\n",
    "path = \"./data/helicoid_with_labels\"\n",
    "testset = HSIDataset(path, with_gt=True, window=window)\n",
    "testset.crop_dataset()\n",
    "testloader_target = DataLoader(testset, batch_size=1, shuffle=False)\n",
    "testloader_target = DataLoader(\n",
    "    Subset(testset, [1, 2, 3, 4]), batch_size=1, shuffle=False\n",
    ")\n",
    "print(len(trainloader_target.dataset), len(testloader_target.dataset))"
   ]
  },
  {
   "cell_type": "markdown",
   "metadata": {},
   "source": [
    "## Evaluation of Model without Domain Adaptation on Target Testset"
   ]
  },
  {
   "cell_type": "markdown",
   "metadata": {},
   "source": [
    "### Transfer Learning"
   ]
  },
  {
   "cell_type": "code",
   "execution_count": 3,
   "metadata": {},
   "outputs": [
    {
     "name": "stdout",
     "output_type": "stream",
     "text": [
      "Precision: nan, Recall: 0.0239, F1 Score: 0.0410, Dice Score: 0.0410, Accuracy: 0.7850\n"
     ]
    },
    {
     "data": {
      "text/plain": [
       "(tensor(nan, device='cuda:3'),\n",
       " tensor(0.0239, device='cuda:3'),\n",
       " tensor(0.0410, device='cuda:3'),\n",
       " tensor(0.7850, device='cuda:3'),\n",
       " tensor(0.0410, device='cuda:3'))"
      ]
     },
     "execution_count": 3,
     "metadata": {},
     "output_type": "execute_result"
    }
   ],
   "source": [
    "from segmentation_util import evaluate_model, build_segmentation_model\n",
    "import torch\n",
    "device = torch.device(\"cuda:3\" if torch.cuda.is_available() else \"cpu\")\n",
    "model = build_segmentation_model('resnet50', 'Unet', device, in_channels=1)\n",
    "\n",
    "evaluate_model(\n",
    "    model, testloader_target, device, with_wandb=False\n",
    ")"
   ]
  },
  {
   "cell_type": "markdown",
   "metadata": {},
   "source": [
    "### Ensemble Model"
   ]
  },
  {
   "cell_type": "code",
   "execution_count": null,
   "metadata": {},
   "outputs": [
    {
     "name": "stdout",
     "output_type": "stream",
     "text": [
      "Precision: 0.5368, Recall: 0.2351, F1 Score: 0.3072, Dice Score: 0.3072, Accuracy: 0.8104\n"
     ]
    },
    {
     "data": {
      "text/plain": [
       "(tensor(0.5368, device='cuda:3'),\n",
       " tensor(0.2351, device='cuda:3'),\n",
       " tensor(0.3072, device='cuda:3'),\n",
       " tensor(0.8104, device='cuda:3'),\n",
       " tensor(0.3072, device='cuda:3'))"
      ]
     },
     "execution_count": 3,
     "metadata": {},
     "output_type": "execute_result"
    }
   ],
   "source": [
    "from HSI_Net import SegmentationModelWithWindowing\n",
    "from segmentation_util import build_segmentation_model, evaluate_model\n",
    "from ensemble_model import EnsembleModelAverage\n",
    "import segmentation_models_pytorch as smp\n",
    "import torch\n",
    "\n",
    "path = \"./data/helicoid_with_labels\"\n",
    "testset = HSIDataset(path, with_gt=True)\n",
    "testset.crop_dataset()\n",
    "testloader_target = DataLoader(testset, batch_size=1, shuffle=False)\n",
    "\n",
    "encoder = 'timm-regnetx_320'\n",
    "architecture = 'Linknet'\n",
    "device = ('cuda:5' if torch.cuda.is_available() else 'cpu')\n",
    "\n",
    "segmenter_single_channel = build_segmentation_model(encoder, architecture, device)\n",
    "segmenter_single_channel.load_state_dict(torch.load('./models/{architecture}-{encoder}-512x512-augmented-with-random-crops-single-channel-focal.pth'.format(architecture=architecture, encoder=encoder)))\n",
    "segmenter_single_channel.eval()\n",
    "\n",
    "window1 = (400, 500)\n",
    "window2 = (500, 600)\n",
    "window3 = (600, 700)\n",
    "window4 = (700, 800)\n",
    "window5 = (800, 900)\n",
    "window6 = (900, 1000)\n",
    "window_full = (400, 1100)\n",
    "\n",
    "\n",
    "model_windowing_400to500 = SegmentationModelWithWindowing(segmenter_single_channel, window=testset.get_window_from_wavelengths(window1))\n",
    "model_with_windowing_500to600 = SegmentationModelWithWindowing(segmenter_single_channel, window=testset.get_window_from_wavelengths(window2))\n",
    "model_windowing_600to700 = SegmentationModelWithWindowing(segmenter_single_channel, window=testset.get_window_from_wavelengths(window3))\n",
    "model_windowing_700to800 = SegmentationModelWithWindowing(segmenter_single_channel, window=testset.get_window_from_wavelengths(window4))\n",
    "model_windowing_800to900 = SegmentationModelWithWindowing(segmenter_single_channel, window=testset.get_window_from_wavelengths(window5))\n",
    "model_windowing_900to1000 = SegmentationModelWithWindowing(segmenter_single_channel, window=testset.get_window_from_wavelengths(window6))\n",
    "model_window_full = SegmentationModelWithWindowing(segmenter_single_channel, window=testset.get_window_from_wavelengths(window_full))\n",
    "\n",
    "model = EnsembleModelAverage([model_windowing_400to500, model_with_windowing_500to600, model_windowing_600to700, model_windowing_700to800, model_windowing_900to1000, model_window_full])\n",
    "evaluate_model(model, testloader_target, device, with_wandb=False)"
   ]
  },
  {
   "cell_type": "markdown",
   "metadata": {},
   "source": [
    "## Domain Adaptation Approaches:\n",
    "### GRL domain adaptation"
   ]
  },
  {
   "cell_type": "code",
   "execution_count": null,
   "metadata": {},
   "outputs": [
    {
     "name": "stderr",
     "output_type": "stream",
     "text": [
      "Failed to detect the name of this notebook, you can set it manually with the WANDB_NOTEBOOK_NAME environment variable to enable code saving.\n",
      "\u001b[34m\u001b[1mwandb\u001b[0m: Currently logged in as: \u001b[33mtim-mach\u001b[0m (\u001b[33midp2024\u001b[0m). Use \u001b[1m`wandb login --relogin`\u001b[0m to force relogin\n"
     ]
    },
    {
     "data": {
      "text/html": [
       "wandb version 0.18.6 is available!  To upgrade, please run:\n",
       " $ pip install wandb --upgrade"
      ],
      "text/plain": [
       "<IPython.core.display.HTML object>"
      ]
     },
     "metadata": {},
     "output_type": "display_data"
    },
    {
     "data": {
      "text/html": [
       "Tracking run with wandb version 0.16.6"
      ],
      "text/plain": [
       "<IPython.core.display.HTML object>"
      ]
     },
     "metadata": {},
     "output_type": "display_data"
    },
    {
     "data": {
      "text/html": [
       "Run data is saved locally in <code>/home/home/tim_ivan/idp/wandb/run-20241113_212614-c8spo9w6</code>"
      ],
      "text/plain": [
       "<IPython.core.display.HTML object>"
      ]
     },
     "metadata": {},
     "output_type": "display_data"
    },
    {
     "data": {
      "text/html": [
       "Syncing run <strong><a href='https://wandb.ai/idp2024/domain-adaptation/runs/c8spo9w6' target=\"_blank\">GRL-Linknet-timm-regnetx_320-window_500-600-pretrained-random_crops-bloodvessel_ratio01</a></strong> to <a href='https://wandb.ai/idp2024/domain-adaptation' target=\"_blank\">Weights & Biases</a> (<a href='https://wandb.me/run' target=\"_blank\">docs</a>)<br/>"
      ],
      "text/plain": [
       "<IPython.core.display.HTML object>"
      ]
     },
     "metadata": {},
     "output_type": "display_data"
    },
    {
     "data": {
      "text/html": [
       " View project at <a href='https://wandb.ai/idp2024/domain-adaptation' target=\"_blank\">https://wandb.ai/idp2024/domain-adaptation</a>"
      ],
      "text/plain": [
       "<IPython.core.display.HTML object>"
      ]
     },
     "metadata": {},
     "output_type": "display_data"
    },
    {
     "data": {
      "text/html": [
       " View run at <a href='https://wandb.ai/idp2024/domain-adaptation/runs/c8spo9w6' target=\"_blank\">https://wandb.ai/idp2024/domain-adaptation/runs/c8spo9w6</a>"
      ],
      "text/plain": [
       "<IPython.core.display.HTML object>"
      ]
     },
     "metadata": {},
     "output_type": "display_data"
    },
    {
     "name": "stdout",
     "output_type": "stream",
     "text": [
      "Loading pretrained model from ./models/Linknet-timm-regnetx_320-512x512-augmented-with-random-crops-single-channel-focal.pth\n"
     ]
    },
    {
     "name": "stderr",
     "output_type": "stream",
     "text": [
      "/home/home/tim_ivan/idp/.venv/lib/python3.8/site-packages/torch/nn/modules/conv.py:456: UserWarning: Plan failed with a cudnnException: CUDNN_BACKEND_EXECUTION_PLAN_DESCRIPTOR: cudnnFinalize Descriptor Failed cudnn_status: CUDNN_STATUS_NOT_SUPPORTED (Triggered internally at ../aten/src/ATen/native/cudnn/Conv_v8.cpp:919.)\n",
      "  return F.conv2d(input, weight, bias, self.stride,\n",
      "/home/home/tim_ivan/idp/.venv/lib/python3.8/site-packages/torch/autograd/graph.py:744: UserWarning: Plan failed with a cudnnException: CUDNN_BACKEND_EXECUTION_PLAN_DESCRIPTOR: cudnnFinalize Descriptor Failed cudnn_status: CUDNN_STATUS_NOT_SUPPORTED (Triggered internally at ../aten/src/ATen/native/cudnn/Conv_v8.cpp:919.)\n",
      "  return Variable._execution_engine.run_backward(  # Calls into the C++ engine to run the backward pass\n",
      "/home/home/tim_ivan/idp/.venv/lib/python3.8/site-packages/torch/nn/modules/conv.py:456: UserWarning: Plan failed with a cudnnException: CUDNN_BACKEND_EXECUTION_PLAN_DESCRIPTOR: cudnnFinalize Descriptor Failed cudnn_status: CUDNN_STATUS_NOT_SUPPORTED (Triggered internally at ../aten/src/ATen/native/cudnn/Conv_v8.cpp:919.)\n",
      "  return F.conv2d(input, weight, bias, self.stride,\n"
     ]
    },
    {
     "name": "stdout",
     "output_type": "stream",
     "text": [
      "Epoch 1, Batch 10/34, Total Loss: 1.8441, Segmentation Loss: 0.4249, Domain Loss Source: 0.6113, Domain Loss Target: 0.6371\n",
      "Epoch 1, Batch 20/34, Total Loss: 1.7106, Segmentation Loss: 0.3447, Domain Loss Source: 0.5976, Domain Loss Target: 0.9083\n",
      "Epoch 1, Batch 30/34, Total Loss: 1.7214, Segmentation Loss: 0.3221, Domain Loss Source: 0.7402, Domain Loss Target: 0.8175\n",
      "Epoch 1, Train Loss: 1.7574\n",
      "Evaluating model performance on source data\n",
      "Precision: 0.9107, Recall: 0.3290, F1 Score: 0.4825, Dice Score: 0.4825, Accuracy: 0.8770\n",
      "Evaluating model performance on target data\n",
      "Precision: nan, Recall: 0.0748, F1 Score: 0.1181, Dice Score: 0.1181, Accuracy: 0.7753\n",
      "Epoch 1, Validation Loss Source: 0.2613, Validation Loss Target: 1.4982\n",
      "Epoch 2, Batch 10/34, Total Loss: 1.8595, Segmentation Loss: 0.2791, Domain Loss Source: 0.7408, Domain Loss Target: 0.9152\n",
      "Epoch 2, Batch 20/34, Total Loss: 1.7727, Segmentation Loss: 0.2733, Domain Loss Source: 0.6027, Domain Loss Target: 0.9855\n",
      "Epoch 2, Batch 30/34, Total Loss: 1.6891, Segmentation Loss: 0.2467, Domain Loss Source: 0.6409, Domain Loss Target: 0.7521\n",
      "Epoch 2, Train Loss: 1.7611\n",
      "Evaluating model performance on source data\n",
      "Precision: 0.9257, Recall: 0.4496, F1 Score: 0.6040, Dice Score: 0.6040, Accuracy: 0.8974\n",
      "Evaluating model performance on target data\n",
      "Precision: nan, Recall: 0.2346, F1 Score: 0.2797, Dice Score: 0.2797, Accuracy: 0.7875\n",
      "Epoch 2, Validation Loss Source: 0.2264, Validation Loss Target: 0.8648\n",
      "Epoch 3, Batch 10/34, Total Loss: 1.6198, Segmentation Loss: 0.2116, Domain Loss Source: 0.6014, Domain Loss Target: 0.7754\n"
     ]
    }
   ],
   "source": [
    "import matplotlib.pyplot as plt\n",
    "import torch\n",
    "from domain_adaptation_training import model_pipeline\n",
    "\n",
    "encoder = \"timm-regnetx_320\"\n",
    "architecture = \"Linknet\"\n",
    "device = torch.device(\"cuda:4\" if torch.cuda.is_available() else \"cpu\")\n",
    "lambda_param = 0.5\n",
    "learning_rate = 0.001\n",
    "loss = \"BCE\"\n",
    "epochs = 10\n",
    "in_channels = 1\n",
    "hidden_dim = 256\n",
    "\n",
    "config = {\n",
    "    \"model\": \"GRL-{architecture}-{encoder}-window_{window[0]}-{window[1]}-pretrained-random_crops-bloodvessel_ratio01\".format(\n",
    "        architecture=architecture, encoder=encoder, window=window\n",
    "    ),\n",
    "    \"encoder\": encoder,\n",
    "    \"architecture\": architecture,\n",
    "    \"learning_rate\": learning_rate,\n",
    "    \"optimizer\": \"Adam\",\n",
    "    \"lambda_param\": lambda_param,\n",
    "    \"batch_size_source\": trainloader_source.batch_size,\n",
    "    \"batch_size_target\": trainloader_target.batch_size,\n",
    "    \"hidden_dim\": hidden_dim,\n",
    "    \"epochs\": epochs,\n",
    "    \"loss\": loss,\n",
    "    \"in_channels\": in_channels,\n",
    "    \"pretrained\": './models/Linknet-timm-regnetx_320-512x512-augmented-with-random-crops-single-channel-focal.pth'\n",
    "}\n",
    "\n",
    "model, train_losses, domain_losses, val_losses_source, val_losses_target = model_pipeline(\n",
    "    trainloader_source,\n",
    "    validationloader_source,\n",
    "    testloader_source,\n",
    "    trainloader_target,\n",
    "    testloader_target,\n",
    "    config,\n",
    "    project=\"domain-adaptation\",\n",
    "    device=device,\n",
    "    batch_print=10,\n",
    "    evaluate=True,\n",
    "    with_overlays=True,\n",
    ")\n",
    "\n",
    "# Plotting the training and validation loss curves\n",
    "plt.figure(figsize=(10, 6))\n",
    "plt.plot(train_losses, label=\"Combined Training Loss\")\n",
    "plt.plot(domain_losses, label=\"Domain Loss\")\n",
    "plt.plot(val_losses_source, label=\"Validation Loss Source\")\n",
    "plt.plot(val_losses_target, label=\"Validation Loss Target\")\n",
    "plt.xlabel(\"Epochs\")\n",
    "plt.ylabel(\"Loss\")\n",
    "plt.title(\"Training and Validation Loss Curves\")\n",
    "plt.legend()\n",
    "plt.show()"
   ]
  },
  {
   "cell_type": "markdown",
   "metadata": {},
   "source": [
    "### FADA:"
   ]
  },
  {
   "cell_type": "code",
   "execution_count": 3,
   "metadata": {},
   "outputs": [
    {
     "name": "stderr",
     "output_type": "stream",
     "text": [
      "Failed to detect the name of this notebook, you can set it manually with the WANDB_NOTEBOOK_NAME environment variable to enable code saving.\n",
      "\u001b[34m\u001b[1mwandb\u001b[0m: Currently logged in as: \u001b[33mtim-mach\u001b[0m (\u001b[33midp2024\u001b[0m). Use \u001b[1m`wandb login --relogin`\u001b[0m to force relogin\n"
     ]
    },
    {
     "data": {
      "text/html": [
       "wandb version 0.18.6 is available!  To upgrade, please run:\n",
       " $ pip install wandb --upgrade"
      ],
      "text/plain": [
       "<IPython.core.display.HTML object>"
      ]
     },
     "metadata": {},
     "output_type": "display_data"
    },
    {
     "data": {
      "text/html": [
       "Tracking run with wandb version 0.16.6"
      ],
      "text/plain": [
       "<IPython.core.display.HTML object>"
      ]
     },
     "metadata": {},
     "output_type": "display_data"
    },
    {
     "data": {
      "text/html": [
       "Run data is saved locally in <code>/home/home/tim_ivan/idp/wandb/run-20241113_222237-mjb8qsbv</code>"
      ],
      "text/plain": [
       "<IPython.core.display.HTML object>"
      ]
     },
     "metadata": {},
     "output_type": "display_data"
    },
    {
     "data": {
      "text/html": [
       "Syncing run <strong><a href='https://wandb.ai/idp2024/supervised-domain-adaptation/runs/mjb8qsbv' target=\"_blank\">FADA-Linknet-timm-regnetx_320-window_500-600_unsupervised-comparison</a></strong> to <a href='https://wandb.ai/idp2024/supervised-domain-adaptation' target=\"_blank\">Weights & Biases</a> (<a href='https://wandb.me/run' target=\"_blank\">docs</a>)<br/>"
      ],
      "text/plain": [
       "<IPython.core.display.HTML object>"
      ]
     },
     "metadata": {},
     "output_type": "display_data"
    },
    {
     "data": {
      "text/html": [
       " View project at <a href='https://wandb.ai/idp2024/supervised-domain-adaptation' target=\"_blank\">https://wandb.ai/idp2024/supervised-domain-adaptation</a>"
      ],
      "text/plain": [
       "<IPython.core.display.HTML object>"
      ]
     },
     "metadata": {},
     "output_type": "display_data"
    },
    {
     "data": {
      "text/html": [
       " View run at <a href='https://wandb.ai/idp2024/supervised-domain-adaptation/runs/mjb8qsbv' target=\"_blank\">https://wandb.ai/idp2024/supervised-domain-adaptation/runs/mjb8qsbv</a>"
      ],
      "text/plain": [
       "<IPython.core.display.HTML object>"
      ]
     },
     "metadata": {},
     "output_type": "display_data"
    },
    {
     "name": "stdout",
     "output_type": "stream",
     "text": [
      "Loading pretrained model from ./models/Linknet-timm-regnetx_320-512x512-augmented-with-random-crops-single-channel-focal.pth\n"
     ]
    },
    {
     "name": "stderr",
     "output_type": "stream",
     "text": [
      "/home/home/tim_ivan/idp/.venv/lib/python3.8/site-packages/torch/nn/modules/conv.py:456: UserWarning: Plan failed with a cudnnException: CUDNN_BACKEND_EXECUTION_PLAN_DESCRIPTOR: cudnnFinalize Descriptor Failed cudnn_status: CUDNN_STATUS_NOT_SUPPORTED (Triggered internally at ../aten/src/ATen/native/cudnn/Conv_v8.cpp:919.)\n",
      "  return F.conv2d(input, weight, bias, self.stride,\n",
      "/home/home/tim_ivan/idp/.venv/lib/python3.8/site-packages/torch/autograd/graph.py:744: UserWarning: Plan failed with a cudnnException: CUDNN_BACKEND_EXECUTION_PLAN_DESCRIPTOR: cudnnFinalize Descriptor Failed cudnn_status: CUDNN_STATUS_NOT_SUPPORTED (Triggered internally at ../aten/src/ATen/native/cudnn/Conv_v8.cpp:919.)\n",
      "  return Variable._execution_engine.run_backward(  # Calls into the C++ engine to run the backward pass\n"
     ]
    },
    {
     "name": "stdout",
     "output_type": "stream",
     "text": [
      "Epoch 1, Batch 10/34, Total Loss: 1.0754, Segmentation Loss: 0.4388, Domain Loss Source: 0.2231, Domain Loss Target: 0.3810, Adversarial Loss Target: 0.0006\n",
      "Epoch 1, Batch 20/34, Total Loss: 0.9417, Segmentation Loss: 0.3725, Domain Loss Source: 0.2044, Domain Loss Target: 0.2758, Adversarial Loss Target: 0.0010\n",
      "Epoch 1, Batch 30/34, Total Loss: 0.8755, Segmentation Loss: 0.3164, Domain Loss Source: 0.1629, Domain Loss Target: 0.3198, Adversarial Loss Target: 0.0008\n",
      "Epoch 1, Train Loss: 5.0209\n"
     ]
    },
    {
     "name": "stderr",
     "output_type": "stream",
     "text": [
      "/home/home/tim_ivan/idp/.venv/lib/python3.8/site-packages/torch/nn/modules/conv.py:456: UserWarning: Plan failed with a cudnnException: CUDNN_BACKEND_EXECUTION_PLAN_DESCRIPTOR: cudnnFinalize Descriptor Failed cudnn_status: CUDNN_STATUS_NOT_SUPPORTED (Triggered internally at ../aten/src/ATen/native/cudnn/Conv_v8.cpp:919.)\n",
      "  return F.conv2d(input, weight, bias, self.stride,\n"
     ]
    },
    {
     "name": "stdout",
     "output_type": "stream",
     "text": [
      "Evaluating model performance on source data\n",
      "Precision: 0.9045, Recall: 0.4671, F1 Score: 0.6144, Dice Score: 0.6144, Accuracy: 0.8980\n",
      "Evaluating model performance on target data\n",
      "Precision: nan, Recall: 0.0807, F1 Score: 0.1118, Dice Score: 0.1118, Accuracy: 0.7638\n",
      "Epoch 1, Validation Loss Source: 0.2182, Validation Loss Target: 0.8590\n",
      "Epoch 2, Batch 10/34, Total Loss: 0.7617, Segmentation Loss: 0.2840, Domain Loss Source: 0.3280, Domain Loss Target: 0.1155, Adversarial Loss Target: 0.0017\n",
      "Epoch 2, Batch 20/34, Total Loss: 0.6832, Segmentation Loss: 0.2505, Domain Loss Source: 0.2161, Domain Loss Target: 0.2112, Adversarial Loss Target: 0.0013\n",
      "Epoch 2, Batch 30/34, Total Loss: 0.6928, Segmentation Loss: 0.2187, Domain Loss Source: 0.2844, Domain Loss Target: 0.0985, Adversarial Loss Target: 0.0021\n",
      "Epoch 2, Train Loss: 3.7674\n",
      "Evaluating model performance on source data\n",
      "Precision: 0.9255, Recall: 0.5190, F1 Score: 0.6630, Dice Score: 0.6630, Accuracy: 0.9084\n",
      "Evaluating model performance on target data\n",
      "Precision: nan, Recall: 0.1999, F1 Score: 0.2287, Dice Score: 0.2287, Accuracy: 0.7800\n",
      "Epoch 2, Validation Loss Source: 0.2151, Validation Loss Target: 0.6800\n",
      "Epoch 3, Batch 10/34, Total Loss: 0.6645, Segmentation Loss: 0.2277, Domain Loss Source: 0.1829, Domain Loss Target: 0.2101, Adversarial Loss Target: 0.0012\n",
      "Epoch 3, Batch 20/34, Total Loss: 0.6037, Segmentation Loss: 0.2024, Domain Loss Source: 0.1554, Domain Loss Target: 0.1720, Adversarial Loss Target: 0.0016\n",
      "Epoch 3, Batch 30/34, Total Loss: 0.6207, Segmentation Loss: 0.1776, Domain Loss Source: 0.2078, Domain Loss Target: 0.1442, Adversarial Loss Target: 0.0019\n",
      "Epoch 3, Train Loss: 3.3504\n",
      "Evaluating model performance on source data\n",
      "Precision: 0.9263, Recall: 0.5454, F1 Score: 0.6844, Dice Score: 0.6844, Accuracy: 0.9127\n",
      "Evaluating model performance on target data\n",
      "Precision: nan, Recall: 0.3279, F1 Score: 0.3208, Dice Score: 0.3208, Accuracy: 0.7826\n",
      "Epoch 3, Validation Loss Source: 0.2147, Validation Loss Target: 0.6498\n",
      "Epoch 4, Batch 10/34, Total Loss: 0.5926, Segmentation Loss: 0.2030, Domain Loss Source: 0.0861, Domain Loss Target: 0.2652, Adversarial Loss Target: 0.0017\n",
      "Epoch 4, Batch 20/34, Total Loss: 0.5735, Segmentation Loss: 0.1786, Domain Loss Source: 0.2159, Domain Loss Target: 0.1471, Adversarial Loss Target: 0.0018\n",
      "Epoch 4, Batch 30/34, Total Loss: 0.6672, Segmentation Loss: 0.1542, Domain Loss Source: 0.1530, Domain Loss Target: 0.2063, Adversarial Loss Target: 0.0015\n",
      "Epoch 4, Train Loss: 3.2058\n",
      "Evaluating model performance on source data\n",
      "Precision: 0.9246, Recall: 0.5500, F1 Score: 0.6874, Dice Score: 0.6874, Accuracy: 0.9131\n",
      "Evaluating model performance on target data\n",
      "Precision: 0.5471, Recall: 0.4733, F1 Score: 0.4296, Dice Score: 0.4296, Accuracy: 0.8076\n",
      "Epoch 4, Validation Loss Source: 0.2218, Validation Loss Target: 0.6016\n",
      "Epoch 5, Batch 10/34, Total Loss: 0.6626, Segmentation Loss: 0.1851, Domain Loss Source: 0.1608, Domain Loss Target: 0.2823, Adversarial Loss Target: 0.0012\n",
      "Epoch 5, Batch 20/34, Total Loss: 0.6002, Segmentation Loss: 0.1625, Domain Loss Source: 0.1856, Domain Loss Target: 0.2441, Adversarial Loss Target: 0.0015\n",
      "Epoch 5, Batch 30/34, Total Loss: 0.6219, Segmentation Loss: 0.1383, Domain Loss Source: 0.2295, Domain Loss Target: 0.1397, Adversarial Loss Target: 0.0017\n",
      "Epoch 5, Train Loss: 3.2984\n",
      "Evaluating model performance on source data\n",
      "Precision: 0.9153, Recall: 0.5586, F1 Score: 0.6911, Dice Score: 0.6911, Accuracy: 0.9134\n",
      "Evaluating model performance on target data\n",
      "Precision: 0.4769, Recall: 0.5185, F1 Score: 0.4576, Dice Score: 0.4576, Accuracy: 0.8154\n",
      "Epoch 5, Validation Loss Source: 0.2338, Validation Loss Target: 0.6120\n",
      "Epoch 6, Batch 10/34, Total Loss: 0.5948, Segmentation Loss: 0.1675, Domain Loss Source: 0.1313, Domain Loss Target: 0.2961, Adversarial Loss Target: 0.0011\n",
      "Epoch 6, Batch 20/34, Total Loss: 0.5216, Segmentation Loss: 0.1494, Domain Loss Source: 0.0892, Domain Loss Target: 0.3069, Adversarial Loss Target: 0.0012\n",
      "Epoch 6, Batch 30/34, Total Loss: 0.5537, Segmentation Loss: 0.1282, Domain Loss Source: 0.2880, Domain Loss Target: 0.0863, Adversarial Loss Target: 0.0029\n",
      "Epoch 6, Train Loss: 2.9068\n",
      "Evaluating model performance on source data\n",
      "Precision: 0.9101, Recall: 0.5665, F1 Score: 0.6955, Dice Score: 0.6955, Accuracy: 0.9140\n",
      "Evaluating model performance on target data\n",
      "Precision: 0.5491, Recall: 0.5459, F1 Score: 0.4799, Dice Score: 0.4799, Accuracy: 0.8128\n",
      "Epoch 6, Validation Loss Source: 0.2383, Validation Loss Target: 0.6331\n",
      "Epoch 7, Batch 10/34, Total Loss: 0.5374, Segmentation Loss: 0.1546, Domain Loss Source: 0.1021, Domain Loss Target: 0.2089, Adversarial Loss Target: 0.0015\n",
      "Epoch 7, Batch 20/34, Total Loss: 0.5745, Segmentation Loss: 0.1401, Domain Loss Source: 0.0810, Domain Loss Target: 0.3455, Adversarial Loss Target: 0.0014\n",
      "Epoch 7, Batch 30/34, Total Loss: 0.5810, Segmentation Loss: 0.1192, Domain Loss Source: 0.2249, Domain Loss Target: 0.1308, Adversarial Loss Target: 0.0021\n",
      "Epoch 7, Train Loss: 2.9501\n",
      "Evaluating model performance on source data\n",
      "Precision: 0.9154, Recall: 0.5752, F1 Score: 0.7035, Dice Score: 0.7035, Accuracy: 0.9160\n",
      "Evaluating model performance on target data\n",
      "Precision: 0.6209, Recall: 0.4743, F1 Score: 0.4315, Dice Score: 0.4315, Accuracy: 0.8125\n",
      "Epoch 7, Validation Loss Source: 0.2387, Validation Loss Target: 0.7460\n",
      "Epoch 8, Batch 10/34, Total Loss: 0.5354, Segmentation Loss: 0.1509, Domain Loss Source: 0.1419, Domain Loss Target: 0.2098, Adversarial Loss Target: 0.0016\n",
      "Epoch 8, Batch 20/34, Total Loss: 0.5188, Segmentation Loss: 0.1283, Domain Loss Source: 0.2065, Domain Loss Target: 0.2009, Adversarial Loss Target: 0.0021\n",
      "Epoch 8, Batch 30/34, Total Loss: 0.5111, Segmentation Loss: 0.1125, Domain Loss Source: 0.1865, Domain Loss Target: 0.1424, Adversarial Loss Target: 0.0019\n",
      "Epoch 8, Train Loss: 2.7372\n",
      "Evaluating model performance on source data\n",
      "Precision: 0.8921, Recall: 0.5951, F1 Score: 0.7110, Dice Score: 0.7110, Accuracy: 0.9163\n",
      "Evaluating model performance on target data\n",
      "Precision: 0.4994, Recall: 0.6730, F1 Score: 0.5698, Dice Score: 0.5698, Accuracy: 0.8020\n",
      "Epoch 8, Validation Loss Source: 0.2423, Validation Loss Target: 0.7230\n",
      "Epoch 9, Batch 10/34, Total Loss: 0.5425, Segmentation Loss: 0.1374, Domain Loss Source: 0.1552, Domain Loss Target: 0.2309, Adversarial Loss Target: 0.0015\n",
      "Epoch 9, Batch 20/34, Total Loss: 0.5353, Segmentation Loss: 0.1211, Domain Loss Source: 0.0547, Domain Loss Target: 0.4140, Adversarial Loss Target: 0.0009\n",
      "Epoch 9, Batch 30/34, Total Loss: 0.5051, Segmentation Loss: 0.1067, Domain Loss Source: 0.0990, Domain Loss Target: 0.2603, Adversarial Loss Target: 0.0010\n",
      "Epoch 9, Train Loss: 2.7038\n",
      "Evaluating model performance on source data\n",
      "Precision: 0.9081, Recall: 0.5892, F1 Score: 0.7117, Dice Score: 0.7117, Accuracy: 0.9173\n",
      "Evaluating model performance on target data\n",
      "Precision: 0.5247, Recall: 0.6297, F1 Score: 0.5618, Dice Score: 0.5618, Accuracy: 0.8084\n",
      "Epoch 9, Validation Loss Source: 0.2513, Validation Loss Target: 0.7440\n",
      "Epoch 10, Batch 10/34, Total Loss: 0.4658, Segmentation Loss: 0.1250, Domain Loss Source: 0.0975, Domain Loss Target: 0.2981, Adversarial Loss Target: 0.0011\n",
      "Epoch 10, Batch 20/34, Total Loss: 0.4688, Segmentation Loss: 0.1158, Domain Loss Source: 0.2160, Domain Loss Target: 0.0872, Adversarial Loss Target: 0.0021\n",
      "Epoch 10, Batch 30/34, Total Loss: 0.4977, Segmentation Loss: 0.1018, Domain Loss Source: 0.1556, Domain Loss Target: 0.1694, Adversarial Loss Target: 0.0020\n",
      "Epoch 10, Train Loss: 2.4697\n",
      "Evaluating model performance on source data\n",
      "Precision: 0.9093, Recall: 0.5941, F1 Score: 0.7157, Dice Score: 0.7157, Accuracy: 0.9183\n",
      "Evaluating model performance on target data\n",
      "Precision: 0.5097, Recall: 0.6694, F1 Score: 0.5711, Dice Score: 0.5711, Accuracy: 0.8005\n",
      "Epoch 10, Validation Loss Source: 0.2553, Validation Loss Target: 0.8133\n",
      "Precision: 0.5097, Recall: 0.6694, F1 Score: 0.5711, Dice Score: 0.5711, Accuracy: 0.8005\n"
     ]
    },
    {
     "data": {
      "application/vnd.jupyter.widget-view+json": {
       "model_id": "790dbf8b63904deb985582266245aae4",
       "version_major": 2,
       "version_minor": 0
      },
      "text/plain": [
       "VBox(children=(Label(value='3589.061 MB of 3589.061 MB uploaded\\r'), FloatProgress(value=1.0, max=1.0)))"
      ]
     },
     "metadata": {},
     "output_type": "display_data"
    },
    {
     "data": {
      "text/html": [
       "<style>\n",
       "    table.wandb td:nth-child(1) { padding: 0 10px; text-align: left ; width: auto;} td:nth-child(2) {text-align: left ; width: 100%}\n",
       "    .wandb-row { display: flex; flex-direction: row; flex-wrap: wrap; justify-content: flex-start; width: 100% }\n",
       "    .wandb-col { display: flex; flex-direction: column; flex-basis: 100%; flex: 1; padding: 10px; }\n",
       "    </style>\n",
       "<div class=\"wandb-row\"><div class=\"wandb-col\"><h3>Run history:</h3><br/><table class=\"wandb\"><tr><td>dice_score/source</td><td>▁▄▆▆▆▇▇███</td></tr><tr><td>dice_score/target</td><td>▁▃▄▆▆▇▆███</td></tr><tr><td>epoch</td><td>▁▂▃▃▄▅▆▆▇█</td></tr><tr><td>precision/source</td><td>▄███▆▅▆▁▄▅</td></tr><tr><td>precision/target</td><td>   ▄▁▅█▂▃▃</td></tr><tr><td>test/accuracy</td><td>▁</td></tr><tr><td>test/dice_score</td><td>▁</td></tr><tr><td>test/f1_score</td><td>▁</td></tr><tr><td>test/precision</td><td>▁</td></tr><tr><td>test/recall</td><td>▁</td></tr><tr><td>train/domain_loss</td><td>█▅▃▄▅▃▃▂▂▁</td></tr><tr><td>train/loss</td><td>█▅▃▃▃▂▂▂▂▁</td></tr><tr><td>val/loss_source</td><td>▂▁▁▂▄▅▅▆▇█</td></tr><tr><td>val/loss_target</td><td>█▃▂▁▁▂▅▄▅▇</td></tr></table><br/></div><div class=\"wandb-col\"><h3>Run summary:</h3><br/><table class=\"wandb\"><tr><td>dice_score/source</td><td>0.71565</td></tr><tr><td>dice_score/target</td><td>0.57109</td></tr><tr><td>epoch</td><td>10</td></tr><tr><td>precision/source</td><td>0.90934</td></tr><tr><td>precision/target</td><td>0.50971</td></tr><tr><td>test/accuracy</td><td>0.80052</td></tr><tr><td>test/dice_score</td><td>0.57109</td></tr><tr><td>test/f1_score</td><td>0.57109</td></tr><tr><td>test/precision</td><td>0.50971</td></tr><tr><td>test/recall</td><td>0.66941</td></tr><tr><td>train/domain_loss</td><td>0.35882</td></tr><tr><td>train/loss</td><td>2.46966</td></tr><tr><td>val/loss_source</td><td>0.25526</td></tr><tr><td>val/loss_target</td><td>0.81334</td></tr></table><br/></div></div>"
      ],
      "text/plain": [
       "<IPython.core.display.HTML object>"
      ]
     },
     "metadata": {},
     "output_type": "display_data"
    },
    {
     "data": {
      "text/html": [
       " View run <strong style=\"color:#cdcd00\">FADA-Linknet-timm-regnetx_320-window_500-600_unsupervised-comparison</strong> at: <a href='https://wandb.ai/idp2024/supervised-domain-adaptation/runs/mjb8qsbv' target=\"_blank\">https://wandb.ai/idp2024/supervised-domain-adaptation/runs/mjb8qsbv</a><br/> View project at: <a href='https://wandb.ai/idp2024/supervised-domain-adaptation' target=\"_blank\">https://wandb.ai/idp2024/supervised-domain-adaptation</a><br/>Synced 5 W&B file(s), 150 media file(s), 8 artifact file(s) and 0 other file(s)"
      ],
      "text/plain": [
       "<IPython.core.display.HTML object>"
      ]
     },
     "metadata": {},
     "output_type": "display_data"
    },
    {
     "data": {
      "text/html": [
       "Find logs at: <code>./wandb/run-20241113_222237-mjb8qsbv/logs</code>"
      ],
      "text/plain": [
       "<IPython.core.display.HTML object>"
      ]
     },
     "metadata": {},
     "output_type": "display_data"
    },
    {
     "data": {
      "image/png": "[encoded data removed]",
      "text/plain": [
       "<Figure size 1000x600 with 1 Axes>"
      ]
     },
     "metadata": {},
     "output_type": "display_data"
    }
   ],
   "source": [
    "import matplotlib.pyplot as plt\n",
    "from FADA.train_FADA import model_pipeline\n",
    "import torch\n",
    "\n",
    "encoder = \"timm-regnetx_320\"\n",
    "architecture = \"Linknet\"\n",
    "device = torch.device(\"cuda:4\" if torch.cuda.is_available() else \"cpu\")\n",
    "epochs = 10\n",
    "loss = \"BCE\"\n",
    "in_channels = 1\n",
    "ndf = 512\n",
    "learning_rate_fea = 0.001\n",
    "learning_rate_cls = 0.001\n",
    "learning_rate_dis = 0.0001\n",
    "\n",
    "config = {\n",
    "    \"model\": \"FADA-{architecture}-{encoder}-window_{window[0]}-{window[1]}_pretrained-augmented_target-random_crops_bloodvessel_ratio01\".format(\n",
    "        architecture=architecture, encoder=encoder, window=window\n",
    "    ),\n",
    "    \"encoder\": encoder,\n",
    "    \"architecture\": architecture,\n",
    "    \"in_channels\": in_channels,\n",
    "    \"optimizer\": \"Adam\",\n",
    "    \"batch_size_source\": trainloader_source.batch_size,\n",
    "    \"batch_size_target\": trainloader_target.batch_size,\n",
    "    \"learning_rate_fea\": learning_rate_fea,\n",
    "    \"learning_rate_cls\": learning_rate_cls,\n",
    "    \"learning_rate_dis\": learning_rate_dis,\n",
    "    \"ndf\": ndf,\n",
    "    \"epochs\": epochs,\n",
    "    \"seg_loss\": loss,\n",
    "    \"pretrained\": \"./models/Linknet-timm-regnetx_320-512x512-augmented-with-random-crops-single-channel-focal.pth\",\n",
    "    \"target_augmented\": target_augmented,\n",
    "}\n",
    "\n",
    "\n",
    "model, train_losses, domain_losses, val_losses_source, val_losses_target = (\n",
    "    model_pipeline(\n",
    "        trainloader_source,\n",
    "        validationloader_source,\n",
    "        testloader_source,\n",
    "        trainloader_target,\n",
    "        testloader_target,\n",
    "        config,\n",
    "        project=\"domain-adaptation\",\n",
    "        device=device,\n",
    "        batch_print=10,\n",
    "        evaluate=True,\n",
    "        with_overlays=True,\n",
    "    )\n",
    ")\n",
    "\n",
    "plt.figure(figsize=(10, 6))\n",
    "plt.plot(train_losses, label=\"Combined Training Loss\")\n",
    "plt.plot(domain_losses, label=\"Domain Loss\")\n",
    "plt.plot(val_losses_source, label=\"Validation Loss Source\")\n",
    "plt.plot(val_losses_target, label=\"Validation Loss Target\")\n",
    "plt.xlabel(\"Epochs\")\n",
    "plt.ylabel(\"Loss\")\n",
    "plt.title(\"Training and Validation Loss Curves\")\n",
    "plt.legend()\n",
    "plt.show()"
   ]
  },
  {
   "cell_type": "markdown",
   "metadata": {},
   "source": [
    "### Supervised Domain Adapatation"
   ]
  },
  {
   "cell_type": "markdown",
   "metadata": {},
   "source": [
    "#### GRL"
   ]
  },
  {
   "cell_type": "code",
   "execution_count": null,
   "metadata": {},
   "outputs": [
    {
     "name": "stderr",
     "output_type": "stream",
     "text": [
      "Failed to detect the name of this notebook, you can set it manually with the WANDB_NOTEBOOK_NAME environment variable to enable code saving.\n",
      "\u001b[34m\u001b[1mwandb\u001b[0m: Currently logged in as: \u001b[33mtim-mach\u001b[0m (\u001b[33midp2024\u001b[0m). Use \u001b[1m`wandb login --relogin`\u001b[0m to force relogin\n"
     ]
    },
    {
     "data": {
      "text/html": [
       "wandb version 0.18.6 is available!  To upgrade, please run:\n",
       " $ pip install wandb --upgrade"
      ],
      "text/plain": [
       "<IPython.core.display.HTML object>"
      ]
     },
     "metadata": {},
     "output_type": "display_data"
    },
    {
     "data": {
      "text/html": [
       "Tracking run with wandb version 0.16.6"
      ],
      "text/plain": [
       "<IPython.core.display.HTML object>"
      ]
     },
     "metadata": {},
     "output_type": "display_data"
    },
    {
     "data": {
      "text/html": [
       "Run data is saved locally in <code>/home/home/tim_ivan/idp/wandb/run-20241113_231515-g7k8n98v</code>"
      ],
      "text/plain": [
       "<IPython.core.display.HTML object>"
      ]
     },
     "metadata": {},
     "output_type": "display_data"
    },
    {
     "data": {
      "text/html": [
       "Syncing run <strong><a href='https://wandb.ai/idp2024/supervised-domain-adaptation/runs/g7k8n98v' target=\"_blank\">GRL-Linknet-timm-regnetx_320-window_500-600-pretrained-random_crops-bloodvessel_ratio01-supervised</a></strong> to <a href='https://wandb.ai/idp2024/supervised-domain-adaptation' target=\"_blank\">Weights & Biases</a> (<a href='https://wandb.me/run' target=\"_blank\">docs</a>)<br/>"
      ],
      "text/plain": [
       "<IPython.core.display.HTML object>"
      ]
     },
     "metadata": {},
     "output_type": "display_data"
    },
    {
     "data": {
      "text/html": [
       " View project at <a href='https://wandb.ai/idp2024/supervised-domain-adaptation' target=\"_blank\">https://wandb.ai/idp2024/supervised-domain-adaptation</a>"
      ],
      "text/plain": [
       "<IPython.core.display.HTML object>"
      ]
     },
     "metadata": {},
     "output_type": "display_data"
    },
    {
     "data": {
      "text/html": [
       " View run at <a href='https://wandb.ai/idp2024/supervised-domain-adaptation/runs/g7k8n98v' target=\"_blank\">https://wandb.ai/idp2024/supervised-domain-adaptation/runs/g7k8n98v</a>"
      ],
      "text/plain": [
       "<IPython.core.display.HTML object>"
      ]
     },
     "metadata": {},
     "output_type": "display_data"
    },
    {
     "name": "stdout",
     "output_type": "stream",
     "text": [
      "Loading pretrained model from ./models/Linknet-timm-regnetx_320-512x512-augmented-with-random-crops-single-channel-focal.pth\n"
     ]
    },
    {
     "name": "stderr",
     "output_type": "stream",
     "text": [
      "/home/home/tim_ivan/idp/.venv/lib/python3.8/site-packages/torch/nn/modules/conv.py:456: UserWarning: Plan failed with a cudnnException: CUDNN_BACKEND_EXECUTION_PLAN_DESCRIPTOR: cudnnFinalize Descriptor Failed cudnn_status: CUDNN_STATUS_NOT_SUPPORTED (Triggered internally at ../aten/src/ATen/native/cudnn/Conv_v8.cpp:919.)\n",
      "  return F.conv2d(input, weight, bias, self.stride,\n",
      "/home/home/tim_ivan/idp/.venv/lib/python3.8/site-packages/torch/autograd/graph.py:744: UserWarning: Plan failed with a cudnnException: CUDNN_BACKEND_EXECUTION_PLAN_DESCRIPTOR: cudnnFinalize Descriptor Failed cudnn_status: CUDNN_STATUS_NOT_SUPPORTED (Triggered internally at ../aten/src/ATen/native/cudnn/Conv_v8.cpp:919.)\n",
      "  return Variable._execution_engine.run_backward(  # Calls into the C++ engine to run the backward pass\n"
     ]
    },
    {
     "name": "stdout",
     "output_type": "stream",
     "text": [
      "Epoch 1, Batch 1/34, Total Loss: 2.1479, Segmentation Loss: 0.7283, Domain Loss Source: 0.7582, Domain Loss Target: 0.6614\n",
      "Epoch 1, Batch 2/34, Total Loss: 30.4464, Segmentation Loss: 0.6874, Domain Loss Source: 0.0000, Domain Loss Target: 29.7590\n",
      "Epoch 1, Batch 3/34, Total Loss: 45.6899, Segmentation Loss: 0.6732, Domain Loss Source: 43.6820, Domain Loss Target: 1.3348\n",
      "Epoch 1, Batch 4/34, Total Loss: 60.7336, Segmentation Loss: 0.6997, Domain Loss Source: 58.5175, Domain Loss Target: 1.5164\n",
      "Epoch 1, Batch 5/34, Total Loss: 19.6700, Segmentation Loss: 0.6691, Domain Loss Source: 15.5772, Domain Loss Target: 3.4236\n",
      "Epoch 1, Batch 6/34, Total Loss: 23.4743, Segmentation Loss: 0.7398, Domain Loss Source: 16.1773, Domain Loss Target: 6.5572\n",
      "Epoch 1, Batch 7/34, Total Loss: 39.3069, Segmentation Loss: 0.6454, Domain Loss Source: 0.7192, Domain Loss Target: 37.9422\n"
     ]
    },
    {
     "name": "stderr",
     "output_type": "stream",
     "text": [
      "/home/home/tim_ivan/idp/.venv/lib/python3.8/site-packages/torch/nn/modules/conv.py:456: UserWarning: Plan failed with a cudnnException: CUDNN_BACKEND_EXECUTION_PLAN_DESCRIPTOR: cudnnFinalize Descriptor Failed cudnn_status: CUDNN_STATUS_NOT_SUPPORTED (Triggered internally at ../aten/src/ATen/native/cudnn/Conv_v8.cpp:919.)\n",
      "  return F.conv2d(input, weight, bias, self.stride,\n"
     ]
    },
    {
     "name": "stdout",
     "output_type": "stream",
     "text": [
      "Epoch 1, Batch 8/34, Total Loss: 31.2116, Segmentation Loss: 0.7010, Domain Loss Source: 11.5278, Domain Loss Target: 18.9828\n",
      "Epoch 1, Batch 9/34, Total Loss: 6.9516, Segmentation Loss: 0.6254, Domain Loss Source: 5.3976, Domain Loss Target: 0.9286\n",
      "Epoch 1, Batch 10/34, Total Loss: 3.5846, Segmentation Loss: 0.6483, Domain Loss Source: 0.1458, Domain Loss Target: 2.7905\n",
      "Epoch 1, Batch 11/34, Total Loss: 10.3006, Segmentation Loss: 0.6348, Domain Loss Source: 2.2692, Domain Loss Target: 7.3966\n",
      "Epoch 1, Batch 12/34, Total Loss: 9.2024, Segmentation Loss: 0.6809, Domain Loss Source: 1.9968, Domain Loss Target: 6.5247\n",
      "Epoch 1, Batch 13/34, Total Loss: 4.0135, Segmentation Loss: 0.6346, Domain Loss Source: 3.1238, Domain Loss Target: 0.2550\n",
      "Epoch 1, Batch 14/34, Total Loss: 19.5268, Segmentation Loss: 0.6613, Domain Loss Source: 6.5280, Domain Loss Target: 12.3374\n",
      "Epoch 1, Batch 15/34, Total Loss: 2.5017, Segmentation Loss: 0.6154, Domain Loss Source: 1.8577, Domain Loss Target: 0.0286\n",
      "Epoch 1, Batch 16/34, Total Loss: 6.2783, Segmentation Loss: 0.7047, Domain Loss Source: 5.0740, Domain Loss Target: 0.4996\n",
      "Epoch 1, Batch 17/34, Total Loss: 1.7260, Segmentation Loss: 0.5996, Domain Loss Source: 0.6674, Domain Loss Target: 0.4590\n",
      "Epoch 1, Batch 18/34, Total Loss: 5.5996, Segmentation Loss: 0.5644, Domain Loss Source: 0.0086, Domain Loss Target: 5.0266\n",
      "Epoch 1, Batch 19/34, Total Loss: 10.5274, Segmentation Loss: 0.6068, Domain Loss Source: 6.8193, Domain Loss Target: 3.1014\n",
      "Epoch 1, Batch 20/34, Total Loss: 10.7684, Segmentation Loss: 0.6359, Domain Loss Source: 0.4011, Domain Loss Target: 9.7314\n",
      "Epoch 1, Batch 21/34, Total Loss: 1.3909, Segmentation Loss: 0.5996, Domain Loss Source: 0.7165, Domain Loss Target: 0.0748\n",
      "Epoch 1, Batch 22/34, Total Loss: 11.5365, Segmentation Loss: 0.6705, Domain Loss Source: 8.4255, Domain Loss Target: 2.4406\n",
      "Epoch 1, Batch 23/34, Total Loss: 3.7295, Segmentation Loss: 0.6413, Domain Loss Source: 3.0493, Domain Loss Target: 0.0388\n",
      "Epoch 1, Batch 24/34, Total Loss: 5.4131, Segmentation Loss: 0.6529, Domain Loss Source: 4.6816, Domain Loss Target: 0.0786\n",
      "Epoch 1, Batch 25/34, Total Loss: 2.5026, Segmentation Loss: 0.6071, Domain Loss Source: 1.8850, Domain Loss Target: 0.0105\n",
      "Epoch 1, Batch 26/34, Total Loss: 3.0495, Segmentation Loss: 0.5626, Domain Loss Source: 0.2849, Domain Loss Target: 2.2021\n",
      "Epoch 1, Batch 27/34, Total Loss: 4.2334, Segmentation Loss: 0.6126, Domain Loss Source: 1.0855, Domain Loss Target: 2.5353\n",
      "Epoch 1, Batch 28/34, Total Loss: 5.0916, Segmentation Loss: 0.5697, Domain Loss Source: 0.0062, Domain Loss Target: 4.5157\n",
      "Epoch 1, Batch 29/34, Total Loss: 1.8426, Segmentation Loss: 0.5427, Domain Loss Source: 0.0003, Domain Loss Target: 1.2996\n",
      "Epoch 1, Batch 30/34, Total Loss: 3.1234, Segmentation Loss: 0.5734, Domain Loss Source: 1.2844, Domain Loss Target: 1.2656\n",
      "Epoch 1, Batch 31/34, Total Loss: 2.0092, Segmentation Loss: 0.5704, Domain Loss Source: 0.1472, Domain Loss Target: 1.2916\n",
      "Epoch 1, Batch 32/34, Total Loss: 4.5006, Segmentation Loss: 0.5560, Domain Loss Source: 0.3734, Domain Loss Target: 3.5712\n",
      "Epoch 1, Batch 33/34, Total Loss: 4.0462, Segmentation Loss: 0.5730, Domain Loss Source: 3.4730, Domain Loss Target: 0.0002\n",
      "Epoch 1, Batch 34/34, Total Loss: 4.0458, Segmentation Loss: 0.5671, Domain Loss Source: 3.4323, Domain Loss Target: 0.0463\n",
      "Epoch 1, Train Loss: 11.7699\n",
      "Evaluating model performance on source data\n",
      "Precision: 0.7823, Recall: 0.4425, F1 Score: 0.5616, Dice Score: 0.5616, Accuracy: 0.8803\n",
      "Evaluating model performance on target data\n",
      "Precision: nan, Recall: 0.1608, F1 Score: 0.1985, Dice Score: 0.1985, Accuracy: 0.7622\n",
      "Epoch 1, Validation Loss Source: 0.4782, Validation Loss Target: 0.8067\n",
      "Epoch 2, Batch 1/34, Total Loss: 2.9017, Segmentation Loss: 0.5977, Domain Loss Source: 2.2515, Domain Loss Target: 0.0524\n",
      "Epoch 2, Batch 2/34, Total Loss: 4.8484, Segmentation Loss: 0.5466, Domain Loss Source: 3.2542, Domain Loss Target: 1.0476\n",
      "Epoch 2, Batch 3/34, Total Loss: 0.5970, Segmentation Loss: 0.5481, Domain Loss Source: 0.0028, Domain Loss Target: 0.0461\n",
      "Epoch 2, Batch 4/34, Total Loss: 2.6450, Segmentation Loss: 0.5633, Domain Loss Source: 0.0003, Domain Loss Target: 2.0815\n",
      "Epoch 2, Batch 5/34, Total Loss: 4.1850, Segmentation Loss: 0.5813, Domain Loss Source: 0.0355, Domain Loss Target: 3.5682\n",
      "Epoch 2, Batch 6/34, Total Loss: 3.6665, Segmentation Loss: 0.5624, Domain Loss Source: 0.4885, Domain Loss Target: 2.6156\n",
      "Epoch 2, Batch 7/34, Total Loss: 0.9493, Segmentation Loss: 0.5857, Domain Loss Source: 0.0459, Domain Loss Target: 0.3177\n",
      "Epoch 2, Batch 8/34, Total Loss: 1.8488, Segmentation Loss: 0.5683, Domain Loss Source: 0.7101, Domain Loss Target: 0.5705\n",
      "Epoch 2, Batch 9/34, Total Loss: 1.1248, Segmentation Loss: 0.5281, Domain Loss Source: 0.5456, Domain Loss Target: 0.0512\n",
      "Epoch 2, Batch 10/34, Total Loss: 2.2108, Segmentation Loss: 0.5632, Domain Loss Source: 1.5653, Domain Loss Target: 0.0823\n",
      "Epoch 2, Batch 11/34, Total Loss: 3.0093, Segmentation Loss: 0.5071, Domain Loss Source: 2.5005, Domain Loss Target: 0.0016\n",
      "Epoch 2, Batch 12/34, Total Loss: 1.4516, Segmentation Loss: 0.5773, Domain Loss Source: 0.8741, Domain Loss Target: 0.0001\n",
      "Epoch 2, Batch 13/34, Total Loss: 0.8983, Segmentation Loss: 0.5071, Domain Loss Source: 0.3265, Domain Loss Target: 0.0646\n",
      "Epoch 2, Batch 14/34, Total Loss: 0.8333, Segmentation Loss: 0.5565, Domain Loss Source: 0.0016, Domain Loss Target: 0.2752\n",
      "Epoch 2, Batch 15/34, Total Loss: 0.6979, Segmentation Loss: 0.5208, Domain Loss Source: 0.0072, Domain Loss Target: 0.1699\n",
      "Epoch 2, Batch 16/34, Total Loss: 2.1657, Segmentation Loss: 0.5887, Domain Loss Source: 0.0449, Domain Loss Target: 1.5321\n",
      "Epoch 2, Batch 17/34, Total Loss: 1.7429, Segmentation Loss: 0.4979, Domain Loss Source: 0.0018, Domain Loss Target: 1.2432\n",
      "Epoch 2, Batch 18/34, Total Loss: 1.9530, Segmentation Loss: 0.4572, Domain Loss Source: 0.2773, Domain Loss Target: 1.2186\n",
      "Epoch 2, Batch 19/34, Total Loss: 0.9406, Segmentation Loss: 0.4863, Domain Loss Source: 0.4377, Domain Loss Target: 0.0166\n",
      "Epoch 2, Batch 20/34, Total Loss: 1.6731, Segmentation Loss: 0.4916, Domain Loss Source: 1.1809, Domain Loss Target: 0.0006\n",
      "Epoch 2, Batch 21/34, Total Loss: 1.0084, Segmentation Loss: 0.5002, Domain Loss Source: 0.4919, Domain Loss Target: 0.0163\n",
      "Epoch 2, Batch 22/34, Total Loss: 2.8156, Segmentation Loss: 0.6112, Domain Loss Source: 1.9937, Domain Loss Target: 0.2107\n",
      "Epoch 2, Batch 23/34, Total Loss: 0.6283, Segmentation Loss: 0.5690, Domain Loss Source: 0.0467, Domain Loss Target: 0.0126\n",
      "Epoch 2, Batch 24/34, Total Loss: 1.6291, Segmentation Loss: 0.5829, Domain Loss Source: 0.9306, Domain Loss Target: 0.1156\n",
      "Epoch 2, Batch 25/34, Total Loss: 0.7569, Segmentation Loss: 0.4917, Domain Loss Source: 0.0356, Domain Loss Target: 0.2296\n",
      "Epoch 2, Batch 26/34, Total Loss: 1.4479, Segmentation Loss: 0.4954, Domain Loss Source: 0.0498, Domain Loss Target: 0.9027\n",
      "Epoch 2, Batch 27/34, Total Loss: 1.9658, Segmentation Loss: 0.5060, Domain Loss Source: 1.3640, Domain Loss Target: 0.0958\n",
      "Epoch 2, Batch 28/34, Total Loss: 1.0930, Segmentation Loss: 0.4625, Domain Loss Source: 0.1319, Domain Loss Target: 0.4986\n",
      "Epoch 2, Batch 29/34, Total Loss: 1.4581, Segmentation Loss: 0.4607, Domain Loss Source: 0.0120, Domain Loss Target: 0.9854\n",
      "Epoch 2, Batch 30/34, Total Loss: 1.0058, Segmentation Loss: 0.4967, Domain Loss Source: 0.0293, Domain Loss Target: 0.4798\n",
      "Epoch 2, Batch 31/34, Total Loss: 0.9356, Segmentation Loss: 0.4562, Domain Loss Source: 0.4568, Domain Loss Target: 0.0227\n",
      "Epoch 2, Batch 32/34, Total Loss: 0.7004, Segmentation Loss: 0.4840, Domain Loss Source: 0.1978, Domain Loss Target: 0.0186\n",
      "Epoch 2, Batch 33/34, Total Loss: 1.2428, Segmentation Loss: 0.4708, Domain Loss Source: 0.7382, Domain Loss Target: 0.0338\n",
      "Epoch 2, Batch 34/34, Total Loss: 0.8910, Segmentation Loss: 0.4652, Domain Loss Source: 0.2035, Domain Loss Target: 0.2223\n",
      "Epoch 2, Train Loss: 1.7036\n"
     ]
    }
   ],
   "source": [
    "from torch.utils.data import DataLoader, Subset\n",
    "import torch\n",
    "from supervised_domain_adaptation import model_pipeline\n",
    "\n",
    "trainloader_target_labeled = DataLoader(\n",
    "    Subset(testset, [0]),\n",
    "    batch_size=1,\n",
    "    shuffle=True,\n",
    ")\n",
    "testloader_target = DataLoader(\n",
    "    Subset(testset, [1, 2, 3, 4]), batch_size=1, shuffle=False\n",
    ")\n",
    "\n",
    "encoder = \"timm-regnetx_320\"\n",
    "architecture = \"Linknet\"\n",
    "device = torch.device(\"cuda:4\" if torch.cuda.is_available() else \"cpu\")\n",
    "lambda_param = 0.5\n",
    "learning_rate = 0.001\n",
    "loss = \"Dice\"\n",
    "epochs = 10\n",
    "in_channels = 1\n",
    "hidden_dim = 256\n",
    "\n",
    "config = {\n",
    "    \"model\": \"GRL-{architecture}-{encoder}-window_{window[0]}-{window[1]}-pretrained-random_crops-bloodvessel_ratio01-supervised\".format(\n",
    "        architecture=architecture, encoder=encoder, window=window\n",
    "    ),\n",
    "    \"encoder\": encoder,\n",
    "    \"architecture\": architecture,\n",
    "    \"learning_rate\": learning_rate,\n",
    "    \"optimizer\": \"Adam\",\n",
    "    \"lambda_param\": lambda_param,\n",
    "    \"batch_size_source\": trainloader_source.batch_size,\n",
    "    \"batch_size_target\": trainloader_target.batch_size,\n",
    "    \"hidden_dim\": hidden_dim,\n",
    "    \"epochs\": epochs,\n",
    "    \"loss\": loss,\n",
    "    \"in_channels\": in_channels,\n",
    "    \"pretrained\": './models/Linknet-timm-regnetx_320-512x512-augmented-with-random-crops-single-channel-focal.pth',\n",
    "    \"supervised\": True,\n",
    "}\n",
    "\n",
    "model, train_losses, domain_losses, val_losses_source, val_losses_target = model_pipeline(\n",
    "    trainloader_source,\n",
    "    validationloader_source,\n",
    "    testloader_source,\n",
    "    trainloader_target_labeled,\n",
    "    trainloader_target,\n",
    "    testloader_target,\n",
    "    config,\n",
    "    project=\"supervised-domain-adaptation\",\n",
    "    device=device,\n",
    "    batch_print=1,\n",
    "    evaluate=True,\n",
    "    with_overlays=True,\n",
    ")"
   ]
  },
  {
   "cell_type": "markdown",
   "metadata": {},
   "source": [
    "#### FADA"
   ]
  },
  {
   "cell_type": "code",
   "execution_count": 2,
   "metadata": {},
   "outputs": [
    {
     "name": "stderr",
     "output_type": "stream",
     "text": [
      "Failed to detect the name of this notebook, you can set it manually with the WANDB_NOTEBOOK_NAME environment variable to enable code saving.\n",
      "\u001b[34m\u001b[1mwandb\u001b[0m: Currently logged in as: \u001b[33mtim-mach\u001b[0m (\u001b[33midp2024\u001b[0m). Use \u001b[1m`wandb login --relogin`\u001b[0m to force relogin\n"
     ]
    },
    {
     "data": {
      "text/html": [
       "wandb version 0.18.6 is available!  To upgrade, please run:\n",
       " $ pip install wandb --upgrade"
      ],
      "text/plain": [
       "<IPython.core.display.HTML object>"
      ]
     },
     "metadata": {},
     "output_type": "display_data"
    },
    {
     "data": {
      "text/html": [
       "Tracking run with wandb version 0.16.6"
      ],
      "text/plain": [
       "<IPython.core.display.HTML object>"
      ]
     },
     "metadata": {},
     "output_type": "display_data"
    },
    {
     "data": {
      "text/html": [
       "Run data is saved locally in <code>/home/home/tim_ivan/idp/wandb/run-20241113_215941-qd45bcaj</code>"
      ],
      "text/plain": [
       "<IPython.core.display.HTML object>"
      ]
     },
     "metadata": {},
     "output_type": "display_data"
    },
    {
     "data": {
      "text/html": [
       "Syncing run <strong><a href='https://wandb.ai/idp2024/supervised-domain-adaptation/runs/qd45bcaj' target=\"_blank\">FADA-Linknet-timm-regnetx_320-window_500-600_pretrained-augmented_target-random_crops_bloodvessel_ratio01</a></strong> to <a href='https://wandb.ai/idp2024/supervised-domain-adaptation' target=\"_blank\">Weights & Biases</a> (<a href='https://wandb.me/run' target=\"_blank\">docs</a>)<br/>"
      ],
      "text/plain": [
       "<IPython.core.display.HTML object>"
      ]
     },
     "metadata": {},
     "output_type": "display_data"
    },
    {
     "data": {
      "text/html": [
       " View project at <a href='https://wandb.ai/idp2024/supervised-domain-adaptation' target=\"_blank\">https://wandb.ai/idp2024/supervised-domain-adaptation</a>"
      ],
      "text/plain": [
       "<IPython.core.display.HTML object>"
      ]
     },
     "metadata": {},
     "output_type": "display_data"
    },
    {
     "data": {
      "text/html": [
       " View run at <a href='https://wandb.ai/idp2024/supervised-domain-adaptation/runs/qd45bcaj' target=\"_blank\">https://wandb.ai/idp2024/supervised-domain-adaptation/runs/qd45bcaj</a>"
      ],
      "text/plain": [
       "<IPython.core.display.HTML object>"
      ]
     },
     "metadata": {},
     "output_type": "display_data"
    },
    {
     "name": "stdout",
     "output_type": "stream",
     "text": [
      "Loading pretrained model from ./models/Linknet-timm-regnetx_320-512x512-augmented-with-random-crops-single-channel-focal.pth\n"
     ]
    },
    {
     "name": "stderr",
     "output_type": "stream",
     "text": [
      "/home/home/tim_ivan/idp/.venv/lib/python3.8/site-packages/torch/nn/modules/conv.py:456: UserWarning: Plan failed with a cudnnException: CUDNN_BACKEND_EXECUTION_PLAN_DESCRIPTOR: cudnnFinalize Descriptor Failed cudnn_status: CUDNN_STATUS_NOT_SUPPORTED (Triggered internally at ../aten/src/ATen/native/cudnn/Conv_v8.cpp:919.)\n",
      "  return F.conv2d(input, weight, bias, self.stride,\n",
      "/home/home/tim_ivan/idp/.venv/lib/python3.8/site-packages/torch/autograd/graph.py:744: UserWarning: Plan failed with a cudnnException: CUDNN_BACKEND_EXECUTION_PLAN_DESCRIPTOR: cudnnFinalize Descriptor Failed cudnn_status: CUDNN_STATUS_NOT_SUPPORTED (Triggered internally at ../aten/src/ATen/native/cudnn/Conv_v8.cpp:919.)\n",
      "  return Variable._execution_engine.run_backward(  # Calls into the C++ engine to run the backward pass\n"
     ]
    },
    {
     "name": "stdout",
     "output_type": "stream",
     "text": [
      "Epoch 1, Batch 10/34, Total Loss: 1.0578, Segmentation Loss: 0.4373, Domain Loss Source: 0.3387, Domain Loss Target: 0.2318, Adversarial Loss Target: 0.0009\n",
      "Epoch 1, Batch 20/34, Total Loss: 0.9842, Segmentation Loss: 0.3694, Domain Loss Source: 0.3450, Domain Loss Target: 0.2909, Adversarial Loss Target: 0.0012\n",
      "Epoch 1, Batch 30/34, Total Loss: 0.8321, Segmentation Loss: 0.3126, Domain Loss Source: 0.2059, Domain Loss Target: 0.2563, Adversarial Loss Target: 0.0010\n",
      "Epoch 1, Train Loss: 4.9357\n"
     ]
    },
    {
     "name": "stderr",
     "output_type": "stream",
     "text": [
      "/home/home/tim_ivan/idp/.venv/lib/python3.8/site-packages/torch/nn/modules/conv.py:456: UserWarning: Plan failed with a cudnnException: CUDNN_BACKEND_EXECUTION_PLAN_DESCRIPTOR: cudnnFinalize Descriptor Failed cudnn_status: CUDNN_STATUS_NOT_SUPPORTED (Triggered internally at ../aten/src/ATen/native/cudnn/Conv_v8.cpp:919.)\n",
      "  return F.conv2d(input, weight, bias, self.stride,\n"
     ]
    },
    {
     "name": "stdout",
     "output_type": "stream",
     "text": [
      "Evaluating model performance on source data\n",
      "Precision: 0.9679, Recall: 0.2987, F1 Score: 0.4549, Dice Score: 0.4549, Accuracy: 0.8754\n",
      "Evaluating model performance on target data\n",
      "Precision: nan, Recall: 0.1847, F1 Score: 0.2401, Dice Score: 0.2401, Accuracy: 0.7989\n",
      "Epoch 1, Validation Loss Source: 0.2642, Validation Loss Target: 0.6929\n",
      "Epoch 2, Batch 10/34, Total Loss: 0.7133, Segmentation Loss: 0.2836, Domain Loss Source: 0.2742, Domain Loss Target: 0.1458, Adversarial Loss Target: 0.0018\n",
      "Epoch 2, Batch 20/34, Total Loss: 0.7254, Segmentation Loss: 0.2543, Domain Loss Source: 0.2818, Domain Loss Target: 0.1544, Adversarial Loss Target: 0.0020\n",
      "Epoch 2, Batch 30/34, Total Loss: 0.6715, Segmentation Loss: 0.2273, Domain Loss Source: 0.3369, Domain Loss Target: 0.1476, Adversarial Loss Target: 0.0018\n",
      "Epoch 2, Train Loss: 3.5858\n",
      "Evaluating model performance on source data\n",
      "Precision: 0.9597, Recall: 0.4010, F1 Score: 0.5633, Dice Score: 0.5633, Accuracy: 0.8920\n",
      "Evaluating model performance on target data\n",
      "Precision: 0.4168, Recall: 0.2992, F1 Score: 0.3436, Dice Score: 0.3436, Accuracy: 0.8037\n",
      "Epoch 2, Validation Loss Source: 0.2848, Validation Loss Target: 0.5648\n",
      "Epoch 3, Batch 10/34, Total Loss: 0.6636, Segmentation Loss: 0.2251, Domain Loss Source: 0.4584, Domain Loss Target: 0.0825, Adversarial Loss Target: 0.0027\n",
      "Epoch 3, Batch 20/34, Total Loss: 0.7144, Segmentation Loss: 0.2106, Domain Loss Source: 0.2956, Domain Loss Target: 0.1851, Adversarial Loss Target: 0.0014\n",
      "Epoch 3, Batch 30/34, Total Loss: 0.6797, Segmentation Loss: 0.1863, Domain Loss Source: 0.2117, Domain Loss Target: 0.2501, Adversarial Loss Target: 0.0012\n",
      "Epoch 3, Train Loss: 3.5167\n",
      "Evaluating model performance on source data\n",
      "Precision: 0.9353, Recall: 0.4632, F1 Score: 0.6165, Dice Score: 0.6165, Accuracy: 0.9003\n",
      "Evaluating model performance on target data\n",
      "Precision: 0.5283, Recall: 0.6093, F1 Score: 0.5611, Dice Score: 0.5611, Accuracy: 0.8273\n",
      "Epoch 3, Validation Loss Source: 0.2840, Validation Loss Target: 0.4886\n",
      "Epoch 4, Batch 10/34, Total Loss: 0.6459, Segmentation Loss: 0.1984, Domain Loss Source: 0.4003, Domain Loss Target: 0.1105, Adversarial Loss Target: 0.0021\n",
      "Epoch 4, Batch 20/34, Total Loss: 0.6293, Segmentation Loss: 0.1863, Domain Loss Source: 0.2560, Domain Loss Target: 0.1736, Adversarial Loss Target: 0.0015\n",
      "Epoch 4, Batch 30/34, Total Loss: 0.6457, Segmentation Loss: 0.1615, Domain Loss Source: 0.1470, Domain Loss Target: 0.3052, Adversarial Loss Target: 0.0007\n",
      "Epoch 4, Train Loss: 3.2743\n",
      "Evaluating model performance on source data\n",
      "Precision: 0.9285, Recall: 0.4940, F1 Score: 0.6417, Dice Score: 0.6417, Accuracy: 0.9046\n",
      "Evaluating model performance on target data\n",
      "Precision: 0.5303, Recall: 0.6397, F1 Score: 0.5764, Dice Score: 0.5764, Accuracy: 0.8227\n",
      "Epoch 4, Validation Loss Source: 0.2813, Validation Loss Target: 0.5494\n",
      "Epoch 5, Batch 10/34, Total Loss: 0.6443, Segmentation Loss: 0.1813, Domain Loss Source: 0.4674, Domain Loss Target: 0.0726, Adversarial Loss Target: 0.0023\n",
      "Epoch 5, Batch 20/34, Total Loss: 0.6633, Segmentation Loss: 0.1701, Domain Loss Source: 0.2598, Domain Loss Target: 0.2123, Adversarial Loss Target: 0.0011\n",
      "Epoch 5, Batch 30/34, Total Loss: 0.6203, Segmentation Loss: 0.1447, Domain Loss Source: 0.2218, Domain Loss Target: 0.1649, Adversarial Loss Target: 0.0015\n",
      "Epoch 5, Train Loss: 3.2961\n",
      "Evaluating model performance on source data\n",
      "Precision: 0.9116, Recall: 0.5073, F1 Score: 0.6480, Dice Score: 0.6480, Accuracy: 0.9048\n",
      "Evaluating model performance on target data\n",
      "Precision: 0.5202, Recall: 0.7135, F1 Score: 0.5937, Dice Score: 0.5937, Accuracy: 0.8105\n",
      "Epoch 5, Validation Loss Source: 0.2856, Validation Loss Target: 0.6232\n",
      "Epoch 6, Batch 10/34, Total Loss: 0.5921, Segmentation Loss: 0.1666, Domain Loss Source: 0.1738, Domain Loss Target: 0.2082, Adversarial Loss Target: 0.0011\n",
      "Epoch 6, Batch 20/34, Total Loss: 0.5750, Segmentation Loss: 0.1585, Domain Loss Source: 0.1904, Domain Loss Target: 0.2018, Adversarial Loss Target: 0.0021\n",
      "Epoch 6, Batch 30/34, Total Loss: 0.5659, Segmentation Loss: 0.1321, Domain Loss Source: 0.2841, Domain Loss Target: 0.1192, Adversarial Loss Target: 0.0017\n",
      "Epoch 6, Train Loss: 3.0074\n",
      "Evaluating model performance on source data\n",
      "Precision: 0.9043, Recall: 0.5117, F1 Score: 0.6495, Dice Score: 0.6495, Accuracy: 0.9046\n",
      "Evaluating model performance on target data\n",
      "Precision: 0.5185, Recall: 0.7163, F1 Score: 0.5894, Dice Score: 0.5894, Accuracy: 0.8060\n",
      "Epoch 6, Validation Loss Source: 0.2891, Validation Loss Target: 0.6797\n",
      "Epoch 7, Batch 10/34, Total Loss: 0.5899, Segmentation Loss: 0.1550, Domain Loss Source: 0.3937, Domain Loss Target: 0.0481, Adversarial Loss Target: 0.0030\n",
      "Epoch 7, Batch 20/34, Total Loss: 0.5841, Segmentation Loss: 0.1495, Domain Loss Source: 0.1619, Domain Loss Target: 0.3052, Adversarial Loss Target: 0.0009\n",
      "Epoch 7, Batch 30/34, Total Loss: 0.5380, Segmentation Loss: 0.1232, Domain Loss Source: 0.2105, Domain Loss Target: 0.1323, Adversarial Loss Target: 0.0015\n",
      "Epoch 7, Train Loss: 2.9213\n",
      "Evaluating model performance on source data\n",
      "Precision: 0.8992, Recall: 0.5114, F1 Score: 0.6480, Dice Score: 0.6480, Accuracy: 0.9040\n",
      "Evaluating model performance on target data\n",
      "Precision: 0.5263, Recall: 0.7074, F1 Score: 0.5926, Dice Score: 0.5926, Accuracy: 0.8112\n",
      "Epoch 7, Validation Loss Source: 0.2919, Validation Loss Target: 0.6996\n",
      "Epoch 8, Batch 10/34, Total Loss: 0.5777, Segmentation Loss: 0.1456, Domain Loss Source: 0.0848, Domain Loss Target: 0.3307, Adversarial Loss Target: 0.0009\n",
      "Epoch 8, Batch 20/34, Total Loss: 0.5789, Segmentation Loss: 0.1421, Domain Loss Source: 0.1292, Domain Loss Target: 0.3300, Adversarial Loss Target: 0.0008\n",
      "Epoch 8, Batch 30/34, Total Loss: 0.5645, Segmentation Loss: 0.1154, Domain Loss Source: 0.1321, Domain Loss Target: 0.3084, Adversarial Loss Target: 0.0007\n",
      "Epoch 8, Train Loss: 2.9250\n",
      "Evaluating model performance on source data\n",
      "Precision: 0.8936, Recall: 0.5267, F1 Score: 0.6590, Dice Score: 0.6590, Accuracy: 0.9058\n",
      "Evaluating model performance on target data\n",
      "Precision: 0.5186, Recall: 0.7212, F1 Score: 0.5923, Dice Score: 0.5923, Accuracy: 0.8069\n",
      "Epoch 8, Validation Loss Source: 0.2874, Validation Loss Target: 0.7534\n",
      "Epoch 9, Batch 10/34, Total Loss: 0.5261, Segmentation Loss: 0.1383, Domain Loss Source: 0.2960, Domain Loss Target: 0.1081, Adversarial Loss Target: 0.0019\n",
      "Epoch 9, Batch 20/34, Total Loss: 0.5470, Segmentation Loss: 0.1352, Domain Loss Source: 0.3232, Domain Loss Target: 0.1489, Adversarial Loss Target: 0.0014\n",
      "Epoch 9, Batch 30/34, Total Loss: 0.5350, Segmentation Loss: 0.1087, Domain Loss Source: 0.2148, Domain Loss Target: 0.1058, Adversarial Loss Target: 0.0020\n",
      "Epoch 9, Train Loss: 2.7853\n",
      "Evaluating model performance on source data\n",
      "Precision: 0.8990, Recall: 0.5147, F1 Score: 0.6508, Dice Score: 0.6508, Accuracy: 0.9046\n",
      "Evaluating model performance on target data\n",
      "Precision: 0.5213, Recall: 0.7221, F1 Score: 0.5944, Dice Score: 0.5944, Accuracy: 0.8086\n",
      "Epoch 9, Validation Loss Source: 0.3082, Validation Loss Target: 0.7848\n",
      "Epoch 10, Batch 10/34, Total Loss: 0.5035, Segmentation Loss: 0.1316, Domain Loss Source: 0.1043, Domain Loss Target: 0.3395, Adversarial Loss Target: 0.0008\n",
      "Epoch 10, Batch 20/34, Total Loss: 0.5019, Segmentation Loss: 0.1286, Domain Loss Source: 0.1589, Domain Loss Target: 0.1747, Adversarial Loss Target: 0.0017\n",
      "Epoch 10, Batch 30/34, Total Loss: 0.4754, Segmentation Loss: 0.1025, Domain Loss Source: 0.1172, Domain Loss Target: 0.1213, Adversarial Loss Target: 0.0017\n",
      "Epoch 10, Train Loss: 2.5654\n",
      "Evaluating model performance on source data\n",
      "Precision: 0.9045, Recall: 0.4944, F1 Score: 0.6354, Dice Score: 0.6354, Accuracy: 0.9020\n",
      "Evaluating model performance on target data\n",
      "Precision: 0.5325, Recall: 0.7076, F1 Score: 0.6006, Dice Score: 0.6006, Accuracy: 0.8177\n",
      "Epoch 10, Validation Loss Source: 0.3358, Validation Loss Target: 0.7824\n",
      "Precision: 0.5325, Recall: 0.7076, F1 Score: 0.6006, Dice Score: 0.6006, Accuracy: 0.8177\n"
     ]
    },
    {
     "data": {
      "application/vnd.jupyter.widget-view+json": {
       "model_id": "c61410b8ffce45de8c1d2df2a4a1376f",
       "version_major": 2,
       "version_minor": 0
      },
      "text/plain": [
       "VBox(children=(Label(value='3140.881 MB of 3140.881 MB uploaded\\r'), FloatProgress(value=1.0, max=1.0)))"
      ]
     },
     "metadata": {},
     "output_type": "display_data"
    },
    {
     "data": {
      "text/html": [
       "<style>\n",
       "    table.wandb td:nth-child(1) { padding: 0 10px; text-align: left ; width: auto;} td:nth-child(2) {text-align: left ; width: 100%}\n",
       "    .wandb-row { display: flex; flex-direction: row; flex-wrap: wrap; justify-content: flex-start; width: 100% }\n",
       "    .wandb-col { display: flex; flex-direction: column; flex-basis: 100%; flex: 1; padding: 10px; }\n",
       "    </style>\n",
       "<div class=\"wandb-row\"><div class=\"wandb-col\"><h3>Run history:</h3><br/><table class=\"wandb\"><tr><td>dice_score/source</td><td>▁▅▇▇█████▇</td></tr><tr><td>dice_score/target</td><td>▁▃▇███████</td></tr><tr><td>epoch</td><td>▁▂▃▃▄▅▆▆▇█</td></tr><tr><td>precision/source</td><td>█▇▅▄▃▂▂▁▂▂</td></tr><tr><td>precision/target</td><td> ▁██▇▇█▇▇█</td></tr><tr><td>test/accuracy</td><td>▁</td></tr><tr><td>test/dice_score</td><td>▁</td></tr><tr><td>test/f1_score</td><td>▁</td></tr><tr><td>test/precision</td><td>▁</td></tr><tr><td>test/recall</td><td>▁</td></tr><tr><td>train/domain_loss</td><td>█▃▅▄▅▃▃▄▃▁</td></tr><tr><td>train/loss</td><td>█▄▄▃▃▂▂▂▂▁</td></tr><tr><td>val/loss_source</td><td>▁▃▃▃▃▃▄▃▅█</td></tr><tr><td>val/loss_target</td><td>▆▃▁▂▄▆▆▇██</td></tr></table><br/></div><div class=\"wandb-col\"><h3>Run summary:</h3><br/><table class=\"wandb\"><tr><td>dice_score/source</td><td>0.63538</td></tr><tr><td>dice_score/target</td><td>0.60058</td></tr><tr><td>epoch</td><td>10</td></tr><tr><td>precision/source</td><td>0.90452</td></tr><tr><td>precision/target</td><td>0.53252</td></tr><tr><td>test/accuracy</td><td>0.81768</td></tr><tr><td>test/dice_score</td><td>0.60058</td></tr><tr><td>test/f1_score</td><td>0.60058</td></tr><tr><td>test/precision</td><td>0.53252</td></tr><tr><td>test/recall</td><td>0.7076</td></tr><tr><td>train/domain_loss</td><td>0.36723</td></tr><tr><td>train/loss</td><td>2.56542</td></tr><tr><td>val/loss_source</td><td>0.33583</td></tr><tr><td>val/loss_target</td><td>0.78236</td></tr></table><br/></div></div>"
      ],
      "text/plain": [
       "<IPython.core.display.HTML object>"
      ]
     },
     "metadata": {},
     "output_type": "display_data"
    },
    {
     "data": {
      "text/html": [
       " View run <strong style=\"color:#cdcd00\">FADA-Linknet-timm-regnetx_320-window_500-600_pretrained-augmented_target-random_crops_bloodvessel_ratio01</strong> at: <a href='https://wandb.ai/idp2024/supervised-domain-adaptation/runs/qd45bcaj' target=\"_blank\">https://wandb.ai/idp2024/supervised-domain-adaptation/runs/qd45bcaj</a><br/> View project at: <a href='https://wandb.ai/idp2024/supervised-domain-adaptation' target=\"_blank\">https://wandb.ai/idp2024/supervised-domain-adaptation</a><br/>Synced 5 W&B file(s), 150 media file(s), 7 artifact file(s) and 0 other file(s)"
      ],
      "text/plain": [
       "<IPython.core.display.HTML object>"
      ]
     },
     "metadata": {},
     "output_type": "display_data"
    },
    {
     "data": {
      "text/html": [
       "Find logs at: <code>./wandb/run-20241113_215941-qd45bcaj/logs</code>"
      ],
      "text/plain": [
       "<IPython.core.display.HTML object>"
      ]
     },
     "metadata": {},
     "output_type": "display_data"
    },
    {
     "data": {
      "image/png": "[encoded data removed]",
      "text/plain": [
       "<Figure size 1000x600 with 1 Axes>"
      ]
     },
     "metadata": {},
     "output_type": "display_data"
    }
   ],
   "source": [
    "import matplotlib.pyplot as plt\n",
    "import torch\n",
    "from torch.utils.data import DataLoader, Subset\n",
    "from FADA.train_FADA_supervised import model_pipeline\n",
    "\n",
    "trainloader_target_labeled = DataLoader(\n",
    "    Subset(testset, [0]),\n",
    "    batch_size=1,\n",
    "    shuffle=True,\n",
    ")\n",
    "testloader_target = DataLoader(\n",
    "    Subset(testset, [1, 2, 3, 4]), batch_size=1, shuffle=False\n",
    ")\n",
    "\n",
    "encoder = \"timm-regnetx_320\"\n",
    "architecture = \"Linknet\"\n",
    "device = torch.device(\"cuda:4\" if torch.cuda.is_available() else \"cpu\")\n",
    "epochs = 10\n",
    "loss = \"BCE\"\n",
    "in_channels = 1\n",
    "ndf = 512\n",
    "learning_rate_fea = 0.001\n",
    "learning_rate_cls = 0.001\n",
    "learning_rate_dis = 0.0001\n",
    "\n",
    "config = {\n",
    "    \"model\": \"FADA-{architecture}-{encoder}-window_{window[0]}-{window[1]}_pretrained-augmented_target-random_crops_bloodvessel_ratio01\".format(\n",
    "        architecture=architecture, encoder=encoder, window=window\n",
    "    ),\n",
    "    \"encoder\": encoder,\n",
    "    \"architecture\": architecture,\n",
    "    \"in_channels\": in_channels,\n",
    "    \"optimizer\": \"Adam\",\n",
    "    \"batch_size_source\": trainloader_source.batch_size,\n",
    "    \"batch_size_target\": trainloader_target.batch_size,\n",
    "    \"learning_rate_fea\": learning_rate_fea,\n",
    "    \"learning_rate_cls\": learning_rate_cls,\n",
    "    \"learning_rate_dis\": learning_rate_dis,\n",
    "    \"ndf\": ndf,\n",
    "    \"epochs\": epochs,\n",
    "    \"seg_loss\": loss,\n",
    "    \"pretrained\": \"./models/Linknet-timm-regnetx_320-512x512-augmented-with-random-crops-single-channel-focal.pth\",\n",
    "    \"target_augmented\": target_augmented,\n",
    "}\n",
    "\n",
    "\n",
    "model, train_losses, domain_losses, val_losses_source, val_losses_target = (\n",
    "    model_pipeline(\n",
    "        trainloader_source,\n",
    "        validationloader_source,\n",
    "        testloader_source,\n",
    "        trainloader_target_labeled,\n",
    "        trainloader_target,\n",
    "        testloader_target,\n",
    "        config,\n",
    "        project=\"supervised-domain-adaptation\",\n",
    "        device=device,\n",
    "        batch_print=10,\n",
    "        evaluate=True,\n",
    "        with_overlays=True,\n",
    "    )\n",
    ")\n",
    "\n",
    "plt.figure(figsize=(10, 6))\n",
    "plt.plot(train_losses, label=\"Combined Training Loss\")\n",
    "plt.plot(domain_losses, label=\"Domain Loss\")\n",
    "plt.plot(val_losses_source, label=\"Validation Loss Source\")\n",
    "plt.plot(val_losses_target, label=\"Validation Loss Target\")\n",
    "plt.xlabel(\"Epochs\")\n",
    "plt.ylabel(\"Loss\")\n",
    "plt.title(\"Training and Validation Loss Curves\")\n",
    "plt.legend()\n",
    "plt.show()"
   ]
  }
 ],
 "metadata": {
  "kernelspec": {
   "display_name": ".venv",
   "language": "python",
   "name": "python3"
  },
  "language_info": {
   "codemirror_mode": {
    "name": "ipython",
    "version": 3
   },
   "file_extension": ".py",
   "mimetype": "text/x-python",
   "name": "python",
   "nbconvert_exporter": "python",
   "pygments_lexer": "ipython3",
   "version": "3.8.10"
  }
 },
 "nbformat": 4,
 "nbformat_minor": 2
}
