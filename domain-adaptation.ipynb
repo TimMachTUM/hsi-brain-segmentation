{
 "cells": [
  {
   "cell_type": "markdown",
   "metadata": {},
   "source": [
    "# Domain Adaptation"
   ]
  },
  {
   "cell_type": "code",
   "execution_count": 1,
   "metadata": {},
   "outputs": [
    {
     "name": "stdout",
     "output_type": "stream",
     "text": [
      "Number of samples in the training set: 534, validation set: 60\n",
      "Number of samples in the test set: 200\n",
      "62 5\n"
     ]
    }
   ],
   "source": [
    "from dataset import (\n",
    "    build_hsi_testloader,\n",
    "    build_hsi_dataloader,\n",
    "    HSIDataset,\n",
    "    build_FIVES_random_crops_dataloaders,\n",
    ")\n",
    "from torch.utils.data import DataLoader\n",
    "\n",
    "trainloader_source, validationloader_source, testloader_source = (\n",
    "    build_FIVES_random_crops_dataloaders(\n",
    "        batch_size=16,\n",
    "        num_channels=1,\n",
    "        load_from_path='data/FIVES_random_crops_threshold01'\n",
    "    )\n",
    ")\n",
    "\n",
    "window = (500, 600)\n",
    "target_augmented= True\n",
    "trainloader_target = build_hsi_dataloader(\n",
    "    batch_size=8,\n",
    "    train_split=1,\n",
    "    val_split=0,\n",
    "    test_split=0,\n",
    "    window=window,\n",
    "    exclude_labeled_data=True,\n",
    "    augmented=target_augmented,\n",
    "    ring_label_dir='data/helicoid_ring_labels',\n",
    ")[0]\n",
    "\n",
    "testloader_target = build_hsi_testloader(\n",
    "    batch_size=1,\n",
    "    window=window,\n",
    ")\n",
    "\n",
    "print(len(trainloader_target.dataset), len(testloader_target.dataset))"
   ]
  },
  {
   "cell_type": "markdown",
   "metadata": {},
   "source": [
    "## Evaluation of Model without Domain Adaptation on Target Testset"
   ]
  },
  {
   "cell_type": "markdown",
   "metadata": {},
   "source": [
    "### Transfer Learning"
   ]
  },
  {
   "cell_type": "code",
   "execution_count": 3,
   "metadata": {},
   "outputs": [
    {
     "name": "stdout",
     "output_type": "stream",
     "text": [
      "Precision: nan, Recall: 0.0239, F1 Score: 0.0410, Dice Score: 0.0410, Accuracy: 0.7850\n"
     ]
    },
    {
     "data": {
      "text/plain": [
       "(tensor(nan, device='cuda:3'),\n",
       " tensor(0.0239, device='cuda:3'),\n",
       " tensor(0.0410, device='cuda:3'),\n",
       " tensor(0.7850, device='cuda:3'),\n",
       " tensor(0.0410, device='cuda:3'))"
      ]
     },
     "execution_count": 3,
     "metadata": {},
     "output_type": "execute_result"
    }
   ],
   "source": [
    "from segmentation_util import evaluate_model, build_segmentation_model\n",
    "import torch\n",
    "device = torch.device(\"cuda:3\" if torch.cuda.is_available() else \"cpu\")\n",
    "model = build_segmentation_model('resnet50', 'Unet', device, in_channels=1)\n",
    "\n",
    "evaluate_model(\n",
    "    model, testloader_target, device, with_wandb=False\n",
    ")"
   ]
  },
  {
   "cell_type": "markdown",
   "metadata": {},
   "source": [
    "### Ensemble Model"
   ]
  },
  {
   "cell_type": "code",
   "execution_count": null,
   "metadata": {},
   "outputs": [
    {
     "name": "stdout",
     "output_type": "stream",
     "text": [
      "Precision: 0.5368, Recall: 0.2351, F1 Score: 0.3072, Dice Score: 0.3072, Accuracy: 0.8104\n"
     ]
    },
    {
     "data": {
      "text/plain": [
       "(tensor(0.5368, device='cuda:3'),\n",
       " tensor(0.2351, device='cuda:3'),\n",
       " tensor(0.3072, device='cuda:3'),\n",
       " tensor(0.8104, device='cuda:3'),\n",
       " tensor(0.3072, device='cuda:3'))"
      ]
     },
     "execution_count": 3,
     "metadata": {},
     "output_type": "execute_result"
    }
   ],
   "source": [
    "from HSI_Net import SegmentationModelWithWindowing\n",
    "from segmentation_util import build_segmentation_model, evaluate_model\n",
    "from ensemble_model import EnsembleModelAverage\n",
    "import segmentation_models_pytorch as smp\n",
    "import torch\n",
    "\n",
    "path = \"./data/helicoid_with_labels\"\n",
    "testset = HSIDataset(path, with_gt=True)\n",
    "testset.crop_dataset()\n",
    "testloader_target = DataLoader(testset, batch_size=1, shuffle=False)\n",
    "\n",
    "encoder = 'timm-regnetx_320'\n",
    "architecture = 'Linknet'\n",
    "device = ('cuda:5' if torch.cuda.is_available() else 'cpu')\n",
    "\n",
    "segmenter_single_channel = build_segmentation_model(encoder, architecture, device)\n",
    "segmenter_single_channel.load_state_dict(torch.load('./models/{architecture}-{encoder}-512x512-augmented-with-random-crops-single-channel-focal.pth'.format(architecture=architecture, encoder=encoder)))\n",
    "segmenter_single_channel.eval()\n",
    "\n",
    "window1 = (400, 500)\n",
    "window2 = (500, 600)\n",
    "window3 = (600, 700)\n",
    "window4 = (700, 800)\n",
    "window5 = (800, 900)\n",
    "window6 = (900, 1000)\n",
    "window_full = (400, 1100)\n",
    "\n",
    "\n",
    "model_windowing_400to500 = SegmentationModelWithWindowing(segmenter_single_channel, window=testset.get_window_from_wavelengths(window1))\n",
    "model_with_windowing_500to600 = SegmentationModelWithWindowing(segmenter_single_channel, window=testset.get_window_from_wavelengths(window2))\n",
    "model_windowing_600to700 = SegmentationModelWithWindowing(segmenter_single_channel, window=testset.get_window_from_wavelengths(window3))\n",
    "model_windowing_700to800 = SegmentationModelWithWindowing(segmenter_single_channel, window=testset.get_window_from_wavelengths(window4))\n",
    "model_windowing_800to900 = SegmentationModelWithWindowing(segmenter_single_channel, window=testset.get_window_from_wavelengths(window5))\n",
    "model_windowing_900to1000 = SegmentationModelWithWindowing(segmenter_single_channel, window=testset.get_window_from_wavelengths(window6))\n",
    "model_window_full = SegmentationModelWithWindowing(segmenter_single_channel, window=testset.get_window_from_wavelengths(window_full))\n",
    "\n",
    "model = EnsembleModelAverage([model_windowing_400to500, model_with_windowing_500to600, model_windowing_600to700, model_windowing_700to800, model_windowing_900to1000, model_window_full])\n",
    "evaluate_model(model, testloader_target, device, with_wandb=False)"
   ]
  },
  {
   "cell_type": "markdown",
   "metadata": {},
   "source": [
    "## Domain Adaptation Approaches:\n",
    "### GRL domain adaptation"
   ]
  },
  {
   "cell_type": "code",
   "execution_count": null,
   "metadata": {},
   "outputs": [
    {
     "name": "stderr",
     "output_type": "stream",
     "text": [
      "Failed to detect the name of this notebook, you can set it manually with the WANDB_NOTEBOOK_NAME environment variable to enable code saving.\n",
      "\u001b[34m\u001b[1mwandb\u001b[0m: Currently logged in as: \u001b[33mtim-mach\u001b[0m (\u001b[33midp2024\u001b[0m). Use \u001b[1m`wandb login --relogin`\u001b[0m to force relogin\n"
     ]
    },
    {
     "data": {
      "text/html": [
       "wandb version 0.18.6 is available!  To upgrade, please run:\n",
       " $ pip install wandb --upgrade"
      ],
      "text/plain": [
       "<IPython.core.display.HTML object>"
      ]
     },
     "metadata": {},
     "output_type": "display_data"
    },
    {
     "data": {
      "text/html": [
       "Tracking run with wandb version 0.16.6"
      ],
      "text/plain": [
       "<IPython.core.display.HTML object>"
      ]
     },
     "metadata": {},
     "output_type": "display_data"
    },
    {
     "data": {
      "text/html": [
       "Run data is saved locally in <code>/home/home/tim_ivan/idp/wandb/run-20241113_212614-c8spo9w6</code>"
      ],
      "text/plain": [
       "<IPython.core.display.HTML object>"
      ]
     },
     "metadata": {},
     "output_type": "display_data"
    },
    {
     "data": {
      "text/html": [
       "Syncing run <strong><a href='https://wandb.ai/idp2024/domain-adaptation/runs/c8spo9w6' target=\"_blank\">GRL-Linknet-timm-regnetx_320-window_500-600-pretrained-random_crops-bloodvessel_ratio01</a></strong> to <a href='https://wandb.ai/idp2024/domain-adaptation' target=\"_blank\">Weights & Biases</a> (<a href='https://wandb.me/run' target=\"_blank\">docs</a>)<br/>"
      ],
      "text/plain": [
       "<IPython.core.display.HTML object>"
      ]
     },
     "metadata": {},
     "output_type": "display_data"
    },
    {
     "data": {
      "text/html": [
       " View project at <a href='https://wandb.ai/idp2024/domain-adaptation' target=\"_blank\">https://wandb.ai/idp2024/domain-adaptation</a>"
      ],
      "text/plain": [
       "<IPython.core.display.HTML object>"
      ]
     },
     "metadata": {},
     "output_type": "display_data"
    },
    {
     "data": {
      "text/html": [
       " View run at <a href='https://wandb.ai/idp2024/domain-adaptation/runs/c8spo9w6' target=\"_blank\">https://wandb.ai/idp2024/domain-adaptation/runs/c8spo9w6</a>"
      ],
      "text/plain": [
       "<IPython.core.display.HTML object>"
      ]
     },
     "metadata": {},
     "output_type": "display_data"
    },
    {
     "name": "stdout",
     "output_type": "stream",
     "text": [
      "Loading pretrained model from ./models/Linknet-timm-regnetx_320-512x512-augmented-with-random-crops-single-channel-focal.pth\n"
     ]
    },
    {
     "name": "stderr",
     "output_type": "stream",
     "text": [
      "/home/home/tim_ivan/idp/.venv/lib/python3.8/site-packages/torch/nn/modules/conv.py:456: UserWarning: Plan failed with a cudnnException: CUDNN_BACKEND_EXECUTION_PLAN_DESCRIPTOR: cudnnFinalize Descriptor Failed cudnn_status: CUDNN_STATUS_NOT_SUPPORTED (Triggered internally at ../aten/src/ATen/native/cudnn/Conv_v8.cpp:919.)\n",
      "  return F.conv2d(input, weight, bias, self.stride,\n",
      "/home/home/tim_ivan/idp/.venv/lib/python3.8/site-packages/torch/autograd/graph.py:744: UserWarning: Plan failed with a cudnnException: CUDNN_BACKEND_EXECUTION_PLAN_DESCRIPTOR: cudnnFinalize Descriptor Failed cudnn_status: CUDNN_STATUS_NOT_SUPPORTED (Triggered internally at ../aten/src/ATen/native/cudnn/Conv_v8.cpp:919.)\n",
      "  return Variable._execution_engine.run_backward(  # Calls into the C++ engine to run the backward pass\n",
      "/home/home/tim_ivan/idp/.venv/lib/python3.8/site-packages/torch/nn/modules/conv.py:456: UserWarning: Plan failed with a cudnnException: CUDNN_BACKEND_EXECUTION_PLAN_DESCRIPTOR: cudnnFinalize Descriptor Failed cudnn_status: CUDNN_STATUS_NOT_SUPPORTED (Triggered internally at ../aten/src/ATen/native/cudnn/Conv_v8.cpp:919.)\n",
      "  return F.conv2d(input, weight, bias, self.stride,\n"
     ]
    },
    {
     "name": "stdout",
     "output_type": "stream",
     "text": [
      "Epoch 1, Batch 10/34, Total Loss: 1.8441, Segmentation Loss: 0.4249, Domain Loss Source: 0.6113, Domain Loss Target: 0.6371\n",
      "Epoch 1, Batch 20/34, Total Loss: 1.7106, Segmentation Loss: 0.3447, Domain Loss Source: 0.5976, Domain Loss Target: 0.9083\n",
      "Epoch 1, Batch 30/34, Total Loss: 1.7214, Segmentation Loss: 0.3221, Domain Loss Source: 0.7402, Domain Loss Target: 0.8175\n",
      "Epoch 1, Train Loss: 1.7574\n",
      "Evaluating model performance on source data\n",
      "Precision: 0.9107, Recall: 0.3290, F1 Score: 0.4825, Dice Score: 0.4825, Accuracy: 0.8770\n",
      "Evaluating model performance on target data\n",
      "Precision: nan, Recall: 0.0748, F1 Score: 0.1181, Dice Score: 0.1181, Accuracy: 0.7753\n",
      "Epoch 1, Validation Loss Source: 0.2613, Validation Loss Target: 1.4982\n",
      "Epoch 2, Batch 10/34, Total Loss: 1.8595, Segmentation Loss: 0.2791, Domain Loss Source: 0.7408, Domain Loss Target: 0.9152\n",
      "Epoch 2, Batch 20/34, Total Loss: 1.7727, Segmentation Loss: 0.2733, Domain Loss Source: 0.6027, Domain Loss Target: 0.9855\n",
      "Epoch 2, Batch 30/34, Total Loss: 1.6891, Segmentation Loss: 0.2467, Domain Loss Source: 0.6409, Domain Loss Target: 0.7521\n",
      "Epoch 2, Train Loss: 1.7611\n",
      "Evaluating model performance on source data\n",
      "Precision: 0.9257, Recall: 0.4496, F1 Score: 0.6040, Dice Score: 0.6040, Accuracy: 0.8974\n",
      "Evaluating model performance on target data\n",
      "Precision: nan, Recall: 0.2346, F1 Score: 0.2797, Dice Score: 0.2797, Accuracy: 0.7875\n",
      "Epoch 2, Validation Loss Source: 0.2264, Validation Loss Target: 0.8648\n",
      "Epoch 3, Batch 10/34, Total Loss: 1.6198, Segmentation Loss: 0.2116, Domain Loss Source: 0.6014, Domain Loss Target: 0.7754\n"
     ]
    }
   ],
   "source": [
    "import matplotlib.pyplot as plt\n",
    "import torch\n",
    "from domain_adaptation_training import model_pipeline\n",
    "\n",
    "encoder = \"timm-regnetx_320\"\n",
    "architecture = \"Linknet\"\n",
    "device = torch.device(\"cuda:4\" if torch.cuda.is_available() else \"cpu\")\n",
    "lambda_param = 0.5\n",
    "learning_rate = 0.001\n",
    "loss = \"BCE\"\n",
    "epochs = 10\n",
    "in_channels = 1\n",
    "hidden_dim = 256\n",
    "\n",
    "config = {\n",
    "    \"model\": \"GRL-{architecture}-{encoder}-window_{window[0]}-{window[1]}-pretrained-random_crops-bloodvessel_ratio01\".format(\n",
    "        architecture=architecture, encoder=encoder, window=window\n",
    "    ),\n",
    "    \"encoder\": encoder,\n",
    "    \"architecture\": architecture,\n",
    "    \"learning_rate\": learning_rate,\n",
    "    \"optimizer\": \"Adam\",\n",
    "    \"lambda_param\": lambda_param,\n",
    "    \"batch_size_source\": trainloader_source.batch_size,\n",
    "    \"batch_size_target\": trainloader_target.batch_size,\n",
    "    \"hidden_dim\": hidden_dim,\n",
    "    \"epochs\": epochs,\n",
    "    \"loss\": loss,\n",
    "    \"in_channels\": in_channels,\n",
    "    \"pretrained\": './models/Linknet-timm-regnetx_320-512x512-augmented-with-random-crops-single-channel-focal.pth'\n",
    "}\n",
    "\n",
    "model, train_losses, domain_losses, val_losses_source, val_losses_target = model_pipeline(\n",
    "    trainloader_source,\n",
    "    validationloader_source,\n",
    "    testloader_source,\n",
    "    trainloader_target,\n",
    "    testloader_target,\n",
    "    config,\n",
    "    project=\"domain-adaptation\",\n",
    "    device=device,\n",
    "    batch_print=10,\n",
    "    evaluate=True,\n",
    "    with_overlays=True,\n",
    ")\n",
    "\n",
    "# Plotting the training and validation loss curves\n",
    "plt.figure(figsize=(10, 6))\n",
    "plt.plot(train_losses, label=\"Combined Training Loss\")\n",
    "plt.plot(domain_losses, label=\"Domain Loss\")\n",
    "plt.plot(val_losses_source, label=\"Validation Loss Source\")\n",
    "plt.plot(val_losses_target, label=\"Validation Loss Target\")\n",
    "plt.xlabel(\"Epochs\")\n",
    "plt.ylabel(\"Loss\")\n",
    "plt.title(\"Training and Validation Loss Curves\")\n",
    "plt.legend()\n",
    "plt.show()"
   ]
  },
  {
   "cell_type": "markdown",
   "metadata": {},
   "source": [
    "### FADA:"
   ]
  },
  {
   "cell_type": "code",
   "execution_count": 1,
   "metadata": {},
   "outputs": [
    {
     "name": "stderr",
     "output_type": "stream",
     "text": [
      "Failed to detect the name of this notebook, you can set it manually with the WANDB_NOTEBOOK_NAME environment variable to enable code saving.\n",
      "\u001b[34m\u001b[1mwandb\u001b[0m: Currently logged in as: \u001b[33mtim-mach\u001b[0m (\u001b[33midp2024\u001b[0m). Use \u001b[1m`wandb login --relogin`\u001b[0m to force relogin\n"
     ]
    },
    {
     "data": {
      "text/html": [
       "wandb version 0.19.3 is available!  To upgrade, please run:\n",
       " $ pip install wandb --upgrade"
      ],
      "text/plain": [
       "<IPython.core.display.HTML object>"
      ]
     },
     "metadata": {},
     "output_type": "display_data"
    },
    {
     "data": {
      "text/html": [
       "Tracking run with wandb version 0.16.6"
      ],
      "text/plain": [
       "<IPython.core.display.HTML object>"
      ]
     },
     "metadata": {},
     "output_type": "display_data"
    },
    {
     "data": {
      "text/html": [
       "Run data is saved locally in <code>/home/home/tim_ivan/idp/wandb/run-20250116_140416-mbq1d6g6</code>"
      ],
      "text/plain": [
       "<IPython.core.display.HTML object>"
      ]
     },
     "metadata": {},
     "output_type": "display_data"
    },
    {
     "data": {
      "text/html": [
       "Syncing run <strong><a href='https://wandb.ai/idp2024/domain-adaptation/runs/mbq1d6g6' target=\"_blank\">FADA-penalizeRings-CrossEntropy-pretrained-random_crops-bloodvessel_ratio01-3-classes</a></strong> to <a href='https://wandb.ai/idp2024/domain-adaptation' target=\"_blank\">Weights & Biases</a> (<a href='https://wandb.me/run' target=\"_blank\">docs</a>)<br/>"
      ],
      "text/plain": [
       "<IPython.core.display.HTML object>"
      ]
     },
     "metadata": {},
     "output_type": "display_data"
    },
    {
     "data": {
      "text/html": [
       " View project at <a href='https://wandb.ai/idp2024/domain-adaptation' target=\"_blank\">https://wandb.ai/idp2024/domain-adaptation</a>"
      ],
      "text/plain": [
       "<IPython.core.display.HTML object>"
      ]
     },
     "metadata": {},
     "output_type": "display_data"
    },
    {
     "data": {
      "text/html": [
       " View run at <a href='https://wandb.ai/idp2024/domain-adaptation/runs/mbq1d6g6' target=\"_blank\">https://wandb.ai/idp2024/domain-adaptation/runs/mbq1d6g6</a>"
      ],
      "text/plain": [
       "<IPython.core.display.HTML object>"
      ]
     },
     "metadata": {},
     "output_type": "display_data"
    },
    {
     "name": "stdout",
     "output_type": "stream",
     "text": [
      "Number of samples in the training set: 534, validation set: 60\n",
      "Number of samples in the test set: 200\n",
      "Loading pretrained model from models/Linknet-timm-regnetx_320-512x512-3-classes.pth\n",
      "Using Gaussian Channel Reduction\n"
     ]
    },
    {
     "name": "stderr",
     "output_type": "stream",
     "text": [
      "/home/home/tim_ivan/idp/.venv/lib/python3.8/site-packages/torch/nn/modules/conv.py:456: UserWarning: Plan failed with a cudnnException: CUDNN_BACKEND_EXECUTION_PLAN_DESCRIPTOR: cudnnFinalize Descriptor Failed cudnn_status: CUDNN_STATUS_NOT_SUPPORTED (Triggered internally at ../aten/src/ATen/native/cudnn/Conv_v8.cpp:919.)\n",
      "  return F.conv2d(input, weight, bias, self.stride,\n",
      "/home/home/tim_ivan/idp/.venv/lib/python3.8/site-packages/torch/autograd/graph.py:744: UserWarning: Plan failed with a cudnnException: CUDNN_BACKEND_EXECUTION_PLAN_DESCRIPTOR: cudnnFinalize Descriptor Failed cudnn_status: CUDNN_STATUS_NOT_SUPPORTED (Triggered internally at ../aten/src/ATen/native/cudnn/Conv_v8.cpp:919.)\n",
      "  return Variable._execution_engine.run_backward(  # Calls into the C++ engine to run the backward pass\n"
     ]
    },
    {
     "name": "stdout",
     "output_type": "stream",
     "text": [
      "tensor([0, 0, 0,  ..., 0, 0, 0], device='cuda:1')\n",
      "torch.Size([7965])\n"
     ]
    },
    {
     "name": "stderr",
     "output_type": "stream",
     "text": [
      "Traceback (most recent call last):\n",
      "  File \"/home/home/tim_ivan/idp/FADA/train_FADA_unsupervised.py\", line 56, in model_pipeline\n",
      "    return init_model_and_train(\n",
      "  File \"/home/home/tim_ivan/idp/FADA/train_FADA_unsupervised.py\", line 143, in init_model_and_train\n",
      "    train_loss, domain_loss, val_loss_source, val_loss_target = train_and_validate(\n",
      "  File \"/home/home/tim_ivan/idp/FADA/train_FADA_unsupervised.py\", line 239, in train_and_validate\n",
      "    target_domain_data = next(target_domain_iter)\n",
      "  File \"/home/home/tim_ivan/idp/.venv/lib/python3.8/site-packages/torch/utils/data/dataloader.py\", line 631, in __next__\n",
      "    data = self._next_data()\n",
      "  File \"/home/home/tim_ivan/idp/.venv/lib/python3.8/site-packages/torch/utils/data/dataloader.py\", line 675, in _next_data\n",
      "    data = self._dataset_fetcher.fetch(index)  # may raise StopIteration\n",
      "  File \"/home/home/tim_ivan/idp/.venv/lib/python3.8/site-packages/torch/utils/data/_utils/fetch.py\", line 51, in fetch\n",
      "    data = [self.dataset[idx] for idx in possibly_batched_index]\n",
      "  File \"/home/home/tim_ivan/idp/.venv/lib/python3.8/site-packages/torch/utils/data/_utils/fetch.py\", line 51, in <listcomp>\n",
      "    data = [self.dataset[idx] for idx in possibly_batched_index]\n",
      "  File \"/home/home/tim_ivan/idp/.venv/lib/python3.8/site-packages/torch/utils/data/dataset.py\", line 348, in __getitem__\n",
      "    return self.datasets[dataset_idx][sample_idx]\n",
      "  File \"/home/home/tim_ivan/idp/dataset.py\", line 211, in __getitem__\n",
      "    hsi_image, label = self.augmentation(hsi_image, label)\n",
      "  File \"/home/home/tim_ivan/idp/.venv/lib/python3.8/site-packages/torch/nn/modules/module.py\", line 1532, in _wrapped_call_impl\n",
      "    return self._call_impl(*args, **kwargs)\n",
      "  File \"/home/home/tim_ivan/idp/.venv/lib/python3.8/site-packages/torch/nn/modules/module.py\", line 1541, in _call_impl\n",
      "    return forward_call(*args, **kwargs)\n",
      "  File \"/home/home/tim_ivan/idp/.venv/lib/python3.8/site-packages/torchvision/transforms/v2/_container.py\", line 105, in forward\n",
      "    outputs = transform(*inputs)\n",
      "  File \"/home/home/tim_ivan/idp/.venv/lib/python3.8/site-packages/torch/nn/modules/module.py\", line 1532, in _wrapped_call_impl\n",
      "    return self._call_impl(*args, **kwargs)\n",
      "  File \"/home/home/tim_ivan/idp/.venv/lib/python3.8/site-packages/torch/nn/modules/module.py\", line 1541, in _call_impl\n",
      "    return forward_call(*args, **kwargs)\n",
      "  File \"/home/home/tim_ivan/idp/.venv/lib/python3.8/site-packages/torchvision/transforms/v2/_transform.py\", line 50, in forward\n",
      "    flat_outputs = [\n",
      "  File \"/home/home/tim_ivan/idp/.venv/lib/python3.8/site-packages/torchvision/transforms/v2/_transform.py\", line 51, in <listcomp>\n",
      "    self._transform(inpt, params) if needs_transform else inpt\n",
      "  File \"/home/home/tim_ivan/idp/.venv/lib/python3.8/site-packages/torchvision/transforms/v2/_geometry.py\", line 733, in _transform\n",
      "    return self._call_kernel(\n",
      "  File \"/home/home/tim_ivan/idp/.venv/lib/python3.8/site-packages/torchvision/transforms/v2/_transform.py\", line 35, in _call_kernel\n",
      "    return kernel(inpt, *args, **kwargs)\n",
      "  File \"/home/home/tim_ivan/idp/.venv/lib/python3.8/site-packages/torchvision/transforms/v2/functional/_geometry.py\", line 730, in affine_image\n",
      "    return _apply_grid_transform(image, grid, interpolation.value, fill=fill)\n",
      "  File \"/home/home/tim_ivan/idp/.venv/lib/python3.8/site-packages/torchvision/transforms/v2/functional/_geometry.py\", line 619, in _apply_grid_transform\n",
      "    float_img = grid_sample(float_img, grid, mode=mode, padding_mode=\"zeros\", align_corners=False)\n",
      "  File \"/home/home/tim_ivan/idp/.venv/lib/python3.8/site-packages/torch/nn/functional.py\", line 4351, in grid_sample\n",
      "    return torch.grid_sampler(input, grid, mode_enum, padding_mode_enum, align_corners)\n",
      "KeyboardInterrupt\n"
     ]
    },
    {
     "data": {
      "application/vnd.jupyter.widget-view+json": {
       "model_id": "4428ba1170ac487ab0e61865fc572859",
       "version_major": 2,
       "version_minor": 0
      },
      "text/plain": [
       "VBox(children=(Label(value='0.015 MB of 0.015 MB uploaded\\r'), FloatProgress(value=1.0, max=1.0)))"
      ]
     },
     "metadata": {},
     "output_type": "display_data"
    },
    {
     "data": {
      "text/html": [
       " View run <strong style=\"color:#cdcd00\">FADA-penalizeRings-CrossEntropy-pretrained-random_crops-bloodvessel_ratio01-3-classes</strong> at: <a href='https://wandb.ai/idp2024/domain-adaptation/runs/mbq1d6g6' target=\"_blank\">https://wandb.ai/idp2024/domain-adaptation/runs/mbq1d6g6</a><br/> View project at: <a href='https://wandb.ai/idp2024/domain-adaptation' target=\"_blank\">https://wandb.ai/idp2024/domain-adaptation</a><br/>Synced 5 W&B file(s), 0 media file(s), 0 artifact file(s) and 0 other file(s)"
      ],
      "text/plain": [
       "<IPython.core.display.HTML object>"
      ]
     },
     "metadata": {},
     "output_type": "display_data"
    },
    {
     "data": {
      "text/html": [
       "Find logs at: <code>./wandb/run-20250116_140416-mbq1d6g6/logs</code>"
      ],
      "text/plain": [
       "<IPython.core.display.HTML object>"
      ]
     },
     "metadata": {},
     "output_type": "display_data"
    },
    {
     "ename": "KeyboardInterrupt",
     "evalue": "",
     "output_type": "error",
     "traceback": [
      "\u001b[0;31m---------------------------------------------------------------------------\u001b[0m",
      "\u001b[0;31mKeyboardInterrupt\u001b[0m                         Traceback (most recent call last)",
      "Cell \u001b[0;32mIn[1], line 35\u001b[0m\n\u001b[1;32m      7\u001b[0m device \u001b[38;5;241m=\u001b[39m torch\u001b[38;5;241m.\u001b[39mdevice(\u001b[38;5;124m\"\u001b[39m\u001b[38;5;124mcuda:1\u001b[39m\u001b[38;5;124m\"\u001b[39m \u001b[38;5;28;01mif\u001b[39;00m torch\u001b[38;5;241m.\u001b[39mcuda\u001b[38;5;241m.\u001b[39mis_available() \u001b[38;5;28;01melse\u001b[39;00m \u001b[38;5;124m\"\u001b[39m\u001b[38;5;124mcpu\u001b[39m\u001b[38;5;124m\"\u001b[39m)\n\u001b[1;32m      9\u001b[0m config \u001b[38;5;241m=\u001b[39m {\n\u001b[1;32m     10\u001b[0m     \u001b[38;5;124m\"\u001b[39m\u001b[38;5;124mmodel\u001b[39m\u001b[38;5;124m\"\u001b[39m: \u001b[38;5;124m\"\u001b[39m\u001b[38;5;124mFADA-penalizeRings-CrossEntropy-pretrained-random_crops-bloodvessel_ratio01-3-classes\u001b[39m\u001b[38;5;124m\"\u001b[39m,\n\u001b[1;32m     11\u001b[0m     \u001b[38;5;124m\"\u001b[39m\u001b[38;5;124mencoder\u001b[39m\u001b[38;5;124m\"\u001b[39m: encoder,\n\u001b[0;32m   (...)\u001b[0m\n\u001b[1;32m     30\u001b[0m     \u001b[38;5;124m\"\u001b[39m\u001b[38;5;124mring_label_dir\u001b[39m\u001b[38;5;124m\"\u001b[39m: \u001b[38;5;124m\"\u001b[39m\u001b[38;5;124mdata/helicoid_ring_labels\u001b[39m\u001b[38;5;124m\"\u001b[39m,\n\u001b[1;32m     31\u001b[0m }\n\u001b[1;32m     34\u001b[0m model, train_losses, domain_losses, val_losses_source, val_losses_target \u001b[38;5;241m=\u001b[39m (\n\u001b[0;32m---> 35\u001b[0m     \u001b[43mmodel_pipeline\u001b[49m\u001b[43m(\u001b[49m\n\u001b[1;32m     36\u001b[0m \u001b[43m        \u001b[49m\u001b[43mconfig\u001b[49m\u001b[43m,\u001b[49m\n\u001b[1;32m     37\u001b[0m \u001b[43m        \u001b[49m\u001b[43mproject\u001b[49m\u001b[38;5;241;43m=\u001b[39;49m\u001b[38;5;124;43m\"\u001b[39;49m\u001b[38;5;124;43mdomain-adaptation\u001b[39;49m\u001b[38;5;124;43m\"\u001b[39;49m\u001b[43m,\u001b[49m\n\u001b[1;32m     38\u001b[0m \u001b[43m        \u001b[49m\u001b[43mdevice\u001b[49m\u001b[38;5;241;43m=\u001b[39;49m\u001b[43mdevice\u001b[49m\u001b[43m,\u001b[49m\n\u001b[1;32m     39\u001b[0m \u001b[43m        \u001b[49m\u001b[43mbatch_print\u001b[49m\u001b[38;5;241;43m=\u001b[39;49m\u001b[38;5;241;43m5\u001b[39;49m\u001b[43m,\u001b[49m\n\u001b[1;32m     40\u001b[0m \u001b[43m        \u001b[49m\u001b[43mevaluate\u001b[49m\u001b[38;5;241;43m=\u001b[39;49m\u001b[38;5;28;43;01mTrue\u001b[39;49;00m\u001b[43m,\u001b[49m\n\u001b[1;32m     41\u001b[0m \u001b[43m        \u001b[49m\u001b[43mwith_overlays\u001b[49m\u001b[38;5;241;43m=\u001b[39;49m\u001b[38;5;28;43;01mTrue\u001b[39;49;00m\u001b[43m,\u001b[49m\n\u001b[1;32m     42\u001b[0m \u001b[43m        \u001b[49m\u001b[43msave_wandb\u001b[49m\u001b[38;5;241;43m=\u001b[39;49m\u001b[38;5;28;43;01mFalse\u001b[39;49;00m\u001b[43m,\u001b[49m\n\u001b[1;32m     43\u001b[0m \u001b[43m    \u001b[49m\u001b[43m)\u001b[49m\n\u001b[1;32m     44\u001b[0m )\n\u001b[1;32m     46\u001b[0m plt\u001b[38;5;241m.\u001b[39mfigure(figsize\u001b[38;5;241m=\u001b[39m(\u001b[38;5;241m10\u001b[39m, \u001b[38;5;241m6\u001b[39m))\n\u001b[1;32m     47\u001b[0m plt\u001b[38;5;241m.\u001b[39mplot(train_losses, label\u001b[38;5;241m=\u001b[39m\u001b[38;5;124m\"\u001b[39m\u001b[38;5;124mCombined Training Loss\u001b[39m\u001b[38;5;124m\"\u001b[39m)\n",
      "File \u001b[0;32m~/idp/FADA/train_FADA_unsupervised.py:56\u001b[0m, in \u001b[0;36mmodel_pipeline\u001b[0;34m(config, project, device, batch_print, evaluate, with_overlays, save_wandb)\u001b[0m\n\u001b[1;32m     47\u001b[0m config \u001b[38;5;241m=\u001b[39m wandb\u001b[38;5;241m.\u001b[39mconfig\n\u001b[1;32m     48\u001b[0m (\n\u001b[1;32m     49\u001b[0m     trainloader_source,\n\u001b[1;32m     50\u001b[0m     validationloader_source,\n\u001b[0;32m   (...)\u001b[0m\n\u001b[1;32m     53\u001b[0m     testloader_target,\n\u001b[1;32m     54\u001b[0m ) \u001b[38;5;241m=\u001b[39m initialize_data_loaders(config)\n\u001b[0;32m---> 56\u001b[0m \u001b[38;5;28;01mreturn\u001b[39;00m \u001b[43minit_model_and_train\u001b[49m\u001b[43m(\u001b[49m\n\u001b[1;32m     57\u001b[0m \u001b[43m    \u001b[49m\u001b[43mtrainloader_source\u001b[49m\u001b[43m,\u001b[49m\n\u001b[1;32m     58\u001b[0m \u001b[43m    \u001b[49m\u001b[43mvalidationloader_source\u001b[49m\u001b[43m,\u001b[49m\n\u001b[1;32m     59\u001b[0m \u001b[43m    \u001b[49m\u001b[43mtestloader_source\u001b[49m\u001b[43m,\u001b[49m\n\u001b[1;32m     60\u001b[0m \u001b[43m    \u001b[49m\u001b[43mtrainloader_target\u001b[49m\u001b[43m,\u001b[49m\n\u001b[1;32m     61\u001b[0m \u001b[43m    \u001b[49m\u001b[43mtestloader_target\u001b[49m\u001b[43m,\u001b[49m\n\u001b[1;32m     62\u001b[0m \u001b[43m    \u001b[49m\u001b[43mconfig\u001b[49m\u001b[43m,\u001b[49m\n\u001b[1;32m     63\u001b[0m \u001b[43m    \u001b[49m\u001b[43mdevice\u001b[49m\u001b[43m,\u001b[49m\n\u001b[1;32m     64\u001b[0m \u001b[43m    \u001b[49m\u001b[43mbatch_print\u001b[49m\u001b[43m,\u001b[49m\n\u001b[1;32m     65\u001b[0m \u001b[43m    \u001b[49m\u001b[43mevaluate\u001b[49m\u001b[43m,\u001b[49m\n\u001b[1;32m     66\u001b[0m \u001b[43m    \u001b[49m\u001b[43mwith_overlays\u001b[49m\u001b[43m,\u001b[49m\n\u001b[1;32m     67\u001b[0m \u001b[43m    \u001b[49m\u001b[43msave_wandb\u001b[49m\u001b[38;5;241;43m=\u001b[39;49m\u001b[43msave_wandb\u001b[49m\u001b[43m,\u001b[49m\n\u001b[1;32m     68\u001b[0m \u001b[43m\u001b[49m\u001b[43m)\u001b[49m\n",
      "File \u001b[0;32m~/idp/FADA/train_FADA_unsupervised.py:143\u001b[0m, in \u001b[0;36minit_model_and_train\u001b[0;34m(trainloader_source, validationloader_source, testloader_source, trainloader_target, testloader_target, config, device, batch_print, evaluate, with_overlays, save_wandb)\u001b[0m\n\u001b[1;32m    138\u001b[0m with_contrastive_loss \u001b[38;5;241m=\u001b[39m \u001b[38;5;124m\"\u001b[39m\u001b[38;5;124mcontrastive_loss\u001b[39m\u001b[38;5;124m\"\u001b[39m \u001b[38;5;129;01min\u001b[39;00m config \u001b[38;5;129;01mand\u001b[39;00m config\u001b[38;5;241m.\u001b[39mcontrastive_loss\n\u001b[1;32m    139\u001b[0m penalize_rings_weight \u001b[38;5;241m=\u001b[39m (\n\u001b[1;32m    140\u001b[0m     config\u001b[38;5;241m.\u001b[39mpenalize_rings_weight \u001b[38;5;28;01mif\u001b[39;00m \u001b[38;5;124m\"\u001b[39m\u001b[38;5;124mpenalize_rings_weight\u001b[39m\u001b[38;5;124m\"\u001b[39m \u001b[38;5;129;01min\u001b[39;00m config \u001b[38;5;28;01melse\u001b[39;00m \u001b[38;5;241m0.25\u001b[39m\n\u001b[1;32m    141\u001b[0m )\n\u001b[0;32m--> 143\u001b[0m train_loss, domain_loss, val_loss_source, val_loss_target \u001b[38;5;241m=\u001b[39m \u001b[43mtrain_and_validate\u001b[49m\u001b[43m(\u001b[49m\n\u001b[1;32m    144\u001b[0m \u001b[43m    \u001b[49m\u001b[43mfeature_extractor\u001b[49m\u001b[43m,\u001b[49m\n\u001b[1;32m    145\u001b[0m \u001b[43m    \u001b[49m\u001b[43mclassifier\u001b[49m\u001b[43m,\u001b[49m\n\u001b[1;32m    146\u001b[0m \u001b[43m    \u001b[49m\u001b[43mdiscriminator\u001b[49m\u001b[43m,\u001b[49m\n\u001b[1;32m    147\u001b[0m \u001b[43m    \u001b[49m\u001b[43mtrainloader_source\u001b[49m\u001b[43m,\u001b[49m\n\u001b[1;32m    148\u001b[0m \u001b[43m    \u001b[49m\u001b[43mvalidationloader_source\u001b[49m\u001b[43m,\u001b[49m\n\u001b[1;32m    149\u001b[0m \u001b[43m    \u001b[49m\u001b[43mtestloader_source\u001b[49m\u001b[43m,\u001b[49m\n\u001b[1;32m    150\u001b[0m \u001b[43m    \u001b[49m\u001b[43mtrainloader_target\u001b[49m\u001b[43m,\u001b[49m\n\u001b[1;32m    151\u001b[0m \u001b[43m    \u001b[49m\u001b[43mtestloader_target\u001b[49m\u001b[43m,\u001b[49m\n\u001b[1;32m    152\u001b[0m \u001b[43m    \u001b[49m\u001b[43mcriterion_segmentation\u001b[49m\u001b[43m,\u001b[49m\n\u001b[1;32m    153\u001b[0m \u001b[43m    \u001b[49m\u001b[43moptimizer_fea\u001b[49m\u001b[43m,\u001b[49m\n\u001b[1;32m    154\u001b[0m \u001b[43m    \u001b[49m\u001b[43moptimizer_cls\u001b[49m\u001b[43m,\u001b[49m\n\u001b[1;32m    155\u001b[0m \u001b[43m    \u001b[49m\u001b[43moptimizer_dis\u001b[49m\u001b[43m,\u001b[49m\n\u001b[1;32m    156\u001b[0m \u001b[43m    \u001b[49m\u001b[43mepochs\u001b[49m\u001b[38;5;241;43m=\u001b[39;49m\u001b[43mconfig\u001b[49m\u001b[38;5;241;43m.\u001b[39;49m\u001b[43mepochs\u001b[49m\u001b[43m,\u001b[49m\n\u001b[1;32m    157\u001b[0m \u001b[43m    \u001b[49m\u001b[43mmodel_name\u001b[49m\u001b[38;5;241;43m=\u001b[39;49m\u001b[43mconfig\u001b[49m\u001b[38;5;241;43m.\u001b[39;49m\u001b[43mmodel\u001b[49m\u001b[43m,\u001b[49m\n\u001b[1;32m    158\u001b[0m \u001b[43m    \u001b[49m\u001b[43mdevice\u001b[49m\u001b[38;5;241;43m=\u001b[39;49m\u001b[43mdevice\u001b[49m\u001b[43m,\u001b[49m\n\u001b[1;32m    159\u001b[0m \u001b[43m    \u001b[49m\u001b[43mbatch_print\u001b[49m\u001b[38;5;241;43m=\u001b[39;49m\u001b[43mbatch_print\u001b[49m\u001b[43m,\u001b[49m\n\u001b[1;32m    160\u001b[0m \u001b[43m    \u001b[49m\u001b[43mwith_overlays\u001b[49m\u001b[38;5;241;43m=\u001b[39;49m\u001b[43mwith_overlays\u001b[49m\u001b[43m,\u001b[49m\n\u001b[1;32m    161\u001b[0m \u001b[43m    \u001b[49m\u001b[43mhsi_reducer\u001b[49m\u001b[38;5;241;43m=\u001b[39;49m\u001b[43mreducer\u001b[49m\u001b[43m,\u001b[49m\n\u001b[1;32m    162\u001b[0m \u001b[43m    \u001b[49m\u001b[43msave_wandb\u001b[49m\u001b[38;5;241;43m=\u001b[39;49m\u001b[43msave_wandb\u001b[49m\u001b[43m,\u001b[49m\n\u001b[1;32m    163\u001b[0m \u001b[43m    \u001b[49m\u001b[43mwith_contrastive_loss\u001b[49m\u001b[38;5;241;43m=\u001b[39;49m\u001b[43mwith_contrastive_loss\u001b[49m\u001b[43m,\u001b[49m\n\u001b[1;32m    164\u001b[0m \u001b[43m    \u001b[49m\u001b[43mpenalize_rings_weight\u001b[49m\u001b[38;5;241;43m=\u001b[39;49m\u001b[43mpenalize_rings_weight\u001b[49m\u001b[43m,\u001b[49m\n\u001b[1;32m    165\u001b[0m \u001b[43m\u001b[49m\u001b[43m)\u001b[49m\n\u001b[1;32m    166\u001b[0m \u001b[38;5;28;01mif\u001b[39;00m evaluate:\n\u001b[1;32m    167\u001b[0m     \u001b[38;5;28;01mif\u001b[39;00m config\u001b[38;5;241m.\u001b[39mmodel:\n",
      "File \u001b[0;32m~/idp/FADA/train_FADA_unsupervised.py:239\u001b[0m, in \u001b[0;36mtrain_and_validate\u001b[0;34m(feature_extractor, classifier, discriminator, trainloader_source, validationloader_source, testloader_source, trainloader_target, testloader_target, criterion_segmentation, optimizer_fea, optimizer_cls, optimizer_D, epochs, model_name, device, batch_print, with_overlays, hsi_reducer, save_wandb, with_contrastive_loss, penalize_rings_weight)\u001b[0m\n\u001b[1;32m    234\u001b[0m src_input, src_label \u001b[38;5;241m=\u001b[39m (\n\u001b[1;32m    235\u001b[0m     seg_data[\u001b[38;5;241m0\u001b[39m]\u001b[38;5;241m.\u001b[39mto(device),\n\u001b[1;32m    236\u001b[0m     seg_data[\u001b[38;5;241m1\u001b[39m]\u001b[38;5;241m.\u001b[39mto(device)\u001b[38;5;241m.\u001b[39mfloat(),\n\u001b[1;32m    237\u001b[0m )\n\u001b[1;32m    238\u001b[0m \u001b[38;5;66;03m# Get target domain data for the current window\u001b[39;00m\n\u001b[0;32m--> 239\u001b[0m target_domain_data \u001b[38;5;241m=\u001b[39m \u001b[38;5;28;43mnext\u001b[39;49m\u001b[43m(\u001b[49m\u001b[43mtarget_domain_iter\u001b[49m\u001b[43m)\u001b[49m\n\u001b[1;32m    240\u001b[0m tgt_input \u001b[38;5;241m=\u001b[39m target_domain_data[\u001b[38;5;241m0\u001b[39m]\u001b[38;5;241m.\u001b[39mto(device)\n\u001b[1;32m    242\u001b[0m src_size \u001b[38;5;241m=\u001b[39m src_input\u001b[38;5;241m.\u001b[39mshape[\u001b[38;5;241m-\u001b[39m\u001b[38;5;241m2\u001b[39m:]\n",
      "File \u001b[0;32m~/idp/.venv/lib/python3.8/site-packages/torch/utils/data/dataloader.py:631\u001b[0m, in \u001b[0;36m_BaseDataLoaderIter.__next__\u001b[0;34m(self)\u001b[0m\n\u001b[1;32m    628\u001b[0m \u001b[38;5;28;01mif\u001b[39;00m \u001b[38;5;28mself\u001b[39m\u001b[38;5;241m.\u001b[39m_sampler_iter \u001b[38;5;129;01mis\u001b[39;00m \u001b[38;5;28;01mNone\u001b[39;00m:\n\u001b[1;32m    629\u001b[0m     \u001b[38;5;66;03m# TODO(https://github.com/pytorch/pytorch/issues/76750)\u001b[39;00m\n\u001b[1;32m    630\u001b[0m     \u001b[38;5;28mself\u001b[39m\u001b[38;5;241m.\u001b[39m_reset()  \u001b[38;5;66;03m# type: ignore[call-arg]\u001b[39;00m\n\u001b[0;32m--> 631\u001b[0m data \u001b[38;5;241m=\u001b[39m \u001b[38;5;28;43mself\u001b[39;49m\u001b[38;5;241;43m.\u001b[39;49m\u001b[43m_next_data\u001b[49m\u001b[43m(\u001b[49m\u001b[43m)\u001b[49m\n\u001b[1;32m    632\u001b[0m \u001b[38;5;28mself\u001b[39m\u001b[38;5;241m.\u001b[39m_num_yielded \u001b[38;5;241m+\u001b[39m\u001b[38;5;241m=\u001b[39m \u001b[38;5;241m1\u001b[39m\n\u001b[1;32m    633\u001b[0m \u001b[38;5;28;01mif\u001b[39;00m \u001b[38;5;28mself\u001b[39m\u001b[38;5;241m.\u001b[39m_dataset_kind \u001b[38;5;241m==\u001b[39m _DatasetKind\u001b[38;5;241m.\u001b[39mIterable \u001b[38;5;129;01mand\u001b[39;00m \\\n\u001b[1;32m    634\u001b[0m         \u001b[38;5;28mself\u001b[39m\u001b[38;5;241m.\u001b[39m_IterableDataset_len_called \u001b[38;5;129;01mis\u001b[39;00m \u001b[38;5;129;01mnot\u001b[39;00m \u001b[38;5;28;01mNone\u001b[39;00m \u001b[38;5;129;01mand\u001b[39;00m \\\n\u001b[1;32m    635\u001b[0m         \u001b[38;5;28mself\u001b[39m\u001b[38;5;241m.\u001b[39m_num_yielded \u001b[38;5;241m>\u001b[39m \u001b[38;5;28mself\u001b[39m\u001b[38;5;241m.\u001b[39m_IterableDataset_len_called:\n",
      "File \u001b[0;32m~/idp/.venv/lib/python3.8/site-packages/torch/utils/data/dataloader.py:675\u001b[0m, in \u001b[0;36m_SingleProcessDataLoaderIter._next_data\u001b[0;34m(self)\u001b[0m\n\u001b[1;32m    673\u001b[0m \u001b[38;5;28;01mdef\u001b[39;00m \u001b[38;5;21m_next_data\u001b[39m(\u001b[38;5;28mself\u001b[39m):\n\u001b[1;32m    674\u001b[0m     index \u001b[38;5;241m=\u001b[39m \u001b[38;5;28mself\u001b[39m\u001b[38;5;241m.\u001b[39m_next_index()  \u001b[38;5;66;03m# may raise StopIteration\u001b[39;00m\n\u001b[0;32m--> 675\u001b[0m     data \u001b[38;5;241m=\u001b[39m \u001b[38;5;28;43mself\u001b[39;49m\u001b[38;5;241;43m.\u001b[39;49m\u001b[43m_dataset_fetcher\u001b[49m\u001b[38;5;241;43m.\u001b[39;49m\u001b[43mfetch\u001b[49m\u001b[43m(\u001b[49m\u001b[43mindex\u001b[49m\u001b[43m)\u001b[49m  \u001b[38;5;66;03m# may raise StopIteration\u001b[39;00m\n\u001b[1;32m    676\u001b[0m     \u001b[38;5;28;01mif\u001b[39;00m \u001b[38;5;28mself\u001b[39m\u001b[38;5;241m.\u001b[39m_pin_memory:\n\u001b[1;32m    677\u001b[0m         data \u001b[38;5;241m=\u001b[39m _utils\u001b[38;5;241m.\u001b[39mpin_memory\u001b[38;5;241m.\u001b[39mpin_memory(data, \u001b[38;5;28mself\u001b[39m\u001b[38;5;241m.\u001b[39m_pin_memory_device)\n",
      "File \u001b[0;32m~/idp/.venv/lib/python3.8/site-packages/torch/utils/data/_utils/fetch.py:51\u001b[0m, in \u001b[0;36m_MapDatasetFetcher.fetch\u001b[0;34m(self, possibly_batched_index)\u001b[0m\n\u001b[1;32m     49\u001b[0m         data \u001b[38;5;241m=\u001b[39m \u001b[38;5;28mself\u001b[39m\u001b[38;5;241m.\u001b[39mdataset\u001b[38;5;241m.\u001b[39m__getitems__(possibly_batched_index)\n\u001b[1;32m     50\u001b[0m     \u001b[38;5;28;01melse\u001b[39;00m:\n\u001b[0;32m---> 51\u001b[0m         data \u001b[38;5;241m=\u001b[39m [\u001b[38;5;28mself\u001b[39m\u001b[38;5;241m.\u001b[39mdataset[idx] \u001b[38;5;28;01mfor\u001b[39;00m idx \u001b[38;5;129;01min\u001b[39;00m possibly_batched_index]\n\u001b[1;32m     52\u001b[0m \u001b[38;5;28;01melse\u001b[39;00m:\n\u001b[1;32m     53\u001b[0m     data \u001b[38;5;241m=\u001b[39m \u001b[38;5;28mself\u001b[39m\u001b[38;5;241m.\u001b[39mdataset[possibly_batched_index]\n",
      "File \u001b[0;32m~/idp/.venv/lib/python3.8/site-packages/torch/utils/data/_utils/fetch.py:51\u001b[0m, in \u001b[0;36m<listcomp>\u001b[0;34m(.0)\u001b[0m\n\u001b[1;32m     49\u001b[0m         data \u001b[38;5;241m=\u001b[39m \u001b[38;5;28mself\u001b[39m\u001b[38;5;241m.\u001b[39mdataset\u001b[38;5;241m.\u001b[39m__getitems__(possibly_batched_index)\n\u001b[1;32m     50\u001b[0m     \u001b[38;5;28;01melse\u001b[39;00m:\n\u001b[0;32m---> 51\u001b[0m         data \u001b[38;5;241m=\u001b[39m [\u001b[38;5;28;43mself\u001b[39;49m\u001b[38;5;241;43m.\u001b[39;49m\u001b[43mdataset\u001b[49m\u001b[43m[\u001b[49m\u001b[43midx\u001b[49m\u001b[43m]\u001b[49m \u001b[38;5;28;01mfor\u001b[39;00m idx \u001b[38;5;129;01min\u001b[39;00m possibly_batched_index]\n\u001b[1;32m     52\u001b[0m \u001b[38;5;28;01melse\u001b[39;00m:\n\u001b[1;32m     53\u001b[0m     data \u001b[38;5;241m=\u001b[39m \u001b[38;5;28mself\u001b[39m\u001b[38;5;241m.\u001b[39mdataset[possibly_batched_index]\n",
      "File \u001b[0;32m~/idp/.venv/lib/python3.8/site-packages/torch/utils/data/dataset.py:348\u001b[0m, in \u001b[0;36mConcatDataset.__getitem__\u001b[0;34m(self, idx)\u001b[0m\n\u001b[1;32m    346\u001b[0m \u001b[38;5;28;01melse\u001b[39;00m:\n\u001b[1;32m    347\u001b[0m     sample_idx \u001b[38;5;241m=\u001b[39m idx \u001b[38;5;241m-\u001b[39m \u001b[38;5;28mself\u001b[39m\u001b[38;5;241m.\u001b[39mcumulative_sizes[dataset_idx \u001b[38;5;241m-\u001b[39m \u001b[38;5;241m1\u001b[39m]\n\u001b[0;32m--> 348\u001b[0m \u001b[38;5;28;01mreturn\u001b[39;00m \u001b[38;5;28;43mself\u001b[39;49m\u001b[38;5;241;43m.\u001b[39;49m\u001b[43mdatasets\u001b[49m\u001b[43m[\u001b[49m\u001b[43mdataset_idx\u001b[49m\u001b[43m]\u001b[49m\u001b[43m[\u001b[49m\u001b[43msample_idx\u001b[49m\u001b[43m]\u001b[49m\n",
      "File \u001b[0;32m~/idp/dataset.py:211\u001b[0m, in \u001b[0;36mHSIDataset.__getitem__\u001b[0;34m(self, idx)\u001b[0m\n\u001b[1;32m    208\u001b[0m hsi_image \u001b[38;5;241m=\u001b[39m torch\u001b[38;5;241m.\u001b[39mtensor(hsi_image, dtype\u001b[38;5;241m=\u001b[39mtorch\u001b[38;5;241m.\u001b[39mfloat32)\n\u001b[1;32m    210\u001b[0m \u001b[38;5;28;01mif\u001b[39;00m \u001b[38;5;28mself\u001b[39m\u001b[38;5;241m.\u001b[39maugmentation:\n\u001b[0;32m--> 211\u001b[0m     hsi_image, label \u001b[38;5;241m=\u001b[39m \u001b[38;5;28;43mself\u001b[39;49m\u001b[38;5;241;43m.\u001b[39;49m\u001b[43maugmentation\u001b[49m\u001b[43m(\u001b[49m\u001b[43mhsi_image\u001b[49m\u001b[43m,\u001b[49m\u001b[43m \u001b[49m\u001b[43mlabel\u001b[49m\u001b[43m)\u001b[49m\n\u001b[1;32m    213\u001b[0m \u001b[38;5;28;01mif\u001b[39;00m \u001b[38;5;28mself\u001b[39m\u001b[38;5;241m.\u001b[39mimage_transform \u001b[38;5;129;01mand\u001b[39;00m \u001b[38;5;28mself\u001b[39m\u001b[38;5;241m.\u001b[39mlabel_transform:\n\u001b[1;32m    214\u001b[0m     hsi_image \u001b[38;5;241m=\u001b[39m \u001b[38;5;28mself\u001b[39m\u001b[38;5;241m.\u001b[39mimage_transform(hsi_image)\n",
      "File \u001b[0;32m~/idp/.venv/lib/python3.8/site-packages/torch/nn/modules/module.py:1532\u001b[0m, in \u001b[0;36mModule._wrapped_call_impl\u001b[0;34m(self, *args, **kwargs)\u001b[0m\n\u001b[1;32m   1530\u001b[0m     \u001b[38;5;28;01mreturn\u001b[39;00m \u001b[38;5;28mself\u001b[39m\u001b[38;5;241m.\u001b[39m_compiled_call_impl(\u001b[38;5;241m*\u001b[39margs, \u001b[38;5;241m*\u001b[39m\u001b[38;5;241m*\u001b[39mkwargs)  \u001b[38;5;66;03m# type: ignore[misc]\u001b[39;00m\n\u001b[1;32m   1531\u001b[0m \u001b[38;5;28;01melse\u001b[39;00m:\n\u001b[0;32m-> 1532\u001b[0m     \u001b[38;5;28;01mreturn\u001b[39;00m \u001b[38;5;28;43mself\u001b[39;49m\u001b[38;5;241;43m.\u001b[39;49m\u001b[43m_call_impl\u001b[49m\u001b[43m(\u001b[49m\u001b[38;5;241;43m*\u001b[39;49m\u001b[43margs\u001b[49m\u001b[43m,\u001b[49m\u001b[43m \u001b[49m\u001b[38;5;241;43m*\u001b[39;49m\u001b[38;5;241;43m*\u001b[39;49m\u001b[43mkwargs\u001b[49m\u001b[43m)\u001b[49m\n",
      "File \u001b[0;32m~/idp/.venv/lib/python3.8/site-packages/torch/nn/modules/module.py:1541\u001b[0m, in \u001b[0;36mModule._call_impl\u001b[0;34m(self, *args, **kwargs)\u001b[0m\n\u001b[1;32m   1536\u001b[0m \u001b[38;5;66;03m# If we don't have any hooks, we want to skip the rest of the logic in\u001b[39;00m\n\u001b[1;32m   1537\u001b[0m \u001b[38;5;66;03m# this function, and just call forward.\u001b[39;00m\n\u001b[1;32m   1538\u001b[0m \u001b[38;5;28;01mif\u001b[39;00m \u001b[38;5;129;01mnot\u001b[39;00m (\u001b[38;5;28mself\u001b[39m\u001b[38;5;241m.\u001b[39m_backward_hooks \u001b[38;5;129;01mor\u001b[39;00m \u001b[38;5;28mself\u001b[39m\u001b[38;5;241m.\u001b[39m_backward_pre_hooks \u001b[38;5;129;01mor\u001b[39;00m \u001b[38;5;28mself\u001b[39m\u001b[38;5;241m.\u001b[39m_forward_hooks \u001b[38;5;129;01mor\u001b[39;00m \u001b[38;5;28mself\u001b[39m\u001b[38;5;241m.\u001b[39m_forward_pre_hooks\n\u001b[1;32m   1539\u001b[0m         \u001b[38;5;129;01mor\u001b[39;00m _global_backward_pre_hooks \u001b[38;5;129;01mor\u001b[39;00m _global_backward_hooks\n\u001b[1;32m   1540\u001b[0m         \u001b[38;5;129;01mor\u001b[39;00m _global_forward_hooks \u001b[38;5;129;01mor\u001b[39;00m _global_forward_pre_hooks):\n\u001b[0;32m-> 1541\u001b[0m     \u001b[38;5;28;01mreturn\u001b[39;00m \u001b[43mforward_call\u001b[49m\u001b[43m(\u001b[49m\u001b[38;5;241;43m*\u001b[39;49m\u001b[43margs\u001b[49m\u001b[43m,\u001b[49m\u001b[43m \u001b[49m\u001b[38;5;241;43m*\u001b[39;49m\u001b[38;5;241;43m*\u001b[39;49m\u001b[43mkwargs\u001b[49m\u001b[43m)\u001b[49m\n\u001b[1;32m   1543\u001b[0m \u001b[38;5;28;01mtry\u001b[39;00m:\n\u001b[1;32m   1544\u001b[0m     result \u001b[38;5;241m=\u001b[39m \u001b[38;5;28;01mNone\u001b[39;00m\n",
      "File \u001b[0;32m~/idp/.venv/lib/python3.8/site-packages/torchvision/transforms/v2/_container.py:105\u001b[0m, in \u001b[0;36mRandomApply.forward\u001b[0;34m(self, *inputs)\u001b[0m\n\u001b[1;32m    102\u001b[0m     \u001b[38;5;28;01mreturn\u001b[39;00m inputs \u001b[38;5;28;01mif\u001b[39;00m needs_unpacking \u001b[38;5;28;01melse\u001b[39;00m inputs[\u001b[38;5;241m0\u001b[39m]\n\u001b[1;32m    104\u001b[0m \u001b[38;5;28;01mfor\u001b[39;00m transform \u001b[38;5;129;01min\u001b[39;00m \u001b[38;5;28mself\u001b[39m\u001b[38;5;241m.\u001b[39mtransforms:\n\u001b[0;32m--> 105\u001b[0m     outputs \u001b[38;5;241m=\u001b[39m \u001b[43mtransform\u001b[49m\u001b[43m(\u001b[49m\u001b[38;5;241;43m*\u001b[39;49m\u001b[43minputs\u001b[49m\u001b[43m)\u001b[49m\n\u001b[1;32m    106\u001b[0m     inputs \u001b[38;5;241m=\u001b[39m outputs \u001b[38;5;28;01mif\u001b[39;00m needs_unpacking \u001b[38;5;28;01melse\u001b[39;00m (outputs,)\n\u001b[1;32m    107\u001b[0m \u001b[38;5;28;01mreturn\u001b[39;00m outputs\n",
      "File \u001b[0;32m~/idp/.venv/lib/python3.8/site-packages/torch/nn/modules/module.py:1532\u001b[0m, in \u001b[0;36mModule._wrapped_call_impl\u001b[0;34m(self, *args, **kwargs)\u001b[0m\n\u001b[1;32m   1530\u001b[0m     \u001b[38;5;28;01mreturn\u001b[39;00m \u001b[38;5;28mself\u001b[39m\u001b[38;5;241m.\u001b[39m_compiled_call_impl(\u001b[38;5;241m*\u001b[39margs, \u001b[38;5;241m*\u001b[39m\u001b[38;5;241m*\u001b[39mkwargs)  \u001b[38;5;66;03m# type: ignore[misc]\u001b[39;00m\n\u001b[1;32m   1531\u001b[0m \u001b[38;5;28;01melse\u001b[39;00m:\n\u001b[0;32m-> 1532\u001b[0m     \u001b[38;5;28;01mreturn\u001b[39;00m \u001b[38;5;28;43mself\u001b[39;49m\u001b[38;5;241;43m.\u001b[39;49m\u001b[43m_call_impl\u001b[49m\u001b[43m(\u001b[49m\u001b[38;5;241;43m*\u001b[39;49m\u001b[43margs\u001b[49m\u001b[43m,\u001b[49m\u001b[43m \u001b[49m\u001b[38;5;241;43m*\u001b[39;49m\u001b[38;5;241;43m*\u001b[39;49m\u001b[43mkwargs\u001b[49m\u001b[43m)\u001b[49m\n",
      "File \u001b[0;32m~/idp/.venv/lib/python3.8/site-packages/torch/nn/modules/module.py:1541\u001b[0m, in \u001b[0;36mModule._call_impl\u001b[0;34m(self, *args, **kwargs)\u001b[0m\n\u001b[1;32m   1536\u001b[0m \u001b[38;5;66;03m# If we don't have any hooks, we want to skip the rest of the logic in\u001b[39;00m\n\u001b[1;32m   1537\u001b[0m \u001b[38;5;66;03m# this function, and just call forward.\u001b[39;00m\n\u001b[1;32m   1538\u001b[0m \u001b[38;5;28;01mif\u001b[39;00m \u001b[38;5;129;01mnot\u001b[39;00m (\u001b[38;5;28mself\u001b[39m\u001b[38;5;241m.\u001b[39m_backward_hooks \u001b[38;5;129;01mor\u001b[39;00m \u001b[38;5;28mself\u001b[39m\u001b[38;5;241m.\u001b[39m_backward_pre_hooks \u001b[38;5;129;01mor\u001b[39;00m \u001b[38;5;28mself\u001b[39m\u001b[38;5;241m.\u001b[39m_forward_hooks \u001b[38;5;129;01mor\u001b[39;00m \u001b[38;5;28mself\u001b[39m\u001b[38;5;241m.\u001b[39m_forward_pre_hooks\n\u001b[1;32m   1539\u001b[0m         \u001b[38;5;129;01mor\u001b[39;00m _global_backward_pre_hooks \u001b[38;5;129;01mor\u001b[39;00m _global_backward_hooks\n\u001b[1;32m   1540\u001b[0m         \u001b[38;5;129;01mor\u001b[39;00m _global_forward_hooks \u001b[38;5;129;01mor\u001b[39;00m _global_forward_pre_hooks):\n\u001b[0;32m-> 1541\u001b[0m     \u001b[38;5;28;01mreturn\u001b[39;00m \u001b[43mforward_call\u001b[49m\u001b[43m(\u001b[49m\u001b[38;5;241;43m*\u001b[39;49m\u001b[43margs\u001b[49m\u001b[43m,\u001b[49m\u001b[43m \u001b[49m\u001b[38;5;241;43m*\u001b[39;49m\u001b[38;5;241;43m*\u001b[39;49m\u001b[43mkwargs\u001b[49m\u001b[43m)\u001b[49m\n\u001b[1;32m   1543\u001b[0m \u001b[38;5;28;01mtry\u001b[39;00m:\n\u001b[1;32m   1544\u001b[0m     result \u001b[38;5;241m=\u001b[39m \u001b[38;5;28;01mNone\u001b[39;00m\n",
      "File \u001b[0;32m~/idp/.venv/lib/python3.8/site-packages/torchvision/transforms/v2/_transform.py:50\u001b[0m, in \u001b[0;36mTransform.forward\u001b[0;34m(self, *inputs)\u001b[0m\n\u001b[1;32m     45\u001b[0m needs_transform_list \u001b[38;5;241m=\u001b[39m \u001b[38;5;28mself\u001b[39m\u001b[38;5;241m.\u001b[39m_needs_transform_list(flat_inputs)\n\u001b[1;32m     46\u001b[0m params \u001b[38;5;241m=\u001b[39m \u001b[38;5;28mself\u001b[39m\u001b[38;5;241m.\u001b[39m_get_params(\n\u001b[1;32m     47\u001b[0m     [inpt \u001b[38;5;28;01mfor\u001b[39;00m (inpt, needs_transform) \u001b[38;5;129;01min\u001b[39;00m \u001b[38;5;28mzip\u001b[39m(flat_inputs, needs_transform_list) \u001b[38;5;28;01mif\u001b[39;00m needs_transform]\n\u001b[1;32m     48\u001b[0m )\n\u001b[0;32m---> 50\u001b[0m flat_outputs \u001b[38;5;241m=\u001b[39m [\n\u001b[1;32m     51\u001b[0m     \u001b[38;5;28mself\u001b[39m\u001b[38;5;241m.\u001b[39m_transform(inpt, params) \u001b[38;5;28;01mif\u001b[39;00m needs_transform \u001b[38;5;28;01melse\u001b[39;00m inpt\n\u001b[1;32m     52\u001b[0m     \u001b[38;5;28;01mfor\u001b[39;00m (inpt, needs_transform) \u001b[38;5;129;01min\u001b[39;00m \u001b[38;5;28mzip\u001b[39m(flat_inputs, needs_transform_list)\n\u001b[1;32m     53\u001b[0m ]\n\u001b[1;32m     55\u001b[0m \u001b[38;5;28;01mreturn\u001b[39;00m tree_unflatten(flat_outputs, spec)\n",
      "File \u001b[0;32m~/idp/.venv/lib/python3.8/site-packages/torchvision/transforms/v2/_transform.py:51\u001b[0m, in \u001b[0;36m<listcomp>\u001b[0;34m(.0)\u001b[0m\n\u001b[1;32m     45\u001b[0m needs_transform_list \u001b[38;5;241m=\u001b[39m \u001b[38;5;28mself\u001b[39m\u001b[38;5;241m.\u001b[39m_needs_transform_list(flat_inputs)\n\u001b[1;32m     46\u001b[0m params \u001b[38;5;241m=\u001b[39m \u001b[38;5;28mself\u001b[39m\u001b[38;5;241m.\u001b[39m_get_params(\n\u001b[1;32m     47\u001b[0m     [inpt \u001b[38;5;28;01mfor\u001b[39;00m (inpt, needs_transform) \u001b[38;5;129;01min\u001b[39;00m \u001b[38;5;28mzip\u001b[39m(flat_inputs, needs_transform_list) \u001b[38;5;28;01mif\u001b[39;00m needs_transform]\n\u001b[1;32m     48\u001b[0m )\n\u001b[1;32m     50\u001b[0m flat_outputs \u001b[38;5;241m=\u001b[39m [\n\u001b[0;32m---> 51\u001b[0m     \u001b[38;5;28;43mself\u001b[39;49m\u001b[38;5;241;43m.\u001b[39;49m\u001b[43m_transform\u001b[49m\u001b[43m(\u001b[49m\u001b[43minpt\u001b[49m\u001b[43m,\u001b[49m\u001b[43m \u001b[49m\u001b[43mparams\u001b[49m\u001b[43m)\u001b[49m \u001b[38;5;28;01mif\u001b[39;00m needs_transform \u001b[38;5;28;01melse\u001b[39;00m inpt\n\u001b[1;32m     52\u001b[0m     \u001b[38;5;28;01mfor\u001b[39;00m (inpt, needs_transform) \u001b[38;5;129;01min\u001b[39;00m \u001b[38;5;28mzip\u001b[39m(flat_inputs, needs_transform_list)\n\u001b[1;32m     53\u001b[0m ]\n\u001b[1;32m     55\u001b[0m \u001b[38;5;28;01mreturn\u001b[39;00m tree_unflatten(flat_outputs, spec)\n",
      "File \u001b[0;32m~/idp/.venv/lib/python3.8/site-packages/torchvision/transforms/v2/_geometry.py:733\u001b[0m, in \u001b[0;36mRandomAffine._transform\u001b[0;34m(self, inpt, params)\u001b[0m\n\u001b[1;32m    731\u001b[0m \u001b[38;5;28;01mdef\u001b[39;00m \u001b[38;5;21m_transform\u001b[39m(\u001b[38;5;28mself\u001b[39m, inpt: Any, params: Dict[\u001b[38;5;28mstr\u001b[39m, Any]) \u001b[38;5;241m-\u001b[39m\u001b[38;5;241m>\u001b[39m Any:\n\u001b[1;32m    732\u001b[0m     fill \u001b[38;5;241m=\u001b[39m _get_fill(\u001b[38;5;28mself\u001b[39m\u001b[38;5;241m.\u001b[39m_fill, \u001b[38;5;28mtype\u001b[39m(inpt))\n\u001b[0;32m--> 733\u001b[0m     \u001b[38;5;28;01mreturn\u001b[39;00m \u001b[38;5;28;43mself\u001b[39;49m\u001b[38;5;241;43m.\u001b[39;49m\u001b[43m_call_kernel\u001b[49m\u001b[43m(\u001b[49m\n\u001b[1;32m    734\u001b[0m \u001b[43m        \u001b[49m\u001b[43mF\u001b[49m\u001b[38;5;241;43m.\u001b[39;49m\u001b[43maffine\u001b[49m\u001b[43m,\u001b[49m\n\u001b[1;32m    735\u001b[0m \u001b[43m        \u001b[49m\u001b[43minpt\u001b[49m\u001b[43m,\u001b[49m\n\u001b[1;32m    736\u001b[0m \u001b[43m        \u001b[49m\u001b[38;5;241;43m*\u001b[39;49m\u001b[38;5;241;43m*\u001b[39;49m\u001b[43mparams\u001b[49m\u001b[43m,\u001b[49m\n\u001b[1;32m    737\u001b[0m \u001b[43m        \u001b[49m\u001b[43minterpolation\u001b[49m\u001b[38;5;241;43m=\u001b[39;49m\u001b[38;5;28;43mself\u001b[39;49m\u001b[38;5;241;43m.\u001b[39;49m\u001b[43minterpolation\u001b[49m\u001b[43m,\u001b[49m\n\u001b[1;32m    738\u001b[0m \u001b[43m        \u001b[49m\u001b[43mfill\u001b[49m\u001b[38;5;241;43m=\u001b[39;49m\u001b[43mfill\u001b[49m\u001b[43m,\u001b[49m\n\u001b[1;32m    739\u001b[0m \u001b[43m        \u001b[49m\u001b[43mcenter\u001b[49m\u001b[38;5;241;43m=\u001b[39;49m\u001b[38;5;28;43mself\u001b[39;49m\u001b[38;5;241;43m.\u001b[39;49m\u001b[43mcenter\u001b[49m\u001b[43m,\u001b[49m\n\u001b[1;32m    740\u001b[0m \u001b[43m    \u001b[49m\u001b[43m)\u001b[49m\n",
      "File \u001b[0;32m~/idp/.venv/lib/python3.8/site-packages/torchvision/transforms/v2/_transform.py:35\u001b[0m, in \u001b[0;36mTransform._call_kernel\u001b[0;34m(self, functional, inpt, *args, **kwargs)\u001b[0m\n\u001b[1;32m     33\u001b[0m \u001b[38;5;28;01mdef\u001b[39;00m \u001b[38;5;21m_call_kernel\u001b[39m(\u001b[38;5;28mself\u001b[39m, functional: Callable, inpt: Any, \u001b[38;5;241m*\u001b[39margs: Any, \u001b[38;5;241m*\u001b[39m\u001b[38;5;241m*\u001b[39mkwargs: Any) \u001b[38;5;241m-\u001b[39m\u001b[38;5;241m>\u001b[39m Any:\n\u001b[1;32m     34\u001b[0m     kernel \u001b[38;5;241m=\u001b[39m _get_kernel(functional, \u001b[38;5;28mtype\u001b[39m(inpt), allow_passthrough\u001b[38;5;241m=\u001b[39m\u001b[38;5;28;01mTrue\u001b[39;00m)\n\u001b[0;32m---> 35\u001b[0m     \u001b[38;5;28;01mreturn\u001b[39;00m \u001b[43mkernel\u001b[49m\u001b[43m(\u001b[49m\u001b[43minpt\u001b[49m\u001b[43m,\u001b[49m\u001b[43m \u001b[49m\u001b[38;5;241;43m*\u001b[39;49m\u001b[43margs\u001b[49m\u001b[43m,\u001b[49m\u001b[43m \u001b[49m\u001b[38;5;241;43m*\u001b[39;49m\u001b[38;5;241;43m*\u001b[39;49m\u001b[43mkwargs\u001b[49m\u001b[43m)\u001b[49m\n",
      "File \u001b[0;32m~/idp/.venv/lib/python3.8/site-packages/torchvision/transforms/v2/functional/_geometry.py:730\u001b[0m, in \u001b[0;36maffine_image\u001b[0;34m(image, angle, translate, scale, shear, interpolation, fill, center)\u001b[0m\n\u001b[1;32m    728\u001b[0m theta \u001b[38;5;241m=\u001b[39m torch\u001b[38;5;241m.\u001b[39mtensor(matrix, dtype\u001b[38;5;241m=\u001b[39mdtype, device\u001b[38;5;241m=\u001b[39mimage\u001b[38;5;241m.\u001b[39mdevice)\u001b[38;5;241m.\u001b[39mreshape(\u001b[38;5;241m1\u001b[39m, \u001b[38;5;241m2\u001b[39m, \u001b[38;5;241m3\u001b[39m)\n\u001b[1;32m    729\u001b[0m grid \u001b[38;5;241m=\u001b[39m _affine_grid(theta, w\u001b[38;5;241m=\u001b[39mwidth, h\u001b[38;5;241m=\u001b[39mheight, ow\u001b[38;5;241m=\u001b[39mwidth, oh\u001b[38;5;241m=\u001b[39mheight)\n\u001b[0;32m--> 730\u001b[0m \u001b[38;5;28;01mreturn\u001b[39;00m \u001b[43m_apply_grid_transform\u001b[49m\u001b[43m(\u001b[49m\u001b[43mimage\u001b[49m\u001b[43m,\u001b[49m\u001b[43m \u001b[49m\u001b[43mgrid\u001b[49m\u001b[43m,\u001b[49m\u001b[43m \u001b[49m\u001b[43minterpolation\u001b[49m\u001b[38;5;241;43m.\u001b[39;49m\u001b[43mvalue\u001b[49m\u001b[43m,\u001b[49m\u001b[43m \u001b[49m\u001b[43mfill\u001b[49m\u001b[38;5;241;43m=\u001b[39;49m\u001b[43mfill\u001b[49m\u001b[43m)\u001b[49m\n",
      "File \u001b[0;32m~/idp/.venv/lib/python3.8/site-packages/torchvision/transforms/v2/functional/_geometry.py:619\u001b[0m, in \u001b[0;36m_apply_grid_transform\u001b[0;34m(img, grid, mode, fill)\u001b[0m\n\u001b[1;32m    614\u001b[0m     mask \u001b[38;5;241m=\u001b[39m torch\u001b[38;5;241m.\u001b[39mones(\n\u001b[1;32m    615\u001b[0m         (squashed_batch_size, \u001b[38;5;241m1\u001b[39m, input_height, input_width), dtype\u001b[38;5;241m=\u001b[39mfloat_img\u001b[38;5;241m.\u001b[39mdtype, device\u001b[38;5;241m=\u001b[39mfloat_img\u001b[38;5;241m.\u001b[39mdevice\n\u001b[1;32m    616\u001b[0m     )\n\u001b[1;32m    617\u001b[0m     float_img \u001b[38;5;241m=\u001b[39m torch\u001b[38;5;241m.\u001b[39mcat((float_img, mask), dim\u001b[38;5;241m=\u001b[39m\u001b[38;5;241m1\u001b[39m)\n\u001b[0;32m--> 619\u001b[0m float_img \u001b[38;5;241m=\u001b[39m \u001b[43mgrid_sample\u001b[49m\u001b[43m(\u001b[49m\u001b[43mfloat_img\u001b[49m\u001b[43m,\u001b[49m\u001b[43m \u001b[49m\u001b[43mgrid\u001b[49m\u001b[43m,\u001b[49m\u001b[43m \u001b[49m\u001b[43mmode\u001b[49m\u001b[38;5;241;43m=\u001b[39;49m\u001b[43mmode\u001b[49m\u001b[43m,\u001b[49m\u001b[43m \u001b[49m\u001b[43mpadding_mode\u001b[49m\u001b[38;5;241;43m=\u001b[39;49m\u001b[38;5;124;43m\"\u001b[39;49m\u001b[38;5;124;43mzeros\u001b[39;49m\u001b[38;5;124;43m\"\u001b[39;49m\u001b[43m,\u001b[49m\u001b[43m \u001b[49m\u001b[43malign_corners\u001b[49m\u001b[38;5;241;43m=\u001b[39;49m\u001b[38;5;28;43;01mFalse\u001b[39;49;00m\u001b[43m)\u001b[49m\n\u001b[1;32m    621\u001b[0m \u001b[38;5;66;03m# Fill with required color\u001b[39;00m\n\u001b[1;32m    622\u001b[0m \u001b[38;5;28;01mif\u001b[39;00m fill \u001b[38;5;129;01mis\u001b[39;00m \u001b[38;5;129;01mnot\u001b[39;00m \u001b[38;5;28;01mNone\u001b[39;00m:\n",
      "File \u001b[0;32m~/idp/.venv/lib/python3.8/site-packages/torch/nn/functional.py:4351\u001b[0m, in \u001b[0;36mgrid_sample\u001b[0;34m(input, grid, mode, padding_mode, align_corners)\u001b[0m\n\u001b[1;32m   4343\u001b[0m     warnings\u001b[38;5;241m.\u001b[39mwarn(\n\u001b[1;32m   4344\u001b[0m         \u001b[38;5;124m\"\u001b[39m\u001b[38;5;124mDefault grid_sample and affine_grid behavior has changed \u001b[39m\u001b[38;5;124m\"\u001b[39m\n\u001b[1;32m   4345\u001b[0m         \u001b[38;5;124m\"\u001b[39m\u001b[38;5;124mto align_corners=False since 1.3.0. Please specify \u001b[39m\u001b[38;5;124m\"\u001b[39m\n\u001b[1;32m   4346\u001b[0m         \u001b[38;5;124m\"\u001b[39m\u001b[38;5;124malign_corners=True if the old behavior is desired. \u001b[39m\u001b[38;5;124m\"\u001b[39m\n\u001b[1;32m   4347\u001b[0m         \u001b[38;5;124m\"\u001b[39m\u001b[38;5;124mSee the documentation of grid_sample for details.\u001b[39m\u001b[38;5;124m\"\u001b[39m\n\u001b[1;32m   4348\u001b[0m     )\n\u001b[1;32m   4349\u001b[0m     align_corners \u001b[38;5;241m=\u001b[39m \u001b[38;5;28;01mFalse\u001b[39;00m\n\u001b[0;32m-> 4351\u001b[0m \u001b[38;5;28;01mreturn\u001b[39;00m \u001b[43mtorch\u001b[49m\u001b[38;5;241;43m.\u001b[39;49m\u001b[43mgrid_sampler\u001b[49m\u001b[43m(\u001b[49m\u001b[38;5;28;43minput\u001b[39;49m\u001b[43m,\u001b[49m\u001b[43m \u001b[49m\u001b[43mgrid\u001b[49m\u001b[43m,\u001b[49m\u001b[43m \u001b[49m\u001b[43mmode_enum\u001b[49m\u001b[43m,\u001b[49m\u001b[43m \u001b[49m\u001b[43mpadding_mode_enum\u001b[49m\u001b[43m,\u001b[49m\u001b[43m \u001b[49m\u001b[43malign_corners\u001b[49m\u001b[43m)\u001b[49m\n",
      "\u001b[0;31mKeyboardInterrupt\u001b[0m: "
     ]
    }
   ],
   "source": [
    "import matplotlib.pyplot as plt\n",
    "from FADA.train_FADA_unsupervised import model_pipeline\n",
    "import torch\n",
    "\n",
    "encoder = \"timm-regnetx_320\"\n",
    "architecture = \"Linknet\"\n",
    "device = torch.device(\"cuda:1\" if torch.cuda.is_available() else \"cpu\")\n",
    "\n",
    "config = {\n",
    "    \"model\": \"FADA-penalizeRings-CrossEntropy-pretrained-random_crops-bloodvessel_ratio01-3-classes\",\n",
    "    \"encoder\": encoder,\n",
    "    \"architecture\": architecture,\n",
    "    \"in_channels\": 3,\n",
    "    \"optimizer\": \"Adam\",\n",
    "    \"batch_size_source\": 16,\n",
    "    \"batch_size_target\": 1,\n",
    "    \"learning_rate_fea\": 0.001862602441467392,\n",
    "    \"learning_rate_cls\": 0.007213533657259828,\n",
    "    \"learning_rate_dis\": 0.00014998936792878458,\n",
    "    \"ndf\": 512,\n",
    "    \"epochs\": 10,\n",
    "    \"seg_loss\": \"CrossEntropy\",\n",
    "    \"pretrained\": \"models/Linknet-timm-regnetx_320-512x512-3-classes.pth\",\n",
    "    \"augmented\": True,\n",
    "    \"contrastive_loss\": True,\n",
    "    \"penalize_rings_weight\": 1,\n",
    "    \"classes\": 3,\n",
    "    \"gaussian\": \"models/gcr_comic-sweep.pth\",\n",
    "    \"dataset_path\": \"./data/FIVES_random_crops_threshold01\",\n",
    "    \"ring_label_dir\": \"data/helicoid_ring_labels\",\n",
    "}\n",
    "\n",
    "\n",
    "model, train_losses, domain_losses, val_losses_source, val_losses_target = (\n",
    "    model_pipeline(\n",
    "        config,\n",
    "        project=\"domain-adaptation\",\n",
    "        device=device,\n",
    "        batch_print=5,\n",
    "        evaluate=True,\n",
    "        with_overlays=True,\n",
    "        save_wandb=False,\n",
    "    )\n",
    ")\n",
    "\n",
    "plt.figure(figsize=(10, 6))\n",
    "plt.plot(train_losses, label=\"Combined Training Loss\")\n",
    "plt.plot(domain_losses, label=\"Domain Loss\")\n",
    "plt.plot(val_losses_source, label=\"Validation Loss Source\")\n",
    "plt.plot(val_losses_target, label=\"Validation Loss Target\")\n",
    "plt.xlabel(\"Epochs\")\n",
    "plt.ylabel(\"Loss\")\n",
    "plt.title(\"Training and Validation Loss Curves\")\n",
    "plt.legend()\n",
    "plt.show()"
   ]
  },
  {
   "cell_type": "markdown",
   "metadata": {},
   "source": [
    "### Supervised Domain Adapatation"
   ]
  },
  {
   "cell_type": "markdown",
   "metadata": {},
   "source": [
    "#### GRL"
   ]
  },
  {
   "cell_type": "code",
   "execution_count": null,
   "metadata": {},
   "outputs": [
    {
     "name": "stderr",
     "output_type": "stream",
     "text": [
      "Failed to detect the name of this notebook, you can set it manually with the WANDB_NOTEBOOK_NAME environment variable to enable code saving.\n",
      "\u001b[34m\u001b[1mwandb\u001b[0m: Currently logged in as: \u001b[33mtim-mach\u001b[0m (\u001b[33midp2024\u001b[0m). Use \u001b[1m`wandb login --relogin`\u001b[0m to force relogin\n"
     ]
    },
    {
     "data": {
      "text/html": [
       "wandb version 0.18.6 is available!  To upgrade, please run:\n",
       " $ pip install wandb --upgrade"
      ],
      "text/plain": [
       "<IPython.core.display.HTML object>"
      ]
     },
     "metadata": {},
     "output_type": "display_data"
    },
    {
     "data": {
      "text/html": [
       "Tracking run with wandb version 0.16.6"
      ],
      "text/plain": [
       "<IPython.core.display.HTML object>"
      ]
     },
     "metadata": {},
     "output_type": "display_data"
    },
    {
     "data": {
      "text/html": [
       "Run data is saved locally in <code>/home/home/tim_ivan/idp/wandb/run-20241113_231515-g7k8n98v</code>"
      ],
      "text/plain": [
       "<IPython.core.display.HTML object>"
      ]
     },
     "metadata": {},
     "output_type": "display_data"
    },
    {
     "data": {
      "text/html": [
       "Syncing run <strong><a href='https://wandb.ai/idp2024/supervised-domain-adaptation/runs/g7k8n98v' target=\"_blank\">GRL-Linknet-timm-regnetx_320-window_500-600-pretrained-random_crops-bloodvessel_ratio01-supervised</a></strong> to <a href='https://wandb.ai/idp2024/supervised-domain-adaptation' target=\"_blank\">Weights & Biases</a> (<a href='https://wandb.me/run' target=\"_blank\">docs</a>)<br/>"
      ],
      "text/plain": [
       "<IPython.core.display.HTML object>"
      ]
     },
     "metadata": {},
     "output_type": "display_data"
    },
    {
     "data": {
      "text/html": [
       " View project at <a href='https://wandb.ai/idp2024/supervised-domain-adaptation' target=\"_blank\">https://wandb.ai/idp2024/supervised-domain-adaptation</a>"
      ],
      "text/plain": [
       "<IPython.core.display.HTML object>"
      ]
     },
     "metadata": {},
     "output_type": "display_data"
    },
    {
     "data": {
      "text/html": [
       " View run at <a href='https://wandb.ai/idp2024/supervised-domain-adaptation/runs/g7k8n98v' target=\"_blank\">https://wandb.ai/idp2024/supervised-domain-adaptation/runs/g7k8n98v</a>"
      ],
      "text/plain": [
       "<IPython.core.display.HTML object>"
      ]
     },
     "metadata": {},
     "output_type": "display_data"
    },
    {
     "name": "stdout",
     "output_type": "stream",
     "text": [
      "Loading pretrained model from ./models/Linknet-timm-regnetx_320-512x512-augmented-with-random-crops-single-channel-focal.pth\n"
     ]
    },
    {
     "name": "stderr",
     "output_type": "stream",
     "text": [
      "/home/home/tim_ivan/idp/.venv/lib/python3.8/site-packages/torch/nn/modules/conv.py:456: UserWarning: Plan failed with a cudnnException: CUDNN_BACKEND_EXECUTION_PLAN_DESCRIPTOR: cudnnFinalize Descriptor Failed cudnn_status: CUDNN_STATUS_NOT_SUPPORTED (Triggered internally at ../aten/src/ATen/native/cudnn/Conv_v8.cpp:919.)\n",
      "  return F.conv2d(input, weight, bias, self.stride,\n",
      "/home/home/tim_ivan/idp/.venv/lib/python3.8/site-packages/torch/autograd/graph.py:744: UserWarning: Plan failed with a cudnnException: CUDNN_BACKEND_EXECUTION_PLAN_DESCRIPTOR: cudnnFinalize Descriptor Failed cudnn_status: CUDNN_STATUS_NOT_SUPPORTED (Triggered internally at ../aten/src/ATen/native/cudnn/Conv_v8.cpp:919.)\n",
      "  return Variable._execution_engine.run_backward(  # Calls into the C++ engine to run the backward pass\n"
     ]
    },
    {
     "name": "stdout",
     "output_type": "stream",
     "text": [
      "Epoch 1, Batch 1/34, Total Loss: 2.1479, Segmentation Loss: 0.7283, Domain Loss Source: 0.7582, Domain Loss Target: 0.6614\n",
      "Epoch 1, Batch 2/34, Total Loss: 30.4464, Segmentation Loss: 0.6874, Domain Loss Source: 0.0000, Domain Loss Target: 29.7590\n",
      "Epoch 1, Batch 3/34, Total Loss: 45.6899, Segmentation Loss: 0.6732, Domain Loss Source: 43.6820, Domain Loss Target: 1.3348\n",
      "Epoch 1, Batch 4/34, Total Loss: 60.7336, Segmentation Loss: 0.6997, Domain Loss Source: 58.5175, Domain Loss Target: 1.5164\n",
      "Epoch 1, Batch 5/34, Total Loss: 19.6700, Segmentation Loss: 0.6691, Domain Loss Source: 15.5772, Domain Loss Target: 3.4236\n",
      "Epoch 1, Batch 6/34, Total Loss: 23.4743, Segmentation Loss: 0.7398, Domain Loss Source: 16.1773, Domain Loss Target: 6.5572\n",
      "Epoch 1, Batch 7/34, Total Loss: 39.3069, Segmentation Loss: 0.6454, Domain Loss Source: 0.7192, Domain Loss Target: 37.9422\n"
     ]
    },
    {
     "name": "stderr",
     "output_type": "stream",
     "text": [
      "/home/home/tim_ivan/idp/.venv/lib/python3.8/site-packages/torch/nn/modules/conv.py:456: UserWarning: Plan failed with a cudnnException: CUDNN_BACKEND_EXECUTION_PLAN_DESCRIPTOR: cudnnFinalize Descriptor Failed cudnn_status: CUDNN_STATUS_NOT_SUPPORTED (Triggered internally at ../aten/src/ATen/native/cudnn/Conv_v8.cpp:919.)\n",
      "  return F.conv2d(input, weight, bias, self.stride,\n"
     ]
    },
    {
     "name": "stdout",
     "output_type": "stream",
     "text": [
      "Epoch 1, Batch 8/34, Total Loss: 31.2116, Segmentation Loss: 0.7010, Domain Loss Source: 11.5278, Domain Loss Target: 18.9828\n",
      "Epoch 1, Batch 9/34, Total Loss: 6.9516, Segmentation Loss: 0.6254, Domain Loss Source: 5.3976, Domain Loss Target: 0.9286\n",
      "Epoch 1, Batch 10/34, Total Loss: 3.5846, Segmentation Loss: 0.6483, Domain Loss Source: 0.1458, Domain Loss Target: 2.7905\n",
      "Epoch 1, Batch 11/34, Total Loss: 10.3006, Segmentation Loss: 0.6348, Domain Loss Source: 2.2692, Domain Loss Target: 7.3966\n",
      "Epoch 1, Batch 12/34, Total Loss: 9.2024, Segmentation Loss: 0.6809, Domain Loss Source: 1.9968, Domain Loss Target: 6.5247\n",
      "Epoch 1, Batch 13/34, Total Loss: 4.0135, Segmentation Loss: 0.6346, Domain Loss Source: 3.1238, Domain Loss Target: 0.2550\n",
      "Epoch 1, Batch 14/34, Total Loss: 19.5268, Segmentation Loss: 0.6613, Domain Loss Source: 6.5280, Domain Loss Target: 12.3374\n",
      "Epoch 1, Batch 15/34, Total Loss: 2.5017, Segmentation Loss: 0.6154, Domain Loss Source: 1.8577, Domain Loss Target: 0.0286\n",
      "Epoch 1, Batch 16/34, Total Loss: 6.2783, Segmentation Loss: 0.7047, Domain Loss Source: 5.0740, Domain Loss Target: 0.4996\n",
      "Epoch 1, Batch 17/34, Total Loss: 1.7260, Segmentation Loss: 0.5996, Domain Loss Source: 0.6674, Domain Loss Target: 0.4590\n",
      "Epoch 1, Batch 18/34, Total Loss: 5.5996, Segmentation Loss: 0.5644, Domain Loss Source: 0.0086, Domain Loss Target: 5.0266\n",
      "Epoch 1, Batch 19/34, Total Loss: 10.5274, Segmentation Loss: 0.6068, Domain Loss Source: 6.8193, Domain Loss Target: 3.1014\n",
      "Epoch 1, Batch 20/34, Total Loss: 10.7684, Segmentation Loss: 0.6359, Domain Loss Source: 0.4011, Domain Loss Target: 9.7314\n",
      "Epoch 1, Batch 21/34, Total Loss: 1.3909, Segmentation Loss: 0.5996, Domain Loss Source: 0.7165, Domain Loss Target: 0.0748\n",
      "Epoch 1, Batch 22/34, Total Loss: 11.5365, Segmentation Loss: 0.6705, Domain Loss Source: 8.4255, Domain Loss Target: 2.4406\n",
      "Epoch 1, Batch 23/34, Total Loss: 3.7295, Segmentation Loss: 0.6413, Domain Loss Source: 3.0493, Domain Loss Target: 0.0388\n",
      "Epoch 1, Batch 24/34, Total Loss: 5.4131, Segmentation Loss: 0.6529, Domain Loss Source: 4.6816, Domain Loss Target: 0.0786\n",
      "Epoch 1, Batch 25/34, Total Loss: 2.5026, Segmentation Loss: 0.6071, Domain Loss Source: 1.8850, Domain Loss Target: 0.0105\n",
      "Epoch 1, Batch 26/34, Total Loss: 3.0495, Segmentation Loss: 0.5626, Domain Loss Source: 0.2849, Domain Loss Target: 2.2021\n",
      "Epoch 1, Batch 27/34, Total Loss: 4.2334, Segmentation Loss: 0.6126, Domain Loss Source: 1.0855, Domain Loss Target: 2.5353\n",
      "Epoch 1, Batch 28/34, Total Loss: 5.0916, Segmentation Loss: 0.5697, Domain Loss Source: 0.0062, Domain Loss Target: 4.5157\n",
      "Epoch 1, Batch 29/34, Total Loss: 1.8426, Segmentation Loss: 0.5427, Domain Loss Source: 0.0003, Domain Loss Target: 1.2996\n",
      "Epoch 1, Batch 30/34, Total Loss: 3.1234, Segmentation Loss: 0.5734, Domain Loss Source: 1.2844, Domain Loss Target: 1.2656\n",
      "Epoch 1, Batch 31/34, Total Loss: 2.0092, Segmentation Loss: 0.5704, Domain Loss Source: 0.1472, Domain Loss Target: 1.2916\n",
      "Epoch 1, Batch 32/34, Total Loss: 4.5006, Segmentation Loss: 0.5560, Domain Loss Source: 0.3734, Domain Loss Target: 3.5712\n",
      "Epoch 1, Batch 33/34, Total Loss: 4.0462, Segmentation Loss: 0.5730, Domain Loss Source: 3.4730, Domain Loss Target: 0.0002\n",
      "Epoch 1, Batch 34/34, Total Loss: 4.0458, Segmentation Loss: 0.5671, Domain Loss Source: 3.4323, Domain Loss Target: 0.0463\n",
      "Epoch 1, Train Loss: 11.7699\n",
      "Evaluating model performance on source data\n",
      "Precision: 0.7823, Recall: 0.4425, F1 Score: 0.5616, Dice Score: 0.5616, Accuracy: 0.8803\n",
      "Evaluating model performance on target data\n",
      "Precision: nan, Recall: 0.1608, F1 Score: 0.1985, Dice Score: 0.1985, Accuracy: 0.7622\n",
      "Epoch 1, Validation Loss Source: 0.4782, Validation Loss Target: 0.8067\n",
      "Epoch 2, Batch 1/34, Total Loss: 2.9017, Segmentation Loss: 0.5977, Domain Loss Source: 2.2515, Domain Loss Target: 0.0524\n",
      "Epoch 2, Batch 2/34, Total Loss: 4.8484, Segmentation Loss: 0.5466, Domain Loss Source: 3.2542, Domain Loss Target: 1.0476\n",
      "Epoch 2, Batch 3/34, Total Loss: 0.5970, Segmentation Loss: 0.5481, Domain Loss Source: 0.0028, Domain Loss Target: 0.0461\n",
      "Epoch 2, Batch 4/34, Total Loss: 2.6450, Segmentation Loss: 0.5633, Domain Loss Source: 0.0003, Domain Loss Target: 2.0815\n",
      "Epoch 2, Batch 5/34, Total Loss: 4.1850, Segmentation Loss: 0.5813, Domain Loss Source: 0.0355, Domain Loss Target: 3.5682\n",
      "Epoch 2, Batch 6/34, Total Loss: 3.6665, Segmentation Loss: 0.5624, Domain Loss Source: 0.4885, Domain Loss Target: 2.6156\n",
      "Epoch 2, Batch 7/34, Total Loss: 0.9493, Segmentation Loss: 0.5857, Domain Loss Source: 0.0459, Domain Loss Target: 0.3177\n",
      "Epoch 2, Batch 8/34, Total Loss: 1.8488, Segmentation Loss: 0.5683, Domain Loss Source: 0.7101, Domain Loss Target: 0.5705\n",
      "Epoch 2, Batch 9/34, Total Loss: 1.1248, Segmentation Loss: 0.5281, Domain Loss Source: 0.5456, Domain Loss Target: 0.0512\n",
      "Epoch 2, Batch 10/34, Total Loss: 2.2108, Segmentation Loss: 0.5632, Domain Loss Source: 1.5653, Domain Loss Target: 0.0823\n",
      "Epoch 2, Batch 11/34, Total Loss: 3.0093, Segmentation Loss: 0.5071, Domain Loss Source: 2.5005, Domain Loss Target: 0.0016\n",
      "Epoch 2, Batch 12/34, Total Loss: 1.4516, Segmentation Loss: 0.5773, Domain Loss Source: 0.8741, Domain Loss Target: 0.0001\n",
      "Epoch 2, Batch 13/34, Total Loss: 0.8983, Segmentation Loss: 0.5071, Domain Loss Source: 0.3265, Domain Loss Target: 0.0646\n",
      "Epoch 2, Batch 14/34, Total Loss: 0.8333, Segmentation Loss: 0.5565, Domain Loss Source: 0.0016, Domain Loss Target: 0.2752\n",
      "Epoch 2, Batch 15/34, Total Loss: 0.6979, Segmentation Loss: 0.5208, Domain Loss Source: 0.0072, Domain Loss Target: 0.1699\n",
      "Epoch 2, Batch 16/34, Total Loss: 2.1657, Segmentation Loss: 0.5887, Domain Loss Source: 0.0449, Domain Loss Target: 1.5321\n",
      "Epoch 2, Batch 17/34, Total Loss: 1.7429, Segmentation Loss: 0.4979, Domain Loss Source: 0.0018, Domain Loss Target: 1.2432\n",
      "Epoch 2, Batch 18/34, Total Loss: 1.9530, Segmentation Loss: 0.4572, Domain Loss Source: 0.2773, Domain Loss Target: 1.2186\n",
      "Epoch 2, Batch 19/34, Total Loss: 0.9406, Segmentation Loss: 0.4863, Domain Loss Source: 0.4377, Domain Loss Target: 0.0166\n",
      "Epoch 2, Batch 20/34, Total Loss: 1.6731, Segmentation Loss: 0.4916, Domain Loss Source: 1.1809, Domain Loss Target: 0.0006\n",
      "Epoch 2, Batch 21/34, Total Loss: 1.0084, Segmentation Loss: 0.5002, Domain Loss Source: 0.4919, Domain Loss Target: 0.0163\n",
      "Epoch 2, Batch 22/34, Total Loss: 2.8156, Segmentation Loss: 0.6112, Domain Loss Source: 1.9937, Domain Loss Target: 0.2107\n",
      "Epoch 2, Batch 23/34, Total Loss: 0.6283, Segmentation Loss: 0.5690, Domain Loss Source: 0.0467, Domain Loss Target: 0.0126\n",
      "Epoch 2, Batch 24/34, Total Loss: 1.6291, Segmentation Loss: 0.5829, Domain Loss Source: 0.9306, Domain Loss Target: 0.1156\n",
      "Epoch 2, Batch 25/34, Total Loss: 0.7569, Segmentation Loss: 0.4917, Domain Loss Source: 0.0356, Domain Loss Target: 0.2296\n",
      "Epoch 2, Batch 26/34, Total Loss: 1.4479, Segmentation Loss: 0.4954, Domain Loss Source: 0.0498, Domain Loss Target: 0.9027\n",
      "Epoch 2, Batch 27/34, Total Loss: 1.9658, Segmentation Loss: 0.5060, Domain Loss Source: 1.3640, Domain Loss Target: 0.0958\n",
      "Epoch 2, Batch 28/34, Total Loss: 1.0930, Segmentation Loss: 0.4625, Domain Loss Source: 0.1319, Domain Loss Target: 0.4986\n",
      "Epoch 2, Batch 29/34, Total Loss: 1.4581, Segmentation Loss: 0.4607, Domain Loss Source: 0.0120, Domain Loss Target: 0.9854\n",
      "Epoch 2, Batch 30/34, Total Loss: 1.0058, Segmentation Loss: 0.4967, Domain Loss Source: 0.0293, Domain Loss Target: 0.4798\n",
      "Epoch 2, Batch 31/34, Total Loss: 0.9356, Segmentation Loss: 0.4562, Domain Loss Source: 0.4568, Domain Loss Target: 0.0227\n",
      "Epoch 2, Batch 32/34, Total Loss: 0.7004, Segmentation Loss: 0.4840, Domain Loss Source: 0.1978, Domain Loss Target: 0.0186\n",
      "Epoch 2, Batch 33/34, Total Loss: 1.2428, Segmentation Loss: 0.4708, Domain Loss Source: 0.7382, Domain Loss Target: 0.0338\n",
      "Epoch 2, Batch 34/34, Total Loss: 0.8910, Segmentation Loss: 0.4652, Domain Loss Source: 0.2035, Domain Loss Target: 0.2223\n",
      "Epoch 2, Train Loss: 1.7036\n"
     ]
    }
   ],
   "source": [
    "from torch.utils.data import DataLoader, Subset\n",
    "import torch\n",
    "from supervised_domain_adaptation import model_pipeline\n",
    "\n",
    "trainloader_target_labeled = DataLoader(\n",
    "    Subset(testset, [0]),\n",
    "    batch_size=1,\n",
    "    shuffle=True,\n",
    ")\n",
    "testloader_target = DataLoader(\n",
    "    Subset(testset, [1, 2, 3, 4]), batch_size=1, shuffle=False\n",
    ")\n",
    "\n",
    "encoder = \"timm-regnetx_320\"\n",
    "architecture = \"Linknet\"\n",
    "device = torch.device(\"cuda:4\" if torch.cuda.is_available() else \"cpu\")\n",
    "lambda_param = 0.5\n",
    "learning_rate = 0.001\n",
    "loss = \"Dice\"\n",
    "epochs = 10\n",
    "in_channels = 1\n",
    "hidden_dim = 256\n",
    "\n",
    "config = {\n",
    "    \"model\": \"GRL-{architecture}-{encoder}-window_{window[0]}-{window[1]}-pretrained-random_crops-bloodvessel_ratio01-supervised\".format(\n",
    "        architecture=architecture, encoder=encoder, window=window\n",
    "    ),\n",
    "    \"encoder\": encoder,\n",
    "    \"architecture\": architecture,\n",
    "    \"learning_rate\": learning_rate,\n",
    "    \"optimizer\": \"Adam\",\n",
    "    \"lambda_param\": lambda_param,\n",
    "    \"batch_size_source\": trainloader_source.batch_size,\n",
    "    \"batch_size_target\": trainloader_target.batch_size,\n",
    "    \"hidden_dim\": hidden_dim,\n",
    "    \"epochs\": epochs,\n",
    "    \"loss\": loss,\n",
    "    \"in_channels\": in_channels,\n",
    "    \"pretrained\": './models/Linknet-timm-regnetx_320-512x512-augmented-with-random-crops-single-channel-focal.pth',\n",
    "    \"supervised\": True,\n",
    "}\n",
    "\n",
    "model, train_losses, domain_losses, val_losses_source, val_losses_target = model_pipeline(\n",
    "    trainloader_source,\n",
    "    validationloader_source,\n",
    "    testloader_source,\n",
    "    trainloader_target_labeled,\n",
    "    trainloader_target,\n",
    "    testloader_target,\n",
    "    config,\n",
    "    project=\"supervised-domain-adaptation\",\n",
    "    device=device,\n",
    "    batch_print=1,\n",
    "    evaluate=True,\n",
    "    with_overlays=True,\n",
    ")"
   ]
  },
  {
   "cell_type": "markdown",
   "metadata": {},
   "source": [
    "#### FADA"
   ]
  },
  {
   "cell_type": "code",
   "execution_count": null,
   "metadata": {},
   "outputs": [
    {
     "name": "stderr",
     "output_type": "stream",
     "text": [
      "Failed to detect the name of this notebook, you can set it manually with the WANDB_NOTEBOOK_NAME environment variable to enable code saving.\n",
      "\u001b[34m\u001b[1mwandb\u001b[0m: Currently logged in as: \u001b[33mtim-mach\u001b[0m (\u001b[33midp2024\u001b[0m). Use \u001b[1m`wandb login --relogin`\u001b[0m to force relogin\n"
     ]
    },
    {
     "data": {
      "text/html": [
       "wandb version 0.18.6 is available!  To upgrade, please run:\n",
       " $ pip install wandb --upgrade"
      ],
      "text/plain": [
       "<IPython.core.display.HTML object>"
      ]
     },
     "metadata": {},
     "output_type": "display_data"
    },
    {
     "data": {
      "text/html": [
       "Tracking run with wandb version 0.16.6"
      ],
      "text/plain": [
       "<IPython.core.display.HTML object>"
      ]
     },
     "metadata": {},
     "output_type": "display_data"
    },
    {
     "data": {
      "text/html": [
       "Run data is saved locally in <code>/home/home/tim_ivan/idp/wandb/run-20241113_215941-qd45bcaj</code>"
      ],
      "text/plain": [
       "<IPython.core.display.HTML object>"
      ]
     },
     "metadata": {},
     "output_type": "display_data"
    },
    {
     "data": {
      "text/html": [
       "Syncing run <strong><a href='https://wandb.ai/idp2024/supervised-domain-adaptation/runs/qd45bcaj' target=\"_blank\">FADA-Linknet-timm-regnetx_320-window_500-600_pretrained-augmented_target-random_crops_bloodvessel_ratio01</a></strong> to <a href='https://wandb.ai/idp2024/supervised-domain-adaptation' target=\"_blank\">Weights & Biases</a> (<a href='https://wandb.me/run' target=\"_blank\">docs</a>)<br/>"
      ],
      "text/plain": [
       "<IPython.core.display.HTML object>"
      ]
     },
     "metadata": {},
     "output_type": "display_data"
    },
    {
     "data": {
      "text/html": [
       " View project at <a href='https://wandb.ai/idp2024/supervised-domain-adaptation' target=\"_blank\">https://wandb.ai/idp2024/supervised-domain-adaptation</a>"
      ],
      "text/plain": [
       "<IPython.core.display.HTML object>"
      ]
     },
     "metadata": {},
     "output_type": "display_data"
    },
    {
     "data": {
      "text/html": [
       " View run at <a href='https://wandb.ai/idp2024/supervised-domain-adaptation/runs/qd45bcaj' target=\"_blank\">https://wandb.ai/idp2024/supervised-domain-adaptation/runs/qd45bcaj</a>"
      ],
      "text/plain": [
       "<IPython.core.display.HTML object>"
      ]
     },
     "metadata": {},
     "output_type": "display_data"
    },
    {
     "name": "stdout",
     "output_type": "stream",
     "text": [
      "Loading pretrained model from ./models/Linknet-timm-regnetx_320-512x512-augmented-with-random-crops-single-channel-focal.pth\n"
     ]
    },
    {
     "name": "stderr",
     "output_type": "stream",
     "text": [
      "/home/home/tim_ivan/idp/.venv/lib/python3.8/site-packages/torch/nn/modules/conv.py:456: UserWarning: Plan failed with a cudnnException: CUDNN_BACKEND_EXECUTION_PLAN_DESCRIPTOR: cudnnFinalize Descriptor Failed cudnn_status: CUDNN_STATUS_NOT_SUPPORTED (Triggered internally at ../aten/src/ATen/native/cudnn/Conv_v8.cpp:919.)\n",
      "  return F.conv2d(input, weight, bias, self.stride,\n",
      "/home/home/tim_ivan/idp/.venv/lib/python3.8/site-packages/torch/autograd/graph.py:744: UserWarning: Plan failed with a cudnnException: CUDNN_BACKEND_EXECUTION_PLAN_DESCRIPTOR: cudnnFinalize Descriptor Failed cudnn_status: CUDNN_STATUS_NOT_SUPPORTED (Triggered internally at ../aten/src/ATen/native/cudnn/Conv_v8.cpp:919.)\n",
      "  return Variable._execution_engine.run_backward(  # Calls into the C++ engine to run the backward pass\n"
     ]
    },
    {
     "name": "stdout",
     "output_type": "stream",
     "text": [
      "Epoch 1, Batch 10/34, Total Loss: 1.0578, Segmentation Loss: 0.4373, Domain Loss Source: 0.3387, Domain Loss Target: 0.2318, Adversarial Loss Target: 0.0009\n",
      "Epoch 1, Batch 20/34, Total Loss: 0.9842, Segmentation Loss: 0.3694, Domain Loss Source: 0.3450, Domain Loss Target: 0.2909, Adversarial Loss Target: 0.0012\n",
      "Epoch 1, Batch 30/34, Total Loss: 0.8321, Segmentation Loss: 0.3126, Domain Loss Source: 0.2059, Domain Loss Target: 0.2563, Adversarial Loss Target: 0.0010\n",
      "Epoch 1, Train Loss: 4.9357\n"
     ]
    },
    {
     "name": "stderr",
     "output_type": "stream",
     "text": [
      "/home/home/tim_ivan/idp/.venv/lib/python3.8/site-packages/torch/nn/modules/conv.py:456: UserWarning: Plan failed with a cudnnException: CUDNN_BACKEND_EXECUTION_PLAN_DESCRIPTOR: cudnnFinalize Descriptor Failed cudnn_status: CUDNN_STATUS_NOT_SUPPORTED (Triggered internally at ../aten/src/ATen/native/cudnn/Conv_v8.cpp:919.)\n",
      "  return F.conv2d(input, weight, bias, self.stride,\n"
     ]
    },
    {
     "name": "stdout",
     "output_type": "stream",
     "text": [
      "Evaluating model performance on source data\n",
      "Precision: 0.9679, Recall: 0.2987, F1 Score: 0.4549, Dice Score: 0.4549, Accuracy: 0.8754\n",
      "Evaluating model performance on target data\n",
      "Precision: nan, Recall: 0.1847, F1 Score: 0.2401, Dice Score: 0.2401, Accuracy: 0.7989\n",
      "Epoch 1, Validation Loss Source: 0.2642, Validation Loss Target: 0.6929\n",
      "Epoch 2, Batch 10/34, Total Loss: 0.7133, Segmentation Loss: 0.2836, Domain Loss Source: 0.2742, Domain Loss Target: 0.1458, Adversarial Loss Target: 0.0018\n",
      "Epoch 2, Batch 20/34, Total Loss: 0.7254, Segmentation Loss: 0.2543, Domain Loss Source: 0.2818, Domain Loss Target: 0.1544, Adversarial Loss Target: 0.0020\n",
      "Epoch 2, Batch 30/34, Total Loss: 0.6715, Segmentation Loss: 0.2273, Domain Loss Source: 0.3369, Domain Loss Target: 0.1476, Adversarial Loss Target: 0.0018\n",
      "Epoch 2, Train Loss: 3.5858\n",
      "Evaluating model performance on source data\n",
      "Precision: 0.9597, Recall: 0.4010, F1 Score: 0.5633, Dice Score: 0.5633, Accuracy: 0.8920\n",
      "Evaluating model performance on target data\n",
      "Precision: 0.4168, Recall: 0.2992, F1 Score: 0.3436, Dice Score: 0.3436, Accuracy: 0.8037\n",
      "Epoch 2, Validation Loss Source: 0.2848, Validation Loss Target: 0.5648\n",
      "Epoch 3, Batch 10/34, Total Loss: 0.6636, Segmentation Loss: 0.2251, Domain Loss Source: 0.4584, Domain Loss Target: 0.0825, Adversarial Loss Target: 0.0027\n",
      "Epoch 3, Batch 20/34, Total Loss: 0.7144, Segmentation Loss: 0.2106, Domain Loss Source: 0.2956, Domain Loss Target: 0.1851, Adversarial Loss Target: 0.0014\n",
      "Epoch 3, Batch 30/34, Total Loss: 0.6797, Segmentation Loss: 0.1863, Domain Loss Source: 0.2117, Domain Loss Target: 0.2501, Adversarial Loss Target: 0.0012\n",
      "Epoch 3, Train Loss: 3.5167\n",
      "Evaluating model performance on source data\n",
      "Precision: 0.9353, Recall: 0.4632, F1 Score: 0.6165, Dice Score: 0.6165, Accuracy: 0.9003\n",
      "Evaluating model performance on target data\n",
      "Precision: 0.5283, Recall: 0.6093, F1 Score: 0.5611, Dice Score: 0.5611, Accuracy: 0.8273\n",
      "Epoch 3, Validation Loss Source: 0.2840, Validation Loss Target: 0.4886\n",
      "Epoch 4, Batch 10/34, Total Loss: 0.6459, Segmentation Loss: 0.1984, Domain Loss Source: 0.4003, Domain Loss Target: 0.1105, Adversarial Loss Target: 0.0021\n",
      "Epoch 4, Batch 20/34, Total Loss: 0.6293, Segmentation Loss: 0.1863, Domain Loss Source: 0.2560, Domain Loss Target: 0.1736, Adversarial Loss Target: 0.0015\n",
      "Epoch 4, Batch 30/34, Total Loss: 0.6457, Segmentation Loss: 0.1615, Domain Loss Source: 0.1470, Domain Loss Target: 0.3052, Adversarial Loss Target: 0.0007\n",
      "Epoch 4, Train Loss: 3.2743\n",
      "Evaluating model performance on source data\n",
      "Precision: 0.9285, Recall: 0.4940, F1 Score: 0.6417, Dice Score: 0.6417, Accuracy: 0.9046\n",
      "Evaluating model performance on target data\n",
      "Precision: 0.5303, Recall: 0.6397, F1 Score: 0.5764, Dice Score: 0.5764, Accuracy: 0.8227\n",
      "Epoch 4, Validation Loss Source: 0.2813, Validation Loss Target: 0.5494\n",
      "Epoch 5, Batch 10/34, Total Loss: 0.6443, Segmentation Loss: 0.1813, Domain Loss Source: 0.4674, Domain Loss Target: 0.0726, Adversarial Loss Target: 0.0023\n",
      "Epoch 5, Batch 20/34, Total Loss: 0.6633, Segmentation Loss: 0.1701, Domain Loss Source: 0.2598, Domain Loss Target: 0.2123, Adversarial Loss Target: 0.0011\n",
      "Epoch 5, Batch 30/34, Total Loss: 0.6203, Segmentation Loss: 0.1447, Domain Loss Source: 0.2218, Domain Loss Target: 0.1649, Adversarial Loss Target: 0.0015\n",
      "Epoch 5, Train Loss: 3.2961\n",
      "Evaluating model performance on source data\n",
      "Precision: 0.9116, Recall: 0.5073, F1 Score: 0.6480, Dice Score: 0.6480, Accuracy: 0.9048\n",
      "Evaluating model performance on target data\n",
      "Precision: 0.5202, Recall: 0.7135, F1 Score: 0.5937, Dice Score: 0.5937, Accuracy: 0.8105\n",
      "Epoch 5, Validation Loss Source: 0.2856, Validation Loss Target: 0.6232\n",
      "Epoch 6, Batch 10/34, Total Loss: 0.5921, Segmentation Loss: 0.1666, Domain Loss Source: 0.1738, Domain Loss Target: 0.2082, Adversarial Loss Target: 0.0011\n",
      "Epoch 6, Batch 20/34, Total Loss: 0.5750, Segmentation Loss: 0.1585, Domain Loss Source: 0.1904, Domain Loss Target: 0.2018, Adversarial Loss Target: 0.0021\n",
      "Epoch 6, Batch 30/34, Total Loss: 0.5659, Segmentation Loss: 0.1321, Domain Loss Source: 0.2841, Domain Loss Target: 0.1192, Adversarial Loss Target: 0.0017\n",
      "Epoch 6, Train Loss: 3.0074\n",
      "Evaluating model performance on source data\n",
      "Precision: 0.9043, Recall: 0.5117, F1 Score: 0.6495, Dice Score: 0.6495, Accuracy: 0.9046\n",
      "Evaluating model performance on target data\n",
      "Precision: 0.5185, Recall: 0.7163, F1 Score: 0.5894, Dice Score: 0.5894, Accuracy: 0.8060\n",
      "Epoch 6, Validation Loss Source: 0.2891, Validation Loss Target: 0.6797\n",
      "Epoch 7, Batch 10/34, Total Loss: 0.5899, Segmentation Loss: 0.1550, Domain Loss Source: 0.3937, Domain Loss Target: 0.0481, Adversarial Loss Target: 0.0030\n",
      "Epoch 7, Batch 20/34, Total Loss: 0.5841, Segmentation Loss: 0.1495, Domain Loss Source: 0.1619, Domain Loss Target: 0.3052, Adversarial Loss Target: 0.0009\n",
      "Epoch 7, Batch 30/34, Total Loss: 0.5380, Segmentation Loss: 0.1232, Domain Loss Source: 0.2105, Domain Loss Target: 0.1323, Adversarial Loss Target: 0.0015\n",
      "Epoch 7, Train Loss: 2.9213\n",
      "Evaluating model performance on source data\n",
      "Precision: 0.8992, Recall: 0.5114, F1 Score: 0.6480, Dice Score: 0.6480, Accuracy: 0.9040\n",
      "Evaluating model performance on target data\n",
      "Precision: 0.5263, Recall: 0.7074, F1 Score: 0.5926, Dice Score: 0.5926, Accuracy: 0.8112\n",
      "Epoch 7, Validation Loss Source: 0.2919, Validation Loss Target: 0.6996\n",
      "Epoch 8, Batch 10/34, Total Loss: 0.5777, Segmentation Loss: 0.1456, Domain Loss Source: 0.0848, Domain Loss Target: 0.3307, Adversarial Loss Target: 0.0009\n",
      "Epoch 8, Batch 20/34, Total Loss: 0.5789, Segmentation Loss: 0.1421, Domain Loss Source: 0.1292, Domain Loss Target: 0.3300, Adversarial Loss Target: 0.0008\n",
      "Epoch 8, Batch 30/34, Total Loss: 0.5645, Segmentation Loss: 0.1154, Domain Loss Source: 0.1321, Domain Loss Target: 0.3084, Adversarial Loss Target: 0.0007\n",
      "Epoch 8, Train Loss: 2.9250\n",
      "Evaluating model performance on source data\n",
      "Precision: 0.8936, Recall: 0.5267, F1 Score: 0.6590, Dice Score: 0.6590, Accuracy: 0.9058\n",
      "Evaluating model performance on target data\n",
      "Precision: 0.5186, Recall: 0.7212, F1 Score: 0.5923, Dice Score: 0.5923, Accuracy: 0.8069\n",
      "Epoch 8, Validation Loss Source: 0.2874, Validation Loss Target: 0.7534\n",
      "Epoch 9, Batch 10/34, Total Loss: 0.5261, Segmentation Loss: 0.1383, Domain Loss Source: 0.2960, Domain Loss Target: 0.1081, Adversarial Loss Target: 0.0019\n",
      "Epoch 9, Batch 20/34, Total Loss: 0.5470, Segmentation Loss: 0.1352, Domain Loss Source: 0.3232, Domain Loss Target: 0.1489, Adversarial Loss Target: 0.0014\n",
      "Epoch 9, Batch 30/34, Total Loss: 0.5350, Segmentation Loss: 0.1087, Domain Loss Source: 0.2148, Domain Loss Target: 0.1058, Adversarial Loss Target: 0.0020\n",
      "Epoch 9, Train Loss: 2.7853\n",
      "Evaluating model performance on source data\n",
      "Precision: 0.8990, Recall: 0.5147, F1 Score: 0.6508, Dice Score: 0.6508, Accuracy: 0.9046\n",
      "Evaluating model performance on target data\n",
      "Precision: 0.5213, Recall: 0.7221, F1 Score: 0.5944, Dice Score: 0.5944, Accuracy: 0.8086\n",
      "Epoch 9, Validation Loss Source: 0.3082, Validation Loss Target: 0.7848\n",
      "Epoch 10, Batch 10/34, Total Loss: 0.5035, Segmentation Loss: 0.1316, Domain Loss Source: 0.1043, Domain Loss Target: 0.3395, Adversarial Loss Target: 0.0008\n",
      "Epoch 10, Batch 20/34, Total Loss: 0.5019, Segmentation Loss: 0.1286, Domain Loss Source: 0.1589, Domain Loss Target: 0.1747, Adversarial Loss Target: 0.0017\n",
      "Epoch 10, Batch 30/34, Total Loss: 0.4754, Segmentation Loss: 0.1025, Domain Loss Source: 0.1172, Domain Loss Target: 0.1213, Adversarial Loss Target: 0.0017\n",
      "Epoch 10, Train Loss: 2.5654\n",
      "Evaluating model performance on source data\n",
      "Precision: 0.9045, Recall: 0.4944, F1 Score: 0.6354, Dice Score: 0.6354, Accuracy: 0.9020\n",
      "Evaluating model performance on target data\n",
      "Precision: 0.5325, Recall: 0.7076, F1 Score: 0.6006, Dice Score: 0.6006, Accuracy: 0.8177\n",
      "Epoch 10, Validation Loss Source: 0.3358, Validation Loss Target: 0.7824\n",
      "Precision: 0.5325, Recall: 0.7076, F1 Score: 0.6006, Dice Score: 0.6006, Accuracy: 0.8177\n"
     ]
    },
    {
     "data": {
      "application/vnd.jupyter.widget-view+json": {
       "model_id": "c61410b8ffce45de8c1d2df2a4a1376f",
       "version_major": 2,
       "version_minor": 0
      },
      "text/plain": [
       "VBox(children=(Label(value='3140.881 MB of 3140.881 MB uploaded\\r'), FloatProgress(value=1.0, max=1.0)))"
      ]
     },
     "metadata": {},
     "output_type": "display_data"
    },
    {
     "data": {
      "text/html": [
       "<style>\n",
       "    table.wandb td:nth-child(1) { padding: 0 10px; text-align: left ; width: auto;} td:nth-child(2) {text-align: left ; width: 100%}\n",
       "    .wandb-row { display: flex; flex-direction: row; flex-wrap: wrap; justify-content: flex-start; width: 100% }\n",
       "    .wandb-col { display: flex; flex-direction: column; flex-basis: 100%; flex: 1; padding: 10px; }\n",
       "    </style>\n",
       "<div class=\"wandb-row\"><div class=\"wandb-col\"><h3>Run history:</h3><br/><table class=\"wandb\"><tr><td>dice_score/source</td><td>▁▅▇▇█████▇</td></tr><tr><td>dice_score/target</td><td>▁▃▇███████</td></tr><tr><td>epoch</td><td>▁▂▃▃▄▅▆▆▇█</td></tr><tr><td>precision/source</td><td>█▇▅▄▃▂▂▁▂▂</td></tr><tr><td>precision/target</td><td> ▁██▇▇█▇▇█</td></tr><tr><td>test/accuracy</td><td>▁</td></tr><tr><td>test/dice_score</td><td>▁</td></tr><tr><td>test/f1_score</td><td>▁</td></tr><tr><td>test/precision</td><td>▁</td></tr><tr><td>test/recall</td><td>▁</td></tr><tr><td>train/domain_loss</td><td>█▃▅▄▅▃▃▄▃▁</td></tr><tr><td>train/loss</td><td>█▄▄▃▃▂▂▂▂▁</td></tr><tr><td>val/loss_source</td><td>▁▃▃▃▃▃▄▃▅█</td></tr><tr><td>val/loss_target</td><td>▆▃▁▂▄▆▆▇██</td></tr></table><br/></div><div class=\"wandb-col\"><h3>Run summary:</h3><br/><table class=\"wandb\"><tr><td>dice_score/source</td><td>0.63538</td></tr><tr><td>dice_score/target</td><td>0.60058</td></tr><tr><td>epoch</td><td>10</td></tr><tr><td>precision/source</td><td>0.90452</td></tr><tr><td>precision/target</td><td>0.53252</td></tr><tr><td>test/accuracy</td><td>0.81768</td></tr><tr><td>test/dice_score</td><td>0.60058</td></tr><tr><td>test/f1_score</td><td>0.60058</td></tr><tr><td>test/precision</td><td>0.53252</td></tr><tr><td>test/recall</td><td>0.7076</td></tr><tr><td>train/domain_loss</td><td>0.36723</td></tr><tr><td>train/loss</td><td>2.56542</td></tr><tr><td>val/loss_source</td><td>0.33583</td></tr><tr><td>val/loss_target</td><td>0.78236</td></tr></table><br/></div></div>"
      ],
      "text/plain": [
       "<IPython.core.display.HTML object>"
      ]
     },
     "metadata": {},
     "output_type": "display_data"
    },
    {
     "data": {
      "text/html": [
       " View run <strong style=\"color:#cdcd00\">FADA-Linknet-timm-regnetx_320-window_500-600_pretrained-augmented_target-random_crops_bloodvessel_ratio01</strong> at: <a href='https://wandb.ai/idp2024/supervised-domain-adaptation/runs/qd45bcaj' target=\"_blank\">https://wandb.ai/idp2024/supervised-domain-adaptation/runs/qd45bcaj</a><br/> View project at: <a href='https://wandb.ai/idp2024/supervised-domain-adaptation' target=\"_blank\">https://wandb.ai/idp2024/supervised-domain-adaptation</a><br/>Synced 5 W&B file(s), 150 media file(s), 7 artifact file(s) and 0 other file(s)"
      ],
      "text/plain": [
       "<IPython.core.display.HTML object>"
      ]
     },
     "metadata": {},
     "output_type": "display_data"
    },
    {
     "data": {
      "text/html": [
       "Find logs at: <code>./wandb/run-20241113_215941-qd45bcaj/logs</code>"
      ],
      "text/plain": [
       "<IPython.core.display.HTML object>"
      ]
     },
     "metadata": {},
     "output_type": "display_data"
    },
    {
     "data": {
      "image/png": "[encoded data removed]",
      "text/plain": [
       "<Figure size 1000x600 with 1 Axes>"
      ]
     },
     "metadata": {},
     "output_type": "display_data"
    }
   ],
   "source": [
    "import matplotlib.pyplot as plt\n",
    "import torch\n",
    "from torch.utils.data import DataLoader, Subset\n",
    "from FADA.train_FADA_supervised import model_pipeline\n",
    "\n",
    "train_indices = [0]\n",
    "trainloader_target_labeled = DataLoader(\n",
    "    Subset(testset, train_indices),\n",
    "    batch_size=1,\n",
    "    shuffle=True,\n",
    ")\n",
    "testloader_target = DataLoader(\n",
    "    Subset(testset, list({0, 1, 2, 3, 4} - set(train_indices))),\n",
    "    batch_size=1,\n",
    "    shuffle=False,\n",
    ")\n",
    "\n",
    "encoder = \"timm-regnetx_320\"\n",
    "architecture = \"Linknet\"\n",
    "device = torch.device(\"cuda:4\" if torch.cuda.is_available() else \"cpu\")\n",
    "epochs = 10\n",
    "loss = \"BCE\"\n",
    "in_channels = 1\n",
    "ndf = 512\n",
    "learning_rate_fea = 0.001\n",
    "learning_rate_cls = 0.001\n",
    "learning_rate_dis = 0.0001\n",
    "\n",
    "config = {\n",
    "    \"model\": \"FADA-{architecture}-{encoder}-window_{window[0]}-{window[1]}_pretrained-augmented_target-random_crops_bloodvessel_ratio01\".format(\n",
    "        architecture=architecture, encoder=encoder, window=window\n",
    "    ),\n",
    "    \"encoder\": encoder,\n",
    "    \"architecture\": architecture,\n",
    "    \"in_channels\": in_channels,\n",
    "    \"optimizer\": \"Adam\",\n",
    "    \"batch_size_source\": trainloader_source.batch_size,\n",
    "    \"batch_size_target\": trainloader_target.batch_size,\n",
    "    \"learning_rate_fea\": learning_rate_fea,\n",
    "    \"learning_rate_cls\": learning_rate_cls,\n",
    "    \"learning_rate_dis\": learning_rate_dis,\n",
    "    \"ndf\": ndf,\n",
    "    \"epochs\": epochs,\n",
    "    \"seg_loss\": loss,\n",
    "    \"pretrained\": \"./models/Linknet-timm-regnetx_320-512x512-augmented-with-random-crops-single-channel-focal.pth\",\n",
    "    \"target_augmented\": target_augmented,\n",
    "    \"train_indices\": train_indices,\n",
    "}\n",
    "\n",
    "\n",
    "model, train_losses, domain_losses, val_losses_source, val_losses_target = (\n",
    "    model_pipeline(\n",
    "        trainloader_source,\n",
    "        validationloader_source,\n",
    "        testloader_source,\n",
    "        trainloader_target_labeled,\n",
    "        trainloader_target,\n",
    "        testloader_target,\n",
    "        config,\n",
    "        project=\"supervised-domain-adaptation\",\n",
    "        device=device,\n",
    "        batch_print=10,\n",
    "        evaluate=True,\n",
    "        with_overlays=True,\n",
    "    )\n",
    ")\n",
    "\n",
    "plt.figure(figsize=(10, 6))\n",
    "plt.plot(train_losses, label=\"Combined Training Loss\")\n",
    "plt.plot(domain_losses, label=\"Domain Loss\")\n",
    "plt.plot(val_losses_source, label=\"Validation Loss Source\")\n",
    "plt.plot(val_losses_target, label=\"Validation Loss Target\")\n",
    "plt.xlabel(\"Epochs\")\n",
    "plt.ylabel(\"Loss\")\n",
    "plt.title(\"Training and Validation Loss Curves\")\n",
    "plt.legend()\n",
    "plt.show()"
   ]
  },
  {
   "cell_type": "markdown",
   "metadata": {},
   "source": [
    "### Gaussian Autoencoder"
   ]
  },
  {
   "cell_type": "markdown",
   "metadata": {},
   "source": [
    "#### Training"
   ]
  },
  {
   "cell_type": "code",
   "execution_count": 1,
   "metadata": {},
   "outputs": [
    {
     "name": "stderr",
     "output_type": "stream",
     "text": [
      "Failed to detect the name of this notebook, you can set it manually with the WANDB_NOTEBOOK_NAME environment variable to enable code saving.\n",
      "\u001b[34m\u001b[1mwandb\u001b[0m: Currently logged in as: \u001b[33mtim-mach\u001b[0m (\u001b[33midp2024\u001b[0m). Use \u001b[1m`wandb login --relogin`\u001b[0m to force relogin\n"
     ]
    },
    {
     "data": {
      "text/html": [
       "wandb version 0.19.3 is available!  To upgrade, please run:\n",
       " $ pip install wandb --upgrade"
      ],
      "text/plain": [
       "<IPython.core.display.HTML object>"
      ]
     },
     "metadata": {},
     "output_type": "display_data"
    },
    {
     "data": {
      "text/html": [
       "Tracking run with wandb version 0.16.6"
      ],
      "text/plain": [
       "<IPython.core.display.HTML object>"
      ]
     },
     "metadata": {},
     "output_type": "display_data"
    },
    {
     "data": {
      "text/html": [
       "Run data is saved locally in <code>/home/home/tim_ivan/idp/wandb/run-20250115_122822-yet20tct</code>"
      ],
      "text/plain": [
       "<IPython.core.display.HTML object>"
      ]
     },
     "metadata": {},
     "output_type": "display_data"
    },
    {
     "data": {
      "text/html": [
       "Syncing run <strong><a href='https://wandb.ai/idp2024/hsi-autoencoder/runs/yet20tct' target=\"_blank\">gcr-comic-sweep-trained-longer</a></strong> to <a href='https://wandb.ai/idp2024/hsi-autoencoder' target=\"_blank\">Weights & Biases</a> (<a href='https://wandb.me/run' target=\"_blank\">docs</a>)<br/>"
      ],
      "text/plain": [
       "<IPython.core.display.HTML object>"
      ]
     },
     "metadata": {},
     "output_type": "display_data"
    },
    {
     "data": {
      "text/html": [
       " View project at <a href='https://wandb.ai/idp2024/hsi-autoencoder' target=\"_blank\">https://wandb.ai/idp2024/hsi-autoencoder</a>"
      ],
      "text/plain": [
       "<IPython.core.display.HTML object>"
      ]
     },
     "metadata": {},
     "output_type": "display_data"
    },
    {
     "data": {
      "text/html": [
       " View run at <a href='https://wandb.ai/idp2024/hsi-autoencoder/runs/yet20tct' target=\"_blank\">https://wandb.ai/idp2024/hsi-autoencoder/runs/yet20tct</a>"
      ],
      "text/plain": [
       "<IPython.core.display.HTML object>"
      ]
     },
     "metadata": {},
     "output_type": "display_data"
    },
    {
     "name": "stdout",
     "output_type": "stream",
     "text": [
      "Epoch 1, Batch 5, Loss: 0.2909\n",
      "Epoch 1, Batch 10, Loss: 0.2733\n",
      "Epoch 1, Batch 15, Loss: 0.2472\n",
      "Epoch 1, Train Loss: 0.2650\n",
      "Precision: 0.4655, Recall: 0.4525, F1 Score: 0.4482, Dice Score: 0.4482, Accuracy: 0.7844\n",
      "Epoch 1, Validation Loss: 0.5848\n",
      "Epoch 2, Batch 5, Loss: 0.2467\n",
      "Epoch 2, Batch 10, Loss: 0.2359\n",
      "Epoch 2, Batch 15, Loss: 0.2991\n",
      "Epoch 2, Train Loss: 0.2607\n",
      "Precision: 0.4654, Recall: 0.4529, F1 Score: 0.4484, Dice Score: 0.4484, Accuracy: 0.7843\n",
      "Epoch 2, Validation Loss: 0.5796\n",
      "Epoch 3, Batch 5, Loss: 0.2650\n",
      "Epoch 3, Batch 10, Loss: 0.2774\n",
      "Epoch 3, Batch 15, Loss: 0.2412\n",
      "Epoch 3, Train Loss: 0.2622\n",
      "Precision: 0.4653, Recall: 0.4533, F1 Score: 0.4486, Dice Score: 0.4486, Accuracy: 0.7843\n",
      "Epoch 3, Validation Loss: 0.5740\n",
      "Epoch 4, Batch 5, Loss: 0.2247\n",
      "Epoch 4, Batch 10, Loss: 0.2669\n",
      "Epoch 4, Batch 15, Loss: 0.2823\n",
      "Epoch 4, Train Loss: 0.2642\n",
      "Precision: 0.4651, Recall: 0.4537, F1 Score: 0.4487, Dice Score: 0.4487, Accuracy: 0.7842\n",
      "Epoch 4, Validation Loss: 0.5687\n",
      "Epoch 5, Batch 5, Loss: 0.2611\n",
      "Epoch 5, Batch 10, Loss: 0.2618\n",
      "Epoch 5, Batch 15, Loss: 0.2594\n",
      "Epoch 5, Train Loss: 0.2532\n",
      "Precision: 0.4647, Recall: 0.4537, F1 Score: 0.4486, Dice Score: 0.4486, Accuracy: 0.7841\n",
      "Epoch 5, Validation Loss: 0.5631\n",
      "Epoch 6, Batch 5, Loss: 0.2551\n",
      "Epoch 6, Batch 10, Loss: 0.2460\n",
      "Epoch 6, Batch 15, Loss: 0.2792\n",
      "Epoch 6, Train Loss: 0.2542\n",
      "Precision: 0.4644, Recall: 0.4538, F1 Score: 0.4485, Dice Score: 0.4485, Accuracy: 0.7840\n",
      "Epoch 6, Validation Loss: 0.5579\n",
      "Epoch 7, Batch 5, Loss: 0.2596\n",
      "Epoch 7, Batch 10, Loss: 0.2508\n",
      "Epoch 7, Batch 15, Loss: 0.2467\n",
      "Epoch 7, Train Loss: 0.2550\n",
      "Precision: 0.4643, Recall: 0.4539, F1 Score: 0.4485, Dice Score: 0.4485, Accuracy: 0.7840\n",
      "Epoch 7, Validation Loss: 0.5527\n",
      "Epoch 8, Batch 5, Loss: 0.2466\n",
      "Epoch 8, Batch 10, Loss: 0.2848\n",
      "Epoch 8, Batch 15, Loss: 0.2230\n",
      "Epoch 8, Train Loss: 0.2508\n",
      "Precision: 0.4641, Recall: 0.4541, F1 Score: 0.4485, Dice Score: 0.4485, Accuracy: 0.7839\n",
      "Epoch 8, Validation Loss: 0.5475\n",
      "Epoch 9, Batch 5, Loss: 0.2385\n",
      "Epoch 9, Batch 10, Loss: 0.2187\n",
      "Epoch 9, Batch 15, Loss: 0.2962\n",
      "Epoch 9, Train Loss: 0.2464\n",
      "Precision: 0.4640, Recall: 0.4544, F1 Score: 0.4486, Dice Score: 0.4486, Accuracy: 0.7838\n",
      "Epoch 9, Validation Loss: 0.5426\n",
      "Epoch 10, Batch 5, Loss: 0.2100\n",
      "Epoch 10, Batch 10, Loss: 0.2520\n",
      "Epoch 10, Batch 15, Loss: 0.2724\n",
      "Epoch 10, Train Loss: 0.2436\n",
      "Precision: 0.4638, Recall: 0.4545, F1 Score: 0.4486, Dice Score: 0.4486, Accuracy: 0.7838\n",
      "Epoch 10, Validation Loss: 0.5376\n",
      "Epoch 11, Batch 5, Loss: 0.2494\n",
      "Epoch 11, Batch 10, Loss: 0.2227\n",
      "Epoch 11, Batch 15, Loss: 0.2504\n",
      "Epoch 11, Train Loss: 0.2461\n",
      "Precision: 0.4636, Recall: 0.4546, F1 Score: 0.4486, Dice Score: 0.4486, Accuracy: 0.7837\n",
      "Epoch 11, Validation Loss: 0.5325\n",
      "Epoch 12, Batch 5, Loss: 0.2328\n",
      "Epoch 12, Batch 10, Loss: 0.2703\n",
      "Epoch 12, Batch 15, Loss: 0.2372\n",
      "Epoch 12, Train Loss: 0.2396\n",
      "Precision: 0.4635, Recall: 0.4546, F1 Score: 0.4485, Dice Score: 0.4485, Accuracy: 0.7836\n",
      "Epoch 12, Validation Loss: 0.5275\n",
      "Epoch 13, Batch 5, Loss: 0.2421\n",
      "Epoch 13, Batch 10, Loss: 0.2131\n",
      "Epoch 13, Batch 15, Loss: 0.2553\n",
      "Epoch 13, Train Loss: 0.2383\n",
      "Precision: 0.4633, Recall: 0.4548, F1 Score: 0.4485, Dice Score: 0.4485, Accuracy: 0.7835\n",
      "Epoch 13, Validation Loss: 0.5227\n",
      "Epoch 14, Batch 5, Loss: 0.2226\n",
      "Epoch 14, Batch 10, Loss: 0.2623\n",
      "Epoch 14, Batch 15, Loss: 0.2304\n",
      "Epoch 14, Train Loss: 0.2350\n",
      "Precision: 0.4633, Recall: 0.4550, F1 Score: 0.4486, Dice Score: 0.4486, Accuracy: 0.7836\n",
      "Epoch 14, Validation Loss: 0.5179\n",
      "Epoch 15, Batch 5, Loss: 0.2548\n",
      "Epoch 15, Batch 10, Loss: 0.2548\n",
      "Epoch 15, Batch 15, Loss: 0.2125\n",
      "Epoch 15, Train Loss: 0.2371\n",
      "Precision: 0.4633, Recall: 0.4551, F1 Score: 0.4487, Dice Score: 0.4487, Accuracy: 0.7836\n",
      "Epoch 15, Validation Loss: 0.5130\n",
      "Epoch 16, Batch 5, Loss: 0.2231\n",
      "Epoch 16, Batch 10, Loss: 0.2863\n",
      "Epoch 16, Batch 15, Loss: 0.1922\n",
      "Epoch 16, Train Loss: 0.2286\n",
      "Precision: 0.4634, Recall: 0.4553, F1 Score: 0.4488, Dice Score: 0.4488, Accuracy: 0.7836\n",
      "Epoch 16, Validation Loss: 0.5082\n",
      "Epoch 17, Batch 5, Loss: 0.2471\n",
      "Epoch 17, Batch 10, Loss: 0.2156\n",
      "Epoch 17, Batch 15, Loss: 0.2230\n",
      "Epoch 17, Train Loss: 0.2339\n",
      "Precision: 0.4633, Recall: 0.4553, F1 Score: 0.4488, Dice Score: 0.4488, Accuracy: 0.7836\n",
      "Epoch 17, Validation Loss: 0.5037\n",
      "Epoch 18, Batch 5, Loss: 0.1872\n",
      "Epoch 18, Batch 10, Loss: 0.2095\n",
      "Epoch 18, Batch 15, Loss: 0.2693\n",
      "Epoch 18, Train Loss: 0.2261\n",
      "Precision: 0.4633, Recall: 0.4551, F1 Score: 0.4487, Dice Score: 0.4487, Accuracy: 0.7836\n",
      "Epoch 18, Validation Loss: 0.4992\n",
      "Epoch 19, Batch 5, Loss: 0.2473\n",
      "Epoch 19, Batch 10, Loss: 0.2200\n",
      "Epoch 19, Batch 15, Loss: 0.2048\n",
      "Epoch 19, Train Loss: 0.2294\n",
      "Precision: 0.4632, Recall: 0.4551, F1 Score: 0.4487, Dice Score: 0.4487, Accuracy: 0.7835\n",
      "Epoch 19, Validation Loss: 0.4945\n",
      "Epoch 20, Batch 5, Loss: 0.2094\n",
      "Epoch 20, Batch 10, Loss: 0.2083\n",
      "Epoch 20, Batch 15, Loss: 0.2405\n",
      "Epoch 20, Train Loss: 0.2180\n",
      "Precision: 0.4629, Recall: 0.4548, F1 Score: 0.4484, Dice Score: 0.4484, Accuracy: 0.7834\n",
      "Epoch 20, Validation Loss: 0.4900\n",
      "Epoch 21, Batch 5, Loss: 0.2271\n",
      "Epoch 21, Batch 10, Loss: 0.2160\n",
      "Epoch 21, Batch 15, Loss: 0.2136\n",
      "Epoch 21, Train Loss: 0.2206\n",
      "Precision: 0.4629, Recall: 0.4545, F1 Score: 0.4482, Dice Score: 0.4482, Accuracy: 0.7834\n",
      "Epoch 21, Validation Loss: 0.4855\n",
      "Epoch 22, Batch 5, Loss: 0.2575\n",
      "Epoch 22, Batch 10, Loss: 0.2072\n",
      "Epoch 22, Batch 15, Loss: 0.1910\n",
      "Epoch 22, Train Loss: 0.2216\n",
      "Precision: 0.4628, Recall: 0.4539, F1 Score: 0.4479, Dice Score: 0.4479, Accuracy: 0.7834\n",
      "Epoch 22, Validation Loss: 0.4810\n",
      "Epoch 23, Batch 5, Loss: 0.1905\n",
      "Epoch 23, Batch 10, Loss: 0.2378\n",
      "Epoch 23, Batch 15, Loss: 0.2174\n",
      "Epoch 23, Train Loss: 0.2168\n",
      "Precision: 0.4625, Recall: 0.4533, F1 Score: 0.4475, Dice Score: 0.4475, Accuracy: 0.7833\n",
      "Epoch 23, Validation Loss: 0.4767\n",
      "Epoch 24, Batch 5, Loss: 0.2465\n",
      "Epoch 24, Batch 10, Loss: 0.2047\n",
      "Epoch 24, Batch 15, Loss: 0.1919\n",
      "Epoch 24, Train Loss: 0.2075\n",
      "Precision: 0.4625, Recall: 0.4525, F1 Score: 0.4471, Dice Score: 0.4471, Accuracy: 0.7833\n",
      "Epoch 24, Validation Loss: 0.4722\n",
      "Epoch 25, Batch 5, Loss: 0.2189\n",
      "Epoch 25, Batch 10, Loss: 0.2125\n",
      "Epoch 25, Batch 15, Loss: 0.2054\n",
      "Epoch 25, Train Loss: 0.2100\n",
      "Precision: 0.4625, Recall: 0.4517, F1 Score: 0.4467, Dice Score: 0.4467, Accuracy: 0.7833\n",
      "Epoch 25, Validation Loss: 0.4681\n"
     ]
    },
    {
     "data": {
      "application/vnd.jupyter.widget-view+json": {
       "model_id": "ca89fd04b61b44729c17a1952b67ab66",
       "version_major": 2,
       "version_minor": 0
      },
      "text/plain": [
       "VBox(children=(Label(value='2.146 MB of 2.146 MB uploaded\\r'), FloatProgress(value=1.0, max=1.0)))"
      ]
     },
     "metadata": {},
     "output_type": "display_data"
    },
    {
     "data": {
      "text/html": [
       "<style>\n",
       "    table.wandb td:nth-child(1) { padding: 0 10px; text-align: left ; width: auto;} td:nth-child(2) {text-align: left ; width: 100%}\n",
       "    .wandb-row { display: flex; flex-direction: row; flex-wrap: wrap; justify-content: flex-start; width: 100% }\n",
       "    .wandb-col { display: flex; flex-direction: column; flex-basis: 100%; flex: 1; padding: 10px; }\n",
       "    </style>\n",
       "<div class=\"wandb-row\"><div class=\"wandb-col\"><h3>Run history:</h3><br/><table class=\"wandb\"><tr><td>dice_score</td><td>▆▆▇█▇▇▇▇▇▇▇▇▇▇████▇▆▆▅▄▂▁</td></tr><tr><td>epoch</td><td>▁▁▂▂▂▂▃▃▃▄▄▄▅▅▅▅▆▆▆▇▇▇▇██</td></tr><tr><td>precision</td><td>██▇▇▆▆▅▅▅▄▄▃▃▃▃▃▃▃▃▂▂▂▁▁▁</td></tr><tr><td>train/loss</td><td>█▇██▇▇▇▆▆▅▆▅▅▄▅▄▄▃▄▂▃▃▂▁▁</td></tr><tr><td>validation/loss</td><td>██▇▇▇▆▆▆▅▅▅▅▄▄▄▃▃▃▃▂▂▂▂▁▁</td></tr></table><br/></div><div class=\"wandb-col\"><h3>Run summary:</h3><br/><table class=\"wandb\"><tr><td>dice_score</td><td>0.44666</td></tr><tr><td>epoch</td><td>25</td></tr><tr><td>precision</td><td>0.46247</td></tr><tr><td>train/loss</td><td>0.20998</td></tr><tr><td>validation/loss</td><td>0.46807</td></tr></table><br/></div></div>"
      ],
      "text/plain": [
       "<IPython.core.display.HTML object>"
      ]
     },
     "metadata": {},
     "output_type": "display_data"
    },
    {
     "data": {
      "text/html": [
       " View run <strong style=\"color:#cdcd00\">gcr-comic-sweep-trained-longer</strong> at: <a href='https://wandb.ai/idp2024/hsi-autoencoder/runs/yet20tct' target=\"_blank\">https://wandb.ai/idp2024/hsi-autoencoder/runs/yet20tct</a><br/> View project at: <a href='https://wandb.ai/idp2024/hsi-autoencoder' target=\"_blank\">https://wandb.ai/idp2024/hsi-autoencoder</a><br/>Synced 5 W&B file(s), 50 media file(s), 0 artifact file(s) and 0 other file(s)"
      ],
      "text/plain": [
       "<IPython.core.display.HTML object>"
      ]
     },
     "metadata": {},
     "output_type": "display_data"
    },
    {
     "data": {
      "text/html": [
       "Find logs at: <code>./wandb/run-20250115_122822-yet20tct/logs</code>"
      ],
      "text/plain": [
       "<IPython.core.display.HTML object>"
      ]
     },
     "metadata": {},
     "output_type": "display_data"
    },
    {
     "data": {
      "text/plain": [
       "(GaussianAutoEncoder(\n",
       "   (encoder): GaussianChannelReduction()\n",
       "   (decoder): Sequential(\n",
       "     (0): Conv2d(3, 826, kernel_size=(1, 1), stride=(1, 1))\n",
       "   )\n",
       " ),\n",
       " [0.26498704589903355,\n",
       "  0.26065779477357864,\n",
       "  0.26216429099440575,\n",
       "  0.2642474053427577,\n",
       "  0.25316854286938906,\n",
       "  0.2541518956422806,\n",
       "  0.25495866034179926,\n",
       "  0.25081960670650005,\n",
       "  0.24636503402143717,\n",
       "  0.24360113125294447,\n",
       "  0.24611327424645424,\n",
       "  0.23962208162993193,\n",
       "  0.23826881125569344,\n",
       "  0.2349787252023816,\n",
       "  0.2370747309178114,\n",
       "  0.22864695638418198,\n",
       "  0.23393349163234234,\n",
       "  0.22605776879936457,\n",
       "  0.22936534835025668,\n",
       "  0.2180381240323186,\n",
       "  0.22055898141115904,\n",
       "  0.2216031150892377,\n",
       "  0.21681103017181158,\n",
       "  0.20754558499902487,\n",
       "  0.2099823895841837],\n",
       " [0.584813916683197,\n",
       "  0.5795517534017562,\n",
       "  0.5740000367164612,\n",
       "  0.5687262386083602,\n",
       "  0.56311194896698,\n",
       "  0.5579179108142853,\n",
       "  0.5527239143848419,\n",
       "  0.5474654883146286,\n",
       "  0.5425585150718689,\n",
       "  0.5375813484191895,\n",
       "  0.5325294882059097,\n",
       "  0.5274864673614502,\n",
       "  0.5226892530918121,\n",
       "  0.5178719848394394,\n",
       "  0.5129738032817841,\n",
       "  0.5081985890865326,\n",
       "  0.5036927103996277,\n",
       "  0.4992492079734802,\n",
       "  0.49451372027397156,\n",
       "  0.4899649441242218,\n",
       "  0.4855357617139816,\n",
       "  0.48095378577709197,\n",
       "  0.4766536295413971,\n",
       "  0.4721909373998642,\n",
       "  0.4680668652057648])"
      ]
     },
     "execution_count": 1,
     "metadata": {},
     "output_type": "execute_result"
    }
   ],
   "source": [
    "from dataset import build_hsi_dataloader, HSIDataset, build_hsi_testloader\n",
    "from dimensionality_reduction.autoencoder import (\n",
    "    GaussianAutoEncoder,\n",
    "    model_pipeline_autoencoder,\n",
    "    build_and_store_gcr,\n",
    ")\n",
    "import torch\n",
    "\n",
    "device = torch.device(\"cuda:2\" if torch.cuda.is_available() else \"cpu\")\n",
    "config = {\n",
    "    \"model\": \"gcr-comic-sweep-trained-longer\",\n",
    "    \"optimizer\": \"Adam\",\n",
    "    \"lr_encoder\": 0.003991856255637263,\n",
    "    \"lr_decoder\": 0.0001405199848490131,\n",
    "    \"batch_size\": 4,\n",
    "    \"epochs\": 25,\n",
    "    \"mu\": [335, 267, 131],\n",
    "    \"sigma\": [1, 1, 1],\n",
    "}\n",
    "\n",
    "model_pipeline_autoencoder(\n",
    "    config,\n",
    "    project=\"hsi-autoencoder\",\n",
    "    epochs=25,\n",
    "    device=device,\n",
    "    batch_print=5,\n",
    "    save_wandb=False\n",
    ")"
   ]
  },
  {
   "cell_type": "markdown",
   "metadata": {},
   "source": [
    "#### Gaussian reduction + DA"
   ]
  },
  {
   "cell_type": "code",
   "execution_count": 1,
   "metadata": {},
   "outputs": [
    {
     "name": "stderr",
     "output_type": "stream",
     "text": [
      "Failed to detect the name of this notebook, you can set it manually with the WANDB_NOTEBOOK_NAME environment variable to enable code saving.\n"
     ]
    },
    {
     "name": "stdout",
     "output_type": "stream",
     "text": [
      "Number of samples in the training set: 534, validation set: 60\n",
      "Number of samples in the test set: 200\n"
     ]
    },
    {
     "name": "stderr",
     "output_type": "stream",
     "text": [
      "\u001b[34m\u001b[1mwandb\u001b[0m: Currently logged in as: \u001b[33mtim-mach\u001b[0m (\u001b[33midp2024\u001b[0m). Use \u001b[1m`wandb login --relogin`\u001b[0m to force relogin\n"
     ]
    },
    {
     "data": {
      "text/html": [
       "wandb version 0.19.3 is available!  To upgrade, please run:\n",
       " $ pip install wandb --upgrade"
      ],
      "text/plain": [
       "<IPython.core.display.HTML object>"
      ]
     },
     "metadata": {},
     "output_type": "display_data"
    },
    {
     "data": {
      "text/html": [
       "Tracking run with wandb version 0.16.6"
      ],
      "text/plain": [
       "<IPython.core.display.HTML object>"
      ]
     },
     "metadata": {},
     "output_type": "display_data"
    },
    {
     "data": {
      "text/html": [
       "Run data is saved locally in <code>/home/home/tim_ivan/idp/wandb/run-20250115_115413-9ebzcxi7</code>"
      ],
      "text/plain": [
       "<IPython.core.display.HTML object>"
      ]
     },
     "metadata": {},
     "output_type": "display_data"
    },
    {
     "data": {
      "text/html": [
       "Syncing run <strong><a href='https://wandb.ai/idp2024/domain-adaptation/runs/9ebzcxi7' target=\"_blank\">FADA-Linknet-timm-regnetx_320-gcr_comic-sweep_pretrained-augmented_target-random_crops_bloodvessel_ratio01-unsupervised</a></strong> to <a href='https://wandb.ai/idp2024/domain-adaptation' target=\"_blank\">Weights & Biases</a> (<a href='https://wandb.me/run' target=\"_blank\">docs</a>)<br/>"
      ],
      "text/plain": [
       "<IPython.core.display.HTML object>"
      ]
     },
     "metadata": {},
     "output_type": "display_data"
    },
    {
     "data": {
      "text/html": [
       " View project at <a href='https://wandb.ai/idp2024/domain-adaptation' target=\"_blank\">https://wandb.ai/idp2024/domain-adaptation</a>"
      ],
      "text/plain": [
       "<IPython.core.display.HTML object>"
      ]
     },
     "metadata": {},
     "output_type": "display_data"
    },
    {
     "data": {
      "text/html": [
       " View run at <a href='https://wandb.ai/idp2024/domain-adaptation/runs/9ebzcxi7' target=\"_blank\">https://wandb.ai/idp2024/domain-adaptation/runs/9ebzcxi7</a>"
      ],
      "text/plain": [
       "<IPython.core.display.HTML object>"
      ]
     },
     "metadata": {},
     "output_type": "display_data"
    },
    {
     "name": "stdout",
     "output_type": "stream",
     "text": [
      "Loading pretrained model from ./models/serene-sweep-9.pth\n",
      "Using Gaussian Channel Reduction\n"
     ]
    },
    {
     "name": "stderr",
     "output_type": "stream",
     "text": [
      "/home/home/tim_ivan/idp/.venv/lib/python3.8/site-packages/torch/nn/modules/conv.py:456: UserWarning: Plan failed with a cudnnException: CUDNN_BACKEND_EXECUTION_PLAN_DESCRIPTOR: cudnnFinalize Descriptor Failed cudnn_status: CUDNN_STATUS_NOT_SUPPORTED (Triggered internally at ../aten/src/ATen/native/cudnn/Conv_v8.cpp:919.)\n",
      "  return F.conv2d(input, weight, bias, self.stride,\n",
      "/home/home/tim_ivan/idp/.venv/lib/python3.8/site-packages/torch/autograd/graph.py:744: UserWarning: Plan failed with a cudnnException: CUDNN_BACKEND_EXECUTION_PLAN_DESCRIPTOR: cudnnFinalize Descriptor Failed cudnn_status: CUDNN_STATUS_NOT_SUPPORTED (Triggered internally at ../aten/src/ATen/native/cudnn/Conv_v8.cpp:919.)\n",
      "  return Variable._execution_engine.run_backward(  # Calls into the C++ engine to run the backward pass\n"
     ]
    },
    {
     "name": "stdout",
     "output_type": "stream",
     "text": [
      "Epoch 1, Batch 5/34, Total Loss: 4.9166, Segmentation Loss: 0.2590, Domain Loss Source: 0.0000, Domain Loss Target: 9.0312, Adversarial Loss Target: 0.0000\n",
      "Epoch 1, Batch 10/34, Total Loss: 1.7854, Segmentation Loss: 0.2620, Domain Loss Source: 0.2797, Domain Loss Target: 0.3624, Adversarial Loss Target: 0.0006\n",
      "Epoch 1, Batch 15/34, Total Loss: 1.1583, Segmentation Loss: 0.2092, Domain Loss Source: 0.7618, Domain Loss Target: 0.1001, Adversarial Loss Target: 0.0016\n",
      "Epoch 1, Batch 20/34, Total Loss: 0.9656, Segmentation Loss: 0.2295, Domain Loss Source: 0.1748, Domain Loss Target: 0.5135, Adversarial Loss Target: 0.0004\n",
      "Epoch 1, Batch 25/34, Total Loss: 0.8674, Segmentation Loss: 0.1388, Domain Loss Source: 0.1911, Domain Loss Target: 0.4740, Adversarial Loss Target: 0.0004\n",
      "Epoch 1, Batch 30/34, Total Loss: 0.8252, Segmentation Loss: 0.1460, Domain Loss Source: 0.4454, Domain Loss Target: 0.2020, Adversarial Loss Target: 0.0009\n",
      "Epoch 1, Train Loss: 4.7005\n"
     ]
    },
    {
     "name": "stderr",
     "output_type": "stream",
     "text": [
      "/home/home/tim_ivan/idp/.venv/lib/python3.8/site-packages/torch/nn/modules/conv.py:456: UserWarning: Plan failed with a cudnnException: CUDNN_BACKEND_EXECUTION_PLAN_DESCRIPTOR: cudnnFinalize Descriptor Failed cudnn_status: CUDNN_STATUS_NOT_SUPPORTED (Triggered internally at ../aten/src/ATen/native/cudnn/Conv_v8.cpp:919.)\n",
      "  return F.conv2d(input, weight, bias, self.stride,\n"
     ]
    },
    {
     "name": "stdout",
     "output_type": "stream",
     "text": [
      "Evaluating model performance on source data\n",
      "Precision: 0.9181, Recall: 0.5615, F1 Score: 0.6948, Dice Score: 0.6948, Accuracy: 0.9147\n",
      "Evaluating model performance on target data\n",
      "Precision: 0.5151, Recall: 0.5436, F1 Score: 0.5246, Dice Score: 0.5246, Accuracy: 0.8072\n",
      "Epoch 1, Validation Loss Source: 0.2797, Validation Loss Target: 0.8326\n",
      "Epoch 2, Batch 5/34, Total Loss: 0.7925, Segmentation Loss: 0.2047, Domain Loss Source: 0.2247, Domain Loss Target: 0.3877, Adversarial Loss Target: 0.0005\n",
      "Epoch 2, Batch 10/34, Total Loss: 0.7661, Segmentation Loss: 0.1439, Domain Loss Source: 0.3419, Domain Loss Target: 0.2884, Adversarial Loss Target: 0.0007\n",
      "Epoch 2, Batch 15/34, Total Loss: 0.7512, Segmentation Loss: 0.1254, Domain Loss Source: 0.3471, Domain Loss Target: 0.2665, Adversarial Loss Target: 0.0007\n",
      "Epoch 2, Batch 20/34, Total Loss: 0.7387, Segmentation Loss: 0.1365, Domain Loss Source: 0.3221, Domain Loss Target: 0.2717, Adversarial Loss Target: 0.0007\n",
      "Epoch 2, Batch 25/34, Total Loss: 0.7085, Segmentation Loss: 0.0939, Domain Loss Source: 0.3186, Domain Loss Target: 0.2585, Adversarial Loss Target: 0.0008\n",
      "Epoch 2, Batch 30/34, Total Loss: 0.7002, Segmentation Loss: 0.1168, Domain Loss Source: 0.2381, Domain Loss Target: 0.3108, Adversarial Loss Target: 0.0007\n",
      "Epoch 2, Train Loss: 2.1763\n",
      "Evaluating model performance on source data\n",
      "Precision: 0.8811, Recall: 0.6730, F1 Score: 0.7617, Dice Score: 0.7617, Accuracy: 0.9271\n",
      "Evaluating model performance on target data\n",
      "Precision: 0.4871, Recall: 0.6093, F1 Score: 0.5336, Dice Score: 0.5336, Accuracy: 0.7912\n",
      "Epoch 2, Validation Loss Source: 0.2478, Validation Loss Target: 1.0133\n",
      "Epoch 3, Batch 5/34, Total Loss: 0.7161, Segmentation Loss: 0.1902, Domain Loss Source: 0.2002, Domain Loss Target: 0.4075, Adversarial Loss Target: 0.0005\n",
      "Epoch 3, Batch 10/34, Total Loss: 0.7257, Segmentation Loss: 0.1328, Domain Loss Source: 0.2546, Domain Loss Target: 0.3355, Adversarial Loss Target: 0.0006\n",
      "Epoch 3, Batch 15/34, Total Loss: 0.6963, Segmentation Loss: 0.1133, Domain Loss Source: 0.2591, Domain Loss Target: 0.3079, Adversarial Loss Target: 0.0007\n",
      "Epoch 3, Batch 20/34, Total Loss: 0.6831, Segmentation Loss: 0.1181, Domain Loss Source: 0.1850, Domain Loss Target: 0.3804, Adversarial Loss Target: 0.0006\n",
      "Epoch 3, Batch 25/34, Total Loss: 0.6801, Segmentation Loss: 0.0837, Domain Loss Source: 0.2349, Domain Loss Target: 0.2802, Adversarial Loss Target: 0.0007\n",
      "Epoch 3, Batch 30/34, Total Loss: 0.6708, Segmentation Loss: 0.1048, Domain Loss Source: 0.2718, Domain Loss Target: 0.2372, Adversarial Loss Target: 0.0009\n",
      "Epoch 3, Train Loss: 2.0331\n",
      "Evaluating model performance on source data\n",
      "Precision: 0.8845, Recall: 0.6778, F1 Score: 0.7660, Dice Score: 0.7660, Accuracy: 0.9283\n",
      "Evaluating model performance on target data\n",
      "Precision: 0.4830, Recall: 0.6323, F1 Score: 0.5425, Dice Score: 0.5425, Accuracy: 0.7911\n",
      "Epoch 3, Validation Loss Source: 0.2627, Validation Loss Target: 0.9941\n",
      "Epoch 4, Batch 5/34, Total Loss: 0.6564, Segmentation Loss: 0.1811, Domain Loss Source: 0.2166, Domain Loss Target: 0.3094, Adversarial Loss Target: 0.0008\n",
      "Epoch 4, Batch 10/34, Total Loss: 0.6701, Segmentation Loss: 0.1168, Domain Loss Source: 0.2680, Domain Loss Target: 0.2639, Adversarial Loss Target: 0.0008\n",
      "Epoch 4, Batch 15/34, Total Loss: 0.6695, Segmentation Loss: 0.1051, Domain Loss Source: 0.3614, Domain Loss Target: 0.1729, Adversarial Loss Target: 0.0011\n",
      "Epoch 4, Batch 20/34, Total Loss: 0.6389, Segmentation Loss: 0.0988, Domain Loss Source: 0.2988, Domain Loss Target: 0.2088, Adversarial Loss Target: 0.0011\n",
      "Epoch 4, Batch 25/34, Total Loss: 0.6265, Segmentation Loss: 0.0745, Domain Loss Source: 0.1813, Domain Loss Target: 0.3039, Adversarial Loss Target: 0.0007\n",
      "Epoch 4, Batch 30/34, Total Loss: 0.6656, Segmentation Loss: 0.0976, Domain Loss Source: 0.1454, Domain Loss Target: 0.5026, Adversarial Loss Target: 0.0004\n",
      "Epoch 4, Train Loss: 1.9180\n",
      "Evaluating model performance on source data\n",
      "Precision: 0.8861, Recall: 0.6968, F1 Score: 0.7787, Dice Score: 0.7787, Accuracy: 0.9315\n",
      "Evaluating model performance on target data\n",
      "Precision: 0.4747, Recall: 0.6694, F1 Score: 0.5479, Dice Score: 0.5479, Accuracy: 0.7825\n",
      "Epoch 4, Validation Loss Source: 0.2506, Validation Loss Target: 1.0308\n",
      "Epoch 5, Batch 5/34, Total Loss: 0.6880, Segmentation Loss: 0.1709, Domain Loss Source: 0.1718, Domain Loss Target: 0.3618, Adversarial Loss Target: 0.0006\n",
      "Epoch 5, Batch 10/34, Total Loss: 0.6626, Segmentation Loss: 0.1075, Domain Loss Source: 0.2853, Domain Loss Target: 0.2304, Adversarial Loss Target: 0.0009\n",
      "Epoch 5, Batch 15/34, Total Loss: 0.6417, Segmentation Loss: 0.0980, Domain Loss Source: 0.2724, Domain Loss Target: 0.2464, Adversarial Loss Target: 0.0009\n",
      "Epoch 5, Batch 20/34, Total Loss: 0.6587, Segmentation Loss: 0.0908, Domain Loss Source: 0.1659, Domain Loss Target: 0.4953, Adversarial Loss Target: 0.0004\n",
      "Epoch 5, Batch 25/34, Total Loss: 0.6304, Segmentation Loss: 0.0683, Domain Loss Source: 0.2530, Domain Loss Target: 0.3145, Adversarial Loss Target: 0.0007\n",
      "Epoch 5, Batch 30/34, Total Loss: 0.6607, Segmentation Loss: 0.0889, Domain Loss Source: 0.3747, Domain Loss Target: 0.1586, Adversarial Loss Target: 0.0012\n",
      "Epoch 5, Train Loss: 1.9191\n",
      "Evaluating model performance on source data\n",
      "Precision: 0.8880, Recall: 0.6918, F1 Score: 0.7763, Dice Score: 0.7763, Accuracy: 0.9311\n",
      "Evaluating model performance on target data\n",
      "Precision: 0.4831, Recall: 0.6623, F1 Score: 0.5519, Dice Score: 0.5519, Accuracy: 0.7885\n",
      "Epoch 5, Validation Loss Source: 0.2695, Validation Loss Target: 1.0361\n",
      "Epoch 6, Batch 5/34, Total Loss: 0.6295, Segmentation Loss: 0.1648, Domain Loss Source: 0.2762, Domain Loss Target: 0.2107, Adversarial Loss Target: 0.0011\n",
      "Epoch 6, Batch 10/34, Total Loss: 0.6384, Segmentation Loss: 0.0996, Domain Loss Source: 0.2193, Domain Loss Target: 0.3786, Adversarial Loss Target: 0.0006\n",
      "Epoch 6, Batch 15/34, Total Loss: 0.6441, Segmentation Loss: 0.0903, Domain Loss Source: 0.2671, Domain Loss Target: 0.3363, Adversarial Loss Target: 0.0007\n",
      "Epoch 6, Batch 20/34, Total Loss: 0.6363, Segmentation Loss: 0.0837, Domain Loss Source: 0.1336, Domain Loss Target: 0.4264, Adversarial Loss Target: 0.0005\n",
      "Epoch 6, Batch 25/34, Total Loss: 0.5937, Segmentation Loss: 0.0627, Domain Loss Source: 0.3027, Domain Loss Target: 0.1843, Adversarial Loss Target: 0.0011\n",
      "Epoch 6, Batch 30/34, Total Loss: 0.5810, Segmentation Loss: 0.0835, Domain Loss Source: 0.2773, Domain Loss Target: 0.2028, Adversarial Loss Target: 0.0011\n",
      "Epoch 6, Train Loss: 1.8111\n",
      "Evaluating model performance on source data\n",
      "Precision: 0.8885, Recall: 0.7067, F1 Score: 0.7858, Dice Score: 0.7858, Accuracy: 0.9335\n",
      "Evaluating model performance on target data\n",
      "Precision: 0.4742, Recall: 0.6804, F1 Score: 0.5518, Dice Score: 0.5518, Accuracy: 0.7820\n",
      "Epoch 6, Validation Loss Source: 0.2695, Validation Loss Target: 1.1120\n",
      "Epoch 7, Batch 5/34, Total Loss: 0.6945, Segmentation Loss: 0.1600, Domain Loss Source: 0.4663, Domain Loss Target: 0.1347, Adversarial Loss Target: 0.0014\n",
      "Epoch 7, Batch 10/34, Total Loss: 0.6278, Segmentation Loss: 0.0893, Domain Loss Source: 0.3857, Domain Loss Target: 0.1469, Adversarial Loss Target: 0.0013\n",
      "Epoch 7, Batch 15/34, Total Loss: 0.6415, Segmentation Loss: 0.0836, Domain Loss Source: 0.3329, Domain Loss Target: 0.1691, Adversarial Loss Target: 0.0012\n",
      "Epoch 7, Batch 20/34, Total Loss: 0.6178, Segmentation Loss: 0.0768, Domain Loss Source: 0.2314, Domain Loss Target: 0.2417, Adversarial Loss Target: 0.0009\n",
      "Epoch 7, Batch 25/34, Total Loss: 0.5680, Segmentation Loss: 0.0578, Domain Loss Source: 0.2548, Domain Loss Target: 0.1918, Adversarial Loss Target: 0.0011\n",
      "Epoch 7, Batch 30/34, Total Loss: 0.5553, Segmentation Loss: 0.0779, Domain Loss Source: 0.2827, Domain Loss Target: 0.1884, Adversarial Loss Target: 0.0012\n",
      "Epoch 7, Train Loss: 1.8124\n",
      "Evaluating model performance on source data\n",
      "Precision: 0.8858, Recall: 0.7139, F1 Score: 0.7892, Dice Score: 0.7892, Accuracy: 0.9341\n",
      "Evaluating model performance on target data\n",
      "Precision: 0.4705, Recall: 0.6863, F1 Score: 0.5511, Dice Score: 0.5511, Accuracy: 0.7794\n",
      "Epoch 7, Validation Loss Source: 0.2773, Validation Loss Target: 1.1727\n",
      "Epoch 8, Batch 5/34, Total Loss: 0.6144, Segmentation Loss: 0.1558, Domain Loss Source: 0.4087, Domain Loss Target: 0.1096, Adversarial Loss Target: 0.0015\n",
      "Epoch 8, Batch 10/34, Total Loss: 0.5753, Segmentation Loss: 0.0828, Domain Loss Source: 0.3803, Domain Loss Target: 0.1383, Adversarial Loss Target: 0.0014\n",
      "Epoch 8, Batch 15/34, Total Loss: 0.5930, Segmentation Loss: 0.0777, Domain Loss Source: 0.1945, Domain Loss Target: 0.2881, Adversarial Loss Target: 0.0009\n",
      "Epoch 8, Batch 20/34, Total Loss: 0.6225, Segmentation Loss: 0.0723, Domain Loss Source: 0.1336, Domain Loss Target: 0.3538, Adversarial Loss Target: 0.0007\n",
      "Epoch 8, Batch 25/34, Total Loss: 0.5782, Segmentation Loss: 0.0545, Domain Loss Source: 0.1679, Domain Loss Target: 0.3700, Adversarial Loss Target: 0.0007\n",
      "Epoch 8, Batch 30/34, Total Loss: 0.6419, Segmentation Loss: 0.0742, Domain Loss Source: 0.2130, Domain Loss Target: 0.3208, Adversarial Loss Target: 0.0008\n",
      "Epoch 8, Train Loss: 1.7870\n",
      "Evaluating model performance on source data\n",
      "Precision: 0.8856, Recall: 0.7170, F1 Score: 0.7909, Dice Score: 0.7909, Accuracy: 0.9346\n",
      "Evaluating model performance on target data\n",
      "Precision: 0.4686, Recall: 0.6956, F1 Score: 0.5524, Dice Score: 0.5524, Accuracy: 0.7770\n",
      "Epoch 8, Validation Loss Source: 0.2868, Validation Loss Target: 1.2194\n",
      "Epoch 9, Batch 5/34, Total Loss: 0.6757, Segmentation Loss: 0.1497, Domain Loss Source: 0.1566, Domain Loss Target: 0.3867, Adversarial Loss Target: 0.0005\n",
      "Epoch 9, Batch 10/34, Total Loss: 0.6312, Segmentation Loss: 0.0782, Domain Loss Source: 0.2405, Domain Loss Target: 0.2605, Adversarial Loss Target: 0.0008\n",
      "Epoch 9, Batch 15/34, Total Loss: 0.6360, Segmentation Loss: 0.0723, Domain Loss Source: 0.3070, Domain Loss Target: 0.2473, Adversarial Loss Target: 0.0010\n",
      "Epoch 9, Batch 20/34, Total Loss: 0.6113, Segmentation Loss: 0.0698, Domain Loss Source: 0.2140, Domain Loss Target: 0.3264, Adversarial Loss Target: 0.0007\n",
      "Epoch 9, Batch 25/34, Total Loss: 0.5576, Segmentation Loss: 0.0516, Domain Loss Source: 0.3048, Domain Loss Target: 0.1858, Adversarial Loss Target: 0.0011\n",
      "Epoch 9, Batch 30/34, Total Loss: 0.5571, Segmentation Loss: 0.0695, Domain Loss Source: 0.2765, Domain Loss Target: 0.1914, Adversarial Loss Target: 0.0012\n",
      "Epoch 9, Train Loss: 1.7938\n",
      "Evaluating model performance on source data\n",
      "Precision: 0.8746, Recall: 0.7315, F1 Score: 0.7953, Dice Score: 0.7953, Accuracy: 0.9349\n",
      "Evaluating model performance on target data\n",
      "Precision: 0.4636, Recall: 0.7127, F1 Score: 0.5551, Dice Score: 0.5551, Accuracy: 0.7733\n",
      "Epoch 9, Validation Loss Source: 0.2934, Validation Loss Target: 1.2606\n",
      "Epoch 10, Batch 5/34, Total Loss: 0.5639, Segmentation Loss: 0.1441, Domain Loss Source: 0.3979, Domain Loss Target: 0.1512, Adversarial Loss Target: 0.0013\n",
      "Epoch 10, Batch 10/34, Total Loss: 0.5923, Segmentation Loss: 0.0762, Domain Loss Source: 0.1243, Domain Loss Target: 0.5616, Adversarial Loss Target: 0.0004\n",
      "Epoch 10, Batch 15/34, Total Loss: 0.6097, Segmentation Loss: 0.0684, Domain Loss Source: 0.4138, Domain Loss Target: 0.1804, Adversarial Loss Target: 0.0012\n",
      "Epoch 10, Batch 20/34, Total Loss: 0.5662, Segmentation Loss: 0.0652, Domain Loss Source: 0.1753, Domain Loss Target: 0.2856, Adversarial Loss Target: 0.0008\n",
      "Epoch 10, Batch 25/34, Total Loss: 0.5776, Segmentation Loss: 0.0495, Domain Loss Source: 0.3864, Domain Loss Target: 0.1082, Adversarial Loss Target: 0.0017\n",
      "Epoch 10, Batch 30/34, Total Loss: 0.5642, Segmentation Loss: 0.0674, Domain Loss Source: 0.2586, Domain Loss Target: 0.2290, Adversarial Loss Target: 0.0010\n",
      "Epoch 10, Train Loss: 1.6771\n",
      "Evaluating model performance on source data\n",
      "Precision: 0.8729, Recall: 0.7408, F1 Score: 0.8001, Dice Score: 0.8001, Accuracy: 0.9360\n",
      "Evaluating model performance on target data\n",
      "Precision: 0.4745, Recall: 0.6805, F1 Score: 0.5523, Dice Score: 0.5523, Accuracy: 0.7825\n",
      "Epoch 10, Validation Loss Source: 0.2972, Validation Loss Target: 1.2639\n",
      "Precision: 0.4636, Recall: 0.7127, F1 Score: 0.5551, Dice Score: 0.5551, Accuracy: 0.7733\n"
     ]
    },
    {
     "data": {
      "application/vnd.jupyter.widget-view+json": {
       "model_id": "33641f2164d743f7b4c1a37a5124e624",
       "version_major": 2,
       "version_minor": 0
      },
      "text/plain": [
       "VBox(children=(Label(value='3142.925 MB of 3142.925 MB uploaded\\r'), FloatProgress(value=1.0, max=1.0)))"
      ]
     },
     "metadata": {},
     "output_type": "display_data"
    },
    {
     "data": {
      "text/html": [
       "<style>\n",
       "    table.wandb td:nth-child(1) { padding: 0 10px; text-align: left ; width: auto;} td:nth-child(2) {text-align: left ; width: 100%}\n",
       "    .wandb-row { display: flex; flex-direction: row; flex-wrap: wrap; justify-content: flex-start; width: 100% }\n",
       "    .wandb-col { display: flex; flex-direction: column; flex-basis: 100%; flex: 1; padding: 10px; }\n",
       "    </style>\n",
       "<div class=\"wandb-row\"><div class=\"wandb-col\"><h3>Run history:</h3><br/><table class=\"wandb\"><tr><td>dice_score/source</td><td>▁▅▆▇▆▇▇▇██</td></tr><tr><td>dice_score/target</td><td>▁▃▅▆▇▇▇▇█▇</td></tr><tr><td>epoch</td><td>▁▂▃▃▄▅▆▆▇█</td></tr><tr><td>precision/source</td><td>█▂▃▃▃▃▃▃▁▁</td></tr><tr><td>precision/target</td><td>█▄▄▃▄▂▂▂▁▂</td></tr><tr><td>test/accuracy</td><td>▁</td></tr><tr><td>test/dice_score</td><td>▁</td></tr><tr><td>test/f1_score</td><td>▁</td></tr><tr><td>test/precision</td><td>▁</td></tr><tr><td>test/recall</td><td>▁</td></tr><tr><td>train/domain_loss</td><td>█▂▁▁▁▁▁▁▁▁</td></tr><tr><td>train/loss</td><td>█▂▂▂▂▁▁▁▁▁</td></tr><tr><td>val/loss_source</td><td>▆▁▃▁▄▄▅▇▇█</td></tr><tr><td>val/loss_target</td><td>▁▄▄▄▄▆▇▇██</td></tr></table><br/></div><div class=\"wandb-col\"><h3>Run summary:</h3><br/><table class=\"wandb\"><tr><td>dice_score/source</td><td>0.80011</td></tr><tr><td>dice_score/target</td><td>0.55234</td></tr><tr><td>epoch</td><td>10</td></tr><tr><td>precision/source</td><td>0.87293</td></tr><tr><td>precision/target</td><td>0.47449</td></tr><tr><td>test/accuracy</td><td>0.77335</td></tr><tr><td>test/dice_score</td><td>0.55514</td></tr><tr><td>test/f1_score</td><td>0.55514</td></tr><tr><td>test/precision</td><td>0.46362</td></tr><tr><td>test/recall</td><td>0.71265</td></tr><tr><td>train/domain_loss</td><td>0.51002</td></tr><tr><td>train/loss</td><td>1.67708</td></tr><tr><td>val/loss_source</td><td>0.2972</td></tr><tr><td>val/loss_target</td><td>1.26391</td></tr></table><br/></div></div>"
      ],
      "text/plain": [
       "<IPython.core.display.HTML object>"
      ]
     },
     "metadata": {},
     "output_type": "display_data"
    },
    {
     "data": {
      "text/html": [
       " View run <strong style=\"color:#cdcd00\">FADA-Linknet-timm-regnetx_320-gcr_comic-sweep_pretrained-augmented_target-random_crops_bloodvessel_ratio01-unsupervised</strong> at: <a href='https://wandb.ai/idp2024/domain-adaptation/runs/9ebzcxi7' target=\"_blank\">https://wandb.ai/idp2024/domain-adaptation/runs/9ebzcxi7</a><br/> View project at: <a href='https://wandb.ai/idp2024/domain-adaptation' target=\"_blank\">https://wandb.ai/idp2024/domain-adaptation</a><br/>Synced 5 W&B file(s), 180 media file(s), 7 artifact file(s) and 0 other file(s)"
      ],
      "text/plain": [
       "<IPython.core.display.HTML object>"
      ]
     },
     "metadata": {},
     "output_type": "display_data"
    },
    {
     "data": {
      "text/html": [
       "Find logs at: <code>./wandb/run-20250115_115413-9ebzcxi7/logs</code>"
      ],
      "text/plain": [
       "<IPython.core.display.HTML object>"
      ]
     },
     "metadata": {},
     "output_type": "display_data"
    },
    {
     "data": {
      "image/png": "[encoded data removed]",
      "text/plain": [
       "<Figure size 1000x600 with 1 Axes>"
      ]
     },
     "metadata": {},
     "output_type": "display_data"
    }
   ],
   "source": [
    "import matplotlib.pyplot as plt\n",
    "from FADA.train_FADA_unsupervised import model_pipeline\n",
    "import torch\n",
    "from dataset import build_hsi_dataloader, build_hsi_testloader, build_FIVES_random_crops_dataloaders\n",
    "\n",
    "trainloader_source, validationloader_source, testloader_source = (\n",
    "    build_FIVES_random_crops_dataloaders(\n",
    "        batch_size=16,\n",
    "        num_channels=3,\n",
    "        load_from_path='data/FIVES_random_crops_threshold01'\n",
    "    )\n",
    ")\n",
    "\n",
    "trainloader_hsi = build_hsi_dataloader(\n",
    "    batch_size=8,\n",
    "    train_split=1,\n",
    "    val_split=0,\n",
    "    test_split=0,\n",
    "    exclude_labeled_data=True,\n",
    "    augmented=True,\n",
    ")[0]\n",
    "\n",
    "testloader_hsi = build_hsi_testloader()\n",
    "\n",
    "encoder = \"timm-regnetx_320\"\n",
    "architecture = \"Linknet\"\n",
    "device = torch.device(\"cuda:2\" if torch.cuda.is_available() else \"cpu\")\n",
    "epochs = 10\n",
    "loss = \"BCE\"\n",
    "in_channels = 3\n",
    "ndf = 512\n",
    "learning_rate_fea = 0.007053148664641283\n",
    "learning_rate_cls = 0.0014884108364363155\n",
    "learning_rate_dis = 0.00043925067706149473\n",
    "\n",
    "config = {\n",
    "    \"model\": \"FADA-{architecture}-{encoder}-gcr_comic-sweep_pretrained-augmented_target-random_crops_bloodvessel_ratio01-unsupervised\".format(\n",
    "        architecture=architecture, encoder=encoder\n",
    "    ),\n",
    "    \"encoder\": encoder,\n",
    "    \"architecture\": architecture,\n",
    "    \"in_channels\": in_channels,\n",
    "    \"optimizer\": \"Adam\",\n",
    "    \"batch_size_source\": trainloader_source.batch_size,\n",
    "    \"batch_size_target\": trainloader_hsi.batch_size,\n",
    "    \"learning_rate_fea\": learning_rate_fea,\n",
    "    \"learning_rate_cls\": learning_rate_cls,\n",
    "    \"learning_rate_dis\": learning_rate_dis,\n",
    "    \"ndf\": ndf,\n",
    "    \"epochs\": epochs,\n",
    "    \"seg_loss\": loss,\n",
    "    \"pretrained\": \"./models/serene-sweep-9.pth\",\n",
    "    \"target_augmented\": True,\n",
    "    \"gaussian\": 'models/gcr_comic-sweep.pth',\n",
    "    \"mu_gaussian\": [334.19, 266.26, 131.40],\n",
    "    \"sigma_gaussian\": [2.92, 2.02, 2.00],\n",
    "}\n",
    "\n",
    "model, train_losses, domain_losses, val_losses_source, val_losses_target = (\n",
    "    model_pipeline(\n",
    "        trainloader_source,\n",
    "        validationloader_source,\n",
    "        testloader_source,\n",
    "        trainloader_hsi,\n",
    "        testloader_hsi,\n",
    "        config,\n",
    "        project=\"domain-adaptation\",\n",
    "        device=device,\n",
    "        batch_print=5,\n",
    "        evaluate=True,\n",
    "        with_overlays=True,\n",
    "    )\n",
    ")\n",
    "\n",
    "plt.figure(figsize=(10, 6))\n",
    "plt.plot(train_losses, label=\"Combined Training Loss\")\n",
    "plt.plot(domain_losses, label=\"Domain Loss\")\n",
    "plt.plot(val_losses_source, label=\"Validation Loss Source\")\n",
    "plt.plot(val_losses_target, label=\"Validation Loss Target\")\n",
    "plt.xlabel(\"Epochs\")\n",
    "plt.ylabel(\"Loss\")\n",
    "plt.title(\"Training and Validation Loss Curves\")\n",
    "plt.legend()\n",
    "plt.show()"
   ]
  },
  {
   "cell_type": "markdown",
   "metadata": {},
   "source": [
    "### Conv Autoencoder"
   ]
  },
  {
   "cell_type": "markdown",
   "metadata": {},
   "source": [
    "#### Training"
   ]
  },
  {
   "cell_type": "code",
   "execution_count": 1,
   "metadata": {},
   "outputs": [
    {
     "name": "stderr",
     "output_type": "stream",
     "text": [
      "Failed to detect the name of this notebook, you can set it manually with the WANDB_NOTEBOOK_NAME environment variable to enable code saving.\n",
      "\u001b[34m\u001b[1mwandb\u001b[0m: Currently logged in as: \u001b[33mtim-mach\u001b[0m (\u001b[33midp2024\u001b[0m). Use \u001b[1m`wandb login --relogin`\u001b[0m to force relogin\n"
     ]
    },
    {
     "data": {
      "text/html": [
       "wandb version 0.19.1 is available!  To upgrade, please run:\n",
       " $ pip install wandb --upgrade"
      ],
      "text/plain": [
       "<IPython.core.display.HTML object>"
      ]
     },
     "metadata": {},
     "output_type": "display_data"
    },
    {
     "data": {
      "text/html": [
       "Tracking run with wandb version 0.16.6"
      ],
      "text/plain": [
       "<IPython.core.display.HTML object>"
      ]
     },
     "metadata": {},
     "output_type": "display_data"
    },
    {
     "data": {
      "text/html": [
       "Run data is saved locally in <code>/home/home/tim_ivan/idp/wandb/run-20250106_183404-fe2610p1</code>"
      ],
      "text/plain": [
       "<IPython.core.display.HTML object>"
      ]
     },
     "metadata": {},
     "output_type": "display_data"
    },
    {
     "data": {
      "text/html": [
       "Syncing run <strong><a href='https://wandb.ai/idp2024/hsi-autoencoder/runs/fe2610p1' target=\"_blank\">convReducer</a></strong> to <a href='https://wandb.ai/idp2024/hsi-autoencoder' target=\"_blank\">Weights & Biases</a> (<a href='https://wandb.me/run' target=\"_blank\">docs</a>)<br/>"
      ],
      "text/plain": [
       "<IPython.core.display.HTML object>"
      ]
     },
     "metadata": {},
     "output_type": "display_data"
    },
    {
     "data": {
      "text/html": [
       " View project at <a href='https://wandb.ai/idp2024/hsi-autoencoder' target=\"_blank\">https://wandb.ai/idp2024/hsi-autoencoder</a>"
      ],
      "text/plain": [
       "<IPython.core.display.HTML object>"
      ]
     },
     "metadata": {},
     "output_type": "display_data"
    },
    {
     "data": {
      "text/html": [
       " View run at <a href='https://wandb.ai/idp2024/hsi-autoencoder/runs/fe2610p1' target=\"_blank\">https://wandb.ai/idp2024/hsi-autoencoder/runs/fe2610p1</a>"
      ],
      "text/plain": [
       "<IPython.core.display.HTML object>"
      ]
     },
     "metadata": {},
     "output_type": "display_data"
    },
    {
     "name": "stdout",
     "output_type": "stream",
     "text": [
      "Epoch 1, Batch 5, Loss: 0.3534\n",
      "Epoch 1, Train Loss: 0.3321\n",
      "Epoch 1, Validation Loss: 0.5521\n",
      "Epoch 2, Batch 5, Loss: 68.4464\n",
      "Epoch 2, Train Loss: 38.1581\n",
      "Epoch 2, Validation Loss: 0.5897\n",
      "Epoch 3, Batch 5, Loss: 0.2826\n",
      "Epoch 3, Train Loss: 0.3083\n",
      "Epoch 3, Validation Loss: 0.5497\n",
      "Epoch 4, Batch 5, Loss: 9.5290\n",
      "Epoch 4, Train Loss: 5.4296\n",
      "Epoch 4, Validation Loss: 0.5457\n",
      "Epoch 5, Batch 5, Loss: 2.1078\n",
      "Epoch 5, Train Loss: 1.2938\n",
      "Epoch 5, Validation Loss: 0.5238\n",
      "Epoch 6, Batch 5, Loss: 0.2620\n",
      "Epoch 6, Train Loss: 0.2701\n",
      "Epoch 6, Validation Loss: 0.5040\n",
      "Epoch 7, Batch 5, Loss: 0.2863\n",
      "Epoch 7, Train Loss: 0.2679\n",
      "Epoch 7, Validation Loss: 0.4993\n",
      "Epoch 8, Batch 5, Loss: 56.5798\n",
      "Epoch 8, Train Loss: 31.5554\n",
      "Epoch 8, Validation Loss: 0.6629\n",
      "Epoch 9, Batch 5, Loss: 0.3270\n",
      "Epoch 9, Train Loss: 0.3380\n",
      "Epoch 9, Validation Loss: 0.6395\n",
      "Epoch 10, Batch 5, Loss: 0.2751\n",
      "Epoch 10, Train Loss: 0.2847\n",
      "Epoch 10, Validation Loss: 0.5216\n"
     ]
    },
    {
     "data": {
      "application/vnd.jupyter.widget-view+json": {
       "model_id": "45a72ff9aec04e9babc3b936d90d0a44",
       "version_major": 2,
       "version_minor": 0
      },
      "text/plain": [
       "VBox(children=(Label(value='0.864 MB of 0.864 MB uploaded\\r'), FloatProgress(value=1.0, max=1.0)))"
      ]
     },
     "metadata": {},
     "output_type": "display_data"
    },
    {
     "data": {
      "text/html": [
       "<style>\n",
       "    table.wandb td:nth-child(1) { padding: 0 10px; text-align: left ; width: auto;} td:nth-child(2) {text-align: left ; width: 100%}\n",
       "    .wandb-row { display: flex; flex-direction: row; flex-wrap: wrap; justify-content: flex-start; width: 100% }\n",
       "    .wandb-col { display: flex; flex-direction: column; flex-basis: 100%; flex: 1; padding: 10px; }\n",
       "    </style>\n",
       "<div class=\"wandb-row\"><div class=\"wandb-col\"><h3>Run history:</h3><br/><table class=\"wandb\"><tr><td>epoch</td><td>▁▂▃▃▄▅▆▆▇█</td></tr><tr><td>train/loss</td><td>▁█▁▂▁▁▁▇▁▁</td></tr><tr><td>validation/loss</td><td>▃▅▃▃▂▁▁█▇▂</td></tr></table><br/></div><div class=\"wandb-col\"><h3>Run summary:</h3><br/><table class=\"wandb\"><tr><td>epoch</td><td>10</td></tr><tr><td>train/loss</td><td>0.28467</td></tr><tr><td>validation/loss</td><td>0.52159</td></tr></table><br/></div></div>"
      ],
      "text/plain": [
       "<IPython.core.display.HTML object>"
      ]
     },
     "metadata": {},
     "output_type": "display_data"
    },
    {
     "data": {
      "text/html": [
       " View run <strong style=\"color:#cdcd00\">convReducer</strong> at: <a href='https://wandb.ai/idp2024/hsi-autoencoder/runs/fe2610p1' target=\"_blank\">https://wandb.ai/idp2024/hsi-autoencoder/runs/fe2610p1</a><br/> View project at: <a href='https://wandb.ai/idp2024/hsi-autoencoder' target=\"_blank\">https://wandb.ai/idp2024/hsi-autoencoder</a><br/>Synced 5 W&B file(s), 10 media file(s), 6 artifact file(s) and 0 other file(s)"
      ],
      "text/plain": [
       "<IPython.core.display.HTML object>"
      ]
     },
     "metadata": {},
     "output_type": "display_data"
    },
    {
     "data": {
      "text/html": [
       "Find logs at: <code>./wandb/run-20250106_183404-fe2610p1/logs</code>"
      ],
      "text/plain": [
       "<IPython.core.display.HTML object>"
      ]
     },
     "metadata": {},
     "output_type": "display_data"
    },
    {
     "data": {
      "text/plain": [
       "(ConvAutoEncoder(\n",
       "   (encoder): ConvReducer(\n",
       "     (conv1x1): Conv2d(826, 3, kernel_size=(1, 1), stride=(1, 1))\n",
       "   )\n",
       "   (decoder): Sequential(\n",
       "     (0): Conv2d(3, 826, kernel_size=(1, 1), stride=(1, 1))\n",
       "   )\n",
       " ),\n",
       " [0.33212346500820583,\n",
       "  38.15814441608058,\n",
       "  0.3083326352967156,\n",
       "  5.429602690868908,\n",
       "  1.2937968108389113,\n",
       "  0.27008532815509373,\n",
       "  0.26786717110209995,\n",
       "  31.555382001731132,\n",
       "  0.33804674943288165,\n",
       "  0.2846721609433492],\n",
       " [0.5520845353603363,\n",
       "  0.5896639406681061,\n",
       "  0.5497033417224884,\n",
       "  0.5457060217857361,\n",
       "  0.5238021850585938,\n",
       "  0.5040395379066467,\n",
       "  0.49933808743953706,\n",
       "  0.6628828555345535,\n",
       "  0.6394935458898544,\n",
       "  0.5215946286916733])"
      ]
     },
     "execution_count": 1,
     "metadata": {},
     "output_type": "execute_result"
    }
   ],
   "source": [
    "from dataset import build_hsi_dataloader, HSIDataset, build_hsi_testloader\n",
    "from dimensionality_reduction.autoencoder import (\n",
    "    ConvAutoEncoder,\n",
    "    model_pipeline_autoencoder,\n",
    ")\n",
    "import torch\n",
    "from torch.utils.data import DataLoader\n",
    "\n",
    "trainloader_hsi = build_hsi_dataloader(\n",
    "    batch_size=8,\n",
    "    train_split=1,\n",
    "    val_split=0,\n",
    "    test_split=0,\n",
    "    exclude_labeled_data=True,\n",
    "    augmented=True,\n",
    ")[0]\n",
    "\n",
    "testloader_hsi = build_hsi_testloader()\n",
    "\n",
    "lr = 0.001\n",
    "gaussian = ConvAutoEncoder()\n",
    "device = torch.device(\"cuda:2\" if torch.cuda.is_available() else \"cpu\")\n",
    "criterion = torch.nn.MSELoss()\n",
    "optimizer = torch.optim.Adam(gaussian.parameters(), lr=lr)\n",
    "\n",
    "\n",
    "config = {\n",
    "    \"model\": \"convReducer\",\n",
    "    \"optimizer\": \"Adam\",\n",
    "    \"learning_rate\": lr,\n",
    "    \"batch_size\": trainloader_hsi.batch_size,\n",
    "    \"epochs\": 10,\n",
    "}\n",
    "\n",
    "model_pipeline_autoencoder(\n",
    "    gaussian,\n",
    "    trainloader_hsi,\n",
    "    testloader_hsi,\n",
    "    criterion,\n",
    "    optimizer,\n",
    "    config,\n",
    "    project=\"hsi-autoencoder\",\n",
    "    device=device,\n",
    "    model_name=\"convReducer\",\n",
    "    batch_print=5,\n",
    ")"
   ]
  }
 ],
 "metadata": {
  "kernelspec": {
   "display_name": ".venv",
   "language": "python",
   "name": "python3"
  },
  "language_info": {
   "codemirror_mode": {
    "name": "ipython",
    "version": 3
   },
   "file_extension": ".py",
   "mimetype": "text/x-python",
   "name": "python",
   "nbconvert_exporter": "python",
   "pygments_lexer": "ipython3",
   "version": "2.7.18"
  }
 },
 "nbformat": 4,
 "nbformat_minor": 2
}
